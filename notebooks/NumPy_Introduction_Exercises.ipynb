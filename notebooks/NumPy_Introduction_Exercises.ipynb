{
 "cells": [
  {
   "cell_type": "code",
   "execution_count": 9,
   "metadata": {
    "collapsed": true
   },
   "outputs": [],
   "source": [
    "import numpy as np"
   ]
  },
  {
   "cell_type": "code",
   "execution_count": 1,
   "metadata": {
    "collapsed": true
   },
   "outputs": [],
   "source": [
    "# Manually create the following array a: [0, 1, 2, 3]\n",
    "\n",
    "# Print the array\n",
    "\n",
    "\n",
    "# Print the number of array dimensions of the array\n",
    "\n",
    "\n",
    "#  Print the current shape of the array\n",
    "\n"
   ]
  },
  {
   "cell_type": "code",
   "execution_count": 2,
   "metadata": {
    "collapsed": true
   },
   "outputs": [],
   "source": [
    "# Manually create the following array b: ([0, 1, 2], [3, 4, 5])\n",
    "\n",
    "\n",
    "# Print the array\n",
    "\n",
    "\n",
    "# What is the number of array dimensions of the array\n",
    "\n",
    "\n",
    "# What is the current shape of the array\n",
    "\n"
   ]
  },
  {
   "cell_type": "code",
   "execution_count": 3,
   "metadata": {
    "collapsed": true
   },
   "outputs": [],
   "source": [
    "# In practice, we rarely enter items one by one\n",
    "# Create the following array a: ([0, 1, 2, 3, 4, 5, 6, 7, 8, 9])\n",
    "\n",
    "\n",
    "# Print the array\n",
    "\n",
    "\n",
    "# Create the following array b: ([1, 3, 5, 7])\n",
    "\n",
    "\n",
    "# Print the array\n"
   ]
  },
  {
   "cell_type": "code",
   "execution_count": 4,
   "metadata": {
    "collapsed": true
   },
   "outputs": [],
   "source": [
    "# Common arrays\n",
    "# Create the following array a \n",
    "# [[ 1.  1.  1.]\n",
    "# [ 1.  1.  1.]\n",
    "# [ 1.  1.  1.]]\n",
    "\n",
    "\n",
    "# Print the array\n",
    "\n",
    "\n",
    "# Create the following array b\n",
    "# [[ 0.  0.]\n",
    "# [ 0.  0.]]\n",
    "\n",
    "\n",
    "# Print the array\n",
    "\n",
    "\n",
    "# Create the following array c\n",
    "# [[ 1.  0.  0.]\n",
    "# [ 0.  1.  0.]\n",
    "# [ 0.  0.  1.]]\n",
    "\n",
    "\n",
    "# Print the array\n",
    "\n",
    "\n",
    "# Create the following array d (random numbers)\n",
    "# [ 0.60733288  0.03138041  0.41180997  0.44638799]\n",
    "\n",
    "\n",
    "# Print the array\n",
    "\n"
   ]
  },
  {
   "cell_type": "code",
   "execution_count": 5,
   "metadata": {
    "collapsed": true
   },
   "outputs": [],
   "source": [
    "# In some instances, array elements are displayed with a trailing dot (e.g. 2. vs 2)\n",
    "# This is due to a difference in the data-type used\n",
    "# Create the array a: ([1, 2, 3])\n",
    "\n",
    "\n",
    "# Print the datatype\n",
    "\n",
    "\n",
    "# Create the array b: ([1., 2., 3.])\n",
    "\n",
    "\n",
    "# Print the datatype\n",
    "\n"
   ]
  },
  {
   "cell_type": "code",
   "execution_count": 6,
   "metadata": {
    "collapsed": true
   },
   "outputs": [],
   "source": [
    "# Create the array a: ([1, 2, 3]). Specify the data-type as float\n",
    "\n",
    "\n",
    "# Print the array\n",
    "\n",
    "\n",
    "# Print the datatype\n",
    "\n"
   ]
  },
  {
   "cell_type": "code",
   "execution_count": 7,
   "metadata": {
    "collapsed": true
   },
   "outputs": [],
   "source": [
    "# Create the array 3 x 3 unity matrix a. What is the default data-type\n",
    "\n",
    "\n",
    "# Print the array\n",
    "\n",
    "\n",
    "# Print the datatype\n",
    "\n"
   ]
  },
  {
   "cell_type": "code",
   "execution_count": 8,
   "metadata": {
    "collapsed": true
   },
   "outputs": [],
   "source": [
    "# Create the array a: ([True, False, False, True]).\n",
    "\n",
    "\n",
    "# Print the array\n",
    "\n",
    "\n",
    "# Print the datatype\n",
    "\n"
   ]
  },
  {
   "cell_type": "code",
   "execution_count": 9,
   "metadata": {
    "collapsed": true
   },
   "outputs": [],
   "source": [
    "# Create the array a: (['Bonjour', 'Hello', 'Hallo']).\n",
    "\n",
    "\n",
    "# Print the array\n",
    "\n",
    "\n",
    "# Print the datatype\n",
    "\n"
   ]
  },
  {
   "cell_type": "code",
   "execution_count": 10,
   "metadata": {
    "collapsed": true
   },
   "outputs": [],
   "source": [
    "# Indexing and slicing\n",
    "# Create the array a: ([0 1 2 3 4 5 6 7 8 9])\n",
    "\n",
    "\n",
    "# Print the array\n",
    "\n",
    "\n",
    "# Print the element with index 0, 2, -1\n",
    "\n",
    "\n",
    "# Print the reverse of array a\n",
    "\n"
   ]
  },
  {
   "cell_type": "code",
   "execution_count": 12,
   "metadata": {
    "collapsed": true
   },
   "outputs": [],
   "source": [
    "# For multidimensional arrays, indexes are tuples of integers:\n",
    "# Create the array a\n",
    "\n",
    "\n",
    "# Print the array\n",
    "\n",
    "\n",
    "# Print the value of the second line, second column\n",
    "\n",
    "\n",
    "# Change the value of the third line, second column to 10\n",
    "\n",
    "\n",
    "# Print the array\n",
    "\n",
    "\n",
    "# Print the second row of the array\n",
    "\n"
   ]
  },
  {
   "cell_type": "code",
   "execution_count": 11,
   "metadata": {
    "collapsed": true
   },
   "outputs": [],
   "source": [
    "# Create the array a: ([0 1 2 3 4 5 6 7 8 9])\n",
    "\n",
    "\n",
    "# Print the array\n",
    "\n",
    "\n",
    "# Print the first 4 elements. Use slicing\n",
    "\n",
    "\n",
    "# Print [2, 5, 8]. Use slicing [start:end:step]\n",
    "\n",
    "\n",
    "# All three slice components are not required: by default, start is 0, end is the last and step is 1\n",
    "# Print ([1, 2]). Use slicing\n",
    "\n",
    "\n",
    "# Print ([0, 2, 4, 6, 8]). Use slicing\n",
    "\n",
    "\n",
    "# Print ([3, 4, 5, 6, 7, 8, 9]). Use slicing\n",
    "\n"
   ]
  },
  {
   "cell_type": "code",
   "execution_count": 14,
   "metadata": {
    "collapsed": true
   },
   "outputs": [],
   "source": [
    "# You can also combine assignment and slicing\n",
    "# Create the array a: ([0 1 2 3 4 5 6 7 8 9])\n",
    "\n",
    "\n",
    "# Print the array\n",
    "\n",
    "\n",
    "# Change the array a to ([0 1 2 3 4 10 10 10 10 10]). Use slicing\n",
    "\n",
    "\n",
    "# Print the array\n",
    "\n"
   ]
  },
  {
   "cell_type": "code",
   "execution_count": 15,
   "metadata": {
    "collapsed": true
   },
   "outputs": [],
   "source": [
    "# Create the array a\n",
    "# [[ 0  1  2  3  4  5]\n",
    "# [10 11 12 13 14 15]\n",
    "# [20 21 22 23 24 25]\n",
    "# [30 31 32 33 34 35]\n",
    "# [40 41 42 43 44 45]\n",
    "# [50 51 52 53 54 55]]\n",
    "\n",
    "\n",
    "# Print the array\n",
    "\n"
   ]
  },
  {
   "cell_type": "code",
   "execution_count": 16,
   "metadata": {
    "collapsed": true
   },
   "outputs": [],
   "source": [
    "# Create the following array (with correct data type)\n",
    "# [[1 1 1 1]\n",
    "# [1 1 1 1]\n",
    "# [1 1 1 2]\n",
    "# [1 6 1 1]]\n",
    "\n",
    "\n",
    "# Print the array\n"
   ]
  },
  {
   "cell_type": "code",
   "execution_count": 17,
   "metadata": {
    "collapsed": true
   },
   "outputs": [],
   "source": [
    "# Create the following array\n",
    "# [[2 0 0 0 0]\n",
    "# [0 3 0 0 0]\n",
    "# [0 0 4 0 0]\n",
    "# [0 0 0 5 0]\n",
    "# [0 0 0 0 6]]\n",
    "\n",
    "\n",
    "# Print the array\n"
   ]
  },
  {
   "cell_type": "code",
   "execution_count": 18,
   "metadata": {
    "collapsed": true
   },
   "outputs": [],
   "source": [
    "# Copies and views\n",
    "# Create the array a: ([0 1 2 3 4 5 6 7 8 9])\n",
    "\n",
    "\n",
    "# Print the array a\n",
    "\n",
    "\n",
    "# Copy the even numbers into an array b\n",
    "\n",
    "\n",
    "# Print the array b\n",
    "\n",
    "\n",
    "# replace value 0 in array b by 12\n",
    "\n",
    "\n",
    "# Print the arrays b en a\n",
    "\n",
    "\n",
    "# Create the array a: ([0 1 2 3 4 5 6 7 8 9])\n",
    "\n",
    "\n",
    "# Print the array a\n",
    "\n",
    "\n",
    "# force a copy of the even numbers into an array c. Use .copy()\n",
    "\n",
    "\n",
    "# replace value 0 in array c by 12\n",
    "\n",
    "\n",
    "# Print the array c en a\n"
   ]
  },
  {
   "cell_type": "code",
   "execution_count": 19,
   "metadata": {
    "collapsed": true
   },
   "outputs": [],
   "source": [
    "# Create the array a: ([0 10 20 30 40 50 60 70 80 90])\n",
    "\n",
    "\n",
    "# Print the array a\n",
    "\n",
    "\n",
    "# Use an array of integers for indexing, to get the array [20, 30, 20, 40, 20]\n",
    "\n",
    "\n",
    "# Use an array of integers for indexing, to replace 70 and 90 by -100\n",
    "\n",
    "\n",
    "# Print the array a\n"
   ]
  },
  {
   "cell_type": "code",
   "execution_count": 21,
   "metadata": {
    "collapsed": true
   },
   "outputs": [],
   "source": [
    "# Create the array a: ([1 2 3 4])\n",
    "\n",
    "\n",
    "# Print the array a\n",
    "\n",
    "\n",
    "# Print the array [2 3 4 5] based on the array a\n",
    "\n",
    "\n",
    "# Print the array [ 2  4  8 16] based on the array a\n",
    "\n",
    "\n",
    "# Create the array b [1 1 1 1]\n",
    "\n",
    "# Print the array b\n",
    "\n",
    "\n",
    "# Add 1 to each element of the array b\n",
    "\n",
    "\n",
    "# Print the array b\n",
    "\n",
    "\n",
    "# Subtract b from a. Print the result\n",
    "\n",
    "\n",
    "# Multiply a and b. Print the result\n",
    "\n",
    "\n",
    "# Create the array c \n",
    "# [[1 1 1],\n",
    "# [1 1 1],\n",
    "# [1 1 1]]\n",
    "\n",
    "\n",
    "# Print the array c\n",
    "\n",
    "\n",
    "# Print the result of c * c\n",
    "\n",
    "\n",
    "# Print the result of c @ c\n",
    "\n"
   ]
  },
  {
   "cell_type": "code",
   "execution_count": 20,
   "metadata": {
    "collapsed": true
   },
   "outputs": [],
   "source": [
    "# Create the array a: ([1 2 3 4 5 6 7 8 9])\n",
    "\n",
    "\n",
    "# Print the array a\n",
    "\n",
    "\n",
    "# Print the sum of all elements of a\n",
    "\n",
    "\n",
    "# Print the min and max of all elements of a\n",
    "\n",
    "\n",
    "\n",
    "# Transform the array to a 3 x 3 matrix\n",
    "\n",
    "\n",
    "# Print the array a\n",
    "\n",
    "\n",
    "# Print the sum along axis = 0\n",
    "\n",
    "\n",
    "# Print the sum along axis = 1\n",
    "\n",
    "\n",
    "# Print the max along axis = 1\n",
    "\n",
    "\n",
    "# Transpose the matrix a\n",
    "\n",
    "\n",
    "# Flatten the matrix a\n",
    "\n"
   ]
  },
  {
   "cell_type": "code",
   "execution_count": null,
   "metadata": {
    "collapsed": true
   },
   "outputs": [],
   "source": [
    "# Create the array a: ([0 1 2 3 4 5 6 7 8 9])\n",
    "\n",
    "\n",
    "# Print the array a\n",
    "\n",
    "\n",
    "# Change the array a: ([0 1 2 3 4 50 60 70 80 90]) to using where\n",
    "\n",
    "\n",
    "# Print the array a\n",
    "\n"
   ]
  }
 ],
 "metadata": {
  "kernelspec": {
   "display_name": "Python 3",
   "language": "python",
   "name": "python3"
  },
  "language_info": {
   "codemirror_mode": {
    "name": "ipython",
    "version": 3
   },
   "file_extension": ".py",
   "mimetype": "text/x-python",
   "name": "python",
   "nbconvert_exporter": "python",
   "pygments_lexer": "ipython3",
   "version": "3.6.4"
  }
 },
 "nbformat": 4,
 "nbformat_minor": 2
}
