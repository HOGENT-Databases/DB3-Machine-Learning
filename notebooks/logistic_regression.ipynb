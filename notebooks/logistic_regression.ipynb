{
 "cells": [
  {
   "cell_type": "markdown",
   "metadata": {},
   "source": [
    "## Logistic Regression\n",
    "**Logistic regression** is (another) classification technique in which essentially a (linear or nonlinear) decision boundary is determined. Suppose we have two attributes _Income_ and _Age_ and want to predict whether or not a customer will respond to an advertisement. This is a binary classification problem with two input variables. Logistic Regression will determine a decision boundary as in the figure below (Lemahieu, Vanden Broucke, & Baesens, 2018). (Income, Age) combinations below the line are then estimated as N (does not respond) and vice versa.  \n",
    "  \n",
    "![](images/logistic_regression.png)\n",
    "  \n",
    "In the above example we have to determine a line with the equation  \n",
    "\n",
    "$\\theta_0+\\theta_1Income+\\theta_2Age=0$\n",
    "  \n",
    "which separates “ as much as possible” the points with response = N (below the line) from the points with response = Y (above the line). "
   ]
  },
  {
   "cell_type": "code",
   "execution_count": null,
   "metadata": {},
   "outputs": [],
   "source": []
  }
 ],
 "metadata": {
  "kernelspec": {
   "display_name": "Python 3",
   "language": "python",
   "name": "python3"
  },
  "language_info": {
   "codemirror_mode": {
    "name": "ipython",
    "version": 3
   },
   "file_extension": ".py",
   "mimetype": "text/x-python",
   "name": "python",
   "nbconvert_exporter": "python",
   "pygments_lexer": "ipython3",
   "version": "3.7.6"
  }
 },
 "nbformat": 4,
 "nbformat_minor": 4
}
