{
 "cells": [
  {
   "cell_type": "markdown",
   "metadata": {},
   "source": [
    "## Polynomial Regression\n",
    "A regression equation is a polynomial regression equation if the power of an independent variable is more than 1. The equation below represents a polynomial equation:\n",
    "\\begin{equation}\n",
    "y=\\ a+b\\ast x+\\ c\\ast x²\n",
    "\\end{equation}\n",
    "In this regression technique, the best fit line is not a straight line. It is rather a curve that fits into the data points.\n",
    "This is still considered to be linear model as the coefficients/weights associated with the features are still linear. x² is only a feature. However the curve that we are fitting is quadratic in nature.\n",
    "\n",
    "![](images/quadratic.png)"
   ]
  },
  {
   "cell_type": "markdown",
   "metadata": {},
   "source": [
    "### Overfitting/Underfitting\n",
    "* Common problems that prevent accurate predictions\n",
    "* When creating a model, key goal is **making accurate predictions** for **data it has not yet seen** \n",
    "* **Underfitting** occurs when a **model is too simple to make predictions**, based on its training data\n",
    "    * You may use a **linear model**, such as **simple linear regression**, when problem really requires a **non-linear model**\n",
    "* **Overfitting** occurs when your **model is too complex**\n",
    "    * **Most extreme case** would be a **model that memorizes its training data**\n",
    "    * New data that **matches the training data** will produce **perfect predictions**, but the model will not know what to do with data it has never seen.\n",
    "    \n",
    "![](images/overfitting.png)\n",
    "\n",
    "(see https://medium.com/greyatom/what-is-underfitting-and-overfitting-in-machine-learning-and-how-to-deal-with-it-6803a989c76)  \n",
    "  \n",
    "Especially look out for curve towards the ends and see whether those shapes and trends make sense. Higher polynomials can end up producing weird results on extrapolation."
   ]
  },
  {
   "cell_type": "markdown",
   "metadata": {},
   "source": [
    "### Case blue gill fish\n",
    "In 1981, n = 78 bluegills were randomly sampled from Lake Mary in Minnesota. The researchers (Cook and Weisberg, 1999) measured and recorded the following data:\n",
    "- Response (y): length (in mm) of the fish\n",
    "- Potential predictor (x1): age (in years) of the fish\n",
    "The researchers were primarily interested in learning how the length of a blue gill fish is related to it's age.\n",
    "The plot of the data suggests that there is positive trend in the data. That is, not surprisingly, as the age of blue gill fish increases, the length of the fish tends to increase. The trend, however, doesn't appear to be quite linear. It appears as if the relationship is slightly curved.\n"
   ]
  },
  {
   "cell_type": "code",
   "execution_count": 6,
   "metadata": {},
   "outputs": [
    {
     "output_type": "execute_result",
     "data": {
      "text/plain": "   age  length\n0    1      67\n1    1      62\n2    2     109\n3    2      83\n4    2      91\n5    2      88\n6    3     137\n7    3     131\n8    3     122\n9    3     122",
      "text/html": "<div>\n<style scoped>\n    .dataframe tbody tr th:only-of-type {\n        vertical-align: middle;\n    }\n\n    .dataframe tbody tr th {\n        vertical-align: top;\n    }\n\n    .dataframe thead th {\n        text-align: right;\n    }\n</style>\n<table border=\"1\" class=\"dataframe\">\n  <thead>\n    <tr style=\"text-align: right;\">\n      <th></th>\n      <th>age</th>\n      <th>length</th>\n    </tr>\n  </thead>\n  <tbody>\n    <tr>\n      <th>0</th>\n      <td>1</td>\n      <td>67</td>\n    </tr>\n    <tr>\n      <th>1</th>\n      <td>1</td>\n      <td>62</td>\n    </tr>\n    <tr>\n      <th>2</th>\n      <td>2</td>\n      <td>109</td>\n    </tr>\n    <tr>\n      <th>3</th>\n      <td>2</td>\n      <td>83</td>\n    </tr>\n    <tr>\n      <th>4</th>\n      <td>2</td>\n      <td>91</td>\n    </tr>\n    <tr>\n      <th>5</th>\n      <td>2</td>\n      <td>88</td>\n    </tr>\n    <tr>\n      <th>6</th>\n      <td>3</td>\n      <td>137</td>\n    </tr>\n    <tr>\n      <th>7</th>\n      <td>3</td>\n      <td>131</td>\n    </tr>\n    <tr>\n      <th>8</th>\n      <td>3</td>\n      <td>122</td>\n    </tr>\n    <tr>\n      <th>9</th>\n      <td>3</td>\n      <td>122</td>\n    </tr>\n  </tbody>\n</table>\n</div>"
     },
     "metadata": {},
     "execution_count": 6
    }
   ],
   "source": [
    "import pandas as pd\n",
    "import numpy as np\n",
    "import matplotlib.pyplot as plt\n",
    "# Read the file bluegills.txt. The seperator is tab\n",
    "url = 'https://raw.githubusercontent.com/HOGENT-Databases/DB3-Workshops/master/data/bluegills.txt'\n",
    "fish = pd.read_csv(url, sep='\\t')\n",
    "fish.head(10)"
   ]
  },
  {
   "cell_type": "code",
   "execution_count": 14,
   "metadata": {},
   "outputs": [
    {
     "data": {
      "text/plain": [
       "(78, 2)"
      ]
     },
     "execution_count": 14,
     "metadata": {},
     "output_type": "execute_result"
    }
   ],
   "source": [
    "# Give the dimensions of the dataset\n",
    "fish.shape"
   ]
  },
  {
   "cell_type": "code",
   "execution_count": 15,
   "metadata": {},
   "outputs": [
    {
     "data": {
      "text/plain": [
       "Text(0, 0.5, 'length')"
      ]
     },
     "execution_count": 15,
     "metadata": {},
     "output_type": "execute_result"
    },
    {
     "data": {
      "image/png": "[encoded data removed]",
      "text/plain": [
       "<Figure size 432x288 with 1 Axes>"
      ]
     },
     "metadata": {
      "needs_background": "light"
     },
     "output_type": "display_data"
    }
   ],
   "source": [
    "# Plot the length vs the age\n",
    "plt.scatter(fish['age'], fish['length'])\n",
    "plt.xlabel('age')\n",
    "plt.ylabel('length')"
   ]
  },
  {
   "cell_type": "code",
   "execution_count": 17,
   "metadata": {},
   "outputs": [],
   "source": [
    "from sklearn.model_selection import train_test_split\n",
    "X = fish.drop('length',axis=1)\n",
    "y = fish['length']\n",
    "X_train, X_test, y_train, y_test = train_test_split(X,y,test_size=0.30)\n",
    "from sklearn import metrics\n",
    "from sklearn.preprocessing import PolynomialFeatures\n",
    "from sklearn.linear_model import LinearRegression"
   ]
  },
  {
   "cell_type": "code",
   "execution_count": 18,
   "metadata": {},
   "outputs": [
    {
     "name": "stdout",
     "output_type": "stream",
     "text": [
      "Intercept\n",
      "66.87830687830683\n",
      "\n",
      "Slope\n",
      "[21.50793651]\n",
      "\n"
     ]
    }
   ],
   "source": [
    "# First use LinearRegression\n",
    "model = LinearRegression()\n",
    "model.fit(X_train,y_train)\n",
    "\n",
    "#To retrieve the intercept:\n",
    "print(\"Intercept\")\n",
    "print(model.intercept_)\n",
    "print()\n",
    "#For retrieving the slope:\n",
    "print(\"Slope\")\n",
    "print(model.coef_)\n",
    "print()"
   ]
  },
  {
   "cell_type": "code",
   "execution_count": 19,
   "metadata": {},
   "outputs": [
    {
     "name": "stdout",
     "output_type": "stream",
     "text": [
      "Mean Absolute Error: 10.35670194003527\n",
      "\n",
      "Mean Squared Error: 170.92477114302497\n",
      "\n",
      "Root Mean Squared Error: 13.073820066951548\n",
      "\n",
      "Mean: 143.60256410256412\n",
      "\n",
      "R square: 0.7537692216657645\n",
      "\n"
     ]
    }
   ],
   "source": [
    "y_predict = model.predict(X_test)\n",
    "\n",
    "MAE = metrics.mean_absolute_error(y_test,y_predict)\n",
    "print('Mean Absolute Error: '+ str(MAE))\n",
    "print()\n",
    "\n",
    "MSE = metrics.mean_squared_error(y_test,y_predict)\n",
    "print('Mean Squared Error: '+ str(MSE))\n",
    "print()\n",
    "\n",
    "RMSE = np.sqrt(metrics.mean_squared_error(y_test,y_predict))\n",
    "print('Root Mean Squared Error: '+ str(RMSE))\n",
    "print()\n",
    "\n",
    "mean = fish['length'].mean()\n",
    "print ('Mean: ' + str(mean))\n",
    "print()\n",
    "\n",
    "r2 = metrics.r2_score(y_test,y_predict)\n",
    "print('R square: ' + str(r2))  \n",
    "print()"
   ]
  },
  {
   "cell_type": "code",
   "execution_count": 20,
   "metadata": {},
   "outputs": [
    {
     "data": {
      "image/png": "[encoded data removed]",
      "text/plain": [
       "<Figure size 432x288 with 1 Axes>"
      ]
     },
     "metadata": {
      "needs_background": "light"
     },
     "output_type": "display_data"
    }
   ],
   "source": [
    "# Plot the dataset length vs age\n",
    "# First calculate the minimum and the maximumvalue for age\n",
    "\n",
    "xmin = fish['age'].min()\n",
    "xmax = fish['age'].max()\n",
    "# Plot the dataset\n",
    "plt.scatter(X_test, y_test)\n",
    "plt.plot(X_test, y_predict, color='red')\n",
    "plt.xlim([xmin, xmax])\n",
    "\n",
    "plt.xlabel('age')\n",
    "plt.ylabel('length')\n",
    "plt.show()"
   ]
  },
  {
   "cell_type": "code",
   "execution_count": 21,
   "metadata": {},
   "outputs": [
    {
     "name": "stdout",
     "output_type": "stream",
     "text": [
      "Intercept\n",
      "20.038274182324244\n",
      "\n",
      "Coefficients\n",
      "[ 0.         50.40361865 -4.15622825]\n",
      "\n"
     ]
    }
   ],
   "source": [
    "# Now we are using Polynomial Regression. \n",
    "# This is still LinearRegression because the coefficients/weights associated with the features are still linear\n",
    "poly = PolynomialFeatures(degree=2)\n",
    "# fit_transform will turn x**2 into a feaure\n",
    "X_train_transform = poly.fit_transform(X_train)   \n",
    "X_test_transform = poly.fit_transform(X_test)\n",
    "\n",
    "model = LinearRegression()\n",
    "model.fit(X_train_transform,y_train)\n",
    "\n",
    "#To retrieve the intercept:\n",
    "print(\"Intercept\")\n",
    "print(model.intercept_)\n",
    "print()\n",
    "#For retrieving the coefficients:\n",
    "print(\"Coefficients\")\n",
    "print(model.coef_)\n",
    "print()"
   ]
  },
  {
   "cell_type": "code",
   "execution_count": 22,
   "metadata": {},
   "outputs": [
    {
     "name": "stdout",
     "output_type": "stream",
     "text": [
      "Mean Absolute Error: 8.94718452795175\n",
      "\n",
      "Mean Squared Error: 110.91608722394862\n",
      "\n",
      "Root Mean Squared Error: 10.531670675821031\n",
      "\n",
      "Mean: 143.60256410256412\n",
      "\n",
      "R square: 0.8402165215474369\n",
      "\n"
     ]
    }
   ],
   "source": [
    "y_predict = model.predict(X_test_transform)\n",
    "\n",
    "MAE = metrics.mean_absolute_error(y_test,y_predict)\n",
    "print('Mean Absolute Error: '+ str(MAE))\n",
    "print()\n",
    "\n",
    "MSE = metrics.mean_squared_error(y_test,y_predict)\n",
    "print('Mean Squared Error: '+ str(MSE))\n",
    "print()\n",
    "\n",
    "RMSE = np.sqrt(metrics.mean_squared_error(y_test,y_predict))\n",
    "print('Root Mean Squared Error: '+ str(RMSE))\n",
    "print()\n",
    "\n",
    "mean = fish['length'].mean()\n",
    "print ('Mean: ' + str(mean))\n",
    "print()\n",
    "\n",
    "r2 = metrics.r2_score(y_test,y_predict)\n",
    "print('R square: ' + str(r2))  \n",
    "print()"
   ]
  },
  {
   "cell_type": "code",
   "execution_count": 23,
   "metadata": {},
   "outputs": [],
   "source": [
    "# Calculate the result of the polynomial for a specific value of x\n",
    "def p(x):\n",
    "    result = model.intercept_\n",
    "    for i in range(0, len(model.coef_)):\n",
    "        result += model.coef_[i] * x**i \n",
    "    return result"
   ]
  },
  {
   "cell_type": "code",
   "execution_count": 25,
   "metadata": {},
   "outputs": [
    {
     "data": {
      "image/png": "[encoded data removed]",
      "text/plain": [
       "<Figure size 432x288 with 1 Axes>"
      ]
     },
     "metadata": {
      "needs_background": "light"
     },
     "output_type": "display_data"
    }
   ],
   "source": [
    "# Plot the dataset\n",
    "plt.scatter(X_test, y_test)\n",
    "plt.xlim([xmin, xmax])\n",
    "plt.xlabel('age')\n",
    "plt.ylabel('length')\n",
    "\n",
    "# Plot the polynomial\n",
    "t1 = np.arange(xmin, xmax, 0.01)\n",
    "plt.plot(t1, p(t1), color='red')\n",
    "plt.show()\n"
   ]
  },
  {
   "cell_type": "markdown",
   "metadata": {},
   "source": [
    "The Mean Absolute Error and Root Mean Squared Error are smaller for Polynomial Regression.  \n",
    "We will now use a for loop to create a model voor polynomials of degree = 1 .. 5 and to write out the root mean squared error"
   ]
  },
  {
   "cell_type": "code",
   "execution_count": null,
   "metadata": {},
   "outputs": [],
   "source": [
    "from sklearn.model_selection import train_test_split\n",
    "X = fish.drop('length',axis=1)\n",
    "y = fish['length']\n",
    "X_train, X_test, y_train, y_test = train_test_split(X,y,test_size=0.30)\n",
    "for i in range(1,6):\n",
    "    poly = PolynomialFeatures(degree=i)\n",
    "    X_train_transform = poly.fit_transform(X_train)\n",
    "    X_test_transform = poly.fit_transform(X_test)\n",
    "\n",
    "    model = LinearRegression()\n",
    "    model.fit(X_train_transform,y_train)\n",
    "    \n",
    "    y_predict = model.predict(X_test_transform)    \n",
    "    RMSE = np.sqrt(metrics.mean_squared_error(y_test,y_predict))\n",
    "    print('Root Mean Squared Error for i (test set) = ' + str(i) + ' is '+ str(RMSE))\n",
    "    print()\n",
    "    \n",
    "    y_predict = model.predict(X_train_transform)\n",
    "    RMSE = np.sqrt(metrics.mean_squared_error(y_train,y_predict))\n",
    "    print('Root Mean Squared Error for i (training set) = ' + str(i) + ' is '+ str(RMSE))\n",
    "    print()   "
   ]
  },
  {
   "cell_type": "markdown",
   "metadata": {},
   "source": [
    "This is a clear example of overfitting: accuracy of the test set is getting better till degree 2. For higher degrees the accuracy is getting worse because of overfitting. This is confirmed by a better accuracy of the training set for higher degrees. "
   ]
  }
 ],
 "metadata": {
  "kernelspec": {
   "display_name": "Python 3",
   "language": "python",
   "name": "python3"
  },
  "language_info": {
   "codemirror_mode": {
    "name": "ipython",
    "version": 3
   },
   "file_extension": ".py",
   "mimetype": "text/x-python",
   "name": "python",
   "nbconvert_exporter": "python",
   "pygments_lexer": "ipython3",
   "version": "3.8.3-final"
  }
 },
 "nbformat": 4,
 "nbformat_minor": 4
}