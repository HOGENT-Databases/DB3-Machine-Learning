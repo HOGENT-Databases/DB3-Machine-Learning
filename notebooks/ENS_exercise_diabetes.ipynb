{
 "cells": [
  {
   "cell_type": "markdown",
   "metadata": {},
   "source": [
    "## Case Diabetes\n",
    "The diabetes dataset consists of several medical predictor (independent) variables and one target (dependent) variable, Outcome. Independent variables include the number of pregnancies the patient has had, their BMI, insulin level, age, and so on.  \n",
    "  \n",
    "- Pregnancies: Number of times pregnant\n",
    "- Glucose: Plasma glucose concentration a 2 hours in an oral glucose tolerance test\n",
    "- BloodPressure: Diastolic blood pressure (mm Hg)\n",
    "- SkinThickness: Triceps skin fold thickness (mm)\n",
    "- Insulin: 2-Hour serum insulin (mu U/ml)\n",
    "- BMI: Body mass index (weight in kg/(height in m)^2)\n",
    "- DiabetesPedigreeFunction: a function which scores likelihood of diabetes based on family history \n",
    "- Age: Age (years)\n",
    "- Outcome: Class variable (0 or 1) 268 of 768 are 1, the others are 0  \n",
    "  \n",
    "Solve following questions: \n",
    "1. What is the number of rows and columns in the dataset?\n",
    "1. How many persons actually have diabetes?\n",
    "1. What is the minimum value for each predictor?\n",
    "1. Blood pressure: By observing the data we can see that there are 0 values for blood pressure. And it is evident that a living person cannot have diastolic blood pressure of zero. How many records have value == 0?\n",
    "1. Plasma glucose levels : Even after fasting glucose level would not be as low as zero. How many records have value == 0?\n",
    "1. BMI : Should not be 0 or close to zero unless the person is really underweight which could be life threatening. How many records have value == 0?\n",
    "1. Remove the rows which have zero as value for 'BloodPressure', 'BMI' or 'Glucose'\n",
    "1. Give the new dimensions of the dataset\n",
    "1. Use an ensemble method to try to predict the value for Outcome\n",
    "1. Calculate the accuracy and the precision\n",
    "1. The model can be used to determine wether a person might develop diabetes or not. Write a function that takes pregnancies, glucose, bloodpressure, BMI, DiabetesPedigreeFunction and Age to predict this. "
   ]
  },
  {
   "cell_type": "code",
   "execution_count": 2,
   "metadata": {},
   "outputs": [
    {
     "name": "stdout",
     "output_type": "stream",
     "text": [
      "   Pregnancies  Glucose  BloodPressure  SkinThickness  Insulin   BMI  \\\n",
      "0            6      148             72             35        0  33.6   \n",
      "1            1       85             66             29        0  26.6   \n",
      "2            8      183             64              0        0  23.3   \n",
      "3            1       89             66             23       94  28.1   \n",
      "4            0      137             40             35      168  43.1   \n",
      "\n",
      "   DiabetesPedigreeFunction  Age  Outcome  \n",
      "0                     0.627   50        1  \n",
      "1                     0.351   31        0  \n",
      "2                     0.672   32        1  \n",
      "3                     0.167   21        0  \n",
      "4                     2.288   33        1  \n"
     ]
    }
   ],
   "source": [
    "import pandas as pd\n",
    "import numpy as np\n",
    "diabetes = pd.read_csv('data/diabetes.csv')\n",
    "print(diabetes.head())"
   ]
  },
  {
   "cell_type": "code",
   "execution_count": 4,
   "metadata": {},
   "outputs": [],
   "source": [
    "# 1 What is the number of rows and columns in the dataset?"
   ]
  },
  {
   "cell_type": "code",
   "execution_count": null,
   "metadata": {},
   "outputs": [],
   "source": [
    "# 2 How many persons actually have diabetes?"
   ]
  },
  {
   "cell_type": "code",
   "execution_count": null,
   "metadata": {},
   "outputs": [],
   "source": [
    "# 3 What is the minimum value for each predictor?"
   ]
  },
  {
   "cell_type": "code",
   "execution_count": null,
   "metadata": {},
   "outputs": [],
   "source": [
    "# 4 Blood pressure: By observing the data we can see that there are 0 values for blood pressure. \n",
    "# And it is evident that a living person cannot have diastolic blood pressure of zero. How many records have value == 0?"
   ]
  },
  {
   "cell_type": "code",
   "execution_count": 293,
   "metadata": {},
   "outputs": [],
   "source": [
    "# 5 Plasma glucose levels : Even after fasting glucose level would not be as low as zero. Therefor zero is an invalid reading. \n",
    "# How many records have Glucose level == 0?\n"
   ]
  },
  {
   "cell_type": "code",
   "execution_count": 295,
   "metadata": {},
   "outputs": [],
   "source": [
    "# 6 BMI : Should not be 0 or close to zero unless the person is really underweight which could be life threatening.\n",
    "# How many records have BMI == 0?\n"
   ]
  },
  {
   "cell_type": "code",
   "execution_count": 297,
   "metadata": {},
   "outputs": [],
   "source": [
    "# 7 Remove the rows which have zero for 'BloodPressure', 'BMI' or 'Glucose'\n"
   ]
  },
  {
   "cell_type": "code",
   "execution_count": 298,
   "metadata": {},
   "outputs": [],
   "source": [
    "# 8 Give the new dimensions of diabetes\n"
   ]
  },
  {
   "cell_type": "code",
   "execution_count": 299,
   "metadata": {},
   "outputs": [],
   "source": [
    "# 9 Use an ensemble method to try to predict the value for Outcome"
   ]
  },
  {
   "cell_type": "code",
   "execution_count": null,
   "metadata": {},
   "outputs": [],
   "source": [
    "# 10 Calculate the accuracy and the precision"
   ]
  },
  {
   "cell_type": "code",
   "execution_count": null,
   "metadata": {},
   "outputs": [],
   "source": [
    "# 11 The model can be used to determine wether a person might develop diabetes or not. \n",
    "# Write a function that takes pregnancies, glucose, bloodpressure, BMI, DiabetesPedigreeFunction and Age to predict this. "
   ]
  }
 ],
 "metadata": {
  "kernelspec": {
   "display_name": "Python 3",
   "language": "python",
   "name": "python3"
  },
  "language_info": {
   "codemirror_mode": {
    "name": "ipython",
    "version": 3
   },
   "file_extension": ".py",
   "mimetype": "text/x-python",
   "name": "python",
   "nbconvert_exporter": "python",
   "pygments_lexer": "ipython3",
   "version": "3.7.6"
  }
 },
 "nbformat": 4,
 "nbformat_minor": 2
}
