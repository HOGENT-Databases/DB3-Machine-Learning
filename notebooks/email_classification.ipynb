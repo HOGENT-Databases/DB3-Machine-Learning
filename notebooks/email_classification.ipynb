{
 "cells": [
  {
   "cell_type": "markdown",
   "metadata": {
    "slideshow": {
     "slide_type": "-"
    }
   },
   "source": [
    "## Case: e-mail classification\n",
    "Service departments are often providing a central e-mailadres to their (internal or external) customers for reporting issues. Often, different topics are handled by different people or departments. Wouldn’t it be great to have an automatic e-mail classifier that forwards e-mails to the right person? Let’s try to make this.  \n",
    "  \n",
    "We start from a set of 9.820 real e-mails originating from several e-mail services like monster.com, nieuwsblad.be, datanews.be, etc.. The e-mails belong to four categories: _advertisements_ , _job offerings_ , _news_ and _ICT_ . We’d like to create a classifier that can be used to automatically classify e-mails into one of the four categories ADS, JOB, NEWS and ICT. \n",
    "We start by importing and exploring the data. \n"
   ]
  },
  {
   "cell_type": "code",
   "execution_count": 1,
   "metadata": {
    "slideshow": {
     "slide_type": "-"
    }
   },
   "outputs": [
    {
     "name": "stdout",
     "output_type": "stream",
     "text": [
      "(9820, 2)\n",
      "Category    9820\n",
      "Text        9820\n",
      "dtype: int64\n",
      "          Text\n",
      "Category      \n",
      "ADS       2484\n",
      "ICT       1363\n",
      "JOB       1582\n",
      "NEWS      4391\n",
      "  Category  \\\n",
      "0      ADS   \n",
      "1      ADS   \n",
      "2      ADS   \n",
      "3      ADS   \n",
      "4      ADS   \n",
      "5      ADS   \n",
      "6      ADS   \n",
      "7      ADS   \n",
      "8      ADS   \n",
      "9      ADS   \n",
      "\n",
      "                                                                                                                                                                                                      Text  \n",
      "0  Alles halve prijs - of nog veel goedkoper!  <https://www.groupon.be/analytic/trackintl.gif?p=1&utm_domain=telenet.be&nlp=&CID=BE&utm_source=channel_goods-deals&utm_medium=email&sid=8bb46cec-d83a-4...  \n",
      "1  Alles halve prijs - of nog veel goedkoper!  <https://www.groupon.be/analytic/trackintl.gif?p=1&utm_domain=telenet.be&nlp=&CID=BE&utm_source=channel_goods-deals&utm_medium=email&sid=8bb46cec-d83a-4...  \n",
      "2  Wat krijgen we nu?! Weer EXTRA korting?  <https://www.groupon.be/analytic/trackintl.gif?p=1&utm_domain=telenet.be&nlp=&CID=BE&utm_source=merchandising&utm_medium=email&sid=73b3ddec-705b-4ff7-ba53-...  \n",
      "3  Wat krijgen we nu?! Weer EXTRA korting?  <https://www.groupon.be/analytic/trackintl.gif?p=1&utm_domain=telenet.be&nlp=&CID=BE&utm_source=merchandising&utm_medium=email&sid=73b3ddec-705b-4ff7-ba53-...  \n",
      "4  Armband met activiteitstracker, Apple iPhone 6/6 Plus, Winters gezichtsmasker, Apple iPad Air 2, 64GB met 4G & Meer                                                            \\r\\n <https://www.gro...  \n",
      "5  Armband met activiteitstracker, Draadloze bewegingssensor met ledverlichting, Apple iPad Air 2, 64GB met 4G, Apple MacBook Air 11-inch & Meer                                                       ...  \n",
      "6  Beperkt geldig: -20% op 1 artikel naar keuze Geniet ervan nu vrijdag vanaf 16u tot sluiting van de winkel en op maandag vanaf opening tot 11u! <https://gridinbound.blob.core.windows.net/gic/i.png?...  \n",
      "7  Verrassingskorting voor jou!                                                            \\r\\n <https://www.groupon.be/analytic/trackintl.gif?p=1&utm_domain=telenet.be&utm_campaign=575efc4e-ba1b-43e...  \n",
      "8  Verrassingskorting voor jou!                                                            \\r\\n <https://www.groupon.be/analytic/trackintl.gif?p=1&utm_domain=telenet.be&utm_campaign=6df3c674-2bdf-4dc...  \n",
      "9  Welke televisie past bij mij? Tot 10% korting op LG monitoren |  <https://gridinbound.blob.core.windows.net/gic/i.png?h=PYx26DXU3a5Tr3D31apd55Cw3jNr7SwMcB9xGmkQ+nEiiz6lRIvxP6TO0ZQpOF8n>  <https://...  \n"
     ]
    }
   ],
   "source": [
    "import numpy as np\n",
    "import pandas as pd\n",
    "pd.set_option('display.max_colwidth', 200)  # set width of column output\n",
    "\n",
    "ads = pd.read_csv('data/emailads.csv',encoding = \"ISO-8859-1\")\n",
    "ict = pd.read_csv('data/emailict.csv',encoding = \"ISO-8859-1\")\n",
    "job = pd.read_csv('data/emailjob.csv',encoding = \"ISO-8859-1\")\n",
    "news = pd.read_csv('data/emailnews.csv',encoding = \"ISO-8859-1\")\n",
    "\n",
    "# Merge data\n",
    "email = ads.append([ict,job,news])\n",
    "\n",
    "# Combine Subject and Body into a single field \"Text\"\n",
    "\n",
    "email = email[['Subject','Body','Category']]  # we only keep these three columns \n",
    "email['Text'] = email['Subject'] + ' ' + email['Body']\n",
    "email = email.drop(['Subject','Body'],axis=1)\n",
    "\n",
    "# Explore the data\n",
    "print(email.shape)\n",
    "print(email.count())\n",
    "print(email.groupby('Category').count())\n",
    "print(email.head(10))"
   ]
  },
  {
   "cell_type": "markdown",
   "metadata": {},
   "source": [
    "Since stop word removal and stemming are language dependent we need to first determine the language of each e-mail and split the data set per language. "
   ]
  },
  {
   "cell_type": "code",
   "execution_count": 2,
   "metadata": {},
   "outputs": [
    {
     "data": {
      "text/html": [
       "<div>\n",
       "<style scoped>\n",
       "    .dataframe tbody tr th:only-of-type {\n",
       "        vertical-align: middle;\n",
       "    }\n",
       "\n",
       "    .dataframe tbody tr th {\n",
       "        vertical-align: top;\n",
       "    }\n",
       "\n",
       "    .dataframe thead th {\n",
       "        text-align: right;\n",
       "    }\n",
       "</style>\n",
       "<table border=\"1\" class=\"dataframe\">\n",
       "  <thead>\n",
       "    <tr style=\"text-align: right;\">\n",
       "      <th>Lang</th>\n",
       "      <th>ca</th>\n",
       "      <th>de</th>\n",
       "      <th>en</th>\n",
       "      <th>fr</th>\n",
       "      <th>it</th>\n",
       "      <th>nl</th>\n",
       "    </tr>\n",
       "    <tr>\n",
       "      <th>Category</th>\n",
       "      <th></th>\n",
       "      <th></th>\n",
       "      <th></th>\n",
       "      <th></th>\n",
       "      <th></th>\n",
       "      <th></th>\n",
       "    </tr>\n",
       "  </thead>\n",
       "  <tbody>\n",
       "    <tr>\n",
       "      <th>ADS</th>\n",
       "      <td>51.0</td>\n",
       "      <td>112.0</td>\n",
       "      <td>757.0</td>\n",
       "      <td>4.0</td>\n",
       "      <td>1.0</td>\n",
       "      <td>1559.0</td>\n",
       "    </tr>\n",
       "    <tr>\n",
       "      <th>ICT</th>\n",
       "      <td>0.0</td>\n",
       "      <td>0.0</td>\n",
       "      <td>1140.0</td>\n",
       "      <td>0.0</td>\n",
       "      <td>0.0</td>\n",
       "      <td>223.0</td>\n",
       "    </tr>\n",
       "    <tr>\n",
       "      <th>JOB</th>\n",
       "      <td>0.0</td>\n",
       "      <td>14.0</td>\n",
       "      <td>946.0</td>\n",
       "      <td>5.0</td>\n",
       "      <td>0.0</td>\n",
       "      <td>617.0</td>\n",
       "    </tr>\n",
       "    <tr>\n",
       "      <th>NEWS</th>\n",
       "      <td>0.0</td>\n",
       "      <td>6.0</td>\n",
       "      <td>13.0</td>\n",
       "      <td>0.0</td>\n",
       "      <td>0.0</td>\n",
       "      <td>4372.0</td>\n",
       "    </tr>\n",
       "  </tbody>\n",
       "</table>\n",
       "</div>"
      ],
      "text/plain": [
       "Lang        ca     de      en   fr   it      nl\n",
       "Category                                       \n",
       "ADS       51.0  112.0   757.0  4.0  1.0  1559.0\n",
       "ICT        0.0    0.0  1140.0  0.0  0.0   223.0\n",
       "JOB        0.0   14.0   946.0  5.0  0.0   617.0\n",
       "NEWS       0.0    6.0    13.0  0.0  0.0  4372.0"
      ]
     },
     "execution_count": 2,
     "metadata": {},
     "output_type": "execute_result"
    }
   ],
   "source": [
    "# language detection - this can take a while\n",
    "from langdetect import detect\n",
    "\n",
    "email['Lang'] = email['Text'].apply(detect)\n",
    "pd.pivot_table(email, values='Text', index=['Category'],columns=['Lang'], aggfunc='count').fillna(0)"
   ]
  },
  {
   "cell_type": "markdown",
   "metadata": {},
   "source": [
    "Although we know only dutch, english and french emails occur in our dataset a number of other languages are detected, probably because of the frequent use of URL's in the e-mails that is confusing the detect method. Let's check this."
   ]
  },
  {
   "cell_type": "code",
   "execution_count": 3,
   "metadata": {},
   "outputs": [
    {
     "name": "stdout",
     "output_type": "stream",
     "text": [
      "   Category  \\\n",
      "0       ADS   \n",
      "1       ADS   \n",
      "2       ADS   \n",
      "3       ADS   \n",
      "4       ADS   \n",
      "5       ADS   \n",
      "6       ADS   \n",
      "7       ADS   \n",
      "8       ADS   \n",
      "9       ADS   \n",
      "10      ADS   \n",
      "11      ADS   \n",
      "12      ADS   \n",
      "13      ADS   \n",
      "14      ADS   \n",
      "15      ADS   \n",
      "16      ADS   \n",
      "17      ADS   \n",
      "18      ADS   \n",
      "19      ADS   \n",
      "\n",
      "                                                                                                                                                                                                       Text  \\\n",
      "0   Alles halve prijs - of nog veel goedkoper!  <https://www.groupon.be/analytic/trackintl.gif?p=1&utm_domain=telenet.be&nlp=&CID=BE&utm_source=channel_goods-deals&utm_medium=email&sid=8bb46cec-d83a-4...   \n",
      "1   Alles halve prijs - of nog veel goedkoper!  <https://www.groupon.be/analytic/trackintl.gif?p=1&utm_domain=telenet.be&nlp=&CID=BE&utm_source=channel_goods-deals&utm_medium=email&sid=8bb46cec-d83a-4...   \n",
      "2   Wat krijgen we nu?! Weer EXTRA korting?  <https://www.groupon.be/analytic/trackintl.gif?p=1&utm_domain=telenet.be&nlp=&CID=BE&utm_source=merchandising&utm_medium=email&sid=73b3ddec-705b-4ff7-ba53-...   \n",
      "3   Wat krijgen we nu?! Weer EXTRA korting?  <https://www.groupon.be/analytic/trackintl.gif?p=1&utm_domain=telenet.be&nlp=&CID=BE&utm_source=merchandising&utm_medium=email&sid=73b3ddec-705b-4ff7-ba53-...   \n",
      "4   Armband met activiteitstracker, Apple iPhone 6/6 Plus, Winters gezichtsmasker, Apple iPad Air 2, 64GB met 4G & Meer                                                            \\r\\n <https://www.gro...   \n",
      "5   Armband met activiteitstracker, Draadloze bewegingssensor met ledverlichting, Apple iPad Air 2, 64GB met 4G, Apple MacBook Air 11-inch & Meer                                                       ...   \n",
      "6   Beperkt geldig: -20% op 1 artikel naar keuze Geniet ervan nu vrijdag vanaf 16u tot sluiting van de winkel en op maandag vanaf opening tot 11u! <https://gridinbound.blob.core.windows.net/gic/i.png?...   \n",
      "7   Verrassingskorting voor jou!                                                            \\r\\n <https://www.groupon.be/analytic/trackintl.gif?p=1&utm_domain=telenet.be&utm_campaign=575efc4e-ba1b-43e...   \n",
      "8   Verrassingskorting voor jou!                                                            \\r\\n <https://www.groupon.be/analytic/trackintl.gif?p=1&utm_domain=telenet.be&utm_campaign=6df3c674-2bdf-4dc...   \n",
      "9   Welke televisie past bij mij? Tot 10% korting op LG monitoren |  <https://gridinbound.blob.core.windows.net/gic/i.png?h=PYx26DXU3a5Tr3D31apd55Cw3jNr7SwMcB9xGmkQ+nEiiz6lRIvxP6TO0ZQpOF8n>  <https://...   \n",
      "10  2+1 GRATIS, 2e product aan -50%, de maand van de onmisbare aanbiedingen gaat verder!   \\t\\r\\nBestel je simply you box om lekker te eten\\r\\nen je leven makkelijker te maken <http://t.newsletter.car...   \n",
      "11  1+1 op de Perfection muurverf in de winkel - Sla je slag! Laatste week projecten aan vriendenprijs! <https://gridinbound.blob.core.windows.net/gic/i.png?h=udw/xbvmeujC/VJ+bnS3AyAev1YxdcY2TTDvTClDy...   \n",
      "12  Net binnen! De nieuwste deals!  <https://www.groupon.be/analytic/trackintl.gif?p=1&utm_domain=telenet.be&nlp=&CID=BE&utm_source=channel_goods-deals&utm_medium=email&sid=6a18db4b-7aaf-4696-a5a5-eb6...   \n",
      "13  Net binnen! De nieuwste deals!  <https://www.groupon.be/analytic/trackintl.gif?p=1&utm_domain=telenet.be&nlp=&CID=BE&utm_source=channel_goods-deals&utm_medium=email&sid=6a18db4b-7aaf-4696-a5a5-eb6...   \n",
      "14  Je korting op Groupon Travel is VERLENGD!                                                            \\r\\n <https://www.groupon.be/analytic/trackintl.gif?p=1&utm_domain=telenet.be&nlp=&CID=BE&tx=0&...   \n",
      "15  Je korting op Groupon Travel is VERLENGD!                                                            \\r\\n <https://www.groupon.be/analytic/trackintl.gif?p=1&utm_domain=telenet.be&nlp=&CID=BE&tx=0&...   \n",
      "16  55'' 4K Curved LED TV , Microsoft Windows 10, Apple iPhone 6/6 Plus 16/64/128GB, 3-in-1 memory sticks 64/128 GB & Meer                                                            \\r\\n <https://www....   \n",
      "17  Flanellen dekbedovertrek , 3-in-1 memory sticks 64/128 GB , 55'' 4K Curved LED TV , Matras Graphene Deluxe 30 cm & Meer                                                            \\r\\n <https://www...   \n",
      "18  2-gangenmenu met ribbetjes à volonté / Anti-stress lichaamsmassage van 75 minuten                                                            \\r\\n <https://www.groupon.be/analytic/trackintl.gif?p=1...   \n",
      "19  Zeeland: 1-3 nachten met ontbijt, drankje en meer / Anti-stress lichaamsmassage van 75 minuten                                                            \\r\\n <https://www.groupon.be/analytic/trac...   \n",
      "\n",
      "   Lang  \n",
      "0    nl  \n",
      "1    nl  \n",
      "2    nl  \n",
      "3    nl  \n",
      "4    nl  \n",
      "5    nl  \n",
      "6    nl  \n",
      "7    nl  \n",
      "8    nl  \n",
      "9    nl  \n",
      "10   nl  \n",
      "11   nl  \n",
      "12   nl  \n",
      "13   nl  \n",
      "14   nl  \n",
      "15   nl  \n",
      "16   nl  \n",
      "17   nl  \n",
      "18   nl  \n",
      "19   nl  \n",
      "     Category  \\\n",
      "1254      ADS   \n",
      "1558      ADS   \n",
      "2048      ADS   \n",
      "2256      ADS   \n",
      "43        JOB   \n",
      "456       JOB   \n",
      "808       JOB   \n",
      "1021      JOB   \n",
      "1549      JOB   \n",
      "\n",
      "                                                                                                                                                                                                         Text  \\\n",
      "1254  -15% sur TOUT pendant 3 jours ! Profitez-en rapidement !\\r\\n\\r\\n<https://gridinbound.blob.core.windows.net/gic/i.png?h=uqUW_Q-EXm3Ho7t97\\r\\neaU24KAHke_PGkcS_r9tHwOhgs3H-kGAm15CitTosxkf5RA>\\r\\n<htt...   \n",
      "1558  15% Korting op meer dan +120 Travel deals                                                            \\r\\n\\r\\n<https://www.groupon.be/analytic/trackintl.gif?p=1&utm_domain=telenet.be\\r\\n&nlp=&CID=B...   \n",
      "2048  Tot 20% EXTRA korting op o.a. Culinaire Luxe bij Hof ter Heide en de Luxemburgse Ardennen                                                            \\r\\n\\r\\n<https://www.groupon.be/analytic/tracki...   \n",
      "2256  Ongelofelijke Herfst Trips!                                                            \\r\\n\\r\\n<https://www.groupon.be/analytic/trackintl.gif?p=1&utm_domain=telenet.be\\r\\n&nlp=&CID=BE&uu=915e354c-...   \n",
      "43    Johan Decorte - Commercial Confirmé Hainaut (m/f) Cher / Chère Johan Decorte,\\r\\n\\r\\nEn raison de notre croissance, nous sommes à la recherche de toute urgence dun Commercial Confirmé Hainaut (m/...   \n",
      "456   Offre d'emploi:  Vendeurs produits d'entretien techniques Cher / Chère Johan Decorte,\\r\\n\\r\\nEn raison de notre croissance, nous sommes à la recherche de toute\\r\\nurgence dun Vendeurs de produits...   \n",
      "808   Offre d'emploi: Ingénieur industriel chef de projet chez Vér Cher / Chère Johan Decorte,\\r\\n\\r\\nEn raison de notre croissance, nous sommes à la recherche de toute\\r\\nurgence dun ngénieur industri...   \n",
      "1021  Johan Decorte - Représentant Luminaires Wallonie et Luxembou Cher / Chère Johan Decorte,\\r\\n\\r\\nEn raison de notre croissance, nous sommes à la recherche de toute\\r\\nurgence dun Représentant Lumi...   \n",
      "1549  Votre candidature/expérience - Data analyst Bonjour Johan, \\r\\n\\r\\n \\r\\n\\r\\nJespère que vous allez bien ?\\r\\n\\r\\nSuite à la lecture de votre CV, je vois que vous avez une belle experience et êtes...   \n",
      "\n",
      "     Lang  \n",
      "1254   fr  \n",
      "1558   fr  \n",
      "2048   fr  \n",
      "2256   fr  \n",
      "43     fr  \n",
      "456    fr  \n",
      "808    fr  \n",
      "1021   fr  \n",
      "1549   fr  \n",
      "     Category  \\\n",
      "1555      JOB   \n",
      "1561      JOB   \n",
      "1564      JOB   \n",
      "1566      JOB   \n",
      "1569      JOB   \n",
      "1576      JOB   \n",
      "1580      JOB   \n",
      "472      NEWS   \n",
      "1458     NEWS   \n",
      "1967     NEWS   \n",
      "2029     NEWS   \n",
      "2278     NEWS   \n",
      "2676     NEWS   \n",
      "3041     NEWS   \n",
      "3057     NEWS   \n",
      "3125     NEWS   \n",
      "3210     NEWS   \n",
      "3740     NEWS   \n",
      "4008     NEWS   \n",
      "4013     NEWS   \n",
      "\n",
      "                                                                                                                                                                                                         Text  \\\n",
      "1555  30+ nieuwe Data Analyst vacatures ING, Brenntag en Fedasil hebben vacatures voor jou! \\r\\n ? ? ? ? ? ? ? ? ?  ? ? ? ?  ? ? ? ?  ? ? ? ? ? ? ? ? ?   ? ? ? ? ? ? ? ? ?  ? ? ? ?  ? ? ? ?  ? ? ? ? ? ?...   \n",
      "1561  30+ nieuwe Data Analyst vacatures Procter & Gamble, ING en Estée Lauder hebben vacatures voor jou! \\r\\n ? ? ? ? ? ? ? ? ?  ? ? ? ?  ? ? ? ?  ? ? ? ? ? ? ? ? ?   ? ? ? ? ? ? ? ? ?  ? ? ? ?  ? ? ? ?...   \n",
      "1564  An update before the holidays | newsletter December 2018  \\t \\r\\n <https://www.tobania.be/Tobania/images/logo.png> \\t\\r\\n\\t\\r\\nAn update before the holidays \\r\\nNewsletter December 2018 \\t\\r\\n\\t\\r...   \n",
      "1566  30+ nieuwe Data Analyst vacatures Procter & Gamble, ING en Estée Lauder hebben vacatures voor jou! \\r\\n ? ? ? ? ? ? ? ? ?  ? ? ? ?  ? ? ? ?  ? ? ? ? ? ? ? ? ?   ? ? ? ? ? ? ? ? ?  ? ? ? ?  ? ? ? ?...   \n",
      "1569  30+ nieuwe Data Analyst vacatures Serco Europe, MSD en NATO - OTAN hebben vacatures voor jou! \\r\\n ? ? ? ? ? ? ? ? ?  ? ? ? ?  ? ? ? ?  ? ? ? ? ? ? ? ? ?   ? ? ? ? ? ? ? ? ?  ? ? ? ?  ? ? ? ?  ? ?...   \n",
      "1576  30+ nieuwe Data Analyst vacatures Serco Europe, Orange en FireEye hebben vacatures voor jou! \\r\\n ? ? ? ? ? ? ? ? ?  ? ? ? ?  ? ? ? ?  ? ? ? ? ? ? ? ? ?   ? ? ? ? ? ? ? ? ?  ? ? ? ?  ? ? ? ?  ? ? ...   \n",
      "1580  11 nieuwe Data Analyst vacatures Orange, Smals en Select hebben vacatures voor jou! \\r\\n ? ? ? ? ? ? ? ? ?  ? ? ? ?  ? ? ? ?  ? ? ? ? ? ? ? ? ?   ? ? ? ? ? ? ? ? ?  ? ? ? ?  ? ? ? ?  ? ? ? ? ? ? ?...   \n",
      "472   Nieuwe klacht van kindermisbruik tegen Roger Vangheluwe * Staden vreest voor nog meer zwaar verkeer door kilometerheffing  <http://messagent.roulartamail.be/optiext/optiextension.dll?ID=RD%2BcyQLv...   \n",
      "1458  Fysicus Stephen Hawking overleden op 76-jarige leeftijd  \\r\\n<http://interactief.standaard.be/optiext/optiextension.dll?ID=DR9ybmO70k\\r\\nOl96VZpw10ltLKHXxnhMHRQw4mV3RnpmzjXuAebAC1KvHB0eUpm4vW2GnA_...   \n",
      "1967  Belasting op verpakkingen moet berg plastic verkleinen - Trump betaalde zwijggeld pornoster zelf terug - De fixer van Kris Peeters: een stugge ontmijner - Fernand Huts in zee met Bart De Pauw  \\r\\...   \n",
      "2029  President Trump trekt stekker uit Iran-deal  \\r\\n<http://interactief.standaard.be/optiext/optiextension.dll?ID=fM1eXrByK1\\r\\niRpvGUIHLLPM5mQtSS2otGC1XebK9s2bI_f5uNv0cs4rDVuSyCDWPFqAwKamErLrkAjhuR_...   \n",
      "2278  Donald Trump en Kim Jong-un zullen elkaar dan toch ontmoeten  \\r\\n<http://interactief.standaard.be/optiext/optiextension.dll?ID=ql0P965zOM\\r\\nBK_05wkacOXp02uGy6xkqNoGBAsrqZE%2BIJFibgCOO9etsDoXAqiJ...   \n",
      "2676  Fransen houden Rode Duivels van historische WK-finale  \\r\\n<http://interactief.standaard.be/optiext/optiextension.dll?ID=ql0PQJtgp0\\r\\nQk8mWzrNMu5D1GOcw8ZdfrrrPfeVeYEE_JzmIS4T%2BQBse9b5t3jNa_%2BWr...   \n",
      "3041  Snelwegbrug ingestort nabij Genua: vrees voor tientallen doden  \\r\\n<http://interactief.standaard.be/optiext/optiextension.dll?ID=TknzKh%2Bx\\r\\na%2BIuyip7i%2Bf3Z4V8whvZCOkHvXC6%2BGq5uSp4rkWuEc82xB...   \n",
      "3057  Beste lezer, speciaal voor jou geselecteerde weekendjes weg vanaf  37.50 p.p. Ontdek ze allemaal! Van Breda, over île-de-France tot Engeland \\r\\n\\r\\n<http://ims.hln.be/optiext/optiextension.dll?I...   \n",
      "3125  Beste lezer, speciaal voor jou geselecteerde weekendjes weg vanaf  37.50 p.p. Ontdek ze allemaal! Van de Belgische kust, over île-de-France tot Engeland \\r\\n\\r\\n<http://ims.hln.be/optiext/optiext...   \n",
      "3210  Kris Hoflack en Nicholas Lataire weg bij VTM, An Goovaerts tijdelijk hoofdredacteur VTM Nieuws  \\r\\n<http://interactief.standaard.be/optiext/optiextension.dll?ID=y_jN7axUo7\\r\\nsD_0psuGx_g8_ZNyAFAd...   \n",
      "3740  Beste lezer, speciaal voor jou geselecteerde reizen vanaf  39.50 p.p. Ontdek ze allemaal! Van de Belgische kust, over île-de-France tot leuke wintersportvakanties\\r\\n<http://ims.hln.be/optiext/op...   \n",
      "4008  Actie van 'gele hesjes' breidt uit naar Vlaanderen - VTM NIEUWS Update Actievoerders steken de taalgrens over en blokkeren nu ook een depot in\\r\\nVilvoorde; \\r\\n\\r\\n<http://ims.vtmnieuws.be/optiex...   \n",
      "4013  Beste lezer,  alle nu zwarte handtassen aan 70% korting! Black Friday super deal! \\r\\n\\r\\n<http://ims.hln.be/optiext/optiextension.dll?ID=xugCZelp6XGEevrlRDe9_GFm\\r\\nTQB_r9VLHX1sKZE7UrVPujL0CVZgZa...   \n",
      "\n",
      "     Lang  \n",
      "1555   en  \n",
      "1561   en  \n",
      "1564   en  \n",
      "1566   en  \n",
      "1569   en  \n",
      "1576   en  \n",
      "1580   en  \n",
      "472    en  \n",
      "1458   en  \n",
      "1967   en  \n",
      "2029   en  \n",
      "2278   en  \n",
      "2676   en  \n",
      "3041   en  \n",
      "3057   en  \n",
      "3125   en  \n",
      "3210   en  \n",
      "3740   en  \n",
      "4008   en  \n",
      "4013   en  \n"
     ]
    }
   ],
   "source": [
    "emailnl = email[email['Lang'] == \"nl\"]\n",
    "emailfr = email[email['Lang'] == \"fr\"]\n",
    "emailen = email[email['Lang'] == \"en\"]\n",
    "\n",
    "pd.set_option('display.max_colwidth', 200)\n",
    "print(emailnl.head(20))\n",
    "print(emailfr.tail(20))\n",
    "print(emailen.tail(20))"
   ]
  },
  {
   "cell_type": "markdown",
   "metadata": {},
   "source": [
    "We see that indeed a number of Dutch e-mails are incorrectly labelled as English. We decide to create a model for the Dutch e-mails only. In practice, you could try to remove all hyperlinks.  \n",
    "  \n",
    "Now we can **remove stop words and punctuations**. For removing stop words we can use the Python library NLTK (Natural Language Toolkit, see (NLTK 3.4.5 documentation, sd)), that contains all kinds of functions for handling natural language in Python. \n",
    "We apply the remove_stopwords_nl function to each message. This function splits the string into separate words (“tokens”) and only keeps the words that are not digits, not punctuation marks and not stop words. "
   ]
  },
  {
   "cell_type": "code",
   "execution_count": 4,
   "metadata": {},
   "outputs": [
    {
     "name": "stderr",
     "output_type": "stream",
     "text": [
      "[nltk_data] Downloading package stopwords to\n",
      "[nltk_data]     C:\\Users\\jcor864\\AppData\\Roaming\\nltk_data...\n",
      "[nltk_data]   Package stopwords is already up-to-date!\n",
      "C:\\Users\\jcor864\\Anaconda3\\lib\\site-packages\\ipykernel_launcher.py:24: SettingWithCopyWarning: \n",
      "A value is trying to be set on a copy of a slice from a DataFrame.\n",
      "Try using .loc[row_indexer,col_indexer] = value instead\n",
      "\n",
      "See the caveats in the documentation: https://pandas.pydata.org/pandas-docs/stable/user_guide/indexing.html#returning-a-view-versus-a-copy\n"
     ]
    }
   ],
   "source": [
    "# remove stopwords and punctuations\n",
    "import nltk\n",
    "nltk.download('stopwords')\n",
    "\n",
    "from nltk.corpus import stopwords \n",
    "from nltk.tokenize import word_tokenize \n",
    "import string\n",
    "    \n",
    "stop_words_nl = set(stopwords.words('dutch')) \n",
    "\n",
    "punctuations=\"?:!.,;<>/\\+-\"\n",
    "\n",
    "# define functions to remove digits stopwords from a string\n",
    "# I know we are copy-pasting code, but this is for now the simpliest way\n",
    "\n",
    "def remove_stopwords_nl(s):\n",
    "    word_tokens = word_tokenize(s) # turn the string into a list of words based on separators (blank, comma, etc.)\n",
    "    filtered_sentence = \"\"\n",
    "    for w in word_tokens: \n",
    "        if ~(w.isdigit()) & (w not in stop_words_nl) & (w not in punctuations): \n",
    "            filtered_sentence += ' ' + w\n",
    "    return filtered_sentence\n",
    "\n",
    "emailnl['Text'] = emailnl['Text'].apply(remove_stopwords_nl)"
   ]
  },
  {
   "cell_type": "code",
   "execution_count": 5,
   "metadata": {},
   "outputs": [
    {
     "name": "stdout",
     "output_type": "stream",
     "text": [
      "   Category  \\\n",
      "0       ADS   \n",
      "1       ADS   \n",
      "2       ADS   \n",
      "3       ADS   \n",
      "4       ADS   \n",
      "5       ADS   \n",
      "6       ADS   \n",
      "7       ADS   \n",
      "8       ADS   \n",
      "9       ADS   \n",
      "10      ADS   \n",
      "11      ADS   \n",
      "12      ADS   \n",
      "13      ADS   \n",
      "14      ADS   \n",
      "15      ADS   \n",
      "16      ADS   \n",
      "17      ADS   \n",
      "18      ADS   \n",
      "19      ADS   \n",
      "\n",
      "                                                                                                                                                                                                                                                                                                                                                                                                               Text  \\\n",
      "0    Alles halve prijs goedkoper https //www.groupon.be/analytic/trackintl.gif p=1 & utm_domain=telenet.be & nlp= & CID=BE & utm_source=channel_goods-deals & utm_medium=email & sid=8bb46cec-d83a-468a-863b-ce5fb472d663_0_20171109 & t_division=brugge & eh=e308d190475712edb82b289ee22ec42150753ead23b9fa9f308492b8ba2e9204 & date=20170911 & sender=rm & s=body & c=tracking_pixel & d=none https //www.grou...   \n",
      "1    Alles halve prijs goedkoper https //www.groupon.be/analytic/trackintl.gif p=1 & utm_domain=telenet.be & nlp= & CID=BE & utm_source=channel_goods-deals & utm_medium=email & sid=8bb46cec-d83a-468a-863b-ce5fb472d663_0_20171109 & t_division=aalst & eh=51d09ac8e66a1f3df34c00064812b158bc39f676dab246be4dffa83e3f6aa31e & date=20170911 & sender=rm & s=body & c=tracking_pixel & d=none https //www.group...   \n",
      "2    Wat krijgen we Weer EXTRA korting https //www.groupon.be/analytic/trackintl.gif p=1 & utm_domain=telenet.be & nlp= & CID=BE & utm_source=merchandising & utm_medium=email & sid=73b3ddec-705b-4ff7-ba53-01b0ce6fb588_0_20171109 & t_division=brugge & eh=e308d190475712edb82b289ee22ec42150753ead23b9fa9f308492b8ba2e9204 & date=20170911 & sender=rm & s=body & c=tracking_pixel & d=none https //www.grou...   \n",
      "3    Wat krijgen we Weer EXTRA korting https //www.groupon.be/analytic/trackintl.gif p=1 & utm_domain=telenet.be & nlp= & CID=BE & utm_source=merchandising & utm_medium=email & sid=73b3ddec-705b-4ff7-ba53-01b0ce6fb588_0_20171109 & t_division=aalst & eh=51d09ac8e66a1f3df34c00064812b158bc39f676dab246be4dffa83e3f6aa31e & date=20170911 & sender=rm & s=body & c=tracking_pixel & d=none https //www.group...   \n",
      "4    Armband activiteitstracker Apple iPhone 6/6 Plus Winters gezichtsmasker Apple iPad Air 64GB 4G & Meer https //www.groupon.be/analytic/trackintl.gif p=1 & utm_domain=telenet.be & utm_campaign=e5e8b957-a948-481e-ab6c-f4d04148a61a_0_20171109 & deals=f2e7f0be-3e02-46ac-ba8a-d9cd337eb223,78add8aa-ad27-42e2-a820-26ab63da0393,4476edf9-4569-470e-bb4e-1b3054ed5e29,24e2a04e-f62d-43cc-b0f5-579592ea9da5,...   \n",
      "5    Armband activiteitstracker Draadloze bewegingssensor ledverlichting Apple iPad Air 64GB 4G Apple MacBook Air 11-inch & Meer https //www.groupon.be/analytic/trackintl.gif p=1 & utm_domain=telenet.be & utm_campaign=e5e8b957-a948-481e-ab6c-f4d04148a61a_0_20171109 & deals=f2e7f0be-3e02-46ac-ba8a-d9cd337eb223,8f1eaeb9-3d40-4240-842b-d01b643042d8,24e2a04e-f62d-43cc-b0f5-579592ea9da5 b519e105-2a89-4...   \n",
      "6    Beperkt geldig -20 % artikel keuze Geniet ervan vrijdag vanaf 16u sluiting winkel maandag vanaf opening 11u https //gridinbound.blob.core.windows.net/gic/i.png h=hQiLPdjr6+pvrS+tn67NEn/dGMULUkNtcNtRLzMIaoV/+xArcF1XZ8+9bckGK9Io https //bricobelgium.slgnt.eu/optiext/optiextension.dll ID=kOPkTNgqNT5YYMv0L % 2BmXpefTlJoLUFWC_QBJV7iXi2tr6wUAdil_9QQorWUDnJTvCOE4RRYDF23dfulIpRBPSuCsnEOA2 Geniet erva...   \n",
      "7    Verrassingskorting jou https //www.groupon.be/analytic/trackintl.gif p=1 & utm_domain=telenet.be & utm_campaign=575efc4e-ba1b-43ec-b493-6653a6ed7528_0_20171109 & deals=5b549092-5ec7-41de-838f-207f71975bc4,81af1944-42a2-4729-889d-c610d228b8ce f5e24850-4960-4f13-8303-0670ffc43789,74cb60de-f025-4c21-9f6e-3f4aa1241f2e,59f49af2-09f8-4a65-bcfa-a0745d9c6bd5 e1ece59b-de13-4117-9c94-9f5c39ebe7d3,9f4a9...   \n",
      "8    Verrassingskorting jou https //www.groupon.be/analytic/trackintl.gif p=1 & utm_domain=telenet.be & utm_campaign=6df3c674-2bdf-4dcb-a449-a5f501831221_0_20171109 & deals=0513a1fe-269e-fff1-f59c-43dcefe1e9fc,16a310f0-96ac-4035-a2fe-fedf1935cffa a0fdf26b-cf2e-4fbb-9234-e4f0601d9fb4,5b549092-5ec7-41de-838f-207f71975bc4 caf74b18-58a3-446b-8908-d6904abc2099 c2ede884-d27b-47dd-95ac-ebf760425d4c,395a5...   \n",
      "9    Welke televisie past Tot % korting LG monitoren | https //gridinbound.blob.core.windows.net/gic/i.png h=PYx26DXU3a5Tr3D31apd55Cw3jNr7SwMcB9xGmkQ+nEiiz6lRIvxP6TO0ZQpOF8n https //mail.coolblue.eu/optiext/opti_HdcHctWk4 % 2Bh8mRFYmsESDk0eKMNcq93tzBxrgZh % 2BIopziVWrid6O3pgOovVQkmJ106qAVAq5s0fsD4 % 2BXxV7G4 % 2BjZZ6D4XjNaO8ZxMCbv.htm Bekijk hele assortiment https //mail.coolblue.eu/optiext/opti_H...   \n",
      "10   2+1 GRATIS 2e product -50 % maand onmisbare aanbiedingen gaat verder Bestel simply you box lekker eten leven makkelijker maken http //t.newsletter.carrefour.eu/r/ id=hf9f2cec c411328 c577186 Als e-mail kunt lezen klik http //t.newsletter.carrefour.eu/r/ id=hf9f2cec c411328 c577187 & p1= % 40NGJZNtkzv % 2FJo2viG7T8cpMqwJQSVPprdLUdaS7vQ1 % 2B0 % 3D http //res.newsletter.carrefour.eu/res/img/E38...   \n",
      "11   1+1 Perfection muurverf winkel Sla slag Laatste week projecten vriendenprijs https //gridinbound.blob.core.windows.net/gic/i.png h=udw/xbvmeujC/VJ+bnS3AyAev1YxdcY2TTDvTClDyw7/2ACb+Ydio613BHxAhaWU https //bricobelgium.slgnt.eu/optiext/optiextension.dll ID=WstWt1BpSoRzgsUOS4sO2PpxBJrVMN0z_WlfdO5Y4eAOTN9G4AIp8t07Cm9t9xhOPNKFFtK9KvY4OFOWp2AvJ6bjELIG1 Laatste week projecten vriendenprijs Consultee...   \n",
      "12   Net binnen De nieuwste deals https //www.groupon.be/analytic/trackintl.gif p=1 & utm_domain=telenet.be & nlp= & CID=BE & utm_source=channel_goods-deals & utm_medium=email & sid=6a18db4b-7aaf-4696-a5a5-eb6bdaac4a52_0_20171108 & t_division=brugge & eh=e308d190475712edb82b289ee22ec42150753ead23b9fa9f308492b8ba2e9204 & date=20170811 & sender=rm & s=body & c=tracking_pixel & d=none https //www.gro...   \n",
      "13   Net binnen De nieuwste deals https //www.groupon.be/analytic/trackintl.gif p=1 & utm_domain=telenet.be & nlp= & CID=BE & utm_source=channel_goods-deals & utm_medium=email & sid=6a18db4b-7aaf-4696-a5a5-eb6bdaac4a52_0_20171108 & t_division=aalst & eh=51d09ac8e66a1f3df34c00064812b158bc39f676dab246be4dffa83e3f6aa31e & date=20170811 & sender=rm & s=body & c=tracking_pixel & d=none https //www.grou...   \n",
      "14   Je korting Groupon Travel VERLENGD https //www.groupon.be/analytic/trackintl.gif p=1 & utm_domain=telenet.be & nlp= & CID=BE & tx=0 & utm_source=channel_getaways-deals & utm_medium=email & sid=07b4b8f4-3ff5-491f-9418-0fee5c133a29_0_20171108 & t_division=brugge & eh=e308d190475712edb82b289ee22ec42150753ead23b9fa9f308492b8ba2e9204 & date=20170811 & sender=rm & s=body & c=tracking_pixel & d=none...   \n",
      "15   Je korting Groupon Travel VERLENGD https //www.groupon.be/analytic/trackintl.gif p=1 & utm_domain=telenet.be & nlp= & CID=BE & tx=0 & utm_source=channel_getaways-deals & utm_medium=email & sid=07b4b8f4-3ff5-491f-9418-0fee5c133a29_0_20171108 & t_division=aalst & eh=51d09ac8e66a1f3df34c00064812b158bc39f676dab246be4dffa83e3f6aa31e & date=20170811 & sender=rm & s=body & c=tracking_pixel & d=none ...   \n",
      "16   '' 4K Curved LED TV Microsoft Windows Apple iPhone 6/6 Plus 16/64/128GB 3-in-1 memory sticks 64/128 GB & Meer https //www.groupon.be/analytic/trackintl.gif p=1 & utm_domain=telenet.be & utm_campaign=e5e8b957-a948-481e-ab6c-f4d04148a61a_0_20171108 & deals=6f69eaa1-a7f3-475b-abb8-79ac877878a6 df6eb44c-5c40-4600-b7a7-e52824cd1451,0c26bb48-46db-49fb-ab0d-2cbd0705b0df dedd103f-cf52-4a06-a210-c2952...   \n",
      "17   Flanellen dekbedovertrek 3-in-1 memory sticks 64/128 GB '' 4K Curved LED TV Matras Graphene Deluxe cm & Meer https //www.groupon.be/analytic/trackintl.gif p=1 & utm_domain=telenet.be & utm_campaign=e5e8b957-a948-481e-ab6c-f4d04148a61a_0_20171108 & deals=d5acdc06-8150-4c24-a36d-8fdc359822d7 dedd103f-cf52-4a06-a210-c2952cd0cbed,6f69eaa1-a7f3-475b-abb8-79ac877878a6 eb22096e-4957-4b8e-8d27-8c003a...   \n",
      "18   2-gangenmenu ribbetjes à volonté Anti-stress lichaamsmassage minuten https //www.groupon.be/analytic/trackintl.gif p=1 & utm_domain=telenet.be & utm_campaign=575efc4e-ba1b-43ec-b493-6653a6ed7528_0_20171108 & deals=74cb60de-f025-4c21-9f6e-3f4aa1241f2e,5b549092-5ec7-41de-838f-207f71975bc4,81af1944-42a2-4729-889d-c610d228b8ce,9f4a993b-4f80-452b-9d8e-2dbf20b9e147 c2ede884-d27b-47dd-95ac-ebf760425...   \n",
      "19   Zeeland 1-3 nachten ontbijt drankje Anti-stress lichaamsmassage minuten https //www.groupon.be/analytic/trackintl.gif p=1 & utm_domain=telenet.be & utm_campaign=6df3c674-2bdf-4dcb-a449-a5f501831221_0_20171108 & deals=81af1944-42a2-4729-889d-c610d228b8ce,5b549092-5ec7-41de-838f-207f71975bc4,9f4a993b-4f80-452b-9d8e-2dbf20b9e147,34540c38-abad-4274-aa9c-8c082a87f2fa c2ede884-d27b-47dd-95ac-ebf760...   \n",
      "\n",
      "   Lang  \n",
      "0    nl  \n",
      "1    nl  \n",
      "2    nl  \n",
      "3    nl  \n",
      "4    nl  \n",
      "5    nl  \n",
      "6    nl  \n",
      "7    nl  \n",
      "8    nl  \n",
      "9    nl  \n",
      "10   nl  \n",
      "11   nl  \n",
      "12   nl  \n",
      "13   nl  \n",
      "14   nl  \n",
      "15   nl  \n",
      "16   nl  \n",
      "17   nl  \n",
      "18   nl  \n",
      "19   nl  \n"
     ]
    }
   ],
   "source": [
    "pd.set_option('display.max_colwidth', 400)\n",
    "print(emailnl.head(20))"
   ]
  },
  {
   "cell_type": "markdown",
   "metadata": {},
   "source": [
    "NLTK also offers stemming. The SnowballStemmer is available for many languages, also for Dutch. "
   ]
  },
  {
   "cell_type": "code",
   "execution_count": 6,
   "metadata": {},
   "outputs": [
    {
     "name": "stderr",
     "output_type": "stream",
     "text": [
      "C:\\Users\\jcor864\\Anaconda3\\lib\\site-packages\\ipykernel_launcher.py:13: SettingWithCopyWarning: \n",
      "A value is trying to be set on a copy of a slice from a DataFrame.\n",
      "Try using .loc[row_indexer,col_indexer] = value instead\n",
      "\n",
      "See the caveats in the documentation: https://pandas.pydata.org/pandas-docs/stable/user_guide/indexing.html#returning-a-view-versus-a-copy\n",
      "  del sys.path[0]\n"
     ]
    }
   ],
   "source": [
    "# Stemming: replace words by stem\n",
    "from nltk.stem.snowball import SnowballStemmer\n",
    "\n",
    "dutchStemmer=SnowballStemmer(\"dutch\")\n",
    "\n",
    "def stemming_nl(s):\n",
    "    word_tokens = word_tokenize(s) # turn the string into a list of words based on separators (blank, comma, etc.)\n",
    "    stemmed_sentence = \"\"\n",
    "    for w in word_tokens: \n",
    "        stemmed_sentence += ' ' + dutchStemmer.stem(w)\n",
    "    return stemmed_sentence\n",
    "\n",
    "emailnl['Text'] = emailnl['Text'].apply(stemming_nl)"
   ]
  },
  {
   "cell_type": "code",
   "execution_count": 7,
   "metadata": {},
   "outputs": [
    {
     "name": "stdout",
     "output_type": "stream",
     "text": [
      "     Category  \\\n",
      "4371     NEWS   \n",
      "4372     NEWS   \n",
      "4373     NEWS   \n",
      "4374     NEWS   \n",
      "4375     NEWS   \n",
      "4376     NEWS   \n",
      "4377     NEWS   \n",
      "4378     NEWS   \n",
      "4379     NEWS   \n",
      "4380     NEWS   \n",
      "4381     NEWS   \n",
      "4382     NEWS   \n",
      "4383     NEWS   \n",
      "4384     NEWS   \n",
      "4385     NEWS   \n",
      "4386     NEWS   \n",
      "4387     NEWS   \n",
      "4388     NEWS   \n",
      "4389     NEWS   \n",
      "4390     NEWS   \n",
      "\n",
      "                                                                                                                                                                                                                                                                                                                                                                                                                 Text  \\\n",
      "4371   nieuw antwerp coalitie gat 'grot verbind ' vtm nieuw updat n-va sp.a open vld ontwerp-bestuursakkoord http //ims.vtmnieuws.be/optiext/optiextension.dll id=ijbmmq1mdl506r70oyp_kgpbz3grdufbflipbuawqil2quozgwtvct4slhrkuadqvjddlkquywd % 2bzjfxb2kph5xhzp is e-mail goed leesbar bekijk onlin versie http //ims.vtmnieuws.be/optiext/optiextension.dll id=ijbiufd8h5gmkfmzwtovven2ta % 2bhpb20f2z01jcpwndvt...   \n",
      "4372   fortis-schik ageas definitief '2019 moeilijk beursjar ' christelijk vakbond stemt nieuw loonbeleid belfius van minder last groen leasewagen belgisch black-out http //messagent.roulartamail.be/optiext/optiextension.dll id=ncwnz9xoh2tfowgati3xokzvwwus1jnyatdi % 2b1ityuxlx7tjcm0b5iloy8extkoiga97yj_e5xhxgb % 2bi4zmu7e09swnezi https //ipe.roulartamail.be/nlo n=59f6ff97fa8c863b88bc578c & h=bb2d5080...   \n",
      "4373   meulebekenar genomineerd prestigieuz persprijs * marktbus auto bots ingelmunster http //messagent.roulartamail.be/optiext/optiextension.dll id=apzas3dk9mfmnykjcxu2g4zxpcrzzkxblibxkfjejbpmbp9oqk6ok6jr1_ii64ulqpq8a78v9exavkzg63wssewn % 2bglbq7 klik http //messagent.roulartamail.be/optiext/optiextension.dll id=apznatoefywnhqverhs7unugjwgnyui9m31wrqvxmwdkktdgs3zwikyel8dpetuxjhhyttla9wqjtssik6uco9...   \n",
      "4374   nieuw auto slechter klimat ontdiesel gen geld del amerikan overheidsdienst bek wanner stopt n-va bochtenwerk  twee verdacht opgepakt stillegg luchthav gatwick http //interactief.standaard.be/optiext/optiextension.dll id=uxovreotzqc73lp41vldc3b % 2bsshwl1zickf7n2cwmvothb14juttyjlc55v_ynogzyct5rs9yw8sywyy7fpikndokizbwt is mail onles klik http //sso.interactief.standaard.be/optiext/optiextens...   \n",
      "4375   oostkamp zwembad de valkaart gat volgend jar maand dicht renovatiewerk bart de verbinder gelov sp.a'er genoeg http //ims.hln.be/optiext/optiextension.dll id=xugxhhbaq9jtokmboq3rr1vxq46vitrqgmyzewvpfxarn42kynwcxemvhgtlibwkdoj62fgv2chbcecrmvkw4chggnmkk3 het zwembad valkaart oostkamp mei eind volgend jar geslot renovatiewerk de bouw zwembad ging a ... http //ims.persgroep.be/images/images_genera...   \n",
      "4376   di rupo 'confederalism jamais ' | hop mooi grijz zwan | wanner envelopj kerst schenking http //mailing.mediafin.be/optiext/optiextension.dll id=vnmvia0yoabxsoa6oduije2c98s0rzxdggjuu4d3idvd4kxfg82oy79k37v5xigjvbozmc9wj1egffcgpxy3vyl3iz5417plmnersppu http //www.tijd.b de tijd weekend zaterdag december best lezer aan vooravond kerstmis onz weekendkrant wollig bijzonder klar tal gesprok confeder...   \n",
      "4377   het best trend vandag belgisch black-out volgend federal reger krijgt dadelijk mes kel gezet economisch problem til unifly haalt 14,6 miljoen euro droneverker goed ban leid van moeilijk beursjar brit investeerder combell http //messagent.roulartamail.be/optiext/optiextension.dll id=pnkr_hodtyaacszj0n1m9pvdnmpypi5zcopu9dodfuymzqxsi82 % 2b6n8fqn62dxs5vk8xagesaw9ux4gksgxi_xghq0bi9w http //messag...   \n",
      "4378   iba procent piek mei http //mailing.mediafin.be/optiext/optiextension.dll id=lhglgse1pox % 2b2z6a8c1vvus1agwlzrwx4la5tvkuazjpxm1nslw86k1f1ycq4rkgu7xihvpudtq % 2bpoyyzmmgw2nthu34brl % 2bgrkbyfo http //www.tijd.b de beur vandag vrijdag december best lezer het beloofd winstherstel twed jaarhelft bekaert dat komt afwaarder probleemdochter bbrg perrigo farmareus eigenar omega pharma krijgt beur pa...   \n",
      "4379   `` ik hop land onbestur `` wie dries van langenhov ( ) posterboy rechts-conservatief vlaander http //ims.hln.be/optiext/optiextension.dll id=ql0robilnez6xkuqgx1m7yytupvtganq7 % 2b % 2b307ysl4zz3drokkf5vw91kzg0yoloedqby3cg9spqn4iqasoj34iouvlh % 2bf het strak spann ledenvergader sp.a antwerp nar schatting led opgedaagd stem ... http //ims.persgroep.nl/images/webbit/10x10.gif http //ims.persgroe...   \n",
      "4380   klaasj gert verhulst k3-liedj geil vond dat mag wel beetje ze sensueel paaldans loopt fout drew barrymor toont donker kant gelukkige hollywoodlev https //click.mlsend.com/link/o/yt0xmduxotk2mjc5nta2mjexmdyzjmm9czbhoszlptq1nzy=.m4bolczdzb55v6qysvzvgb-iazajl_67u11h5fc6msq kunt e-mail goed lez klik ... https //click.mlsend.com/link/c/yt0xmduxotk2mjc5nta2mjexmdyzjmm9czbhoszlptq1nzymyj0ymje5ot...   \n",
      "4381   heeft regering-michel rijker gemaakt het eindrapport al tien dod blokkades gel hesjes vlaander gat onthard en vijf gemeent ziet signal rechts-extremisme http //interactief.standaard.be/optiext/optiextension.dll id=ql0qj % 2bjwbdxudm0ayao7lvob3ym8r9id % 2bvg9ormsyosi3kilw9ur6hkduqnslxm3bgibo8xuzpfortrf08rqlrfkk549ca is mail onles klik http //sso.interactief.standaard.be/optiext/optiextensi...   \n",
      "4382   jinnih bel ( sp.a ) emotionel bestuursakkoord `` blij begrijp frustratie partijled `` vtm nieuw updat het partijcongres sp.a antwerp urenlang vergader ontwerp-bestuursakkoord n-va sp.a open vld goedgekeurd ondank flink intern tegenwind http //ims.vtmnieuws.be/optiext/optiextension.dll id=hvlqhl4npxogjs0rxjbs32aogof8zvuno7tmtjcfn8ec8jhdlzwbwe1mf0pxyjenvhw9d3ipfxet3er2w % 2bnu2t_ntb is e-mail g...   \n",
      "4383   politie verklar inbraakplag brugg * aanleg diksmuid ring lat wacht http //messagent.roulartamail.be/optiext/optiextension.dll id=7yu75xa0onlatlonqu0vln_x9td0iuix % 2b_ajmty0k7x4dbj6ypx5k1fgoo4z_u3attsd2qeqzwvieamaff7eebqc % 2bz1riw klik http //messagent.roulartamail.be/optiext/optiextension.dll id=7yujieln5mgdwxnrqrj1kbnxykasalat31fni2gr21ha4qm2szouni4thnk5djy0epsc7gmr0giwvmhlcpxktr5nnbj8ru47...   \n",
      "4384   de belegger zondag december http //mailing.mediafin.be/optiext/optiextension.dll id=5ba5dxesjd9tbp2qoyjharnpbaacklvxqpyedo3odijnze1jrjejwe7613dlh % 2bdyiop9trbowihnnhvmn5ksrrr6tx0b52awx17u5xzz is boodschap onles surf www.belegger.b http //mailing.mediafin.be/optiext/optiextension.dll id=5ra5yzo_v78clhjoniimvxsevfxu_5bmskc7n8ghkdmdfblpwe8wof8tch5wcfapz8ffternq7yuliknolyf8kyeas1ho dez nieuwsbri...   \n",
      "4385   brugg video brug leerkracht verkled kerstman onthaald rockster egypt dod minsten gewond tsunami indonesie schokkend beeld ton vloedgolf inslat tijden concert http //ims.hln.be/optiext/optiextension.dll id=7yu7ni63jxvwj3is0icd5ylua_dktudeqvqsdryprm383pm1fw5jfc2lfp2lzhuy7flvteysqxc8dj0azd % 2b5n70o3k6fpr een brug leerkracht zaterdagmiddag rockster onthaald vakantiebestemm egypt ... kerstman vl ...   \n",
      "4386   al dod geteld tsunami indonesie belg trek kerstmis massal kerk wie mag afluister huawei trump hoe zet godsnam 10.000 stapp per dag http //interactief.standaard.be/optiext/optiextension.dll id=mie4v2_6katby0un92 % 2blyih3nvl5yrui8fdav10pppy14p7fecspu33flnl6_ui3ejxbxjjcjhpaqocsivpu_zsoygw % 2bwz is mail onles klik http //sso.interactief.standaard.be/optiext/optiextension.dll id=mieth % 2bnaxpbz...   \n",
      "4387   astrid coppen heuglijk nieuw dit vrouw echt grag bed zo prat jij mee bitcoin tijden feestdag https //click.mlsend.com/link/o/yt0xmduynjcwnje4mti3odmxnzuyjmm9ztbnnszlptq1nzy=.kmgq9t7wmdsckkslneqwh7ok3b0gihyaizyy11gnxm4 kunt e-mail goed lez klik ... https //click.mlsend.com/link/c/yt0xmduynjcwnje4mti3odmxnzuyjmm9ztbnnszlptq1nzymyj0ymjiwotexodamzd11mgy0yjf4.6wk-hzt7-1livhqkmmybavukbhlye45lzx9cy9...   \n",
      "4388   dod tsunami indonesie pelsdierkwek verbod geweld nieuw astrid coppen http //ims.hln.be/optiext/optiextension.dll id=9 % 2bd7iadjv6rnupsee9cblaqn7oui0agplzcbgxgswtbsfow1o % 2bsbyjjjgwictltywxgkdirzrhnttagcbxgbfnuqccp5gw bij tsunami zeestrat soenda tuss indonesisch eiland java sumatra minsten mens lev gekom ... http //ims.persgroep.nl/images/webbit/10x10.gif http //ims.persgroep.nl/images/webbi...   \n",
      "4389   de wever hard de block `` we gan asielaanvrag per dag `` vtm nieuw updat maggie de block ( open vld ) meten val reger kritiek migratiebeleid theo franck ( n-va ) http //ims.vtmnieuws.be/optiext/optiextension.dll id=y78bowxqkjvmm0ybns23ehcnaru8zz8u8h8a7xr8h1lyz0bojeymgd3_uneukar9garjsynfqfrd0dwch % 2b4_1nd5kr is e-mail goed leesbar bekijk onlin versie http //ims.vtmnieuws.be/optiext/optiextens...   \n",
      "4390   13-jarig bruggel kritiek toestand val * club brugg geeft antwerp 5-1 pandoer http //messagent.roulartamail.be/optiext/optiextension.dll id=cfoxjns7ykrgfy8zvnwq4iuzvexrgjgfcdxezh_ivkjmlwbkysjwe2icqdvdah2yjnqgbr3aqwyt7qfp3lsptxej8t6i7q klik http //messagent.roulartamail.be/optiext/optiextension.dll id=cfohgumhkbkjguwt8rqmfeqkzkpszdig7xbsycqmcncjtrb44chvzwlcuuczimdsyh % 2bw3e8tdzuhri4cmakp % 2bm...   \n",
      "\n",
      "     Lang  \n",
      "4371   nl  \n",
      "4372   nl  \n",
      "4373   nl  \n",
      "4374   nl  \n",
      "4375   nl  \n",
      "4376   nl  \n",
      "4377   nl  \n",
      "4378   nl  \n",
      "4379   nl  \n",
      "4380   nl  \n",
      "4381   nl  \n",
      "4382   nl  \n",
      "4383   nl  \n",
      "4384   nl  \n",
      "4385   nl  \n",
      "4386   nl  \n",
      "4387   nl  \n",
      "4388   nl  \n",
      "4389   nl  \n",
      "4390   nl  \n"
     ]
    }
   ],
   "source": [
    "pd.set_option('display.max_colwidth', 400)\n",
    "print(emailnl.tail(20))"
   ]
  },
  {
   "cell_type": "markdown",
   "metadata": {},
   "source": [
    "As usual we split the data set into a training and test set. "
   ]
  },
  {
   "cell_type": "code",
   "execution_count": 8,
   "metadata": {},
   "outputs": [],
   "source": [
    "# Split in test and training set\n",
    "from sklearn.model_selection import train_test_split\n",
    "X = emailnl.drop('Category',axis=1)\n",
    "y = emailnl['Category']\n",
    "X_train, X_test, y_train, y_test = train_test_split(X,y,test_size=0.30)"
   ]
  },
  {
   "cell_type": "markdown",
   "metadata": {},
   "source": [
    "The **TFidfVectorizer** is a great tool from Scikit-Learn to calculate the tf-idf score for each distinct word in the complete data set (in this case the training set X_train). It creates a matrix in which the number of rows equals the number of documents (in this case the e-mails in the training set) and the number of columns equals the number of distinct words in the complete set of documents. Each cell contains the tfidf score for the corresponding word in the corresponding document.  \n",
    "  \n",
    "The function **get_feature_names()** of **TFidfVectorizer** return all the differents words in the document set.  \n",
    "  \n",
    "If you would like to use the raw word count instead of the tfidf score you could use **CountVectorizer**. "
   ]
  },
  {
   "cell_type": "code",
   "execution_count": 9,
   "metadata": {},
   "outputs": [
    {
     "name": "stdout",
     "output_type": "stream",
     "text": [
      "583552\n"
     ]
    }
   ],
   "source": [
    "# Apply TfidVectorizer\n",
    "\n",
    "from sklearn.feature_extraction.text import TfidfVectorizer\n",
    "\n",
    "vec = TfidfVectorizer()\n",
    "X = vec.fit_transform(X_train['Text'])\n",
    "print(len(vec.get_feature_names()))"
   ]
  },
  {
   "cell_type": "markdown",
   "metadata": {},
   "source": [
    "We see we have 573917 different words in the training set. Due to the heavy use of URL’s and other codes in the training set many of those “words” are probably not words of the natural language.   \n",
    "  \n",
    "We are now ready for building the model. We use a concept that often occurs in machine learning: **pipelines**. This allows us to combine several operations into a single compound operation (“a pipeline”). We use it to combine the TfidVectorizer and the VotingClassifier, we used before, into a pipeline. Due to the uniform API of all Scikit-learn classes the output of the TfidVectorizer is compatible with the input of the VotingClassifier. "
   ]
  },
  {
   "cell_type": "code",
   "execution_count": 10,
   "metadata": {},
   "outputs": [],
   "source": [
    "from sklearn.naive_bayes import MultinomialNB\n",
    "from sklearn.linear_model import LogisticRegression\n",
    "from sklearn.ensemble import RandomForestClassifier, VotingClassifier\n",
    "from sklearn.pipeline import make_pipeline\n",
    "\n",
    "lr = LogisticRegression(solver='newton-cg')\n",
    "rf = RandomForestClassifier(n_estimators=150)\n",
    "nb =  MultinomialNB()\n",
    "\n",
    "voting = VotingClassifier(estimators=[('lr', lr), ('rf', rf), ('mnb', nb)], voting='hard')\n",
    "model = make_pipeline(TfidfVectorizer(), voting)\n",
    "\n",
    "model.fit(X_train[\"Text\"], y_train)\n",
    "categories = model.predict(X_test[\"Text\"])"
   ]
  },
  {
   "cell_type": "markdown",
   "metadata": {},
   "source": [
    "Let's determine the accuracy of the model. "
   ]
  },
  {
   "cell_type": "code",
   "execution_count": 11,
   "metadata": {},
   "outputs": [
    {
     "name": "stdout",
     "output_type": "stream",
     "text": [
      "99.60629921259843\n"
     ]
    }
   ],
   "source": [
    "from sklearn.metrics import accuracy_score\n",
    "print(accuracy_score(y_test, categories)*100)"
   ]
  },
  {
   "cell_type": "markdown",
   "metadata": {},
   "source": [
    "We get an amazing accuracy of over 99.5 %!  \n",
    "  \n",
    "This is confirmed by the confusion matrix that shows only very few messages are \"off-diagonal\". This high score is probably due to the fact that all e-mails in the input data set are coming from professional, streamlined sources, that have fixed structures, clear topics (e.g. only job openings) and no spelling errors. E-mails written by humans to a e.g. help desk might contain spelling errors and topics might be more confuse or mixed. "
   ]
  },
  {
   "cell_type": "code",
   "execution_count": 12,
   "metadata": {},
   "outputs": [
    {
     "data": {
      "image/png": "[encoded data removed]",
      "text/plain": [
       "<Figure size 432x288 with 1 Axes>"
      ]
     },
     "metadata": {},
     "output_type": "display_data"
    }
   ],
   "source": [
    "from sklearn.metrics import confusion_matrix\n",
    "import matplotlib.pyplot as plt\n",
    "\n",
    "plt.style.use('classic')\n",
    "%matplotlib inline\n",
    "import seaborn as sns; sns.set()\n",
    "\n",
    "mat = confusion_matrix(y_test, categories)\n",
    "\n",
    "labels = ['ADS','ICT','JOB','NEWS']\n",
    "\n",
    "sns.heatmap(mat.T, square=True, annot=True, fmt='d', cbar=False,xticklabels=labels, yticklabels=labels)\n",
    "plt.xlabel('true category')\n",
    "plt.ylabel('predicted category');"
   ]
  },
  {
   "cell_type": "markdown",
   "metadata": {},
   "source": [
    "Finally we can write a function to classify an unseen e-mail text. This function can then be integrated as an inbox rule in the e-mail program. This step is called deployment of the model and the corresponding workload might not be underestimated."
   ]
  },
  {
   "cell_type": "code",
   "execution_count": 13,
   "metadata": {},
   "outputs": [
    {
     "name": "stdout",
     "output_type": "stream",
     "text": [
      "ADS\n",
      "NEWS\n"
     ]
    }
   ],
   "source": [
    "def predict_category(s, model=model):\n",
    "    s = remove_stopwords_nl(s)\n",
    "    s = stemming_nl(s)\n",
    "    pred = model.predict([s])\n",
    "    return pred[0]\n",
    "\n",
    "print(predict_category(\"Pauwels consulting is looking for an experienced PHP back- end developer to complete its development team . \"))\n",
    "print(predict_category(\"Terug naar af: na vijf maanden begraaft Magnette een regering met PS én N-VA\"))\n"
   ]
  },
  {
   "cell_type": "markdown",
   "metadata": {},
   "source": [
    "This model has been trained a few years ago. It might be that over time the nature of some e-mail categories have changed. Therefore it's recommeded that you retrain your model on a regularly basis."
   ]
  }
 ],
 "metadata": {
  "celltoolbar": "Slideshow",
  "kernelspec": {
   "display_name": "Python 3",
   "language": "python",
   "name": "python3"
  },
  "language_info": {
   "codemirror_mode": {
    "name": "ipython",
    "version": 3
   },
   "file_extension": ".py",
   "mimetype": "text/x-python",
   "name": "python",
   "nbconvert_exporter": "python",
   "pygments_lexer": "ipython3",
   "version": "3.7.6"
  }
 },
 "nbformat": 4,
 "nbformat_minor": 2
}
