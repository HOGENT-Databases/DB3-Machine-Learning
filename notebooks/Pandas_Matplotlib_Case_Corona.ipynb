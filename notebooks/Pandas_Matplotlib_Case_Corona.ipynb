{
  "nbformat": 4,
  "nbformat_minor": 0,
  "metadata": {
    "kernelspec": {
      "display_name": "Python 3",
      "language": "python",
      "name": "python3"
    },
    "language_info": {
      "codemirror_mode": {
        "name": "ipython",
        "version": 3
      },
      "file_extension": ".py",
      "mimetype": "text/x-python",
      "name": "python",
      "nbconvert_exporter": "python",
      "pygments_lexer": "ipython3",
      "version": "3.8.3-final"
    },
    "rise": {
      "scroll": true
    },
    "colab": {
      "name": "corona_starter.ipynb",
      "provenance": [],
      "collapsed_sections": []
    }
  },
  "cells": [
    {
      "cell_type": "markdown",
      "metadata": {
        "id": "oOzO3jb2YEEy"
      },
      "source": [
        "## Pandas & Matplotlib: case COVID-19\n",
        "### Pandas\n",
        "**Pandas** is one of the most widely used python libraries in data science. It provides high-performance, easy to use structures and data analysis tools. It also provides an in-memory 2d table object called Dataframe. This can be compared to a spreadsheet with column names and row labels. Hence, with 2d tables, pandas is capable of providing many additional functionalities like creating pivot tables, computing columns based on other columns and plotting graphs. "
      ]
    },
    {
      "cell_type": "code",
      "metadata": {
        "id": "Xh9YOW5jYEEz"
      },
      "source": [
        "import pandas as pd\n",
        "import numpy as np"
      ],
      "execution_count": 1,
      "outputs": []
    },
    {
      "cell_type": "code",
      "metadata": {
        "id": "JIUzR4dCYEE3"
      },
      "source": [
        "coviddata = pd.read_csv(\"https://opendata.ecdc.europa.eu/covid19/casedistribution/csv\")"
      ],
      "execution_count": 2,
      "outputs": []
    },
    {
      "cell_type": "code",
      "metadata": {
        "id": "ULxIDJ-F8Wc4",
        "outputId": "6a8c9f02-c561-4b67-924a-85ac728748c9",
        "colab": {
          "base_uri": "https://localhost:8080/",
          "height": 200
        }
      },
      "source": [
        "# Print the first 5 (default value) records\n",
        "coviddata.head()"
      ],
      "execution_count": 3,
      "outputs": [
        {
          "output_type": "execute_result",
          "data": {
            "text/plain": [
              "      dateRep  day  month  year  cases  deaths countriesAndTerritories geoId  \\\n",
              "0  27/10/2020   27     10  2020    199       8             Afghanistan    AF   \n",
              "1  26/10/2020   26     10  2020     65       3             Afghanistan    AF   \n",
              "2  25/10/2020   25     10  2020     81       4             Afghanistan    AF   \n",
              "3  24/10/2020   24     10  2020     61       2             Afghanistan    AF   \n",
              "4  23/10/2020   23     10  2020    116       4             Afghanistan    AF   \n",
              "\n",
              "  countryterritoryCode  popData2019 continentExp  \\\n",
              "0                  AFG   38041757.0         Asia   \n",
              "1                  AFG   38041757.0         Asia   \n",
              "2                  AFG   38041757.0         Asia   \n",
              "3                  AFG   38041757.0         Asia   \n",
              "4                  AFG   38041757.0         Asia   \n",
              "\n",
              "   Cumulative_number_for_14_days_of_COVID-19_cases_per_100000  \n",
              "0                                           2.902074           \n",
              "1                                           2.718066           \n",
              "2                                           2.799555           \n",
              "3                                           2.586631           \n",
              "4                                           2.452568           "
            ],
            "text/html": "<div>\n<style scoped>\n    .dataframe tbody tr th:only-of-type {\n        vertical-align: middle;\n    }\n\n    .dataframe tbody tr th {\n        vertical-align: top;\n    }\n\n    .dataframe thead th {\n        text-align: right;\n    }\n</style>\n<table border=\"1\" class=\"dataframe\">\n  <thead>\n    <tr style=\"text-align: right;\">\n      <th></th>\n      <th>dateRep</th>\n      <th>day</th>\n      <th>month</th>\n      <th>year</th>\n      <th>cases</th>\n      <th>deaths</th>\n      <th>countriesAndTerritories</th>\n      <th>geoId</th>\n      <th>countryterritoryCode</th>\n      <th>popData2019</th>\n      <th>continentExp</th>\n      <th>Cumulative_number_for_14_days_of_COVID-19_cases_per_100000</th>\n    </tr>\n  </thead>\n  <tbody>\n    <tr>\n      <th>0</th>\n      <td>27/10/2020</td>\n      <td>27</td>\n      <td>10</td>\n      <td>2020</td>\n      <td>199</td>\n      <td>8</td>\n      <td>Afghanistan</td>\n      <td>AF</td>\n      <td>AFG</td>\n      <td>38041757.0</td>\n      <td>Asia</td>\n      <td>2.902074</td>\n    </tr>\n    <tr>\n      <th>1</th>\n      <td>26/10/2020</td>\n      <td>26</td>\n      <td>10</td>\n      <td>2020</td>\n      <td>65</td>\n      <td>3</td>\n      <td>Afghanistan</td>\n      <td>AF</td>\n      <td>AFG</td>\n      <td>38041757.0</td>\n      <td>Asia</td>\n      <td>2.718066</td>\n    </tr>\n    <tr>\n      <th>2</th>\n      <td>25/10/2020</td>\n      <td>25</td>\n      <td>10</td>\n      <td>2020</td>\n      <td>81</td>\n      <td>4</td>\n      <td>Afghanistan</td>\n      <td>AF</td>\n      <td>AFG</td>\n      <td>38041757.0</td>\n      <td>Asia</td>\n      <td>2.799555</td>\n    </tr>\n    <tr>\n      <th>3</th>\n      <td>24/10/2020</td>\n      <td>24</td>\n      <td>10</td>\n      <td>2020</td>\n      <td>61</td>\n      <td>2</td>\n      <td>Afghanistan</td>\n      <td>AF</td>\n      <td>AFG</td>\n      <td>38041757.0</td>\n      <td>Asia</td>\n      <td>2.586631</td>\n    </tr>\n    <tr>\n      <th>4</th>\n      <td>23/10/2020</td>\n      <td>23</td>\n      <td>10</td>\n      <td>2020</td>\n      <td>116</td>\n      <td>4</td>\n      <td>Afghanistan</td>\n      <td>AF</td>\n      <td>AFG</td>\n      <td>38041757.0</td>\n      <td>Asia</td>\n      <td>2.452568</td>\n    </tr>\n  </tbody>\n</table>\n</div>"
          },
          "metadata": {},
          "execution_count": 3
        }
      ]
    },
    {
      "cell_type": "code",
      "metadata": {
        "id": "mBFSRAsP8kc8",
        "outputId": "30736e77-5485-4a20-ba50-6f1d1e7f99ba",
        "colab": {
          "base_uri": "https://localhost:8080/",
          "height": 352
        }
      },
      "source": [
        "# Print the first 10 records\n",
        "coviddata.head(10)"
      ],
      "execution_count": 4,
      "outputs": [
        {
          "output_type": "execute_result",
          "data": {
            "text/plain": [
              "      dateRep  day  month  year  cases  deaths countriesAndTerritories geoId  \\\n",
              "0  27/10/2020   27     10  2020    199       8             Afghanistan    AF   \n",
              "1  26/10/2020   26     10  2020     65       3             Afghanistan    AF   \n",
              "2  25/10/2020   25     10  2020     81       4             Afghanistan    AF   \n",
              "3  24/10/2020   24     10  2020     61       2             Afghanistan    AF   \n",
              "4  23/10/2020   23     10  2020    116       4             Afghanistan    AF   \n",
              "5  22/10/2020   22     10  2020    135       2             Afghanistan    AF   \n",
              "6  21/10/2020   21     10  2020     88       2             Afghanistan    AF   \n",
              "7  20/10/2020   20     10  2020     87       5             Afghanistan    AF   \n",
              "8  19/10/2020   19     10  2020     59       4             Afghanistan    AF   \n",
              "9  18/10/2020   18     10  2020     68       3             Afghanistan    AF   \n",
              "\n",
              "  countryterritoryCode  popData2019 continentExp  \\\n",
              "0                  AFG   38041757.0         Asia   \n",
              "1                  AFG   38041757.0         Asia   \n",
              "2                  AFG   38041757.0         Asia   \n",
              "3                  AFG   38041757.0         Asia   \n",
              "4                  AFG   38041757.0         Asia   \n",
              "5                  AFG   38041757.0         Asia   \n",
              "6                  AFG   38041757.0         Asia   \n",
              "7                  AFG   38041757.0         Asia   \n",
              "8                  AFG   38041757.0         Asia   \n",
              "9                  AFG   38041757.0         Asia   \n",
              "\n",
              "   Cumulative_number_for_14_days_of_COVID-19_cases_per_100000  \n",
              "0                                           2.902074           \n",
              "1                                           2.718066           \n",
              "2                                           2.799555           \n",
              "3                                           2.586631           \n",
              "4                                           2.452568           \n",
              "5                                           2.350049           \n",
              "6                                           2.173927           \n",
              "7                                           2.105581           \n",
              "8                                           2.258045           \n",
              "9                                           2.218615           "
            ],
            "text/html": "<div>\n<style scoped>\n    .dataframe tbody tr th:only-of-type {\n        vertical-align: middle;\n    }\n\n    .dataframe tbody tr th {\n        vertical-align: top;\n    }\n\n    .dataframe thead th {\n        text-align: right;\n    }\n</style>\n<table border=\"1\" class=\"dataframe\">\n  <thead>\n    <tr style=\"text-align: right;\">\n      <th></th>\n      <th>dateRep</th>\n      <th>day</th>\n      <th>month</th>\n      <th>year</th>\n      <th>cases</th>\n      <th>deaths</th>\n      <th>countriesAndTerritories</th>\n      <th>geoId</th>\n      <th>countryterritoryCode</th>\n      <th>popData2019</th>\n      <th>continentExp</th>\n      <th>Cumulative_number_for_14_days_of_COVID-19_cases_per_100000</th>\n    </tr>\n  </thead>\n  <tbody>\n    <tr>\n      <th>0</th>\n      <td>27/10/2020</td>\n      <td>27</td>\n      <td>10</td>\n      <td>2020</td>\n      <td>199</td>\n      <td>8</td>\n      <td>Afghanistan</td>\n      <td>AF</td>\n      <td>AFG</td>\n      <td>38041757.0</td>\n      <td>Asia</td>\n      <td>2.902074</td>\n    </tr>\n    <tr>\n      <th>1</th>\n      <td>26/10/2020</td>\n      <td>26</td>\n      <td>10</td>\n      <td>2020</td>\n      <td>65</td>\n      <td>3</td>\n      <td>Afghanistan</td>\n      <td>AF</td>\n      <td>AFG</td>\n      <td>38041757.0</td>\n      <td>Asia</td>\n      <td>2.718066</td>\n    </tr>\n    <tr>\n      <th>2</th>\n      <td>25/10/2020</td>\n      <td>25</td>\n      <td>10</td>\n      <td>2020</td>\n      <td>81</td>\n      <td>4</td>\n      <td>Afghanistan</td>\n      <td>AF</td>\n      <td>AFG</td>\n      <td>38041757.0</td>\n      <td>Asia</td>\n      <td>2.799555</td>\n    </tr>\n    <tr>\n      <th>3</th>\n      <td>24/10/2020</td>\n      <td>24</td>\n      <td>10</td>\n      <td>2020</td>\n      <td>61</td>\n      <td>2</td>\n      <td>Afghanistan</td>\n      <td>AF</td>\n      <td>AFG</td>\n      <td>38041757.0</td>\n      <td>Asia</td>\n      <td>2.586631</td>\n    </tr>\n    <tr>\n      <th>4</th>\n      <td>23/10/2020</td>\n      <td>23</td>\n      <td>10</td>\n      <td>2020</td>\n      <td>116</td>\n      <td>4</td>\n      <td>Afghanistan</td>\n      <td>AF</td>\n      <td>AFG</td>\n      <td>38041757.0</td>\n      <td>Asia</td>\n      <td>2.452568</td>\n    </tr>\n    <tr>\n      <th>5</th>\n      <td>22/10/2020</td>\n      <td>22</td>\n      <td>10</td>\n      <td>2020</td>\n      <td>135</td>\n      <td>2</td>\n      <td>Afghanistan</td>\n      <td>AF</td>\n      <td>AFG</td>\n      <td>38041757.0</td>\n      <td>Asia</td>\n      <td>2.350049</td>\n    </tr>\n    <tr>\n      <th>6</th>\n      <td>21/10/2020</td>\n      <td>21</td>\n      <td>10</td>\n      <td>2020</td>\n      <td>88</td>\n      <td>2</td>\n      <td>Afghanistan</td>\n      <td>AF</td>\n      <td>AFG</td>\n      <td>38041757.0</td>\n      <td>Asia</td>\n      <td>2.173927</td>\n    </tr>\n    <tr>\n      <th>7</th>\n      <td>20/10/2020</td>\n      <td>20</td>\n      <td>10</td>\n      <td>2020</td>\n      <td>87</td>\n      <td>5</td>\n      <td>Afghanistan</td>\n      <td>AF</td>\n      <td>AFG</td>\n      <td>38041757.0</td>\n      <td>Asia</td>\n      <td>2.105581</td>\n    </tr>\n    <tr>\n      <th>8</th>\n      <td>19/10/2020</td>\n      <td>19</td>\n      <td>10</td>\n      <td>2020</td>\n      <td>59</td>\n      <td>4</td>\n      <td>Afghanistan</td>\n      <td>AF</td>\n      <td>AFG</td>\n      <td>38041757.0</td>\n      <td>Asia</td>\n      <td>2.258045</td>\n    </tr>\n    <tr>\n      <th>9</th>\n      <td>18/10/2020</td>\n      <td>18</td>\n      <td>10</td>\n      <td>2020</td>\n      <td>68</td>\n      <td>3</td>\n      <td>Afghanistan</td>\n      <td>AF</td>\n      <td>AFG</td>\n      <td>38041757.0</td>\n      <td>Asia</td>\n      <td>2.218615</td>\n    </tr>\n  </tbody>\n</table>\n</div>"
          },
          "metadata": {},
          "execution_count": 4
        }
      ]
    },
    {
      "cell_type": "code",
      "metadata": {
        "id": "1dNnBzCZ8nX0",
        "outputId": "cfad4e02-c281-4bf4-c231-d4d94db1d93c",
        "colab": {
          "base_uri": "https://localhost:8080/",
          "height": 200
        }
      },
      "source": [
        "# Print the last 5 (default value) records\n",
        "coviddata.tail()\n"
      ],
      "execution_count": 7,
      "outputs": [
        {
          "output_type": "execute_result",
          "data": {
            "text/plain": [
              "          dateRep  day  month  year  cases  deaths countriesAndTerritories  \\\n",
              "51678  25/03/2020   25      3  2020      0       0                Zimbabwe   \n",
              "51679  24/03/2020   24      3  2020      0       1                Zimbabwe   \n",
              "51680  23/03/2020   23      3  2020      0       0                Zimbabwe   \n",
              "51681  22/03/2020   22      3  2020      1       0                Zimbabwe   \n",
              "51682  21/03/2020   21      3  2020      1       0                Zimbabwe   \n",
              "\n",
              "      geoId countryterritoryCode  popData2019 continentExp  \\\n",
              "51678    ZW                  ZWE   14645473.0       Africa   \n",
              "51679    ZW                  ZWE   14645473.0       Africa   \n",
              "51680    ZW                  ZWE   14645473.0       Africa   \n",
              "51681    ZW                  ZWE   14645473.0       Africa   \n",
              "51682    ZW                  ZWE   14645473.0       Africa   \n",
              "\n",
              "       Cumulative_number_for_14_days_of_COVID-19_cases_per_100000  \n",
              "51678                                                NaN           \n",
              "51679                                                NaN           \n",
              "51680                                                NaN           \n",
              "51681                                                NaN           \n",
              "51682                                                NaN           "
            ],
            "text/html": "<div>\n<style scoped>\n    .dataframe tbody tr th:only-of-type {\n        vertical-align: middle;\n    }\n\n    .dataframe tbody tr th {\n        vertical-align: top;\n    }\n\n    .dataframe thead th {\n        text-align: right;\n    }\n</style>\n<table border=\"1\" class=\"dataframe\">\n  <thead>\n    <tr style=\"text-align: right;\">\n      <th></th>\n      <th>dateRep</th>\n      <th>day</th>\n      <th>month</th>\n      <th>year</th>\n      <th>cases</th>\n      <th>deaths</th>\n      <th>countriesAndTerritories</th>\n      <th>geoId</th>\n      <th>countryterritoryCode</th>\n      <th>popData2019</th>\n      <th>continentExp</th>\n      <th>Cumulative_number_for_14_days_of_COVID-19_cases_per_100000</th>\n    </tr>\n  </thead>\n  <tbody>\n    <tr>\n      <th>51678</th>\n      <td>25/03/2020</td>\n      <td>25</td>\n      <td>3</td>\n      <td>2020</td>\n      <td>0</td>\n      <td>0</td>\n      <td>Zimbabwe</td>\n      <td>ZW</td>\n      <td>ZWE</td>\n      <td>14645473.0</td>\n      <td>Africa</td>\n      <td>NaN</td>\n    </tr>\n    <tr>\n      <th>51679</th>\n      <td>24/03/2020</td>\n      <td>24</td>\n      <td>3</td>\n      <td>2020</td>\n      <td>0</td>\n      <td>1</td>\n      <td>Zimbabwe</td>\n      <td>ZW</td>\n      <td>ZWE</td>\n      <td>14645473.0</td>\n      <td>Africa</td>\n      <td>NaN</td>\n    </tr>\n    <tr>\n      <th>51680</th>\n      <td>23/03/2020</td>\n      <td>23</td>\n      <td>3</td>\n      <td>2020</td>\n      <td>0</td>\n      <td>0</td>\n      <td>Zimbabwe</td>\n      <td>ZW</td>\n      <td>ZWE</td>\n      <td>14645473.0</td>\n      <td>Africa</td>\n      <td>NaN</td>\n    </tr>\n    <tr>\n      <th>51681</th>\n      <td>22/03/2020</td>\n      <td>22</td>\n      <td>3</td>\n      <td>2020</td>\n      <td>1</td>\n      <td>0</td>\n      <td>Zimbabwe</td>\n      <td>ZW</td>\n      <td>ZWE</td>\n      <td>14645473.0</td>\n      <td>Africa</td>\n      <td>NaN</td>\n    </tr>\n    <tr>\n      <th>51682</th>\n      <td>21/03/2020</td>\n      <td>21</td>\n      <td>3</td>\n      <td>2020</td>\n      <td>1</td>\n      <td>0</td>\n      <td>Zimbabwe</td>\n      <td>ZW</td>\n      <td>ZWE</td>\n      <td>14645473.0</td>\n      <td>Africa</td>\n      <td>NaN</td>\n    </tr>\n  </tbody>\n</table>\n</div>"
          },
          "metadata": {},
          "execution_count": 7
        }
      ]
    },
    {
      "cell_type": "code",
      "metadata": {
        "id": "xdfHFuht8npr",
        "outputId": "7dc79336-4b14-48e9-89e7-063d5b75606b",
        "colab": {
          "base_uri": "https://localhost:8080/",
          "height": 504
        }
      },
      "source": [
        "# Exercise: Print the last 15 records\n"
      ],
      "execution_count": 10,
      "outputs": [
        {
          "output_type": "execute_result",
          "data": {
            "text/html": [
              "<div>\n",
              "<style scoped>\n",
              "    .dataframe tbody tr th:only-of-type {\n",
              "        vertical-align: middle;\n",
              "    }\n",
              "\n",
              "    .dataframe tbody tr th {\n",
              "        vertical-align: top;\n",
              "    }\n",
              "\n",
              "    .dataframe thead th {\n",
              "        text-align: right;\n",
              "    }\n",
              "</style>\n",
              "<table border=\"1\" class=\"dataframe\">\n",
              "  <thead>\n",
              "    <tr style=\"text-align: right;\">\n",
              "      <th></th>\n",
              "      <th>dateRep</th>\n",
              "      <th>day</th>\n",
              "      <th>month</th>\n",
              "      <th>year</th>\n",
              "      <th>cases</th>\n",
              "      <th>deaths</th>\n",
              "      <th>countriesAndTerritories</th>\n",
              "      <th>geoId</th>\n",
              "      <th>countryterritoryCode</th>\n",
              "      <th>popData2019</th>\n",
              "      <th>continentExp</th>\n",
              "      <th>Cumulative_number_for_14_days_of_COVID-19_cases_per_100000</th>\n",
              "    </tr>\n",
              "  </thead>\n",
              "  <tbody>\n",
              "    <tr>\n",
              "      <th>51668</th>\n",
              "      <td>04/04/2020</td>\n",
              "      <td>4</td>\n",
              "      <td>4</td>\n",
              "      <td>2020</td>\n",
              "      <td>1</td>\n",
              "      <td>0</td>\n",
              "      <td>Zimbabwe</td>\n",
              "      <td>ZW</td>\n",
              "      <td>ZWE</td>\n",
              "      <td>14645473.0</td>\n",
              "      <td>Africa</td>\n",
              "      <td>0.054624</td>\n",
              "    </tr>\n",
              "    <tr>\n",
              "      <th>51669</th>\n",
              "      <td>03/04/2020</td>\n",
              "      <td>3</td>\n",
              "      <td>4</td>\n",
              "      <td>2020</td>\n",
              "      <td>0</td>\n",
              "      <td>0</td>\n",
              "      <td>Zimbabwe</td>\n",
              "      <td>ZW</td>\n",
              "      <td>ZWE</td>\n",
              "      <td>14645473.0</td>\n",
              "      <td>Africa</td>\n",
              "      <td>0.054624</td>\n",
              "    </tr>\n",
              "    <tr>\n",
              "      <th>51670</th>\n",
              "      <td>02/04/2020</td>\n",
              "      <td>2</td>\n",
              "      <td>4</td>\n",
              "      <td>2020</td>\n",
              "      <td>0</td>\n",
              "      <td>0</td>\n",
              "      <td>Zimbabwe</td>\n",
              "      <td>ZW</td>\n",
              "      <td>ZWE</td>\n",
              "      <td>14645473.0</td>\n",
              "      <td>Africa</td>\n",
              "      <td>NaN</td>\n",
              "    </tr>\n",
              "    <tr>\n",
              "      <th>51671</th>\n",
              "      <td>01/04/2020</td>\n",
              "      <td>1</td>\n",
              "      <td>4</td>\n",
              "      <td>2020</td>\n",
              "      <td>1</td>\n",
              "      <td>0</td>\n",
              "      <td>Zimbabwe</td>\n",
              "      <td>ZW</td>\n",
              "      <td>ZWE</td>\n",
              "      <td>14645473.0</td>\n",
              "      <td>Africa</td>\n",
              "      <td>NaN</td>\n",
              "    </tr>\n",
              "    <tr>\n",
              "      <th>51672</th>\n",
              "      <td>31/03/2020</td>\n",
              "      <td>31</td>\n",
              "      <td>3</td>\n",
              "      <td>2020</td>\n",
              "      <td>0</td>\n",
              "      <td>0</td>\n",
              "      <td>Zimbabwe</td>\n",
              "      <td>ZW</td>\n",
              "      <td>ZWE</td>\n",
              "      <td>14645473.0</td>\n",
              "      <td>Africa</td>\n",
              "      <td>NaN</td>\n",
              "    </tr>\n",
              "    <tr>\n",
              "      <th>51673</th>\n",
              "      <td>30/03/2020</td>\n",
              "      <td>30</td>\n",
              "      <td>3</td>\n",
              "      <td>2020</td>\n",
              "      <td>0</td>\n",
              "      <td>0</td>\n",
              "      <td>Zimbabwe</td>\n",
              "      <td>ZW</td>\n",
              "      <td>ZWE</td>\n",
              "      <td>14645473.0</td>\n",
              "      <td>Africa</td>\n",
              "      <td>NaN</td>\n",
              "    </tr>\n",
              "    <tr>\n",
              "      <th>51674</th>\n",
              "      <td>29/03/2020</td>\n",
              "      <td>29</td>\n",
              "      <td>3</td>\n",
              "      <td>2020</td>\n",
              "      <td>2</td>\n",
              "      <td>0</td>\n",
              "      <td>Zimbabwe</td>\n",
              "      <td>ZW</td>\n",
              "      <td>ZWE</td>\n",
              "      <td>14645473.0</td>\n",
              "      <td>Africa</td>\n",
              "      <td>NaN</td>\n",
              "    </tr>\n",
              "    <tr>\n",
              "      <th>51675</th>\n",
              "      <td>28/03/2020</td>\n",
              "      <td>28</td>\n",
              "      <td>3</td>\n",
              "      <td>2020</td>\n",
              "      <td>2</td>\n",
              "      <td>0</td>\n",
              "      <td>Zimbabwe</td>\n",
              "      <td>ZW</td>\n",
              "      <td>ZWE</td>\n",
              "      <td>14645473.0</td>\n",
              "      <td>Africa</td>\n",
              "      <td>NaN</td>\n",
              "    </tr>\n",
              "    <tr>\n",
              "      <th>51676</th>\n",
              "      <td>27/03/2020</td>\n",
              "      <td>27</td>\n",
              "      <td>3</td>\n",
              "      <td>2020</td>\n",
              "      <td>0</td>\n",
              "      <td>0</td>\n",
              "      <td>Zimbabwe</td>\n",
              "      <td>ZW</td>\n",
              "      <td>ZWE</td>\n",
              "      <td>14645473.0</td>\n",
              "      <td>Africa</td>\n",
              "      <td>NaN</td>\n",
              "    </tr>\n",
              "    <tr>\n",
              "      <th>51677</th>\n",
              "      <td>26/03/2020</td>\n",
              "      <td>26</td>\n",
              "      <td>3</td>\n",
              "      <td>2020</td>\n",
              "      <td>1</td>\n",
              "      <td>0</td>\n",
              "      <td>Zimbabwe</td>\n",
              "      <td>ZW</td>\n",
              "      <td>ZWE</td>\n",
              "      <td>14645473.0</td>\n",
              "      <td>Africa</td>\n",
              "      <td>NaN</td>\n",
              "    </tr>\n",
              "    <tr>\n",
              "      <th>51678</th>\n",
              "      <td>25/03/2020</td>\n",
              "      <td>25</td>\n",
              "      <td>3</td>\n",
              "      <td>2020</td>\n",
              "      <td>0</td>\n",
              "      <td>0</td>\n",
              "      <td>Zimbabwe</td>\n",
              "      <td>ZW</td>\n",
              "      <td>ZWE</td>\n",
              "      <td>14645473.0</td>\n",
              "      <td>Africa</td>\n",
              "      <td>NaN</td>\n",
              "    </tr>\n",
              "    <tr>\n",
              "      <th>51679</th>\n",
              "      <td>24/03/2020</td>\n",
              "      <td>24</td>\n",
              "      <td>3</td>\n",
              "      <td>2020</td>\n",
              "      <td>0</td>\n",
              "      <td>1</td>\n",
              "      <td>Zimbabwe</td>\n",
              "      <td>ZW</td>\n",
              "      <td>ZWE</td>\n",
              "      <td>14645473.0</td>\n",
              "      <td>Africa</td>\n",
              "      <td>NaN</td>\n",
              "    </tr>\n",
              "    <tr>\n",
              "      <th>51680</th>\n",
              "      <td>23/03/2020</td>\n",
              "      <td>23</td>\n",
              "      <td>3</td>\n",
              "      <td>2020</td>\n",
              "      <td>0</td>\n",
              "      <td>0</td>\n",
              "      <td>Zimbabwe</td>\n",
              "      <td>ZW</td>\n",
              "      <td>ZWE</td>\n",
              "      <td>14645473.0</td>\n",
              "      <td>Africa</td>\n",
              "      <td>NaN</td>\n",
              "    </tr>\n",
              "    <tr>\n",
              "      <th>51681</th>\n",
              "      <td>22/03/2020</td>\n",
              "      <td>22</td>\n",
              "      <td>3</td>\n",
              "      <td>2020</td>\n",
              "      <td>1</td>\n",
              "      <td>0</td>\n",
              "      <td>Zimbabwe</td>\n",
              "      <td>ZW</td>\n",
              "      <td>ZWE</td>\n",
              "      <td>14645473.0</td>\n",
              "      <td>Africa</td>\n",
              "      <td>NaN</td>\n",
              "    </tr>\n",
              "    <tr>\n",
              "      <th>51682</th>\n",
              "      <td>21/03/2020</td>\n",
              "      <td>21</td>\n",
              "      <td>3</td>\n",
              "      <td>2020</td>\n",
              "      <td>1</td>\n",
              "      <td>0</td>\n",
              "      <td>Zimbabwe</td>\n",
              "      <td>ZW</td>\n",
              "      <td>ZWE</td>\n",
              "      <td>14645473.0</td>\n",
              "      <td>Africa</td>\n",
              "      <td>NaN</td>\n",
              "    </tr>\n",
              "  </tbody>\n",
              "</table>\n",
              "</div>"
            ],
            "text/plain": [
              "          dateRep  ...  Cumulative_number_for_14_days_of_COVID-19_cases_per_100000\n",
              "51668  04/04/2020  ...                                           0.054624         \n",
              "51669  03/04/2020  ...                                           0.054624         \n",
              "51670  02/04/2020  ...                                                NaN         \n",
              "51671  01/04/2020  ...                                                NaN         \n",
              "51672  31/03/2020  ...                                                NaN         \n",
              "51673  30/03/2020  ...                                                NaN         \n",
              "51674  29/03/2020  ...                                                NaN         \n",
              "51675  28/03/2020  ...                                                NaN         \n",
              "51676  27/03/2020  ...                                                NaN         \n",
              "51677  26/03/2020  ...                                                NaN         \n",
              "51678  25/03/2020  ...                                                NaN         \n",
              "51679  24/03/2020  ...                                                NaN         \n",
              "51680  23/03/2020  ...                                                NaN         \n",
              "51681  22/03/2020  ...                                                NaN         \n",
              "51682  21/03/2020  ...                                                NaN         \n",
              "\n",
              "[15 rows x 12 columns]"
            ]
          },
          "metadata": {
            "tags": []
          },
          "execution_count": 10
        }
      ]
    },
    {
      "cell_type": "code",
      "metadata": {
        "id": "laZBx0n08nnP",
        "outputId": "664cd227-b9aa-4224-8ce5-1d3f6bbde137",
        "colab": {
          "base_uri": "https://localhost:8080/",
          "height": 106
        }
      },
      "source": [
        "# Names of the columns\n",
        "coviddata.columns"
      ],
      "execution_count": 11,
      "outputs": [
        {
          "output_type": "execute_result",
          "data": {
            "text/plain": [
              "Index(['dateRep', 'day', 'month', 'year', 'cases', 'deaths',\n",
              "       'countriesAndTerritories', 'geoId', 'countryterritoryCode',\n",
              "       'popData2019', 'continentExp',\n",
              "       'Cumulative_number_for_14_days_of_COVID-19_cases_per_100000'],\n",
              "      dtype='object')"
            ]
          },
          "metadata": {
            "tags": []
          },
          "execution_count": 11
        }
      ]
    },
    {
      "cell_type": "code",
      "metadata": {
        "id": "m818pY3k8nkc",
        "outputId": "68402b9c-b80a-4fc6-9513-245394c4d479",
        "colab": {
          "base_uri": "https://localhost:8080/",
          "height": 35
        }
      },
      "source": [
        "# What is the index?\n",
        "coviddata.index"
      ],
      "execution_count": 12,
      "outputs": [
        {
          "output_type": "execute_result",
          "data": {
            "text/plain": [
              "RangeIndex(start=0, stop=51683, step=1)"
            ]
          },
          "metadata": {
            "tags": []
          },
          "execution_count": 12
        }
      ]
    },
    {
      "cell_type": "code",
      "metadata": {
        "id": "ppi4_rsA8nfZ",
        "outputId": "f7d852c4-c2e7-415f-eed1-635c6efd367c",
        "colab": {
          "base_uri": "https://localhost:8080/",
          "height": 248
        }
      },
      "source": [
        "# This is an easy way to check if there are some columns with missing data.\n",
        "# E.g. CountryterritoryCode has a lower value than most other columns\n",
        "coviddata.count()"
      ],
      "execution_count": 8,
      "outputs": [
        {
          "output_type": "execute_result",
          "data": {
            "text/plain": [
              "dateRep                                                       51683\n",
              "day                                                           51683\n",
              "month                                                         51683\n",
              "year                                                          51683\n",
              "cases                                                         51683\n",
              "deaths                                                        51683\n",
              "countriesAndTerritories                                       51683\n",
              "geoId                                                         51456\n",
              "countryterritoryCode                                          51608\n",
              "popData2019                                                   51608\n",
              "continentExp                                                  51683\n",
              "Cumulative_number_for_14_days_of_COVID-19_cases_per_100000    48879\n",
              "dtype: int64"
            ]
          },
          "metadata": {},
          "execution_count": 8
        }
      ]
    },
    {
      "cell_type": "code",
      "metadata": {
        "id": "Jo_c3jVv92rO",
        "outputId": "a5a46ba5-9f34-48f4-abbb-7ad9094b83f5",
        "colab": {
          "base_uri": "https://localhost:8080/",
          "height": 35
        }
      },
      "source": [
        "# The dimensions of the dataframe\n",
        "coviddata.shape"
      ],
      "execution_count": 9,
      "outputs": [
        {
          "output_type": "execute_result",
          "data": {
            "text/plain": [
              "(51683, 12)"
            ]
          },
          "metadata": {},
          "execution_count": 9
        }
      ]
    },
    {
      "cell_type": "code",
      "metadata": {
        "id": "7nl4C_3b23RQ",
        "outputId": "26040f92-b56a-401c-8b9f-67be9d927f5e",
        "colab": {
          "base_uri": "https://localhost:8080/",
          "height": 291
        }
      },
      "source": [
        "# General statistical information on numeric fields\n",
        "coviddata.describe()"
      ],
      "execution_count": 10,
      "outputs": [
        {
          "output_type": "execute_result",
          "data": {
            "text/plain": [
              "                day         month          year         cases        deaths  \\\n",
              "count  51683.000000  51683.000000  51683.000000  51683.000000  51683.000000   \n",
              "mean      15.885436      6.249966   2019.998704    843.566221     22.463770   \n",
              "std        8.739709      2.515775      0.035982   4843.344797    124.707584   \n",
              "min        1.000000      1.000000   2019.000000  -8261.000000  -1918.000000   \n",
              "25%        8.000000      4.000000   2020.000000      0.000000      0.000000   \n",
              "50%       16.000000      6.000000   2020.000000     12.000000      0.000000   \n",
              "75%       23.000000      8.000000   2020.000000    191.000000      3.000000   \n",
              "max       31.000000     12.000000   2020.000000  97894.000000   4928.000000   \n",
              "\n",
              "        popData2019  \\\n",
              "count  5.160800e+04   \n",
              "mean   4.191034e+07   \n",
              "std    1.554610e+08   \n",
              "min    8.150000e+02   \n",
              "25%    1.324820e+06   \n",
              "50%    8.082359e+06   \n",
              "75%    2.860872e+07   \n",
              "max    1.433784e+09   \n",
              "\n",
              "       Cumulative_number_for_14_days_of_COVID-19_cases_per_100000  \n",
              "count                                       48879.000000           \n",
              "mean                                           42.494551           \n",
              "std                                           100.455527           \n",
              "min                                          -147.419587           \n",
              "25%                                             0.529216           \n",
              "50%                                             5.464659           \n",
              "75%                                            37.063642           \n",
              "max                                          1761.686598           "
            ],
            "text/html": "<div>\n<style scoped>\n    .dataframe tbody tr th:only-of-type {\n        vertical-align: middle;\n    }\n\n    .dataframe tbody tr th {\n        vertical-align: top;\n    }\n\n    .dataframe thead th {\n        text-align: right;\n    }\n</style>\n<table border=\"1\" class=\"dataframe\">\n  <thead>\n    <tr style=\"text-align: right;\">\n      <th></th>\n      <th>day</th>\n      <th>month</th>\n      <th>year</th>\n      <th>cases</th>\n      <th>deaths</th>\n      <th>popData2019</th>\n      <th>Cumulative_number_for_14_days_of_COVID-19_cases_per_100000</th>\n    </tr>\n  </thead>\n  <tbody>\n    <tr>\n      <th>count</th>\n      <td>51683.000000</td>\n      <td>51683.000000</td>\n      <td>51683.000000</td>\n      <td>51683.000000</td>\n      <td>51683.000000</td>\n      <td>5.160800e+04</td>\n      <td>48879.000000</td>\n    </tr>\n    <tr>\n      <th>mean</th>\n      <td>15.885436</td>\n      <td>6.249966</td>\n      <td>2019.998704</td>\n      <td>843.566221</td>\n      <td>22.463770</td>\n      <td>4.191034e+07</td>\n      <td>42.494551</td>\n    </tr>\n    <tr>\n      <th>std</th>\n      <td>8.739709</td>\n      <td>2.515775</td>\n      <td>0.035982</td>\n      <td>4843.344797</td>\n      <td>124.707584</td>\n      <td>1.554610e+08</td>\n      <td>100.455527</td>\n    </tr>\n    <tr>\n      <th>min</th>\n      <td>1.000000</td>\n      <td>1.000000</td>\n      <td>2019.000000</td>\n      <td>-8261.000000</td>\n      <td>-1918.000000</td>\n      <td>8.150000e+02</td>\n      <td>-147.419587</td>\n    </tr>\n    <tr>\n      <th>25%</th>\n      <td>8.000000</td>\n      <td>4.000000</td>\n      <td>2020.000000</td>\n      <td>0.000000</td>\n      <td>0.000000</td>\n      <td>1.324820e+06</td>\n      <td>0.529216</td>\n    </tr>\n    <tr>\n      <th>50%</th>\n      <td>16.000000</td>\n      <td>6.000000</td>\n      <td>2020.000000</td>\n      <td>12.000000</td>\n      <td>0.000000</td>\n      <td>8.082359e+06</td>\n      <td>5.464659</td>\n    </tr>\n    <tr>\n      <th>75%</th>\n      <td>23.000000</td>\n      <td>8.000000</td>\n      <td>2020.000000</td>\n      <td>191.000000</td>\n      <td>3.000000</td>\n      <td>2.860872e+07</td>\n      <td>37.063642</td>\n    </tr>\n    <tr>\n      <th>max</th>\n      <td>31.000000</td>\n      <td>12.000000</td>\n      <td>2020.000000</td>\n      <td>97894.000000</td>\n      <td>4928.000000</td>\n      <td>1.433784e+09</td>\n      <td>1761.686598</td>\n    </tr>\n  </tbody>\n</table>\n</div>"
          },
          "metadata": {},
          "execution_count": 10
        }
      ]
    },
    {
      "cell_type": "code",
      "metadata": {
        "id": "10MW-0-LC2o4",
        "outputId": "79f11f64-698b-47fa-d6bd-671e87f39cab",
        "colab": {
          "base_uri": "https://localhost:8080/",
          "height": 248
        }
      },
      "source": [
        "# Checking the data types of the columns\n",
        "coviddata.dtypes\n",
        "# You can see that dateRep is an object and not datetype. We will have to change this."
      ],
      "execution_count": 11,
      "outputs": [
        {
          "output_type": "execute_result",
          "data": {
            "text/plain": [
              "dateRep                                                        object\n",
              "day                                                             int64\n",
              "month                                                           int64\n",
              "year                                                            int64\n",
              "cases                                                           int64\n",
              "deaths                                                          int64\n",
              "countriesAndTerritories                                        object\n",
              "geoId                                                          object\n",
              "countryterritoryCode                                           object\n",
              "popData2019                                                   float64\n",
              "continentExp                                                   object\n",
              "Cumulative_number_for_14_days_of_COVID-19_cases_per_100000    float64\n",
              "dtype: object"
            ]
          },
          "metadata": {},
          "execution_count": 11
        }
      ]
    },
    {
      "cell_type": "code",
      "metadata": {
        "id": "X0T8V8Rctq4G",
        "outputId": "baa97982-1962-4de1-e7e8-1c3aa09ee405",
        "colab": {
          "base_uri": "https://localhost:8080/",
          "height": 200
        }
      },
      "source": [
        "# We have to cast the dateRep from object to datetime\n",
        "from datetime import datetime\n",
        "coviddata['dateRep'] = pd.to_datetime(coviddata['dateRep'], format='%d/%m/%Y')\n",
        "coviddata.head()"
      ],
      "execution_count": 12,
      "outputs": [
        {
          "output_type": "execute_result",
          "data": {
            "text/plain": [
              "     dateRep  day  month  year  cases  deaths countriesAndTerritories geoId  \\\n",
              "0 2020-10-27   27     10  2020    199       8             Afghanistan    AF   \n",
              "1 2020-10-26   26     10  2020     65       3             Afghanistan    AF   \n",
              "2 2020-10-25   25     10  2020     81       4             Afghanistan    AF   \n",
              "3 2020-10-24   24     10  2020     61       2             Afghanistan    AF   \n",
              "4 2020-10-23   23     10  2020    116       4             Afghanistan    AF   \n",
              "\n",
              "  countryterritoryCode  popData2019 continentExp  \\\n",
              "0                  AFG   38041757.0         Asia   \n",
              "1                  AFG   38041757.0         Asia   \n",
              "2                  AFG   38041757.0         Asia   \n",
              "3                  AFG   38041757.0         Asia   \n",
              "4                  AFG   38041757.0         Asia   \n",
              "\n",
              "   Cumulative_number_for_14_days_of_COVID-19_cases_per_100000  \n",
              "0                                           2.902074           \n",
              "1                                           2.718066           \n",
              "2                                           2.799555           \n",
              "3                                           2.586631           \n",
              "4                                           2.452568           "
            ],
            "text/html": "<div>\n<style scoped>\n    .dataframe tbody tr th:only-of-type {\n        vertical-align: middle;\n    }\n\n    .dataframe tbody tr th {\n        vertical-align: top;\n    }\n\n    .dataframe thead th {\n        text-align: right;\n    }\n</style>\n<table border=\"1\" class=\"dataframe\">\n  <thead>\n    <tr style=\"text-align: right;\">\n      <th></th>\n      <th>dateRep</th>\n      <th>day</th>\n      <th>month</th>\n      <th>year</th>\n      <th>cases</th>\n      <th>deaths</th>\n      <th>countriesAndTerritories</th>\n      <th>geoId</th>\n      <th>countryterritoryCode</th>\n      <th>popData2019</th>\n      <th>continentExp</th>\n      <th>Cumulative_number_for_14_days_of_COVID-19_cases_per_100000</th>\n    </tr>\n  </thead>\n  <tbody>\n    <tr>\n      <th>0</th>\n      <td>2020-10-27</td>\n      <td>27</td>\n      <td>10</td>\n      <td>2020</td>\n      <td>199</td>\n      <td>8</td>\n      <td>Afghanistan</td>\n      <td>AF</td>\n      <td>AFG</td>\n      <td>38041757.0</td>\n      <td>Asia</td>\n      <td>2.902074</td>\n    </tr>\n    <tr>\n      <th>1</th>\n      <td>2020-10-26</td>\n      <td>26</td>\n      <td>10</td>\n      <td>2020</td>\n      <td>65</td>\n      <td>3</td>\n      <td>Afghanistan</td>\n      <td>AF</td>\n      <td>AFG</td>\n      <td>38041757.0</td>\n      <td>Asia</td>\n      <td>2.718066</td>\n    </tr>\n    <tr>\n      <th>2</th>\n      <td>2020-10-25</td>\n      <td>25</td>\n      <td>10</td>\n      <td>2020</td>\n      <td>81</td>\n      <td>4</td>\n      <td>Afghanistan</td>\n      <td>AF</td>\n      <td>AFG</td>\n      <td>38041757.0</td>\n      <td>Asia</td>\n      <td>2.799555</td>\n    </tr>\n    <tr>\n      <th>3</th>\n      <td>2020-10-24</td>\n      <td>24</td>\n      <td>10</td>\n      <td>2020</td>\n      <td>61</td>\n      <td>2</td>\n      <td>Afghanistan</td>\n      <td>AF</td>\n      <td>AFG</td>\n      <td>38041757.0</td>\n      <td>Asia</td>\n      <td>2.586631</td>\n    </tr>\n    <tr>\n      <th>4</th>\n      <td>2020-10-23</td>\n      <td>23</td>\n      <td>10</td>\n      <td>2020</td>\n      <td>116</td>\n      <td>4</td>\n      <td>Afghanistan</td>\n      <td>AF</td>\n      <td>AFG</td>\n      <td>38041757.0</td>\n      <td>Asia</td>\n      <td>2.452568</td>\n    </tr>\n  </tbody>\n</table>\n</div>"
          },
          "metadata": {},
          "execution_count": 12
        }
      ]
    },
    {
      "cell_type": "code",
      "metadata": {
        "id": "74jtJUtBuPdY",
        "outputId": "129dfaa2-e114-4c24-e2ae-3c019b99318b",
        "colab": {
          "base_uri": "https://localhost:8080/",
          "height": 248
        }
      },
      "source": [
        "# Checking the data types of the columns again\n",
        "coviddata.dtypes\n",
        "# You can see that dateRep is an object and not datetype. We will have to change this."
      ],
      "execution_count": 13,
      "outputs": [
        {
          "output_type": "execute_result",
          "data": {
            "text/plain": [
              "dateRep                                                       datetime64[ns]\n",
              "day                                                                    int64\n",
              "month                                                                  int64\n",
              "year                                                                   int64\n",
              "cases                                                                  int64\n",
              "deaths                                                                 int64\n",
              "countriesAndTerritories                                               object\n",
              "geoId                                                                 object\n",
              "countryterritoryCode                                                  object\n",
              "popData2019                                                          float64\n",
              "continentExp                                                          object\n",
              "Cumulative_number_for_14_days_of_COVID-19_cases_per_100000           float64\n",
              "dtype: object"
            ]
          },
          "metadata": {},
          "execution_count": 13
        }
      ]
    },
    {
      "cell_type": "code",
      "metadata": {
        "id": "hmllLVXmfLX8",
        "outputId": "379d3ae5-a504-4ede-bff6-354caae42aad",
        "colab": {
          "base_uri": "https://localhost:8080/",
          "height": 200
        }
      },
      "source": [
        "# The column name countriesAndTerritories and Cumulative_number_for_14_days_of_COVID-19_cases_per_100000 are quite long, let's rename both\n",
        "coviddata.rename(columns={'countriesAndTerritories':'country', 'Cumulative_number_for_14_days_of_COVID-19_cases_per_100000':'cum_number_14_days_cases_per_100000'}, inplace=True)\n",
        "coviddata.head()"
      ],
      "execution_count": 14,
      "outputs": [
        {
          "output_type": "execute_result",
          "data": {
            "text/plain": [
              "     dateRep  day  month  year  cases  deaths      country geoId  \\\n",
              "0 2020-10-27   27     10  2020    199       8  Afghanistan    AF   \n",
              "1 2020-10-26   26     10  2020     65       3  Afghanistan    AF   \n",
              "2 2020-10-25   25     10  2020     81       4  Afghanistan    AF   \n",
              "3 2020-10-24   24     10  2020     61       2  Afghanistan    AF   \n",
              "4 2020-10-23   23     10  2020    116       4  Afghanistan    AF   \n",
              "\n",
              "  countryterritoryCode  popData2019 continentExp  \\\n",
              "0                  AFG   38041757.0         Asia   \n",
              "1                  AFG   38041757.0         Asia   \n",
              "2                  AFG   38041757.0         Asia   \n",
              "3                  AFG   38041757.0         Asia   \n",
              "4                  AFG   38041757.0         Asia   \n",
              "\n",
              "   cum_number_14_days_cases_per_100000  \n",
              "0                             2.902074  \n",
              "1                             2.718066  \n",
              "2                             2.799555  \n",
              "3                             2.586631  \n",
              "4                             2.452568  "
            ],
            "text/html": "<div>\n<style scoped>\n    .dataframe tbody tr th:only-of-type {\n        vertical-align: middle;\n    }\n\n    .dataframe tbody tr th {\n        vertical-align: top;\n    }\n\n    .dataframe thead th {\n        text-align: right;\n    }\n</style>\n<table border=\"1\" class=\"dataframe\">\n  <thead>\n    <tr style=\"text-align: right;\">\n      <th></th>\n      <th>dateRep</th>\n      <th>day</th>\n      <th>month</th>\n      <th>year</th>\n      <th>cases</th>\n      <th>deaths</th>\n      <th>country</th>\n      <th>geoId</th>\n      <th>countryterritoryCode</th>\n      <th>popData2019</th>\n      <th>continentExp</th>\n      <th>cum_number_14_days_cases_per_100000</th>\n    </tr>\n  </thead>\n  <tbody>\n    <tr>\n      <th>0</th>\n      <td>2020-10-27</td>\n      <td>27</td>\n      <td>10</td>\n      <td>2020</td>\n      <td>199</td>\n      <td>8</td>\n      <td>Afghanistan</td>\n      <td>AF</td>\n      <td>AFG</td>\n      <td>38041757.0</td>\n      <td>Asia</td>\n      <td>2.902074</td>\n    </tr>\n    <tr>\n      <th>1</th>\n      <td>2020-10-26</td>\n      <td>26</td>\n      <td>10</td>\n      <td>2020</td>\n      <td>65</td>\n      <td>3</td>\n      <td>Afghanistan</td>\n      <td>AF</td>\n      <td>AFG</td>\n      <td>38041757.0</td>\n      <td>Asia</td>\n      <td>2.718066</td>\n    </tr>\n    <tr>\n      <th>2</th>\n      <td>2020-10-25</td>\n      <td>25</td>\n      <td>10</td>\n      <td>2020</td>\n      <td>81</td>\n      <td>4</td>\n      <td>Afghanistan</td>\n      <td>AF</td>\n      <td>AFG</td>\n      <td>38041757.0</td>\n      <td>Asia</td>\n      <td>2.799555</td>\n    </tr>\n    <tr>\n      <th>3</th>\n      <td>2020-10-24</td>\n      <td>24</td>\n      <td>10</td>\n      <td>2020</td>\n      <td>61</td>\n      <td>2</td>\n      <td>Afghanistan</td>\n      <td>AF</td>\n      <td>AFG</td>\n      <td>38041757.0</td>\n      <td>Asia</td>\n      <td>2.586631</td>\n    </tr>\n    <tr>\n      <th>4</th>\n      <td>2020-10-23</td>\n      <td>23</td>\n      <td>10</td>\n      <td>2020</td>\n      <td>116</td>\n      <td>4</td>\n      <td>Afghanistan</td>\n      <td>AF</td>\n      <td>AFG</td>\n      <td>38041757.0</td>\n      <td>Asia</td>\n      <td>2.452568</td>\n    </tr>\n  </tbody>\n</table>\n</div>"
          },
          "metadata": {},
          "execution_count": 14
        }
      ]
    },
    {
      "cell_type": "code",
      "metadata": {
        "id": "YoW5cQxtJfka",
        "outputId": "94298185-b2c0-4373-f570-be529c35bbd9",
        "colab": {
          "base_uri": "https://localhost:8080/",
          "height": 200
        }
      },
      "source": [
        "# We have duplicate data: geoId, vs countryterritoryCode => drop geoId\n",
        "# axis = 1 is necessary to indicate we want to delete columns (use axis = 0 for row based deletion) \n",
        "# If you only want to drop more 1 column, you don't really need square brackets\n",
        "coviddata = coviddata.drop(['geoId'], axis = 1)\n",
        "coviddata.head()"
      ],
      "execution_count": 15,
      "outputs": [
        {
          "output_type": "execute_result",
          "data": {
            "text/plain": [
              "     dateRep  day  month  year  cases  deaths      country  \\\n",
              "0 2020-10-27   27     10  2020    199       8  Afghanistan   \n",
              "1 2020-10-26   26     10  2020     65       3  Afghanistan   \n",
              "2 2020-10-25   25     10  2020     81       4  Afghanistan   \n",
              "3 2020-10-24   24     10  2020     61       2  Afghanistan   \n",
              "4 2020-10-23   23     10  2020    116       4  Afghanistan   \n",
              "\n",
              "  countryterritoryCode  popData2019 continentExp  \\\n",
              "0                  AFG   38041757.0         Asia   \n",
              "1                  AFG   38041757.0         Asia   \n",
              "2                  AFG   38041757.0         Asia   \n",
              "3                  AFG   38041757.0         Asia   \n",
              "4                  AFG   38041757.0         Asia   \n",
              "\n",
              "   cum_number_14_days_cases_per_100000  \n",
              "0                             2.902074  \n",
              "1                             2.718066  \n",
              "2                             2.799555  \n",
              "3                             2.586631  \n",
              "4                             2.452568  "
            ],
            "text/html": "<div>\n<style scoped>\n    .dataframe tbody tr th:only-of-type {\n        vertical-align: middle;\n    }\n\n    .dataframe tbody tr th {\n        vertical-align: top;\n    }\n\n    .dataframe thead th {\n        text-align: right;\n    }\n</style>\n<table border=\"1\" class=\"dataframe\">\n  <thead>\n    <tr style=\"text-align: right;\">\n      <th></th>\n      <th>dateRep</th>\n      <th>day</th>\n      <th>month</th>\n      <th>year</th>\n      <th>cases</th>\n      <th>deaths</th>\n      <th>country</th>\n      <th>countryterritoryCode</th>\n      <th>popData2019</th>\n      <th>continentExp</th>\n      <th>cum_number_14_days_cases_per_100000</th>\n    </tr>\n  </thead>\n  <tbody>\n    <tr>\n      <th>0</th>\n      <td>2020-10-27</td>\n      <td>27</td>\n      <td>10</td>\n      <td>2020</td>\n      <td>199</td>\n      <td>8</td>\n      <td>Afghanistan</td>\n      <td>AFG</td>\n      <td>38041757.0</td>\n      <td>Asia</td>\n      <td>2.902074</td>\n    </tr>\n    <tr>\n      <th>1</th>\n      <td>2020-10-26</td>\n      <td>26</td>\n      <td>10</td>\n      <td>2020</td>\n      <td>65</td>\n      <td>3</td>\n      <td>Afghanistan</td>\n      <td>AFG</td>\n      <td>38041757.0</td>\n      <td>Asia</td>\n      <td>2.718066</td>\n    </tr>\n    <tr>\n      <th>2</th>\n      <td>2020-10-25</td>\n      <td>25</td>\n      <td>10</td>\n      <td>2020</td>\n      <td>81</td>\n      <td>4</td>\n      <td>Afghanistan</td>\n      <td>AFG</td>\n      <td>38041757.0</td>\n      <td>Asia</td>\n      <td>2.799555</td>\n    </tr>\n    <tr>\n      <th>3</th>\n      <td>2020-10-24</td>\n      <td>24</td>\n      <td>10</td>\n      <td>2020</td>\n      <td>61</td>\n      <td>2</td>\n      <td>Afghanistan</td>\n      <td>AFG</td>\n      <td>38041757.0</td>\n      <td>Asia</td>\n      <td>2.586631</td>\n    </tr>\n    <tr>\n      <th>4</th>\n      <td>2020-10-23</td>\n      <td>23</td>\n      <td>10</td>\n      <td>2020</td>\n      <td>116</td>\n      <td>4</td>\n      <td>Afghanistan</td>\n      <td>AFG</td>\n      <td>38041757.0</td>\n      <td>Asia</td>\n      <td>2.452568</td>\n    </tr>\n  </tbody>\n</table>\n</div>"
          },
          "metadata": {},
          "execution_count": 15
        }
      ]
    },
    {
      "cell_type": "code",
      "metadata": {
        "id": "bdYTeDRMubUP",
        "outputId": "20f4ca9f-98d3-46ed-81c5-1170d4be3a32",
        "colab": {
          "base_uri": "https://localhost:8080/",
          "height": 200
        }
      },
      "source": [
        "# Excercise: drop the columns day and countryterritoryCode\n"
      ],
      "execution_count": 21,
      "outputs": [
        {
          "output_type": "execute_result",
          "data": {
            "text/html": [
              "<div>\n",
              "<style scoped>\n",
              "    .dataframe tbody tr th:only-of-type {\n",
              "        vertical-align: middle;\n",
              "    }\n",
              "\n",
              "    .dataframe tbody tr th {\n",
              "        vertical-align: top;\n",
              "    }\n",
              "\n",
              "    .dataframe thead th {\n",
              "        text-align: right;\n",
              "    }\n",
              "</style>\n",
              "<table border=\"1\" class=\"dataframe\">\n",
              "  <thead>\n",
              "    <tr style=\"text-align: right;\">\n",
              "      <th></th>\n",
              "      <th>dateRep</th>\n",
              "      <th>month</th>\n",
              "      <th>year</th>\n",
              "      <th>cases</th>\n",
              "      <th>deaths</th>\n",
              "      <th>country</th>\n",
              "      <th>popData2019</th>\n",
              "      <th>continentExp</th>\n",
              "      <th>cum_number_14_days_cases_per_100000</th>\n",
              "    </tr>\n",
              "  </thead>\n",
              "  <tbody>\n",
              "    <tr>\n",
              "      <th>0</th>\n",
              "      <td>2020-10-27</td>\n",
              "      <td>10</td>\n",
              "      <td>2020</td>\n",
              "      <td>199</td>\n",
              "      <td>8</td>\n",
              "      <td>Afghanistan</td>\n",
              "      <td>38041757.0</td>\n",
              "      <td>Asia</td>\n",
              "      <td>2.902074</td>\n",
              "    </tr>\n",
              "    <tr>\n",
              "      <th>1</th>\n",
              "      <td>2020-10-26</td>\n",
              "      <td>10</td>\n",
              "      <td>2020</td>\n",
              "      <td>65</td>\n",
              "      <td>3</td>\n",
              "      <td>Afghanistan</td>\n",
              "      <td>38041757.0</td>\n",
              "      <td>Asia</td>\n",
              "      <td>2.718066</td>\n",
              "    </tr>\n",
              "    <tr>\n",
              "      <th>2</th>\n",
              "      <td>2020-10-25</td>\n",
              "      <td>10</td>\n",
              "      <td>2020</td>\n",
              "      <td>81</td>\n",
              "      <td>4</td>\n",
              "      <td>Afghanistan</td>\n",
              "      <td>38041757.0</td>\n",
              "      <td>Asia</td>\n",
              "      <td>2.799555</td>\n",
              "    </tr>\n",
              "    <tr>\n",
              "      <th>3</th>\n",
              "      <td>2020-10-24</td>\n",
              "      <td>10</td>\n",
              "      <td>2020</td>\n",
              "      <td>61</td>\n",
              "      <td>2</td>\n",
              "      <td>Afghanistan</td>\n",
              "      <td>38041757.0</td>\n",
              "      <td>Asia</td>\n",
              "      <td>2.586631</td>\n",
              "    </tr>\n",
              "    <tr>\n",
              "      <th>4</th>\n",
              "      <td>2020-10-23</td>\n",
              "      <td>10</td>\n",
              "      <td>2020</td>\n",
              "      <td>116</td>\n",
              "      <td>4</td>\n",
              "      <td>Afghanistan</td>\n",
              "      <td>38041757.0</td>\n",
              "      <td>Asia</td>\n",
              "      <td>2.452568</td>\n",
              "    </tr>\n",
              "  </tbody>\n",
              "</table>\n",
              "</div>"
            ],
            "text/plain": [
              "     dateRep  month  ...  continentExp  cum_number_14_days_cases_per_100000\n",
              "0 2020-10-27     10  ...          Asia                             2.902074\n",
              "1 2020-10-26     10  ...          Asia                             2.718066\n",
              "2 2020-10-25     10  ...          Asia                             2.799555\n",
              "3 2020-10-24     10  ...          Asia                             2.586631\n",
              "4 2020-10-23     10  ...          Asia                             2.452568\n",
              "\n",
              "[5 rows x 9 columns]"
            ]
          },
          "metadata": {
            "tags": []
          },
          "execution_count": 21
        }
      ]
    },
    {
      "cell_type": "code",
      "metadata": {
        "id": "RTDARtEUy61u",
        "outputId": "a5f35aa8-9ba7-4ace-b370-69dab6fd780f",
        "colab": {
          "base_uri": "https://localhost:8080/",
          "height": 888
        }
      },
      "source": [
        "# What are the unique values for country\n",
        "coviddata['country'].unique()"
      ],
      "execution_count": 16,
      "outputs": [
        {
          "output_type": "execute_result",
          "data": {
            "text/plain": [
              "array(['Afghanistan', 'Albania', 'Algeria', 'Andorra', 'Angola',\n",
              "       'Anguilla', 'Antigua_and_Barbuda', 'Argentina', 'Armenia', 'Aruba',\n",
              "       'Australia', 'Austria', 'Azerbaijan', 'Bahamas', 'Bahrain',\n",
              "       'Bangladesh', 'Barbados', 'Belarus', 'Belgium', 'Belize', 'Benin',\n",
              "       'Bermuda', 'Bhutan', 'Bolivia',\n",
              "       'Bonaire, Saint Eustatius and Saba', 'Bosnia_and_Herzegovina',\n",
              "       'Botswana', 'Brazil', 'British_Virgin_Islands',\n",
              "       'Brunei_Darussalam', 'Bulgaria', 'Burkina_Faso', 'Burundi',\n",
              "       'Cambodia', 'Cameroon', 'Canada', 'Cape_Verde',\n",
              "       'Cases_on_an_international_conveyance_Japan', 'Cayman_Islands',\n",
              "       'Central_African_Republic', 'Chad', 'Chile', 'China', 'Colombia',\n",
              "       'Comoros', 'Congo', 'Costa_Rica', 'Cote_dIvoire', 'Croatia',\n",
              "       'Cuba', 'Curaçao', 'Cyprus', 'Czechia',\n",
              "       'Democratic_Republic_of_the_Congo', 'Denmark', 'Djibouti',\n",
              "       'Dominica', 'Dominican_Republic', 'Ecuador', 'Egypt',\n",
              "       'El_Salvador', 'Equatorial_Guinea', 'Eritrea', 'Estonia',\n",
              "       'Eswatini', 'Ethiopia', 'Falkland_Islands_(Malvinas)',\n",
              "       'Faroe_Islands', 'Fiji', 'Finland', 'France', 'French_Polynesia',\n",
              "       'Gabon', 'Gambia', 'Georgia', 'Germany', 'Ghana', 'Gibraltar',\n",
              "       'Greece', 'Greenland', 'Grenada', 'Guam', 'Guatemala', 'Guernsey',\n",
              "       'Guinea', 'Guinea_Bissau', 'Guyana', 'Haiti', 'Holy_See',\n",
              "       'Honduras', 'Hungary', 'Iceland', 'India', 'Indonesia', 'Iran',\n",
              "       'Iraq', 'Ireland', 'Isle_of_Man', 'Israel', 'Italy', 'Jamaica',\n",
              "       'Japan', 'Jersey', 'Jordan', 'Kazakhstan', 'Kenya', 'Kosovo',\n",
              "       'Kuwait', 'Kyrgyzstan', 'Laos', 'Latvia', 'Lebanon', 'Lesotho',\n",
              "       'Liberia', 'Libya', 'Liechtenstein', 'Lithuania', 'Luxembourg',\n",
              "       'Madagascar', 'Malawi', 'Malaysia', 'Maldives', 'Mali', 'Malta',\n",
              "       'Mauritania', 'Mauritius', 'Mexico', 'Moldova', 'Monaco',\n",
              "       'Mongolia', 'Montenegro', 'Montserrat', 'Morocco', 'Mozambique',\n",
              "       'Myanmar', 'Namibia', 'Nepal', 'Netherlands', 'New_Caledonia',\n",
              "       'New_Zealand', 'Nicaragua', 'Niger', 'Nigeria', 'North_Macedonia',\n",
              "       'Northern_Mariana_Islands', 'Norway', 'Oman', 'Pakistan',\n",
              "       'Palestine', 'Panama', 'Papua_New_Guinea', 'Paraguay', 'Peru',\n",
              "       'Philippines', 'Poland', 'Portugal', 'Puerto_Rico', 'Qatar',\n",
              "       'Romania', 'Russia', 'Rwanda', 'Saint_Kitts_and_Nevis',\n",
              "       'Saint_Lucia', 'Saint_Vincent_and_the_Grenadines', 'San_Marino',\n",
              "       'Sao_Tome_and_Principe', 'Saudi_Arabia', 'Senegal', 'Serbia',\n",
              "       'Seychelles', 'Sierra_Leone', 'Singapore', 'Sint_Maarten',\n",
              "       'Slovakia', 'Slovenia', 'Solomon_Islands', 'Somalia',\n",
              "       'South_Africa', 'South_Korea', 'South_Sudan', 'Spain', 'Sri_Lanka',\n",
              "       'Sudan', 'Suriname', 'Sweden', 'Switzerland', 'Syria', 'Taiwan',\n",
              "       'Tajikistan', 'Thailand', 'Timor_Leste', 'Togo',\n",
              "       'Trinidad_and_Tobago', 'Tunisia', 'Turkey',\n",
              "       'Turks_and_Caicos_islands', 'Uganda', 'Ukraine',\n",
              "       'United_Arab_Emirates', 'United_Kingdom',\n",
              "       'United_Republic_of_Tanzania', 'United_States_of_America',\n",
              "       'United_States_Virgin_Islands', 'Uruguay', 'Uzbekistan',\n",
              "       'Venezuela', 'Vietnam', 'Wallis_and_Futuna', 'Western_Sahara',\n",
              "       'Yemen', 'Zambia', 'Zimbabwe'], dtype=object)"
            ]
          },
          "metadata": {},
          "execution_count": 16
        }
      ]
    },
    {
      "cell_type": "code",
      "metadata": {
        "id": "pn8a0IYzy-W8",
        "outputId": "cfa82f31-462c-401d-fbb6-532d1652a206",
        "colab": {
          "base_uri": "https://localhost:8080/",
          "height": 35
        }
      },
      "source": [
        "# How many unique values for country?\n",
        "len(coviddata['country'].unique())"
      ],
      "execution_count": 17,
      "outputs": [
        {
          "output_type": "execute_result",
          "data": {
            "text/plain": [
              "212"
            ]
          },
          "metadata": {},
          "execution_count": 17
        }
      ]
    },
    {
      "cell_type": "code",
      "metadata": {
        "id": "FSQ7OTRaJVU4",
        "outputId": "5105f00a-37c9-471d-87fb-f3b62fd69122",
        "colab": {
          "base_uri": "https://localhost:8080/",
          "height": 411
        }
      },
      "source": [
        "# FILTERING\n",
        "# Find all lines from Belgium\n",
        "coviddata[coviddata['country'] == 'Belgium']"
      ],
      "execution_count": 18,
      "outputs": [
        {
          "output_type": "execute_result",
          "data": {
            "text/plain": [
              "        dateRep  day  month  year  cases  deaths  country  \\\n",
              "4623 2020-10-27   27     10  2020      8      25  Belgium   \n",
              "4624 2020-10-26   26     10  2020   1485      66  Belgium   \n",
              "4625 2020-10-25   25     10  2020   7187      70  Belgium   \n",
              "4626 2020-10-24   24     10  2020  14560      85  Belgium   \n",
              "4627 2020-10-23   23     10  2020  15085      53  Belgium   \n",
              "...         ...  ...    ...   ...    ...     ...      ...   \n",
              "4920 2020-01-04    4      1  2020      0       0  Belgium   \n",
              "4921 2020-01-03    3      1  2020      0       0  Belgium   \n",
              "4922 2020-01-02    2      1  2020      0       0  Belgium   \n",
              "4923 2020-01-01    1      1  2020      0       0  Belgium   \n",
              "4924 2019-12-31   31     12  2019      0       0  Belgium   \n",
              "\n",
              "     countryterritoryCode  popData2019 continentExp  \\\n",
              "4623                  BEL   11455519.0       Europe   \n",
              "4624                  BEL   11455519.0       Europe   \n",
              "4625                  BEL   11455519.0       Europe   \n",
              "4626                  BEL   11455519.0       Europe   \n",
              "4627                  BEL   11455519.0       Europe   \n",
              "...                   ...          ...          ...   \n",
              "4920                  BEL   11455519.0       Europe   \n",
              "4921                  BEL   11455519.0       Europe   \n",
              "4922                  BEL   11455519.0       Europe   \n",
              "4923                  BEL   11455519.0       Europe   \n",
              "4924                  BEL   11455519.0       Europe   \n",
              "\n",
              "      cum_number_14_days_cases_per_100000  \n",
              "4623                          1390.875437  \n",
              "4624                          1398.932689  \n",
              "4625                          1373.783239  \n",
              "4626                          1314.623982  \n",
              "4627                          1240.423939  \n",
              "...                                   ...  \n",
              "4920                                  NaN  \n",
              "4921                                  NaN  \n",
              "4922                                  NaN  \n",
              "4923                                  NaN  \n",
              "4924                                  NaN  \n",
              "\n",
              "[302 rows x 11 columns]"
            ],
            "text/html": "<div>\n<style scoped>\n    .dataframe tbody tr th:only-of-type {\n        vertical-align: middle;\n    }\n\n    .dataframe tbody tr th {\n        vertical-align: top;\n    }\n\n    .dataframe thead th {\n        text-align: right;\n    }\n</style>\n<table border=\"1\" class=\"dataframe\">\n  <thead>\n    <tr style=\"text-align: right;\">\n      <th></th>\n      <th>dateRep</th>\n      <th>day</th>\n      <th>month</th>\n      <th>year</th>\n      <th>cases</th>\n      <th>deaths</th>\n      <th>country</th>\n      <th>countryterritoryCode</th>\n      <th>popData2019</th>\n      <th>continentExp</th>\n      <th>cum_number_14_days_cases_per_100000</th>\n    </tr>\n  </thead>\n  <tbody>\n    <tr>\n      <th>4623</th>\n      <td>2020-10-27</td>\n      <td>27</td>\n      <td>10</td>\n      <td>2020</td>\n      <td>8</td>\n      <td>25</td>\n      <td>Belgium</td>\n      <td>BEL</td>\n      <td>11455519.0</td>\n      <td>Europe</td>\n      <td>1390.875437</td>\n    </tr>\n    <tr>\n      <th>4624</th>\n      <td>2020-10-26</td>\n      <td>26</td>\n      <td>10</td>\n      <td>2020</td>\n      <td>1485</td>\n      <td>66</td>\n      <td>Belgium</td>\n      <td>BEL</td>\n      <td>11455519.0</td>\n      <td>Europe</td>\n      <td>1398.932689</td>\n    </tr>\n    <tr>\n      <th>4625</th>\n      <td>2020-10-25</td>\n      <td>25</td>\n      <td>10</td>\n      <td>2020</td>\n      <td>7187</td>\n      <td>70</td>\n      <td>Belgium</td>\n      <td>BEL</td>\n      <td>11455519.0</td>\n      <td>Europe</td>\n      <td>1373.783239</td>\n    </tr>\n    <tr>\n      <th>4626</th>\n      <td>2020-10-24</td>\n      <td>24</td>\n      <td>10</td>\n      <td>2020</td>\n      <td>14560</td>\n      <td>85</td>\n      <td>Belgium</td>\n      <td>BEL</td>\n      <td>11455519.0</td>\n      <td>Europe</td>\n      <td>1314.623982</td>\n    </tr>\n    <tr>\n      <th>4627</th>\n      <td>2020-10-23</td>\n      <td>23</td>\n      <td>10</td>\n      <td>2020</td>\n      <td>15085</td>\n      <td>53</td>\n      <td>Belgium</td>\n      <td>BEL</td>\n      <td>11455519.0</td>\n      <td>Europe</td>\n      <td>1240.423939</td>\n    </tr>\n    <tr>\n      <th>...</th>\n      <td>...</td>\n      <td>...</td>\n      <td>...</td>\n      <td>...</td>\n      <td>...</td>\n      <td>...</td>\n      <td>...</td>\n      <td>...</td>\n      <td>...</td>\n      <td>...</td>\n      <td>...</td>\n    </tr>\n    <tr>\n      <th>4920</th>\n      <td>2020-01-04</td>\n      <td>4</td>\n      <td>1</td>\n      <td>2020</td>\n      <td>0</td>\n      <td>0</td>\n      <td>Belgium</td>\n      <td>BEL</td>\n      <td>11455519.0</td>\n      <td>Europe</td>\n      <td>NaN</td>\n    </tr>\n    <tr>\n      <th>4921</th>\n      <td>2020-01-03</td>\n      <td>3</td>\n      <td>1</td>\n      <td>2020</td>\n      <td>0</td>\n      <td>0</td>\n      <td>Belgium</td>\n      <td>BEL</td>\n      <td>11455519.0</td>\n      <td>Europe</td>\n      <td>NaN</td>\n    </tr>\n    <tr>\n      <th>4922</th>\n      <td>2020-01-02</td>\n      <td>2</td>\n      <td>1</td>\n      <td>2020</td>\n      <td>0</td>\n      <td>0</td>\n      <td>Belgium</td>\n      <td>BEL</td>\n      <td>11455519.0</td>\n      <td>Europe</td>\n      <td>NaN</td>\n    </tr>\n    <tr>\n      <th>4923</th>\n      <td>2020-01-01</td>\n      <td>1</td>\n      <td>1</td>\n      <td>2020</td>\n      <td>0</td>\n      <td>0</td>\n      <td>Belgium</td>\n      <td>BEL</td>\n      <td>11455519.0</td>\n      <td>Europe</td>\n      <td>NaN</td>\n    </tr>\n    <tr>\n      <th>4924</th>\n      <td>2019-12-31</td>\n      <td>31</td>\n      <td>12</td>\n      <td>2019</td>\n      <td>0</td>\n      <td>0</td>\n      <td>Belgium</td>\n      <td>BEL</td>\n      <td>11455519.0</td>\n      <td>Europe</td>\n      <td>NaN</td>\n    </tr>\n  </tbody>\n</table>\n<p>302 rows × 11 columns</p>\n</div>"
          },
          "metadata": {},
          "execution_count": 18
        }
      ]
    },
    {
      "cell_type": "code",
      "metadata": {
        "id": "2mZMMsPvKJwB",
        "outputId": "ba119080-72a6-42a5-9b66-2d52d95f6373",
        "colab": {
          "base_uri": "https://localhost:8080/",
          "height": 411
        }
      },
      "source": [
        "# Find all lines for the Benelux.\n",
        "# You don't know what the exact name is for The Netherlands\n",
        "# You could first try to find countries from Europe\n",
        "coviddata[coviddata['continentExp']=='Europe']"
      ],
      "execution_count": 19,
      "outputs": [
        {
          "output_type": "execute_result",
          "data": {
            "text/plain": [
              "         dateRep  day  month  year  cases  deaths         country  \\\n",
              "292   2020-10-27   27     10  2020    288       3         Albania   \n",
              "293   2020-10-26   26     10  2020    299       4         Albania   \n",
              "294   2020-10-25   25     10  2020    302       4         Albania   \n",
              "295   2020-10-24   24     10  2020    306       4         Albania   \n",
              "296   2020-10-23   23     10  2020    302       3         Albania   \n",
              "...          ...  ...    ...   ...    ...     ...             ...   \n",
              "49116 2020-01-04    4      1  2020      0       0  United_Kingdom   \n",
              "49117 2020-01-03    3      1  2020      0       0  United_Kingdom   \n",
              "49118 2020-01-02    2      1  2020      0       0  United_Kingdom   \n",
              "49119 2020-01-01    1      1  2020      0       0  United_Kingdom   \n",
              "49120 2019-12-31   31     12  2019      0       0  United_Kingdom   \n",
              "\n",
              "      countryterritoryCode  popData2019 continentExp  \\\n",
              "292                    ALB    2862427.0       Europe   \n",
              "293                    ALB    2862427.0       Europe   \n",
              "294                    ALB    2862427.0       Europe   \n",
              "295                    ALB    2862427.0       Europe   \n",
              "296                    ALB    2862427.0       Europe   \n",
              "...                    ...          ...          ...   \n",
              "49116                  GBR   66647112.0       Europe   \n",
              "49117                  GBR   66647112.0       Europe   \n",
              "49118                  GBR   66647112.0       Europe   \n",
              "49119                  GBR   66647112.0       Europe   \n",
              "49120                  GBR   66647112.0       Europe   \n",
              "\n",
              "       cum_number_14_days_cases_per_100000  \n",
              "292                             135.374631  \n",
              "293                             131.287191  \n",
              "294                             126.710655  \n",
              "295                             121.924507  \n",
              "296                             117.068488  \n",
              "...                                    ...  \n",
              "49116                                  NaN  \n",
              "49117                                  NaN  \n",
              "49118                                  NaN  \n",
              "49119                                  NaN  \n",
              "49120                                  NaN  \n",
              "\n",
              "[14504 rows x 11 columns]"
            ],
            "text/html": "<div>\n<style scoped>\n    .dataframe tbody tr th:only-of-type {\n        vertical-align: middle;\n    }\n\n    .dataframe tbody tr th {\n        vertical-align: top;\n    }\n\n    .dataframe thead th {\n        text-align: right;\n    }\n</style>\n<table border=\"1\" class=\"dataframe\">\n  <thead>\n    <tr style=\"text-align: right;\">\n      <th></th>\n      <th>dateRep</th>\n      <th>day</th>\n      <th>month</th>\n      <th>year</th>\n      <th>cases</th>\n      <th>deaths</th>\n      <th>country</th>\n      <th>countryterritoryCode</th>\n      <th>popData2019</th>\n      <th>continentExp</th>\n      <th>cum_number_14_days_cases_per_100000</th>\n    </tr>\n  </thead>\n  <tbody>\n    <tr>\n      <th>292</th>\n      <td>2020-10-27</td>\n      <td>27</td>\n      <td>10</td>\n      <td>2020</td>\n      <td>288</td>\n      <td>3</td>\n      <td>Albania</td>\n      <td>ALB</td>\n      <td>2862427.0</td>\n      <td>Europe</td>\n      <td>135.374631</td>\n    </tr>\n    <tr>\n      <th>293</th>\n      <td>2020-10-26</td>\n      <td>26</td>\n      <td>10</td>\n      <td>2020</td>\n      <td>299</td>\n      <td>4</td>\n      <td>Albania</td>\n      <td>ALB</td>\n      <td>2862427.0</td>\n      <td>Europe</td>\n      <td>131.287191</td>\n    </tr>\n    <tr>\n      <th>294</th>\n      <td>2020-10-25</td>\n      <td>25</td>\n      <td>10</td>\n      <td>2020</td>\n      <td>302</td>\n      <td>4</td>\n      <td>Albania</td>\n      <td>ALB</td>\n      <td>2862427.0</td>\n      <td>Europe</td>\n      <td>126.710655</td>\n    </tr>\n    <tr>\n      <th>295</th>\n      <td>2020-10-24</td>\n      <td>24</td>\n      <td>10</td>\n      <td>2020</td>\n      <td>306</td>\n      <td>4</td>\n      <td>Albania</td>\n      <td>ALB</td>\n      <td>2862427.0</td>\n      <td>Europe</td>\n      <td>121.924507</td>\n    </tr>\n    <tr>\n      <th>296</th>\n      <td>2020-10-23</td>\n      <td>23</td>\n      <td>10</td>\n      <td>2020</td>\n      <td>302</td>\n      <td>3</td>\n      <td>Albania</td>\n      <td>ALB</td>\n      <td>2862427.0</td>\n      <td>Europe</td>\n      <td>117.068488</td>\n    </tr>\n    <tr>\n      <th>...</th>\n      <td>...</td>\n      <td>...</td>\n      <td>...</td>\n      <td>...</td>\n      <td>...</td>\n      <td>...</td>\n      <td>...</td>\n      <td>...</td>\n      <td>...</td>\n      <td>...</td>\n      <td>...</td>\n    </tr>\n    <tr>\n      <th>49116</th>\n      <td>2020-01-04</td>\n      <td>4</td>\n      <td>1</td>\n      <td>2020</td>\n      <td>0</td>\n      <td>0</td>\n      <td>United_Kingdom</td>\n      <td>GBR</td>\n      <td>66647112.0</td>\n      <td>Europe</td>\n      <td>NaN</td>\n    </tr>\n    <tr>\n      <th>49117</th>\n      <td>2020-01-03</td>\n      <td>3</td>\n      <td>1</td>\n      <td>2020</td>\n      <td>0</td>\n      <td>0</td>\n      <td>United_Kingdom</td>\n      <td>GBR</td>\n      <td>66647112.0</td>\n      <td>Europe</td>\n      <td>NaN</td>\n    </tr>\n    <tr>\n      <th>49118</th>\n      <td>2020-01-02</td>\n      <td>2</td>\n      <td>1</td>\n      <td>2020</td>\n      <td>0</td>\n      <td>0</td>\n      <td>United_Kingdom</td>\n      <td>GBR</td>\n      <td>66647112.0</td>\n      <td>Europe</td>\n      <td>NaN</td>\n    </tr>\n    <tr>\n      <th>49119</th>\n      <td>2020-01-01</td>\n      <td>1</td>\n      <td>1</td>\n      <td>2020</td>\n      <td>0</td>\n      <td>0</td>\n      <td>United_Kingdom</td>\n      <td>GBR</td>\n      <td>66647112.0</td>\n      <td>Europe</td>\n      <td>NaN</td>\n    </tr>\n    <tr>\n      <th>49120</th>\n      <td>2019-12-31</td>\n      <td>31</td>\n      <td>12</td>\n      <td>2019</td>\n      <td>0</td>\n      <td>0</td>\n      <td>United_Kingdom</td>\n      <td>GBR</td>\n      <td>66647112.0</td>\n      <td>Europe</td>\n      <td>NaN</td>\n    </tr>\n  </tbody>\n</table>\n<p>14504 rows × 11 columns</p>\n</div>"
          },
          "metadata": {},
          "execution_count": 19
        }
      ]
    },
    {
      "cell_type": "code",
      "metadata": {
        "id": "yJm91xV5X8xw",
        "outputId": "c2d89dd3-bf97-434c-af68-2e9864b254e3",
        "colab": {
          "base_uri": "https://localhost:8080/",
          "height": 411
        }
      },
      "source": [
        "# This doesn't help us to find the correct name of The Netherlands, so we try it in another way\n",
        "coviddata[coviddata['country'].str.contains('etherlands')]"
      ],
      "execution_count": 20,
      "outputs": [
        {
          "output_type": "execute_result",
          "data": {
            "text/plain": [
              "         dateRep  day  month  year  cases  deaths      country  \\\n",
              "33595 2020-10-27   27     10  2020  10324      26  Netherlands   \n",
              "33596 2020-10-26   26     10  2020  10194      27  Netherlands   \n",
              "33597 2020-10-25   25     10  2020   8639      55  Netherlands   \n",
              "33598 2020-10-24   24     10  2020   9983      45  Netherlands   \n",
              "33599 2020-10-23   23     10  2020   9268      46  Netherlands   \n",
              "...          ...  ...    ...   ...    ...     ...          ...   \n",
              "33892 2020-01-04    4      1  2020      0       0  Netherlands   \n",
              "33893 2020-01-03    3      1  2020      0       0  Netherlands   \n",
              "33894 2020-01-02    2      1  2020      0       0  Netherlands   \n",
              "33895 2020-01-01    1      1  2020      0       0  Netherlands   \n",
              "33896 2019-12-31   31     12  2019      0       0  Netherlands   \n",
              "\n",
              "      countryterritoryCode  popData2019 continentExp  \\\n",
              "33595                  NLD   17282163.0       Europe   \n",
              "33596                  NLD   17282163.0       Europe   \n",
              "33597                  NLD   17282163.0       Europe   \n",
              "33598                  NLD   17282163.0       Europe   \n",
              "33599                  NLD   17282163.0       Europe   \n",
              "...                    ...          ...          ...   \n",
              "33892                  NLD   17282163.0       Europe   \n",
              "33893                  NLD   17282163.0       Europe   \n",
              "33894                  NLD   17282163.0       Europe   \n",
              "33895                  NLD   17282163.0       Europe   \n",
              "33896                  NLD   17282163.0       Europe   \n",
              "\n",
              "       cum_number_14_days_cases_per_100000  \n",
              "33595                           694.097145  \n",
              "33596                           673.960777  \n",
              "33597                           651.822344  \n",
              "33598                           639.404917  \n",
              "33599                           616.120795  \n",
              "...                                    ...  \n",
              "33892                                  NaN  \n",
              "33893                                  NaN  \n",
              "33894                                  NaN  \n",
              "33895                                  NaN  \n",
              "33896                                  NaN  \n",
              "\n",
              "[302 rows x 11 columns]"
            ],
            "text/html": "<div>\n<style scoped>\n    .dataframe tbody tr th:only-of-type {\n        vertical-align: middle;\n    }\n\n    .dataframe tbody tr th {\n        vertical-align: top;\n    }\n\n    .dataframe thead th {\n        text-align: right;\n    }\n</style>\n<table border=\"1\" class=\"dataframe\">\n  <thead>\n    <tr style=\"text-align: right;\">\n      <th></th>\n      <th>dateRep</th>\n      <th>day</th>\n      <th>month</th>\n      <th>year</th>\n      <th>cases</th>\n      <th>deaths</th>\n      <th>country</th>\n      <th>countryterritoryCode</th>\n      <th>popData2019</th>\n      <th>continentExp</th>\n      <th>cum_number_14_days_cases_per_100000</th>\n    </tr>\n  </thead>\n  <tbody>\n    <tr>\n      <th>33595</th>\n      <td>2020-10-27</td>\n      <td>27</td>\n      <td>10</td>\n      <td>2020</td>\n      <td>10324</td>\n      <td>26</td>\n      <td>Netherlands</td>\n      <td>NLD</td>\n      <td>17282163.0</td>\n      <td>Europe</td>\n      <td>694.097145</td>\n    </tr>\n    <tr>\n      <th>33596</th>\n      <td>2020-10-26</td>\n      <td>26</td>\n      <td>10</td>\n      <td>2020</td>\n      <td>10194</td>\n      <td>27</td>\n      <td>Netherlands</td>\n      <td>NLD</td>\n      <td>17282163.0</td>\n      <td>Europe</td>\n      <td>673.960777</td>\n    </tr>\n    <tr>\n      <th>33597</th>\n      <td>2020-10-25</td>\n      <td>25</td>\n      <td>10</td>\n      <td>2020</td>\n      <td>8639</td>\n      <td>55</td>\n      <td>Netherlands</td>\n      <td>NLD</td>\n      <td>17282163.0</td>\n      <td>Europe</td>\n      <td>651.822344</td>\n    </tr>\n    <tr>\n      <th>33598</th>\n      <td>2020-10-24</td>\n      <td>24</td>\n      <td>10</td>\n      <td>2020</td>\n      <td>9983</td>\n      <td>45</td>\n      <td>Netherlands</td>\n      <td>NLD</td>\n      <td>17282163.0</td>\n      <td>Europe</td>\n      <td>639.404917</td>\n    </tr>\n    <tr>\n      <th>33599</th>\n      <td>2020-10-23</td>\n      <td>23</td>\n      <td>10</td>\n      <td>2020</td>\n      <td>9268</td>\n      <td>46</td>\n      <td>Netherlands</td>\n      <td>NLD</td>\n      <td>17282163.0</td>\n      <td>Europe</td>\n      <td>616.120795</td>\n    </tr>\n    <tr>\n      <th>...</th>\n      <td>...</td>\n      <td>...</td>\n      <td>...</td>\n      <td>...</td>\n      <td>...</td>\n      <td>...</td>\n      <td>...</td>\n      <td>...</td>\n      <td>...</td>\n      <td>...</td>\n      <td>...</td>\n    </tr>\n    <tr>\n      <th>33892</th>\n      <td>2020-01-04</td>\n      <td>4</td>\n      <td>1</td>\n      <td>2020</td>\n      <td>0</td>\n      <td>0</td>\n      <td>Netherlands</td>\n      <td>NLD</td>\n      <td>17282163.0</td>\n      <td>Europe</td>\n      <td>NaN</td>\n    </tr>\n    <tr>\n      <th>33893</th>\n      <td>2020-01-03</td>\n      <td>3</td>\n      <td>1</td>\n      <td>2020</td>\n      <td>0</td>\n      <td>0</td>\n      <td>Netherlands</td>\n      <td>NLD</td>\n      <td>17282163.0</td>\n      <td>Europe</td>\n      <td>NaN</td>\n    </tr>\n    <tr>\n      <th>33894</th>\n      <td>2020-01-02</td>\n      <td>2</td>\n      <td>1</td>\n      <td>2020</td>\n      <td>0</td>\n      <td>0</td>\n      <td>Netherlands</td>\n      <td>NLD</td>\n      <td>17282163.0</td>\n      <td>Europe</td>\n      <td>NaN</td>\n    </tr>\n    <tr>\n      <th>33895</th>\n      <td>2020-01-01</td>\n      <td>1</td>\n      <td>1</td>\n      <td>2020</td>\n      <td>0</td>\n      <td>0</td>\n      <td>Netherlands</td>\n      <td>NLD</td>\n      <td>17282163.0</td>\n      <td>Europe</td>\n      <td>NaN</td>\n    </tr>\n    <tr>\n      <th>33896</th>\n      <td>2019-12-31</td>\n      <td>31</td>\n      <td>12</td>\n      <td>2019</td>\n      <td>0</td>\n      <td>0</td>\n      <td>Netherlands</td>\n      <td>NLD</td>\n      <td>17282163.0</td>\n      <td>Europe</td>\n      <td>NaN</td>\n    </tr>\n  </tbody>\n</table>\n<p>302 rows × 11 columns</p>\n</div>"
          },
          "metadata": {},
          "execution_count": 20
        }
      ]
    },
    {
      "cell_type": "code",
      "metadata": {
        "id": "_QD7AiVtKw4U",
        "outputId": "f9b15a2b-cc18-4265-fc7d-aec78a787ee5",
        "colab": {
          "base_uri": "https://localhost:8080/",
          "height": 411
        }
      },
      "source": [
        "# Find all lines for the Benelux\n",
        "coviddata[coviddata['country'].isin(['Belgium','Netherlands', 'Luxembourg'])]"
      ],
      "execution_count": 21,
      "outputs": [
        {
          "output_type": "execute_result",
          "data": {
            "text/plain": [
              "         dateRep  day  month  year  cases  deaths      country  \\\n",
              "4623  2020-10-27   27     10  2020      8      25      Belgium   \n",
              "4624  2020-10-26   26     10  2020   1485      66      Belgium   \n",
              "4625  2020-10-25   25     10  2020   7187      70      Belgium   \n",
              "4626  2020-10-24   24     10  2020  14560      85      Belgium   \n",
              "4627  2020-10-23   23     10  2020  15085      53      Belgium   \n",
              "...          ...  ...    ...   ...    ...     ...          ...   \n",
              "33892 2020-01-04    4      1  2020      0       0  Netherlands   \n",
              "33893 2020-01-03    3      1  2020      0       0  Netherlands   \n",
              "33894 2020-01-02    2      1  2020      0       0  Netherlands   \n",
              "33895 2020-01-01    1      1  2020      0       0  Netherlands   \n",
              "33896 2019-12-31   31     12  2019      0       0  Netherlands   \n",
              "\n",
              "      countryterritoryCode  popData2019 continentExp  \\\n",
              "4623                   BEL   11455519.0       Europe   \n",
              "4624                   BEL   11455519.0       Europe   \n",
              "4625                   BEL   11455519.0       Europe   \n",
              "4626                   BEL   11455519.0       Europe   \n",
              "4627                   BEL   11455519.0       Europe   \n",
              "...                    ...          ...          ...   \n",
              "33892                  NLD   17282163.0       Europe   \n",
              "33893                  NLD   17282163.0       Europe   \n",
              "33894                  NLD   17282163.0       Europe   \n",
              "33895                  NLD   17282163.0       Europe   \n",
              "33896                  NLD   17282163.0       Europe   \n",
              "\n",
              "       cum_number_14_days_cases_per_100000  \n",
              "4623                           1390.875437  \n",
              "4624                           1398.932689  \n",
              "4625                           1373.783239  \n",
              "4626                           1314.623982  \n",
              "4627                           1240.423939  \n",
              "...                                    ...  \n",
              "33892                                  NaN  \n",
              "33893                                  NaN  \n",
              "33894                                  NaN  \n",
              "33895                                  NaN  \n",
              "33896                                  NaN  \n",
              "\n",
              "[899 rows x 11 columns]"
            ],
            "text/html": "<div>\n<style scoped>\n    .dataframe tbody tr th:only-of-type {\n        vertical-align: middle;\n    }\n\n    .dataframe tbody tr th {\n        vertical-align: top;\n    }\n\n    .dataframe thead th {\n        text-align: right;\n    }\n</style>\n<table border=\"1\" class=\"dataframe\">\n  <thead>\n    <tr style=\"text-align: right;\">\n      <th></th>\n      <th>dateRep</th>\n      <th>day</th>\n      <th>month</th>\n      <th>year</th>\n      <th>cases</th>\n      <th>deaths</th>\n      <th>country</th>\n      <th>countryterritoryCode</th>\n      <th>popData2019</th>\n      <th>continentExp</th>\n      <th>cum_number_14_days_cases_per_100000</th>\n    </tr>\n  </thead>\n  <tbody>\n    <tr>\n      <th>4623</th>\n      <td>2020-10-27</td>\n      <td>27</td>\n      <td>10</td>\n      <td>2020</td>\n      <td>8</td>\n      <td>25</td>\n      <td>Belgium</td>\n      <td>BEL</td>\n      <td>11455519.0</td>\n      <td>Europe</td>\n      <td>1390.875437</td>\n    </tr>\n    <tr>\n      <th>4624</th>\n      <td>2020-10-26</td>\n      <td>26</td>\n      <td>10</td>\n      <td>2020</td>\n      <td>1485</td>\n      <td>66</td>\n      <td>Belgium</td>\n      <td>BEL</td>\n      <td>11455519.0</td>\n      <td>Europe</td>\n      <td>1398.932689</td>\n    </tr>\n    <tr>\n      <th>4625</th>\n      <td>2020-10-25</td>\n      <td>25</td>\n      <td>10</td>\n      <td>2020</td>\n      <td>7187</td>\n      <td>70</td>\n      <td>Belgium</td>\n      <td>BEL</td>\n      <td>11455519.0</td>\n      <td>Europe</td>\n      <td>1373.783239</td>\n    </tr>\n    <tr>\n      <th>4626</th>\n      <td>2020-10-24</td>\n      <td>24</td>\n      <td>10</td>\n      <td>2020</td>\n      <td>14560</td>\n      <td>85</td>\n      <td>Belgium</td>\n      <td>BEL</td>\n      <td>11455519.0</td>\n      <td>Europe</td>\n      <td>1314.623982</td>\n    </tr>\n    <tr>\n      <th>4627</th>\n      <td>2020-10-23</td>\n      <td>23</td>\n      <td>10</td>\n      <td>2020</td>\n      <td>15085</td>\n      <td>53</td>\n      <td>Belgium</td>\n      <td>BEL</td>\n      <td>11455519.0</td>\n      <td>Europe</td>\n      <td>1240.423939</td>\n    </tr>\n    <tr>\n      <th>...</th>\n      <td>...</td>\n      <td>...</td>\n      <td>...</td>\n      <td>...</td>\n      <td>...</td>\n      <td>...</td>\n      <td>...</td>\n      <td>...</td>\n      <td>...</td>\n      <td>...</td>\n      <td>...</td>\n    </tr>\n    <tr>\n      <th>33892</th>\n      <td>2020-01-04</td>\n      <td>4</td>\n      <td>1</td>\n      <td>2020</td>\n      <td>0</td>\n      <td>0</td>\n      <td>Netherlands</td>\n      <td>NLD</td>\n      <td>17282163.0</td>\n      <td>Europe</td>\n      <td>NaN</td>\n    </tr>\n    <tr>\n      <th>33893</th>\n      <td>2020-01-03</td>\n      <td>3</td>\n      <td>1</td>\n      <td>2020</td>\n      <td>0</td>\n      <td>0</td>\n      <td>Netherlands</td>\n      <td>NLD</td>\n      <td>17282163.0</td>\n      <td>Europe</td>\n      <td>NaN</td>\n    </tr>\n    <tr>\n      <th>33894</th>\n      <td>2020-01-02</td>\n      <td>2</td>\n      <td>1</td>\n      <td>2020</td>\n      <td>0</td>\n      <td>0</td>\n      <td>Netherlands</td>\n      <td>NLD</td>\n      <td>17282163.0</td>\n      <td>Europe</td>\n      <td>NaN</td>\n    </tr>\n    <tr>\n      <th>33895</th>\n      <td>2020-01-01</td>\n      <td>1</td>\n      <td>1</td>\n      <td>2020</td>\n      <td>0</td>\n      <td>0</td>\n      <td>Netherlands</td>\n      <td>NLD</td>\n      <td>17282163.0</td>\n      <td>Europe</td>\n      <td>NaN</td>\n    </tr>\n    <tr>\n      <th>33896</th>\n      <td>2019-12-31</td>\n      <td>31</td>\n      <td>12</td>\n      <td>2019</td>\n      <td>0</td>\n      <td>0</td>\n      <td>Netherlands</td>\n      <td>NLD</td>\n      <td>17282163.0</td>\n      <td>Europe</td>\n      <td>NaN</td>\n    </tr>\n  </tbody>\n</table>\n<p>899 rows × 11 columns</p>\n</div>"
          },
          "metadata": {},
          "execution_count": 21
        }
      ]
    },
    {
      "cell_type": "code",
      "metadata": {
        "id": "qRoHCgIMaEfR",
        "outputId": "f2761d89-8dbf-4c80-acf6-9f1bbda50027",
        "colab": {
          "base_uri": "https://localhost:8080/",
          "height": 411
        }
      },
      "source": [
        "# Find all lines where the number of deaths is not 0\n",
        "coviddata[~(coviddata['deaths'] == 0)]"
      ],
      "execution_count": 22,
      "outputs": [
        {
          "output_type": "execute_result",
          "data": {
            "text/plain": [
              "         dateRep  day  month  year  cases  deaths      country  \\\n",
              "0     2020-10-27   27     10  2020    199       8  Afghanistan   \n",
              "1     2020-10-26   26     10  2020     65       3  Afghanistan   \n",
              "2     2020-10-25   25     10  2020     81       4  Afghanistan   \n",
              "3     2020-10-24   24     10  2020     61       2  Afghanistan   \n",
              "4     2020-10-23   23     10  2020    116       4  Afghanistan   \n",
              "...          ...  ...    ...   ...    ...     ...          ...   \n",
              "51590 2020-06-21   21      6  2020      7       2     Zimbabwe   \n",
              "51647 2020-04-25   25      4  2020      0       1     Zimbabwe   \n",
              "51662 2020-04-10   10      4  2020      0       1     Zimbabwe   \n",
              "51663 2020-04-09    9      4  2020      1       1     Zimbabwe   \n",
              "51679 2020-03-24   24      3  2020      0       1     Zimbabwe   \n",
              "\n",
              "      countryterritoryCode  popData2019 continentExp  \\\n",
              "0                      AFG   38041757.0         Asia   \n",
              "1                      AFG   38041757.0         Asia   \n",
              "2                      AFG   38041757.0         Asia   \n",
              "3                      AFG   38041757.0         Asia   \n",
              "4                      AFG   38041757.0         Asia   \n",
              "...                    ...          ...          ...   \n",
              "51590                  ZWE   14645473.0       Africa   \n",
              "51647                  ZWE   14645473.0       Africa   \n",
              "51662                  ZWE   14645473.0       Africa   \n",
              "51663                  ZWE   14645473.0       Africa   \n",
              "51679                  ZWE   14645473.0       Africa   \n",
              "\n",
              "       cum_number_14_days_cases_per_100000  \n",
              "0                                 2.902074  \n",
              "1                                 2.718066  \n",
              "2                                 2.799555  \n",
              "3                                 2.586631  \n",
              "4                                 2.452568  \n",
              "...                                    ...  \n",
              "51590                             1.413406  \n",
              "51647                             0.122905  \n",
              "51662                             0.054624  \n",
              "51663                             0.054624  \n",
              "51679                                  NaN  \n",
              "\n",
              "[20018 rows x 11 columns]"
            ],
            "text/html": "<div>\n<style scoped>\n    .dataframe tbody tr th:only-of-type {\n        vertical-align: middle;\n    }\n\n    .dataframe tbody tr th {\n        vertical-align: top;\n    }\n\n    .dataframe thead th {\n        text-align: right;\n    }\n</style>\n<table border=\"1\" class=\"dataframe\">\n  <thead>\n    <tr style=\"text-align: right;\">\n      <th></th>\n      <th>dateRep</th>\n      <th>day</th>\n      <th>month</th>\n      <th>year</th>\n      <th>cases</th>\n      <th>deaths</th>\n      <th>country</th>\n      <th>countryterritoryCode</th>\n      <th>popData2019</th>\n      <th>continentExp</th>\n      <th>cum_number_14_days_cases_per_100000</th>\n    </tr>\n  </thead>\n  <tbody>\n    <tr>\n      <th>0</th>\n      <td>2020-10-27</td>\n      <td>27</td>\n      <td>10</td>\n      <td>2020</td>\n      <td>199</td>\n      <td>8</td>\n      <td>Afghanistan</td>\n      <td>AFG</td>\n      <td>38041757.0</td>\n      <td>Asia</td>\n      <td>2.902074</td>\n    </tr>\n    <tr>\n      <th>1</th>\n      <td>2020-10-26</td>\n      <td>26</td>\n      <td>10</td>\n      <td>2020</td>\n      <td>65</td>\n      <td>3</td>\n      <td>Afghanistan</td>\n      <td>AFG</td>\n      <td>38041757.0</td>\n      <td>Asia</td>\n      <td>2.718066</td>\n    </tr>\n    <tr>\n      <th>2</th>\n      <td>2020-10-25</td>\n      <td>25</td>\n      <td>10</td>\n      <td>2020</td>\n      <td>81</td>\n      <td>4</td>\n      <td>Afghanistan</td>\n      <td>AFG</td>\n      <td>38041757.0</td>\n      <td>Asia</td>\n      <td>2.799555</td>\n    </tr>\n    <tr>\n      <th>3</th>\n      <td>2020-10-24</td>\n      <td>24</td>\n      <td>10</td>\n      <td>2020</td>\n      <td>61</td>\n      <td>2</td>\n      <td>Afghanistan</td>\n      <td>AFG</td>\n      <td>38041757.0</td>\n      <td>Asia</td>\n      <td>2.586631</td>\n    </tr>\n    <tr>\n      <th>4</th>\n      <td>2020-10-23</td>\n      <td>23</td>\n      <td>10</td>\n      <td>2020</td>\n      <td>116</td>\n      <td>4</td>\n      <td>Afghanistan</td>\n      <td>AFG</td>\n      <td>38041757.0</td>\n      <td>Asia</td>\n      <td>2.452568</td>\n    </tr>\n    <tr>\n      <th>...</th>\n      <td>...</td>\n      <td>...</td>\n      <td>...</td>\n      <td>...</td>\n      <td>...</td>\n      <td>...</td>\n      <td>...</td>\n      <td>...</td>\n      <td>...</td>\n      <td>...</td>\n      <td>...</td>\n    </tr>\n    <tr>\n      <th>51590</th>\n      <td>2020-06-21</td>\n      <td>21</td>\n      <td>6</td>\n      <td>2020</td>\n      <td>7</td>\n      <td>2</td>\n      <td>Zimbabwe</td>\n      <td>ZWE</td>\n      <td>14645473.0</td>\n      <td>Africa</td>\n      <td>1.413406</td>\n    </tr>\n    <tr>\n      <th>51647</th>\n      <td>2020-04-25</td>\n      <td>25</td>\n      <td>4</td>\n      <td>2020</td>\n      <td>0</td>\n      <td>1</td>\n      <td>Zimbabwe</td>\n      <td>ZWE</td>\n      <td>14645473.0</td>\n      <td>Africa</td>\n      <td>0.122905</td>\n    </tr>\n    <tr>\n      <th>51662</th>\n      <td>2020-04-10</td>\n      <td>10</td>\n      <td>4</td>\n      <td>2020</td>\n      <td>0</td>\n      <td>1</td>\n      <td>Zimbabwe</td>\n      <td>ZWE</td>\n      <td>14645473.0</td>\n      <td>Africa</td>\n      <td>0.054624</td>\n    </tr>\n    <tr>\n      <th>51663</th>\n      <td>2020-04-09</td>\n      <td>9</td>\n      <td>4</td>\n      <td>2020</td>\n      <td>1</td>\n      <td>1</td>\n      <td>Zimbabwe</td>\n      <td>ZWE</td>\n      <td>14645473.0</td>\n      <td>Africa</td>\n      <td>0.054624</td>\n    </tr>\n    <tr>\n      <th>51679</th>\n      <td>2020-03-24</td>\n      <td>24</td>\n      <td>3</td>\n      <td>2020</td>\n      <td>0</td>\n      <td>1</td>\n      <td>Zimbabwe</td>\n      <td>ZWE</td>\n      <td>14645473.0</td>\n      <td>Africa</td>\n      <td>NaN</td>\n    </tr>\n  </tbody>\n</table>\n<p>20018 rows × 11 columns</p>\n</div>"
          },
          "metadata": {},
          "execution_count": 22
        }
      ]
    },
    {
      "cell_type": "code",
      "metadata": {
        "id": "Bkk9K90Qa7wa",
        "outputId": "34c98164-9482-48d8-da8e-32f7418c8552",
        "colab": {
          "base_uri": "https://localhost:8080/",
          "height": 411
        }
      },
      "source": [
        "# Find all lines where the number of deaths is not 0 and country is Belgium\n",
        "coviddata[~(coviddata['deaths'] == 0) & (coviddata['country'] == 'Belgium')]"
      ],
      "execution_count": 23,
      "outputs": [
        {
          "output_type": "execute_result",
          "data": {
            "text/plain": [
              "        dateRep  day  month  year  cases  deaths  country  \\\n",
              "4623 2020-10-27   27     10  2020      8      25  Belgium   \n",
              "4624 2020-10-26   26     10  2020   1485      66  Belgium   \n",
              "4625 2020-10-25   25     10  2020   7187      70  Belgium   \n",
              "4626 2020-10-24   24     10  2020  14560      85  Belgium   \n",
              "4627 2020-10-23   23     10  2020  15085      53  Belgium   \n",
              "...         ...  ...    ...   ...    ...     ...      ...   \n",
              "4849 2020-03-15   15      3  2020    179       5  Belgium   \n",
              "4850 2020-03-14   14      3  2020    338       3  Belgium   \n",
              "4851 2020-03-13   13      3  2020    250       1  Belgium   \n",
              "4852 2020-03-12   12      3  2020    174       3  Belgium   \n",
              "4853 2020-03-11   11      3  2020     99       1  Belgium   \n",
              "\n",
              "     countryterritoryCode  popData2019 continentExp  \\\n",
              "4623                  BEL   11455519.0       Europe   \n",
              "4624                  BEL   11455519.0       Europe   \n",
              "4625                  BEL   11455519.0       Europe   \n",
              "4626                  BEL   11455519.0       Europe   \n",
              "4627                  BEL   11455519.0       Europe   \n",
              "...                   ...          ...          ...   \n",
              "4849                  BEL   11455519.0       Europe   \n",
              "4850                  BEL   11455519.0       Europe   \n",
              "4851                  BEL   11455519.0       Europe   \n",
              "4852                  BEL   11455519.0       Europe   \n",
              "4853                  BEL   11455519.0       Europe   \n",
              "\n",
              "      cum_number_14_days_cases_per_100000  \n",
              "4623                          1390.875437  \n",
              "4624                          1398.932689  \n",
              "4625                          1373.783239  \n",
              "4626                          1314.623982  \n",
              "4627                          1240.423939  \n",
              "...                                   ...  \n",
              "4849                            11.880736  \n",
              "4850                             8.930193  \n",
              "4851                             6.747839  \n",
              "4852                             5.228921  \n",
              "4853                             4.364708  \n",
              "\n",
              "[229 rows x 11 columns]"
            ],
            "text/html": "<div>\n<style scoped>\n    .dataframe tbody tr th:only-of-type {\n        vertical-align: middle;\n    }\n\n    .dataframe tbody tr th {\n        vertical-align: top;\n    }\n\n    .dataframe thead th {\n        text-align: right;\n    }\n</style>\n<table border=\"1\" class=\"dataframe\">\n  <thead>\n    <tr style=\"text-align: right;\">\n      <th></th>\n      <th>dateRep</th>\n      <th>day</th>\n      <th>month</th>\n      <th>year</th>\n      <th>cases</th>\n      <th>deaths</th>\n      <th>country</th>\n      <th>countryterritoryCode</th>\n      <th>popData2019</th>\n      <th>continentExp</th>\n      <th>cum_number_14_days_cases_per_100000</th>\n    </tr>\n  </thead>\n  <tbody>\n    <tr>\n      <th>4623</th>\n      <td>2020-10-27</td>\n      <td>27</td>\n      <td>10</td>\n      <td>2020</td>\n      <td>8</td>\n      <td>25</td>\n      <td>Belgium</td>\n      <td>BEL</td>\n      <td>11455519.0</td>\n      <td>Europe</td>\n      <td>1390.875437</td>\n    </tr>\n    <tr>\n      <th>4624</th>\n      <td>2020-10-26</td>\n      <td>26</td>\n      <td>10</td>\n      <td>2020</td>\n      <td>1485</td>\n      <td>66</td>\n      <td>Belgium</td>\n      <td>BEL</td>\n      <td>11455519.0</td>\n      <td>Europe</td>\n      <td>1398.932689</td>\n    </tr>\n    <tr>\n      <th>4625</th>\n      <td>2020-10-25</td>\n      <td>25</td>\n      <td>10</td>\n      <td>2020</td>\n      <td>7187</td>\n      <td>70</td>\n      <td>Belgium</td>\n      <td>BEL</td>\n      <td>11455519.0</td>\n      <td>Europe</td>\n      <td>1373.783239</td>\n    </tr>\n    <tr>\n      <th>4626</th>\n      <td>2020-10-24</td>\n      <td>24</td>\n      <td>10</td>\n      <td>2020</td>\n      <td>14560</td>\n      <td>85</td>\n      <td>Belgium</td>\n      <td>BEL</td>\n      <td>11455519.0</td>\n      <td>Europe</td>\n      <td>1314.623982</td>\n    </tr>\n    <tr>\n      <th>4627</th>\n      <td>2020-10-23</td>\n      <td>23</td>\n      <td>10</td>\n      <td>2020</td>\n      <td>15085</td>\n      <td>53</td>\n      <td>Belgium</td>\n      <td>BEL</td>\n      <td>11455519.0</td>\n      <td>Europe</td>\n      <td>1240.423939</td>\n    </tr>\n    <tr>\n      <th>...</th>\n      <td>...</td>\n      <td>...</td>\n      <td>...</td>\n      <td>...</td>\n      <td>...</td>\n      <td>...</td>\n      <td>...</td>\n      <td>...</td>\n      <td>...</td>\n      <td>...</td>\n      <td>...</td>\n    </tr>\n    <tr>\n      <th>4849</th>\n      <td>2020-03-15</td>\n      <td>15</td>\n      <td>3</td>\n      <td>2020</td>\n      <td>179</td>\n      <td>5</td>\n      <td>Belgium</td>\n      <td>BEL</td>\n      <td>11455519.0</td>\n      <td>Europe</td>\n      <td>11.880736</td>\n    </tr>\n    <tr>\n      <th>4850</th>\n      <td>2020-03-14</td>\n      <td>14</td>\n      <td>3</td>\n      <td>2020</td>\n      <td>338</td>\n      <td>3</td>\n      <td>Belgium</td>\n      <td>BEL</td>\n      <td>11455519.0</td>\n      <td>Europe</td>\n      <td>8.930193</td>\n    </tr>\n    <tr>\n      <th>4851</th>\n      <td>2020-03-13</td>\n      <td>13</td>\n      <td>3</td>\n      <td>2020</td>\n      <td>250</td>\n      <td>1</td>\n      <td>Belgium</td>\n      <td>BEL</td>\n      <td>11455519.0</td>\n      <td>Europe</td>\n      <td>6.747839</td>\n    </tr>\n    <tr>\n      <th>4852</th>\n      <td>2020-03-12</td>\n      <td>12</td>\n      <td>3</td>\n      <td>2020</td>\n      <td>174</td>\n      <td>3</td>\n      <td>Belgium</td>\n      <td>BEL</td>\n      <td>11455519.0</td>\n      <td>Europe</td>\n      <td>5.228921</td>\n    </tr>\n    <tr>\n      <th>4853</th>\n      <td>2020-03-11</td>\n      <td>11</td>\n      <td>3</td>\n      <td>2020</td>\n      <td>99</td>\n      <td>1</td>\n      <td>Belgium</td>\n      <td>BEL</td>\n      <td>11455519.0</td>\n      <td>Europe</td>\n      <td>4.364708</td>\n    </tr>\n  </tbody>\n</table>\n<p>229 rows × 11 columns</p>\n</div>"
          },
          "metadata": {},
          "execution_count": 23
        }
      ]
    },
    {
      "cell_type": "code",
      "metadata": {
        "id": "jqnGzAxra78r",
        "outputId": "39619ac4-c7fe-4751-c003-223d9f8318d4",
        "colab": {
          "base_uri": "https://localhost:8080/",
          "height": 411
        }
      },
      "source": [
        "# Find all lines where popData2019 is empty\n",
        "coviddata[coviddata['popData2019'].isnull()]"
      ],
      "execution_count": 24,
      "outputs": [
        {
          "output_type": "execute_result",
          "data": {
            "text/plain": [
              "         dateRep  day  month  year  cases  deaths  \\\n",
              "9159  2020-03-10   10      3  2020     -9       1   \n",
              "9160  2020-03-02    2      3  2020      0       0   \n",
              "9161  2020-03-01    1      3  2020      0       0   \n",
              "9162  2020-02-29   29      2  2020      0       2   \n",
              "9163  2020-02-28   28      2  2020      0       0   \n",
              "...          ...  ...    ...   ...    ...     ...   \n",
              "50848 2020-10-21   21     10  2020      0       0   \n",
              "50849 2020-10-20   20     10  2020      0       0   \n",
              "50850 2020-10-19   19     10  2020      0       0   \n",
              "50851 2020-10-18   18     10  2020      0       0   \n",
              "50852 2020-10-17   17     10  2020      1       0   \n",
              "\n",
              "                                          country countryterritoryCode  \\\n",
              "9159   Cases_on_an_international_conveyance_Japan                  NaN   \n",
              "9160   Cases_on_an_international_conveyance_Japan                  NaN   \n",
              "9161   Cases_on_an_international_conveyance_Japan                  NaN   \n",
              "9162   Cases_on_an_international_conveyance_Japan                  NaN   \n",
              "9163   Cases_on_an_international_conveyance_Japan                  NaN   \n",
              "...                                           ...                  ...   \n",
              "50848                           Wallis_and_Futuna                  NaN   \n",
              "50849                           Wallis_and_Futuna                  NaN   \n",
              "50850                           Wallis_and_Futuna                  NaN   \n",
              "50851                           Wallis_and_Futuna                  NaN   \n",
              "50852                           Wallis_and_Futuna                  NaN   \n",
              "\n",
              "       popData2019 continentExp  cum_number_14_days_cases_per_100000  \n",
              "9159           NaN        Other                                  NaN  \n",
              "9160           NaN        Other                                  NaN  \n",
              "9161           NaN        Other                                  NaN  \n",
              "9162           NaN        Other                                  NaN  \n",
              "9163           NaN        Other                                  NaN  \n",
              "...            ...          ...                                  ...  \n",
              "50848          NaN      Oceania                                  NaN  \n",
              "50849          NaN      Oceania                                  NaN  \n",
              "50850          NaN      Oceania                                  NaN  \n",
              "50851          NaN      Oceania                                  NaN  \n",
              "50852          NaN      Oceania                                  NaN  \n",
              "\n",
              "[75 rows x 11 columns]"
            ],
            "text/html": "<div>\n<style scoped>\n    .dataframe tbody tr th:only-of-type {\n        vertical-align: middle;\n    }\n\n    .dataframe tbody tr th {\n        vertical-align: top;\n    }\n\n    .dataframe thead th {\n        text-align: right;\n    }\n</style>\n<table border=\"1\" class=\"dataframe\">\n  <thead>\n    <tr style=\"text-align: right;\">\n      <th></th>\n      <th>dateRep</th>\n      <th>day</th>\n      <th>month</th>\n      <th>year</th>\n      <th>cases</th>\n      <th>deaths</th>\n      <th>country</th>\n      <th>countryterritoryCode</th>\n      <th>popData2019</th>\n      <th>continentExp</th>\n      <th>cum_number_14_days_cases_per_100000</th>\n    </tr>\n  </thead>\n  <tbody>\n    <tr>\n      <th>9159</th>\n      <td>2020-03-10</td>\n      <td>10</td>\n      <td>3</td>\n      <td>2020</td>\n      <td>-9</td>\n      <td>1</td>\n      <td>Cases_on_an_international_conveyance_Japan</td>\n      <td>NaN</td>\n      <td>NaN</td>\n      <td>Other</td>\n      <td>NaN</td>\n    </tr>\n    <tr>\n      <th>9160</th>\n      <td>2020-03-02</td>\n      <td>2</td>\n      <td>3</td>\n      <td>2020</td>\n      <td>0</td>\n      <td>0</td>\n      <td>Cases_on_an_international_conveyance_Japan</td>\n      <td>NaN</td>\n      <td>NaN</td>\n      <td>Other</td>\n      <td>NaN</td>\n    </tr>\n    <tr>\n      <th>9161</th>\n      <td>2020-03-01</td>\n      <td>1</td>\n      <td>3</td>\n      <td>2020</td>\n      <td>0</td>\n      <td>0</td>\n      <td>Cases_on_an_international_conveyance_Japan</td>\n      <td>NaN</td>\n      <td>NaN</td>\n      <td>Other</td>\n      <td>NaN</td>\n    </tr>\n    <tr>\n      <th>9162</th>\n      <td>2020-02-29</td>\n      <td>29</td>\n      <td>2</td>\n      <td>2020</td>\n      <td>0</td>\n      <td>2</td>\n      <td>Cases_on_an_international_conveyance_Japan</td>\n      <td>NaN</td>\n      <td>NaN</td>\n      <td>Other</td>\n      <td>NaN</td>\n    </tr>\n    <tr>\n      <th>9163</th>\n      <td>2020-02-28</td>\n      <td>28</td>\n      <td>2</td>\n      <td>2020</td>\n      <td>0</td>\n      <td>0</td>\n      <td>Cases_on_an_international_conveyance_Japan</td>\n      <td>NaN</td>\n      <td>NaN</td>\n      <td>Other</td>\n      <td>NaN</td>\n    </tr>\n    <tr>\n      <th>...</th>\n      <td>...</td>\n      <td>...</td>\n      <td>...</td>\n      <td>...</td>\n      <td>...</td>\n      <td>...</td>\n      <td>...</td>\n      <td>...</td>\n      <td>...</td>\n      <td>...</td>\n      <td>...</td>\n    </tr>\n    <tr>\n      <th>50848</th>\n      <td>2020-10-21</td>\n      <td>21</td>\n      <td>10</td>\n      <td>2020</td>\n      <td>0</td>\n      <td>0</td>\n      <td>Wallis_and_Futuna</td>\n      <td>NaN</td>\n      <td>NaN</td>\n      <td>Oceania</td>\n      <td>NaN</td>\n    </tr>\n    <tr>\n      <th>50849</th>\n      <td>2020-10-20</td>\n      <td>20</td>\n      <td>10</td>\n      <td>2020</td>\n      <td>0</td>\n      <td>0</td>\n      <td>Wallis_and_Futuna</td>\n      <td>NaN</td>\n      <td>NaN</td>\n      <td>Oceania</td>\n      <td>NaN</td>\n    </tr>\n    <tr>\n      <th>50850</th>\n      <td>2020-10-19</td>\n      <td>19</td>\n      <td>10</td>\n      <td>2020</td>\n      <td>0</td>\n      <td>0</td>\n      <td>Wallis_and_Futuna</td>\n      <td>NaN</td>\n      <td>NaN</td>\n      <td>Oceania</td>\n      <td>NaN</td>\n    </tr>\n    <tr>\n      <th>50851</th>\n      <td>2020-10-18</td>\n      <td>18</td>\n      <td>10</td>\n      <td>2020</td>\n      <td>0</td>\n      <td>0</td>\n      <td>Wallis_and_Futuna</td>\n      <td>NaN</td>\n      <td>NaN</td>\n      <td>Oceania</td>\n      <td>NaN</td>\n    </tr>\n    <tr>\n      <th>50852</th>\n      <td>2020-10-17</td>\n      <td>17</td>\n      <td>10</td>\n      <td>2020</td>\n      <td>1</td>\n      <td>0</td>\n      <td>Wallis_and_Futuna</td>\n      <td>NaN</td>\n      <td>NaN</td>\n      <td>Oceania</td>\n      <td>NaN</td>\n    </tr>\n  </tbody>\n</table>\n<p>75 rows × 11 columns</p>\n</div>"
          },
          "metadata": {},
          "execution_count": 24
        }
      ]
    },
    {
      "cell_type": "code",
      "metadata": {
        "id": "dKAeB0Wgbw_Y",
        "outputId": "5da0c876-bb92-4e88-eecb-3ec091870744",
        "colab": {
          "base_uri": "https://localhost:8080/",
          "height": 195
        }
      },
      "source": [
        "# Drop all lines where values are missing\n",
        "# First print the number of values per column before\n",
        "coviddata.count()\n"
      ],
      "execution_count": 25,
      "outputs": [
        {
          "output_type": "execute_result",
          "data": {
            "text/plain": [
              "dateRep                                51683\n",
              "day                                    51683\n",
              "month                                  51683\n",
              "year                                   51683\n",
              "cases                                  51683\n",
              "deaths                                 51683\n",
              "country                                51683\n",
              "countryterritoryCode                   51608\n",
              "popData2019                            51608\n",
              "continentExp                           51683\n",
              "cum_number_14_days_cases_per_100000    48879\n",
              "dtype: int64"
            ]
          },
          "metadata": {},
          "execution_count": 25
        }
      ]
    },
    {
      "cell_type": "code",
      "metadata": {
        "id": "PeAVmjJcdEIs"
      },
      "source": [
        "# Delete all records that possibly contain empty values\n",
        "coviddata = coviddata.dropna()"
      ],
      "execution_count": 26,
      "outputs": []
    },
    {
      "cell_type": "code",
      "metadata": {
        "id": "7bmO-Bp8YEE5",
        "outputId": "d0562380-af2b-45a6-e8bc-7d512d2f6cf1",
        "colab": {
          "base_uri": "https://localhost:8080/",
          "height": 195
        }
      },
      "source": [
        "# Print the number of values per column afterwards\n",
        "coviddata.count()"
      ],
      "execution_count": 27,
      "outputs": [
        {
          "output_type": "execute_result",
          "data": {
            "text/plain": [
              "dateRep                                48879\n",
              "day                                    48879\n",
              "month                                  48879\n",
              "year                                   48879\n",
              "cases                                  48879\n",
              "deaths                                 48879\n",
              "country                                48879\n",
              "countryterritoryCode                   48879\n",
              "popData2019                            48879\n",
              "continentExp                           48879\n",
              "cum_number_14_days_cases_per_100000    48879\n",
              "dtype: int64"
            ]
          },
          "metadata": {},
          "execution_count": 27
        }
      ]
    },
    {
      "cell_type": "code",
      "metadata": {
        "id": "gIofppAIWaUF",
        "outputId": "a74a2340-3711-4a57-a00f-4f78dccfd3d5",
        "colab": {
          "base_uri": "https://localhost:8080/",
          "height": 411
        }
      },
      "source": [
        "# You can use the .loc operator to access a group of rows and columns by label(s)\n",
        "coviddata.loc[coviddata['country'] == 'Belgium',['dateRep','cases']]"
      ],
      "execution_count": 39,
      "outputs": [
        {
          "output_type": "execute_result",
          "data": {
            "text/html": [
              "<div>\n",
              "<style scoped>\n",
              "    .dataframe tbody tr th:only-of-type {\n",
              "        vertical-align: middle;\n",
              "    }\n",
              "\n",
              "    .dataframe tbody tr th {\n",
              "        vertical-align: top;\n",
              "    }\n",
              "\n",
              "    .dataframe thead th {\n",
              "        text-align: right;\n",
              "    }\n",
              "</style>\n",
              "<table border=\"1\" class=\"dataframe\">\n",
              "  <thead>\n",
              "    <tr style=\"text-align: right;\">\n",
              "      <th></th>\n",
              "      <th>dateRep</th>\n",
              "      <th>cases</th>\n",
              "    </tr>\n",
              "  </thead>\n",
              "  <tbody>\n",
              "    <tr>\n",
              "      <th>4623</th>\n",
              "      <td>2020-10-27</td>\n",
              "      <td>8</td>\n",
              "    </tr>\n",
              "    <tr>\n",
              "      <th>4624</th>\n",
              "      <td>2020-10-26</td>\n",
              "      <td>1485</td>\n",
              "    </tr>\n",
              "    <tr>\n",
              "      <th>4625</th>\n",
              "      <td>2020-10-25</td>\n",
              "      <td>7187</td>\n",
              "    </tr>\n",
              "    <tr>\n",
              "      <th>4626</th>\n",
              "      <td>2020-10-24</td>\n",
              "      <td>14560</td>\n",
              "    </tr>\n",
              "    <tr>\n",
              "      <th>4627</th>\n",
              "      <td>2020-10-23</td>\n",
              "      <td>15085</td>\n",
              "    </tr>\n",
              "    <tr>\n",
              "      <th>...</th>\n",
              "      <td>...</td>\n",
              "      <td>...</td>\n",
              "    </tr>\n",
              "    <tr>\n",
              "      <th>4907</th>\n",
              "      <td>2020-01-17</td>\n",
              "      <td>0</td>\n",
              "    </tr>\n",
              "    <tr>\n",
              "      <th>4908</th>\n",
              "      <td>2020-01-16</td>\n",
              "      <td>0</td>\n",
              "    </tr>\n",
              "    <tr>\n",
              "      <th>4909</th>\n",
              "      <td>2020-01-15</td>\n",
              "      <td>0</td>\n",
              "    </tr>\n",
              "    <tr>\n",
              "      <th>4910</th>\n",
              "      <td>2020-01-14</td>\n",
              "      <td>0</td>\n",
              "    </tr>\n",
              "    <tr>\n",
              "      <th>4911</th>\n",
              "      <td>2020-01-13</td>\n",
              "      <td>0</td>\n",
              "    </tr>\n",
              "  </tbody>\n",
              "</table>\n",
              "<p>289 rows × 2 columns</p>\n",
              "</div>"
            ],
            "text/plain": [
              "        dateRep  cases\n",
              "4623 2020-10-27      8\n",
              "4624 2020-10-26   1485\n",
              "4625 2020-10-25   7187\n",
              "4626 2020-10-24  14560\n",
              "4627 2020-10-23  15085\n",
              "...         ...    ...\n",
              "4907 2020-01-17      0\n",
              "4908 2020-01-16      0\n",
              "4909 2020-01-15      0\n",
              "4910 2020-01-14      0\n",
              "4911 2020-01-13      0\n",
              "\n",
              "[289 rows x 2 columns]"
            ]
          },
          "metadata": {
            "tags": []
          },
          "execution_count": 39
        }
      ]
    },
    {
      "cell_type": "code",
      "metadata": {
        "id": "VJNSwbSRZZBx",
        "outputId": "a406b254-c99f-40d9-f043-41e7f5424dbe",
        "colab": {
          "base_uri": "https://localhost:8080/",
          "height": 411
        }
      },
      "source": [
        "# You can use the .loc operator to access a group of rows and columns by label(s)\n",
        "coviddata.loc[:,['dateRep','country','cases']]"
      ],
      "execution_count": 28,
      "outputs": [
        {
          "output_type": "execute_result",
          "data": {
            "text/plain": [
              "         dateRep      country  cases\n",
              "0     2020-10-27  Afghanistan    199\n",
              "1     2020-10-26  Afghanistan     65\n",
              "2     2020-10-25  Afghanistan     81\n",
              "3     2020-10-24  Afghanistan     61\n",
              "4     2020-10-23  Afghanistan    116\n",
              "...          ...          ...    ...\n",
              "51665 2020-04-07     Zimbabwe      0\n",
              "51666 2020-04-06     Zimbabwe      0\n",
              "51667 2020-04-05     Zimbabwe      0\n",
              "51668 2020-04-04     Zimbabwe      1\n",
              "51669 2020-04-03     Zimbabwe      0\n",
              "\n",
              "[48879 rows x 3 columns]"
            ],
            "text/html": "<div>\n<style scoped>\n    .dataframe tbody tr th:only-of-type {\n        vertical-align: middle;\n    }\n\n    .dataframe tbody tr th {\n        vertical-align: top;\n    }\n\n    .dataframe thead th {\n        text-align: right;\n    }\n</style>\n<table border=\"1\" class=\"dataframe\">\n  <thead>\n    <tr style=\"text-align: right;\">\n      <th></th>\n      <th>dateRep</th>\n      <th>country</th>\n      <th>cases</th>\n    </tr>\n  </thead>\n  <tbody>\n    <tr>\n      <th>0</th>\n      <td>2020-10-27</td>\n      <td>Afghanistan</td>\n      <td>199</td>\n    </tr>\n    <tr>\n      <th>1</th>\n      <td>2020-10-26</td>\n      <td>Afghanistan</td>\n      <td>65</td>\n    </tr>\n    <tr>\n      <th>2</th>\n      <td>2020-10-25</td>\n      <td>Afghanistan</td>\n      <td>81</td>\n    </tr>\n    <tr>\n      <th>3</th>\n      <td>2020-10-24</td>\n      <td>Afghanistan</td>\n      <td>61</td>\n    </tr>\n    <tr>\n      <th>4</th>\n      <td>2020-10-23</td>\n      <td>Afghanistan</td>\n      <td>116</td>\n    </tr>\n    <tr>\n      <th>...</th>\n      <td>...</td>\n      <td>...</td>\n      <td>...</td>\n    </tr>\n    <tr>\n      <th>51665</th>\n      <td>2020-04-07</td>\n      <td>Zimbabwe</td>\n      <td>0</td>\n    </tr>\n    <tr>\n      <th>51666</th>\n      <td>2020-04-06</td>\n      <td>Zimbabwe</td>\n      <td>0</td>\n    </tr>\n    <tr>\n      <th>51667</th>\n      <td>2020-04-05</td>\n      <td>Zimbabwe</td>\n      <td>0</td>\n    </tr>\n    <tr>\n      <th>51668</th>\n      <td>2020-04-04</td>\n      <td>Zimbabwe</td>\n      <td>1</td>\n    </tr>\n    <tr>\n      <th>51669</th>\n      <td>2020-04-03</td>\n      <td>Zimbabwe</td>\n      <td>0</td>\n    </tr>\n  </tbody>\n</table>\n<p>48879 rows × 3 columns</p>\n</div>"
          },
          "metadata": {},
          "execution_count": 28
        }
      ]
    },
    {
      "cell_type": "code",
      "metadata": {
        "id": "NkkXGAXyy2cD",
        "outputId": "b23ce5a9-0f04-4a08-bb73-48eccb051664",
        "colab": {
          "base_uri": "https://localhost:8080/",
          "height": 70
        }
      },
      "source": [
        "# What were the values reported yesterday and the day beforeyesterday in Europe?\n",
        "# First calculate the date of today and yesterday and daybeforeyesterday\n",
        "\n",
        "from datetime import date, timedelta\n",
        "today = date.today()\n",
        "yesterday = today - timedelta(days = 1)\n",
        "daybeforeyesterday = today - timedelta(days = 2)\n",
        "\n",
        "print(today)\n",
        "print(yesterday)\n",
        "print(daybeforeyesterday)\n"
      ],
      "execution_count": 29,
      "outputs": [
        {
          "output_type": "stream",
          "name": "stdout",
          "text": [
            "2020-10-28\n2020-10-27\n2020-10-26\n"
          ]
        }
      ]
    },
    {
      "cell_type": "code",
      "metadata": {
        "id": "BzO5SiZkeCa7"
      },
      "source": [
        "# Exercise: # What were the values reported today, yesterday and the day beforeyesterday in Europe?\n"
      ],
      "execution_count": 34,
      "outputs": []
    },
    {
      "cell_type": "code",
      "metadata": {
        "id": "Q7wqdiecv2TF"
      },
      "source": [
        "# Because the values of the last 3 days are probably not completely correct, we are going to remove the last 3 days\n",
        "coviddata = coviddata[~(coviddata['dateRep'].isin([today, yesterday, daybeforeyesterday]))]"
      ],
      "execution_count": 35,
      "outputs": []
    },
    {
      "source": [
        "#### Aggregation in Pandas"
      ],
      "cell_type": "markdown",
      "metadata": {
        "id": "GbpfJFzBesQE"
      }
    },
    {
      "cell_type": "code",
      "metadata": {
        "id": "pYwHZQtBe2nK",
        "outputId": "3d3eddbe-d941-4366-f741-3a7dc235cbb9",
        "colab": {
          "base_uri": "https://localhost:8080/",
          "height": 248
        }
      },
      "source": [
        "# What is the largest number of new cases in 1 day for each country?\n",
        "# Maximum value of cases per country\n",
        "coviddata.groupby('country')['cases'].max()"
      ],
      "execution_count": 36,
      "outputs": [
        {
          "output_type": "execute_result",
          "data": {
            "text/plain": [
              "country\n",
              "Afghanistan       1063\n",
              "Albania            306\n",
              "Algeria            675\n",
              "Andorra            299\n",
              "Angola             355\n",
              "                  ... \n",
              "Vietnam             50\n",
              "Western_Sahara     242\n",
              "Yemen              116\n",
              "Zambia             527\n",
              "Zimbabwe           490\n",
              "Name: cases, Length: 209, dtype: int64"
            ]
          },
          "metadata": {},
          "execution_count": 36
        }
      ]
    },
    {
      "cell_type": "code",
      "metadata": {
        "id": "bFegIxiRg2K4",
        "outputId": "a1c49981-4379-48f8-8596-f6599037d63d",
        "colab": {
          "base_uri": "https://localhost:8080/",
          "height": 248
        }
      },
      "source": [
        "# Which country has the largest number of new cases in 1 day?\n",
        "# Maximum value of cases per country, sorting = descending\n",
        "coviddata.groupby('country')['cases'].max().sort_values(ascending=False)"
      ],
      "execution_count": 37,
      "outputs": [
        {
          "output_type": "execute_result",
          "data": {
            "text/plain": [
              "country\n",
              "India                          97894\n",
              "United_States_of_America       85329\n",
              "Brazil                         69074\n",
              "France                         45422\n",
              "Spain                          37889\n",
              "                               ...  \n",
              "Grenada                            3\n",
              "Saint_Kitts_and_Nevis              2\n",
              "Falkland_Islands_(Malvinas)        1\n",
              "Greenland                          1\n",
              "Anguilla                           0\n",
              "Name: cases, Length: 209, dtype: int64"
            ]
          },
          "metadata": {},
          "execution_count": 37
        }
      ]
    },
    {
      "cell_type": "code",
      "metadata": {
        "id": "XrAU5PB-vkao",
        "outputId": "7ecf910e-31b6-4991-b580-b8e352003d47",
        "colab": {
          "base_uri": "https://localhost:8080/",
          "height": 441
        }
      },
      "source": [
        "##############################\n",
        "# What is the dateRep of the largest number of new cases in 1 day?\n",
        "coviddata.groupby(['country']).agg({'cases': \"max\", 'dateRep': \"max\"}).sort_values(by='cases', ascending=False)"
      ],
      "execution_count": 45,
      "outputs": [
        {
          "output_type": "execute_result",
          "data": {
            "text/html": [
              "<div>\n",
              "<style scoped>\n",
              "    .dataframe tbody tr th:only-of-type {\n",
              "        vertical-align: middle;\n",
              "    }\n",
              "\n",
              "    .dataframe tbody tr th {\n",
              "        vertical-align: top;\n",
              "    }\n",
              "\n",
              "    .dataframe thead th {\n",
              "        text-align: right;\n",
              "    }\n",
              "</style>\n",
              "<table border=\"1\" class=\"dataframe\">\n",
              "  <thead>\n",
              "    <tr style=\"text-align: right;\">\n",
              "      <th></th>\n",
              "      <th>cases</th>\n",
              "      <th>dateRep</th>\n",
              "    </tr>\n",
              "    <tr>\n",
              "      <th>country</th>\n",
              "      <th></th>\n",
              "      <th></th>\n",
              "    </tr>\n",
              "  </thead>\n",
              "  <tbody>\n",
              "    <tr>\n",
              "      <th>India</th>\n",
              "      <td>97894</td>\n",
              "      <td>2020-10-24</td>\n",
              "    </tr>\n",
              "    <tr>\n",
              "      <th>United_States_of_America</th>\n",
              "      <td>85329</td>\n",
              "      <td>2020-10-24</td>\n",
              "    </tr>\n",
              "    <tr>\n",
              "      <th>Brazil</th>\n",
              "      <td>69074</td>\n",
              "      <td>2020-10-24</td>\n",
              "    </tr>\n",
              "    <tr>\n",
              "      <th>France</th>\n",
              "      <td>42032</td>\n",
              "      <td>2020-10-24</td>\n",
              "    </tr>\n",
              "    <tr>\n",
              "      <th>Spain</th>\n",
              "      <td>37889</td>\n",
              "      <td>2020-10-24</td>\n",
              "    </tr>\n",
              "    <tr>\n",
              "      <th>...</th>\n",
              "      <td>...</td>\n",
              "      <td>...</td>\n",
              "    </tr>\n",
              "    <tr>\n",
              "      <th>Laos</th>\n",
              "      <td>3</td>\n",
              "      <td>2020-10-24</td>\n",
              "    </tr>\n",
              "    <tr>\n",
              "      <th>Saint_Kitts_and_Nevis</th>\n",
              "      <td>2</td>\n",
              "      <td>2020-10-24</td>\n",
              "    </tr>\n",
              "    <tr>\n",
              "      <th>Falkland_Islands_(Malvinas)</th>\n",
              "      <td>1</td>\n",
              "      <td>2020-10-24</td>\n",
              "    </tr>\n",
              "    <tr>\n",
              "      <th>Greenland</th>\n",
              "      <td>1</td>\n",
              "      <td>2020-10-24</td>\n",
              "    </tr>\n",
              "    <tr>\n",
              "      <th>Anguilla</th>\n",
              "      <td>0</td>\n",
              "      <td>2020-10-24</td>\n",
              "    </tr>\n",
              "  </tbody>\n",
              "</table>\n",
              "<p>209 rows × 2 columns</p>\n",
              "</div>"
            ],
            "text/plain": [
              "                             cases    dateRep\n",
              "country                                      \n",
              "India                        97894 2020-10-24\n",
              "United_States_of_America     85329 2020-10-24\n",
              "Brazil                       69074 2020-10-24\n",
              "France                       42032 2020-10-24\n",
              "Spain                        37889 2020-10-24\n",
              "...                            ...        ...\n",
              "Laos                             3 2020-10-24\n",
              "Saint_Kitts_and_Nevis            2 2020-10-24\n",
              "Falkland_Islands_(Malvinas)      1 2020-10-24\n",
              "Greenland                        1 2020-10-24\n",
              "Anguilla                         0 2020-10-24\n",
              "\n",
              "[209 rows x 2 columns]"
            ]
          },
          "metadata": {
            "tags": []
          },
          "execution_count": 45
        }
      ]
    },
    {
      "cell_type": "code",
      "metadata": {
        "id": "I3ZqrdeJv7Zb",
        "outputId": "a498e2b3-85d3-46c2-de71-22be520cfbf1",
        "colab": {
          "base_uri": "https://localhost:8080/",
          "height": 411
        }
      },
      "source": [
        "# What is the dateRep of the largest number of new cases in 1 day? Nicely formatted\n",
        "coviddata.groupby(['country']).agg({'cases': \"max\", 'dateRep': \"max\"}).sort_values(by='cases', ascending=False).reset_index()"
      ],
      "execution_count": 46,
      "outputs": [
        {
          "output_type": "execute_result",
          "data": {
            "text/html": [
              "<div>\n",
              "<style scoped>\n",
              "    .dataframe tbody tr th:only-of-type {\n",
              "        vertical-align: middle;\n",
              "    }\n",
              "\n",
              "    .dataframe tbody tr th {\n",
              "        vertical-align: top;\n",
              "    }\n",
              "\n",
              "    .dataframe thead th {\n",
              "        text-align: right;\n",
              "    }\n",
              "</style>\n",
              "<table border=\"1\" class=\"dataframe\">\n",
              "  <thead>\n",
              "    <tr style=\"text-align: right;\">\n",
              "      <th></th>\n",
              "      <th>country</th>\n",
              "      <th>cases</th>\n",
              "      <th>dateRep</th>\n",
              "    </tr>\n",
              "  </thead>\n",
              "  <tbody>\n",
              "    <tr>\n",
              "      <th>0</th>\n",
              "      <td>India</td>\n",
              "      <td>97894</td>\n",
              "      <td>2020-10-24</td>\n",
              "    </tr>\n",
              "    <tr>\n",
              "      <th>1</th>\n",
              "      <td>United_States_of_America</td>\n",
              "      <td>85329</td>\n",
              "      <td>2020-10-24</td>\n",
              "    </tr>\n",
              "    <tr>\n",
              "      <th>2</th>\n",
              "      <td>Brazil</td>\n",
              "      <td>69074</td>\n",
              "      <td>2020-10-24</td>\n",
              "    </tr>\n",
              "    <tr>\n",
              "      <th>3</th>\n",
              "      <td>France</td>\n",
              "      <td>42032</td>\n",
              "      <td>2020-10-24</td>\n",
              "    </tr>\n",
              "    <tr>\n",
              "      <th>4</th>\n",
              "      <td>Spain</td>\n",
              "      <td>37889</td>\n",
              "      <td>2020-10-24</td>\n",
              "    </tr>\n",
              "    <tr>\n",
              "      <th>...</th>\n",
              "      <td>...</td>\n",
              "      <td>...</td>\n",
              "      <td>...</td>\n",
              "    </tr>\n",
              "    <tr>\n",
              "      <th>204</th>\n",
              "      <td>Laos</td>\n",
              "      <td>3</td>\n",
              "      <td>2020-10-24</td>\n",
              "    </tr>\n",
              "    <tr>\n",
              "      <th>205</th>\n",
              "      <td>Saint_Kitts_and_Nevis</td>\n",
              "      <td>2</td>\n",
              "      <td>2020-10-24</td>\n",
              "    </tr>\n",
              "    <tr>\n",
              "      <th>206</th>\n",
              "      <td>Falkland_Islands_(Malvinas)</td>\n",
              "      <td>1</td>\n",
              "      <td>2020-10-24</td>\n",
              "    </tr>\n",
              "    <tr>\n",
              "      <th>207</th>\n",
              "      <td>Greenland</td>\n",
              "      <td>1</td>\n",
              "      <td>2020-10-24</td>\n",
              "    </tr>\n",
              "    <tr>\n",
              "      <th>208</th>\n",
              "      <td>Anguilla</td>\n",
              "      <td>0</td>\n",
              "      <td>2020-10-24</td>\n",
              "    </tr>\n",
              "  </tbody>\n",
              "</table>\n",
              "<p>209 rows × 3 columns</p>\n",
              "</div>"
            ],
            "text/plain": [
              "                         country  cases    dateRep\n",
              "0                          India  97894 2020-10-24\n",
              "1       United_States_of_America  85329 2020-10-24\n",
              "2                         Brazil  69074 2020-10-24\n",
              "3                         France  42032 2020-10-24\n",
              "4                          Spain  37889 2020-10-24\n",
              "..                           ...    ...        ...\n",
              "204                         Laos      3 2020-10-24\n",
              "205        Saint_Kitts_and_Nevis      2 2020-10-24\n",
              "206  Falkland_Islands_(Malvinas)      1 2020-10-24\n",
              "207                    Greenland      1 2020-10-24\n",
              "208                     Anguilla      0 2020-10-24\n",
              "\n",
              "[209 rows x 3 columns]"
            ]
          },
          "metadata": {
            "tags": []
          },
          "execution_count": 46
        }
      ]
    },
    {
      "cell_type": "code",
      "metadata": {
        "id": "Bp7eTOsnhF_s",
        "outputId": "b07c03ca-3877-4c06-a035-af7dd2f49cbc",
        "colab": {
          "base_uri": "https://localhost:8080/",
          "height": 441
        }
      },
      "source": [
        "# What is the largest and the total number of new cases for each country?\n",
        "# Maximum value and sum of values of cases per country\n",
        "coviddata.groupby('country')['cases'].agg(['max','sum']).sort_values(by='sum',ascending=False)"
      ],
      "execution_count": 38,
      "outputs": [
        {
          "output_type": "execute_result",
          "data": {
            "text/plain": [
              "                               max      sum\n",
              "country                                    \n",
              "United_States_of_America     85329  8576725\n",
              "India                        97894  7864811\n",
              "Brazil                       69074  5380635\n",
              "Russia                       17340  1497167\n",
              "France                       45422  1086497\n",
              "...                            ...      ...\n",
              "Saint_Kitts_and_Nevis            2        8\n",
              "Montserrat                       3        8\n",
              "Greenland                        1        7\n",
              "Falkland_Islands_(Malvinas)      1        2\n",
              "Anguilla                         0        0\n",
              "\n",
              "[209 rows x 2 columns]"
            ],
            "text/html": "<div>\n<style scoped>\n    .dataframe tbody tr th:only-of-type {\n        vertical-align: middle;\n    }\n\n    .dataframe tbody tr th {\n        vertical-align: top;\n    }\n\n    .dataframe thead th {\n        text-align: right;\n    }\n</style>\n<table border=\"1\" class=\"dataframe\">\n  <thead>\n    <tr style=\"text-align: right;\">\n      <th></th>\n      <th>max</th>\n      <th>sum</th>\n    </tr>\n    <tr>\n      <th>country</th>\n      <th></th>\n      <th></th>\n    </tr>\n  </thead>\n  <tbody>\n    <tr>\n      <th>United_States_of_America</th>\n      <td>85329</td>\n      <td>8576725</td>\n    </tr>\n    <tr>\n      <th>India</th>\n      <td>97894</td>\n      <td>7864811</td>\n    </tr>\n    <tr>\n      <th>Brazil</th>\n      <td>69074</td>\n      <td>5380635</td>\n    </tr>\n    <tr>\n      <th>Russia</th>\n      <td>17340</td>\n      <td>1497167</td>\n    </tr>\n    <tr>\n      <th>France</th>\n      <td>45422</td>\n      <td>1086497</td>\n    </tr>\n    <tr>\n      <th>...</th>\n      <td>...</td>\n      <td>...</td>\n    </tr>\n    <tr>\n      <th>Saint_Kitts_and_Nevis</th>\n      <td>2</td>\n      <td>8</td>\n    </tr>\n    <tr>\n      <th>Montserrat</th>\n      <td>3</td>\n      <td>8</td>\n    </tr>\n    <tr>\n      <th>Greenland</th>\n      <td>1</td>\n      <td>7</td>\n    </tr>\n    <tr>\n      <th>Falkland_Islands_(Malvinas)</th>\n      <td>1</td>\n      <td>2</td>\n    </tr>\n    <tr>\n      <th>Anguilla</th>\n      <td>0</td>\n      <td>0</td>\n    </tr>\n  </tbody>\n</table>\n<p>209 rows × 2 columns</p>\n</div>"
          },
          "metadata": {},
          "execution_count": 38
        }
      ]
    },
    {
      "cell_type": "code",
      "metadata": {
        "id": "-QMdNc_chGKw",
        "outputId": "a56bbb15-f718-4e7d-914f-42714bd2a287",
        "colab": {
          "base_uri": "https://localhost:8080/",
          "height": 441
        }
      },
      "source": [
        "# What is the largest and the total number of new cases for each country? The columns are renamed\n",
        "# Maximum value and sum of values of cases per country + renaming the columns\n",
        "coviddata.groupby('country')['cases'].agg(['max','sum']).rename(columns={'max':'maximum_value', 'sum': 'total_number'}).sort_values(by='total_number',ascending=False)\n",
        "\n",
        "# coviddata.groupby('country')['cases'].agg(['max','sum']).rename(columns={'max':'maximum_value', 'sum': 'total_number'}).sort_values(by=['maximum_value','total_number'],ascending=[False,True])"
      ],
      "execution_count": 39,
      "outputs": [
        {
          "output_type": "execute_result",
          "data": {
            "text/plain": [
              "                             maximum_value  total_number\n",
              "country                                                 \n",
              "United_States_of_America             85329       8576725\n",
              "India                                97894       7864811\n",
              "Brazil                               69074       5380635\n",
              "Russia                               17340       1497167\n",
              "France                               45422       1086497\n",
              "...                                    ...           ...\n",
              "Saint_Kitts_and_Nevis                    2             8\n",
              "Montserrat                               3             8\n",
              "Greenland                                1             7\n",
              "Falkland_Islands_(Malvinas)              1             2\n",
              "Anguilla                                 0             0\n",
              "\n",
              "[209 rows x 2 columns]"
            ],
            "text/html": "<div>\n<style scoped>\n    .dataframe tbody tr th:only-of-type {\n        vertical-align: middle;\n    }\n\n    .dataframe tbody tr th {\n        vertical-align: top;\n    }\n\n    .dataframe thead th {\n        text-align: right;\n    }\n</style>\n<table border=\"1\" class=\"dataframe\">\n  <thead>\n    <tr style=\"text-align: right;\">\n      <th></th>\n      <th>maximum_value</th>\n      <th>total_number</th>\n    </tr>\n    <tr>\n      <th>country</th>\n      <th></th>\n      <th></th>\n    </tr>\n  </thead>\n  <tbody>\n    <tr>\n      <th>United_States_of_America</th>\n      <td>85329</td>\n      <td>8576725</td>\n    </tr>\n    <tr>\n      <th>India</th>\n      <td>97894</td>\n      <td>7864811</td>\n    </tr>\n    <tr>\n      <th>Brazil</th>\n      <td>69074</td>\n      <td>5380635</td>\n    </tr>\n    <tr>\n      <th>Russia</th>\n      <td>17340</td>\n      <td>1497167</td>\n    </tr>\n    <tr>\n      <th>France</th>\n      <td>45422</td>\n      <td>1086497</td>\n    </tr>\n    <tr>\n      <th>...</th>\n      <td>...</td>\n      <td>...</td>\n    </tr>\n    <tr>\n      <th>Saint_Kitts_and_Nevis</th>\n      <td>2</td>\n      <td>8</td>\n    </tr>\n    <tr>\n      <th>Montserrat</th>\n      <td>3</td>\n      <td>8</td>\n    </tr>\n    <tr>\n      <th>Greenland</th>\n      <td>1</td>\n      <td>7</td>\n    </tr>\n    <tr>\n      <th>Falkland_Islands_(Malvinas)</th>\n      <td>1</td>\n      <td>2</td>\n    </tr>\n    <tr>\n      <th>Anguilla</th>\n      <td>0</td>\n      <td>0</td>\n    </tr>\n  </tbody>\n</table>\n<p>209 rows × 2 columns</p>\n</div>"
          },
          "metadata": {},
          "execution_count": 39
        }
      ]
    },
    {
      "cell_type": "code",
      "metadata": {
        "id": "V3naJLBOhGPT",
        "outputId": "4f6c28af-9c4f-472e-9a2a-3412917cb936",
        "colab": {
          "base_uri": "https://localhost:8080/",
          "height": 248
        }
      },
      "source": [
        "# What is the total number of cases for each continent and each country?\n",
        "coviddata.groupby(['continentExp', 'country'])['cases'].sum()"
      ],
      "execution_count": 40,
      "outputs": [
        {
          "output_type": "execute_result",
          "data": {
            "text/plain": [
              "continentExp  country                 \n",
              "Africa        Algeria                     55880\n",
              "              Angola                       8821\n",
              "              Benin                        2551\n",
              "              Botswana                     5910\n",
              "              Burkina_Faso                 2345\n",
              "                                          ...  \n",
              "Oceania       Guam                         4156\n",
              "              New_Caledonia                  11\n",
              "              New_Zealand                  1579\n",
              "              Northern_Mariana_Islands       77\n",
              "              Papua_New_Guinea              582\n",
              "Name: cases, Length: 209, dtype: int64"
            ]
          },
          "metadata": {},
          "execution_count": 40
        }
      ]
    },
    {
      "cell_type": "code",
      "metadata": {
        "id": "P8xSKvg8hGYC",
        "outputId": "6390a3c5-565c-4240-984a-6559ed70c85f",
        "colab": {
          "base_uri": "https://localhost:8080/",
          "height": 411
        }
      },
      "source": [
        "# What is the total number of cases for each continent and each country? Nicely formatted\n",
        "coviddata.groupby(['continentExp', 'country'])['cases'].sum().reset_index()"
      ],
      "execution_count": 41,
      "outputs": [
        {
          "output_type": "execute_result",
          "data": {
            "text/plain": [
              "    continentExp                   country  cases\n",
              "0         Africa                   Algeria  55880\n",
              "1         Africa                    Angola   8821\n",
              "2         Africa                     Benin   2551\n",
              "3         Africa                  Botswana   5910\n",
              "4         Africa              Burkina_Faso   2345\n",
              "..           ...                       ...    ...\n",
              "204      Oceania                      Guam   4156\n",
              "205      Oceania             New_Caledonia     11\n",
              "206      Oceania               New_Zealand   1579\n",
              "207      Oceania  Northern_Mariana_Islands     77\n",
              "208      Oceania          Papua_New_Guinea    582\n",
              "\n",
              "[209 rows x 3 columns]"
            ],
            "text/html": "<div>\n<style scoped>\n    .dataframe tbody tr th:only-of-type {\n        vertical-align: middle;\n    }\n\n    .dataframe tbody tr th {\n        vertical-align: top;\n    }\n\n    .dataframe thead th {\n        text-align: right;\n    }\n</style>\n<table border=\"1\" class=\"dataframe\">\n  <thead>\n    <tr style=\"text-align: right;\">\n      <th></th>\n      <th>continentExp</th>\n      <th>country</th>\n      <th>cases</th>\n    </tr>\n  </thead>\n  <tbody>\n    <tr>\n      <th>0</th>\n      <td>Africa</td>\n      <td>Algeria</td>\n      <td>55880</td>\n    </tr>\n    <tr>\n      <th>1</th>\n      <td>Africa</td>\n      <td>Angola</td>\n      <td>8821</td>\n    </tr>\n    <tr>\n      <th>2</th>\n      <td>Africa</td>\n      <td>Benin</td>\n      <td>2551</td>\n    </tr>\n    <tr>\n      <th>3</th>\n      <td>Africa</td>\n      <td>Botswana</td>\n      <td>5910</td>\n    </tr>\n    <tr>\n      <th>4</th>\n      <td>Africa</td>\n      <td>Burkina_Faso</td>\n      <td>2345</td>\n    </tr>\n    <tr>\n      <th>...</th>\n      <td>...</td>\n      <td>...</td>\n      <td>...</td>\n    </tr>\n    <tr>\n      <th>204</th>\n      <td>Oceania</td>\n      <td>Guam</td>\n      <td>4156</td>\n    </tr>\n    <tr>\n      <th>205</th>\n      <td>Oceania</td>\n      <td>New_Caledonia</td>\n      <td>11</td>\n    </tr>\n    <tr>\n      <th>206</th>\n      <td>Oceania</td>\n      <td>New_Zealand</td>\n      <td>1579</td>\n    </tr>\n    <tr>\n      <th>207</th>\n      <td>Oceania</td>\n      <td>Northern_Mariana_Islands</td>\n      <td>77</td>\n    </tr>\n    <tr>\n      <th>208</th>\n      <td>Oceania</td>\n      <td>Papua_New_Guinea</td>\n      <td>582</td>\n    </tr>\n  </tbody>\n</table>\n<p>209 rows × 3 columns</p>\n</div>"
          },
          "metadata": {},
          "execution_count": 41
        }
      ]
    },
    {
      "cell_type": "code",
      "metadata": {
        "id": "Z7clPbnpGj1Q",
        "outputId": "041ab60a-ab09-4b5e-fc08-67b63f216b3d",
        "colab": {
          "base_uri": "https://localhost:8080/",
          "height": 504
        }
      },
      "source": [
        "# Exercise: What is the top 15 of countries with most Corona deaths in absolute numbers\n",
        "\n"
      ],
      "execution_count": 51,
      "outputs": [
        {
          "output_type": "execute_result",
          "data": {
            "text/html": [
              "<div>\n",
              "<style scoped>\n",
              "    .dataframe tbody tr th:only-of-type {\n",
              "        vertical-align: middle;\n",
              "    }\n",
              "\n",
              "    .dataframe tbody tr th {\n",
              "        vertical-align: top;\n",
              "    }\n",
              "\n",
              "    .dataframe thead th {\n",
              "        text-align: right;\n",
              "    }\n",
              "</style>\n",
              "<table border=\"1\" class=\"dataframe\">\n",
              "  <thead>\n",
              "    <tr style=\"text-align: right;\">\n",
              "      <th></th>\n",
              "      <th>country</th>\n",
              "      <th>deaths</th>\n",
              "    </tr>\n",
              "  </thead>\n",
              "  <tbody>\n",
              "    <tr>\n",
              "      <th>0</th>\n",
              "      <td>United_States_of_America</td>\n",
              "      <td>223995</td>\n",
              "    </tr>\n",
              "    <tr>\n",
              "      <th>1</th>\n",
              "      <td>Brazil</td>\n",
              "      <td>156471</td>\n",
              "    </tr>\n",
              "    <tr>\n",
              "      <th>2</th>\n",
              "      <td>India</td>\n",
              "      <td>117956</td>\n",
              "    </tr>\n",
              "    <tr>\n",
              "      <th>3</th>\n",
              "      <td>Mexico</td>\n",
              "      <td>88312</td>\n",
              "    </tr>\n",
              "    <tr>\n",
              "      <th>4</th>\n",
              "      <td>United_Kingdom</td>\n",
              "      <td>44571</td>\n",
              "    </tr>\n",
              "    <tr>\n",
              "      <th>5</th>\n",
              "      <td>Italy</td>\n",
              "      <td>37059</td>\n",
              "    </tr>\n",
              "    <tr>\n",
              "      <th>6</th>\n",
              "      <td>Spain</td>\n",
              "      <td>34752</td>\n",
              "    </tr>\n",
              "    <tr>\n",
              "      <th>7</th>\n",
              "      <td>France</td>\n",
              "      <td>34508</td>\n",
              "    </tr>\n",
              "    <tr>\n",
              "      <th>8</th>\n",
              "      <td>Peru</td>\n",
              "      <td>34031</td>\n",
              "    </tr>\n",
              "    <tr>\n",
              "      <th>9</th>\n",
              "      <td>Iran</td>\n",
              "      <td>31985</td>\n",
              "    </tr>\n",
              "    <tr>\n",
              "      <th>10</th>\n",
              "      <td>Colombia</td>\n",
              "      <td>29800</td>\n",
              "    </tr>\n",
              "    <tr>\n",
              "      <th>11</th>\n",
              "      <td>Argentina</td>\n",
              "      <td>28336</td>\n",
              "    </tr>\n",
              "    <tr>\n",
              "      <th>12</th>\n",
              "      <td>Russia</td>\n",
              "      <td>25525</td>\n",
              "    </tr>\n",
              "    <tr>\n",
              "      <th>13</th>\n",
              "      <td>South_Africa</td>\n",
              "      <td>18891</td>\n",
              "    </tr>\n",
              "    <tr>\n",
              "      <th>14</th>\n",
              "      <td>Chile</td>\n",
              "      <td>13844</td>\n",
              "    </tr>\n",
              "  </tbody>\n",
              "</table>\n",
              "</div>"
            ],
            "text/plain": [
              "                     country  deaths\n",
              "0   United_States_of_America  223995\n",
              "1                     Brazil  156471\n",
              "2                      India  117956\n",
              "3                     Mexico   88312\n",
              "4             United_Kingdom   44571\n",
              "5                      Italy   37059\n",
              "6                      Spain   34752\n",
              "7                     France   34508\n",
              "8                       Peru   34031\n",
              "9                       Iran   31985\n",
              "10                  Colombia   29800\n",
              "11                 Argentina   28336\n",
              "12                    Russia   25525\n",
              "13              South_Africa   18891\n",
              "14                     Chile   13844"
            ]
          },
          "metadata": {
            "tags": []
          },
          "execution_count": 51
        }
      ]
    },
    {
      "cell_type": "code",
      "metadata": {
        "id": "bP83Qm8gGsH_",
        "outputId": "9dd641d4-fc59-45b1-8ff2-b9dffbea1302",
        "colab": {
          "base_uri": "https://localhost:8080/",
          "height": 504
        }
      },
      "source": [
        "# What is the top 15 of countries with most Corona deaths in relative numbers\n",
        "extra = coviddata.groupby(['country','popData2019'])['deaths'].sum().sort_values(ascending=False).reset_index()\n",
        "extra.head(15)"
      ],
      "execution_count": 42,
      "outputs": [
        {
          "output_type": "execute_result",
          "data": {
            "text/plain": [
              "                     country   popData2019  deaths\n",
              "0   United_States_of_America  3.290649e+08  224899\n",
              "1                     Brazil  2.110495e+08  156903\n",
              "2                      India  1.366418e+09  118534\n",
              "3                     Mexico  1.275755e+08   88743\n",
              "4             United_Kingdom  6.664711e+07   44745\n",
              "5                      Italy  6.035955e+07   37210\n",
              "6                      Spain  4.693706e+07   34752\n",
              "7                     France  6.701288e+07   34645\n",
              "8                       Peru  3.251046e+07   34093\n",
              "9                       Iran  8.291389e+07   32320\n",
              "10                  Colombia  5.033944e+07   29998\n",
              "11                 Argentina  4.478068e+07   28611\n",
              "12                    Russia  1.458723e+08   25821\n",
              "13              South_Africa  5.855827e+07   18944\n",
              "14                     Chile  1.895204e+07   13892"
            ],
            "text/html": "<div>\n<style scoped>\n    .dataframe tbody tr th:only-of-type {\n        vertical-align: middle;\n    }\n\n    .dataframe tbody tr th {\n        vertical-align: top;\n    }\n\n    .dataframe thead th {\n        text-align: right;\n    }\n</style>\n<table border=\"1\" class=\"dataframe\">\n  <thead>\n    <tr style=\"text-align: right;\">\n      <th></th>\n      <th>country</th>\n      <th>popData2019</th>\n      <th>deaths</th>\n    </tr>\n  </thead>\n  <tbody>\n    <tr>\n      <th>0</th>\n      <td>United_States_of_America</td>\n      <td>3.290649e+08</td>\n      <td>224899</td>\n    </tr>\n    <tr>\n      <th>1</th>\n      <td>Brazil</td>\n      <td>2.110495e+08</td>\n      <td>156903</td>\n    </tr>\n    <tr>\n      <th>2</th>\n      <td>India</td>\n      <td>1.366418e+09</td>\n      <td>118534</td>\n    </tr>\n    <tr>\n      <th>3</th>\n      <td>Mexico</td>\n      <td>1.275755e+08</td>\n      <td>88743</td>\n    </tr>\n    <tr>\n      <th>4</th>\n      <td>United_Kingdom</td>\n      <td>6.664711e+07</td>\n      <td>44745</td>\n    </tr>\n    <tr>\n      <th>5</th>\n      <td>Italy</td>\n      <td>6.035955e+07</td>\n      <td>37210</td>\n    </tr>\n    <tr>\n      <th>6</th>\n      <td>Spain</td>\n      <td>4.693706e+07</td>\n      <td>34752</td>\n    </tr>\n    <tr>\n      <th>7</th>\n      <td>France</td>\n      <td>6.701288e+07</td>\n      <td>34645</td>\n    </tr>\n    <tr>\n      <th>8</th>\n      <td>Peru</td>\n      <td>3.251046e+07</td>\n      <td>34093</td>\n    </tr>\n    <tr>\n      <th>9</th>\n      <td>Iran</td>\n      <td>8.291389e+07</td>\n      <td>32320</td>\n    </tr>\n    <tr>\n      <th>10</th>\n      <td>Colombia</td>\n      <td>5.033944e+07</td>\n      <td>29998</td>\n    </tr>\n    <tr>\n      <th>11</th>\n      <td>Argentina</td>\n      <td>4.478068e+07</td>\n      <td>28611</td>\n    </tr>\n    <tr>\n      <th>12</th>\n      <td>Russia</td>\n      <td>1.458723e+08</td>\n      <td>25821</td>\n    </tr>\n    <tr>\n      <th>13</th>\n      <td>South_Africa</td>\n      <td>5.855827e+07</td>\n      <td>18944</td>\n    </tr>\n    <tr>\n      <th>14</th>\n      <td>Chile</td>\n      <td>1.895204e+07</td>\n      <td>13892</td>\n    </tr>\n  </tbody>\n</table>\n</div>"
          },
          "metadata": {},
          "execution_count": 42
        }
      ]
    },
    {
      "cell_type": "code",
      "metadata": {
        "id": "u6LM1LIwHFp_",
        "outputId": "4b5e84bf-782c-4a67-d570-08e9885041cd",
        "colab": {
          "base_uri": "https://localhost:8080/",
          "height": 504
        }
      },
      "source": [
        "extra['rel_nr_of_deaths_per_100000'] = extra['deaths'] * 100000 / extra['popData2019']\n",
        "extra.sort_values(by=['rel_nr_of_deaths_per_100000'], ascending=False).head(15)"
      ],
      "execution_count": 43,
      "outputs": [
        {
          "output_type": "execute_result",
          "data": {
            "text/plain": [
              "                      country  popData2019  deaths  \\\n",
              "149                San_Marino      34453.0      42   \n",
              "8                        Peru   32510462.0   34093   \n",
              "17                    Belgium   11455519.0   10808   \n",
              "134                   Andorra      76177.0      69   \n",
              "22                    Bolivia   11513102.0    8627   \n",
              "1                      Brazil  211049519.0  156903   \n",
              "6                       Spain   46937060.0   34752   \n",
              "14                      Chile   18952035.0   13892   \n",
              "16                    Ecuador   17373657.0   12542   \n",
              "3                      Mexico  127575529.0   88743   \n",
              "0    United_States_of_America  329064917.0  224899   \n",
              "4              United_Kingdom   66647112.0   44745   \n",
              "11                  Argentina   44780675.0   28611   \n",
              "36                     Panama    4246440.0    2625   \n",
              "5                       Italy   60359546.0   37210   \n",
              "\n",
              "     rel_nr_of_deaths_per_100000  \n",
              "149                   121.905204  \n",
              "8                     104.867781  \n",
              "17                     94.347537  \n",
              "134                    90.578521  \n",
              "22                     74.932021  \n",
              "1                      74.344164  \n",
              "6                      74.039576  \n",
              "14                     73.300836  \n",
              "16                     72.189753  \n",
              "3                      69.561146  \n",
              "0                      68.344873  \n",
              "4                      67.137193  \n",
              "11                     63.891400  \n",
              "36                     61.816486  \n",
              "5                      61.647250  "
            ],
            "text/html": "<div>\n<style scoped>\n    .dataframe tbody tr th:only-of-type {\n        vertical-align: middle;\n    }\n\n    .dataframe tbody tr th {\n        vertical-align: top;\n    }\n\n    .dataframe thead th {\n        text-align: right;\n    }\n</style>\n<table border=\"1\" class=\"dataframe\">\n  <thead>\n    <tr style=\"text-align: right;\">\n      <th></th>\n      <th>country</th>\n      <th>popData2019</th>\n      <th>deaths</th>\n      <th>rel_nr_of_deaths_per_100000</th>\n    </tr>\n  </thead>\n  <tbody>\n    <tr>\n      <th>149</th>\n      <td>San_Marino</td>\n      <td>34453.0</td>\n      <td>42</td>\n      <td>121.905204</td>\n    </tr>\n    <tr>\n      <th>8</th>\n      <td>Peru</td>\n      <td>32510462.0</td>\n      <td>34093</td>\n      <td>104.867781</td>\n    </tr>\n    <tr>\n      <th>17</th>\n      <td>Belgium</td>\n      <td>11455519.0</td>\n      <td>10808</td>\n      <td>94.347537</td>\n    </tr>\n    <tr>\n      <th>134</th>\n      <td>Andorra</td>\n      <td>76177.0</td>\n      <td>69</td>\n      <td>90.578521</td>\n    </tr>\n    <tr>\n      <th>22</th>\n      <td>Bolivia</td>\n      <td>11513102.0</td>\n      <td>8627</td>\n      <td>74.932021</td>\n    </tr>\n    <tr>\n      <th>1</th>\n      <td>Brazil</td>\n      <td>211049519.0</td>\n      <td>156903</td>\n      <td>74.344164</td>\n    </tr>\n    <tr>\n      <th>6</th>\n      <td>Spain</td>\n      <td>46937060.0</td>\n      <td>34752</td>\n      <td>74.039576</td>\n    </tr>\n    <tr>\n      <th>14</th>\n      <td>Chile</td>\n      <td>18952035.0</td>\n      <td>13892</td>\n      <td>73.300836</td>\n    </tr>\n    <tr>\n      <th>16</th>\n      <td>Ecuador</td>\n      <td>17373657.0</td>\n      <td>12542</td>\n      <td>72.189753</td>\n    </tr>\n    <tr>\n      <th>3</th>\n      <td>Mexico</td>\n      <td>127575529.0</td>\n      <td>88743</td>\n      <td>69.561146</td>\n    </tr>\n    <tr>\n      <th>0</th>\n      <td>United_States_of_America</td>\n      <td>329064917.0</td>\n      <td>224899</td>\n      <td>68.344873</td>\n    </tr>\n    <tr>\n      <th>4</th>\n      <td>United_Kingdom</td>\n      <td>66647112.0</td>\n      <td>44745</td>\n      <td>67.137193</td>\n    </tr>\n    <tr>\n      <th>11</th>\n      <td>Argentina</td>\n      <td>44780675.0</td>\n      <td>28611</td>\n      <td>63.891400</td>\n    </tr>\n    <tr>\n      <th>36</th>\n      <td>Panama</td>\n      <td>4246440.0</td>\n      <td>2625</td>\n      <td>61.816486</td>\n    </tr>\n    <tr>\n      <th>5</th>\n      <td>Italy</td>\n      <td>60359546.0</td>\n      <td>37210</td>\n      <td>61.647250</td>\n    </tr>\n  </tbody>\n</table>\n</div>"
          },
          "metadata": {},
          "execution_count": 43
        }
      ]
    },
    {
      "cell_type": "code",
      "metadata": {
        "id": "gnElHpdaHfUw"
      },
      "source": [
        "# We don't need the columns popData2019 and deaths in the dataframe extra any more\n",
        "extra = extra.drop(['popData2019','deaths'], axis=1)\n",
        "extra.sort_values(by=['rel_nr_of_deaths_per_100000'], ascending=False).head(15)"
      ],
      "execution_count": 44,
      "outputs": [
        {
          "output_type": "execute_result",
          "data": {
            "text/plain": [
              "                      country  rel_nr_of_deaths_per_100000\n",
              "149                San_Marino                   121.905204\n",
              "8                        Peru                   104.867781\n",
              "17                    Belgium                    94.347537\n",
              "134                   Andorra                    90.578521\n",
              "22                    Bolivia                    74.932021\n",
              "1                      Brazil                    74.344164\n",
              "6                       Spain                    74.039576\n",
              "14                      Chile                    73.300836\n",
              "16                    Ecuador                    72.189753\n",
              "3                      Mexico                    69.561146\n",
              "0    United_States_of_America                    68.344873\n",
              "4              United_Kingdom                    67.137193\n",
              "11                  Argentina                    63.891400\n",
              "36                     Panama                    61.816486\n",
              "5                       Italy                    61.647250"
            ],
            "text/html": "<div>\n<style scoped>\n    .dataframe tbody tr th:only-of-type {\n        vertical-align: middle;\n    }\n\n    .dataframe tbody tr th {\n        vertical-align: top;\n    }\n\n    .dataframe thead th {\n        text-align: right;\n    }\n</style>\n<table border=\"1\" class=\"dataframe\">\n  <thead>\n    <tr style=\"text-align: right;\">\n      <th></th>\n      <th>country</th>\n      <th>rel_nr_of_deaths_per_100000</th>\n    </tr>\n  </thead>\n  <tbody>\n    <tr>\n      <th>149</th>\n      <td>San_Marino</td>\n      <td>121.905204</td>\n    </tr>\n    <tr>\n      <th>8</th>\n      <td>Peru</td>\n      <td>104.867781</td>\n    </tr>\n    <tr>\n      <th>17</th>\n      <td>Belgium</td>\n      <td>94.347537</td>\n    </tr>\n    <tr>\n      <th>134</th>\n      <td>Andorra</td>\n      <td>90.578521</td>\n    </tr>\n    <tr>\n      <th>22</th>\n      <td>Bolivia</td>\n      <td>74.932021</td>\n    </tr>\n    <tr>\n      <th>1</th>\n      <td>Brazil</td>\n      <td>74.344164</td>\n    </tr>\n    <tr>\n      <th>6</th>\n      <td>Spain</td>\n      <td>74.039576</td>\n    </tr>\n    <tr>\n      <th>14</th>\n      <td>Chile</td>\n      <td>73.300836</td>\n    </tr>\n    <tr>\n      <th>16</th>\n      <td>Ecuador</td>\n      <td>72.189753</td>\n    </tr>\n    <tr>\n      <th>3</th>\n      <td>Mexico</td>\n      <td>69.561146</td>\n    </tr>\n    <tr>\n      <th>0</th>\n      <td>United_States_of_America</td>\n      <td>68.344873</td>\n    </tr>\n    <tr>\n      <th>4</th>\n      <td>United_Kingdom</td>\n      <td>67.137193</td>\n    </tr>\n    <tr>\n      <th>11</th>\n      <td>Argentina</td>\n      <td>63.891400</td>\n    </tr>\n    <tr>\n      <th>36</th>\n      <td>Panama</td>\n      <td>61.816486</td>\n    </tr>\n    <tr>\n      <th>5</th>\n      <td>Italy</td>\n      <td>61.647250</td>\n    </tr>\n  </tbody>\n</table>\n</div>"
          },
          "metadata": {},
          "execution_count": 44
        }
      ]
    },
    {
      "cell_type": "code",
      "metadata": {
        "id": "aAYOTe9GH9BG",
        "outputId": "1d0da3b6-b9d6-46b4-d09f-c7e530f7cf73",
        "colab": {
          "base_uri": "https://localhost:8080/",
          "height": 504
        }
      },
      "source": [
        "# Exercise: Are there countries where people have more chance to die from corona?\n",
        "# Calculate the percentage of deaths relative to the number of cases\n"
      ],
      "execution_count": 54,
      "outputs": [
        {
          "output_type": "execute_result",
          "data": {
            "text/html": [
              "<div>\n",
              "<style scoped>\n",
              "    .dataframe tbody tr th:only-of-type {\n",
              "        vertical-align: middle;\n",
              "    }\n",
              "\n",
              "    .dataframe tbody tr th {\n",
              "        vertical-align: top;\n",
              "    }\n",
              "\n",
              "    .dataframe thead th {\n",
              "        text-align: right;\n",
              "    }\n",
              "</style>\n",
              "<table border=\"1\" class=\"dataframe\">\n",
              "  <thead>\n",
              "    <tr style=\"text-align: right;\">\n",
              "      <th></th>\n",
              "      <th>country</th>\n",
              "      <th>deaths</th>\n",
              "      <th>cases</th>\n",
              "      <th>rel_nr_of_deaths_per_nr_of_cases</th>\n",
              "    </tr>\n",
              "  </thead>\n",
              "  <tbody>\n",
              "    <tr>\n",
              "      <th>206</th>\n",
              "      <td>Yemen</td>\n",
              "      <td>599</td>\n",
              "      <td>2060</td>\n",
              "      <td>0.290777</td>\n",
              "    </tr>\n",
              "    <tr>\n",
              "      <th>130</th>\n",
              "      <td>Montserrat</td>\n",
              "      <td>1</td>\n",
              "      <td>8</td>\n",
              "      <td>0.125000</td>\n",
              "    </tr>\n",
              "    <tr>\n",
              "      <th>125</th>\n",
              "      <td>Mexico</td>\n",
              "      <td>88312</td>\n",
              "      <td>880774</td>\n",
              "      <td>0.100266</td>\n",
              "    </tr>\n",
              "    <tr>\n",
              "      <th>96</th>\n",
              "      <td>Isle_of_Man</td>\n",
              "      <td>24</td>\n",
              "      <td>283</td>\n",
              "      <td>0.084806</td>\n",
              "    </tr>\n",
              "    <tr>\n",
              "      <th>57</th>\n",
              "      <td>Ecuador</td>\n",
              "      <td>12528</td>\n",
              "      <td>158270</td>\n",
              "      <td>0.079156</td>\n",
              "    </tr>\n",
              "    <tr>\n",
              "      <th>98</th>\n",
              "      <td>Italy</td>\n",
              "      <td>37059</td>\n",
              "      <td>484869</td>\n",
              "      <td>0.076431</td>\n",
              "    </tr>\n",
              "    <tr>\n",
              "      <th>67</th>\n",
              "      <td>Fiji</td>\n",
              "      <td>2</td>\n",
              "      <td>28</td>\n",
              "      <td>0.071429</td>\n",
              "    </tr>\n",
              "    <tr>\n",
              "      <th>39</th>\n",
              "      <td>Chad</td>\n",
              "      <td>96</td>\n",
              "      <td>1416</td>\n",
              "      <td>0.067797</td>\n",
              "    </tr>\n",
              "    <tr>\n",
              "      <th>101</th>\n",
              "      <td>Jersey</td>\n",
              "      <td>30</td>\n",
              "      <td>449</td>\n",
              "      <td>0.066815</td>\n",
              "    </tr>\n",
              "    <tr>\n",
              "      <th>82</th>\n",
              "      <td>Guernsey</td>\n",
              "      <td>13</td>\n",
              "      <td>205</td>\n",
              "      <td>0.063415</td>\n",
              "    </tr>\n",
              "    <tr>\n",
              "      <th>23</th>\n",
              "      <td>Bolivia</td>\n",
              "      <td>8608</td>\n",
              "      <td>140580</td>\n",
              "      <td>0.061232</td>\n",
              "    </tr>\n",
              "    <tr>\n",
              "      <th>180</th>\n",
              "      <td>Sudan</td>\n",
              "      <td>835</td>\n",
              "      <td>13721</td>\n",
              "      <td>0.060856</td>\n",
              "    </tr>\n",
              "    <tr>\n",
              "      <th>112</th>\n",
              "      <td>Liberia</td>\n",
              "      <td>82</td>\n",
              "      <td>1390</td>\n",
              "      <td>0.058993</td>\n",
              "    </tr>\n",
              "    <tr>\n",
              "      <th>58</th>\n",
              "      <td>Egypt</td>\n",
              "      <td>6176</td>\n",
              "      <td>106230</td>\n",
              "      <td>0.058138</td>\n",
              "    </tr>\n",
              "    <tr>\n",
              "      <th>93</th>\n",
              "      <td>Iran</td>\n",
              "      <td>31985</td>\n",
              "      <td>556891</td>\n",
              "      <td>0.057435</td>\n",
              "    </tr>\n",
              "  </tbody>\n",
              "</table>\n",
              "</div>"
            ],
            "text/plain": [
              "         country  deaths   cases  rel_nr_of_deaths_per_nr_of_cases\n",
              "206        Yemen     599    2060                          0.290777\n",
              "130   Montserrat       1       8                          0.125000\n",
              "125       Mexico   88312  880774                          0.100266\n",
              "96   Isle_of_Man      24     283                          0.084806\n",
              "57       Ecuador   12528  158270                          0.079156\n",
              "98         Italy   37059  484869                          0.076431\n",
              "67          Fiji       2      28                          0.071429\n",
              "39          Chad      96    1416                          0.067797\n",
              "101       Jersey      30     449                          0.066815\n",
              "82      Guernsey      13     205                          0.063415\n",
              "23       Bolivia    8608  140580                          0.061232\n",
              "180        Sudan     835   13721                          0.060856\n",
              "112      Liberia      82    1390                          0.058993\n",
              "58         Egypt    6176  106230                          0.058138\n",
              "93          Iran   31985  556891                          0.057435"
            ]
          },
          "metadata": {
            "tags": []
          },
          "execution_count": 54
        }
      ]
    },
    {
      "cell_type": "code",
      "metadata": {
        "id": "oi925re-yJRB",
        "outputId": "e4f5eaad-cc50-41ec-8a1a-37e23a2c5af9",
        "colab": {
          "base_uri": "https://localhost:8080/",
          "height": 411
        }
      },
      "source": [
        "# Excercise: On which day was the first Belgian Covid death reported?\n"
      ],
      "execution_count": 55,
      "outputs": [
        {
          "output_type": "execute_result",
          "data": {
            "text/html": [
              "<div>\n",
              "<style scoped>\n",
              "    .dataframe tbody tr th:only-of-type {\n",
              "        vertical-align: middle;\n",
              "    }\n",
              "\n",
              "    .dataframe tbody tr th {\n",
              "        vertical-align: top;\n",
              "    }\n",
              "\n",
              "    .dataframe thead th {\n",
              "        text-align: right;\n",
              "    }\n",
              "</style>\n",
              "<table border=\"1\" class=\"dataframe\">\n",
              "  <thead>\n",
              "    <tr style=\"text-align: right;\">\n",
              "      <th></th>\n",
              "      <th>dateRep</th>\n",
              "      <th>month</th>\n",
              "      <th>year</th>\n",
              "      <th>cases</th>\n",
              "      <th>deaths</th>\n",
              "      <th>country</th>\n",
              "      <th>popData2019</th>\n",
              "      <th>continentExp</th>\n",
              "      <th>cum_number_14_days_cases_per_100000</th>\n",
              "    </tr>\n",
              "  </thead>\n",
              "  <tbody>\n",
              "    <tr>\n",
              "      <th>4853</th>\n",
              "      <td>2020-03-11</td>\n",
              "      <td>3</td>\n",
              "      <td>2020</td>\n",
              "      <td>99</td>\n",
              "      <td>1</td>\n",
              "      <td>Belgium</td>\n",
              "      <td>11455519.0</td>\n",
              "      <td>Europe</td>\n",
              "      <td>4.364708</td>\n",
              "    </tr>\n",
              "    <tr>\n",
              "      <th>4852</th>\n",
              "      <td>2020-03-12</td>\n",
              "      <td>3</td>\n",
              "      <td>2020</td>\n",
              "      <td>174</td>\n",
              "      <td>3</td>\n",
              "      <td>Belgium</td>\n",
              "      <td>11455519.0</td>\n",
              "      <td>Europe</td>\n",
              "      <td>5.228921</td>\n",
              "    </tr>\n",
              "    <tr>\n",
              "      <th>4851</th>\n",
              "      <td>2020-03-13</td>\n",
              "      <td>3</td>\n",
              "      <td>2020</td>\n",
              "      <td>250</td>\n",
              "      <td>1</td>\n",
              "      <td>Belgium</td>\n",
              "      <td>11455519.0</td>\n",
              "      <td>Europe</td>\n",
              "      <td>6.747839</td>\n",
              "    </tr>\n",
              "    <tr>\n",
              "      <th>4850</th>\n",
              "      <td>2020-03-14</td>\n",
              "      <td>3</td>\n",
              "      <td>2020</td>\n",
              "      <td>338</td>\n",
              "      <td>3</td>\n",
              "      <td>Belgium</td>\n",
              "      <td>11455519.0</td>\n",
              "      <td>Europe</td>\n",
              "      <td>8.930193</td>\n",
              "    </tr>\n",
              "    <tr>\n",
              "      <th>4849</th>\n",
              "      <td>2020-03-15</td>\n",
              "      <td>3</td>\n",
              "      <td>2020</td>\n",
              "      <td>179</td>\n",
              "      <td>5</td>\n",
              "      <td>Belgium</td>\n",
              "      <td>11455519.0</td>\n",
              "      <td>Europe</td>\n",
              "      <td>11.880736</td>\n",
              "    </tr>\n",
              "    <tr>\n",
              "      <th>...</th>\n",
              "      <td>...</td>\n",
              "      <td>...</td>\n",
              "      <td>...</td>\n",
              "      <td>...</td>\n",
              "      <td>...</td>\n",
              "      <td>...</td>\n",
              "      <td>...</td>\n",
              "      <td>...</td>\n",
              "      <td>...</td>\n",
              "    </tr>\n",
              "    <tr>\n",
              "      <th>4630</th>\n",
              "      <td>2020-10-20</td>\n",
              "      <td>10</td>\n",
              "      <td>2020</td>\n",
              "      <td>15032</td>\n",
              "      <td>49</td>\n",
              "      <td>Belgium</td>\n",
              "      <td>11455519.0</td>\n",
              "      <td>Europe</td>\n",
              "      <td>961.318296</td>\n",
              "    </tr>\n",
              "    <tr>\n",
              "      <th>4629</th>\n",
              "      <td>2020-10-21</td>\n",
              "      <td>10</td>\n",
              "      <td>2020</td>\n",
              "      <td>18574</td>\n",
              "      <td>47</td>\n",
              "      <td>Belgium</td>\n",
              "      <td>11455519.0</td>\n",
              "      <td>Europe</td>\n",
              "      <td>1046.691992</td>\n",
              "    </tr>\n",
              "    <tr>\n",
              "      <th>4628</th>\n",
              "      <td>2020-10-22</td>\n",
              "      <td>10</td>\n",
              "      <td>2020</td>\n",
              "      <td>16103</td>\n",
              "      <td>55</td>\n",
              "      <td>Belgium</td>\n",
              "      <td>11455519.0</td>\n",
              "      <td>Europe</td>\n",
              "      <td>1159.187986</td>\n",
              "    </tr>\n",
              "    <tr>\n",
              "      <th>4627</th>\n",
              "      <td>2020-10-23</td>\n",
              "      <td>10</td>\n",
              "      <td>2020</td>\n",
              "      <td>15085</td>\n",
              "      <td>53</td>\n",
              "      <td>Belgium</td>\n",
              "      <td>11455519.0</td>\n",
              "      <td>Europe</td>\n",
              "      <td>1240.423939</td>\n",
              "    </tr>\n",
              "    <tr>\n",
              "      <th>4626</th>\n",
              "      <td>2020-10-24</td>\n",
              "      <td>10</td>\n",
              "      <td>2020</td>\n",
              "      <td>14560</td>\n",
              "      <td>85</td>\n",
              "      <td>Belgium</td>\n",
              "      <td>11455519.0</td>\n",
              "      <td>Europe</td>\n",
              "      <td>1314.623982</td>\n",
              "    </tr>\n",
              "  </tbody>\n",
              "</table>\n",
              "<p>226 rows × 9 columns</p>\n",
              "</div>"
            ],
            "text/plain": [
              "        dateRep  month  ...  continentExp  cum_number_14_days_cases_per_100000\n",
              "4853 2020-03-11      3  ...        Europe                             4.364708\n",
              "4852 2020-03-12      3  ...        Europe                             5.228921\n",
              "4851 2020-03-13      3  ...        Europe                             6.747839\n",
              "4850 2020-03-14      3  ...        Europe                             8.930193\n",
              "4849 2020-03-15      3  ...        Europe                            11.880736\n",
              "...         ...    ...  ...           ...                                  ...\n",
              "4630 2020-10-20     10  ...        Europe                           961.318296\n",
              "4629 2020-10-21     10  ...        Europe                          1046.691992\n",
              "4628 2020-10-22     10  ...        Europe                          1159.187986\n",
              "4627 2020-10-23     10  ...        Europe                          1240.423939\n",
              "4626 2020-10-24     10  ...        Europe                          1314.623982\n",
              "\n",
              "[226 rows x 9 columns]"
            ]
          },
          "metadata": {
            "tags": []
          },
          "execution_count": 55
        }
      ]
    },
    {
      "cell_type": "code",
      "metadata": {
        "id": "49wgTBP-Sp1s",
        "outputId": "f85ede18-98c0-4d60-c3cc-61b2bcb38381",
        "colab": {
          "base_uri": "https://localhost:8080/",
          "height": 504
        }
      },
      "source": [
        "# Exercise: What was the last country to report the first Corona deaths?\n"
      ],
      "execution_count": 56,
      "outputs": [
        {
          "output_type": "execute_result",
          "data": {
            "text/html": [
              "<div>\n",
              "<style scoped>\n",
              "    .dataframe tbody tr th:only-of-type {\n",
              "        vertical-align: middle;\n",
              "    }\n",
              "\n",
              "    .dataframe tbody tr th {\n",
              "        vertical-align: top;\n",
              "    }\n",
              "\n",
              "    .dataframe thead th {\n",
              "        text-align: right;\n",
              "    }\n",
              "</style>\n",
              "<table border=\"1\" class=\"dataframe\">\n",
              "  <thead>\n",
              "    <tr style=\"text-align: right;\">\n",
              "      <th></th>\n",
              "      <th>country</th>\n",
              "      <th>dateRep</th>\n",
              "    </tr>\n",
              "  </thead>\n",
              "  <tbody>\n",
              "    <tr>\n",
              "      <th>0</th>\n",
              "      <td>Bonaire, Saint Eustatius and Saba</td>\n",
              "      <td>2020-09-15</td>\n",
              "    </tr>\n",
              "    <tr>\n",
              "      <th>1</th>\n",
              "      <td>French_Polynesia</td>\n",
              "      <td>2020-09-12</td>\n",
              "    </tr>\n",
              "    <tr>\n",
              "      <th>2</th>\n",
              "      <td>Vietnam</td>\n",
              "      <td>2020-08-01</td>\n",
              "    </tr>\n",
              "    <tr>\n",
              "      <th>3</th>\n",
              "      <td>Fiji</td>\n",
              "      <td>2020-08-01</td>\n",
              "    </tr>\n",
              "    <tr>\n",
              "      <th>4</th>\n",
              "      <td>Papua_New_Guinea</td>\n",
              "      <td>2020-07-29</td>\n",
              "    </tr>\n",
              "    <tr>\n",
              "      <th>5</th>\n",
              "      <td>Botswana</td>\n",
              "      <td>2020-07-28</td>\n",
              "    </tr>\n",
              "    <tr>\n",
              "      <th>6</th>\n",
              "      <td>Uganda</td>\n",
              "      <td>2020-07-25</td>\n",
              "    </tr>\n",
              "    <tr>\n",
              "      <th>7</th>\n",
              "      <td>Namibia</td>\n",
              "      <td>2020-07-11</td>\n",
              "    </tr>\n",
              "    <tr>\n",
              "      <th>8</th>\n",
              "      <td>Lesotho</td>\n",
              "      <td>2020-07-10</td>\n",
              "    </tr>\n",
              "    <tr>\n",
              "      <th>9</th>\n",
              "      <td>Turks_and_Caicos_islands</td>\n",
              "      <td>2020-07-01</td>\n",
              "    </tr>\n",
              "    <tr>\n",
              "      <th>10</th>\n",
              "      <td>Gambia</td>\n",
              "      <td>2020-06-21</td>\n",
              "    </tr>\n",
              "    <tr>\n",
              "      <th>11</th>\n",
              "      <td>Rwanda</td>\n",
              "      <td>2020-05-31</td>\n",
              "    </tr>\n",
              "    <tr>\n",
              "      <th>12</th>\n",
              "      <td>Western_Sahara</td>\n",
              "      <td>2020-05-30</td>\n",
              "    </tr>\n",
              "    <tr>\n",
              "      <th>13</th>\n",
              "      <td>Comoros</td>\n",
              "      <td>2020-05-28</td>\n",
              "    </tr>\n",
              "    <tr>\n",
              "      <th>14</th>\n",
              "      <td>Mozambique</td>\n",
              "      <td>2020-05-26</td>\n",
              "    </tr>\n",
              "  </tbody>\n",
              "</table>\n",
              "</div>"
            ],
            "text/plain": [
              "                              country    dateRep\n",
              "0   Bonaire, Saint Eustatius and Saba 2020-09-15\n",
              "1                    French_Polynesia 2020-09-12\n",
              "2                             Vietnam 2020-08-01\n",
              "3                                Fiji 2020-08-01\n",
              "4                    Papua_New_Guinea 2020-07-29\n",
              "5                            Botswana 2020-07-28\n",
              "6                              Uganda 2020-07-25\n",
              "7                             Namibia 2020-07-11\n",
              "8                             Lesotho 2020-07-10\n",
              "9            Turks_and_Caicos_islands 2020-07-01\n",
              "10                             Gambia 2020-06-21\n",
              "11                             Rwanda 2020-05-31\n",
              "12                     Western_Sahara 2020-05-30\n",
              "13                            Comoros 2020-05-28\n",
              "14                         Mozambique 2020-05-26"
            ]
          },
          "metadata": {
            "tags": []
          },
          "execution_count": 56
        }
      ]
    },
    {
      "cell_type": "code",
      "metadata": {
        "id": "XypkWVSZCj4X",
        "outputId": "5bcbe5d3-8292-4fc6-b173-00d8866defbb",
        "colab": {
          "base_uri": "https://localhost:8080/",
          "height": 402
        }
      },
      "source": [
        "# What is the total number of cases for each European country per month?\n",
        "# unstack --> Nice visual explanation can be found on \n",
        "# http://www.datasciencemadesimple.com/reshape-using-stack-unstack-function-pandas-python/\n",
        "\n",
        "coviddata[coviddata['continentExp'] == 'Europe'].groupby(['month', 'country'])['cases'].sum().unstack().sort_values(by=['month'])"
      ],
      "execution_count": 45,
      "outputs": [
        {
          "output_type": "execute_result",
          "data": {
            "text/plain": [
              "country  Albania  Andorra  Armenia  Austria  Azerbaijan  Belarus   Belgium  \\\n",
              "month                                                                        \n",
              "1            NaN      NaN      0.0      0.0         0.0      0.0       0.0   \n",
              "2            NaN      NaN      0.0      7.0         1.0      1.0       1.0   \n",
              "3          153.0    182.0    532.0   9611.0       272.0    104.0   15295.0   \n",
              "4          543.0    373.0   1534.0   5746.0      1493.0  13076.0   34643.0   \n",
              "5          356.0     21.0   7216.0   1274.0      3480.0  28477.0    8976.0   \n",
              "6         1344.0     91.0  16260.0   1028.0     11722.0  20132.0    2969.0   \n",
              "7         2731.0     67.0  13008.0   3343.0     14592.0   5875.0    7706.0   \n",
              "8         4183.0    202.0   5200.0   6209.0      4749.0   4022.0   15806.0   \n",
              "9         4138.0    842.0   6151.0  17389.0      3810.0   6573.0   36957.0   \n",
              "10        5340.0   2072.0  27936.0  35163.0      8894.0  13718.0  209778.0   \n",
              "\n",
              "country  Bosnia_and_Herzegovina  Bulgaria  Croatia  ...    Russia  San_Marino  \\\n",
              "month                                               ...                         \n",
              "1                           NaN       NaN      0.0  ...       0.0         0.0   \n",
              "2                           NaN       NaN      5.0  ...       2.0         1.0   \n",
              "3                         189.0     196.0    785.0  ...    1834.0       228.0   \n",
              "4                        1336.0    1088.0   1272.0  ...   97563.0       334.0   \n",
              "5                         804.0    1066.0    184.0  ...  297176.0       108.0   \n",
              "6                        1850.0    2318.0    479.0  ...  244581.0        27.0   \n",
              "7                        7101.0    6589.0   2346.0  ...  193343.0         1.0   \n",
              "8                        8345.0    4770.0   5052.0  ...  155827.0        11.0   \n",
              "9                        7433.0    4357.0   6257.0  ...  177479.0        17.0   \n",
              "10                      12536.0   17015.0  17579.0  ...  329362.0        92.0   \n",
              "\n",
              "country   Serbia  Slovakia  Slovenia     Spain   Sweden  Switzerland  \\\n",
              "month                                                                  \n",
              "1            NaN       NaN       NaN       0.0      0.0          0.0   \n",
              "2            NaN       NaN       NaN      54.0     11.0         12.0   \n",
              "3          636.0     213.0     488.0  104213.0   4349.0      15400.0   \n",
              "4         7939.0    1055.0     655.0  110916.0  16608.0      13912.0   \n",
              "5         2657.0     130.0      55.0   24246.0  17422.0       1438.0   \n",
              "6         2907.0     144.0     112.0    9842.0  28669.0        807.0   \n",
              "7        10925.0     600.0     554.0   39251.0   9621.0       3364.0   \n",
              "8         6152.0    1611.0     726.0  174336.0   7552.0       6973.0   \n",
              "9         2114.0    5698.0    2622.0  306330.0   8915.0      10845.0   \n",
              "10        5393.0   31227.0   15790.0  276944.0  17447.0      50572.0   \n",
              "\n",
              "country   Ukraine  United_Kingdom  \n",
              "month                              \n",
              "1             NaN             0.0  \n",
              "2             NaN            30.0  \n",
              "3           367.0         29651.0  \n",
              "4          9386.0        137469.0  \n",
              "5         13338.0         87240.0  \n",
              "6         20424.0         29151.0  \n",
              "7         25166.0         18760.0  \n",
              "8         50280.0         32166.0  \n",
              "9         85858.0        111689.0  \n",
              "10       132478.0        407854.0  \n",
              "\n",
              "[10 rows x 54 columns]"
            ],
            "text/html": "<div>\n<style scoped>\n    .dataframe tbody tr th:only-of-type {\n        vertical-align: middle;\n    }\n\n    .dataframe tbody tr th {\n        vertical-align: top;\n    }\n\n    .dataframe thead th {\n        text-align: right;\n    }\n</style>\n<table border=\"1\" class=\"dataframe\">\n  <thead>\n    <tr style=\"text-align: right;\">\n      <th>country</th>\n      <th>Albania</th>\n      <th>Andorra</th>\n      <th>Armenia</th>\n      <th>Austria</th>\n      <th>Azerbaijan</th>\n      <th>Belarus</th>\n      <th>Belgium</th>\n      <th>Bosnia_and_Herzegovina</th>\n      <th>Bulgaria</th>\n      <th>Croatia</th>\n      <th>...</th>\n      <th>Russia</th>\n      <th>San_Marino</th>\n      <th>Serbia</th>\n      <th>Slovakia</th>\n      <th>Slovenia</th>\n      <th>Spain</th>\n      <th>Sweden</th>\n      <th>Switzerland</th>\n      <th>Ukraine</th>\n      <th>United_Kingdom</th>\n    </tr>\n    <tr>\n      <th>month</th>\n      <th></th>\n      <th></th>\n      <th></th>\n      <th></th>\n      <th></th>\n      <th></th>\n      <th></th>\n      <th></th>\n      <th></th>\n      <th></th>\n      <th></th>\n      <th></th>\n      <th></th>\n      <th></th>\n      <th></th>\n      <th></th>\n      <th></th>\n      <th></th>\n      <th></th>\n      <th></th>\n      <th></th>\n    </tr>\n  </thead>\n  <tbody>\n    <tr>\n      <th>1</th>\n      <td>NaN</td>\n      <td>NaN</td>\n      <td>0.0</td>\n      <td>0.0</td>\n      <td>0.0</td>\n      <td>0.0</td>\n      <td>0.0</td>\n      <td>NaN</td>\n      <td>NaN</td>\n      <td>0.0</td>\n      <td>...</td>\n      <td>0.0</td>\n      <td>0.0</td>\n      <td>NaN</td>\n      <td>NaN</td>\n      <td>NaN</td>\n      <td>0.0</td>\n      <td>0.0</td>\n      <td>0.0</td>\n      <td>NaN</td>\n      <td>0.0</td>\n    </tr>\n    <tr>\n      <th>2</th>\n      <td>NaN</td>\n      <td>NaN</td>\n      <td>0.0</td>\n      <td>7.0</td>\n      <td>1.0</td>\n      <td>1.0</td>\n      <td>1.0</td>\n      <td>NaN</td>\n      <td>NaN</td>\n      <td>5.0</td>\n      <td>...</td>\n      <td>2.0</td>\n      <td>1.0</td>\n      <td>NaN</td>\n      <td>NaN</td>\n      <td>NaN</td>\n      <td>54.0</td>\n      <td>11.0</td>\n      <td>12.0</td>\n      <td>NaN</td>\n      <td>30.0</td>\n    </tr>\n    <tr>\n      <th>3</th>\n      <td>153.0</td>\n      <td>182.0</td>\n      <td>532.0</td>\n      <td>9611.0</td>\n      <td>272.0</td>\n      <td>104.0</td>\n      <td>15295.0</td>\n      <td>189.0</td>\n      <td>196.0</td>\n      <td>785.0</td>\n      <td>...</td>\n      <td>1834.0</td>\n      <td>228.0</td>\n      <td>636.0</td>\n      <td>213.0</td>\n      <td>488.0</td>\n      <td>104213.0</td>\n      <td>4349.0</td>\n      <td>15400.0</td>\n      <td>367.0</td>\n      <td>29651.0</td>\n    </tr>\n    <tr>\n      <th>4</th>\n      <td>543.0</td>\n      <td>373.0</td>\n      <td>1534.0</td>\n      <td>5746.0</td>\n      <td>1493.0</td>\n      <td>13076.0</td>\n      <td>34643.0</td>\n      <td>1336.0</td>\n      <td>1088.0</td>\n      <td>1272.0</td>\n      <td>...</td>\n      <td>97563.0</td>\n      <td>334.0</td>\n      <td>7939.0</td>\n      <td>1055.0</td>\n      <td>655.0</td>\n      <td>110916.0</td>\n      <td>16608.0</td>\n      <td>13912.0</td>\n      <td>9386.0</td>\n      <td>137469.0</td>\n    </tr>\n    <tr>\n      <th>5</th>\n      <td>356.0</td>\n      <td>21.0</td>\n      <td>7216.0</td>\n      <td>1274.0</td>\n      <td>3480.0</td>\n      <td>28477.0</td>\n      <td>8976.0</td>\n      <td>804.0</td>\n      <td>1066.0</td>\n      <td>184.0</td>\n      <td>...</td>\n      <td>297176.0</td>\n      <td>108.0</td>\n      <td>2657.0</td>\n      <td>130.0</td>\n      <td>55.0</td>\n      <td>24246.0</td>\n      <td>17422.0</td>\n      <td>1438.0</td>\n      <td>13338.0</td>\n      <td>87240.0</td>\n    </tr>\n    <tr>\n      <th>6</th>\n      <td>1344.0</td>\n      <td>91.0</td>\n      <td>16260.0</td>\n      <td>1028.0</td>\n      <td>11722.0</td>\n      <td>20132.0</td>\n      <td>2969.0</td>\n      <td>1850.0</td>\n      <td>2318.0</td>\n      <td>479.0</td>\n      <td>...</td>\n      <td>244581.0</td>\n      <td>27.0</td>\n      <td>2907.0</td>\n      <td>144.0</td>\n      <td>112.0</td>\n      <td>9842.0</td>\n      <td>28669.0</td>\n      <td>807.0</td>\n      <td>20424.0</td>\n      <td>29151.0</td>\n    </tr>\n    <tr>\n      <th>7</th>\n      <td>2731.0</td>\n      <td>67.0</td>\n      <td>13008.0</td>\n      <td>3343.0</td>\n      <td>14592.0</td>\n      <td>5875.0</td>\n      <td>7706.0</td>\n      <td>7101.0</td>\n      <td>6589.0</td>\n      <td>2346.0</td>\n      <td>...</td>\n      <td>193343.0</td>\n      <td>1.0</td>\n      <td>10925.0</td>\n      <td>600.0</td>\n      <td>554.0</td>\n      <td>39251.0</td>\n      <td>9621.0</td>\n      <td>3364.0</td>\n      <td>25166.0</td>\n      <td>18760.0</td>\n    </tr>\n    <tr>\n      <th>8</th>\n      <td>4183.0</td>\n      <td>202.0</td>\n      <td>5200.0</td>\n      <td>6209.0</td>\n      <td>4749.0</td>\n      <td>4022.0</td>\n      <td>15806.0</td>\n      <td>8345.0</td>\n      <td>4770.0</td>\n      <td>5052.0</td>\n      <td>...</td>\n      <td>155827.0</td>\n      <td>11.0</td>\n      <td>6152.0</td>\n      <td>1611.0</td>\n      <td>726.0</td>\n      <td>174336.0</td>\n      <td>7552.0</td>\n      <td>6973.0</td>\n      <td>50280.0</td>\n      <td>32166.0</td>\n    </tr>\n    <tr>\n      <th>9</th>\n      <td>4138.0</td>\n      <td>842.0</td>\n      <td>6151.0</td>\n      <td>17389.0</td>\n      <td>3810.0</td>\n      <td>6573.0</td>\n      <td>36957.0</td>\n      <td>7433.0</td>\n      <td>4357.0</td>\n      <td>6257.0</td>\n      <td>...</td>\n      <td>177479.0</td>\n      <td>17.0</td>\n      <td>2114.0</td>\n      <td>5698.0</td>\n      <td>2622.0</td>\n      <td>306330.0</td>\n      <td>8915.0</td>\n      <td>10845.0</td>\n      <td>85858.0</td>\n      <td>111689.0</td>\n    </tr>\n    <tr>\n      <th>10</th>\n      <td>5340.0</td>\n      <td>2072.0</td>\n      <td>27936.0</td>\n      <td>35163.0</td>\n      <td>8894.0</td>\n      <td>13718.0</td>\n      <td>209778.0</td>\n      <td>12536.0</td>\n      <td>17015.0</td>\n      <td>17579.0</td>\n      <td>...</td>\n      <td>329362.0</td>\n      <td>92.0</td>\n      <td>5393.0</td>\n      <td>31227.0</td>\n      <td>15790.0</td>\n      <td>276944.0</td>\n      <td>17447.0</td>\n      <td>50572.0</td>\n      <td>132478.0</td>\n      <td>407854.0</td>\n    </tr>\n  </tbody>\n</table>\n<p>10 rows × 54 columns</p>\n</div>"
          },
          "metadata": {},
          "execution_count": 45
        }
      ]
    },
    {
      "cell_type": "code",
      "metadata": {
        "id": "zPH2aYtaCtBG",
        "outputId": "e7860b70-8f1b-4ea6-8042-db88f2a56fd1",
        "colab": {
          "base_uri": "https://localhost:8080/",
          "height": 402
        }
      },
      "source": [
        "# Replace NaN in the previous result by 0.0\n",
        "coviddata[coviddata['continentExp'] == 'Europe'].groupby(['month', 'country'])['cases'].sum().unstack().sort_values(by=['month']).fillna(0)"
      ],
      "execution_count": 46,
      "outputs": [
        {
          "output_type": "execute_result",
          "data": {
            "text/plain": [
              "country  Albania  Andorra  Armenia  Austria  Azerbaijan  Belarus   Belgium  \\\n",
              "month                                                                        \n",
              "1            0.0      0.0      0.0      0.0         0.0      0.0       0.0   \n",
              "2            0.0      0.0      0.0      7.0         1.0      1.0       1.0   \n",
              "3          153.0    182.0    532.0   9611.0       272.0    104.0   15295.0   \n",
              "4          543.0    373.0   1534.0   5746.0      1493.0  13076.0   34643.0   \n",
              "5          356.0     21.0   7216.0   1274.0      3480.0  28477.0    8976.0   \n",
              "6         1344.0     91.0  16260.0   1028.0     11722.0  20132.0    2969.0   \n",
              "7         2731.0     67.0  13008.0   3343.0     14592.0   5875.0    7706.0   \n",
              "8         4183.0    202.0   5200.0   6209.0      4749.0   4022.0   15806.0   \n",
              "9         4138.0    842.0   6151.0  17389.0      3810.0   6573.0   36957.0   \n",
              "10        5340.0   2072.0  27936.0  35163.0      8894.0  13718.0  209778.0   \n",
              "\n",
              "country  Bosnia_and_Herzegovina  Bulgaria  Croatia  ...    Russia  San_Marino  \\\n",
              "month                                               ...                         \n",
              "1                           0.0       0.0      0.0  ...       0.0         0.0   \n",
              "2                           0.0       0.0      5.0  ...       2.0         1.0   \n",
              "3                         189.0     196.0    785.0  ...    1834.0       228.0   \n",
              "4                        1336.0    1088.0   1272.0  ...   97563.0       334.0   \n",
              "5                         804.0    1066.0    184.0  ...  297176.0       108.0   \n",
              "6                        1850.0    2318.0    479.0  ...  244581.0        27.0   \n",
              "7                        7101.0    6589.0   2346.0  ...  193343.0         1.0   \n",
              "8                        8345.0    4770.0   5052.0  ...  155827.0        11.0   \n",
              "9                        7433.0    4357.0   6257.0  ...  177479.0        17.0   \n",
              "10                      12536.0   17015.0  17579.0  ...  329362.0        92.0   \n",
              "\n",
              "country   Serbia  Slovakia  Slovenia     Spain   Sweden  Switzerland  \\\n",
              "month                                                                  \n",
              "1            0.0       0.0       0.0       0.0      0.0          0.0   \n",
              "2            0.0       0.0       0.0      54.0     11.0         12.0   \n",
              "3          636.0     213.0     488.0  104213.0   4349.0      15400.0   \n",
              "4         7939.0    1055.0     655.0  110916.0  16608.0      13912.0   \n",
              "5         2657.0     130.0      55.0   24246.0  17422.0       1438.0   \n",
              "6         2907.0     144.0     112.0    9842.0  28669.0        807.0   \n",
              "7        10925.0     600.0     554.0   39251.0   9621.0       3364.0   \n",
              "8         6152.0    1611.0     726.0  174336.0   7552.0       6973.0   \n",
              "9         2114.0    5698.0    2622.0  306330.0   8915.0      10845.0   \n",
              "10        5393.0   31227.0   15790.0  276944.0  17447.0      50572.0   \n",
              "\n",
              "country   Ukraine  United_Kingdom  \n",
              "month                              \n",
              "1             0.0             0.0  \n",
              "2             0.0            30.0  \n",
              "3           367.0         29651.0  \n",
              "4          9386.0        137469.0  \n",
              "5         13338.0         87240.0  \n",
              "6         20424.0         29151.0  \n",
              "7         25166.0         18760.0  \n",
              "8         50280.0         32166.0  \n",
              "9         85858.0        111689.0  \n",
              "10       132478.0        407854.0  \n",
              "\n",
              "[10 rows x 54 columns]"
            ],
            "text/html": "<div>\n<style scoped>\n    .dataframe tbody tr th:only-of-type {\n        vertical-align: middle;\n    }\n\n    .dataframe tbody tr th {\n        vertical-align: top;\n    }\n\n    .dataframe thead th {\n        text-align: right;\n    }\n</style>\n<table border=\"1\" class=\"dataframe\">\n  <thead>\n    <tr style=\"text-align: right;\">\n      <th>country</th>\n      <th>Albania</th>\n      <th>Andorra</th>\n      <th>Armenia</th>\n      <th>Austria</th>\n      <th>Azerbaijan</th>\n      <th>Belarus</th>\n      <th>Belgium</th>\n      <th>Bosnia_and_Herzegovina</th>\n      <th>Bulgaria</th>\n      <th>Croatia</th>\n      <th>...</th>\n      <th>Russia</th>\n      <th>San_Marino</th>\n      <th>Serbia</th>\n      <th>Slovakia</th>\n      <th>Slovenia</th>\n      <th>Spain</th>\n      <th>Sweden</th>\n      <th>Switzerland</th>\n      <th>Ukraine</th>\n      <th>United_Kingdom</th>\n    </tr>\n    <tr>\n      <th>month</th>\n      <th></th>\n      <th></th>\n      <th></th>\n      <th></th>\n      <th></th>\n      <th></th>\n      <th></th>\n      <th></th>\n      <th></th>\n      <th></th>\n      <th></th>\n      <th></th>\n      <th></th>\n      <th></th>\n      <th></th>\n      <th></th>\n      <th></th>\n      <th></th>\n      <th></th>\n      <th></th>\n      <th></th>\n    </tr>\n  </thead>\n  <tbody>\n    <tr>\n      <th>1</th>\n      <td>0.0</td>\n      <td>0.0</td>\n      <td>0.0</td>\n      <td>0.0</td>\n      <td>0.0</td>\n      <td>0.0</td>\n      <td>0.0</td>\n      <td>0.0</td>\n      <td>0.0</td>\n      <td>0.0</td>\n      <td>...</td>\n      <td>0.0</td>\n      <td>0.0</td>\n      <td>0.0</td>\n      <td>0.0</td>\n      <td>0.0</td>\n      <td>0.0</td>\n      <td>0.0</td>\n      <td>0.0</td>\n      <td>0.0</td>\n      <td>0.0</td>\n    </tr>\n    <tr>\n      <th>2</th>\n      <td>0.0</td>\n      <td>0.0</td>\n      <td>0.0</td>\n      <td>7.0</td>\n      <td>1.0</td>\n      <td>1.0</td>\n      <td>1.0</td>\n      <td>0.0</td>\n      <td>0.0</td>\n      <td>5.0</td>\n      <td>...</td>\n      <td>2.0</td>\n      <td>1.0</td>\n      <td>0.0</td>\n      <td>0.0</td>\n      <td>0.0</td>\n      <td>54.0</td>\n      <td>11.0</td>\n      <td>12.0</td>\n      <td>0.0</td>\n      <td>30.0</td>\n    </tr>\n    <tr>\n      <th>3</th>\n      <td>153.0</td>\n      <td>182.0</td>\n      <td>532.0</td>\n      <td>9611.0</td>\n      <td>272.0</td>\n      <td>104.0</td>\n      <td>15295.0</td>\n      <td>189.0</td>\n      <td>196.0</td>\n      <td>785.0</td>\n      <td>...</td>\n      <td>1834.0</td>\n      <td>228.0</td>\n      <td>636.0</td>\n      <td>213.0</td>\n      <td>488.0</td>\n      <td>104213.0</td>\n      <td>4349.0</td>\n      <td>15400.0</td>\n      <td>367.0</td>\n      <td>29651.0</td>\n    </tr>\n    <tr>\n      <th>4</th>\n      <td>543.0</td>\n      <td>373.0</td>\n      <td>1534.0</td>\n      <td>5746.0</td>\n      <td>1493.0</td>\n      <td>13076.0</td>\n      <td>34643.0</td>\n      <td>1336.0</td>\n      <td>1088.0</td>\n      <td>1272.0</td>\n      <td>...</td>\n      <td>97563.0</td>\n      <td>334.0</td>\n      <td>7939.0</td>\n      <td>1055.0</td>\n      <td>655.0</td>\n      <td>110916.0</td>\n      <td>16608.0</td>\n      <td>13912.0</td>\n      <td>9386.0</td>\n      <td>137469.0</td>\n    </tr>\n    <tr>\n      <th>5</th>\n      <td>356.0</td>\n      <td>21.0</td>\n      <td>7216.0</td>\n      <td>1274.0</td>\n      <td>3480.0</td>\n      <td>28477.0</td>\n      <td>8976.0</td>\n      <td>804.0</td>\n      <td>1066.0</td>\n      <td>184.0</td>\n      <td>...</td>\n      <td>297176.0</td>\n      <td>108.0</td>\n      <td>2657.0</td>\n      <td>130.0</td>\n      <td>55.0</td>\n      <td>24246.0</td>\n      <td>17422.0</td>\n      <td>1438.0</td>\n      <td>13338.0</td>\n      <td>87240.0</td>\n    </tr>\n    <tr>\n      <th>6</th>\n      <td>1344.0</td>\n      <td>91.0</td>\n      <td>16260.0</td>\n      <td>1028.0</td>\n      <td>11722.0</td>\n      <td>20132.0</td>\n      <td>2969.0</td>\n      <td>1850.0</td>\n      <td>2318.0</td>\n      <td>479.0</td>\n      <td>...</td>\n      <td>244581.0</td>\n      <td>27.0</td>\n      <td>2907.0</td>\n      <td>144.0</td>\n      <td>112.0</td>\n      <td>9842.0</td>\n      <td>28669.0</td>\n      <td>807.0</td>\n      <td>20424.0</td>\n      <td>29151.0</td>\n    </tr>\n    <tr>\n      <th>7</th>\n      <td>2731.0</td>\n      <td>67.0</td>\n      <td>13008.0</td>\n      <td>3343.0</td>\n      <td>14592.0</td>\n      <td>5875.0</td>\n      <td>7706.0</td>\n      <td>7101.0</td>\n      <td>6589.0</td>\n      <td>2346.0</td>\n      <td>...</td>\n      <td>193343.0</td>\n      <td>1.0</td>\n      <td>10925.0</td>\n      <td>600.0</td>\n      <td>554.0</td>\n      <td>39251.0</td>\n      <td>9621.0</td>\n      <td>3364.0</td>\n      <td>25166.0</td>\n      <td>18760.0</td>\n    </tr>\n    <tr>\n      <th>8</th>\n      <td>4183.0</td>\n      <td>202.0</td>\n      <td>5200.0</td>\n      <td>6209.0</td>\n      <td>4749.0</td>\n      <td>4022.0</td>\n      <td>15806.0</td>\n      <td>8345.0</td>\n      <td>4770.0</td>\n      <td>5052.0</td>\n      <td>...</td>\n      <td>155827.0</td>\n      <td>11.0</td>\n      <td>6152.0</td>\n      <td>1611.0</td>\n      <td>726.0</td>\n      <td>174336.0</td>\n      <td>7552.0</td>\n      <td>6973.0</td>\n      <td>50280.0</td>\n      <td>32166.0</td>\n    </tr>\n    <tr>\n      <th>9</th>\n      <td>4138.0</td>\n      <td>842.0</td>\n      <td>6151.0</td>\n      <td>17389.0</td>\n      <td>3810.0</td>\n      <td>6573.0</td>\n      <td>36957.0</td>\n      <td>7433.0</td>\n      <td>4357.0</td>\n      <td>6257.0</td>\n      <td>...</td>\n      <td>177479.0</td>\n      <td>17.0</td>\n      <td>2114.0</td>\n      <td>5698.0</td>\n      <td>2622.0</td>\n      <td>306330.0</td>\n      <td>8915.0</td>\n      <td>10845.0</td>\n      <td>85858.0</td>\n      <td>111689.0</td>\n    </tr>\n    <tr>\n      <th>10</th>\n      <td>5340.0</td>\n      <td>2072.0</td>\n      <td>27936.0</td>\n      <td>35163.0</td>\n      <td>8894.0</td>\n      <td>13718.0</td>\n      <td>209778.0</td>\n      <td>12536.0</td>\n      <td>17015.0</td>\n      <td>17579.0</td>\n      <td>...</td>\n      <td>329362.0</td>\n      <td>92.0</td>\n      <td>5393.0</td>\n      <td>31227.0</td>\n      <td>15790.0</td>\n      <td>276944.0</td>\n      <td>17447.0</td>\n      <td>50572.0</td>\n      <td>132478.0</td>\n      <td>407854.0</td>\n    </tr>\n  </tbody>\n</table>\n<p>10 rows × 54 columns</p>\n</div>"
          },
          "metadata": {},
          "execution_count": 46
        }
      ]
    },
    {
      "cell_type": "code",
      "metadata": {
        "id": "LP9i1599C9Im",
        "outputId": "0138545c-9ab9-4be1-831b-ed2bc8d84fc7",
        "colab": {
          "base_uri": "https://localhost:8080/",
          "height": 402
        }
      },
      "source": [
        "# alternative solution:\n",
        "table = pd.pivot_table(coviddata[coviddata['continentExp'] == 'Europe'], values='cases', index='month',columns='country',aggfunc=np.sum).fillna(0)\n",
        "table"
      ],
      "execution_count": 47,
      "outputs": [
        {
          "output_type": "execute_result",
          "data": {
            "text/plain": [
              "country  Albania  Andorra  Armenia  Austria  Azerbaijan  Belarus   Belgium  \\\n",
              "month                                                                        \n",
              "1            0.0      0.0      0.0      0.0         0.0      0.0       0.0   \n",
              "2            0.0      0.0      0.0      7.0         1.0      1.0       1.0   \n",
              "3          153.0    182.0    532.0   9611.0       272.0    104.0   15295.0   \n",
              "4          543.0    373.0   1534.0   5746.0      1493.0  13076.0   34643.0   \n",
              "5          356.0     21.0   7216.0   1274.0      3480.0  28477.0    8976.0   \n",
              "6         1344.0     91.0  16260.0   1028.0     11722.0  20132.0    2969.0   \n",
              "7         2731.0     67.0  13008.0   3343.0     14592.0   5875.0    7706.0   \n",
              "8         4183.0    202.0   5200.0   6209.0      4749.0   4022.0   15806.0   \n",
              "9         4138.0    842.0   6151.0  17389.0      3810.0   6573.0   36957.0   \n",
              "10        5340.0   2072.0  27936.0  35163.0      8894.0  13718.0  209778.0   \n",
              "\n",
              "country  Bosnia_and_Herzegovina  Bulgaria  Croatia  ...    Russia  San_Marino  \\\n",
              "month                                               ...                         \n",
              "1                           0.0       0.0      0.0  ...       0.0         0.0   \n",
              "2                           0.0       0.0      5.0  ...       2.0         1.0   \n",
              "3                         189.0     196.0    785.0  ...    1834.0       228.0   \n",
              "4                        1336.0    1088.0   1272.0  ...   97563.0       334.0   \n",
              "5                         804.0    1066.0    184.0  ...  297176.0       108.0   \n",
              "6                        1850.0    2318.0    479.0  ...  244581.0        27.0   \n",
              "7                        7101.0    6589.0   2346.0  ...  193343.0         1.0   \n",
              "8                        8345.0    4770.0   5052.0  ...  155827.0        11.0   \n",
              "9                        7433.0    4357.0   6257.0  ...  177479.0        17.0   \n",
              "10                      12536.0   17015.0  17579.0  ...  329362.0        92.0   \n",
              "\n",
              "country   Serbia  Slovakia  Slovenia     Spain   Sweden  Switzerland  \\\n",
              "month                                                                  \n",
              "1            0.0       0.0       0.0       0.0      0.0          0.0   \n",
              "2            0.0       0.0       0.0      54.0     11.0         12.0   \n",
              "3          636.0     213.0     488.0  104213.0   4349.0      15400.0   \n",
              "4         7939.0    1055.0     655.0  110916.0  16608.0      13912.0   \n",
              "5         2657.0     130.0      55.0   24246.0  17422.0       1438.0   \n",
              "6         2907.0     144.0     112.0    9842.0  28669.0        807.0   \n",
              "7        10925.0     600.0     554.0   39251.0   9621.0       3364.0   \n",
              "8         6152.0    1611.0     726.0  174336.0   7552.0       6973.0   \n",
              "9         2114.0    5698.0    2622.0  306330.0   8915.0      10845.0   \n",
              "10        5393.0   31227.0   15790.0  276944.0  17447.0      50572.0   \n",
              "\n",
              "country   Ukraine  United_Kingdom  \n",
              "month                              \n",
              "1             0.0             0.0  \n",
              "2             0.0            30.0  \n",
              "3           367.0         29651.0  \n",
              "4          9386.0        137469.0  \n",
              "5         13338.0         87240.0  \n",
              "6         20424.0         29151.0  \n",
              "7         25166.0         18760.0  \n",
              "8         50280.0         32166.0  \n",
              "9         85858.0        111689.0  \n",
              "10       132478.0        407854.0  \n",
              "\n",
              "[10 rows x 54 columns]"
            ],
            "text/html": "<div>\n<style scoped>\n    .dataframe tbody tr th:only-of-type {\n        vertical-align: middle;\n    }\n\n    .dataframe tbody tr th {\n        vertical-align: top;\n    }\n\n    .dataframe thead th {\n        text-align: right;\n    }\n</style>\n<table border=\"1\" class=\"dataframe\">\n  <thead>\n    <tr style=\"text-align: right;\">\n      <th>country</th>\n      <th>Albania</th>\n      <th>Andorra</th>\n      <th>Armenia</th>\n      <th>Austria</th>\n      <th>Azerbaijan</th>\n      <th>Belarus</th>\n      <th>Belgium</th>\n      <th>Bosnia_and_Herzegovina</th>\n      <th>Bulgaria</th>\n      <th>Croatia</th>\n      <th>...</th>\n      <th>Russia</th>\n      <th>San_Marino</th>\n      <th>Serbia</th>\n      <th>Slovakia</th>\n      <th>Slovenia</th>\n      <th>Spain</th>\n      <th>Sweden</th>\n      <th>Switzerland</th>\n      <th>Ukraine</th>\n      <th>United_Kingdom</th>\n    </tr>\n    <tr>\n      <th>month</th>\n      <th></th>\n      <th></th>\n      <th></th>\n      <th></th>\n      <th></th>\n      <th></th>\n      <th></th>\n      <th></th>\n      <th></th>\n      <th></th>\n      <th></th>\n      <th></th>\n      <th></th>\n      <th></th>\n      <th></th>\n      <th></th>\n      <th></th>\n      <th></th>\n      <th></th>\n      <th></th>\n      <th></th>\n    </tr>\n  </thead>\n  <tbody>\n    <tr>\n      <th>1</th>\n      <td>0.0</td>\n      <td>0.0</td>\n      <td>0.0</td>\n      <td>0.0</td>\n      <td>0.0</td>\n      <td>0.0</td>\n      <td>0.0</td>\n      <td>0.0</td>\n      <td>0.0</td>\n      <td>0.0</td>\n      <td>...</td>\n      <td>0.0</td>\n      <td>0.0</td>\n      <td>0.0</td>\n      <td>0.0</td>\n      <td>0.0</td>\n      <td>0.0</td>\n      <td>0.0</td>\n      <td>0.0</td>\n      <td>0.0</td>\n      <td>0.0</td>\n    </tr>\n    <tr>\n      <th>2</th>\n      <td>0.0</td>\n      <td>0.0</td>\n      <td>0.0</td>\n      <td>7.0</td>\n      <td>1.0</td>\n      <td>1.0</td>\n      <td>1.0</td>\n      <td>0.0</td>\n      <td>0.0</td>\n      <td>5.0</td>\n      <td>...</td>\n      <td>2.0</td>\n      <td>1.0</td>\n      <td>0.0</td>\n      <td>0.0</td>\n      <td>0.0</td>\n      <td>54.0</td>\n      <td>11.0</td>\n      <td>12.0</td>\n      <td>0.0</td>\n      <td>30.0</td>\n    </tr>\n    <tr>\n      <th>3</th>\n      <td>153.0</td>\n      <td>182.0</td>\n      <td>532.0</td>\n      <td>9611.0</td>\n      <td>272.0</td>\n      <td>104.0</td>\n      <td>15295.0</td>\n      <td>189.0</td>\n      <td>196.0</td>\n      <td>785.0</td>\n      <td>...</td>\n      <td>1834.0</td>\n      <td>228.0</td>\n      <td>636.0</td>\n      <td>213.0</td>\n      <td>488.0</td>\n      <td>104213.0</td>\n      <td>4349.0</td>\n      <td>15400.0</td>\n      <td>367.0</td>\n      <td>29651.0</td>\n    </tr>\n    <tr>\n      <th>4</th>\n      <td>543.0</td>\n      <td>373.0</td>\n      <td>1534.0</td>\n      <td>5746.0</td>\n      <td>1493.0</td>\n      <td>13076.0</td>\n      <td>34643.0</td>\n      <td>1336.0</td>\n      <td>1088.0</td>\n      <td>1272.0</td>\n      <td>...</td>\n      <td>97563.0</td>\n      <td>334.0</td>\n      <td>7939.0</td>\n      <td>1055.0</td>\n      <td>655.0</td>\n      <td>110916.0</td>\n      <td>16608.0</td>\n      <td>13912.0</td>\n      <td>9386.0</td>\n      <td>137469.0</td>\n    </tr>\n    <tr>\n      <th>5</th>\n      <td>356.0</td>\n      <td>21.0</td>\n      <td>7216.0</td>\n      <td>1274.0</td>\n      <td>3480.0</td>\n      <td>28477.0</td>\n      <td>8976.0</td>\n      <td>804.0</td>\n      <td>1066.0</td>\n      <td>184.0</td>\n      <td>...</td>\n      <td>297176.0</td>\n      <td>108.0</td>\n      <td>2657.0</td>\n      <td>130.0</td>\n      <td>55.0</td>\n      <td>24246.0</td>\n      <td>17422.0</td>\n      <td>1438.0</td>\n      <td>13338.0</td>\n      <td>87240.0</td>\n    </tr>\n    <tr>\n      <th>6</th>\n      <td>1344.0</td>\n      <td>91.0</td>\n      <td>16260.0</td>\n      <td>1028.0</td>\n      <td>11722.0</td>\n      <td>20132.0</td>\n      <td>2969.0</td>\n      <td>1850.0</td>\n      <td>2318.0</td>\n      <td>479.0</td>\n      <td>...</td>\n      <td>244581.0</td>\n      <td>27.0</td>\n      <td>2907.0</td>\n      <td>144.0</td>\n      <td>112.0</td>\n      <td>9842.0</td>\n      <td>28669.0</td>\n      <td>807.0</td>\n      <td>20424.0</td>\n      <td>29151.0</td>\n    </tr>\n    <tr>\n      <th>7</th>\n      <td>2731.0</td>\n      <td>67.0</td>\n      <td>13008.0</td>\n      <td>3343.0</td>\n      <td>14592.0</td>\n      <td>5875.0</td>\n      <td>7706.0</td>\n      <td>7101.0</td>\n      <td>6589.0</td>\n      <td>2346.0</td>\n      <td>...</td>\n      <td>193343.0</td>\n      <td>1.0</td>\n      <td>10925.0</td>\n      <td>600.0</td>\n      <td>554.0</td>\n      <td>39251.0</td>\n      <td>9621.0</td>\n      <td>3364.0</td>\n      <td>25166.0</td>\n      <td>18760.0</td>\n    </tr>\n    <tr>\n      <th>8</th>\n      <td>4183.0</td>\n      <td>202.0</td>\n      <td>5200.0</td>\n      <td>6209.0</td>\n      <td>4749.0</td>\n      <td>4022.0</td>\n      <td>15806.0</td>\n      <td>8345.0</td>\n      <td>4770.0</td>\n      <td>5052.0</td>\n      <td>...</td>\n      <td>155827.0</td>\n      <td>11.0</td>\n      <td>6152.0</td>\n      <td>1611.0</td>\n      <td>726.0</td>\n      <td>174336.0</td>\n      <td>7552.0</td>\n      <td>6973.0</td>\n      <td>50280.0</td>\n      <td>32166.0</td>\n    </tr>\n    <tr>\n      <th>9</th>\n      <td>4138.0</td>\n      <td>842.0</td>\n      <td>6151.0</td>\n      <td>17389.0</td>\n      <td>3810.0</td>\n      <td>6573.0</td>\n      <td>36957.0</td>\n      <td>7433.0</td>\n      <td>4357.0</td>\n      <td>6257.0</td>\n      <td>...</td>\n      <td>177479.0</td>\n      <td>17.0</td>\n      <td>2114.0</td>\n      <td>5698.0</td>\n      <td>2622.0</td>\n      <td>306330.0</td>\n      <td>8915.0</td>\n      <td>10845.0</td>\n      <td>85858.0</td>\n      <td>111689.0</td>\n    </tr>\n    <tr>\n      <th>10</th>\n      <td>5340.0</td>\n      <td>2072.0</td>\n      <td>27936.0</td>\n      <td>35163.0</td>\n      <td>8894.0</td>\n      <td>13718.0</td>\n      <td>209778.0</td>\n      <td>12536.0</td>\n      <td>17015.0</td>\n      <td>17579.0</td>\n      <td>...</td>\n      <td>329362.0</td>\n      <td>92.0</td>\n      <td>5393.0</td>\n      <td>31227.0</td>\n      <td>15790.0</td>\n      <td>276944.0</td>\n      <td>17447.0</td>\n      <td>50572.0</td>\n      <td>132478.0</td>\n      <td>407854.0</td>\n    </tr>\n  </tbody>\n</table>\n<p>10 rows × 54 columns</p>\n</div>"
          },
          "metadata": {},
          "execution_count": 47
        }
      ]
    },
    {
      "cell_type": "code",
      "metadata": {
        "id": "GIQ6mYcM1t3v",
        "outputId": "29759f63-e2e3-4515-b2fe-14fc90ed556d",
        "colab": {
          "base_uri": "https://localhost:8080/",
          "height": 307
        }
      },
      "source": [
        "# Window functions\n",
        "# See https://towardsdatascience.com/sql-window-functions-in-python-pandas-data-science-dc7c7a63cbb4\n",
        "# LAG\n",
        "coviddata['cases_previous_day'] = coviddata.sort_values(by=['dateRep'], ascending=True).groupby(['country'])['cases'].shift(1)\n",
        "coviddata[coviddata['country']=='Belgium'].sort_values(by=['dateRep'], ascending=True).tail()"
      ],
      "execution_count": 62,
      "outputs": [
        {
          "output_type": "execute_result",
          "data": {
            "text/plain": [
              "        dateRep  day  month  year  cases  deaths  country  \\\n",
              "4629 2020-10-21   21     10  2020  18574      47  Belgium   \n",
              "4628 2020-10-22   22     10  2020  16103      55  Belgium   \n",
              "4627 2020-10-23   23     10  2020  15085      53  Belgium   \n",
              "4626 2020-10-24   24     10  2020  14560      85  Belgium   \n",
              "4625 2020-10-25   25     10  2020   7187      70  Belgium   \n",
              "\n",
              "     countryterritoryCode  popData2019 continentExp  \\\n",
              "4629                  BEL   11455519.0       Europe   \n",
              "4628                  BEL   11455519.0       Europe   \n",
              "4627                  BEL   11455519.0       Europe   \n",
              "4626                  BEL   11455519.0       Europe   \n",
              "4625                  BEL   11455519.0       Europe   \n",
              "\n",
              "      cum_number_14_days_cases_per_100000  cases_previous_day  \n",
              "4629                          1046.691992             15032.0  \n",
              "4628                          1159.187986             18574.0  \n",
              "4627                          1240.423939             16103.0  \n",
              "4626                          1314.623982             15085.0  \n",
              "4625                          1373.783239             14560.0  "
            ],
            "text/html": "<div>\n<style scoped>\n    .dataframe tbody tr th:only-of-type {\n        vertical-align: middle;\n    }\n\n    .dataframe tbody tr th {\n        vertical-align: top;\n    }\n\n    .dataframe thead th {\n        text-align: right;\n    }\n</style>\n<table border=\"1\" class=\"dataframe\">\n  <thead>\n    <tr style=\"text-align: right;\">\n      <th></th>\n      <th>dateRep</th>\n      <th>day</th>\n      <th>month</th>\n      <th>year</th>\n      <th>cases</th>\n      <th>deaths</th>\n      <th>country</th>\n      <th>countryterritoryCode</th>\n      <th>popData2019</th>\n      <th>continentExp</th>\n      <th>cum_number_14_days_cases_per_100000</th>\n      <th>cases_previous_day</th>\n    </tr>\n  </thead>\n  <tbody>\n    <tr>\n      <th>4629</th>\n      <td>2020-10-21</td>\n      <td>21</td>\n      <td>10</td>\n      <td>2020</td>\n      <td>18574</td>\n      <td>47</td>\n      <td>Belgium</td>\n      <td>BEL</td>\n      <td>11455519.0</td>\n      <td>Europe</td>\n      <td>1046.691992</td>\n      <td>15032.0</td>\n    </tr>\n    <tr>\n      <th>4628</th>\n      <td>2020-10-22</td>\n      <td>22</td>\n      <td>10</td>\n      <td>2020</td>\n      <td>16103</td>\n      <td>55</td>\n      <td>Belgium</td>\n      <td>BEL</td>\n      <td>11455519.0</td>\n      <td>Europe</td>\n      <td>1159.187986</td>\n      <td>18574.0</td>\n    </tr>\n    <tr>\n      <th>4627</th>\n      <td>2020-10-23</td>\n      <td>23</td>\n      <td>10</td>\n      <td>2020</td>\n      <td>15085</td>\n      <td>53</td>\n      <td>Belgium</td>\n      <td>BEL</td>\n      <td>11455519.0</td>\n      <td>Europe</td>\n      <td>1240.423939</td>\n      <td>16103.0</td>\n    </tr>\n    <tr>\n      <th>4626</th>\n      <td>2020-10-24</td>\n      <td>24</td>\n      <td>10</td>\n      <td>2020</td>\n      <td>14560</td>\n      <td>85</td>\n      <td>Belgium</td>\n      <td>BEL</td>\n      <td>11455519.0</td>\n      <td>Europe</td>\n      <td>1314.623982</td>\n      <td>15085.0</td>\n    </tr>\n    <tr>\n      <th>4625</th>\n      <td>2020-10-25</td>\n      <td>25</td>\n      <td>10</td>\n      <td>2020</td>\n      <td>7187</td>\n      <td>70</td>\n      <td>Belgium</td>\n      <td>BEL</td>\n      <td>11455519.0</td>\n      <td>Europe</td>\n      <td>1373.783239</td>\n      <td>14560.0</td>\n    </tr>\n  </tbody>\n</table>\n</div>"
          },
          "metadata": {},
          "execution_count": 62
        }
      ]
    },
    {
      "cell_type": "code",
      "metadata": {
        "id": "klcgae4e1-bR",
        "outputId": "3f406abc-41d9-4c25-cd59-f55ae54a575d",
        "colab": {
          "base_uri": "https://localhost:8080/",
          "height": 307
        }
      },
      "source": [
        "# LEAD\n",
        "coviddata['cases_next_day'] = coviddata.sort_values(by=['dateRep'], ascending=True).groupby(['country'])['cases'].shift(-1)\n",
        "coviddata[coviddata['country']=='Belgium'].sort_values(by=['dateRep'], ascending=True).tail()"
      ],
      "execution_count": 63,
      "outputs": [
        {
          "output_type": "execute_result",
          "data": {
            "text/plain": [
              "        dateRep  day  month  year  cases  deaths  country  \\\n",
              "4629 2020-10-21   21     10  2020  18574      47  Belgium   \n",
              "4628 2020-10-22   22     10  2020  16103      55  Belgium   \n",
              "4627 2020-10-23   23     10  2020  15085      53  Belgium   \n",
              "4626 2020-10-24   24     10  2020  14560      85  Belgium   \n",
              "4625 2020-10-25   25     10  2020   7187      70  Belgium   \n",
              "\n",
              "     countryterritoryCode  popData2019 continentExp  \\\n",
              "4629                  BEL   11455519.0       Europe   \n",
              "4628                  BEL   11455519.0       Europe   \n",
              "4627                  BEL   11455519.0       Europe   \n",
              "4626                  BEL   11455519.0       Europe   \n",
              "4625                  BEL   11455519.0       Europe   \n",
              "\n",
              "      cum_number_14_days_cases_per_100000  cases_previous_day  cases_next_day  \n",
              "4629                          1046.691992             15032.0         16103.0  \n",
              "4628                          1159.187986             18574.0         15085.0  \n",
              "4627                          1240.423939             16103.0         14560.0  \n",
              "4626                          1314.623982             15085.0          7187.0  \n",
              "4625                          1373.783239             14560.0             NaN  "
            ],
            "text/html": "<div>\n<style scoped>\n    .dataframe tbody tr th:only-of-type {\n        vertical-align: middle;\n    }\n\n    .dataframe tbody tr th {\n        vertical-align: top;\n    }\n\n    .dataframe thead th {\n        text-align: right;\n    }\n</style>\n<table border=\"1\" class=\"dataframe\">\n  <thead>\n    <tr style=\"text-align: right;\">\n      <th></th>\n      <th>dateRep</th>\n      <th>day</th>\n      <th>month</th>\n      <th>year</th>\n      <th>cases</th>\n      <th>deaths</th>\n      <th>country</th>\n      <th>countryterritoryCode</th>\n      <th>popData2019</th>\n      <th>continentExp</th>\n      <th>cum_number_14_days_cases_per_100000</th>\n      <th>cases_previous_day</th>\n      <th>cases_next_day</th>\n    </tr>\n  </thead>\n  <tbody>\n    <tr>\n      <th>4629</th>\n      <td>2020-10-21</td>\n      <td>21</td>\n      <td>10</td>\n      <td>2020</td>\n      <td>18574</td>\n      <td>47</td>\n      <td>Belgium</td>\n      <td>BEL</td>\n      <td>11455519.0</td>\n      <td>Europe</td>\n      <td>1046.691992</td>\n      <td>15032.0</td>\n      <td>16103.0</td>\n    </tr>\n    <tr>\n      <th>4628</th>\n      <td>2020-10-22</td>\n      <td>22</td>\n      <td>10</td>\n      <td>2020</td>\n      <td>16103</td>\n      <td>55</td>\n      <td>Belgium</td>\n      <td>BEL</td>\n      <td>11455519.0</td>\n      <td>Europe</td>\n      <td>1159.187986</td>\n      <td>18574.0</td>\n      <td>15085.0</td>\n    </tr>\n    <tr>\n      <th>4627</th>\n      <td>2020-10-23</td>\n      <td>23</td>\n      <td>10</td>\n      <td>2020</td>\n      <td>15085</td>\n      <td>53</td>\n      <td>Belgium</td>\n      <td>BEL</td>\n      <td>11455519.0</td>\n      <td>Europe</td>\n      <td>1240.423939</td>\n      <td>16103.0</td>\n      <td>14560.0</td>\n    </tr>\n    <tr>\n      <th>4626</th>\n      <td>2020-10-24</td>\n      <td>24</td>\n      <td>10</td>\n      <td>2020</td>\n      <td>14560</td>\n      <td>85</td>\n      <td>Belgium</td>\n      <td>BEL</td>\n      <td>11455519.0</td>\n      <td>Europe</td>\n      <td>1314.623982</td>\n      <td>15085.0</td>\n      <td>7187.0</td>\n    </tr>\n    <tr>\n      <th>4625</th>\n      <td>2020-10-25</td>\n      <td>25</td>\n      <td>10</td>\n      <td>2020</td>\n      <td>7187</td>\n      <td>70</td>\n      <td>Belgium</td>\n      <td>BEL</td>\n      <td>11455519.0</td>\n      <td>Europe</td>\n      <td>1373.783239</td>\n      <td>14560.0</td>\n      <td>NaN</td>\n    </tr>\n  </tbody>\n</table>\n</div>"
          },
          "metadata": {},
          "execution_count": 63
        }
      ]
    },
    {
      "cell_type": "code",
      "metadata": {
        "id": "YwjLW6JMVxGj",
        "outputId": "e2b0b6c1-a075-4301-d6bf-de89a1faa581",
        "colab": {
          "base_uri": "https://localhost:8080/",
          "height": 200
        }
      },
      "source": [
        "# Choose your own countries of interest\n",
        "some_countries = ['Austria', 'Belgium','France','Germany', 'Italy', 'Netherlands', 'Spain', 'United_Kingdom', 'United_States_of_America']\n",
        "extra = coviddata[coviddata['country'].isin(some_countries)]\n",
        "extra.head()\n",
        "\n"
      ],
      "execution_count": 64,
      "outputs": [
        {
          "output_type": "execute_result",
          "data": {
            "text/plain": [
              "        dateRep  day  month  year  cases  deaths  country  \\\n",
              "2758 2020-10-25   25     10  2020   2989       6  Austria   \n",
              "2759 2020-10-24   24     10  2020   3442      15  Austria   \n",
              "2760 2020-10-23   23     10  2020   2570      17  Austria   \n",
              "2761 2020-10-22   22     10  2020   2355      13  Austria   \n",
              "2762 2020-10-21   21     10  2020   1803       8  Austria   \n",
              "\n",
              "     countryterritoryCode  popData2019 continentExp  \\\n",
              "2758                  AUT    8858775.0       Europe   \n",
              "2759                  AUT    8858775.0       Europe   \n",
              "2760                  AUT    8858775.0       Europe   \n",
              "2761                  AUT    8858775.0       Europe   \n",
              "2762                  AUT    8858775.0       Europe   \n",
              "\n",
              "      cum_number_14_days_cases_per_100000  cases_previous_day  cases_next_day  \n",
              "2758                           283.165562              3442.0             NaN  \n",
              "2759                           259.595712              2570.0          2989.0  \n",
              "2760                           234.072995              2355.0          3442.0  \n",
              "2761                           218.845156              1803.0          2570.0  \n",
              "2762                           202.951311              1054.0          2355.0  "
            ],
            "text/html": "<div>\n<style scoped>\n    .dataframe tbody tr th:only-of-type {\n        vertical-align: middle;\n    }\n\n    .dataframe tbody tr th {\n        vertical-align: top;\n    }\n\n    .dataframe thead th {\n        text-align: right;\n    }\n</style>\n<table border=\"1\" class=\"dataframe\">\n  <thead>\n    <tr style=\"text-align: right;\">\n      <th></th>\n      <th>dateRep</th>\n      <th>day</th>\n      <th>month</th>\n      <th>year</th>\n      <th>cases</th>\n      <th>deaths</th>\n      <th>country</th>\n      <th>countryterritoryCode</th>\n      <th>popData2019</th>\n      <th>continentExp</th>\n      <th>cum_number_14_days_cases_per_100000</th>\n      <th>cases_previous_day</th>\n      <th>cases_next_day</th>\n    </tr>\n  </thead>\n  <tbody>\n    <tr>\n      <th>2758</th>\n      <td>2020-10-25</td>\n      <td>25</td>\n      <td>10</td>\n      <td>2020</td>\n      <td>2989</td>\n      <td>6</td>\n      <td>Austria</td>\n      <td>AUT</td>\n      <td>8858775.0</td>\n      <td>Europe</td>\n      <td>283.165562</td>\n      <td>3442.0</td>\n      <td>NaN</td>\n    </tr>\n    <tr>\n      <th>2759</th>\n      <td>2020-10-24</td>\n      <td>24</td>\n      <td>10</td>\n      <td>2020</td>\n      <td>3442</td>\n      <td>15</td>\n      <td>Austria</td>\n      <td>AUT</td>\n      <td>8858775.0</td>\n      <td>Europe</td>\n      <td>259.595712</td>\n      <td>2570.0</td>\n      <td>2989.0</td>\n    </tr>\n    <tr>\n      <th>2760</th>\n      <td>2020-10-23</td>\n      <td>23</td>\n      <td>10</td>\n      <td>2020</td>\n      <td>2570</td>\n      <td>17</td>\n      <td>Austria</td>\n      <td>AUT</td>\n      <td>8858775.0</td>\n      <td>Europe</td>\n      <td>234.072995</td>\n      <td>2355.0</td>\n      <td>3442.0</td>\n    </tr>\n    <tr>\n      <th>2761</th>\n      <td>2020-10-22</td>\n      <td>22</td>\n      <td>10</td>\n      <td>2020</td>\n      <td>2355</td>\n      <td>13</td>\n      <td>Austria</td>\n      <td>AUT</td>\n      <td>8858775.0</td>\n      <td>Europe</td>\n      <td>218.845156</td>\n      <td>1803.0</td>\n      <td>2570.0</td>\n    </tr>\n    <tr>\n      <th>2762</th>\n      <td>2020-10-21</td>\n      <td>21</td>\n      <td>10</td>\n      <td>2020</td>\n      <td>1803</td>\n      <td>8</td>\n      <td>Austria</td>\n      <td>AUT</td>\n      <td>8858775.0</td>\n      <td>Europe</td>\n      <td>202.951311</td>\n      <td>1054.0</td>\n      <td>2355.0</td>\n    </tr>\n  </tbody>\n</table>\n</div>"
          },
          "metadata": {},
          "execution_count": 64
        }
      ]
    },
    {
      "cell_type": "code",
      "metadata": {
        "id": "JkL4C4jxjQXU",
        "outputId": "ff75a92d-d3d1-4386-8d1a-d34e39863d37",
        "colab": {
          "base_uri": "https://localhost:8080/",
          "height": 307
        }
      },
      "source": [
        "# Show for some_countries a ranking (per country) of the days with the most new cases. \n",
        "# In SQL: ROW_NUMBER() over (PARTITION BY country ORDER BY cases DESC) as rank\n",
        "\n",
        "extra['rank'] = extra.sort_values(['cases'], ascending=False).groupby(['country']).cumcount() + 1\n",
        "extra.head()"
      ],
      "execution_count": 65,
      "outputs": [
        {
          "output_type": "execute_result",
          "data": {
            "text/plain": [
              "        dateRep  day  month  year  cases  deaths  country  \\\n",
              "2758 2020-10-25   25     10  2020   2989       6  Austria   \n",
              "2759 2020-10-24   24     10  2020   3442      15  Austria   \n",
              "2760 2020-10-23   23     10  2020   2570      17  Austria   \n",
              "2761 2020-10-22   22     10  2020   2355      13  Austria   \n",
              "2762 2020-10-21   21     10  2020   1803       8  Austria   \n",
              "\n",
              "     countryterritoryCode  popData2019 continentExp  \\\n",
              "2758                  AUT    8858775.0       Europe   \n",
              "2759                  AUT    8858775.0       Europe   \n",
              "2760                  AUT    8858775.0       Europe   \n",
              "2761                  AUT    8858775.0       Europe   \n",
              "2762                  AUT    8858775.0       Europe   \n",
              "\n",
              "      cum_number_14_days_cases_per_100000  cases_previous_day  cases_next_day  \\\n",
              "2758                           283.165562              3442.0             NaN   \n",
              "2759                           259.595712              2570.0          2989.0   \n",
              "2760                           234.072995              2355.0          3442.0   \n",
              "2761                           218.845156              1803.0          2570.0   \n",
              "2762                           202.951311              1054.0          2355.0   \n",
              "\n",
              "      rank  \n",
              "2758     2  \n",
              "2759     1  \n",
              "2760     3  \n",
              "2761     4  \n",
              "2762     6  "
            ],
            "text/html": "<div>\n<style scoped>\n    .dataframe tbody tr th:only-of-type {\n        vertical-align: middle;\n    }\n\n    .dataframe tbody tr th {\n        vertical-align: top;\n    }\n\n    .dataframe thead th {\n        text-align: right;\n    }\n</style>\n<table border=\"1\" class=\"dataframe\">\n  <thead>\n    <tr style=\"text-align: right;\">\n      <th></th>\n      <th>dateRep</th>\n      <th>day</th>\n      <th>month</th>\n      <th>year</th>\n      <th>cases</th>\n      <th>deaths</th>\n      <th>country</th>\n      <th>countryterritoryCode</th>\n      <th>popData2019</th>\n      <th>continentExp</th>\n      <th>cum_number_14_days_cases_per_100000</th>\n      <th>cases_previous_day</th>\n      <th>cases_next_day</th>\n      <th>rank</th>\n    </tr>\n  </thead>\n  <tbody>\n    <tr>\n      <th>2758</th>\n      <td>2020-10-25</td>\n      <td>25</td>\n      <td>10</td>\n      <td>2020</td>\n      <td>2989</td>\n      <td>6</td>\n      <td>Austria</td>\n      <td>AUT</td>\n      <td>8858775.0</td>\n      <td>Europe</td>\n      <td>283.165562</td>\n      <td>3442.0</td>\n      <td>NaN</td>\n      <td>2</td>\n    </tr>\n    <tr>\n      <th>2759</th>\n      <td>2020-10-24</td>\n      <td>24</td>\n      <td>10</td>\n      <td>2020</td>\n      <td>3442</td>\n      <td>15</td>\n      <td>Austria</td>\n      <td>AUT</td>\n      <td>8858775.0</td>\n      <td>Europe</td>\n      <td>259.595712</td>\n      <td>2570.0</td>\n      <td>2989.0</td>\n      <td>1</td>\n    </tr>\n    <tr>\n      <th>2760</th>\n      <td>2020-10-23</td>\n      <td>23</td>\n      <td>10</td>\n      <td>2020</td>\n      <td>2570</td>\n      <td>17</td>\n      <td>Austria</td>\n      <td>AUT</td>\n      <td>8858775.0</td>\n      <td>Europe</td>\n      <td>234.072995</td>\n      <td>2355.0</td>\n      <td>3442.0</td>\n      <td>3</td>\n    </tr>\n    <tr>\n      <th>2761</th>\n      <td>2020-10-22</td>\n      <td>22</td>\n      <td>10</td>\n      <td>2020</td>\n      <td>2355</td>\n      <td>13</td>\n      <td>Austria</td>\n      <td>AUT</td>\n      <td>8858775.0</td>\n      <td>Europe</td>\n      <td>218.845156</td>\n      <td>1803.0</td>\n      <td>2570.0</td>\n      <td>4</td>\n    </tr>\n    <tr>\n      <th>2762</th>\n      <td>2020-10-21</td>\n      <td>21</td>\n      <td>10</td>\n      <td>2020</td>\n      <td>1803</td>\n      <td>8</td>\n      <td>Austria</td>\n      <td>AUT</td>\n      <td>8858775.0</td>\n      <td>Europe</td>\n      <td>202.951311</td>\n      <td>1054.0</td>\n      <td>2355.0</td>\n      <td>6</td>\n    </tr>\n  </tbody>\n</table>\n</div>"
          },
          "metadata": {},
          "execution_count": 65
        }
      ]
    },
    {
      "cell_type": "code",
      "metadata": {
        "id": "BoqUE6_QiQ37",
        "outputId": "2670cbfa-d9a4-4f57-ecf2-b5a85a5869aa",
        "colab": {
          "base_uri": "https://localhost:8080/",
          "height": 504
        }
      },
      "source": [
        "# Show only the top 5 days per country\n",
        "extra[extra['rank'] <= 5].sort_values(by=['country','rank'], ascending=True).head(15)"
      ],
      "execution_count": 66,
      "outputs": [
        {
          "output_type": "execute_result",
          "data": {
            "text/plain": [
              "         dateRep  day  month  year  cases  deaths  country  \\\n",
              "2759  2020-10-24   24     10  2020   3442      15  Austria   \n",
              "2758  2020-10-25   25     10  2020   2989       6  Austria   \n",
              "2760  2020-10-23   23     10  2020   2570      17  Austria   \n",
              "2761  2020-10-22   22     10  2020   2355      13  Austria   \n",
              "2765  2020-10-18   18     10  2020   2040       6  Austria   \n",
              "4629  2020-10-21   21     10  2020  18574      47  Belgium   \n",
              "4628  2020-10-22   22     10  2020  16103      55  Belgium   \n",
              "4627  2020-10-23   23     10  2020  15085      53  Belgium   \n",
              "4630  2020-10-20   20     10  2020  15032      49  Belgium   \n",
              "4626  2020-10-24   24     10  2020  14560      85  Belgium   \n",
              "17054 2020-10-25   25     10  2020  45422     137   France   \n",
              "17055 2020-10-24   24     10  2020  42032     298   France   \n",
              "17056 2020-10-23   23     10  2020  41622     162   France   \n",
              "17061 2020-10-18   18     10  2020  32427      89   France   \n",
              "17063 2020-10-16   16     10  2020  30621      88   France   \n",
              "\n",
              "      countryterritoryCode  popData2019 continentExp  \\\n",
              "2759                   AUT    8858775.0       Europe   \n",
              "2758                   AUT    8858775.0       Europe   \n",
              "2760                   AUT    8858775.0       Europe   \n",
              "2761                   AUT    8858775.0       Europe   \n",
              "2765                   AUT    8858775.0       Europe   \n",
              "4629                   BEL   11455519.0       Europe   \n",
              "4628                   BEL   11455519.0       Europe   \n",
              "4627                   BEL   11455519.0       Europe   \n",
              "4630                   BEL   11455519.0       Europe   \n",
              "4626                   BEL   11455519.0       Europe   \n",
              "17054                  FRA   67012883.0       Europe   \n",
              "17055                  FRA   67012883.0       Europe   \n",
              "17056                  FRA   67012883.0       Europe   \n",
              "17061                  FRA   67012883.0       Europe   \n",
              "17063                  FRA   67012883.0       Europe   \n",
              "\n",
              "       cum_number_14_days_cases_per_100000  cases_previous_day  \\\n",
              "2759                            259.595712              2570.0   \n",
              "2758                            283.165562              3442.0   \n",
              "2760                            234.072995              2355.0   \n",
              "2761                            218.845156              1803.0   \n",
              "2765                            185.985083              1691.0   \n",
              "4629                           1046.691992             15032.0   \n",
              "4628                           1159.187986             18574.0   \n",
              "4627                           1240.423939             16103.0   \n",
              "4630                            961.318296              4276.0   \n",
              "4626                           1314.623982             15085.0   \n",
              "17054                           548.587053             42032.0   \n",
              "17055                           520.941623             41622.0   \n",
              "17056                           488.570235             26676.0   \n",
              "17061                           388.838666             25086.0   \n",
              "17063                           346.469201             22591.0   \n",
              "\n",
              "       cases_next_day  rank  \n",
              "2759           2989.0     1  \n",
              "2758              NaN     2  \n",
              "2760           3442.0     3  \n",
              "2761           2570.0     4  \n",
              "2765           1062.0     5  \n",
              "4629          16103.0     1  \n",
              "4628          15085.0     2  \n",
              "4627          14560.0     3  \n",
              "4630          18574.0     4  \n",
              "4626           7187.0     5  \n",
              "17054             NaN     1  \n",
              "17055         45422.0     2  \n",
              "17056         42032.0     3  \n",
              "17061         29837.0     4  \n",
              "17063         25086.0     5  "
            ],
            "text/html": "<div>\n<style scoped>\n    .dataframe tbody tr th:only-of-type {\n        vertical-align: middle;\n    }\n\n    .dataframe tbody tr th {\n        vertical-align: top;\n    }\n\n    .dataframe thead th {\n        text-align: right;\n    }\n</style>\n<table border=\"1\" class=\"dataframe\">\n  <thead>\n    <tr style=\"text-align: right;\">\n      <th></th>\n      <th>dateRep</th>\n      <th>day</th>\n      <th>month</th>\n      <th>year</th>\n      <th>cases</th>\n      <th>deaths</th>\n      <th>country</th>\n      <th>countryterritoryCode</th>\n      <th>popData2019</th>\n      <th>continentExp</th>\n      <th>cum_number_14_days_cases_per_100000</th>\n      <th>cases_previous_day</th>\n      <th>cases_next_day</th>\n      <th>rank</th>\n    </tr>\n  </thead>\n  <tbody>\n    <tr>\n      <th>2759</th>\n      <td>2020-10-24</td>\n      <td>24</td>\n      <td>10</td>\n      <td>2020</td>\n      <td>3442</td>\n      <td>15</td>\n      <td>Austria</td>\n      <td>AUT</td>\n      <td>8858775.0</td>\n      <td>Europe</td>\n      <td>259.595712</td>\n      <td>2570.0</td>\n      <td>2989.0</td>\n      <td>1</td>\n    </tr>\n    <tr>\n      <th>2758</th>\n      <td>2020-10-25</td>\n      <td>25</td>\n      <td>10</td>\n      <td>2020</td>\n      <td>2989</td>\n      <td>6</td>\n      <td>Austria</td>\n      <td>AUT</td>\n      <td>8858775.0</td>\n      <td>Europe</td>\n      <td>283.165562</td>\n      <td>3442.0</td>\n      <td>NaN</td>\n      <td>2</td>\n    </tr>\n    <tr>\n      <th>2760</th>\n      <td>2020-10-23</td>\n      <td>23</td>\n      <td>10</td>\n      <td>2020</td>\n      <td>2570</td>\n      <td>17</td>\n      <td>Austria</td>\n      <td>AUT</td>\n      <td>8858775.0</td>\n      <td>Europe</td>\n      <td>234.072995</td>\n      <td>2355.0</td>\n      <td>3442.0</td>\n      <td>3</td>\n    </tr>\n    <tr>\n      <th>2761</th>\n      <td>2020-10-22</td>\n      <td>22</td>\n      <td>10</td>\n      <td>2020</td>\n      <td>2355</td>\n      <td>13</td>\n      <td>Austria</td>\n      <td>AUT</td>\n      <td>8858775.0</td>\n      <td>Europe</td>\n      <td>218.845156</td>\n      <td>1803.0</td>\n      <td>2570.0</td>\n      <td>4</td>\n    </tr>\n    <tr>\n      <th>2765</th>\n      <td>2020-10-18</td>\n      <td>18</td>\n      <td>10</td>\n      <td>2020</td>\n      <td>2040</td>\n      <td>6</td>\n      <td>Austria</td>\n      <td>AUT</td>\n      <td>8858775.0</td>\n      <td>Europe</td>\n      <td>185.985083</td>\n      <td>1691.0</td>\n      <td>1062.0</td>\n      <td>5</td>\n    </tr>\n    <tr>\n      <th>4629</th>\n      <td>2020-10-21</td>\n      <td>21</td>\n      <td>10</td>\n      <td>2020</td>\n      <td>18574</td>\n      <td>47</td>\n      <td>Belgium</td>\n      <td>BEL</td>\n      <td>11455519.0</td>\n      <td>Europe</td>\n      <td>1046.691992</td>\n      <td>15032.0</td>\n      <td>16103.0</td>\n      <td>1</td>\n    </tr>\n    <tr>\n      <th>4628</th>\n      <td>2020-10-22</td>\n      <td>22</td>\n      <td>10</td>\n      <td>2020</td>\n      <td>16103</td>\n      <td>55</td>\n      <td>Belgium</td>\n      <td>BEL</td>\n      <td>11455519.0</td>\n      <td>Europe</td>\n      <td>1159.187986</td>\n      <td>18574.0</td>\n      <td>15085.0</td>\n      <td>2</td>\n    </tr>\n    <tr>\n      <th>4627</th>\n      <td>2020-10-23</td>\n      <td>23</td>\n      <td>10</td>\n      <td>2020</td>\n      <td>15085</td>\n      <td>53</td>\n      <td>Belgium</td>\n      <td>BEL</td>\n      <td>11455519.0</td>\n      <td>Europe</td>\n      <td>1240.423939</td>\n      <td>16103.0</td>\n      <td>14560.0</td>\n      <td>3</td>\n    </tr>\n    <tr>\n      <th>4630</th>\n      <td>2020-10-20</td>\n      <td>20</td>\n      <td>10</td>\n      <td>2020</td>\n      <td>15032</td>\n      <td>49</td>\n      <td>Belgium</td>\n      <td>BEL</td>\n      <td>11455519.0</td>\n      <td>Europe</td>\n      <td>961.318296</td>\n      <td>4276.0</td>\n      <td>18574.0</td>\n      <td>4</td>\n    </tr>\n    <tr>\n      <th>4626</th>\n      <td>2020-10-24</td>\n      <td>24</td>\n      <td>10</td>\n      <td>2020</td>\n      <td>14560</td>\n      <td>85</td>\n      <td>Belgium</td>\n      <td>BEL</td>\n      <td>11455519.0</td>\n      <td>Europe</td>\n      <td>1314.623982</td>\n      <td>15085.0</td>\n      <td>7187.0</td>\n      <td>5</td>\n    </tr>\n    <tr>\n      <th>17054</th>\n      <td>2020-10-25</td>\n      <td>25</td>\n      <td>10</td>\n      <td>2020</td>\n      <td>45422</td>\n      <td>137</td>\n      <td>France</td>\n      <td>FRA</td>\n      <td>67012883.0</td>\n      <td>Europe</td>\n      <td>548.587053</td>\n      <td>42032.0</td>\n      <td>NaN</td>\n      <td>1</td>\n    </tr>\n    <tr>\n      <th>17055</th>\n      <td>2020-10-24</td>\n      <td>24</td>\n      <td>10</td>\n      <td>2020</td>\n      <td>42032</td>\n      <td>298</td>\n      <td>France</td>\n      <td>FRA</td>\n      <td>67012883.0</td>\n      <td>Europe</td>\n      <td>520.941623</td>\n      <td>41622.0</td>\n      <td>45422.0</td>\n      <td>2</td>\n    </tr>\n    <tr>\n      <th>17056</th>\n      <td>2020-10-23</td>\n      <td>23</td>\n      <td>10</td>\n      <td>2020</td>\n      <td>41622</td>\n      <td>162</td>\n      <td>France</td>\n      <td>FRA</td>\n      <td>67012883.0</td>\n      <td>Europe</td>\n      <td>488.570235</td>\n      <td>26676.0</td>\n      <td>42032.0</td>\n      <td>3</td>\n    </tr>\n    <tr>\n      <th>17061</th>\n      <td>2020-10-18</td>\n      <td>18</td>\n      <td>10</td>\n      <td>2020</td>\n      <td>32427</td>\n      <td>89</td>\n      <td>France</td>\n      <td>FRA</td>\n      <td>67012883.0</td>\n      <td>Europe</td>\n      <td>388.838666</td>\n      <td>25086.0</td>\n      <td>29837.0</td>\n      <td>4</td>\n    </tr>\n    <tr>\n      <th>17063</th>\n      <td>2020-10-16</td>\n      <td>16</td>\n      <td>10</td>\n      <td>2020</td>\n      <td>30621</td>\n      <td>88</td>\n      <td>France</td>\n      <td>FRA</td>\n      <td>67012883.0</td>\n      <td>Europe</td>\n      <td>346.469201</td>\n      <td>22591.0</td>\n      <td>25086.0</td>\n      <td>5</td>\n    </tr>\n  </tbody>\n</table>\n</div>"
          },
          "metadata": {},
          "execution_count": 66
        }
      ]
    },
    {
      "cell_type": "code",
      "metadata": {
        "id": "9YJrBiYC1qp3",
        "outputId": "c55c02f7-a4ab-4eb7-cffb-1e5ca71af007",
        "colab": {
          "base_uri": "https://localhost:8080/",
          "height": 307
        }
      },
      "source": [
        "# Running Average\n",
        "# Calculate the average number of cases registered in the past week\n",
        "# In SQL: AVG(cases) OVER (ORDER BY dateRep ROWS BETWEEN 6 PRECEDING AND CURRENT ROW) as avg_number_cases_past_week\n",
        "extra['avg_number_cases_past_week'] = extra.sort_values(by=['dateRep'], ascending=True).groupby('country')['cases'].rolling(7).mean().reset_index(drop=True,level=0)\n",
        "# drop = True: drops index from result so new column fits into dataframe\n",
        "# level = 0: drops only level 0 from index, otherwise all levels are removed\n",
        "extra[extra['country'] == 'Belgium'].head()\n"
      ],
      "execution_count": 81,
      "outputs": [
        {
          "output_type": "execute_result",
          "data": {
            "text/plain": [
              "        dateRep  day  month  year  cases  deaths  country  \\\n",
              "4625 2020-10-25   25     10  2020   7187      70  Belgium   \n",
              "4626 2020-10-24   24     10  2020  14560      85  Belgium   \n",
              "4627 2020-10-23   23     10  2020  15085      53  Belgium   \n",
              "4628 2020-10-22   22     10  2020  16103      55  Belgium   \n",
              "4629 2020-10-21   21     10  2020  18574      47  Belgium   \n",
              "\n",
              "     countryterritoryCode  popData2019 continentExp  \\\n",
              "4625                  BEL   11455519.0       Europe   \n",
              "4626                  BEL   11455519.0       Europe   \n",
              "4627                  BEL   11455519.0       Europe   \n",
              "4628                  BEL   11455519.0       Europe   \n",
              "4629                  BEL   11455519.0       Europe   \n",
              "\n",
              "      cum_number_14_days_cases_per_100000  cases_previous_day  cases_next_day  \\\n",
              "4625                          1373.783239             14560.0             NaN   \n",
              "4626                          1314.623982             15085.0          7187.0   \n",
              "4627                          1240.423939             16103.0         14560.0   \n",
              "4628                          1159.187986             18574.0         15085.0   \n",
              "4629                          1046.691992             15032.0         16103.0   \n",
              "\n",
              "      rank  avg_number_cases_past_week  \n",
              "4625    13                12973.857143  \n",
              "4626     5                13052.000000  \n",
              "4627     3                12846.285714  \n",
              "4628     2                12357.857143  \n",
              "4629     1                11805.857143  "
            ],
            "text/html": "<div>\n<style scoped>\n    .dataframe tbody tr th:only-of-type {\n        vertical-align: middle;\n    }\n\n    .dataframe tbody tr th {\n        vertical-align: top;\n    }\n\n    .dataframe thead th {\n        text-align: right;\n    }\n</style>\n<table border=\"1\" class=\"dataframe\">\n  <thead>\n    <tr style=\"text-align: right;\">\n      <th></th>\n      <th>dateRep</th>\n      <th>day</th>\n      <th>month</th>\n      <th>year</th>\n      <th>cases</th>\n      <th>deaths</th>\n      <th>country</th>\n      <th>countryterritoryCode</th>\n      <th>popData2019</th>\n      <th>continentExp</th>\n      <th>cum_number_14_days_cases_per_100000</th>\n      <th>cases_previous_day</th>\n      <th>cases_next_day</th>\n      <th>rank</th>\n      <th>avg_number_cases_past_week</th>\n    </tr>\n  </thead>\n  <tbody>\n    <tr>\n      <th>4625</th>\n      <td>2020-10-25</td>\n      <td>25</td>\n      <td>10</td>\n      <td>2020</td>\n      <td>7187</td>\n      <td>70</td>\n      <td>Belgium</td>\n      <td>BEL</td>\n      <td>11455519.0</td>\n      <td>Europe</td>\n      <td>1373.783239</td>\n      <td>14560.0</td>\n      <td>NaN</td>\n      <td>13</td>\n      <td>12973.857143</td>\n    </tr>\n    <tr>\n      <th>4626</th>\n      <td>2020-10-24</td>\n      <td>24</td>\n      <td>10</td>\n      <td>2020</td>\n      <td>14560</td>\n      <td>85</td>\n      <td>Belgium</td>\n      <td>BEL</td>\n      <td>11455519.0</td>\n      <td>Europe</td>\n      <td>1314.623982</td>\n      <td>15085.0</td>\n      <td>7187.0</td>\n      <td>5</td>\n      <td>13052.000000</td>\n    </tr>\n    <tr>\n      <th>4627</th>\n      <td>2020-10-23</td>\n      <td>23</td>\n      <td>10</td>\n      <td>2020</td>\n      <td>15085</td>\n      <td>53</td>\n      <td>Belgium</td>\n      <td>BEL</td>\n      <td>11455519.0</td>\n      <td>Europe</td>\n      <td>1240.423939</td>\n      <td>16103.0</td>\n      <td>14560.0</td>\n      <td>3</td>\n      <td>12846.285714</td>\n    </tr>\n    <tr>\n      <th>4628</th>\n      <td>2020-10-22</td>\n      <td>22</td>\n      <td>10</td>\n      <td>2020</td>\n      <td>16103</td>\n      <td>55</td>\n      <td>Belgium</td>\n      <td>BEL</td>\n      <td>11455519.0</td>\n      <td>Europe</td>\n      <td>1159.187986</td>\n      <td>18574.0</td>\n      <td>15085.0</td>\n      <td>2</td>\n      <td>12357.857143</td>\n    </tr>\n    <tr>\n      <th>4629</th>\n      <td>2020-10-21</td>\n      <td>21</td>\n      <td>10</td>\n      <td>2020</td>\n      <td>18574</td>\n      <td>47</td>\n      <td>Belgium</td>\n      <td>BEL</td>\n      <td>11455519.0</td>\n      <td>Europe</td>\n      <td>1046.691992</td>\n      <td>15032.0</td>\n      <td>16103.0</td>\n      <td>1</td>\n      <td>11805.857143</td>\n    </tr>\n  </tbody>\n</table>\n</div>"
          },
          "metadata": {},
          "execution_count": 81
        }
      ]
    },
    {
      "cell_type": "code",
      "metadata": {
        "id": "NeklGgrmx4CQ",
        "outputId": "8423d915-8df2-47fa-a8e1-02b571848d5f",
        "colab": {
          "base_uri": "https://localhost:8080/",
          "height": 307
        }
      },
      "source": [
        "# Calculate the average number of cases registered in the past week per 100000 inhabitants\n",
        "extra['avg_number_cases_past_week_per_100000'] = extra['avg_number_cases_past_week']*100000/extra['popData2019']\n",
        "extra"
      ],
      "execution_count": 87,
      "outputs": [
        {
          "output_type": "execute_result",
          "data": {
            "text/plain": [
              "         dateRep  day  month  year  cases  deaths                   country  \\\n",
              "2758  2020-10-25   25     10  2020   2989       6                   Austria   \n",
              "2759  2020-10-24   24     10  2020   3442      15                   Austria   \n",
              "2760  2020-10-23   23     10  2020   2570      17                   Austria   \n",
              "2761  2020-10-22   22     10  2020   2355      13                   Austria   \n",
              "2762  2020-10-21   21     10  2020   1803       8                   Austria   \n",
              "...          ...  ...    ...   ...    ...     ...                       ...   \n",
              "49630 2020-01-17   17      1  2020      0       0  United_States_of_America   \n",
              "49631 2020-01-16   16      1  2020      0       0  United_States_of_America   \n",
              "49632 2020-01-15   15      1  2020      0       0  United_States_of_America   \n",
              "49633 2020-01-14   14      1  2020      0       0  United_States_of_America   \n",
              "49634 2020-01-13   13      1  2020      0       0  United_States_of_America   \n",
              "\n",
              "      countryterritoryCode  popData2019 continentExp  \\\n",
              "2758                   AUT    8858775.0       Europe   \n",
              "2759                   AUT    8858775.0       Europe   \n",
              "2760                   AUT    8858775.0       Europe   \n",
              "2761                   AUT    8858775.0       Europe   \n",
              "2762                   AUT    8858775.0       Europe   \n",
              "...                    ...          ...          ...   \n",
              "49630                  USA  329064917.0      America   \n",
              "49631                  USA  329064917.0      America   \n",
              "49632                  USA  329064917.0      America   \n",
              "49633                  USA  329064917.0      America   \n",
              "49634                  USA  329064917.0      America   \n",
              "\n",
              "       cum_number_14_days_cases_per_100000  cases_previous_day  \\\n",
              "2758                            283.165562              3442.0   \n",
              "2759                            259.595712              2570.0   \n",
              "2760                            234.072995              2355.0   \n",
              "2761                            218.845156              1803.0   \n",
              "2762                            202.951311              1054.0   \n",
              "...                                    ...                 ...   \n",
              "49630                             0.000000                 0.0   \n",
              "49631                             0.000000                 0.0   \n",
              "49632                             0.000000                 0.0   \n",
              "49633                             0.000000                 0.0   \n",
              "49634                             0.000000                 NaN   \n",
              "\n",
              "       cases_next_day  rank  avg_number_cases_past_week  \\\n",
              "2758              NaN     2                 2182.142857   \n",
              "2759           2989.0     1                 2046.571429   \n",
              "2760           3442.0     3                 1796.428571   \n",
              "2761           2570.0     4                 1628.714286   \n",
              "2762           2355.0     6                 1521.714286   \n",
              "...               ...   ...                         ...   \n",
              "49630             0.0   258                         NaN   \n",
              "49631             0.0   262                         NaN   \n",
              "49632             0.0   257                         NaN   \n",
              "49633             0.0   263                         NaN   \n",
              "49634             0.0   287                         NaN   \n",
              "\n",
              "       avg_number_cases_past_week_per_100000  \n",
              "2758                               24.632558  \n",
              "2759                               23.102194  \n",
              "2760                               20.278521  \n",
              "2761                               18.385322  \n",
              "2762                               17.177480  \n",
              "...                                      ...  \n",
              "49630                                    NaN  \n",
              "49631                                    NaN  \n",
              "49632                                    NaN  \n",
              "49633                                    NaN  \n",
              "49634                                    NaN  \n",
              "\n",
              "[2583 rows x 16 columns]"
            ],
            "text/html": "<div>\n<style scoped>\n    .dataframe tbody tr th:only-of-type {\n        vertical-align: middle;\n    }\n\n    .dataframe tbody tr th {\n        vertical-align: top;\n    }\n\n    .dataframe thead th {\n        text-align: right;\n    }\n</style>\n<table border=\"1\" class=\"dataframe\">\n  <thead>\n    <tr style=\"text-align: right;\">\n      <th></th>\n      <th>dateRep</th>\n      <th>day</th>\n      <th>month</th>\n      <th>year</th>\n      <th>cases</th>\n      <th>deaths</th>\n      <th>country</th>\n      <th>countryterritoryCode</th>\n      <th>popData2019</th>\n      <th>continentExp</th>\n      <th>cum_number_14_days_cases_per_100000</th>\n      <th>cases_previous_day</th>\n      <th>cases_next_day</th>\n      <th>rank</th>\n      <th>avg_number_cases_past_week</th>\n      <th>avg_number_cases_past_week_per_100000</th>\n    </tr>\n  </thead>\n  <tbody>\n    <tr>\n      <th>2758</th>\n      <td>2020-10-25</td>\n      <td>25</td>\n      <td>10</td>\n      <td>2020</td>\n      <td>2989</td>\n      <td>6</td>\n      <td>Austria</td>\n      <td>AUT</td>\n      <td>8858775.0</td>\n      <td>Europe</td>\n      <td>283.165562</td>\n      <td>3442.0</td>\n      <td>NaN</td>\n      <td>2</td>\n      <td>2182.142857</td>\n      <td>24.632558</td>\n    </tr>\n    <tr>\n      <th>2759</th>\n      <td>2020-10-24</td>\n      <td>24</td>\n      <td>10</td>\n      <td>2020</td>\n      <td>3442</td>\n      <td>15</td>\n      <td>Austria</td>\n      <td>AUT</td>\n      <td>8858775.0</td>\n      <td>Europe</td>\n      <td>259.595712</td>\n      <td>2570.0</td>\n      <td>2989.0</td>\n      <td>1</td>\n      <td>2046.571429</td>\n      <td>23.102194</td>\n    </tr>\n    <tr>\n      <th>2760</th>\n      <td>2020-10-23</td>\n      <td>23</td>\n      <td>10</td>\n      <td>2020</td>\n      <td>2570</td>\n      <td>17</td>\n      <td>Austria</td>\n      <td>AUT</td>\n      <td>8858775.0</td>\n      <td>Europe</td>\n      <td>234.072995</td>\n      <td>2355.0</td>\n      <td>3442.0</td>\n      <td>3</td>\n      <td>1796.428571</td>\n      <td>20.278521</td>\n    </tr>\n    <tr>\n      <th>2761</th>\n      <td>2020-10-22</td>\n      <td>22</td>\n      <td>10</td>\n      <td>2020</td>\n      <td>2355</td>\n      <td>13</td>\n      <td>Austria</td>\n      <td>AUT</td>\n      <td>8858775.0</td>\n      <td>Europe</td>\n      <td>218.845156</td>\n      <td>1803.0</td>\n      <td>2570.0</td>\n      <td>4</td>\n      <td>1628.714286</td>\n      <td>18.385322</td>\n    </tr>\n    <tr>\n      <th>2762</th>\n      <td>2020-10-21</td>\n      <td>21</td>\n      <td>10</td>\n      <td>2020</td>\n      <td>1803</td>\n      <td>8</td>\n      <td>Austria</td>\n      <td>AUT</td>\n      <td>8858775.0</td>\n      <td>Europe</td>\n      <td>202.951311</td>\n      <td>1054.0</td>\n      <td>2355.0</td>\n      <td>6</td>\n      <td>1521.714286</td>\n      <td>17.177480</td>\n    </tr>\n    <tr>\n      <th>...</th>\n      <td>...</td>\n      <td>...</td>\n      <td>...</td>\n      <td>...</td>\n      <td>...</td>\n      <td>...</td>\n      <td>...</td>\n      <td>...</td>\n      <td>...</td>\n      <td>...</td>\n      <td>...</td>\n      <td>...</td>\n      <td>...</td>\n      <td>...</td>\n      <td>...</td>\n      <td>...</td>\n    </tr>\n    <tr>\n      <th>49630</th>\n      <td>2020-01-17</td>\n      <td>17</td>\n      <td>1</td>\n      <td>2020</td>\n      <td>0</td>\n      <td>0</td>\n      <td>United_States_of_America</td>\n      <td>USA</td>\n      <td>329064917.0</td>\n      <td>America</td>\n      <td>0.000000</td>\n      <td>0.0</td>\n      <td>0.0</td>\n      <td>258</td>\n      <td>NaN</td>\n      <td>NaN</td>\n    </tr>\n    <tr>\n      <th>49631</th>\n      <td>2020-01-16</td>\n      <td>16</td>\n      <td>1</td>\n      <td>2020</td>\n      <td>0</td>\n      <td>0</td>\n      <td>United_States_of_America</td>\n      <td>USA</td>\n      <td>329064917.0</td>\n      <td>America</td>\n      <td>0.000000</td>\n      <td>0.0</td>\n      <td>0.0</td>\n      <td>262</td>\n      <td>NaN</td>\n      <td>NaN</td>\n    </tr>\n    <tr>\n      <th>49632</th>\n      <td>2020-01-15</td>\n      <td>15</td>\n      <td>1</td>\n      <td>2020</td>\n      <td>0</td>\n      <td>0</td>\n      <td>United_States_of_America</td>\n      <td>USA</td>\n      <td>329064917.0</td>\n      <td>America</td>\n      <td>0.000000</td>\n      <td>0.0</td>\n      <td>0.0</td>\n      <td>257</td>\n      <td>NaN</td>\n      <td>NaN</td>\n    </tr>\n    <tr>\n      <th>49633</th>\n      <td>2020-01-14</td>\n      <td>14</td>\n      <td>1</td>\n      <td>2020</td>\n      <td>0</td>\n      <td>0</td>\n      <td>United_States_of_America</td>\n      <td>USA</td>\n      <td>329064917.0</td>\n      <td>America</td>\n      <td>0.000000</td>\n      <td>0.0</td>\n      <td>0.0</td>\n      <td>263</td>\n      <td>NaN</td>\n      <td>NaN</td>\n    </tr>\n    <tr>\n      <th>49634</th>\n      <td>2020-01-13</td>\n      <td>13</td>\n      <td>1</td>\n      <td>2020</td>\n      <td>0</td>\n      <td>0</td>\n      <td>United_States_of_America</td>\n      <td>USA</td>\n      <td>329064917.0</td>\n      <td>America</td>\n      <td>0.000000</td>\n      <td>NaN</td>\n      <td>0.0</td>\n      <td>287</td>\n      <td>NaN</td>\n      <td>NaN</td>\n    </tr>\n  </tbody>\n</table>\n<p>2583 rows × 16 columns</p>\n</div>"
          },
          "metadata": {},
          "execution_count": 87
        }
      ]
    },
    {
      "source": [
        "### Matplotlib\n",
        "**Matplotlib** is the most commonly used Python library for visualizing data. See https://jakevdp.github.io/PythonDataScienceHandbook/, a free online book by Jake Van der Plas, that covers a.o. pandas, matplotlib and machine learning."
      ],
      "cell_type": "markdown",
      "metadata": {}
    },
    {
      "cell_type": "code",
      "metadata": {
        "id": "2wzV4n2wtwV5"
      },
      "source": [
        "import matplotlib.pyplot as plt \n",
        "%matplotlib inline"
      ],
      "execution_count": 88,
      "outputs": []
    },
    {
      "cell_type": "code",
      "metadata": {
        "id": "p0d1E-g6xS0C",
        "outputId": "814511a7-73b2-4630-a47d-0643be2dd6b4",
        "colab": {
          "base_uri": "https://localhost:8080/",
          "height": 200
        }
      },
      "source": [
        "# We first want to show the Belgian data\n",
        "# We could write it like this\n",
        "# df_plot = extra[extra['country'] == 'Belgium']\n",
        "# But we can also use the .loc operator\n",
        "\n",
        "df_plot = extra.loc[extra['country'] == 'Belgium',['dateRep','avg_number_cases_past_week_per_100000']]\n",
        "df_plot.head()"
      ],
      "execution_count": 89,
      "outputs": [
        {
          "output_type": "execute_result",
          "data": {
            "text/plain": [
              "        dateRep  avg_number_cases_past_week_per_100000\n",
              "4625 2020-10-25                             113.254206\n",
              "4626 2020-10-24                             113.936348\n",
              "4627 2020-10-23                             112.140582\n",
              "4628 2020-10-22                             107.876886\n",
              "4629 2020-10-21                             103.058248"
            ],
            "text/html": "<div>\n<style scoped>\n    .dataframe tbody tr th:only-of-type {\n        vertical-align: middle;\n    }\n\n    .dataframe tbody tr th {\n        vertical-align: top;\n    }\n\n    .dataframe thead th {\n        text-align: right;\n    }\n</style>\n<table border=\"1\" class=\"dataframe\">\n  <thead>\n    <tr style=\"text-align: right;\">\n      <th></th>\n      <th>dateRep</th>\n      <th>avg_number_cases_past_week_per_100000</th>\n    </tr>\n  </thead>\n  <tbody>\n    <tr>\n      <th>4625</th>\n      <td>2020-10-25</td>\n      <td>113.254206</td>\n    </tr>\n    <tr>\n      <th>4626</th>\n      <td>2020-10-24</td>\n      <td>113.936348</td>\n    </tr>\n    <tr>\n      <th>4627</th>\n      <td>2020-10-23</td>\n      <td>112.140582</td>\n    </tr>\n    <tr>\n      <th>4628</th>\n      <td>2020-10-22</td>\n      <td>107.876886</td>\n    </tr>\n    <tr>\n      <th>4629</th>\n      <td>2020-10-21</td>\n      <td>103.058248</td>\n    </tr>\n  </tbody>\n</table>\n</div>"
          },
          "metadata": {},
          "execution_count": 89
        }
      ]
    },
    {
      "cell_type": "code",
      "metadata": {
        "id": "Ew-jKV3EvRIw",
        "outputId": "2c7ba2aa-47fc-48ba-9eb6-eec719b229ed",
        "colab": {
          "base_uri": "https://localhost:8080/",
          "height": 338
        }
      },
      "source": [
        "plt.subplots(figsize=(15,5))\n",
        "plt.plot(df_plot['dateRep'],df_plot['avg_number_cases_past_week_per_100000'],label = \"Belgium\")"
      ],
      "execution_count": 90,
      "outputs": [
        {
          "output_type": "execute_result",
          "data": {
            "text/plain": [
              "[<matplotlib.lines.Line2D at 0x28d5bd83fa0>]"
            ]
          },
          "metadata": {},
          "execution_count": 90
        },
        {
          "output_type": "display_data",
          "data": {
            "text/plain": "<Figure size 1080x360 with 1 Axes>",
            "image/svg+xml": "<?xml version=\"1.0\" encoding=\"utf-8\" standalone=\"no\"?>\r\n<!DOCTYPE svg PUBLIC \"-//W3C//DTD SVG 1.1//EN\"\r\n  \"http://www.w3.org/Graphics/SVG/1.1/DTD/svg11.dtd\">\r\n<!-- Created with matplotlib (https://matplotlib.org/) -->\r\n<svg height=\"302.878125pt\" version=\"1.1\" viewBox=\"0 0 879.356179 302.878125\" width=\"879.356179pt\" xmlns=\"http://www.w3.org/2000/svg\" xmlns:xlink=\"http://www.w3.org/1999/xlink\">\r\n <defs>\r\n  <style type=\"text/css\">\r\n*{stroke-linecap:butt;stroke-linejoin:round;}\r\n  </style>\r\n </defs>\r\n <g id=\"figure_1\">\r\n  <g id=\"patch_1\">\r\n   <path d=\"M 0 302.878125 \r\nL 879.356179 302.878125 \r\nL 879.356179 0 \r\nL 0 0 \r\nz\r\n\" style=\"fill:none;\"/>\r\n  </g>\r\n  <g id=\"axes_1\">\r\n   <g id=\"patch_2\">\r\n    <path d=\"M 33.2875 279 \r\nL 870.2875 279 \r\nL 870.2875 7.2 \r\nL 33.2875 7.2 \r\nz\r\n\" style=\"fill:#ffffff;\"/>\r\n   </g>\r\n   <g id=\"matplotlib.axis_1\">\r\n    <g id=\"xtick_1\">\r\n     <g id=\"line2d_1\">\r\n      <defs>\r\n       <path d=\"M 0 0 \r\nL 0 3.5 \r\n\" id=\"m5d1c2cf8b5\" style=\"stroke:#000000;stroke-width:0.8;\"/>\r\n      </defs>\r\n      <g>\r\n       <use style=\"stroke:#000000;stroke-width:0.8;\" x=\"106.660877\" xlink:href=\"#m5d1c2cf8b5\" y=\"279\"/>\r\n      </g>\r\n     </g>\r\n     <g id=\"text_1\">\r\n      <!-- 2020-02 -->\r\n      <defs>\r\n       <path d=\"M 19.1875 8.296875 \r\nL 53.609375 8.296875 \r\nL 53.609375 0 \r\nL 7.328125 0 \r\nL 7.328125 8.296875 \r\nQ 12.9375 14.109375 22.625 23.890625 \r\nQ 32.328125 33.6875 34.8125 36.53125 \r\nQ 39.546875 41.84375 41.421875 45.53125 \r\nQ 43.3125 49.21875 43.3125 52.78125 \r\nQ 43.3125 58.59375 39.234375 62.25 \r\nQ 35.15625 65.921875 28.609375 65.921875 \r\nQ 23.96875 65.921875 18.8125 64.3125 \r\nQ 13.671875 62.703125 7.8125 59.421875 \r\nL 7.8125 69.390625 \r\nQ 13.765625 71.78125 18.9375 73 \r\nQ 24.125 74.21875 28.421875 74.21875 \r\nQ 39.75 74.21875 46.484375 68.546875 \r\nQ 53.21875 62.890625 53.21875 53.421875 \r\nQ 53.21875 48.921875 51.53125 44.890625 \r\nQ 49.859375 40.875 45.40625 35.40625 \r\nQ 44.1875 33.984375 37.640625 27.21875 \r\nQ 31.109375 20.453125 19.1875 8.296875 \r\nz\r\n\" id=\"DejaVuSans-50\"/>\r\n       <path d=\"M 31.78125 66.40625 \r\nQ 24.171875 66.40625 20.328125 58.90625 \r\nQ 16.5 51.421875 16.5 36.375 \r\nQ 16.5 21.390625 20.328125 13.890625 \r\nQ 24.171875 6.390625 31.78125 6.390625 \r\nQ 39.453125 6.390625 43.28125 13.890625 \r\nQ 47.125 21.390625 47.125 36.375 \r\nQ 47.125 51.421875 43.28125 58.90625 \r\nQ 39.453125 66.40625 31.78125 66.40625 \r\nz\r\nM 31.78125 74.21875 \r\nQ 44.046875 74.21875 50.515625 64.515625 \r\nQ 56.984375 54.828125 56.984375 36.375 \r\nQ 56.984375 17.96875 50.515625 8.265625 \r\nQ 44.046875 -1.421875 31.78125 -1.421875 \r\nQ 19.53125 -1.421875 13.0625 8.265625 \r\nQ 6.59375 17.96875 6.59375 36.375 \r\nQ 6.59375 54.828125 13.0625 64.515625 \r\nQ 19.53125 74.21875 31.78125 74.21875 \r\nz\r\n\" id=\"DejaVuSans-48\"/>\r\n       <path d=\"M 4.890625 31.390625 \r\nL 31.203125 31.390625 \r\nL 31.203125 23.390625 \r\nL 4.890625 23.390625 \r\nz\r\n\" id=\"DejaVuSans-45\"/>\r\n      </defs>\r\n      <g transform=\"translate(85.76947 293.598437)scale(0.1 -0.1)\">\r\n       <use xlink:href=\"#DejaVuSans-50\"/>\r\n       <use x=\"63.623047\" xlink:href=\"#DejaVuSans-48\"/>\r\n       <use x=\"127.246094\" xlink:href=\"#DejaVuSans-50\"/>\r\n       <use x=\"190.869141\" xlink:href=\"#DejaVuSans-48\"/>\r\n       <use x=\"254.492188\" xlink:href=\"#DejaVuSans-45\"/>\r\n       <use x=\"290.576172\" xlink:href=\"#DejaVuSans-48\"/>\r\n       <use x=\"354.199219\" xlink:href=\"#DejaVuSans-50\"/>\r\n      </g>\r\n     </g>\r\n    </g>\r\n    <g id=\"xtick_2\">\r\n     <g id=\"line2d_2\">\r\n      <g>\r\n       <use style=\"stroke:#000000;stroke-width:0.8;\" x=\"185.469318\" xlink:href=\"#m5d1c2cf8b5\" y=\"279\"/>\r\n      </g>\r\n     </g>\r\n     <g id=\"text_2\">\r\n      <!-- 2020-03 -->\r\n      <defs>\r\n       <path d=\"M 40.578125 39.3125 \r\nQ 47.65625 37.796875 51.625 33 \r\nQ 55.609375 28.21875 55.609375 21.1875 \r\nQ 55.609375 10.40625 48.1875 4.484375 \r\nQ 40.765625 -1.421875 27.09375 -1.421875 \r\nQ 22.515625 -1.421875 17.65625 -0.515625 \r\nQ 12.796875 0.390625 7.625 2.203125 \r\nL 7.625 11.71875 \r\nQ 11.71875 9.328125 16.59375 8.109375 \r\nQ 21.484375 6.890625 26.8125 6.890625 \r\nQ 36.078125 6.890625 40.9375 10.546875 \r\nQ 45.796875 14.203125 45.796875 21.1875 \r\nQ 45.796875 27.640625 41.28125 31.265625 \r\nQ 36.765625 34.90625 28.71875 34.90625 \r\nL 20.21875 34.90625 \r\nL 20.21875 43.015625 \r\nL 29.109375 43.015625 \r\nQ 36.375 43.015625 40.234375 45.921875 \r\nQ 44.09375 48.828125 44.09375 54.296875 \r\nQ 44.09375 59.90625 40.109375 62.90625 \r\nQ 36.140625 65.921875 28.71875 65.921875 \r\nQ 24.65625 65.921875 20.015625 65.03125 \r\nQ 15.375 64.15625 9.8125 62.3125 \r\nL 9.8125 71.09375 \r\nQ 15.4375 72.65625 20.34375 73.4375 \r\nQ 25.25 74.21875 29.59375 74.21875 \r\nQ 40.828125 74.21875 47.359375 69.109375 \r\nQ 53.90625 64.015625 53.90625 55.328125 \r\nQ 53.90625 49.265625 50.4375 45.09375 \r\nQ 46.96875 40.921875 40.578125 39.3125 \r\nz\r\n\" id=\"DejaVuSans-51\"/>\r\n      </defs>\r\n      <g transform=\"translate(164.577912 293.598437)scale(0.1 -0.1)\">\r\n       <use xlink:href=\"#DejaVuSans-50\"/>\r\n       <use x=\"63.623047\" xlink:href=\"#DejaVuSans-48\"/>\r\n       <use x=\"127.246094\" xlink:href=\"#DejaVuSans-50\"/>\r\n       <use x=\"190.869141\" xlink:href=\"#DejaVuSans-48\"/>\r\n       <use x=\"254.492188\" xlink:href=\"#DejaVuSans-45\"/>\r\n       <use x=\"290.576172\" xlink:href=\"#DejaVuSans-48\"/>\r\n       <use x=\"354.199219\" xlink:href=\"#DejaVuSans-51\"/>\r\n      </g>\r\n     </g>\r\n    </g>\r\n    <g id=\"xtick_3\">\r\n     <g id=\"line2d_3\">\r\n      <g>\r\n       <use style=\"stroke:#000000;stroke-width:0.8;\" x=\"269.712825\" xlink:href=\"#m5d1c2cf8b5\" y=\"279\"/>\r\n      </g>\r\n     </g>\r\n     <g id=\"text_3\">\r\n      <!-- 2020-04 -->\r\n      <defs>\r\n       <path d=\"M 37.796875 64.3125 \r\nL 12.890625 25.390625 \r\nL 37.796875 25.390625 \r\nz\r\nM 35.203125 72.90625 \r\nL 47.609375 72.90625 \r\nL 47.609375 25.390625 \r\nL 58.015625 25.390625 \r\nL 58.015625 17.1875 \r\nL 47.609375 17.1875 \r\nL 47.609375 0 \r\nL 37.796875 0 \r\nL 37.796875 17.1875 \r\nL 4.890625 17.1875 \r\nL 4.890625 26.703125 \r\nz\r\n\" id=\"DejaVuSans-52\"/>\r\n      </defs>\r\n      <g transform=\"translate(248.821418 293.598437)scale(0.1 -0.1)\">\r\n       <use xlink:href=\"#DejaVuSans-50\"/>\r\n       <use x=\"63.623047\" xlink:href=\"#DejaVuSans-48\"/>\r\n       <use x=\"127.246094\" xlink:href=\"#DejaVuSans-50\"/>\r\n       <use x=\"190.869141\" xlink:href=\"#DejaVuSans-48\"/>\r\n       <use x=\"254.492188\" xlink:href=\"#DejaVuSans-45\"/>\r\n       <use x=\"290.576172\" xlink:href=\"#DejaVuSans-48\"/>\r\n       <use x=\"354.199219\" xlink:href=\"#DejaVuSans-52\"/>\r\n      </g>\r\n     </g>\r\n    </g>\r\n    <g id=\"xtick_4\">\r\n     <g id=\"line2d_4\">\r\n      <g>\r\n       <use style=\"stroke:#000000;stroke-width:0.8;\" x=\"351.238799\" xlink:href=\"#m5d1c2cf8b5\" y=\"279\"/>\r\n      </g>\r\n     </g>\r\n     <g id=\"text_4\">\r\n      <!-- 2020-05 -->\r\n      <defs>\r\n       <path d=\"M 10.796875 72.90625 \r\nL 49.515625 72.90625 \r\nL 49.515625 64.59375 \r\nL 19.828125 64.59375 \r\nL 19.828125 46.734375 \r\nQ 21.96875 47.46875 24.109375 47.828125 \r\nQ 26.265625 48.1875 28.421875 48.1875 \r\nQ 40.625 48.1875 47.75 41.5 \r\nQ 54.890625 34.8125 54.890625 23.390625 \r\nQ 54.890625 11.625 47.5625 5.09375 \r\nQ 40.234375 -1.421875 26.90625 -1.421875 \r\nQ 22.3125 -1.421875 17.546875 -0.640625 \r\nQ 12.796875 0.140625 7.71875 1.703125 \r\nL 7.71875 11.625 \r\nQ 12.109375 9.234375 16.796875 8.0625 \r\nQ 21.484375 6.890625 26.703125 6.890625 \r\nQ 35.15625 6.890625 40.078125 11.328125 \r\nQ 45.015625 15.765625 45.015625 23.390625 \r\nQ 45.015625 31 40.078125 35.4375 \r\nQ 35.15625 39.890625 26.703125 39.890625 \r\nQ 22.75 39.890625 18.8125 39.015625 \r\nQ 14.890625 38.140625 10.796875 36.28125 \r\nz\r\n\" id=\"DejaVuSans-53\"/>\r\n      </defs>\r\n      <g transform=\"translate(330.347392 293.598437)scale(0.1 -0.1)\">\r\n       <use xlink:href=\"#DejaVuSans-50\"/>\r\n       <use x=\"63.623047\" xlink:href=\"#DejaVuSans-48\"/>\r\n       <use x=\"127.246094\" xlink:href=\"#DejaVuSans-50\"/>\r\n       <use x=\"190.869141\" xlink:href=\"#DejaVuSans-48\"/>\r\n       <use x=\"254.492188\" xlink:href=\"#DejaVuSans-45\"/>\r\n       <use x=\"290.576172\" xlink:href=\"#DejaVuSans-48\"/>\r\n       <use x=\"354.199219\" xlink:href=\"#DejaVuSans-53\"/>\r\n      </g>\r\n     </g>\r\n    </g>\r\n    <g id=\"xtick_5\">\r\n     <g id=\"line2d_5\">\r\n      <g>\r\n       <use style=\"stroke:#000000;stroke-width:0.8;\" x=\"435.482305\" xlink:href=\"#m5d1c2cf8b5\" y=\"279\"/>\r\n      </g>\r\n     </g>\r\n     <g id=\"text_5\">\r\n      <!-- 2020-06 -->\r\n      <defs>\r\n       <path d=\"M 33.015625 40.375 \r\nQ 26.375 40.375 22.484375 35.828125 \r\nQ 18.609375 31.296875 18.609375 23.390625 \r\nQ 18.609375 15.53125 22.484375 10.953125 \r\nQ 26.375 6.390625 33.015625 6.390625 \r\nQ 39.65625 6.390625 43.53125 10.953125 \r\nQ 47.40625 15.53125 47.40625 23.390625 \r\nQ 47.40625 31.296875 43.53125 35.828125 \r\nQ 39.65625 40.375 33.015625 40.375 \r\nz\r\nM 52.59375 71.296875 \r\nL 52.59375 62.3125 \r\nQ 48.875 64.0625 45.09375 64.984375 \r\nQ 41.3125 65.921875 37.59375 65.921875 \r\nQ 27.828125 65.921875 22.671875 59.328125 \r\nQ 17.53125 52.734375 16.796875 39.40625 \r\nQ 19.671875 43.65625 24.015625 45.921875 \r\nQ 28.375 48.1875 33.59375 48.1875 \r\nQ 44.578125 48.1875 50.953125 41.515625 \r\nQ 57.328125 34.859375 57.328125 23.390625 \r\nQ 57.328125 12.15625 50.6875 5.359375 \r\nQ 44.046875 -1.421875 33.015625 -1.421875 \r\nQ 20.359375 -1.421875 13.671875 8.265625 \r\nQ 6.984375 17.96875 6.984375 36.375 \r\nQ 6.984375 53.65625 15.1875 63.9375 \r\nQ 23.390625 74.21875 37.203125 74.21875 \r\nQ 40.921875 74.21875 44.703125 73.484375 \r\nQ 48.484375 72.75 52.59375 71.296875 \r\nz\r\n\" id=\"DejaVuSans-54\"/>\r\n      </defs>\r\n      <g transform=\"translate(414.590899 293.598437)scale(0.1 -0.1)\">\r\n       <use xlink:href=\"#DejaVuSans-50\"/>\r\n       <use x=\"63.623047\" xlink:href=\"#DejaVuSans-48\"/>\r\n       <use x=\"127.246094\" xlink:href=\"#DejaVuSans-50\"/>\r\n       <use x=\"190.869141\" xlink:href=\"#DejaVuSans-48\"/>\r\n       <use x=\"254.492188\" xlink:href=\"#DejaVuSans-45\"/>\r\n       <use x=\"290.576172\" xlink:href=\"#DejaVuSans-48\"/>\r\n       <use x=\"354.199219\" xlink:href=\"#DejaVuSans-54\"/>\r\n      </g>\r\n     </g>\r\n    </g>\r\n    <g id=\"xtick_6\">\r\n     <g id=\"line2d_6\">\r\n      <g>\r\n       <use style=\"stroke:#000000;stroke-width:0.8;\" x=\"517.008279\" xlink:href=\"#m5d1c2cf8b5\" y=\"279\"/>\r\n      </g>\r\n     </g>\r\n     <g id=\"text_6\">\r\n      <!-- 2020-07 -->\r\n      <defs>\r\n       <path d=\"M 8.203125 72.90625 \r\nL 55.078125 72.90625 \r\nL 55.078125 68.703125 \r\nL 28.609375 0 \r\nL 18.3125 0 \r\nL 43.21875 64.59375 \r\nL 8.203125 64.59375 \r\nz\r\n\" id=\"DejaVuSans-55\"/>\r\n      </defs>\r\n      <g transform=\"translate(496.116873 293.598437)scale(0.1 -0.1)\">\r\n       <use xlink:href=\"#DejaVuSans-50\"/>\r\n       <use x=\"63.623047\" xlink:href=\"#DejaVuSans-48\"/>\r\n       <use x=\"127.246094\" xlink:href=\"#DejaVuSans-50\"/>\r\n       <use x=\"190.869141\" xlink:href=\"#DejaVuSans-48\"/>\r\n       <use x=\"254.492188\" xlink:href=\"#DejaVuSans-45\"/>\r\n       <use x=\"290.576172\" xlink:href=\"#DejaVuSans-48\"/>\r\n       <use x=\"354.199219\" xlink:href=\"#DejaVuSans-55\"/>\r\n      </g>\r\n     </g>\r\n    </g>\r\n    <g id=\"xtick_7\">\r\n     <g id=\"line2d_7\">\r\n      <g>\r\n       <use style=\"stroke:#000000;stroke-width:0.8;\" x=\"601.251786\" xlink:href=\"#m5d1c2cf8b5\" y=\"279\"/>\r\n      </g>\r\n     </g>\r\n     <g id=\"text_7\">\r\n      <!-- 2020-08 -->\r\n      <defs>\r\n       <path d=\"M 31.78125 34.625 \r\nQ 24.75 34.625 20.71875 30.859375 \r\nQ 16.703125 27.09375 16.703125 20.515625 \r\nQ 16.703125 13.921875 20.71875 10.15625 \r\nQ 24.75 6.390625 31.78125 6.390625 \r\nQ 38.8125 6.390625 42.859375 10.171875 \r\nQ 46.921875 13.96875 46.921875 20.515625 \r\nQ 46.921875 27.09375 42.890625 30.859375 \r\nQ 38.875 34.625 31.78125 34.625 \r\nz\r\nM 21.921875 38.8125 \r\nQ 15.578125 40.375 12.03125 44.71875 \r\nQ 8.5 49.078125 8.5 55.328125 \r\nQ 8.5 64.0625 14.71875 69.140625 \r\nQ 20.953125 74.21875 31.78125 74.21875 \r\nQ 42.671875 74.21875 48.875 69.140625 \r\nQ 55.078125 64.0625 55.078125 55.328125 \r\nQ 55.078125 49.078125 51.53125 44.71875 \r\nQ 48 40.375 41.703125 38.8125 \r\nQ 48.828125 37.15625 52.796875 32.3125 \r\nQ 56.78125 27.484375 56.78125 20.515625 \r\nQ 56.78125 9.90625 50.3125 4.234375 \r\nQ 43.84375 -1.421875 31.78125 -1.421875 \r\nQ 19.734375 -1.421875 13.25 4.234375 \r\nQ 6.78125 9.90625 6.78125 20.515625 \r\nQ 6.78125 27.484375 10.78125 32.3125 \r\nQ 14.796875 37.15625 21.921875 38.8125 \r\nz\r\nM 18.3125 54.390625 \r\nQ 18.3125 48.734375 21.84375 45.5625 \r\nQ 25.390625 42.390625 31.78125 42.390625 \r\nQ 38.140625 42.390625 41.71875 45.5625 \r\nQ 45.3125 48.734375 45.3125 54.390625 \r\nQ 45.3125 60.0625 41.71875 63.234375 \r\nQ 38.140625 66.40625 31.78125 66.40625 \r\nQ 25.390625 66.40625 21.84375 63.234375 \r\nQ 18.3125 60.0625 18.3125 54.390625 \r\nz\r\n\" id=\"DejaVuSans-56\"/>\r\n      </defs>\r\n      <g transform=\"translate(580.360379 293.598437)scale(0.1 -0.1)\">\r\n       <use xlink:href=\"#DejaVuSans-50\"/>\r\n       <use x=\"63.623047\" xlink:href=\"#DejaVuSans-48\"/>\r\n       <use x=\"127.246094\" xlink:href=\"#DejaVuSans-50\"/>\r\n       <use x=\"190.869141\" xlink:href=\"#DejaVuSans-48\"/>\r\n       <use x=\"254.492188\" xlink:href=\"#DejaVuSans-45\"/>\r\n       <use x=\"290.576172\" xlink:href=\"#DejaVuSans-48\"/>\r\n       <use x=\"354.199219\" xlink:href=\"#DejaVuSans-56\"/>\r\n      </g>\r\n     </g>\r\n    </g>\r\n    <g id=\"xtick_8\">\r\n     <g id=\"line2d_8\">\r\n      <g>\r\n       <use style=\"stroke:#000000;stroke-width:0.8;\" x=\"685.495292\" xlink:href=\"#m5d1c2cf8b5\" y=\"279\"/>\r\n      </g>\r\n     </g>\r\n     <g id=\"text_8\">\r\n      <!-- 2020-09 -->\r\n      <defs>\r\n       <path d=\"M 10.984375 1.515625 \r\nL 10.984375 10.5 \r\nQ 14.703125 8.734375 18.5 7.8125 \r\nQ 22.3125 6.890625 25.984375 6.890625 \r\nQ 35.75 6.890625 40.890625 13.453125 \r\nQ 46.046875 20.015625 46.78125 33.40625 \r\nQ 43.953125 29.203125 39.59375 26.953125 \r\nQ 35.25 24.703125 29.984375 24.703125 \r\nQ 19.046875 24.703125 12.671875 31.3125 \r\nQ 6.296875 37.9375 6.296875 49.421875 \r\nQ 6.296875 60.640625 12.9375 67.421875 \r\nQ 19.578125 74.21875 30.609375 74.21875 \r\nQ 43.265625 74.21875 49.921875 64.515625 \r\nQ 56.59375 54.828125 56.59375 36.375 \r\nQ 56.59375 19.140625 48.40625 8.859375 \r\nQ 40.234375 -1.421875 26.421875 -1.421875 \r\nQ 22.703125 -1.421875 18.890625 -0.6875 \r\nQ 15.09375 0.046875 10.984375 1.515625 \r\nz\r\nM 30.609375 32.421875 \r\nQ 37.25 32.421875 41.125 36.953125 \r\nQ 45.015625 41.5 45.015625 49.421875 \r\nQ 45.015625 57.28125 41.125 61.84375 \r\nQ 37.25 66.40625 30.609375 66.40625 \r\nQ 23.96875 66.40625 20.09375 61.84375 \r\nQ 16.21875 57.28125 16.21875 49.421875 \r\nQ 16.21875 41.5 20.09375 36.953125 \r\nQ 23.96875 32.421875 30.609375 32.421875 \r\nz\r\n\" id=\"DejaVuSans-57\"/>\r\n      </defs>\r\n      <g transform=\"translate(664.603886 293.598437)scale(0.1 -0.1)\">\r\n       <use xlink:href=\"#DejaVuSans-50\"/>\r\n       <use x=\"63.623047\" xlink:href=\"#DejaVuSans-48\"/>\r\n       <use x=\"127.246094\" xlink:href=\"#DejaVuSans-50\"/>\r\n       <use x=\"190.869141\" xlink:href=\"#DejaVuSans-48\"/>\r\n       <use x=\"254.492188\" xlink:href=\"#DejaVuSans-45\"/>\r\n       <use x=\"290.576172\" xlink:href=\"#DejaVuSans-48\"/>\r\n       <use x=\"354.199219\" xlink:href=\"#DejaVuSans-57\"/>\r\n      </g>\r\n     </g>\r\n    </g>\r\n    <g id=\"xtick_9\">\r\n     <g id=\"line2d_9\">\r\n      <g>\r\n       <use style=\"stroke:#000000;stroke-width:0.8;\" x=\"767.021266\" xlink:href=\"#m5d1c2cf8b5\" y=\"279\"/>\r\n      </g>\r\n     </g>\r\n     <g id=\"text_9\">\r\n      <!-- 2020-10 -->\r\n      <defs>\r\n       <path d=\"M 12.40625 8.296875 \r\nL 28.515625 8.296875 \r\nL 28.515625 63.921875 \r\nL 10.984375 60.40625 \r\nL 10.984375 69.390625 \r\nL 28.421875 72.90625 \r\nL 38.28125 72.90625 \r\nL 38.28125 8.296875 \r\nL 54.390625 8.296875 \r\nL 54.390625 0 \r\nL 12.40625 0 \r\nz\r\n\" id=\"DejaVuSans-49\"/>\r\n      </defs>\r\n      <g transform=\"translate(746.12986 293.598437)scale(0.1 -0.1)\">\r\n       <use xlink:href=\"#DejaVuSans-50\"/>\r\n       <use x=\"63.623047\" xlink:href=\"#DejaVuSans-48\"/>\r\n       <use x=\"127.246094\" xlink:href=\"#DejaVuSans-50\"/>\r\n       <use x=\"190.869141\" xlink:href=\"#DejaVuSans-48\"/>\r\n       <use x=\"254.492188\" xlink:href=\"#DejaVuSans-45\"/>\r\n       <use x=\"290.576172\" xlink:href=\"#DejaVuSans-49\"/>\r\n       <use x=\"354.199219\" xlink:href=\"#DejaVuSans-48\"/>\r\n      </g>\r\n     </g>\r\n    </g>\r\n    <g id=\"xtick_10\">\r\n     <g id=\"line2d_10\">\r\n      <g>\r\n       <use style=\"stroke:#000000;stroke-width:0.8;\" x=\"851.264773\" xlink:href=\"#m5d1c2cf8b5\" y=\"279\"/>\r\n      </g>\r\n     </g>\r\n     <g id=\"text_10\">\r\n      <!-- 2020-11 -->\r\n      <g transform=\"translate(830.373366 293.598437)scale(0.1 -0.1)\">\r\n       <use xlink:href=\"#DejaVuSans-50\"/>\r\n       <use x=\"63.623047\" xlink:href=\"#DejaVuSans-48\"/>\r\n       <use x=\"127.246094\" xlink:href=\"#DejaVuSans-50\"/>\r\n       <use x=\"190.869141\" xlink:href=\"#DejaVuSans-48\"/>\r\n       <use x=\"254.492188\" xlink:href=\"#DejaVuSans-45\"/>\r\n       <use x=\"290.576172\" xlink:href=\"#DejaVuSans-49\"/>\r\n       <use x=\"354.199219\" xlink:href=\"#DejaVuSans-49\"/>\r\n      </g>\r\n     </g>\r\n    </g>\r\n   </g>\r\n   <g id=\"matplotlib.axis_2\">\r\n    <g id=\"ytick_1\">\r\n     <g id=\"line2d_11\">\r\n      <defs>\r\n       <path d=\"M 0 0 \r\nL -3.5 0 \r\n\" id=\"m02590e283e\" style=\"stroke:#000000;stroke-width:0.8;\"/>\r\n      </defs>\r\n      <g>\r\n       <use style=\"stroke:#000000;stroke-width:0.8;\" x=\"33.2875\" xlink:href=\"#m02590e283e\" y=\"266.645455\"/>\r\n      </g>\r\n     </g>\r\n     <g id=\"text_11\">\r\n      <!-- 0 -->\r\n      <g transform=\"translate(19.925 270.444673)scale(0.1 -0.1)\">\r\n       <use xlink:href=\"#DejaVuSans-48\"/>\r\n      </g>\r\n     </g>\r\n    </g>\r\n    <g id=\"ytick_2\">\r\n     <g id=\"line2d_12\">\r\n      <g>\r\n       <use style=\"stroke:#000000;stroke-width:0.8;\" x=\"33.2875\" xlink:href=\"#m02590e283e\" y=\"223.271955\"/>\r\n      </g>\r\n     </g>\r\n     <g id=\"text_12\">\r\n      <!-- 20 -->\r\n      <g transform=\"translate(13.5625 227.071173)scale(0.1 -0.1)\">\r\n       <use xlink:href=\"#DejaVuSans-50\"/>\r\n       <use x=\"63.623047\" xlink:href=\"#DejaVuSans-48\"/>\r\n      </g>\r\n     </g>\r\n    </g>\r\n    <g id=\"ytick_3\">\r\n     <g id=\"line2d_13\">\r\n      <g>\r\n       <use style=\"stroke:#000000;stroke-width:0.8;\" x=\"33.2875\" xlink:href=\"#m02590e283e\" y=\"179.898455\"/>\r\n      </g>\r\n     </g>\r\n     <g id=\"text_13\">\r\n      <!-- 40 -->\r\n      <g transform=\"translate(13.5625 183.697673)scale(0.1 -0.1)\">\r\n       <use xlink:href=\"#DejaVuSans-52\"/>\r\n       <use x=\"63.623047\" xlink:href=\"#DejaVuSans-48\"/>\r\n      </g>\r\n     </g>\r\n    </g>\r\n    <g id=\"ytick_4\">\r\n     <g id=\"line2d_14\">\r\n      <g>\r\n       <use style=\"stroke:#000000;stroke-width:0.8;\" x=\"33.2875\" xlink:href=\"#m02590e283e\" y=\"136.524955\"/>\r\n      </g>\r\n     </g>\r\n     <g id=\"text_14\">\r\n      <!-- 60 -->\r\n      <g transform=\"translate(13.5625 140.324174)scale(0.1 -0.1)\">\r\n       <use xlink:href=\"#DejaVuSans-54\"/>\r\n       <use x=\"63.623047\" xlink:href=\"#DejaVuSans-48\"/>\r\n      </g>\r\n     </g>\r\n    </g>\r\n    <g id=\"ytick_5\">\r\n     <g id=\"line2d_15\">\r\n      <g>\r\n       <use style=\"stroke:#000000;stroke-width:0.8;\" x=\"33.2875\" xlink:href=\"#m02590e283e\" y=\"93.151455\"/>\r\n      </g>\r\n     </g>\r\n     <g id=\"text_15\">\r\n      <!-- 80 -->\r\n      <g transform=\"translate(13.5625 96.950674)scale(0.1 -0.1)\">\r\n       <use xlink:href=\"#DejaVuSans-56\"/>\r\n       <use x=\"63.623047\" xlink:href=\"#DejaVuSans-48\"/>\r\n      </g>\r\n     </g>\r\n    </g>\r\n    <g id=\"ytick_6\">\r\n     <g id=\"line2d_16\">\r\n      <g>\r\n       <use style=\"stroke:#000000;stroke-width:0.8;\" x=\"33.2875\" xlink:href=\"#m02590e283e\" y=\"49.777955\"/>\r\n      </g>\r\n     </g>\r\n     <g id=\"text_16\">\r\n      <!-- 100 -->\r\n      <g transform=\"translate(7.2 53.577174)scale(0.1 -0.1)\">\r\n       <use xlink:href=\"#DejaVuSans-49\"/>\r\n       <use x=\"63.623047\" xlink:href=\"#DejaVuSans-48\"/>\r\n       <use x=\"127.246094\" xlink:href=\"#DejaVuSans-48\"/>\r\n      </g>\r\n     </g>\r\n    </g>\r\n   </g>\r\n   <g id=\"line2d_17\">\r\n    <path clip-path=\"url(#p77dc152c55)\" d=\"M 832.242045 21.033889 \r\nL 829.524513 19.554545 \r\nL 826.806981 23.448978 \r\nL 824.089448 32.69555 \r\nL 821.371916 43.14561 \r\nL 818.654383 59.429205 \r\nL 815.936851 73.800741 \r\nL 813.219318 78.852686 \r\nL 810.501786 88.123598 \r\nL 807.784253 102.557337 \r\nL 805.066721 116.298734 \r\nL 802.349188 131.016442 \r\nL 799.631656 149.585312 \r\nL 796.914123 161.66346 \r\nL 794.196591 165.376693 \r\nL 791.479058 172.400194 \r\nL 788.761526 183.385738 \r\nL 786.043994 191.980534 \r\nL 783.326461 201.597618 \r\nL 780.608929 208.907792 \r\nL 777.891396 215.590529 \r\nL 775.173864 216.931945 \r\nL 772.456331 219.000862 \r\nL 769.738799 224.677538 \r\nL 767.021266 229.037139 \r\nL 764.303734 232.133753 \r\nL 761.586201 234.594818 \r\nL 758.868669 236.160704 \r\nL 753.433604 236.506876 \r\nL 750.716071 236.271587 \r\nL 747.998539 236.393288 \r\nL 745.281006 236.812481 \r\nL 739.845942 239.311408 \r\nL 737.128409 239.744123 \r\nL 734.410877 240.49326 \r\nL 731.693344 241.642659 \r\nL 728.975812 243.28427 \r\nL 726.258279 245.764266 \r\nL 720.823214 249.991348 \r\nL 718.105682 250.3862 \r\nL 715.388149 251.184018 \r\nL 712.670617 252.687701 \r\nL 707.235552 255.164993 \r\nL 701.800487 256.760628 \r\nL 699.082955 256.863398 \r\nL 690.930357 257.899209 \r\nL 682.77776 258.204814 \r\nL 677.342695 258.188587 \r\nL 674.625162 258.469851 \r\nL 669.190097 258.112862 \r\nL 666.472565 257.577377 \r\nL 663.755032 257.306931 \r\nL 661.0375 257.260955 \r\nL 658.319968 257.369133 \r\nL 652.884903 256.922896 \r\nL 647.449838 256.949941 \r\nL 644.732305 256.500999 \r\nL 642.014773 256.528044 \r\nL 639.29724 256.146714 \r\nL 636.579708 255.649092 \r\nL 633.862175 255.378646 \r\nL 631.144643 254.95134 \r\nL 628.42711 254.694416 \r\nL 625.709578 254.908068 \r\nL 620.274513 254.82423 \r\nL 617.556981 255.059519 \r\nL 614.839448 255.421917 \r\nL 612.121916 255.595003 \r\nL 609.404383 255.941175 \r\nL 606.686851 256.479364 \r\nL 603.969318 256.382003 \r\nL 601.251786 256.59836 \r\nL 593.099188 258.042546 \r\nL 590.381656 259.502958 \r\nL 584.946591 260.238573 \r\nL 582.229058 260.506315 \r\nL 576.793994 261.682758 \r\nL 574.076461 262.475167 \r\nL 571.358929 262.30749 \r\nL 568.641396 262.899768 \r\nL 565.923864 262.956562 \r\nL 563.206331 263.140466 \r\nL 560.488799 263.538022 \r\nL 549.618669 264.74151 \r\nL 533.313474 264.963276 \r\nL 527.878409 264.922709 \r\nL 525.160877 264.984912 \r\nL 519.725812 264.979503 \r\nL 517.008279 265.074159 \r\nL 487.115422 264.836166 \r\nL 481.680357 264.957867 \r\nL 478.962825 264.968685 \r\nL 473.52776 264.830757 \r\nL 465.375162 264.517039 \r\nL 459.940097 264.200617 \r\nL 457.222565 264.103256 \r\nL 454.505032 264.354771 \r\nL 440.91737 264.297977 \r\nL 438.199838 264.241184 \r\nL 435.482305 263.551544 \r\nL 430.04724 263.313551 \r\nL 427.329708 263.089081 \r\nL 424.612175 263.362232 \r\nL 421.894643 262.813225 \r\nL 419.17711 262.569823 \r\nL 411.024513 262.480576 \r\nL 408.306981 262.215538 \r\nL 405.589448 261.579988 \r\nL 402.871916 261.753074 \r\nL 400.154383 261.474514 \r\nL 397.436851 261.044504 \r\nL 394.719318 260.944438 \r\nL 392.001786 260.692923 \r\nL 386.566721 259.951899 \r\nL 383.849188 259.327167 \r\nL 381.131656 258.918793 \r\nL 378.414123 258.394126 \r\nL 372.979058 258.210222 \r\nL 370.261526 258.875521 \r\nL 367.543994 258.486078 \r\nL 364.826461 258.567212 \r\nL 362.108929 258.505009 \r\nL 353.956331 257.823484 \r\nL 351.238799 256.27112 \r\nL 348.521266 255.216378 \r\nL 345.803734 254.526739 \r\nL 343.086201 252.630907 \r\nL 340.368669 251.22188 \r\nL 337.651136 250.578217 \r\nL 334.933604 249.674925 \r\nL 332.216071 248.098221 \r\nL 329.498539 246.210503 \r\nL 326.781006 243.895479 \r\nL 324.063474 243.111184 \r\nL 321.345942 245.109785 \r\nL 318.628409 244.890723 \r\nL 315.910877 244.060452 \r\nL 313.193344 241.512844 \r\nL 310.475812 239.98482 \r\nL 305.040747 240.201178 \r\nL 302.323214 236.423038 \r\nL 299.605682 236.041708 \r\nL 296.888149 236.331086 \r\nL 294.170617 238.067353 \r\nL 291.453084 240.125453 \r\nL 288.735552 240.347219 \r\nL 286.018019 239.898277 \r\nL 283.300487 240.428353 \r\nL 280.582955 240.379673 \r\nL 277.865422 240.590621 \r\nL 275.14789 241.066607 \r\nL 272.430357 241.377621 \r\nL 269.712825 242.234937 \r\nL 266.995292 243.549308 \r\nL 264.27776 244.658139 \r\nL 261.560227 245.190919 \r\nL 258.842695 246.205094 \r\nL 256.125162 248.520118 \r\nL 250.690097 252.076492 \r\nL 247.972565 254.167045 \r\nL 245.255032 256.711948 \r\nL 239.819968 258.231858 \r\nL 237.102435 259.108105 \r\nL 234.384903 260.360274 \r\nL 228.949838 262.207424 \r\nL 226.232305 262.999833 \r\nL 220.79724 263.816582 \r\nL 218.079708 264.433201 \r\nL 215.362175 264.890256 \r\nL 212.644643 265.217496 \r\nL 204.492045 265.720527 \r\nL 201.774513 265.793547 \r\nL 196.339448 266.310101 \r\nL 190.904383 266.545389 \r\nL 180.034253 266.645455 \r\nL 71.332955 266.645455 \r\nL 71.332955 266.645455 \r\n\" style=\"fill:none;stroke:#1f77b4;stroke-linecap:square;stroke-width:1.5;\"/>\r\n   </g>\r\n   <g id=\"patch_3\">\r\n    <path d=\"M 33.2875 279 \r\nL 33.2875 7.2 \r\n\" style=\"fill:none;stroke:#000000;stroke-linecap:square;stroke-linejoin:miter;stroke-width:0.8;\"/>\r\n   </g>\r\n   <g id=\"patch_4\">\r\n    <path d=\"M 870.2875 279 \r\nL 870.2875 7.2 \r\n\" style=\"fill:none;stroke:#000000;stroke-linecap:square;stroke-linejoin:miter;stroke-width:0.8;\"/>\r\n   </g>\r\n   <g id=\"patch_5\">\r\n    <path d=\"M 33.2875 279 \r\nL 870.2875 279 \r\n\" style=\"fill:none;stroke:#000000;stroke-linecap:square;stroke-linejoin:miter;stroke-width:0.8;\"/>\r\n   </g>\r\n   <g id=\"patch_6\">\r\n    <path d=\"M 33.2875 7.2 \r\nL 870.2875 7.2 \r\n\" style=\"fill:none;stroke:#000000;stroke-linecap:square;stroke-linejoin:miter;stroke-width:0.8;\"/>\r\n   </g>\r\n  </g>\r\n </g>\r\n <defs>\r\n  <clipPath id=\"p77dc152c55\">\r\n   <rect height=\"271.8\" width=\"837\" x=\"33.2875\" y=\"7.2\"/>\r\n  </clipPath>\r\n </defs>\r\n</svg>\r\n",
            "image/png": "[encoded data removed]"
          },
          "metadata": {
            "needs_background": "light"
          }
        }
      ]
    },
    {
      "cell_type": "code",
      "metadata": {
        "id": "90DJj3bttswA",
        "outputId": "be866094-ce02-47ef-9de9-696e427d1837",
        "colab": {
          "base_uri": "https://localhost:8080/",
          "height": 881
        }
      },
      "source": [
        "# Now we are going to make this plot for each country in some_countries\n",
        "plt.subplots(figsize=(25,15))\n",
        "\n",
        "for c in some_countries:\n",
        "  df_plot = extra.loc[extra['country'] == c,['dateRep','avg_number_cases_past_week_per_100000']]\n",
        "  plt.plot(df_plot['dateRep'],df_plot['avg_number_cases_past_week_per_100000'],label = c)\n",
        "\n",
        "plt.legend(loc='upper left',fontsize='large',frameon=True)\n"
      ],
      "execution_count": 91,
      "outputs": [
        {
          "output_type": "execute_result",
          "data": {
            "text/plain": [
              "<matplotlib.legend.Legend at 0x28d5f901370>"
            ]
          },
          "metadata": {},
          "execution_count": 91
        },
        {
          "output_type": "display_data",
          "data": {
            "text/plain": "<Figure size 1800x1080 with 1 Axes>",
            "image/svg+xml": "<?xml version=\"1.0\" encoding=\"utf-8\" standalone=\"no\"?>\r\n<!DOCTYPE svg PUBLIC \"-//W3C//DTD SVG 1.1//EN\"\r\n  \"http://www.w3.org/Graphics/SVG/1.1/DTD/svg11.dtd\">\r\n<!-- Created with matplotlib (https://matplotlib.org/) -->\r\n<svg height=\"846.478125pt\" version=\"1.1\" viewBox=\"0 0 1435.4875 846.478125\" width=\"1435.4875pt\" xmlns=\"http://www.w3.org/2000/svg\" xmlns:xlink=\"http://www.w3.org/1999/xlink\">\r\n <defs>\r\n  <style type=\"text/css\">\r\n*{stroke-linecap:butt;stroke-linejoin:round;}\r\n  </style>\r\n </defs>\r\n <g id=\"figure_1\">\r\n  <g id=\"patch_1\">\r\n   <path d=\"M 0 846.478125 \r\nL 1435.4875 846.478125 \r\nL 1435.4875 -0 \r\nL 0 -0 \r\nz\r\n\" style=\"fill:none;\"/>\r\n  </g>\r\n  <g id=\"axes_1\">\r\n   <g id=\"patch_2\">\r\n    <path d=\"M 33.2875 822.6 \r\nL 1428.2875 822.6 \r\nL 1428.2875 7.2 \r\nL 33.2875 7.2 \r\nz\r\n\" style=\"fill:#ffffff;\"/>\r\n   </g>\r\n   <g id=\"matplotlib.axis_1\">\r\n    <g id=\"xtick_1\">\r\n     <g id=\"line2d_1\">\r\n      <defs>\r\n       <path d=\"M 0 0 \r\nL 0 3.5 \r\n\" id=\"me09ccbe6fc\" style=\"stroke:#000000;stroke-width:0.8;\"/>\r\n      </defs>\r\n      <g>\r\n       <use style=\"stroke:#000000;stroke-width:0.8;\" x=\"155.576461\" xlink:href=\"#me09ccbe6fc\" y=\"822.6\"/>\r\n      </g>\r\n     </g>\r\n     <g id=\"text_1\">\r\n      <!-- 2020-02 -->\r\n      <defs>\r\n       <path d=\"M 19.1875 8.296875 \r\nL 53.609375 8.296875 \r\nL 53.609375 0 \r\nL 7.328125 0 \r\nL 7.328125 8.296875 \r\nQ 12.9375 14.109375 22.625 23.890625 \r\nQ 32.328125 33.6875 34.8125 36.53125 \r\nQ 39.546875 41.84375 41.421875 45.53125 \r\nQ 43.3125 49.21875 43.3125 52.78125 \r\nQ 43.3125 58.59375 39.234375 62.25 \r\nQ 35.15625 65.921875 28.609375 65.921875 \r\nQ 23.96875 65.921875 18.8125 64.3125 \r\nQ 13.671875 62.703125 7.8125 59.421875 \r\nL 7.8125 69.390625 \r\nQ 13.765625 71.78125 18.9375 73 \r\nQ 24.125 74.21875 28.421875 74.21875 \r\nQ 39.75 74.21875 46.484375 68.546875 \r\nQ 53.21875 62.890625 53.21875 53.421875 \r\nQ 53.21875 48.921875 51.53125 44.890625 \r\nQ 49.859375 40.875 45.40625 35.40625 \r\nQ 44.1875 33.984375 37.640625 27.21875 \r\nQ 31.109375 20.453125 19.1875 8.296875 \r\nz\r\n\" id=\"DejaVuSans-50\"/>\r\n       <path d=\"M 31.78125 66.40625 \r\nQ 24.171875 66.40625 20.328125 58.90625 \r\nQ 16.5 51.421875 16.5 36.375 \r\nQ 16.5 21.390625 20.328125 13.890625 \r\nQ 24.171875 6.390625 31.78125 6.390625 \r\nQ 39.453125 6.390625 43.28125 13.890625 \r\nQ 47.125 21.390625 47.125 36.375 \r\nQ 47.125 51.421875 43.28125 58.90625 \r\nQ 39.453125 66.40625 31.78125 66.40625 \r\nz\r\nM 31.78125 74.21875 \r\nQ 44.046875 74.21875 50.515625 64.515625 \r\nQ 56.984375 54.828125 56.984375 36.375 \r\nQ 56.984375 17.96875 50.515625 8.265625 \r\nQ 44.046875 -1.421875 31.78125 -1.421875 \r\nQ 19.53125 -1.421875 13.0625 8.265625 \r\nQ 6.59375 17.96875 6.59375 36.375 \r\nQ 6.59375 54.828125 13.0625 64.515625 \r\nQ 19.53125 74.21875 31.78125 74.21875 \r\nz\r\n\" id=\"DejaVuSans-48\"/>\r\n       <path d=\"M 4.890625 31.390625 \r\nL 31.203125 31.390625 \r\nL 31.203125 23.390625 \r\nL 4.890625 23.390625 \r\nz\r\n\" id=\"DejaVuSans-45\"/>\r\n      </defs>\r\n      <g transform=\"translate(134.685055 837.198437)scale(0.1 -0.1)\">\r\n       <use xlink:href=\"#DejaVuSans-50\"/>\r\n       <use x=\"63.623047\" xlink:href=\"#DejaVuSans-48\"/>\r\n       <use x=\"127.246094\" xlink:href=\"#DejaVuSans-50\"/>\r\n       <use x=\"190.869141\" xlink:href=\"#DejaVuSans-48\"/>\r\n       <use x=\"254.492188\" xlink:href=\"#DejaVuSans-45\"/>\r\n       <use x=\"290.576172\" xlink:href=\"#DejaVuSans-48\"/>\r\n       <use x=\"354.199219\" xlink:href=\"#DejaVuSans-50\"/>\r\n      </g>\r\n     </g>\r\n    </g>\r\n    <g id=\"xtick_2\">\r\n     <g id=\"line2d_2\">\r\n      <g>\r\n       <use style=\"stroke:#000000;stroke-width:0.8;\" x=\"286.923864\" xlink:href=\"#me09ccbe6fc\" y=\"822.6\"/>\r\n      </g>\r\n     </g>\r\n     <g id=\"text_2\">\r\n      <!-- 2020-03 -->\r\n      <defs>\r\n       <path d=\"M 40.578125 39.3125 \r\nQ 47.65625 37.796875 51.625 33 \r\nQ 55.609375 28.21875 55.609375 21.1875 \r\nQ 55.609375 10.40625 48.1875 4.484375 \r\nQ 40.765625 -1.421875 27.09375 -1.421875 \r\nQ 22.515625 -1.421875 17.65625 -0.515625 \r\nQ 12.796875 0.390625 7.625 2.203125 \r\nL 7.625 11.71875 \r\nQ 11.71875 9.328125 16.59375 8.109375 \r\nQ 21.484375 6.890625 26.8125 6.890625 \r\nQ 36.078125 6.890625 40.9375 10.546875 \r\nQ 45.796875 14.203125 45.796875 21.1875 \r\nQ 45.796875 27.640625 41.28125 31.265625 \r\nQ 36.765625 34.90625 28.71875 34.90625 \r\nL 20.21875 34.90625 \r\nL 20.21875 43.015625 \r\nL 29.109375 43.015625 \r\nQ 36.375 43.015625 40.234375 45.921875 \r\nQ 44.09375 48.828125 44.09375 54.296875 \r\nQ 44.09375 59.90625 40.109375 62.90625 \r\nQ 36.140625 65.921875 28.71875 65.921875 \r\nQ 24.65625 65.921875 20.015625 65.03125 \r\nQ 15.375 64.15625 9.8125 62.3125 \r\nL 9.8125 71.09375 \r\nQ 15.4375 72.65625 20.34375 73.4375 \r\nQ 25.25 74.21875 29.59375 74.21875 \r\nQ 40.828125 74.21875 47.359375 69.109375 \r\nQ 53.90625 64.015625 53.90625 55.328125 \r\nQ 53.90625 49.265625 50.4375 45.09375 \r\nQ 46.96875 40.921875 40.578125 39.3125 \r\nz\r\n\" id=\"DejaVuSans-51\"/>\r\n      </defs>\r\n      <g transform=\"translate(266.032457 837.198437)scale(0.1 -0.1)\">\r\n       <use xlink:href=\"#DejaVuSans-50\"/>\r\n       <use x=\"63.623047\" xlink:href=\"#DejaVuSans-48\"/>\r\n       <use x=\"127.246094\" xlink:href=\"#DejaVuSans-50\"/>\r\n       <use x=\"190.869141\" xlink:href=\"#DejaVuSans-48\"/>\r\n       <use x=\"254.492188\" xlink:href=\"#DejaVuSans-45\"/>\r\n       <use x=\"290.576172\" xlink:href=\"#DejaVuSans-48\"/>\r\n       <use x=\"354.199219\" xlink:href=\"#DejaVuSans-51\"/>\r\n      </g>\r\n     </g>\r\n    </g>\r\n    <g id=\"xtick_3\">\r\n     <g id=\"line2d_3\">\r\n      <g>\r\n       <use style=\"stroke:#000000;stroke-width:0.8;\" x=\"427.329708\" xlink:href=\"#me09ccbe6fc\" y=\"822.6\"/>\r\n      </g>\r\n     </g>\r\n     <g id=\"text_3\">\r\n      <!-- 2020-04 -->\r\n      <defs>\r\n       <path d=\"M 37.796875 64.3125 \r\nL 12.890625 25.390625 \r\nL 37.796875 25.390625 \r\nz\r\nM 35.203125 72.90625 \r\nL 47.609375 72.90625 \r\nL 47.609375 25.390625 \r\nL 58.015625 25.390625 \r\nL 58.015625 17.1875 \r\nL 47.609375 17.1875 \r\nL 47.609375 0 \r\nL 37.796875 0 \r\nL 37.796875 17.1875 \r\nL 4.890625 17.1875 \r\nL 4.890625 26.703125 \r\nz\r\n\" id=\"DejaVuSans-52\"/>\r\n      </defs>\r\n      <g transform=\"translate(406.438302 837.198437)scale(0.1 -0.1)\">\r\n       <use xlink:href=\"#DejaVuSans-50\"/>\r\n       <use x=\"63.623047\" xlink:href=\"#DejaVuSans-48\"/>\r\n       <use x=\"127.246094\" xlink:href=\"#DejaVuSans-50\"/>\r\n       <use x=\"190.869141\" xlink:href=\"#DejaVuSans-48\"/>\r\n       <use x=\"254.492188\" xlink:href=\"#DejaVuSans-45\"/>\r\n       <use x=\"290.576172\" xlink:href=\"#DejaVuSans-48\"/>\r\n       <use x=\"354.199219\" xlink:href=\"#DejaVuSans-52\"/>\r\n      </g>\r\n     </g>\r\n    </g>\r\n    <g id=\"xtick_4\">\r\n     <g id=\"line2d_4\">\r\n      <g>\r\n       <use style=\"stroke:#000000;stroke-width:0.8;\" x=\"563.206331\" xlink:href=\"#me09ccbe6fc\" y=\"822.6\"/>\r\n      </g>\r\n     </g>\r\n     <g id=\"text_4\">\r\n      <!-- 2020-05 -->\r\n      <defs>\r\n       <path d=\"M 10.796875 72.90625 \r\nL 49.515625 72.90625 \r\nL 49.515625 64.59375 \r\nL 19.828125 64.59375 \r\nL 19.828125 46.734375 \r\nQ 21.96875 47.46875 24.109375 47.828125 \r\nQ 26.265625 48.1875 28.421875 48.1875 \r\nQ 40.625 48.1875 47.75 41.5 \r\nQ 54.890625 34.8125 54.890625 23.390625 \r\nQ 54.890625 11.625 47.5625 5.09375 \r\nQ 40.234375 -1.421875 26.90625 -1.421875 \r\nQ 22.3125 -1.421875 17.546875 -0.640625 \r\nQ 12.796875 0.140625 7.71875 1.703125 \r\nL 7.71875 11.625 \r\nQ 12.109375 9.234375 16.796875 8.0625 \r\nQ 21.484375 6.890625 26.703125 6.890625 \r\nQ 35.15625 6.890625 40.078125 11.328125 \r\nQ 45.015625 15.765625 45.015625 23.390625 \r\nQ 45.015625 31 40.078125 35.4375 \r\nQ 35.15625 39.890625 26.703125 39.890625 \r\nQ 22.75 39.890625 18.8125 39.015625 \r\nQ 14.890625 38.140625 10.796875 36.28125 \r\nz\r\n\" id=\"DejaVuSans-53\"/>\r\n      </defs>\r\n      <g transform=\"translate(542.314925 837.198437)scale(0.1 -0.1)\">\r\n       <use xlink:href=\"#DejaVuSans-50\"/>\r\n       <use x=\"63.623047\" xlink:href=\"#DejaVuSans-48\"/>\r\n       <use x=\"127.246094\" xlink:href=\"#DejaVuSans-50\"/>\r\n       <use x=\"190.869141\" xlink:href=\"#DejaVuSans-48\"/>\r\n       <use x=\"254.492188\" xlink:href=\"#DejaVuSans-45\"/>\r\n       <use x=\"290.576172\" xlink:href=\"#DejaVuSans-48\"/>\r\n       <use x=\"354.199219\" xlink:href=\"#DejaVuSans-53\"/>\r\n      </g>\r\n     </g>\r\n    </g>\r\n    <g id=\"xtick_5\">\r\n     <g id=\"line2d_5\">\r\n      <g>\r\n       <use style=\"stroke:#000000;stroke-width:0.8;\" x=\"703.612175\" xlink:href=\"#me09ccbe6fc\" y=\"822.6\"/>\r\n      </g>\r\n     </g>\r\n     <g id=\"text_5\">\r\n      <!-- 2020-06 -->\r\n      <defs>\r\n       <path d=\"M 33.015625 40.375 \r\nQ 26.375 40.375 22.484375 35.828125 \r\nQ 18.609375 31.296875 18.609375 23.390625 \r\nQ 18.609375 15.53125 22.484375 10.953125 \r\nQ 26.375 6.390625 33.015625 6.390625 \r\nQ 39.65625 6.390625 43.53125 10.953125 \r\nQ 47.40625 15.53125 47.40625 23.390625 \r\nQ 47.40625 31.296875 43.53125 35.828125 \r\nQ 39.65625 40.375 33.015625 40.375 \r\nz\r\nM 52.59375 71.296875 \r\nL 52.59375 62.3125 \r\nQ 48.875 64.0625 45.09375 64.984375 \r\nQ 41.3125 65.921875 37.59375 65.921875 \r\nQ 27.828125 65.921875 22.671875 59.328125 \r\nQ 17.53125 52.734375 16.796875 39.40625 \r\nQ 19.671875 43.65625 24.015625 45.921875 \r\nQ 28.375 48.1875 33.59375 48.1875 \r\nQ 44.578125 48.1875 50.953125 41.515625 \r\nQ 57.328125 34.859375 57.328125 23.390625 \r\nQ 57.328125 12.15625 50.6875 5.359375 \r\nQ 44.046875 -1.421875 33.015625 -1.421875 \r\nQ 20.359375 -1.421875 13.671875 8.265625 \r\nQ 6.984375 17.96875 6.984375 36.375 \r\nQ 6.984375 53.65625 15.1875 63.9375 \r\nQ 23.390625 74.21875 37.203125 74.21875 \r\nQ 40.921875 74.21875 44.703125 73.484375 \r\nQ 48.484375 72.75 52.59375 71.296875 \r\nz\r\n\" id=\"DejaVuSans-54\"/>\r\n      </defs>\r\n      <g transform=\"translate(682.720769 837.198437)scale(0.1 -0.1)\">\r\n       <use xlink:href=\"#DejaVuSans-50\"/>\r\n       <use x=\"63.623047\" xlink:href=\"#DejaVuSans-48\"/>\r\n       <use x=\"127.246094\" xlink:href=\"#DejaVuSans-50\"/>\r\n       <use x=\"190.869141\" xlink:href=\"#DejaVuSans-48\"/>\r\n       <use x=\"254.492188\" xlink:href=\"#DejaVuSans-45\"/>\r\n       <use x=\"290.576172\" xlink:href=\"#DejaVuSans-48\"/>\r\n       <use x=\"354.199219\" xlink:href=\"#DejaVuSans-54\"/>\r\n      </g>\r\n     </g>\r\n    </g>\r\n    <g id=\"xtick_6\">\r\n     <g id=\"line2d_6\">\r\n      <g>\r\n       <use style=\"stroke:#000000;stroke-width:0.8;\" x=\"839.488799\" xlink:href=\"#me09ccbe6fc\" y=\"822.6\"/>\r\n      </g>\r\n     </g>\r\n     <g id=\"text_6\">\r\n      <!-- 2020-07 -->\r\n      <defs>\r\n       <path d=\"M 8.203125 72.90625 \r\nL 55.078125 72.90625 \r\nL 55.078125 68.703125 \r\nL 28.609375 0 \r\nL 18.3125 0 \r\nL 43.21875 64.59375 \r\nL 8.203125 64.59375 \r\nz\r\n\" id=\"DejaVuSans-55\"/>\r\n      </defs>\r\n      <g transform=\"translate(818.597392 837.198437)scale(0.1 -0.1)\">\r\n       <use xlink:href=\"#DejaVuSans-50\"/>\r\n       <use x=\"63.623047\" xlink:href=\"#DejaVuSans-48\"/>\r\n       <use x=\"127.246094\" xlink:href=\"#DejaVuSans-50\"/>\r\n       <use x=\"190.869141\" xlink:href=\"#DejaVuSans-48\"/>\r\n       <use x=\"254.492188\" xlink:href=\"#DejaVuSans-45\"/>\r\n       <use x=\"290.576172\" xlink:href=\"#DejaVuSans-48\"/>\r\n       <use x=\"354.199219\" xlink:href=\"#DejaVuSans-55\"/>\r\n      </g>\r\n     </g>\r\n    </g>\r\n    <g id=\"xtick_7\">\r\n     <g id=\"line2d_7\">\r\n      <g>\r\n       <use style=\"stroke:#000000;stroke-width:0.8;\" x=\"979.894643\" xlink:href=\"#me09ccbe6fc\" y=\"822.6\"/>\r\n      </g>\r\n     </g>\r\n     <g id=\"text_7\">\r\n      <!-- 2020-08 -->\r\n      <defs>\r\n       <path d=\"M 31.78125 34.625 \r\nQ 24.75 34.625 20.71875 30.859375 \r\nQ 16.703125 27.09375 16.703125 20.515625 \r\nQ 16.703125 13.921875 20.71875 10.15625 \r\nQ 24.75 6.390625 31.78125 6.390625 \r\nQ 38.8125 6.390625 42.859375 10.171875 \r\nQ 46.921875 13.96875 46.921875 20.515625 \r\nQ 46.921875 27.09375 42.890625 30.859375 \r\nQ 38.875 34.625 31.78125 34.625 \r\nz\r\nM 21.921875 38.8125 \r\nQ 15.578125 40.375 12.03125 44.71875 \r\nQ 8.5 49.078125 8.5 55.328125 \r\nQ 8.5 64.0625 14.71875 69.140625 \r\nQ 20.953125 74.21875 31.78125 74.21875 \r\nQ 42.671875 74.21875 48.875 69.140625 \r\nQ 55.078125 64.0625 55.078125 55.328125 \r\nQ 55.078125 49.078125 51.53125 44.71875 \r\nQ 48 40.375 41.703125 38.8125 \r\nQ 48.828125 37.15625 52.796875 32.3125 \r\nQ 56.78125 27.484375 56.78125 20.515625 \r\nQ 56.78125 9.90625 50.3125 4.234375 \r\nQ 43.84375 -1.421875 31.78125 -1.421875 \r\nQ 19.734375 -1.421875 13.25 4.234375 \r\nQ 6.78125 9.90625 6.78125 20.515625 \r\nQ 6.78125 27.484375 10.78125 32.3125 \r\nQ 14.796875 37.15625 21.921875 38.8125 \r\nz\r\nM 18.3125 54.390625 \r\nQ 18.3125 48.734375 21.84375 45.5625 \r\nQ 25.390625 42.390625 31.78125 42.390625 \r\nQ 38.140625 42.390625 41.71875 45.5625 \r\nQ 45.3125 48.734375 45.3125 54.390625 \r\nQ 45.3125 60.0625 41.71875 63.234375 \r\nQ 38.140625 66.40625 31.78125 66.40625 \r\nQ 25.390625 66.40625 21.84375 63.234375 \r\nQ 18.3125 60.0625 18.3125 54.390625 \r\nz\r\n\" id=\"DejaVuSans-56\"/>\r\n      </defs>\r\n      <g transform=\"translate(959.003237 837.198437)scale(0.1 -0.1)\">\r\n       <use xlink:href=\"#DejaVuSans-50\"/>\r\n       <use x=\"63.623047\" xlink:href=\"#DejaVuSans-48\"/>\r\n       <use x=\"127.246094\" xlink:href=\"#DejaVuSans-50\"/>\r\n       <use x=\"190.869141\" xlink:href=\"#DejaVuSans-48\"/>\r\n       <use x=\"254.492188\" xlink:href=\"#DejaVuSans-45\"/>\r\n       <use x=\"290.576172\" xlink:href=\"#DejaVuSans-48\"/>\r\n       <use x=\"354.199219\" xlink:href=\"#DejaVuSans-56\"/>\r\n      </g>\r\n     </g>\r\n    </g>\r\n    <g id=\"xtick_8\">\r\n     <g id=\"line2d_8\">\r\n      <g>\r\n       <use style=\"stroke:#000000;stroke-width:0.8;\" x=\"1120.300487\" xlink:href=\"#me09ccbe6fc\" y=\"822.6\"/>\r\n      </g>\r\n     </g>\r\n     <g id=\"text_8\">\r\n      <!-- 2020-09 -->\r\n      <defs>\r\n       <path d=\"M 10.984375 1.515625 \r\nL 10.984375 10.5 \r\nQ 14.703125 8.734375 18.5 7.8125 \r\nQ 22.3125 6.890625 25.984375 6.890625 \r\nQ 35.75 6.890625 40.890625 13.453125 \r\nQ 46.046875 20.015625 46.78125 33.40625 \r\nQ 43.953125 29.203125 39.59375 26.953125 \r\nQ 35.25 24.703125 29.984375 24.703125 \r\nQ 19.046875 24.703125 12.671875 31.3125 \r\nQ 6.296875 37.9375 6.296875 49.421875 \r\nQ 6.296875 60.640625 12.9375 67.421875 \r\nQ 19.578125 74.21875 30.609375 74.21875 \r\nQ 43.265625 74.21875 49.921875 64.515625 \r\nQ 56.59375 54.828125 56.59375 36.375 \r\nQ 56.59375 19.140625 48.40625 8.859375 \r\nQ 40.234375 -1.421875 26.421875 -1.421875 \r\nQ 22.703125 -1.421875 18.890625 -0.6875 \r\nQ 15.09375 0.046875 10.984375 1.515625 \r\nz\r\nM 30.609375 32.421875 \r\nQ 37.25 32.421875 41.125 36.953125 \r\nQ 45.015625 41.5 45.015625 49.421875 \r\nQ 45.015625 57.28125 41.125 61.84375 \r\nQ 37.25 66.40625 30.609375 66.40625 \r\nQ 23.96875 66.40625 20.09375 61.84375 \r\nQ 16.21875 57.28125 16.21875 49.421875 \r\nQ 16.21875 41.5 20.09375 36.953125 \r\nQ 23.96875 32.421875 30.609375 32.421875 \r\nz\r\n\" id=\"DejaVuSans-57\"/>\r\n      </defs>\r\n      <g transform=\"translate(1099.409081 837.198437)scale(0.1 -0.1)\">\r\n       <use xlink:href=\"#DejaVuSans-50\"/>\r\n       <use x=\"63.623047\" xlink:href=\"#DejaVuSans-48\"/>\r\n       <use x=\"127.246094\" xlink:href=\"#DejaVuSans-50\"/>\r\n       <use x=\"190.869141\" xlink:href=\"#DejaVuSans-48\"/>\r\n       <use x=\"254.492188\" xlink:href=\"#DejaVuSans-45\"/>\r\n       <use x=\"290.576172\" xlink:href=\"#DejaVuSans-48\"/>\r\n       <use x=\"354.199219\" xlink:href=\"#DejaVuSans-57\"/>\r\n      </g>\r\n     </g>\r\n    </g>\r\n    <g id=\"xtick_9\">\r\n     <g id=\"line2d_9\">\r\n      <g>\r\n       <use style=\"stroke:#000000;stroke-width:0.8;\" x=\"1256.17711\" xlink:href=\"#me09ccbe6fc\" y=\"822.6\"/>\r\n      </g>\r\n     </g>\r\n     <g id=\"text_9\">\r\n      <!-- 2020-10 -->\r\n      <defs>\r\n       <path d=\"M 12.40625 8.296875 \r\nL 28.515625 8.296875 \r\nL 28.515625 63.921875 \r\nL 10.984375 60.40625 \r\nL 10.984375 69.390625 \r\nL 28.421875 72.90625 \r\nL 38.28125 72.90625 \r\nL 38.28125 8.296875 \r\nL 54.390625 8.296875 \r\nL 54.390625 0 \r\nL 12.40625 0 \r\nz\r\n\" id=\"DejaVuSans-49\"/>\r\n      </defs>\r\n      <g transform=\"translate(1235.285704 837.198437)scale(0.1 -0.1)\">\r\n       <use xlink:href=\"#DejaVuSans-50\"/>\r\n       <use x=\"63.623047\" xlink:href=\"#DejaVuSans-48\"/>\r\n       <use x=\"127.246094\" xlink:href=\"#DejaVuSans-50\"/>\r\n       <use x=\"190.869141\" xlink:href=\"#DejaVuSans-48\"/>\r\n       <use x=\"254.492188\" xlink:href=\"#DejaVuSans-45\"/>\r\n       <use x=\"290.576172\" xlink:href=\"#DejaVuSans-49\"/>\r\n       <use x=\"354.199219\" xlink:href=\"#DejaVuSans-48\"/>\r\n      </g>\r\n     </g>\r\n    </g>\r\n    <g id=\"xtick_10\">\r\n     <g id=\"line2d_10\">\r\n      <g>\r\n       <use style=\"stroke:#000000;stroke-width:0.8;\" x=\"1396.582955\" xlink:href=\"#me09ccbe6fc\" y=\"822.6\"/>\r\n      </g>\r\n     </g>\r\n     <g id=\"text_10\">\r\n      <!-- 2020-11 -->\r\n      <g transform=\"translate(1375.691548 837.198437)scale(0.1 -0.1)\">\r\n       <use xlink:href=\"#DejaVuSans-50\"/>\r\n       <use x=\"63.623047\" xlink:href=\"#DejaVuSans-48\"/>\r\n       <use x=\"127.246094\" xlink:href=\"#DejaVuSans-50\"/>\r\n       <use x=\"190.869141\" xlink:href=\"#DejaVuSans-48\"/>\r\n       <use x=\"254.492188\" xlink:href=\"#DejaVuSans-45\"/>\r\n       <use x=\"290.576172\" xlink:href=\"#DejaVuSans-49\"/>\r\n       <use x=\"354.199219\" xlink:href=\"#DejaVuSans-49\"/>\r\n      </g>\r\n     </g>\r\n    </g>\r\n   </g>\r\n   <g id=\"matplotlib.axis_2\">\r\n    <g id=\"ytick_1\">\r\n     <g id=\"line2d_11\">\r\n      <defs>\r\n       <path d=\"M 0 0 \r\nL -3.5 0 \r\n\" id=\"mbd7266a0ef\" style=\"stroke:#000000;stroke-width:0.8;\"/>\r\n      </defs>\r\n      <g>\r\n       <use style=\"stroke:#000000;stroke-width:0.8;\" x=\"33.2875\" xlink:href=\"#mbd7266a0ef\" y=\"785.536364\"/>\r\n      </g>\r\n     </g>\r\n     <g id=\"text_11\">\r\n      <!-- 0 -->\r\n      <g transform=\"translate(19.925 789.335582)scale(0.1 -0.1)\">\r\n       <use xlink:href=\"#DejaVuSans-48\"/>\r\n      </g>\r\n     </g>\r\n    </g>\r\n    <g id=\"ytick_2\">\r\n     <g id=\"line2d_12\">\r\n      <g>\r\n       <use style=\"stroke:#000000;stroke-width:0.8;\" x=\"33.2875\" xlink:href=\"#mbd7266a0ef\" y=\"655.415864\"/>\r\n      </g>\r\n     </g>\r\n     <g id=\"text_12\">\r\n      <!-- 20 -->\r\n      <g transform=\"translate(13.5625 659.215083)scale(0.1 -0.1)\">\r\n       <use xlink:href=\"#DejaVuSans-50\"/>\r\n       <use x=\"63.623047\" xlink:href=\"#DejaVuSans-48\"/>\r\n      </g>\r\n     </g>\r\n    </g>\r\n    <g id=\"ytick_3\">\r\n     <g id=\"line2d_13\">\r\n      <g>\r\n       <use style=\"stroke:#000000;stroke-width:0.8;\" x=\"33.2875\" xlink:href=\"#mbd7266a0ef\" y=\"525.295364\"/>\r\n      </g>\r\n     </g>\r\n     <g id=\"text_13\">\r\n      <!-- 40 -->\r\n      <g transform=\"translate(13.5625 529.094583)scale(0.1 -0.1)\">\r\n       <use xlink:href=\"#DejaVuSans-52\"/>\r\n       <use x=\"63.623047\" xlink:href=\"#DejaVuSans-48\"/>\r\n      </g>\r\n     </g>\r\n    </g>\r\n    <g id=\"ytick_4\">\r\n     <g id=\"line2d_14\">\r\n      <g>\r\n       <use style=\"stroke:#000000;stroke-width:0.8;\" x=\"33.2875\" xlink:href=\"#mbd7266a0ef\" y=\"395.174864\"/>\r\n      </g>\r\n     </g>\r\n     <g id=\"text_14\">\r\n      <!-- 60 -->\r\n      <g transform=\"translate(13.5625 398.974083)scale(0.1 -0.1)\">\r\n       <use xlink:href=\"#DejaVuSans-54\"/>\r\n       <use x=\"63.623047\" xlink:href=\"#DejaVuSans-48\"/>\r\n      </g>\r\n     </g>\r\n    </g>\r\n    <g id=\"ytick_5\">\r\n     <g id=\"line2d_15\">\r\n      <g>\r\n       <use style=\"stroke:#000000;stroke-width:0.8;\" x=\"33.2875\" xlink:href=\"#mbd7266a0ef\" y=\"265.054365\"/>\r\n      </g>\r\n     </g>\r\n     <g id=\"text_15\">\r\n      <!-- 80 -->\r\n      <g transform=\"translate(13.5625 268.853584)scale(0.1 -0.1)\">\r\n       <use xlink:href=\"#DejaVuSans-56\"/>\r\n       <use x=\"63.623047\" xlink:href=\"#DejaVuSans-48\"/>\r\n      </g>\r\n     </g>\r\n    </g>\r\n    <g id=\"ytick_6\">\r\n     <g id=\"line2d_16\">\r\n      <g>\r\n       <use style=\"stroke:#000000;stroke-width:0.8;\" x=\"33.2875\" xlink:href=\"#mbd7266a0ef\" y=\"134.933865\"/>\r\n      </g>\r\n     </g>\r\n     <g id=\"text_16\">\r\n      <!-- 100 -->\r\n      <g transform=\"translate(7.2 138.733084)scale(0.1 -0.1)\">\r\n       <use xlink:href=\"#DejaVuSans-49\"/>\r\n       <use x=\"63.623047\" xlink:href=\"#DejaVuSans-48\"/>\r\n       <use x=\"127.246094\" xlink:href=\"#DejaVuSans-48\"/>\r\n      </g>\r\n     </g>\r\n    </g>\r\n   </g>\r\n   <g id=\"line2d_17\">\r\n    <path clip-path=\"url(#pb25fa5f066)\" d=\"M 1364.878409 625.276328 \r\nL 1360.349188 635.232909 \r\nL 1355.819968 653.603798 \r\nL 1351.290747 665.921001 \r\nL 1346.761526 673.779251 \r\nL 1342.232305 680.409977 \r\nL 1337.703084 685.089255 \r\nL 1333.173864 682.613225 \r\nL 1328.644643 694.56322 \r\nL 1324.115422 699.913964 \r\nL 1319.586201 701.750004 \r\nL 1315.056981 708.664005 \r\nL 1310.52776 715.189815 \r\nL 1305.998539 708.265322 \r\nL 1301.469318 715.598989 \r\nL 1296.940097 716.343897 \r\nL 1292.410877 719.585818 \r\nL 1287.881656 726.478836 \r\nL 1283.352435 724.390996 \r\nL 1278.823214 722.57594 \r\nL 1274.293994 731.483355 \r\nL 1269.764773 732.249246 \r\nL 1265.235552 734.421019 \r\nL 1260.706331 732.333179 \r\nL 1256.17711 731.032214 \r\nL 1251.64789 736.120667 \r\nL 1247.118669 735.858376 \r\nL 1242.589448 734.032828 \r\nL 1238.060227 733.16202 \r\nL 1233.531006 731.756138 \r\nL 1229.001786 734.379052 \r\nL 1224.472565 731.924005 \r\nL 1219.943344 731.472864 \r\nL 1215.414123 730.287307 \r\nL 1210.884903 730.748939 \r\nL 1206.355682 733.109562 \r\nL 1201.826461 735.858376 \r\nL 1197.29724 733.927911 \r\nL 1192.768019 738.386865 \r\nL 1188.238799 737.862282 \r\nL 1183.709578 741.691736 \r\nL 1179.180357 742.090419 \r\nL 1174.651136 743.81105 \r\nL 1170.121916 746.822155 \r\nL 1165.592695 754.52303 \r\nL 1161.063474 756.463987 \r\nL 1156.534253 759.737383 \r\nL 1152.005032 761.395065 \r\nL 1147.475812 764.804853 \r\nL 1142.946591 764.164862 \r\nL 1138.41737 764.521578 \r\nL 1133.888149 763.357004 \r\nL 1129.358929 764.248795 \r\nL 1124.829708 765.570744 \r\nL 1120.300487 766.05336 \r\nL 1115.771266 764.773378 \r\nL 1111.242045 766.252701 \r\nL 1106.712825 765.812052 \r\nL 1102.183604 766.934659 \r\nL 1097.654383 766.084835 \r\nL 1093.125162 764.941244 \r\nL 1088.595942 766.336634 \r\nL 1084.066721 765.958935 \r\nL 1079.5375 765.728118 \r\nL 1075.008279 765.266486 \r\nL 1070.479058 765.833035 \r\nL 1065.949838 766.661876 \r\nL 1061.420617 768.59234 \r\nL 1056.891396 768.802173 \r\nL 1052.362175 771.246729 \r\nL 1047.832955 772.149011 \r\nL 1043.303734 773.65981 \r\nL 1038.774513 774.61455 \r\nL 1034.245292 775.821091 \r\nL 1029.716071 777.268939 \r\nL 1025.186851 777.342381 \r\nL 1020.65763 778.171222 \r\nL 1011.599188 777.97188 \r\nL 1007.069968 778.402038 \r\nL 1002.540747 777.887947 \r\nL 998.011526 777.247956 \r\nL 993.482305 777.237464 \r\nL 988.953084 776.901731 \r\nL 984.423864 776.356165 \r\nL 979.894643 776.419115 \r\nL 975.365422 776.230265 \r\nL 970.836201 776.219774 \r\nL 966.306981 776.471573 \r\nL 961.77776 776.398132 \r\nL 957.248539 775.936499 \r\nL 952.719318 776.712881 \r\nL 948.190097 776.901731 \r\nL 943.660877 776.57649 \r\nL 939.131656 776.691898 \r\nL 934.602435 777.583689 \r\nL 930.073214 776.933206 \r\nL 925.543994 777.940405 \r\nL 921.014773 778.055813 \r\nL 916.485552 777.992863 \r\nL 907.42711 779.251862 \r\nL 902.89789 778.769246 \r\nL 898.368669 779.944311 \r\nL 893.839448 779.472187 \r\nL 884.781006 779.094487 \r\nL 875.722565 778.171222 \r\nL 871.193344 778.842688 \r\nL 866.664123 778.611871 \r\nL 857.605682 778.884654 \r\nL 848.54724 780.070211 \r\nL 844.018019 781.024952 \r\nL 839.488799 781.066918 \r\nL 834.959578 781.906251 \r\nL 830.430357 781.969201 \r\nL 825.901136 782.231492 \r\nL 821.371916 782.252476 \r\nL 816.842695 782.640667 \r\nL 794.196591 783.091808 \r\nL 789.66737 783.532457 \r\nL 785.138149 783.532457 \r\nL 780.608929 783.658357 \r\nL 776.079708 783.479999 \r\nL 771.550487 783.689832 \r\nL 767.021266 783.752782 \r\nL 762.492045 783.521966 \r\nL 757.962825 783.532457 \r\nL 753.433604 783.196724 \r\nL 748.904383 783.112791 \r\nL 735.316721 783.16525 \r\nL 730.7875 783.605899 \r\nL 726.258279 783.343608 \r\nL 712.670617 783.679341 \r\nL 708.141396 783.396066 \r\nL 703.612175 783.406558 \r\nL 699.082955 783.112791 \r\nL 694.553734 783.091808 \r\nL 690.024513 783.322624 \r\nL 685.495292 783.018366 \r\nL 680.966071 783.018366 \r\nL 676.436851 782.5987 \r\nL 671.90763 782.546242 \r\nL 667.378409 782.735092 \r\nL 658.319968 782.105592 \r\nL 653.790747 782.273459 \r\nL 649.261526 781.895759 \r\nL 644.732305 782.336409 \r\nL 640.203084 781.685926 \r\nL 635.673864 781.727893 \r\nL 631.144643 782.042642 \r\nL 626.615422 782.053134 \r\nL 622.086201 782.252476 \r\nL 617.556981 782.137067 \r\nL 613.02776 782.336409 \r\nL 608.498539 782.923941 \r\nL 603.969318 782.315425 \r\nL 594.910877 782.923941 \r\nL 590.381656 782.525259 \r\nL 585.852435 782.682633 \r\nL 576.793994 781.874776 \r\nL 572.264773 782.011167 \r\nL 563.206331 780.930527 \r\nL 558.67711 780.920035 \r\nL 554.14789 780.489877 \r\nL 549.618669 780.573811 \r\nL 545.089448 780.510861 \r\nL 536.031006 780.657744 \r\nL 531.501786 779.902345 \r\nL 526.972565 779.723987 \r\nL 522.443344 779.251862 \r\nL 517.914123 777.772539 \r\nL 513.384903 777.426314 \r\nL 508.855682 776.565998 \r\nL 504.326461 774.593567 \r\nL 499.79724 772.946377 \r\nL 490.738799 768.812665 \r\nL 486.209578 767.217933 \r\nL 481.680357 765.035669 \r\nL 477.151136 764.122895 \r\nL 472.621916 764.185845 \r\nL 468.092695 763.304546 \r\nL 463.563474 761.846206 \r\nL 459.034253 759.747875 \r\nL 454.505032 757.429219 \r\nL 449.975812 752.277816 \r\nL 445.446591 749.077861 \r\nL 440.91737 745.374307 \r\nL 436.388149 742.520577 \r\nL 431.858929 734.93511 \r\nL 427.329708 734.127252 \r\nL 422.800487 731.693188 \r\nL 418.271266 731.168606 \r\nL 413.742045 730.276815 \r\nL 404.683604 734.830193 \r\nL 400.154383 741.030762 \r\nL 395.625162 744.094325 \r\nL 391.095942 749.13032 \r\nL 386.566721 756.463987 \r\nL 382.0375 760.681632 \r\nL 377.508279 763.031763 \r\nL 372.979058 766.284176 \r\nL 368.449838 770.848046 \r\nL 363.920617 773.47096 \r\nL 359.391396 776.251249 \r\nL 354.862175 777.583689 \r\nL 350.332955 779.703003 \r\nL 345.803734 781.024952 \r\nL 336.745292 783.259674 \r\nL 332.216071 783.878682 \r\nL 327.686851 784.350807 \r\nL 323.15763 784.613098 \r\nL 318.628409 784.602606 \r\nL 305.040747 785.253089 \r\nL 273.336201 785.51538 \r\nL 96.696591 785.536364 \r\nL 96.696591 785.536364 \r\n\" style=\"fill:none;stroke:#1f77b4;stroke-linecap:square;stroke-width:1.5;\"/>\r\n   </g>\r\n   <g id=\"line2d_18\">\r\n    <path clip-path=\"url(#pb25fa5f066)\" d=\"M 1364.878409 48.701666 \r\nL 1360.349188 44.263636 \r\nL 1355.819968 55.946933 \r\nL 1351.290747 83.68665 \r\nL 1346.761526 115.036829 \r\nL 1342.232305 163.887614 \r\nL 1337.703084 207.002224 \r\nL 1333.173864 222.158057 \r\nL 1328.644643 249.970794 \r\nL 1324.115422 293.272012 \r\nL 1319.586201 334.496201 \r\nL 1315.056981 378.649326 \r\nL 1310.52776 434.355935 \r\nL 1305.998539 470.590381 \r\nL 1301.469318 481.73008 \r\nL 1296.940097 502.800581 \r\nL 1292.410877 535.757214 \r\nL 1287.881656 561.541601 \r\nL 1283.352435 590.392854 \r\nL 1278.823214 612.323375 \r\nL 1274.293994 632.371588 \r\nL 1269.764773 636.395835 \r\nL 1265.235552 642.602586 \r\nL 1260.706331 659.632614 \r\nL 1256.17711 672.711416 \r\nL 1251.64789 682.001259 \r\nL 1247.118669 689.384454 \r\nL 1242.589448 694.082113 \r\nL 1238.060227 694.714958 \r\nL 1233.531006 695.120628 \r\nL 1229.001786 694.414762 \r\nL 1224.472565 694.779865 \r\nL 1219.943344 696.037442 \r\nL 1215.414123 699.656019 \r\nL 1210.884903 703.534224 \r\nL 1206.355682 704.832368 \r\nL 1201.826461 707.07978 \r\nL 1197.29724 710.527976 \r\nL 1192.768019 715.45281 \r\nL 1188.238799 722.892798 \r\nL 1183.709578 729.034642 \r\nL 1179.180357 735.574043 \r\nL 1174.651136 736.7586 \r\nL 1170.121916 739.152053 \r\nL 1165.592695 743.663103 \r\nL 1156.534253 751.094978 \r\nL 1152.005032 753.577679 \r\nL 1147.475812 755.881885 \r\nL 1142.946591 756.190194 \r\nL 1129.358929 759.297626 \r\nL 1120.300487 759.995379 \r\nL 1115.771266 760.214441 \r\nL 1106.712825 760.16576 \r\nL 1102.183604 761.009554 \r\nL 1097.654383 760.636337 \r\nL 1093.125162 759.938585 \r\nL 1088.595942 758.332132 \r\nL 1084.066721 757.520792 \r\nL 1079.5375 757.382864 \r\nL 1075.008279 757.7074 \r\nL 1065.949838 756.368689 \r\nL 1056.891396 756.449823 \r\nL 1052.362175 755.102998 \r\nL 1047.832955 755.184132 \r\nL 1043.303734 754.040143 \r\nL 1038.774513 752.547277 \r\nL 1034.245292 751.735937 \r\nL 1029.716071 750.45402 \r\nL 1025.186851 749.683247 \r\nL 1020.65763 750.324205 \r\nL 1016.128409 750.113257 \r\nL 1011.599188 750.07269 \r\nL 1007.069968 750.778556 \r\nL 1002.540747 751.865751 \r\nL 998.011526 752.385009 \r\nL 993.482305 753.423524 \r\nL 988.953084 755.038091 \r\nL 984.423864 754.746009 \r\nL 979.894643 755.395081 \r\nL 970.836201 758.510626 \r\nL 966.306981 759.727637 \r\nL 961.77776 764.108873 \r\nL 957.248539 765.34211 \r\nL 952.719318 766.315718 \r\nL 948.190097 767.118944 \r\nL 939.131656 770.648274 \r\nL 934.602435 773.0255 \r\nL 930.073214 772.522469 \r\nL 925.543994 774.299304 \r\nL 921.014773 774.469685 \r\nL 916.485552 775.021397 \r\nL 911.956331 776.214066 \r\nL 907.42711 777.041633 \r\nL 902.89789 778.039582 \r\nL 893.839448 779.82453 \r\nL 889.310227 779.978684 \r\nL 884.781006 779.962457 \r\nL 875.722565 780.481715 \r\nL 866.664123 780.489828 \r\nL 862.134903 780.368127 \r\nL 857.605682 780.368127 \r\nL 853.076461 780.554736 \r\nL 848.54724 780.400581 \r\nL 844.018019 780.538509 \r\nL 839.488799 780.822478 \r\nL 812.313474 780.246426 \r\nL 807.784253 780.059818 \r\nL 803.255032 780.149066 \r\nL 789.66737 780.108499 \r\nL 785.138149 780.368127 \r\nL 776.079708 780.506055 \r\nL 771.550487 780.132839 \r\nL 767.021266 780.092272 \r\nL 757.962825 779.678488 \r\nL 744.375162 778.20185 \r\nL 739.845942 777.909767 \r\nL 735.316721 778.664313 \r\nL 721.729058 778.672427 \r\nL 717.199838 778.68054 \r\nL 708.141396 778.323551 \r\nL 703.612175 776.254633 \r\nL 699.082955 776.043685 \r\nL 694.553734 775.540654 \r\nL 690.024513 774.867242 \r\nL 685.495292 775.686695 \r\nL 680.966071 774.039675 \r\nL 676.436851 773.309469 \r\nL 667.378409 773.236448 \r\nL 662.849188 773.041727 \r\nL 658.319968 772.246614 \r\nL 653.790747 770.339964 \r\nL 649.261526 770.859222 \r\nL 644.732305 770.023542 \r\nL 640.203084 768.733511 \r\nL 635.673864 768.433315 \r\nL 631.144643 767.678769 \r\nL 622.086201 765.455697 \r\nL 617.556981 763.581502 \r\nL 613.02776 762.356378 \r\nL 608.498539 760.782379 \r\nL 603.969318 760.603884 \r\nL 599.440097 760.230667 \r\nL 594.910877 762.226564 \r\nL 590.381656 761.058234 \r\nL 585.852435 761.301636 \r\nL 581.323214 761.115028 \r\nL 576.793994 760.425389 \r\nL 572.264773 759.898018 \r\nL 567.735552 759.070451 \r\nL 563.206331 754.413359 \r\nL 558.67711 751.249133 \r\nL 554.14789 749.180216 \r\nL 549.618669 743.492722 \r\nL 545.089448 739.26564 \r\nL 540.560227 737.334651 \r\nL 536.031006 734.624775 \r\nL 531.501786 729.894663 \r\nL 526.972565 724.231509 \r\nL 522.443344 717.286438 \r\nL 517.914123 714.933552 \r\nL 513.384903 720.929355 \r\nL 508.855682 720.27217 \r\nL 504.326461 717.781356 \r\nL 499.79724 710.138532 \r\nL 495.268019 705.554461 \r\nL 486.209578 706.203533 \r\nL 481.680357 694.869113 \r\nL 477.151136 693.725123 \r\nL 472.621916 694.593257 \r\nL 468.092695 699.80206 \r\nL 463.563474 705.976358 \r\nL 459.034253 706.641657 \r\nL 454.505032 705.294832 \r\nL 449.975812 706.885059 \r\nL 445.446591 706.739018 \r\nL 440.91737 707.371863 \r\nL 436.388149 708.799821 \r\nL 431.858929 709.732862 \r\nL 427.329708 712.30481 \r\nL 422.800487 716.247923 \r\nL 418.271266 719.574417 \r\nL 413.742045 721.172757 \r\nL 409.212825 724.215282 \r\nL 404.683604 731.160353 \r\nL 395.625162 741.829475 \r\nL 391.095942 748.101134 \r\nL 386.566721 755.735843 \r\nL 382.0375 757.942688 \r\nL 377.508279 760.295575 \r\nL 372.979058 762.924316 \r\nL 368.449838 766.680821 \r\nL 363.920617 769.601645 \r\nL 359.391396 772.222273 \r\nL 354.862175 774.5995 \r\nL 345.803734 777.049747 \r\nL 341.274513 778.899602 \r\nL 336.745292 780.270767 \r\nL 332.216071 781.252488 \r\nL 318.628409 782.761581 \r\nL 314.099188 782.980642 \r\nL 309.569968 783.873117 \r\nL 305.040747 784.530302 \r\nL 300.511526 784.960312 \r\nL 295.982305 785.236168 \r\nL 286.923864 785.536364 \r\nL 96.696591 785.536364 \r\nL 96.696591 785.536364 \r\n\" style=\"fill:none;stroke:#ff7f0e;stroke-linecap:square;stroke-width:1.5;\"/>\r\n   </g>\r\n   <g id=\"line2d_19\">\r\n    <path clip-path=\"url(#pb25fa5f066)\" d=\"M 1364.878409 481.379223 \r\nL 1360.349188 499.40258 \r\nL 1355.819968 522.905758 \r\nL 1351.290747 538.163545 \r\nL 1346.761526 543.829217 \r\nL 1342.232305 554.196634 \r\nL 1337.703084 560.767982 \r\nL 1333.173864 579.819065 \r\nL 1328.644643 587.49026 \r\nL 1324.115422 594.07409 \r\nL 1319.586201 611.399813 \r\nL 1315.056981 616.732618 \r\nL 1310.52776 620.20553 \r\nL 1305.998539 624.922531 \r\nL 1301.469318 629.854509 \r\nL 1296.940097 643.618556 \r\nL 1292.410877 654.979026 \r\nL 1287.881656 660.747332 \r\nL 1283.352435 668.931698 \r\nL 1278.823214 672.313071 \r\nL 1274.293994 673.747172 \r\nL 1269.764773 675.719409 \r\nL 1265.235552 679.269989 \r\nL 1260.706331 674.209025 \r\nL 1256.17711 671.260379 \r\nL 1251.64789 670.945542 \r\nL 1247.118669 668.23129 \r\nL 1242.589448 667.915067 \r\nL 1238.060227 667.296489 \r\nL 1233.531006 668.564157 \r\nL 1229.001786 672.14525 \r\nL 1224.472565 679.777611 \r\nL 1219.943344 684.337888 \r\nL 1215.414123 687.328142 \r\nL 1210.884903 684.748424 \r\nL 1206.355682 690.831567 \r\nL 1201.826461 694.905025 \r\nL 1197.29724 700.187901 \r\nL 1192.768019 701.22811 \r\nL 1188.238799 702.902153 \r\nL 1183.709578 704.716278 \r\nL 1179.180357 707.427756 \r\nL 1174.651136 707.583094 \r\nL 1170.121916 710.372241 \r\nL 1165.592695 710.970015 \r\nL 1161.063474 714.69535 \r\nL 1152.005032 719.025394 \r\nL 1147.475812 720.58016 \r\nL 1142.946591 722.879715 \r\nL 1138.41737 727.175085 \r\nL 1133.888149 729.38865 \r\nL 1129.358929 730.839395 \r\nL 1124.829708 733.041865 \r\nL 1120.300487 735.369159 \r\nL 1115.771266 736.932247 \r\nL 1111.242045 737.647911 \r\nL 1106.712825 740.215147 \r\nL 1102.183604 744.088885 \r\nL 1097.654383 745.947392 \r\nL 1093.125162 748.240013 \r\nL 1088.595942 749.718497 \r\nL 1084.066721 751.746211 \r\nL 1079.5375 754.356443 \r\nL 1075.008279 754.761431 \r\nL 1070.479058 757.174716 \r\nL 1065.949838 760.090075 \r\nL 1061.420617 761.826531 \r\nL 1056.891396 762.992952 \r\nL 1052.362175 756.944483 \r\nL 1047.832955 761.126123 \r\nL 1043.303734 765.716913 \r\nL 1038.774513 766.490829 \r\nL 1034.245292 767.967925 \r\nL 1029.716071 769.117703 \r\nL 1025.186851 769.61423 \r\nL 1020.65763 771.664135 \r\nL 1011.599188 771.664135 \r\nL 1007.069968 772.970638 \r\nL 998.011526 773.705719 \r\nL 993.482305 774.14122 \r\nL 988.953084 775.28545 \r\nL 979.894643 775.28545 \r\nL 975.365422 775.58503 \r\nL 966.306981 776.568374 \r\nL 961.77776 776.763934 \r\nL 957.248539 777.417185 \r\nL 948.190097 777.417185 \r\nL 943.660877 777.824947 \r\nL 939.131656 778.557254 \r\nL 934.602435 778.655727 \r\nL 930.073214 779.465703 \r\nL 925.543994 780.096764 \r\nL 916.485552 780.096764 \r\nL 911.956331 780.34364 \r\nL 907.42711 780.222976 \r\nL 902.89789 780.589129 \r\nL 898.368669 779.93033 \r\nL 893.839448 780.277066 \r\nL 875.722565 780.32977 \r\nL 871.193344 779.976099 \r\nL 866.664123 779.884561 \r\nL 857.605682 779.955295 \r\nL 853.076461 779.955295 \r\nL 848.54724 778.560028 \r\nL 844.018019 779.474025 \r\nL 839.488799 780.634898 \r\nL 834.959578 780.668185 \r\nL 830.430357 781.98717 \r\nL 825.901136 781.593278 \r\nL 821.371916 780.704246 \r\nL 816.842695 781.781902 \r\nL 812.313474 781.134199 \r\nL 807.784253 780.61132 \r\nL 798.725812 781.157777 \r\nL 794.196591 780.987183 \r\nL 785.138149 781.264572 \r\nL 780.608929 781.322823 \r\nL 767.021266 781.038499 \r\nL 762.492045 781.127264 \r\nL 757.962825 781.053756 \r\nL 753.433604 781.213255 \r\nL 748.904383 780.738919 \r\nL 744.375162 781.0066 \r\nL 739.845942 782.627939 \r\nL 735.316721 782.451797 \r\nL 730.7875 782.571074 \r\nL 726.258279 780.838779 \r\nL 721.729058 780.858197 \r\nL 717.199838 777.31039 \r\nL 712.670617 777.533688 \r\nL 708.141396 776.088491 \r\nL 703.612175 776.060752 \r\nL 699.082955 776.257698 \r\nL 694.553734 778.460168 \r\nL 690.024513 778.729235 \r\nL 685.495292 782.89978 \r\nL 671.90763 782.055131 \r\nL 667.378409 782.048196 \r\nL 658.319968 781.643208 \r\nL 653.790747 781.221576 \r\nL 649.261526 781.098138 \r\nL 644.732305 780.84294 \r\nL 640.203084 780.89287 \r\nL 626.615422 780.57526 \r\nL 622.086201 780.565551 \r\nL 617.556981 775.46714 \r\nL 613.02776 774.917909 \r\nL 603.969318 774.614168 \r\nL 599.440097 774.113481 \r\nL 594.910877 774.166185 \r\nL 590.381656 773.458843 \r\nL 585.852435 777.031614 \r\nL 581.323214 777.085705 \r\nL 576.793994 776.227186 \r\nL 572.264773 776.014983 \r\nL 567.735552 774.984483 \r\nL 563.206331 773.363143 \r\nL 558.67711 772.650253 \r\nL 554.14789 772.345125 \r\nL 549.618669 770.123239 \r\nL 545.089448 768.936013 \r\nL 540.560227 768.486643 \r\nL 536.031006 767.055315 \r\nL 531.501786 768.952657 \r\nL 526.972565 767.582355 \r\nL 522.443344 766.464477 \r\nL 517.914123 762.539421 \r\nL 513.384903 761.676741 \r\nL 508.855682 760.52835 \r\nL 504.326461 759.772465 \r\nL 499.79724 754.31206 \r\nL 495.268019 752.030535 \r\nL 490.738799 750.299627 \r\nL 486.209578 752.685173 \r\nL 481.680357 750.966748 \r\nL 477.151136 750.606142 \r\nL 472.621916 749.006994 \r\nL 468.092695 747.771226 \r\nL 463.563474 750.780897 \r\nL 459.034253 749.421691 \r\nL 454.505032 744.149911 \r\nL 449.975812 743.506368 \r\nL 445.446591 742.499446 \r\nL 440.91737 742.022337 \r\nL 436.388149 743.997347 \r\nL 431.858929 741.492523 \r\nL 427.329708 744.169328 \r\nL 422.800487 751.287132 \r\nL 418.271266 752.033309 \r\nL 413.742045 753.475732 \r\nL 409.212825 757.30925 \r\nL 404.683604 760.349434 \r\nL 400.154383 763.207929 \r\nL 395.625162 765.325794 \r\nL 391.095942 767.196784 \r\nL 386.566721 770.841676 \r\nL 382.0375 771.722387 \r\nL 377.508279 773.121815 \r\nL 372.979058 774.275753 \r\nL 368.449838 776.031626 \r\nL 363.920617 777.289586 \r\nL 359.391396 778.295121 \r\nL 354.862175 779.576659 \r\nL 350.332955 780.289549 \r\nL 345.803734 781.308954 \r\nL 341.274513 782.134186 \r\nL 332.216071 783.356085 \r\nL 327.686851 783.824873 \r\nL 323.15763 784.154966 \r\nL 318.628409 784.682005 \r\nL 314.099188 784.765222 \r\nL 305.040747 785.164662 \r\nL 291.453084 785.372704 \r\nL 264.27776 785.536364 \r\nL 96.696591 785.536364 \r\nL 96.696591 785.536364 \r\n\" style=\"fill:none;stroke:#2ca02c;stroke-linecap:square;stroke-width:1.5;\"/>\r\n   </g>\r\n   <g id=\"line2d_20\">\r\n    <path clip-path=\"url(#pb25fa5f066)\" d=\"M 1364.878409 710.295532 \r\nL 1360.349188 716.552634 \r\nL 1355.819968 724.259538 \r\nL 1351.290747 728.634694 \r\nL 1346.761526 733.839429 \r\nL 1342.232305 736.596853 \r\nL 1337.703084 739.671106 \r\nL 1333.173864 741.751209 \r\nL 1328.644643 744.106718 \r\nL 1324.115422 747.587363 \r\nL 1319.586201 750.742223 \r\nL 1315.056981 753.630633 \r\nL 1310.52776 756.21005 \r\nL 1305.998539 757.870326 \r\nL 1301.469318 759.085025 \r\nL 1296.940097 760.432949 \r\nL 1292.410877 762.848914 \r\nL 1287.881656 764.912223 \r\nL 1283.352435 766.653106 \r\nL 1278.823214 767.806231 \r\nL 1274.293994 768.421977 \r\nL 1269.764773 768.634689 \r\nL 1265.235552 769.607568 \r\nL 1260.706331 769.670262 \r\nL 1256.17711 770.252423 \r\nL 1251.64789 770.655456 \r\nL 1247.118669 770.687923 \r\nL 1238.060227 771.290235 \r\nL 1233.531006 771.363005 \r\nL 1224.472565 771.863439 \r\nL 1215.414123 771.658563 \r\nL 1210.884903 772.122052 \r\nL 1206.355682 772.116454 \r\nL 1201.826461 772.560911 \r\nL 1197.29724 773.307643 \r\nL 1192.768019 773.791284 \r\nL 1188.238799 774.129385 \r\nL 1183.709578 774.94105 \r\nL 1179.180357 774.838053 \r\nL 1174.651136 774.964561 \r\nL 1170.121916 774.919779 \r\nL 1165.592695 775.201903 \r\nL 1161.063474 775.236608 \r\nL 1156.534253 775.88706 \r\nL 1152.005032 775.797497 \r\nL 1142.946591 776.340474 \r\nL 1138.41737 776.56774 \r\nL 1129.358929 776.322561 \r\nL 1124.829708 776.103131 \r\nL 1120.300487 775.744879 \r\nL 1106.712825 775.567992 \r\nL 1102.183604 775.954233 \r\nL 1097.654383 775.107862 \r\nL 1093.125162 774.883954 \r\nL 1088.595942 775.787421 \r\nL 1084.066721 775.616132 \r\nL 1079.5375 775.873626 \r\nL 1075.008279 775.945276 \r\nL 1070.479058 775.715771 \r\nL 1065.949838 776.695367 \r\nL 1061.420617 776.903601 \r\nL 1056.891396 776.441232 \r\nL 1052.362175 776.83531 \r\nL 1047.832955 777.018914 \r\nL 1043.303734 777.034587 \r\nL 1034.245292 777.742136 \r\nL 1029.716071 777.496957 \r\nL 1025.186851 777.990673 \r\nL 1020.65763 778.214581 \r\nL 1016.128409 777.99963 \r\nL 1011.599188 778.519096 \r\nL 1007.069968 778.563877 \r\nL 1002.540747 778.893022 \r\nL 998.011526 779.831195 \r\nL 993.482305 779.895009 \r\nL 984.423864 780.359617 \r\nL 979.894643 780.286847 \r\nL 975.365422 780.481647 \r\nL 970.836201 780.543221 \r\nL 966.306981 780.916028 \r\nL 961.77776 781.173522 \r\nL 948.190097 781.514981 \r\nL 939.131656 782.056838 \r\nL 930.073214 782.211334 \r\nL 921.014773 782.435242 \r\nL 916.485552 782.383743 \r\nL 902.89789 782.866264 \r\nL 889.310227 782.772223 \r\nL 880.251786 782.733039 \r\nL 853.076461 782.34232 \r\nL 848.54724 782.045642 \r\nL 839.488799 781.868755 \r\nL 834.959578 781.733291 \r\nL 830.430357 781.727693 \r\nL 825.901136 781.41982 \r\nL 821.371916 780.937299 \r\nL 816.842695 781.033579 \r\nL 812.313474 780.705555 \r\nL 807.784253 780.761531 \r\nL 803.255032 781.03246 \r\nL 798.725812 781.172402 \r\nL 785.138149 782.334483 \r\nL 780.608929 782.907687 \r\nL 762.492045 782.97262 \r\nL 753.433604 782.846112 \r\nL 748.904383 782.567347 \r\nL 744.375162 782.747593 \r\nL 739.845942 782.720724 \r\nL 735.316721 782.874101 \r\nL 730.7875 782.740876 \r\nL 726.258279 782.757669 \r\nL 717.199838 782.12513 \r\nL 708.141396 782.14864 \r\nL 703.612175 781.903461 \r\nL 699.082955 781.952721 \r\nL 694.553734 781.790387 \r\nL 690.024513 781.902341 \r\nL 685.495292 782.216932 \r\nL 676.436851 781.291073 \r\nL 658.319968 780.991037 \r\nL 653.790747 780.483886 \r\nL 649.261526 780.273413 \r\nL 644.732305 780.272293 \r\nL 640.203084 779.802087 \r\nL 631.144643 779.691253 \r\nL 626.615422 778.984824 \r\nL 613.02776 778.093671 \r\nL 608.498539 778.371317 \r\nL 603.969318 778.010825 \r\nL 599.440097 777.869763 \r\nL 594.910877 778.212342 \r\nL 590.381656 777.73094 \r\nL 581.323214 777.114075 \r\nL 576.793994 776.600206 \r\nL 572.264773 776.220683 \r\nL 567.735552 775.163838 \r\nL 563.206331 773.921151 \r\nL 558.67711 773.139713 \r\nL 549.618669 771.116706 \r\nL 545.089448 770.399082 \r\nL 536.031006 768.744404 \r\nL 531.501786 767.004641 \r\nL 526.972565 765.836962 \r\nL 522.443344 765.261519 \r\nL 513.384903 764.650251 \r\nL 508.855682 763.797163 \r\nL 504.326461 763.39077 \r\nL 499.79724 762.804132 \r\nL 495.268019 760.628869 \r\nL 490.738799 758.268881 \r\nL 486.209578 756.570541 \r\nL 481.680357 754.60911 \r\nL 477.151136 753.332836 \r\nL 472.621916 749.845473 \r\nL 468.092695 747.663492 \r\nL 463.563474 746.710765 \r\nL 459.034253 745.38747 \r\nL 454.505032 743.764139 \r\nL 449.975812 742.889779 \r\nL 445.446591 741.687395 \r\nL 440.91737 743.894006 \r\nL 436.388149 743.656663 \r\nL 431.858929 744.097762 \r\nL 427.329708 745.443447 \r\nL 422.800487 748.926332 \r\nL 418.271266 749.12449 \r\nL 413.742045 750.736626 \r\nL 409.212825 751.507988 \r\nL 404.683604 754.021352 \r\nL 400.154383 753.842226 \r\nL 395.625162 758.221861 \r\nL 391.095942 759.563068 \r\nL 386.566721 763.217242 \r\nL 382.0375 765.756356 \r\nL 377.508279 768.603342 \r\nL 372.979058 772.360514 \r\nL 368.449838 778.112703 \r\nL 363.920617 778.975867 \r\nL 350.332955 782.235964 \r\nL 345.803734 782.874101 \r\nL 341.274513 783.331992 \r\nL 336.745292 784.075366 \r\nL 323.15763 784.67096 \r\nL 314.099188 784.834413 \r\nL 309.569968 785.141167 \r\nL 300.511526 785.335966 \r\nL 268.806981 785.534125 \r\nL 96.696591 785.536364 \r\nL 96.696591 785.536364 \r\n\" style=\"fill:none;stroke:#d62728;stroke-linecap:square;stroke-width:1.5;\"/>\r\n   </g>\r\n   <g id=\"line2d_21\">\r\n    <path clip-path=\"url(#pb25fa5f066)\" d=\"M 1364.878409 628.51566 \r\nL 1360.349188 641.935246 \r\nL 1355.819968 656.000019 \r\nL 1351.290747 667.202255 \r\nL 1346.761526 679.316068 \r\nL 1342.232305 686.973624 \r\nL 1337.703084 694.238525 \r\nL 1333.173864 703.860899 \r\nL 1328.644643 711.869535 \r\nL 1324.115422 719.00971 \r\nL 1319.586201 725.700255 \r\nL 1315.056981 731.32832 \r\nL 1310.52776 736.2881 \r\nL 1305.998539 739.92517 \r\nL 1292.410877 753.21695 \r\nL 1283.352435 758.971281 \r\nL 1278.823214 760.557302 \r\nL 1269.764773 762.982528 \r\nL 1265.235552 764.482319 \r\nL 1260.706331 765.386197 \r\nL 1256.17711 766.559545 \r\nL 1233.531006 768.131707 \r\nL 1229.001786 768.139407 \r\nL 1215.414123 768.99093 \r\nL 1210.884903 769.517551 \r\nL 1201.826461 769.928685 \r\nL 1197.29724 770.376774 \r\nL 1188.238799 770.389093 \r\nL 1179.180357 769.954862 \r\nL 1174.651136 770.201234 \r\nL 1170.121916 769.904047 \r\nL 1165.592695 769.725428 \r\nL 1161.063474 770.033393 \r\nL 1156.534253 770.193535 \r\nL 1152.005032 770.800226 \r\nL 1147.475812 771.03736 \r\nL 1142.946591 770.931112 \r\nL 1133.888149 771.734901 \r\nL 1124.829708 771.65483 \r\nL 1111.242045 772.113698 \r\nL 1106.712825 772.688053 \r\nL 1097.654383 774.354145 \r\nL 1093.125162 775.46898 \r\nL 1088.595942 776.200397 \r\nL 1084.066721 777.175107 \r\nL 1079.5375 778.30226 \r\nL 1070.479058 779.557218 \r\nL 1065.949838 780.046883 \r\nL 1061.420617 780.302494 \r\nL 1052.362175 780.379485 \r\nL 1047.832955 780.401043 \r\nL 1043.303734 780.835274 \r\nL 1038.774513 780.86915 \r\nL 1020.65763 781.692957 \r\nL 1016.128409 782.039418 \r\nL 1011.599188 782.119489 \r\nL 1007.069968 782.385879 \r\nL 1002.540747 782.415136 \r\nL 998.011526 782.562959 \r\nL 979.894643 782.538322 \r\nL 970.836201 782.850907 \r\nL 952.719318 782.99873 \r\nL 939.131656 783.186589 \r\nL 934.602435 783.368288 \r\nL 907.42711 783.446819 \r\nL 893.839448 783.303616 \r\nL 889.310227 783.368288 \r\nL 884.781006 783.295916 \r\nL 875.722565 783.397545 \r\nL 857.605682 783.560767 \r\nL 853.076461 783.653156 \r\nL 844.018019 783.457598 \r\nL 839.488799 782.849367 \r\nL 834.959578 782.894022 \r\nL 821.371916 782.533702 \r\nL 816.842695 783.154252 \r\nL 812.313474 783.100358 \r\nL 807.784253 783.483775 \r\nL 789.66737 782.90942 \r\nL 785.138149 782.430534 \r\nL 780.608929 782.356622 \r\nL 776.079708 782.550641 \r\nL 771.550487 782.438233 \r\nL 767.021266 782.47057 \r\nL 757.962825 782.804712 \r\nL 753.433604 782.258074 \r\nL 748.904383 782.569118 \r\nL 744.375162 782.385879 \r\nL 739.845942 782.331985 \r\nL 735.316721 782.489047 \r\nL 726.258279 782.02094 \r\nL 721.729058 782.02402 \r\nL 717.199838 781.383452 \r\nL 712.670617 780.978478 \r\nL 703.612175 780.668973 \r\nL 699.082955 780.397963 \r\nL 694.553734 780.008387 \r\nL 690.024513 779.798971 \r\nL 680.966071 779.598794 \r\nL 676.436851 778.958226 \r\nL 658.319968 777.975817 \r\nL 653.790747 777.436877 \r\nL 649.261526 777.093496 \r\nL 644.732305 776.186539 \r\nL 640.203084 775.735369 \r\nL 635.673864 775.539812 \r\nL 631.144643 775.219528 \r\nL 626.615422 774.391101 \r\nL 622.086201 773.761312 \r\nL 617.556981 772.905169 \r\nL 613.02776 773.408692 \r\nL 608.498539 772.674195 \r\nL 603.969318 771.770317 \r\nL 599.440097 770.512279 \r\nL 594.910877 769.52987 \r\nL 590.381656 768.804611 \r\nL 585.852435 767.816043 \r\nL 581.323214 766.25158 \r\nL 576.793994 765.45395 \r\nL 572.264773 764.014212 \r\nL 567.735552 763.310511 \r\nL 563.206331 761.684455 \r\nL 558.67711 760.492629 \r\nL 554.14789 758.515492 \r\nL 549.618669 757.533083 \r\nL 545.089448 756.736993 \r\nL 540.560227 755.623699 \r\nL 536.031006 753.877536 \r\nL 531.501786 753.150738 \r\nL 526.972565 751.395336 \r\nL 522.443344 752.477834 \r\nL 517.914123 752.103656 \r\nL 513.384903 750.722432 \r\nL 508.855682 749.113313 \r\nL 504.326461 747.260902 \r\nL 495.268019 745.912014 \r\nL 490.738799 744.111958 \r\nL 486.209578 744.008789 \r\nL 481.680357 743.322027 \r\nL 477.151136 742.977106 \r\nL 472.621916 742.806185 \r\nL 468.092695 741.829935 \r\nL 463.563474 741.115456 \r\nL 454.505032 738.097396 \r\nL 449.975812 737.402935 \r\nL 445.446591 736.015551 \r\nL 440.91737 734.215494 \r\nL 436.388149 732.099773 \r\nL 431.858929 729.813131 \r\nL 427.329708 729.154085 \r\nL 422.800487 727.312453 \r\nL 418.271266 726.174521 \r\nL 413.742045 725.646361 \r\nL 409.212825 724.748642 \r\nL 404.683604 724.707067 \r\nL 400.154383 725.986663 \r\nL 395.625162 727.531108 \r\nL 391.095942 730.184229 \r\nL 386.566721 731.399152 \r\nL 382.0375 735.613656 \r\nL 377.508279 740.325525 \r\nL 372.979058 745.620987 \r\nL 368.449838 749.733863 \r\nL 363.920617 752.650294 \r\nL 359.391396 756.575311 \r\nL 354.862175 759.967549 \r\nL 350.332955 762.017057 \r\nL 345.803734 765.481666 \r\nL 341.274513 768.205619 \r\nL 336.745292 771.103572 \r\nL 332.216071 773.761312 \r\nL 327.686851 774.548163 \r\nL 323.15763 776.780912 \r\nL 318.628409 778.21449 \r\nL 314.099188 779.765095 \r\nL 300.511526 782.179542 \r\nL 295.982305 782.753898 \r\nL 291.453084 783.138854 \r\nL 286.923864 783.921086 \r\nL 277.865422 784.540096 \r\nL 273.336201 784.925053 \r\nL 246.160877 785.536364 \r\nL 96.696591 785.536364 \r\nL 96.696591 785.536364 \r\n\" style=\"fill:none;stroke:#9467bd;stroke-linecap:square;stroke-width:1.5;\"/>\r\n   </g>\r\n   <g id=\"line2d_22\">\r\n    <path clip-path=\"url(#pb25fa5f066)\" d=\"M 1364.878409 457.823467 \r\nL 1360.349188 460.695311 \r\nL 1355.819968 471.478171 \r\nL 1346.761526 487.375495 \r\nL 1342.232305 491.575701 \r\nL 1337.703084 496.286816 \r\nL 1333.173864 507.424623 \r\nL 1328.644643 516.093935 \r\nL 1319.586201 537.525206 \r\nL 1315.056981 549.851547 \r\nL 1310.52776 565.184183 \r\nL 1305.998539 577.402965 \r\nL 1301.469318 590.138033 \r\nL 1296.940097 603.744335 \r\nL 1292.410877 615.247845 \r\nL 1287.881656 629.015487 \r\nL 1283.352435 638.08277 \r\nL 1278.823214 646.235795 \r\nL 1274.293994 655.179384 \r\nL 1269.764773 660.616527 \r\nL 1265.235552 667.349764 \r\nL 1260.706331 672.964381 \r\nL 1256.17711 676.793506 \r\nL 1251.64789 681.859568 \r\nL 1247.118669 685.936081 \r\nL 1242.589448 689.668402 \r\nL 1238.060227 695.831573 \r\nL 1229.001786 704.613823 \r\nL 1219.943344 713.229355 \r\nL 1215.414123 717.892068 \r\nL 1210.884903 722.82368 \r\nL 1206.355682 726.894815 \r\nL 1201.826461 730.395883 \r\nL 1197.29724 734.181984 \r\nL 1192.768019 739.167377 \r\nL 1183.709578 743.539678 \r\nL 1179.180357 746.234049 \r\nL 1174.651136 747.099905 \r\nL 1170.121916 750.203002 \r\nL 1165.592695 753.021066 \r\nL 1161.063474 755.183016 \r\nL 1156.534253 756.398441 \r\nL 1152.005032 759.098189 \r\nL 1147.475812 760.561001 \r\nL 1142.946591 762.803621 \r\nL 1138.41737 763.631831 \r\nL 1133.888149 764.906413 \r\nL 1129.358929 764.427772 \r\nL 1124.829708 766.277799 \r\nL 1120.300487 766.530565 \r\nL 1115.771266 766.277799 \r\nL 1111.242045 766.557454 \r\nL 1102.183604 766.369225 \r\nL 1097.654383 766.267043 \r\nL 1093.125162 766.363847 \r\nL 1088.595942 765.971254 \r\nL 1084.066721 766.460651 \r\nL 1079.5375 766.191751 \r\nL 1075.008279 765.417322 \r\nL 1070.479058 764.868767 \r\nL 1065.949838 764.610624 \r\nL 1061.420617 764.062069 \r\nL 1056.891396 762.491698 \r\nL 1052.362175 761.986167 \r\nL 1047.832955 761.60433 \r\nL 1043.303734 762.497076 \r\nL 1038.774513 763.1263 \r\nL 1034.245292 762.997228 \r\nL 1020.65763 766.600478 \r\nL 1016.128409 768.031022 \r\nL 1011.599188 768.326812 \r\nL 1007.069968 769.300227 \r\nL 1002.540747 770.693125 \r\nL 998.011526 771.655784 \r\nL 993.482305 773.360606 \r\nL 988.953084 774.258729 \r\nL 984.423864 774.780394 \r\nL 979.894643 776.361521 \r\nL 975.365422 777.152085 \r\nL 970.836201 778.114744 \r\nL 961.77776 778.862284 \r\nL 957.248539 778.969844 \r\nL 952.719318 779.346303 \r\nL 948.190097 779.400083 \r\nL 943.660877 779.873345 \r\nL 934.602435 780.550972 \r\nL 925.543994 781.75564 \r\nL 916.485552 782.234281 \r\nL 907.42711 782.815103 \r\nL 902.89789 783.105514 \r\nL 893.839448 783.379792 \r\nL 884.781006 783.637935 \r\nL 875.722565 783.326012 \r\nL 866.664123 783.202318 \r\nL 862.134903 782.987199 \r\nL 853.076461 782.944175 \r\nL 844.018019 782.680654 \r\nL 834.959578 782.497802 \r\nL 830.430357 782.55696 \r\nL 816.842695 782.336463 \r\nL 812.313474 782.309573 \r\nL 807.784253 782.121343 \r\nL 803.255032 781.717994 \r\nL 798.725812 781.180196 \r\nL 794.196591 780.900541 \r\nL 785.138149 779.792676 \r\nL 771.550487 779.03438 \r\nL 767.021266 779.03438 \r\nL 762.492045 778.518093 \r\nL 753.433604 778.496581 \r\nL 748.904383 778.254572 \r\nL 744.375162 778.781614 \r\nL 726.258279 780.018551 \r\nL 717.199838 780.346608 \r\nL 712.670617 779.787298 \r\nL 708.141396 779.62058 \r\nL 703.612175 779.050514 \r\nL 699.082955 779.120427 \r\nL 694.553734 778.878418 \r\nL 690.024513 778.813882 \r\nL 685.495292 778.432045 \r\nL 680.966071 778.389022 \r\nL 676.436851 778.523471 \r\nL 667.378409 779.115049 \r\nL 649.261526 778.733213 \r\nL 644.732305 778.25995 \r\nL 640.203084 778.17928 \r\nL 631.144643 776.996123 \r\nL 626.615422 776.356143 \r\nL 622.086201 775.361216 \r\nL 617.556981 775.334326 \r\nL 613.02776 774.68359 \r\nL 608.498539 774.479226 \r\nL 603.969318 773.995208 \r\nL 594.910877 772.317276 \r\nL 590.381656 771.999975 \r\nL 585.852435 771.171766 \r\nL 581.323214 771.956951 \r\nL 576.793994 770.875976 \r\nL 572.264773 769.155021 \r\nL 567.735552 768.025644 \r\nL 563.206331 766.245531 \r\nL 558.67711 764.239543 \r\nL 554.14789 762.507832 \r\nL 549.618669 759.506916 \r\nL 545.089448 757.624621 \r\nL 540.560227 755.414269 \r\nL 536.031006 752.805947 \r\nL 531.501786 750.498791 \r\nL 526.972565 749.563022 \r\nL 522.443344 749.423194 \r\nL 517.914123 748.675654 \r\nL 513.384903 747.524765 \r\nL 508.855682 746.943943 \r\nL 504.326461 745.997418 \r\nL 499.79724 745.459619 \r\nL 495.268019 744.642165 \r\nL 490.738799 743.378339 \r\nL 486.209578 743.867736 \r\nL 481.680357 743.932271 \r\nL 477.151136 743.663372 \r\nL 472.621916 745.879102 \r\nL 468.092695 747.540899 \r\nL 463.563474 748.240037 \r\nL 454.505032 747.605435 \r\nL 449.975812 747.971138 \r\nL 445.446591 748.616496 \r\nL 440.91737 747.24511 \r\nL 436.388149 746.459924 \r\nL 431.858929 746.804115 \r\nL 427.329708 747.702239 \r\nL 422.800487 747.88509 \r\nL 418.271266 749.708227 \r\nL 409.212825 755.371246 \r\nL 404.683604 758.8024 \r\nL 400.154383 762.082971 \r\nL 391.095942 767.595406 \r\nL 386.566721 769.031328 \r\nL 382.0375 771.166388 \r\nL 377.508279 773.758576 \r\nL 372.979058 775.608603 \r\nL 368.449838 777.211243 \r\nL 354.862175 780.857517 \r\nL 345.803734 781.900846 \r\nL 341.274513 782.675276 \r\nL 336.745292 783.035601 \r\nL 332.216071 783.632557 \r\nL 318.628409 784.562948 \r\nL 309.569968 785.100747 \r\nL 305.040747 785.332 \r\nL 282.394643 785.525608 \r\nL 182.751786 785.536364 \r\nL 96.696591 785.536364 \r\nL 96.696591 785.536364 \r\n\" style=\"fill:none;stroke:#8c564b;stroke-linecap:square;stroke-width:1.5;\"/>\r\n   </g>\r\n   <g id=\"line2d_23\">\r\n    <path clip-path=\"url(#pb25fa5f066)\" d=\"M 1364.878409 568.565513 \r\nL 1355.819968 568.565513 \r\nL 1351.290747 577.802991 \r\nL 1346.761526 592.986911 \r\nL 1342.232305 602.893687 \r\nL 1337.703084 616.269714 \r\nL 1333.173864 636.136729 \r\nL 1324.115422 636.136729 \r\nL 1319.586201 640.885169 \r\nL 1315.056981 642.657419 \r\nL 1310.52776 645.586086 \r\nL 1305.998539 635.922871 \r\nL 1301.469318 644.588081 \r\nL 1292.410877 644.588081 \r\nL 1287.881656 647.485066 \r\nL 1283.352435 653.433487 \r\nL 1278.823214 652.393899 \r\nL 1274.293994 656.536409 \r\nL 1269.764773 640.091122 \r\nL 1260.706331 640.091122 \r\nL 1256.17711 638.215904 \r\nL 1251.64789 635.772378 \r\nL 1247.118669 635.231793 \r\nL 1242.589448 633.463504 \r\nL 1238.060227 634.170423 \r\nL 1229.001786 634.170423 \r\nL 1224.472565 629.97841 \r\nL 1219.943344 628.715063 \r\nL 1215.414123 628.905159 \r\nL 1210.884903 631.602147 \r\nL 1206.355682 639.570338 \r\nL 1197.29724 639.570338 \r\nL 1192.768019 643.938587 \r\nL 1188.238799 644.982135 \r\nL 1183.709578 649.589983 \r\nL 1179.180357 650.526602 \r\nL 1174.651136 652.197863 \r\nL 1165.592695 652.197863 \r\nL 1161.063474 655.578008 \r\nL 1156.534253 659.152209 \r\nL 1152.005032 659.716557 \r\nL 1147.475812 661.397719 \r\nL 1142.946591 667.314457 \r\nL 1133.888149 667.314457 \r\nL 1129.358929 668.694634 \r\nL 1124.829708 667.310497 \r\nL 1120.300487 669.855011 \r\nL 1115.771266 671.831218 \r\nL 1111.242045 680.128118 \r\nL 1102.183604 680.128118 \r\nL 1097.654383 683.35777 \r\nL 1093.125162 688.543827 \r\nL 1088.595942 689.781431 \r\nL 1084.066721 693.747706 \r\nL 1079.5375 699.911965 \r\nL 1070.479058 699.911965 \r\nL 1065.949838 705.197031 \r\nL 1061.420617 704.185166 \r\nL 1056.891396 711.11377 \r\nL 1052.362175 714.048377 \r\nL 1047.832955 729.198634 \r\nL 1038.774513 729.198634 \r\nL 1034.245292 731.123357 \r\nL 1029.716071 737.978694 \r\nL 1025.186851 738.412351 \r\nL 1020.65763 734.198556 \r\nL 1016.128409 734.36885 \r\nL 1007.069968 734.36885 \r\nL 1002.540747 737.170786 \r\nL 998.011526 739.743023 \r\nL 993.482305 741.568737 \r\nL 988.953084 749.354753 \r\nL 984.423864 753.653696 \r\nL 975.365422 753.653696 \r\nL 970.836201 755.311096 \r\nL 966.306981 755.655645 \r\nL 961.77776 756.990277 \r\nL 957.248539 757.920956 \r\nL 952.719318 761.445653 \r\nL 943.660877 761.445653 \r\nL 939.131656 763.138695 \r\nL 934.602435 765.621825 \r\nL 930.073214 766.576265 \r\nL 925.543994 767.946541 \r\nL 921.014773 772.968244 \r\nL 911.956331 772.968244 \r\nL 907.42711 774.053376 \r\nL 902.89789 775.673152 \r\nL 898.368669 776.647394 \r\nL 893.839448 777.290949 \r\nL 889.310227 778.877062 \r\nL 880.251786 778.877062 \r\nL 875.722565 779.688931 \r\nL 871.193344 779.884967 \r\nL 862.134903 779.954273 \r\nL 857.605682 782.021567 \r\nL 853.076461 781.425537 \r\nL 848.54724 780.308723 \r\nL 834.959578 780.548323 \r\nL 830.430357 780.653272 \r\nL 821.371916 780.524561 \r\nL 816.842695 780.922575 \r\nL 812.313474 781.144353 \r\nL 807.784253 780.778022 \r\nL 798.725812 780.793864 \r\nL 789.66737 780.916634 \r\nL 785.138149 780.851289 \r\nL 780.608929 780.465156 \r\nL 776.079708 780.778022 \r\nL 771.550487 780.859209 \r\nL 762.492045 780.827527 \r\nL 753.433604 781.118611 \r\nL 748.904383 781.482962 \r\nL 744.375162 781.667117 \r\nL 735.316721 781.419597 \r\nL 730.7875 781.33643 \r\nL 726.258279 781.413656 \r\nL 717.199838 780.082984 \r\nL 712.670617 778.49291 \r\nL 708.141396 778.26321 \r\nL 703.612175 777.144416 \r\nL 699.082955 778.294893 \r\nL 694.553734 777.738466 \r\nL 690.024513 778.130539 \r\nL 685.495292 775.894931 \r\nL 680.966071 777.19194 \r\nL 676.436851 777.176099 \r\nL 671.90763 778.02361 \r\nL 667.378409 776.780065 \r\nL 662.849188 776.443437 \r\nL 658.319968 776.346409 \r\nL 653.790747 778.61172 \r\nL 649.261526 777.884999 \r\nL 644.732305 778.041432 \r\nL 640.203084 777.940443 \r\nL 635.673864 777.66916 \r\nL 631.144643 772.195979 \r\nL 626.615422 771.744501 \r\nL 622.086201 770.695012 \r\nL 617.556981 770.55244 \r\nL 613.02776 769.679187 \r\nL 608.498539 768.576234 \r\nL 603.969318 768.431682 \r\nL 599.440097 773.344476 \r\nL 594.910877 772.372214 \r\nL 590.381656 771.948458 \r\nL 585.852435 771.314805 \r\nL 581.323214 771.38015 \r\nL 576.793994 770.417789 \r\nL 572.264773 768.05347 \r\nL 567.735552 766.655472 \r\nL 563.206331 764.1367 \r\nL 558.67711 762.697118 \r\nL 554.14789 759.380339 \r\nL 545.089448 753.655676 \r\nL 540.560227 752.550743 \r\nL 536.031006 757.212056 \r\nL 531.501786 754.578434 \r\nL 526.972565 751.204229 \r\nL 522.443344 749.414158 \r\nL 517.914123 745.232046 \r\nL 513.384903 744.905318 \r\nL 508.855682 743.297423 \r\nL 504.326461 734.164893 \r\nL 495.268019 731.327314 \r\nL 490.738799 727.515492 \r\nL 486.209578 725.220479 \r\nL 481.680357 721.07599 \r\nL 477.151136 719.814623 \r\nL 472.621916 716.57903 \r\nL 468.092695 712.394938 \r\nL 463.563474 706.979181 \r\nL 454.505032 699.715929 \r\nL 449.975812 693.902159 \r\nL 445.446591 689.65272 \r\nL 440.91737 687.888392 \r\nL 436.388149 684.757748 \r\nL 431.858929 680.977609 \r\nL 427.329708 678.2628 \r\nL 422.800487 676.00541 \r\nL 418.271266 676.904406 \r\nL 413.742045 679.215261 \r\nL 409.212825 682.300361 \r\nL 404.683604 687.840868 \r\nL 400.154383 696.973398 \r\nL 391.095942 716.311708 \r\nL 386.566721 726.584814 \r\nL 382.0375 732.406505 \r\nL 377.508279 737.796519 \r\nL 372.979058 745.247887 \r\nL 368.449838 751.263634 \r\nL 363.920617 756.994237 \r\nL 359.391396 762.378311 \r\nL 354.862175 765.80598 \r\nL 350.332955 768.326733 \r\nL 345.803734 771.918756 \r\nL 341.274513 774.789998 \r\nL 336.745292 777.459263 \r\nL 332.216071 779.582002 \r\nL 327.686851 781.364152 \r\nL 323.15763 782.781951 \r\nL 318.628409 783.532435 \r\nL 314.099188 784.130445 \r\nL 305.040747 784.880928 \r\nL 286.923864 785.37795 \r\nL 268.806981 785.522502 \r\nL 223.514773 785.534383 \r\nL 96.696591 785.536364 \r\nL 96.696591 785.536364 \r\n\" style=\"fill:none;stroke:#e377c2;stroke-linecap:square;stroke-width:1.5;\"/>\r\n   </g>\r\n   <g id=\"line2d_24\">\r\n    <path clip-path=\"url(#pb25fa5f066)\" d=\"M 1364.878409 578.330256 \r\nL 1360.349188 587.870423 \r\nL 1355.819968 594.698175 \r\nL 1351.290747 597.849874 \r\nL 1346.761526 607.560177 \r\nL 1342.232305 613.275072 \r\nL 1337.703084 620.012178 \r\nL 1333.173864 625.742414 \r\nL 1328.644643 627.145339 \r\nL 1324.115422 629.6151 \r\nL 1319.586201 631.620473 \r\nL 1315.056981 639.377001 \r\nL 1310.52776 643.12836 \r\nL 1305.998539 645.051454 \r\nL 1301.469318 630.981766 \r\nL 1296.940097 634.18088 \r\nL 1292.410877 643.797747 \r\nL 1287.881656 658.616313 \r\nL 1283.352435 668.45352 \r\nL 1278.823214 678.771849 \r\nL 1274.293994 690.693919 \r\nL 1269.764773 714.776528 \r\nL 1265.235552 724.301354 \r\nL 1260.706331 724.433837 \r\nL 1256.17711 724.824313 \r\nL 1251.64789 726.121251 \r\nL 1247.118669 729.212985 \r\nL 1242.589448 728.761148 \r\nL 1238.060227 731.26159 \r\nL 1233.531006 733.519378 \r\nL 1229.001786 737.076893 \r\nL 1224.472565 741.593864 \r\nL 1219.943344 744.643761 \r\nL 1210.884903 749.62233 \r\nL 1206.355682 750.415834 \r\nL 1201.826461 751.705799 \r\nL 1197.29724 752.797737 \r\nL 1192.768019 753.461547 \r\nL 1188.238799 755.319097 \r\nL 1183.709578 756.215797 \r\nL 1179.180357 755.759777 \r\nL 1174.651136 756.236716 \r\nL 1165.592695 760.815047 \r\nL 1152.005032 765.695997 \r\nL 1147.475812 767.846405 \r\nL 1142.946591 769.621676 \r\nL 1133.888149 771.530825 \r\nL 1129.358929 771.827866 \r\nL 1124.829708 772.469362 \r\nL 1120.300487 772.624158 \r\nL 1115.771266 773.229396 \r\nL 1111.242045 774.169327 \r\nL 1106.712825 773.918307 \r\nL 1102.183604 774.257184 \r\nL 1097.654383 774.731334 \r\nL 1093.125162 775.060449 \r\nL 1088.595942 775.192932 \r\nL 1084.066721 775.554123 \r\nL 1079.5375 775.555517 \r\nL 1075.008279 775.849769 \r\nL 1070.479058 775.282184 \r\nL 1065.949838 775.356096 \r\nL 1061.420617 775.081368 \r\nL 1047.832955 774.824769 \r\nL 1043.303734 775.269633 \r\nL 1038.774513 776.063136 \r\nL 1029.716071 776.47732 \r\nL 1025.186851 777.143918 \r\nL 1020.65763 776.987728 \r\nL 1016.128409 777.432591 \r\nL 1007.069968 777.401911 \r\nL 998.011526 777.725448 \r\nL 988.953084 779.338951 \r\nL 984.423864 779.787999 \r\nL 966.306981 780.259359 \r\nL 961.77776 779.251094 \r\nL 952.719318 779.092115 \r\nL 943.660877 779.266434 \r\nL 934.602435 779.35987 \r\nL 921.014773 779.596944 \r\nL 907.42711 779.697352 \r\nL 898.368669 779.850754 \r\nL 893.839448 779.58021 \r\nL 871.193344 779.806128 \r\nL 866.664123 779.769869 \r\nL 862.134903 779.921876 \r\nL 857.605682 779.576026 \r\nL 844.018019 779.104666 \r\nL 839.488799 778.72953 \r\nL 830.430357 778.228884 \r\nL 825.901136 778.17589 \r\nL 816.842695 777.30987 \r\nL 807.784253 776.680925 \r\nL 798.725812 776.220721 \r\nL 794.196591 775.937626 \r\nL 771.550487 775.443953 \r\nL 762.492045 775.708919 \r\nL 757.962825 775.614089 \r\nL 744.375162 774.625348 \r\nL 726.258279 772.629736 \r\nL 717.199838 771.240757 \r\nL 708.141396 770.723376 \r\nL 703.612175 770.325928 \r\nL 699.082955 769.765316 \r\nL 694.553734 769.019227 \r\nL 685.495292 766.652664 \r\nL 680.966071 764.728175 \r\nL 676.436851 763.382427 \r\nL 662.849188 761.304537 \r\nL 658.319968 761.229231 \r\nL 653.790747 760.407836 \r\nL 649.261526 759.919741 \r\nL 644.732305 758.529368 \r\nL 640.203084 757.84464 \r\nL 635.673864 757.735865 \r\nL 631.144643 756.986987 \r\nL 626.615422 755.398587 \r\nL 622.086201 754.673417 \r\nL 617.556981 754.282941 \r\nL 613.02776 754.557669 \r\nL 608.498539 753.647023 \r\nL 603.969318 752.152057 \r\nL 599.440097 749.817568 \r\nL 594.910877 748.145494 \r\nL 590.381656 745.893284 \r\nL 585.852435 744.433183 \r\nL 581.323214 742.596551 \r\nL 572.264773 741.188048 \r\nL 563.206331 740.595361 \r\nL 554.14789 740.489375 \r\nL 549.618669 740.28298 \r\nL 545.089448 739.753049 \r\nL 540.560227 738.396144 \r\nL 536.031006 738.415668 \r\nL 531.501786 738.228798 \r\nL 522.443344 739.422539 \r\nL 517.914123 740.365259 \r\nL 513.384903 740.872878 \r\nL 508.855682 742.465463 \r\nL 504.326461 743.362163 \r\nL 499.79724 743.967401 \r\nL 495.268019 743.87536 \r\nL 486.209578 740.768286 \r\nL 481.680357 740.624647 \r\nL 477.151136 740.009647 \r\nL 472.621916 739.175702 \r\nL 468.092695 739.161756 \r\nL 463.563474 739.46577 \r\nL 454.505032 742.178184 \r\nL 449.975812 743.201789 \r\nL 445.446591 744.872468 \r\nL 436.388149 749.746446 \r\nL 427.329708 755.826716 \r\nL 422.800487 758.525184 \r\nL 418.271266 760.589129 \r\nL 413.742045 762.85389 \r\nL 404.683604 768.39586 \r\nL 391.095942 775.404905 \r\nL 386.566721 776.710211 \r\nL 377.508279 778.961026 \r\nL 363.920617 781.295515 \r\nL 354.862175 782.4781 \r\nL 350.332955 782.897861 \r\nL 336.745292 784.543439 \r\nL 332.216071 784.827929 \r\nL 323.15763 785.02735 \r\nL 291.453084 785.48616 \r\nL 191.810227 785.533575 \r\nL 96.696591 785.536364 \r\nL 96.696591 785.536364 \r\n\" style=\"fill:none;stroke:#7f7f7f;stroke-linecap:square;stroke-width:1.5;\"/>\r\n   </g>\r\n   <g id=\"line2d_25\">\r\n    <path clip-path=\"url(#pb25fa5f066)\" d=\"M 1364.878409 652.794163 \r\nL 1360.349188 660.263459 \r\nL 1355.819968 664.520775 \r\nL 1351.290747 666.857454 \r\nL 1346.761526 667.872002 \r\nL 1342.232305 669.575718 \r\nL 1337.703084 674.802955 \r\nL 1333.173864 676.002222 \r\nL 1328.644643 676.663147 \r\nL 1324.115422 680.10165 \r\nL 1319.586201 682.074538 \r\nL 1315.056981 685.239068 \r\nL 1310.52776 687.909599 \r\nL 1305.998539 688.177358 \r\nL 1301.469318 690.633513 \r\nL 1292.410877 692.673623 \r\nL 1287.881656 696.071172 \r\nL 1283.352435 697.822339 \r\nL 1278.823214 697.83505 \r\nL 1274.293994 700.011864 \r\nL 1269.764773 699.631409 \r\nL 1265.235552 701.125833 \r\nL 1260.706331 700.972747 \r\nL 1256.17711 701.130352 \r\nL 1251.64789 702.274825 \r\nL 1247.118669 703.605148 \r\nL 1242.589448 697.91244 \r\nL 1238.060227 696.894503 \r\nL 1229.001786 699.684226 \r\nL 1224.472565 699.866687 \r\nL 1219.943344 703.632263 \r\nL 1215.414123 699.913573 \r\nL 1210.884903 705.085732 \r\nL 1206.355682 706.775044 \r\nL 1201.826461 706.62676 \r\nL 1197.29724 707.233455 \r\nL 1192.768019 708.94508 \r\nL 1188.238799 706.87503 \r\nL 1183.709578 713.752884 \r\nL 1179.180357 716.744274 \r\nL 1174.651136 717.680866 \r\nL 1165.592695 715.89298 \r\nL 1161.063474 716.248298 \r\nL 1156.534253 714.320036 \r\nL 1152.005032 709.372422 \r\nL 1147.475812 706.660936 \r\nL 1142.946591 705.24136 \r\nL 1138.41737 705.240513 \r\nL 1133.888149 705.640739 \r\nL 1129.358929 702.912307 \r\nL 1124.829708 701.755971 \r\nL 1120.300487 703.597522 \r\nL 1115.771266 702.3412 \r\nL 1111.242045 702.64483 \r\nL 1102.183604 702.514622 \r\nL 1097.654383 703.0524 \r\nL 1093.125162 701.75936 \r\nL 1088.595942 700.07259 \r\nL 1084.066721 700.988282 \r\nL 1079.5375 698.842254 \r\nL 1075.008279 697.795225 \r\nL 1070.479058 693.570391 \r\nL 1065.949838 691.568128 \r\nL 1061.420617 689.163097 \r\nL 1056.891396 688.394277 \r\nL 1052.362175 684.306148 \r\nL 1047.832955 682.966504 \r\nL 1043.303734 680.66852 \r\nL 1038.774513 682.557522 \r\nL 1034.245292 680.111253 \r\nL 1029.716071 680.997288 \r\nL 1025.186851 677.971721 \r\nL 1020.65763 679.079759 \r\nL 1016.128409 678.892214 \r\nL 1011.599188 678.274786 \r\nL 1007.069968 675.768639 \r\nL 1002.540747 673.43083 \r\nL 998.011526 667.165885 \r\nL 993.482305 665.977068 \r\nL 988.953084 662.972968 \r\nL 984.423864 660.577257 \r\nL 979.894643 658.57443 \r\nL 975.365422 655.35341 \r\nL 970.836201 656.719321 \r\nL 966.306981 658.452695 \r\nL 961.77776 655.539543 \r\nL 957.248539 655.396342 \r\nL 952.719318 653.757306 \r\nL 948.190097 654.251304 \r\nL 943.660877 656.209506 \r\nL 939.131656 652.330386 \r\nL 934.602435 652.649833 \r\nL 930.073214 653.646869 \r\nL 925.543994 653.261612 \r\nL 921.014773 654.543354 \r\nL 916.485552 654.740502 \r\nL 911.956331 656.115733 \r\nL 907.42711 660.049082 \r\nL 902.89789 662.537718 \r\nL 898.368669 665.657339 \r\nL 889.310227 670.258109 \r\nL 884.781006 675.294129 \r\nL 880.251786 678.735174 \r\nL 875.722565 681.448072 \r\nL 871.193344 683.38509 \r\nL 866.664123 687.224384 \r\nL 862.134903 689.606537 \r\nL 857.605682 692.549629 \r\nL 853.076461 693.32212 \r\nL 848.54724 695.84013 \r\nL 844.018019 699.356589 \r\nL 839.488799 704.358433 \r\nL 834.959578 706.945642 \r\nL 830.430357 709.816992 \r\nL 825.901136 713.454903 \r\nL 821.371916 715.807117 \r\nL 816.842695 720.218365 \r\nL 812.313474 723.942986 \r\nL 807.784253 726.422866 \r\nL 798.725812 732.763224 \r\nL 794.196591 734.528514 \r\nL 789.66737 736.962637 \r\nL 785.138149 738.168684 \r\nL 771.550487 742.366967 \r\nL 767.021266 742.687544 \r\nL 762.492045 741.908274 \r\nL 757.962825 742.845149 \r\nL 753.433604 742.975357 \r\nL 748.904383 743.467661 \r\nL 744.375162 743.7261 \r\nL 735.316721 742.555924 \r\nL 730.7875 743.260628 \r\nL 726.258279 742.95728 \r\nL 721.729058 742.912371 \r\nL 717.199838 742.721155 \r\nL 712.670617 742.997388 \r\nL 703.612175 744.030012 \r\nL 699.082955 743.81507 \r\nL 694.553734 744.397192 \r\nL 690.024513 744.733304 \r\nL 685.495292 743.711695 \r\nL 680.966071 742.422609 \r\nL 676.436851 742.123216 \r\nL 671.90763 741.338862 \r\nL 667.378409 741.817609 \r\nL 662.849188 740.899376 \r\nL 653.790747 740.032265 \r\nL 649.261526 740.739229 \r\nL 644.732305 740.152305 \r\nL 640.203084 741.204135 \r\nL 622.086201 739.739651 \r\nL 617.556981 738.794585 \r\nL 613.02776 738.288158 \r\nL 603.969318 735.692476 \r\nL 599.440097 734.654203 \r\nL 594.910877 732.677642 \r\nL 590.381656 732.240415 \r\nL 585.852435 731.337152 \r\nL 576.793994 731.269647 \r\nL 572.264773 730.737235 \r\nL 567.735552 725.302683 \r\nL 563.206331 728.862356 \r\nL 558.67711 729.81533 \r\nL 554.14789 732.565794 \r\nL 549.618669 728.849646 \r\nL 545.089448 727.289412 \r\nL 540.560227 727.926611 \r\nL 536.031006 732.334752 \r\nL 531.501786 729.656878 \r\nL 526.972565 728.209622 \r\nL 522.443344 724.662095 \r\nL 517.914123 727.590217 \r\nL 513.384903 728.449419 \r\nL 508.855682 727.596713 \r\nL 504.326461 728.876478 \r\nL 499.79724 727.550675 \r\nL 495.268019 726.919689 \r\nL 490.738799 726.022922 \r\nL 486.209578 724.980412 \r\nL 481.680357 723.416224 \r\nL 477.151136 724.04382 \r\nL 472.621916 722.382752 \r\nL 468.092695 723.258901 \r\nL 463.563474 724.694294 \r\nL 459.034253 726.451111 \r\nL 454.505032 728.037047 \r\nL 449.975812 730.569462 \r\nL 445.446591 732.55732 \r\nL 440.91737 736.594327 \r\nL 436.388149 740.472317 \r\nL 431.858929 743.867888 \r\nL 427.329708 747.579234 \r\nL 422.800487 752.157408 \r\nL 413.742045 757.879773 \r\nL 400.154383 768.651998 \r\nL 395.625162 771.751848 \r\nL 391.095942 773.735469 \r\nL 386.566721 776.658507 \r\nL 382.0375 778.815268 \r\nL 377.508279 780.607673 \r\nL 368.449838 783.2477 \r\nL 363.920617 784.010588 \r\nL 359.391396 784.432845 \r\nL 341.274513 785.132465 \r\nL 318.628409 785.433553 \r\nL 286.923864 785.52676 \r\nL 96.696591 785.536364 \r\nL 96.696591 785.536364 \r\n\" style=\"fill:none;stroke:#bcbd22;stroke-linecap:square;stroke-width:1.5;\"/>\r\n   </g>\r\n   <g id=\"patch_3\">\r\n    <path d=\"M 33.2875 822.6 \r\nL 33.2875 7.2 \r\n\" style=\"fill:none;stroke:#000000;stroke-linecap:square;stroke-linejoin:miter;stroke-width:0.8;\"/>\r\n   </g>\r\n   <g id=\"patch_4\">\r\n    <path d=\"M 1428.2875 822.6 \r\nL 1428.2875 7.2 \r\n\" style=\"fill:none;stroke:#000000;stroke-linecap:square;stroke-linejoin:miter;stroke-width:0.8;\"/>\r\n   </g>\r\n   <g id=\"patch_5\">\r\n    <path d=\"M 33.2875 822.6 \r\nL 1428.2875 822.6 \r\n\" style=\"fill:none;stroke:#000000;stroke-linecap:square;stroke-linejoin:miter;stroke-width:0.8;\"/>\r\n   </g>\r\n   <g id=\"patch_6\">\r\n    <path d=\"M 33.2875 7.2 \r\nL 1428.2875 7.2 \r\n\" style=\"fill:none;stroke:#000000;stroke-linecap:square;stroke-linejoin:miter;stroke-width:0.8;\"/>\r\n   </g>\r\n   <g id=\"legend_1\">\r\n    <g id=\"patch_7\">\r\n     <path d=\"M 41.6875 175.99125 \r\nL 236.5975 175.99125 \r\nQ 238.9975 175.99125 238.9975 173.59125 \r\nL 238.9975 15.6 \r\nQ 238.9975 13.2 236.5975 13.2 \r\nL 41.6875 13.2 \r\nQ 39.2875 13.2 39.2875 15.6 \r\nL 39.2875 173.59125 \r\nQ 39.2875 175.99125 41.6875 175.99125 \r\nz\r\n\" style=\"fill:#ffffff;opacity:0.8;stroke:#cccccc;stroke-linejoin:miter;\"/>\r\n    </g>\r\n    <g id=\"line2d_26\">\r\n     <path d=\"M 44.0875 22.918125 \r\nL 68.0875 22.918125 \r\n\" style=\"fill:none;stroke:#1f77b4;stroke-linecap:square;stroke-width:1.5;\"/>\r\n    </g>\r\n    <g id=\"line2d_27\"/>\r\n    <g id=\"text_17\">\r\n     <!-- Austria -->\r\n     <defs>\r\n      <path d=\"M 34.1875 63.1875 \r\nL 20.796875 26.90625 \r\nL 47.609375 26.90625 \r\nz\r\nM 28.609375 72.90625 \r\nL 39.796875 72.90625 \r\nL 67.578125 0 \r\nL 57.328125 0 \r\nL 50.6875 18.703125 \r\nL 17.828125 18.703125 \r\nL 11.1875 0 \r\nL 0.78125 0 \r\nz\r\n\" id=\"DejaVuSans-65\"/>\r\n      <path d=\"M 8.5 21.578125 \r\nL 8.5 54.6875 \r\nL 17.484375 54.6875 \r\nL 17.484375 21.921875 \r\nQ 17.484375 14.15625 20.5 10.265625 \r\nQ 23.53125 6.390625 29.59375 6.390625 \r\nQ 36.859375 6.390625 41.078125 11.03125 \r\nQ 45.3125 15.671875 45.3125 23.6875 \r\nL 45.3125 54.6875 \r\nL 54.296875 54.6875 \r\nL 54.296875 0 \r\nL 45.3125 0 \r\nL 45.3125 8.40625 \r\nQ 42.046875 3.421875 37.71875 1 \r\nQ 33.40625 -1.421875 27.6875 -1.421875 \r\nQ 18.265625 -1.421875 13.375 4.4375 \r\nQ 8.5 10.296875 8.5 21.578125 \r\nz\r\nM 31.109375 56 \r\nz\r\n\" id=\"DejaVuSans-117\"/>\r\n      <path d=\"M 44.28125 53.078125 \r\nL 44.28125 44.578125 \r\nQ 40.484375 46.53125 36.375 47.5 \r\nQ 32.28125 48.484375 27.875 48.484375 \r\nQ 21.1875 48.484375 17.84375 46.4375 \r\nQ 14.5 44.390625 14.5 40.28125 \r\nQ 14.5 37.15625 16.890625 35.375 \r\nQ 19.28125 33.59375 26.515625 31.984375 \r\nL 29.59375 31.296875 \r\nQ 39.15625 29.25 43.1875 25.515625 \r\nQ 47.21875 21.78125 47.21875 15.09375 \r\nQ 47.21875 7.46875 41.1875 3.015625 \r\nQ 35.15625 -1.421875 24.609375 -1.421875 \r\nQ 20.21875 -1.421875 15.453125 -0.5625 \r\nQ 10.6875 0.296875 5.421875 2 \r\nL 5.421875 11.28125 \r\nQ 10.40625 8.6875 15.234375 7.390625 \r\nQ 20.0625 6.109375 24.8125 6.109375 \r\nQ 31.15625 6.109375 34.5625 8.28125 \r\nQ 37.984375 10.453125 37.984375 14.40625 \r\nQ 37.984375 18.0625 35.515625 20.015625 \r\nQ 33.0625 21.96875 24.703125 23.78125 \r\nL 21.578125 24.515625 \r\nQ 13.234375 26.265625 9.515625 29.90625 \r\nQ 5.8125 33.546875 5.8125 39.890625 \r\nQ 5.8125 47.609375 11.28125 51.796875 \r\nQ 16.75 56 26.8125 56 \r\nQ 31.78125 56 36.171875 55.265625 \r\nQ 40.578125 54.546875 44.28125 53.078125 \r\nz\r\n\" id=\"DejaVuSans-115\"/>\r\n      <path d=\"M 18.3125 70.21875 \r\nL 18.3125 54.6875 \r\nL 36.8125 54.6875 \r\nL 36.8125 47.703125 \r\nL 18.3125 47.703125 \r\nL 18.3125 18.015625 \r\nQ 18.3125 11.328125 20.140625 9.421875 \r\nQ 21.96875 7.515625 27.59375 7.515625 \r\nL 36.8125 7.515625 \r\nL 36.8125 0 \r\nL 27.59375 0 \r\nQ 17.1875 0 13.234375 3.875 \r\nQ 9.28125 7.765625 9.28125 18.015625 \r\nL 9.28125 47.703125 \r\nL 2.6875 47.703125 \r\nL 2.6875 54.6875 \r\nL 9.28125 54.6875 \r\nL 9.28125 70.21875 \r\nz\r\n\" id=\"DejaVuSans-116\"/>\r\n      <path d=\"M 41.109375 46.296875 \r\nQ 39.59375 47.171875 37.8125 47.578125 \r\nQ 36.03125 48 33.890625 48 \r\nQ 26.265625 48 22.1875 43.046875 \r\nQ 18.109375 38.09375 18.109375 28.8125 \r\nL 18.109375 0 \r\nL 9.078125 0 \r\nL 9.078125 54.6875 \r\nL 18.109375 54.6875 \r\nL 18.109375 46.1875 \r\nQ 20.953125 51.171875 25.484375 53.578125 \r\nQ 30.03125 56 36.53125 56 \r\nQ 37.453125 56 38.578125 55.875 \r\nQ 39.703125 55.765625 41.0625 55.515625 \r\nz\r\n\" id=\"DejaVuSans-114\"/>\r\n      <path d=\"M 9.421875 54.6875 \r\nL 18.40625 54.6875 \r\nL 18.40625 0 \r\nL 9.421875 0 \r\nz\r\nM 9.421875 75.984375 \r\nL 18.40625 75.984375 \r\nL 18.40625 64.59375 \r\nL 9.421875 64.59375 \r\nz\r\n\" id=\"DejaVuSans-105\"/>\r\n      <path d=\"M 34.28125 27.484375 \r\nQ 23.390625 27.484375 19.1875 25 \r\nQ 14.984375 22.515625 14.984375 16.5 \r\nQ 14.984375 11.71875 18.140625 8.90625 \r\nQ 21.296875 6.109375 26.703125 6.109375 \r\nQ 34.1875 6.109375 38.703125 11.40625 \r\nQ 43.21875 16.703125 43.21875 25.484375 \r\nL 43.21875 27.484375 \r\nz\r\nM 52.203125 31.203125 \r\nL 52.203125 0 \r\nL 43.21875 0 \r\nL 43.21875 8.296875 \r\nQ 40.140625 3.328125 35.546875 0.953125 \r\nQ 30.953125 -1.421875 24.3125 -1.421875 \r\nQ 15.921875 -1.421875 10.953125 3.296875 \r\nQ 6 8.015625 6 15.921875 \r\nQ 6 25.140625 12.171875 29.828125 \r\nQ 18.359375 34.515625 30.609375 34.515625 \r\nL 43.21875 34.515625 \r\nL 43.21875 35.40625 \r\nQ 43.21875 41.609375 39.140625 45 \r\nQ 35.0625 48.390625 27.6875 48.390625 \r\nQ 23 48.390625 18.546875 47.265625 \r\nQ 14.109375 46.140625 10.015625 43.890625 \r\nL 10.015625 52.203125 \r\nQ 14.9375 54.109375 19.578125 55.046875 \r\nQ 24.21875 56 28.609375 56 \r\nQ 40.484375 56 46.34375 49.84375 \r\nQ 52.203125 43.703125 52.203125 31.203125 \r\nz\r\n\" id=\"DejaVuSans-97\"/>\r\n     </defs>\r\n     <g transform=\"translate(77.6875 27.118125)scale(0.12 -0.12)\">\r\n      <use xlink:href=\"#DejaVuSans-65\"/>\r\n      <use x=\"68.408203\" xlink:href=\"#DejaVuSans-117\"/>\r\n      <use x=\"131.787109\" xlink:href=\"#DejaVuSans-115\"/>\r\n      <use x=\"183.886719\" xlink:href=\"#DejaVuSans-116\"/>\r\n      <use x=\"223.095703\" xlink:href=\"#DejaVuSans-114\"/>\r\n      <use x=\"264.208984\" xlink:href=\"#DejaVuSans-105\"/>\r\n      <use x=\"291.992188\" xlink:href=\"#DejaVuSans-97\"/>\r\n     </g>\r\n    </g>\r\n    <g id=\"line2d_28\">\r\n     <path d=\"M 44.0875 40.531875 \r\nL 68.0875 40.531875 \r\n\" style=\"fill:none;stroke:#ff7f0e;stroke-linecap:square;stroke-width:1.5;\"/>\r\n    </g>\r\n    <g id=\"line2d_29\"/>\r\n    <g id=\"text_18\">\r\n     <!-- Belgium -->\r\n     <defs>\r\n      <path d=\"M 19.671875 34.8125 \r\nL 19.671875 8.109375 \r\nL 35.5 8.109375 \r\nQ 43.453125 8.109375 47.28125 11.40625 \r\nQ 51.125 14.703125 51.125 21.484375 \r\nQ 51.125 28.328125 47.28125 31.5625 \r\nQ 43.453125 34.8125 35.5 34.8125 \r\nz\r\nM 19.671875 64.796875 \r\nL 19.671875 42.828125 \r\nL 34.28125 42.828125 \r\nQ 41.5 42.828125 45.03125 45.53125 \r\nQ 48.578125 48.25 48.578125 53.8125 \r\nQ 48.578125 59.328125 45.03125 62.0625 \r\nQ 41.5 64.796875 34.28125 64.796875 \r\nz\r\nM 9.8125 72.90625 \r\nL 35.015625 72.90625 \r\nQ 46.296875 72.90625 52.390625 68.21875 \r\nQ 58.5 63.53125 58.5 54.890625 \r\nQ 58.5 48.1875 55.375 44.234375 \r\nQ 52.25 40.28125 46.1875 39.3125 \r\nQ 53.46875 37.75 57.5 32.78125 \r\nQ 61.53125 27.828125 61.53125 20.40625 \r\nQ 61.53125 10.640625 54.890625 5.3125 \r\nQ 48.25 0 35.984375 0 \r\nL 9.8125 0 \r\nz\r\n\" id=\"DejaVuSans-66\"/>\r\n      <path d=\"M 56.203125 29.59375 \r\nL 56.203125 25.203125 \r\nL 14.890625 25.203125 \r\nQ 15.484375 15.921875 20.484375 11.0625 \r\nQ 25.484375 6.203125 34.421875 6.203125 \r\nQ 39.59375 6.203125 44.453125 7.46875 \r\nQ 49.3125 8.734375 54.109375 11.28125 \r\nL 54.109375 2.78125 \r\nQ 49.265625 0.734375 44.1875 -0.34375 \r\nQ 39.109375 -1.421875 33.890625 -1.421875 \r\nQ 20.796875 -1.421875 13.15625 6.1875 \r\nQ 5.515625 13.8125 5.515625 26.8125 \r\nQ 5.515625 40.234375 12.765625 48.109375 \r\nQ 20.015625 56 32.328125 56 \r\nQ 43.359375 56 49.78125 48.890625 \r\nQ 56.203125 41.796875 56.203125 29.59375 \r\nz\r\nM 47.21875 32.234375 \r\nQ 47.125 39.59375 43.09375 43.984375 \r\nQ 39.0625 48.390625 32.421875 48.390625 \r\nQ 24.90625 48.390625 20.390625 44.140625 \r\nQ 15.875 39.890625 15.1875 32.171875 \r\nz\r\n\" id=\"DejaVuSans-101\"/>\r\n      <path d=\"M 9.421875 75.984375 \r\nL 18.40625 75.984375 \r\nL 18.40625 0 \r\nL 9.421875 0 \r\nz\r\n\" id=\"DejaVuSans-108\"/>\r\n      <path d=\"M 45.40625 27.984375 \r\nQ 45.40625 37.75 41.375 43.109375 \r\nQ 37.359375 48.484375 30.078125 48.484375 \r\nQ 22.859375 48.484375 18.828125 43.109375 \r\nQ 14.796875 37.75 14.796875 27.984375 \r\nQ 14.796875 18.265625 18.828125 12.890625 \r\nQ 22.859375 7.515625 30.078125 7.515625 \r\nQ 37.359375 7.515625 41.375 12.890625 \r\nQ 45.40625 18.265625 45.40625 27.984375 \r\nz\r\nM 54.390625 6.78125 \r\nQ 54.390625 -7.171875 48.1875 -13.984375 \r\nQ 42 -20.796875 29.203125 -20.796875 \r\nQ 24.46875 -20.796875 20.265625 -20.09375 \r\nQ 16.0625 -19.390625 12.109375 -17.921875 \r\nL 12.109375 -9.1875 \r\nQ 16.0625 -11.328125 19.921875 -12.34375 \r\nQ 23.78125 -13.375 27.78125 -13.375 \r\nQ 36.625 -13.375 41.015625 -8.765625 \r\nQ 45.40625 -4.15625 45.40625 5.171875 \r\nL 45.40625 9.625 \r\nQ 42.625 4.78125 38.28125 2.390625 \r\nQ 33.9375 0 27.875 0 \r\nQ 17.828125 0 11.671875 7.65625 \r\nQ 5.515625 15.328125 5.515625 27.984375 \r\nQ 5.515625 40.671875 11.671875 48.328125 \r\nQ 17.828125 56 27.875 56 \r\nQ 33.9375 56 38.28125 53.609375 \r\nQ 42.625 51.21875 45.40625 46.390625 \r\nL 45.40625 54.6875 \r\nL 54.390625 54.6875 \r\nz\r\n\" id=\"DejaVuSans-103\"/>\r\n      <path d=\"M 52 44.1875 \r\nQ 55.375 50.25 60.0625 53.125 \r\nQ 64.75 56 71.09375 56 \r\nQ 79.640625 56 84.28125 50.015625 \r\nQ 88.921875 44.046875 88.921875 33.015625 \r\nL 88.921875 0 \r\nL 79.890625 0 \r\nL 79.890625 32.71875 \r\nQ 79.890625 40.578125 77.09375 44.375 \r\nQ 74.3125 48.1875 68.609375 48.1875 \r\nQ 61.625 48.1875 57.5625 43.546875 \r\nQ 53.515625 38.921875 53.515625 30.90625 \r\nL 53.515625 0 \r\nL 44.484375 0 \r\nL 44.484375 32.71875 \r\nQ 44.484375 40.625 41.703125 44.40625 \r\nQ 38.921875 48.1875 33.109375 48.1875 \r\nQ 26.21875 48.1875 22.15625 43.53125 \r\nQ 18.109375 38.875 18.109375 30.90625 \r\nL 18.109375 0 \r\nL 9.078125 0 \r\nL 9.078125 54.6875 \r\nL 18.109375 54.6875 \r\nL 18.109375 46.1875 \r\nQ 21.1875 51.21875 25.484375 53.609375 \r\nQ 29.78125 56 35.6875 56 \r\nQ 41.65625 56 45.828125 52.96875 \r\nQ 50 49.953125 52 44.1875 \r\nz\r\n\" id=\"DejaVuSans-109\"/>\r\n     </defs>\r\n     <g transform=\"translate(77.6875 44.731875)scale(0.12 -0.12)\">\r\n      <use xlink:href=\"#DejaVuSans-66\"/>\r\n      <use x=\"68.603516\" xlink:href=\"#DejaVuSans-101\"/>\r\n      <use x=\"130.126953\" xlink:href=\"#DejaVuSans-108\"/>\r\n      <use x=\"157.910156\" xlink:href=\"#DejaVuSans-103\"/>\r\n      <use x=\"221.386719\" xlink:href=\"#DejaVuSans-105\"/>\r\n      <use x=\"249.169922\" xlink:href=\"#DejaVuSans-117\"/>\r\n      <use x=\"312.548828\" xlink:href=\"#DejaVuSans-109\"/>\r\n     </g>\r\n    </g>\r\n    <g id=\"line2d_30\">\r\n     <path d=\"M 44.0875 58.145625 \r\nL 68.0875 58.145625 \r\n\" style=\"fill:none;stroke:#2ca02c;stroke-linecap:square;stroke-width:1.5;\"/>\r\n    </g>\r\n    <g id=\"line2d_31\"/>\r\n    <g id=\"text_19\">\r\n     <!-- France -->\r\n     <defs>\r\n      <path d=\"M 9.8125 72.90625 \r\nL 51.703125 72.90625 \r\nL 51.703125 64.59375 \r\nL 19.671875 64.59375 \r\nL 19.671875 43.109375 \r\nL 48.578125 43.109375 \r\nL 48.578125 34.8125 \r\nL 19.671875 34.8125 \r\nL 19.671875 0 \r\nL 9.8125 0 \r\nz\r\n\" id=\"DejaVuSans-70\"/>\r\n      <path d=\"M 54.890625 33.015625 \r\nL 54.890625 0 \r\nL 45.90625 0 \r\nL 45.90625 32.71875 \r\nQ 45.90625 40.484375 42.875 44.328125 \r\nQ 39.84375 48.1875 33.796875 48.1875 \r\nQ 26.515625 48.1875 22.3125 43.546875 \r\nQ 18.109375 38.921875 18.109375 30.90625 \r\nL 18.109375 0 \r\nL 9.078125 0 \r\nL 9.078125 54.6875 \r\nL 18.109375 54.6875 \r\nL 18.109375 46.1875 \r\nQ 21.34375 51.125 25.703125 53.5625 \r\nQ 30.078125 56 35.796875 56 \r\nQ 45.21875 56 50.046875 50.171875 \r\nQ 54.890625 44.34375 54.890625 33.015625 \r\nz\r\n\" id=\"DejaVuSans-110\"/>\r\n      <path d=\"M 48.78125 52.59375 \r\nL 48.78125 44.1875 \r\nQ 44.96875 46.296875 41.140625 47.34375 \r\nQ 37.3125 48.390625 33.40625 48.390625 \r\nQ 24.65625 48.390625 19.8125 42.84375 \r\nQ 14.984375 37.3125 14.984375 27.296875 \r\nQ 14.984375 17.28125 19.8125 11.734375 \r\nQ 24.65625 6.203125 33.40625 6.203125 \r\nQ 37.3125 6.203125 41.140625 7.25 \r\nQ 44.96875 8.296875 48.78125 10.40625 \r\nL 48.78125 2.09375 \r\nQ 45.015625 0.34375 40.984375 -0.53125 \r\nQ 36.96875 -1.421875 32.421875 -1.421875 \r\nQ 20.0625 -1.421875 12.78125 6.34375 \r\nQ 5.515625 14.109375 5.515625 27.296875 \r\nQ 5.515625 40.671875 12.859375 48.328125 \r\nQ 20.21875 56 33.015625 56 \r\nQ 37.15625 56 41.109375 55.140625 \r\nQ 45.0625 54.296875 48.78125 52.59375 \r\nz\r\n\" id=\"DejaVuSans-99\"/>\r\n     </defs>\r\n     <g transform=\"translate(77.6875 62.345625)scale(0.12 -0.12)\">\r\n      <use xlink:href=\"#DejaVuSans-70\"/>\r\n      <use x=\"50.269531\" xlink:href=\"#DejaVuSans-114\"/>\r\n      <use x=\"91.382812\" xlink:href=\"#DejaVuSans-97\"/>\r\n      <use x=\"152.662109\" xlink:href=\"#DejaVuSans-110\"/>\r\n      <use x=\"216.041016\" xlink:href=\"#DejaVuSans-99\"/>\r\n      <use x=\"271.021484\" xlink:href=\"#DejaVuSans-101\"/>\r\n     </g>\r\n    </g>\r\n    <g id=\"line2d_32\">\r\n     <path d=\"M 44.0875 75.759375 \r\nL 68.0875 75.759375 \r\n\" style=\"fill:none;stroke:#d62728;stroke-linecap:square;stroke-width:1.5;\"/>\r\n    </g>\r\n    <g id=\"line2d_33\"/>\r\n    <g id=\"text_20\">\r\n     <!-- Germany -->\r\n     <defs>\r\n      <path d=\"M 59.515625 10.40625 \r\nL 59.515625 29.984375 \r\nL 43.40625 29.984375 \r\nL 43.40625 38.09375 \r\nL 69.28125 38.09375 \r\nL 69.28125 6.78125 \r\nQ 63.578125 2.734375 56.6875 0.65625 \r\nQ 49.8125 -1.421875 42 -1.421875 \r\nQ 24.90625 -1.421875 15.25 8.5625 \r\nQ 5.609375 18.5625 5.609375 36.375 \r\nQ 5.609375 54.25 15.25 64.234375 \r\nQ 24.90625 74.21875 42 74.21875 \r\nQ 49.125 74.21875 55.546875 72.453125 \r\nQ 61.96875 70.703125 67.390625 67.28125 \r\nL 67.390625 56.78125 \r\nQ 61.921875 61.421875 55.765625 63.765625 \r\nQ 49.609375 66.109375 42.828125 66.109375 \r\nQ 29.4375 66.109375 22.71875 58.640625 \r\nQ 16.015625 51.171875 16.015625 36.375 \r\nQ 16.015625 21.625 22.71875 14.15625 \r\nQ 29.4375 6.6875 42.828125 6.6875 \r\nQ 48.046875 6.6875 52.140625 7.59375 \r\nQ 56.25 8.5 59.515625 10.40625 \r\nz\r\n\" id=\"DejaVuSans-71\"/>\r\n      <path d=\"M 32.171875 -5.078125 \r\nQ 28.375 -14.84375 24.75 -17.8125 \r\nQ 21.140625 -20.796875 15.09375 -20.796875 \r\nL 7.90625 -20.796875 \r\nL 7.90625 -13.28125 \r\nL 13.1875 -13.28125 \r\nQ 16.890625 -13.28125 18.9375 -11.515625 \r\nQ 21 -9.765625 23.484375 -3.21875 \r\nL 25.09375 0.875 \r\nL 2.984375 54.6875 \r\nL 12.5 54.6875 \r\nL 29.59375 11.921875 \r\nL 46.6875 54.6875 \r\nL 56.203125 54.6875 \r\nz\r\n\" id=\"DejaVuSans-121\"/>\r\n     </defs>\r\n     <g transform=\"translate(77.6875 79.959375)scale(0.12 -0.12)\">\r\n      <use xlink:href=\"#DejaVuSans-71\"/>\r\n      <use x=\"77.490234\" xlink:href=\"#DejaVuSans-101\"/>\r\n      <use x=\"139.013672\" xlink:href=\"#DejaVuSans-114\"/>\r\n      <use x=\"178.376953\" xlink:href=\"#DejaVuSans-109\"/>\r\n      <use x=\"275.789062\" xlink:href=\"#DejaVuSans-97\"/>\r\n      <use x=\"337.068359\" xlink:href=\"#DejaVuSans-110\"/>\r\n      <use x=\"400.447266\" xlink:href=\"#DejaVuSans-121\"/>\r\n     </g>\r\n    </g>\r\n    <g id=\"line2d_34\">\r\n     <path d=\"M 44.0875 93.373125 \r\nL 68.0875 93.373125 \r\n\" style=\"fill:none;stroke:#9467bd;stroke-linecap:square;stroke-width:1.5;\"/>\r\n    </g>\r\n    <g id=\"line2d_35\"/>\r\n    <g id=\"text_21\">\r\n     <!-- Italy -->\r\n     <defs>\r\n      <path d=\"M 9.8125 72.90625 \r\nL 19.671875 72.90625 \r\nL 19.671875 0 \r\nL 9.8125 0 \r\nz\r\n\" id=\"DejaVuSans-73\"/>\r\n     </defs>\r\n     <g transform=\"translate(77.6875 97.573125)scale(0.12 -0.12)\">\r\n      <use xlink:href=\"#DejaVuSans-73\"/>\r\n      <use x=\"29.492188\" xlink:href=\"#DejaVuSans-116\"/>\r\n      <use x=\"68.701172\" xlink:href=\"#DejaVuSans-97\"/>\r\n      <use x=\"129.980469\" xlink:href=\"#DejaVuSans-108\"/>\r\n      <use x=\"157.763672\" xlink:href=\"#DejaVuSans-121\"/>\r\n     </g>\r\n    </g>\r\n    <g id=\"line2d_36\">\r\n     <path d=\"M 44.0875 110.986875 \r\nL 68.0875 110.986875 \r\n\" style=\"fill:none;stroke:#8c564b;stroke-linecap:square;stroke-width:1.5;\"/>\r\n    </g>\r\n    <g id=\"line2d_37\"/>\r\n    <g id=\"text_22\">\r\n     <!-- Netherlands -->\r\n     <defs>\r\n      <path d=\"M 9.8125 72.90625 \r\nL 23.09375 72.90625 \r\nL 55.421875 11.921875 \r\nL 55.421875 72.90625 \r\nL 64.984375 72.90625 \r\nL 64.984375 0 \r\nL 51.703125 0 \r\nL 19.390625 60.984375 \r\nL 19.390625 0 \r\nL 9.8125 0 \r\nz\r\n\" id=\"DejaVuSans-78\"/>\r\n      <path d=\"M 54.890625 33.015625 \r\nL 54.890625 0 \r\nL 45.90625 0 \r\nL 45.90625 32.71875 \r\nQ 45.90625 40.484375 42.875 44.328125 \r\nQ 39.84375 48.1875 33.796875 48.1875 \r\nQ 26.515625 48.1875 22.3125 43.546875 \r\nQ 18.109375 38.921875 18.109375 30.90625 \r\nL 18.109375 0 \r\nL 9.078125 0 \r\nL 9.078125 75.984375 \r\nL 18.109375 75.984375 \r\nL 18.109375 46.1875 \r\nQ 21.34375 51.125 25.703125 53.5625 \r\nQ 30.078125 56 35.796875 56 \r\nQ 45.21875 56 50.046875 50.171875 \r\nQ 54.890625 44.34375 54.890625 33.015625 \r\nz\r\n\" id=\"DejaVuSans-104\"/>\r\n      <path d=\"M 45.40625 46.390625 \r\nL 45.40625 75.984375 \r\nL 54.390625 75.984375 \r\nL 54.390625 0 \r\nL 45.40625 0 \r\nL 45.40625 8.203125 \r\nQ 42.578125 3.328125 38.25 0.953125 \r\nQ 33.9375 -1.421875 27.875 -1.421875 \r\nQ 17.96875 -1.421875 11.734375 6.484375 \r\nQ 5.515625 14.40625 5.515625 27.296875 \r\nQ 5.515625 40.1875 11.734375 48.09375 \r\nQ 17.96875 56 27.875 56 \r\nQ 33.9375 56 38.25 53.625 \r\nQ 42.578125 51.265625 45.40625 46.390625 \r\nz\r\nM 14.796875 27.296875 \r\nQ 14.796875 17.390625 18.875 11.75 \r\nQ 22.953125 6.109375 30.078125 6.109375 \r\nQ 37.203125 6.109375 41.296875 11.75 \r\nQ 45.40625 17.390625 45.40625 27.296875 \r\nQ 45.40625 37.203125 41.296875 42.84375 \r\nQ 37.203125 48.484375 30.078125 48.484375 \r\nQ 22.953125 48.484375 18.875 42.84375 \r\nQ 14.796875 37.203125 14.796875 27.296875 \r\nz\r\n\" id=\"DejaVuSans-100\"/>\r\n     </defs>\r\n     <g transform=\"translate(77.6875 115.186875)scale(0.12 -0.12)\">\r\n      <use xlink:href=\"#DejaVuSans-78\"/>\r\n      <use x=\"74.804688\" xlink:href=\"#DejaVuSans-101\"/>\r\n      <use x=\"136.328125\" xlink:href=\"#DejaVuSans-116\"/>\r\n      <use x=\"175.537109\" xlink:href=\"#DejaVuSans-104\"/>\r\n      <use x=\"238.916016\" xlink:href=\"#DejaVuSans-101\"/>\r\n      <use x=\"300.439453\" xlink:href=\"#DejaVuSans-114\"/>\r\n      <use x=\"341.552734\" xlink:href=\"#DejaVuSans-108\"/>\r\n      <use x=\"369.335938\" xlink:href=\"#DejaVuSans-97\"/>\r\n      <use x=\"430.615234\" xlink:href=\"#DejaVuSans-110\"/>\r\n      <use x=\"493.994141\" xlink:href=\"#DejaVuSans-100\"/>\r\n      <use x=\"557.470703\" xlink:href=\"#DejaVuSans-115\"/>\r\n     </g>\r\n    </g>\r\n    <g id=\"line2d_38\">\r\n     <path d=\"M 44.0875 128.600625 \r\nL 68.0875 128.600625 \r\n\" style=\"fill:none;stroke:#e377c2;stroke-linecap:square;stroke-width:1.5;\"/>\r\n    </g>\r\n    <g id=\"line2d_39\"/>\r\n    <g id=\"text_23\">\r\n     <!-- Spain -->\r\n     <defs>\r\n      <path d=\"M 53.515625 70.515625 \r\nL 53.515625 60.890625 \r\nQ 47.90625 63.578125 42.921875 64.890625 \r\nQ 37.9375 66.21875 33.296875 66.21875 \r\nQ 25.25 66.21875 20.875 63.09375 \r\nQ 16.5 59.96875 16.5 54.203125 \r\nQ 16.5 49.359375 19.40625 46.890625 \r\nQ 22.3125 44.4375 30.421875 42.921875 \r\nL 36.375 41.703125 \r\nQ 47.40625 39.59375 52.65625 34.296875 \r\nQ 57.90625 29 57.90625 20.125 \r\nQ 57.90625 9.515625 50.796875 4.046875 \r\nQ 43.703125 -1.421875 29.984375 -1.421875 \r\nQ 24.8125 -1.421875 18.96875 -0.25 \r\nQ 13.140625 0.921875 6.890625 3.21875 \r\nL 6.890625 13.375 \r\nQ 12.890625 10.015625 18.65625 8.296875 \r\nQ 24.421875 6.59375 29.984375 6.59375 \r\nQ 38.421875 6.59375 43.015625 9.90625 \r\nQ 47.609375 13.234375 47.609375 19.390625 \r\nQ 47.609375 24.75 44.3125 27.78125 \r\nQ 41.015625 30.8125 33.5 32.328125 \r\nL 27.484375 33.5 \r\nQ 16.453125 35.6875 11.515625 40.375 \r\nQ 6.59375 45.0625 6.59375 53.421875 \r\nQ 6.59375 63.09375 13.40625 68.65625 \r\nQ 20.21875 74.21875 32.171875 74.21875 \r\nQ 37.3125 74.21875 42.625 73.28125 \r\nQ 47.953125 72.359375 53.515625 70.515625 \r\nz\r\n\" id=\"DejaVuSans-83\"/>\r\n      <path d=\"M 18.109375 8.203125 \r\nL 18.109375 -20.796875 \r\nL 9.078125 -20.796875 \r\nL 9.078125 54.6875 \r\nL 18.109375 54.6875 \r\nL 18.109375 46.390625 \r\nQ 20.953125 51.265625 25.265625 53.625 \r\nQ 29.59375 56 35.59375 56 \r\nQ 45.5625 56 51.78125 48.09375 \r\nQ 58.015625 40.1875 58.015625 27.296875 \r\nQ 58.015625 14.40625 51.78125 6.484375 \r\nQ 45.5625 -1.421875 35.59375 -1.421875 \r\nQ 29.59375 -1.421875 25.265625 0.953125 \r\nQ 20.953125 3.328125 18.109375 8.203125 \r\nz\r\nM 48.6875 27.296875 \r\nQ 48.6875 37.203125 44.609375 42.84375 \r\nQ 40.53125 48.484375 33.40625 48.484375 \r\nQ 26.265625 48.484375 22.1875 42.84375 \r\nQ 18.109375 37.203125 18.109375 27.296875 \r\nQ 18.109375 17.390625 22.1875 11.75 \r\nQ 26.265625 6.109375 33.40625 6.109375 \r\nQ 40.53125 6.109375 44.609375 11.75 \r\nQ 48.6875 17.390625 48.6875 27.296875 \r\nz\r\n\" id=\"DejaVuSans-112\"/>\r\n     </defs>\r\n     <g transform=\"translate(77.6875 132.800625)scale(0.12 -0.12)\">\r\n      <use xlink:href=\"#DejaVuSans-83\"/>\r\n      <use x=\"63.476562\" xlink:href=\"#DejaVuSans-112\"/>\r\n      <use x=\"126.953125\" xlink:href=\"#DejaVuSans-97\"/>\r\n      <use x=\"188.232422\" xlink:href=\"#DejaVuSans-105\"/>\r\n      <use x=\"216.015625\" xlink:href=\"#DejaVuSans-110\"/>\r\n     </g>\r\n    </g>\r\n    <g id=\"line2d_40\">\r\n     <path d=\"M 44.0875 146.214375 \r\nL 68.0875 146.214375 \r\n\" style=\"fill:none;stroke:#7f7f7f;stroke-linecap:square;stroke-width:1.5;\"/>\r\n    </g>\r\n    <g id=\"line2d_41\"/>\r\n    <g id=\"text_24\">\r\n     <!-- United_Kingdom -->\r\n     <defs>\r\n      <path d=\"M 8.6875 72.90625 \r\nL 18.609375 72.90625 \r\nL 18.609375 28.609375 \r\nQ 18.609375 16.890625 22.84375 11.734375 \r\nQ 27.09375 6.59375 36.625 6.59375 \r\nQ 46.09375 6.59375 50.34375 11.734375 \r\nQ 54.59375 16.890625 54.59375 28.609375 \r\nL 54.59375 72.90625 \r\nL 64.5 72.90625 \r\nL 64.5 27.390625 \r\nQ 64.5 13.140625 57.4375 5.859375 \r\nQ 50.390625 -1.421875 36.625 -1.421875 \r\nQ 22.796875 -1.421875 15.734375 5.859375 \r\nQ 8.6875 13.140625 8.6875 27.390625 \r\nz\r\n\" id=\"DejaVuSans-85\"/>\r\n      <path d=\"M 50.984375 -16.609375 \r\nL 50.984375 -23.578125 \r\nL -0.984375 -23.578125 \r\nL -0.984375 -16.609375 \r\nz\r\n\" id=\"DejaVuSans-95\"/>\r\n      <path d=\"M 9.8125 72.90625 \r\nL 19.671875 72.90625 \r\nL 19.671875 42.09375 \r\nL 52.390625 72.90625 \r\nL 65.09375 72.90625 \r\nL 28.90625 38.921875 \r\nL 67.671875 0 \r\nL 54.6875 0 \r\nL 19.671875 35.109375 \r\nL 19.671875 0 \r\nL 9.8125 0 \r\nz\r\n\" id=\"DejaVuSans-75\"/>\r\n      <path d=\"M 30.609375 48.390625 \r\nQ 23.390625 48.390625 19.1875 42.75 \r\nQ 14.984375 37.109375 14.984375 27.296875 \r\nQ 14.984375 17.484375 19.15625 11.84375 \r\nQ 23.34375 6.203125 30.609375 6.203125 \r\nQ 37.796875 6.203125 41.984375 11.859375 \r\nQ 46.1875 17.53125 46.1875 27.296875 \r\nQ 46.1875 37.015625 41.984375 42.703125 \r\nQ 37.796875 48.390625 30.609375 48.390625 \r\nz\r\nM 30.609375 56 \r\nQ 42.328125 56 49.015625 48.375 \r\nQ 55.71875 40.765625 55.71875 27.296875 \r\nQ 55.71875 13.875 49.015625 6.21875 \r\nQ 42.328125 -1.421875 30.609375 -1.421875 \r\nQ 18.84375 -1.421875 12.171875 6.21875 \r\nQ 5.515625 13.875 5.515625 27.296875 \r\nQ 5.515625 40.765625 12.171875 48.375 \r\nQ 18.84375 56 30.609375 56 \r\nz\r\n\" id=\"DejaVuSans-111\"/>\r\n     </defs>\r\n     <g transform=\"translate(77.6875 150.414375)scale(0.12 -0.12)\">\r\n      <use xlink:href=\"#DejaVuSans-85\"/>\r\n      <use x=\"73.193359\" xlink:href=\"#DejaVuSans-110\"/>\r\n      <use x=\"136.572266\" xlink:href=\"#DejaVuSans-105\"/>\r\n      <use x=\"164.355469\" xlink:href=\"#DejaVuSans-116\"/>\r\n      <use x=\"203.564453\" xlink:href=\"#DejaVuSans-101\"/>\r\n      <use x=\"265.087891\" xlink:href=\"#DejaVuSans-100\"/>\r\n      <use x=\"328.564453\" xlink:href=\"#DejaVuSans-95\"/>\r\n      <use x=\"378.564453\" xlink:href=\"#DejaVuSans-75\"/>\r\n      <use x=\"444.140625\" xlink:href=\"#DejaVuSans-105\"/>\r\n      <use x=\"471.923828\" xlink:href=\"#DejaVuSans-110\"/>\r\n      <use x=\"535.302734\" xlink:href=\"#DejaVuSans-103\"/>\r\n      <use x=\"598.779297\" xlink:href=\"#DejaVuSans-100\"/>\r\n      <use x=\"662.255859\" xlink:href=\"#DejaVuSans-111\"/>\r\n      <use x=\"723.4375\" xlink:href=\"#DejaVuSans-109\"/>\r\n     </g>\r\n    </g>\r\n    <g id=\"line2d_42\">\r\n     <path d=\"M 44.0875 164.161875 \r\nL 68.0875 164.161875 \r\n\" style=\"fill:none;stroke:#bcbd22;stroke-linecap:square;stroke-width:1.5;\"/>\r\n    </g>\r\n    <g id=\"line2d_43\"/>\r\n    <g id=\"text_25\">\r\n     <!-- United_States_of_America -->\r\n     <defs>\r\n      <path d=\"M 37.109375 75.984375 \r\nL 37.109375 68.5 \r\nL 28.515625 68.5 \r\nQ 23.6875 68.5 21.796875 66.546875 \r\nQ 19.921875 64.59375 19.921875 59.515625 \r\nL 19.921875 54.6875 \r\nL 34.71875 54.6875 \r\nL 34.71875 47.703125 \r\nL 19.921875 47.703125 \r\nL 19.921875 0 \r\nL 10.890625 0 \r\nL 10.890625 47.703125 \r\nL 2.296875 47.703125 \r\nL 2.296875 54.6875 \r\nL 10.890625 54.6875 \r\nL 10.890625 58.5 \r\nQ 10.890625 67.625 15.140625 71.796875 \r\nQ 19.390625 75.984375 28.609375 75.984375 \r\nz\r\n\" id=\"DejaVuSans-102\"/>\r\n     </defs>\r\n     <g transform=\"translate(77.6875 168.361875)scale(0.12 -0.12)\">\r\n      <use xlink:href=\"#DejaVuSans-85\"/>\r\n      <use x=\"73.193359\" xlink:href=\"#DejaVuSans-110\"/>\r\n      <use x=\"136.572266\" xlink:href=\"#DejaVuSans-105\"/>\r\n      <use x=\"164.355469\" xlink:href=\"#DejaVuSans-116\"/>\r\n      <use x=\"203.564453\" xlink:href=\"#DejaVuSans-101\"/>\r\n      <use x=\"265.087891\" xlink:href=\"#DejaVuSans-100\"/>\r\n      <use x=\"328.564453\" xlink:href=\"#DejaVuSans-95\"/>\r\n      <use x=\"378.564453\" xlink:href=\"#DejaVuSans-83\"/>\r\n      <use x=\"442.041016\" xlink:href=\"#DejaVuSans-116\"/>\r\n      <use x=\"481.25\" xlink:href=\"#DejaVuSans-97\"/>\r\n      <use x=\"542.529297\" xlink:href=\"#DejaVuSans-116\"/>\r\n      <use x=\"581.738281\" xlink:href=\"#DejaVuSans-101\"/>\r\n      <use x=\"643.261719\" xlink:href=\"#DejaVuSans-115\"/>\r\n      <use x=\"695.361328\" xlink:href=\"#DejaVuSans-95\"/>\r\n      <use x=\"745.361328\" xlink:href=\"#DejaVuSans-111\"/>\r\n      <use x=\"806.542969\" xlink:href=\"#DejaVuSans-102\"/>\r\n      <use x=\"841.748047\" xlink:href=\"#DejaVuSans-95\"/>\r\n      <use x=\"891.748047\" xlink:href=\"#DejaVuSans-65\"/>\r\n      <use x=\"960.15625\" xlink:href=\"#DejaVuSans-109\"/>\r\n      <use x=\"1057.568359\" xlink:href=\"#DejaVuSans-101\"/>\r\n      <use x=\"1119.091797\" xlink:href=\"#DejaVuSans-114\"/>\r\n      <use x=\"1160.205078\" xlink:href=\"#DejaVuSans-105\"/>\r\n      <use x=\"1187.988281\" xlink:href=\"#DejaVuSans-99\"/>\r\n      <use x=\"1242.96875\" xlink:href=\"#DejaVuSans-97\"/>\r\n     </g>\r\n    </g>\r\n   </g>\r\n  </g>\r\n </g>\r\n <defs>\r\n  <clipPath id=\"pb25fa5f066\">\r\n   <rect height=\"815.4\" width=\"1395\" x=\"33.2875\" y=\"7.2\"/>\r\n  </clipPath>\r\n </defs>\r\n</svg>\r\n",
            "image/png": "[encoded data removed]"
          },
          "metadata": {
            "needs_background": "light"
          }
        }
      ]
    },
    {
      "source": [
        "#### Merging dataframes in Pandas"
      ],
      "cell_type": "markdown",
      "metadata": {}
    },
    {
      "cell_type": "code",
      "metadata": {
        "id": "aUbVy7WkLxln",
        "outputId": "cbcef057-158c-49bf-8176-717da7acd4ac",
        "colab": {
          "base_uri": "https://localhost:8080/",
          "height": 200
        }
      },
      "source": [
        "# For the last part we only need the data from Belgium\n",
        "covid_belgium = extra.loc[extra['country'] == 'Belgium']\n",
        "covid_belgium.head()\n",
        "\n"
      ],
      "execution_count": 92,
      "outputs": [
        {
          "output_type": "execute_result",
          "data": {
            "text/plain": [
              "        dateRep  day  month  year  cases  deaths  country  \\\n",
              "4625 2020-10-25   25     10  2020   7187      70  Belgium   \n",
              "4626 2020-10-24   24     10  2020  14560      85  Belgium   \n",
              "4627 2020-10-23   23     10  2020  15085      53  Belgium   \n",
              "4628 2020-10-22   22     10  2020  16103      55  Belgium   \n",
              "4629 2020-10-21   21     10  2020  18574      47  Belgium   \n",
              "\n",
              "     countryterritoryCode  popData2019 continentExp  \\\n",
              "4625                  BEL   11455519.0       Europe   \n",
              "4626                  BEL   11455519.0       Europe   \n",
              "4627                  BEL   11455519.0       Europe   \n",
              "4628                  BEL   11455519.0       Europe   \n",
              "4629                  BEL   11455519.0       Europe   \n",
              "\n",
              "      cum_number_14_days_cases_per_100000  cases_previous_day  cases_next_day  \\\n",
              "4625                          1373.783239             14560.0             NaN   \n",
              "4626                          1314.623982             15085.0          7187.0   \n",
              "4627                          1240.423939             16103.0         14560.0   \n",
              "4628                          1159.187986             18574.0         15085.0   \n",
              "4629                          1046.691992             15032.0         16103.0   \n",
              "\n",
              "      rank  avg_number_cases_past_week  avg_number_cases_past_week_per_100000  \n",
              "4625    13                12973.857143                             113.254206  \n",
              "4626     5                13052.000000                             113.936348  \n",
              "4627     3                12846.285714                             112.140582  \n",
              "4628     2                12357.857143                             107.876886  \n",
              "4629     1                11805.857143                             103.058248  "
            ],
            "text/html": "<div>\n<style scoped>\n    .dataframe tbody tr th:only-of-type {\n        vertical-align: middle;\n    }\n\n    .dataframe tbody tr th {\n        vertical-align: top;\n    }\n\n    .dataframe thead th {\n        text-align: right;\n    }\n</style>\n<table border=\"1\" class=\"dataframe\">\n  <thead>\n    <tr style=\"text-align: right;\">\n      <th></th>\n      <th>dateRep</th>\n      <th>day</th>\n      <th>month</th>\n      <th>year</th>\n      <th>cases</th>\n      <th>deaths</th>\n      <th>country</th>\n      <th>countryterritoryCode</th>\n      <th>popData2019</th>\n      <th>continentExp</th>\n      <th>cum_number_14_days_cases_per_100000</th>\n      <th>cases_previous_day</th>\n      <th>cases_next_day</th>\n      <th>rank</th>\n      <th>avg_number_cases_past_week</th>\n      <th>avg_number_cases_past_week_per_100000</th>\n    </tr>\n  </thead>\n  <tbody>\n    <tr>\n      <th>4625</th>\n      <td>2020-10-25</td>\n      <td>25</td>\n      <td>10</td>\n      <td>2020</td>\n      <td>7187</td>\n      <td>70</td>\n      <td>Belgium</td>\n      <td>BEL</td>\n      <td>11455519.0</td>\n      <td>Europe</td>\n      <td>1373.783239</td>\n      <td>14560.0</td>\n      <td>NaN</td>\n      <td>13</td>\n      <td>12973.857143</td>\n      <td>113.254206</td>\n    </tr>\n    <tr>\n      <th>4626</th>\n      <td>2020-10-24</td>\n      <td>24</td>\n      <td>10</td>\n      <td>2020</td>\n      <td>14560</td>\n      <td>85</td>\n      <td>Belgium</td>\n      <td>BEL</td>\n      <td>11455519.0</td>\n      <td>Europe</td>\n      <td>1314.623982</td>\n      <td>15085.0</td>\n      <td>7187.0</td>\n      <td>5</td>\n      <td>13052.000000</td>\n      <td>113.936348</td>\n    </tr>\n    <tr>\n      <th>4627</th>\n      <td>2020-10-23</td>\n      <td>23</td>\n      <td>10</td>\n      <td>2020</td>\n      <td>15085</td>\n      <td>53</td>\n      <td>Belgium</td>\n      <td>BEL</td>\n      <td>11455519.0</td>\n      <td>Europe</td>\n      <td>1240.423939</td>\n      <td>16103.0</td>\n      <td>14560.0</td>\n      <td>3</td>\n      <td>12846.285714</td>\n      <td>112.140582</td>\n    </tr>\n    <tr>\n      <th>4628</th>\n      <td>2020-10-22</td>\n      <td>22</td>\n      <td>10</td>\n      <td>2020</td>\n      <td>16103</td>\n      <td>55</td>\n      <td>Belgium</td>\n      <td>BEL</td>\n      <td>11455519.0</td>\n      <td>Europe</td>\n      <td>1159.187986</td>\n      <td>18574.0</td>\n      <td>15085.0</td>\n      <td>2</td>\n      <td>12357.857143</td>\n      <td>107.876886</td>\n    </tr>\n    <tr>\n      <th>4629</th>\n      <td>2020-10-21</td>\n      <td>21</td>\n      <td>10</td>\n      <td>2020</td>\n      <td>18574</td>\n      <td>47</td>\n      <td>Belgium</td>\n      <td>BEL</td>\n      <td>11455519.0</td>\n      <td>Europe</td>\n      <td>1046.691992</td>\n      <td>15032.0</td>\n      <td>16103.0</td>\n      <td>1</td>\n      <td>11805.857143</td>\n      <td>103.058248</td>\n    </tr>\n  </tbody>\n</table>\n</div>"
          },
          "metadata": {},
          "execution_count": 92
        }
      ]
    },
    {
      "cell_type": "code",
      "metadata": {
        "id": "o7pHDtPcFPSO",
        "outputId": "12d73102-1809-4c13-9e00-c8f0b136805b",
        "colab": {
          "base_uri": "https://localhost:8080/",
          "height": 289
        }
      },
      "source": [
        "# Calculate how many days since 01/03/2020 Belgium was in one of the following states\n",
        "# avg_number_cases_past_week_per_100000 < 1 --> grey\n",
        "# 1 <= avg_number_cases_past_week_per_100000 < 20 --> yellow\n",
        "# 20 <= avg_number_cases_past_week_per_100000 < 60 --> light orange\n",
        "# 60 <= avg_number_cases_past_week_per_100000 < 120 --> orange\n",
        "# 120 <= avg_number_cases_past_week_per_100000 < 240 --> red\n",
        "# 240 <= avg_number_cases_past_week_per_100000 < 400 --> deep red\n",
        "# 400 <= avg_number_cases_past_week_per_100000 < 800 --> dark red\n",
        "# 800 <= avg_number_cases_past_week_per_100000 < 1600 --> brown\n",
        "# 1600 <= avg_number_cases_past_week_per_100000 --> black\n",
        "\n",
        "def color_map(avg_number_cases_past_week_per_100000):\n",
        "  if avg_number_cases_past_week_per_100000 < 1:\n",
        "    return 'grey'\n",
        "  elif avg_number_cases_past_week_per_100000 < 20:\n",
        "    return 'yellow'\n",
        "  elif avg_number_cases_past_week_per_100000 < 60:\n",
        "    return 'light orange'\n",
        "  elif avg_number_cases_past_week_per_100000 < 120:\n",
        "    return 'orange'\n",
        "  elif avg_number_cases_past_week_per_100000 < 240:\n",
        "    return 'red'    \n",
        "  elif avg_number_cases_past_week_per_100000 < 400:\n",
        "    return 'deep red'\n",
        "  elif avg_number_cases_past_week_per_100000 < 800:\n",
        "    return 'dark red'\n",
        "  elif avg_number_cases_past_week_per_100000 < 1600:\n",
        "    return 'brown'\n",
        "  else:\n",
        "    return 'black'\n",
        "\n",
        "covid_belgium['colorcode'] = covid_belgium.loc[:,'avg_number_cases_past_week_per_100000'].apply(color_map)\n",
        "covid_belgium.head()"
      ],
      "execution_count": 93,
      "outputs": [
        {
          "output_type": "execute_result",
          "data": {
            "text/plain": [
              "        dateRep  day  month  year  cases  deaths  country  \\\n",
              "4625 2020-10-25   25     10  2020   7187      70  Belgium   \n",
              "4626 2020-10-24   24     10  2020  14560      85  Belgium   \n",
              "4627 2020-10-23   23     10  2020  15085      53  Belgium   \n",
              "4628 2020-10-22   22     10  2020  16103      55  Belgium   \n",
              "4629 2020-10-21   21     10  2020  18574      47  Belgium   \n",
              "\n",
              "     countryterritoryCode  popData2019 continentExp  \\\n",
              "4625                  BEL   11455519.0       Europe   \n",
              "4626                  BEL   11455519.0       Europe   \n",
              "4627                  BEL   11455519.0       Europe   \n",
              "4628                  BEL   11455519.0       Europe   \n",
              "4629                  BEL   11455519.0       Europe   \n",
              "\n",
              "      cum_number_14_days_cases_per_100000  cases_previous_day  cases_next_day  \\\n",
              "4625                          1373.783239             14560.0             NaN   \n",
              "4626                          1314.623982             15085.0          7187.0   \n",
              "4627                          1240.423939             16103.0         14560.0   \n",
              "4628                          1159.187986             18574.0         15085.0   \n",
              "4629                          1046.691992             15032.0         16103.0   \n",
              "\n",
              "      rank  avg_number_cases_past_week  avg_number_cases_past_week_per_100000  \\\n",
              "4625    13                12973.857143                             113.254206   \n",
              "4626     5                13052.000000                             113.936348   \n",
              "4627     3                12846.285714                             112.140582   \n",
              "4628     2                12357.857143                             107.876886   \n",
              "4629     1                11805.857143                             103.058248   \n",
              "\n",
              "     colorcode  \n",
              "4625    orange  \n",
              "4626    orange  \n",
              "4627    orange  \n",
              "4628    orange  \n",
              "4629    orange  "
            ],
            "text/html": "<div>\n<style scoped>\n    .dataframe tbody tr th:only-of-type {\n        vertical-align: middle;\n    }\n\n    .dataframe tbody tr th {\n        vertical-align: top;\n    }\n\n    .dataframe thead th {\n        text-align: right;\n    }\n</style>\n<table border=\"1\" class=\"dataframe\">\n  <thead>\n    <tr style=\"text-align: right;\">\n      <th></th>\n      <th>dateRep</th>\n      <th>day</th>\n      <th>month</th>\n      <th>year</th>\n      <th>cases</th>\n      <th>deaths</th>\n      <th>country</th>\n      <th>countryterritoryCode</th>\n      <th>popData2019</th>\n      <th>continentExp</th>\n      <th>cum_number_14_days_cases_per_100000</th>\n      <th>cases_previous_day</th>\n      <th>cases_next_day</th>\n      <th>rank</th>\n      <th>avg_number_cases_past_week</th>\n      <th>avg_number_cases_past_week_per_100000</th>\n      <th>colorcode</th>\n    </tr>\n  </thead>\n  <tbody>\n    <tr>\n      <th>4625</th>\n      <td>2020-10-25</td>\n      <td>25</td>\n      <td>10</td>\n      <td>2020</td>\n      <td>7187</td>\n      <td>70</td>\n      <td>Belgium</td>\n      <td>BEL</td>\n      <td>11455519.0</td>\n      <td>Europe</td>\n      <td>1373.783239</td>\n      <td>14560.0</td>\n      <td>NaN</td>\n      <td>13</td>\n      <td>12973.857143</td>\n      <td>113.254206</td>\n      <td>orange</td>\n    </tr>\n    <tr>\n      <th>4626</th>\n      <td>2020-10-24</td>\n      <td>24</td>\n      <td>10</td>\n      <td>2020</td>\n      <td>14560</td>\n      <td>85</td>\n      <td>Belgium</td>\n      <td>BEL</td>\n      <td>11455519.0</td>\n      <td>Europe</td>\n      <td>1314.623982</td>\n      <td>15085.0</td>\n      <td>7187.0</td>\n      <td>5</td>\n      <td>13052.000000</td>\n      <td>113.936348</td>\n      <td>orange</td>\n    </tr>\n    <tr>\n      <th>4627</th>\n      <td>2020-10-23</td>\n      <td>23</td>\n      <td>10</td>\n      <td>2020</td>\n      <td>15085</td>\n      <td>53</td>\n      <td>Belgium</td>\n      <td>BEL</td>\n      <td>11455519.0</td>\n      <td>Europe</td>\n      <td>1240.423939</td>\n      <td>16103.0</td>\n      <td>14560.0</td>\n      <td>3</td>\n      <td>12846.285714</td>\n      <td>112.140582</td>\n      <td>orange</td>\n    </tr>\n    <tr>\n      <th>4628</th>\n      <td>2020-10-22</td>\n      <td>22</td>\n      <td>10</td>\n      <td>2020</td>\n      <td>16103</td>\n      <td>55</td>\n      <td>Belgium</td>\n      <td>BEL</td>\n      <td>11455519.0</td>\n      <td>Europe</td>\n      <td>1159.187986</td>\n      <td>18574.0</td>\n      <td>15085.0</td>\n      <td>2</td>\n      <td>12357.857143</td>\n      <td>107.876886</td>\n      <td>orange</td>\n    </tr>\n    <tr>\n      <th>4629</th>\n      <td>2020-10-21</td>\n      <td>21</td>\n      <td>10</td>\n      <td>2020</td>\n      <td>18574</td>\n      <td>47</td>\n      <td>Belgium</td>\n      <td>BEL</td>\n      <td>11455519.0</td>\n      <td>Europe</td>\n      <td>1046.691992</td>\n      <td>15032.0</td>\n      <td>16103.0</td>\n      <td>1</td>\n      <td>11805.857143</td>\n      <td>103.058248</td>\n      <td>orange</td>\n    </tr>\n  </tbody>\n</table>\n</div>"
          },
          "metadata": {},
          "execution_count": 93
        }
      ]
    },
    {
      "cell_type": "code",
      "metadata": {
        "id": "nFNpul9IMVdt",
        "outputId": "f5b32989-5f48-4cd0-cba2-0f37fddf4979",
        "colab": {
          "base_uri": "https://localhost:8080/",
          "height": 124
        }
      },
      "source": [
        "# Exercise: Calculate how many days since 01/03/2020 Belgium was in one of the following states\n"
      ],
      "execution_count": 85,
      "outputs": [
        {
          "output_type": "execute_result",
          "data": {
            "text/plain": [
              "colorcode\n",
              "grey             44\n",
              "light orange     11\n",
              "orange           11\n",
              "yellow          172\n",
              "Name: colorcode, dtype: int64"
            ]
          },
          "metadata": {
            "tags": []
          },
          "execution_count": 85
        }
      ]
    },
    {
      "cell_type": "code",
      "metadata": {
        "id": "6sChP4hZl6bA",
        "outputId": "47e8feb1-695c-45d7-ae38-339b55db87eb",
        "colab": {
          "base_uri": "https://localhost:8080/",
          "height": 217
        }
      },
      "source": [
        "# We wonder if the number of deaths has an effect on the Belgian Consumer Confidence\n",
        "# Read the file Belgian Consumer Confidence\n",
        "# consumer_confidence_data = pd.read_csv('/content/gdrive/My Drive/Belgian Consumer Confidence.csv', sep=\";\")\n",
        "url = 'https://raw.githubusercontent.com/HOGENT-Databases/DB3-Workshops/master/data/Belgian_Consumer_Confidence.csv'\n",
        "consumer_confidence_data = pd.read_csv(url, sep=\";\")\n",
        "consumer_confidence_data.head()"
      ],
      "execution_count": 101,
      "outputs": [
        {
          "output_type": "execute_result",
          "data": {
            "text/plain": [
              "   Year  Month  Consumer confidence indicator  \\\n",
              "0  2020      1                             -6   \n",
              "1  2020      2                             -4   \n",
              "2  2020      3                             -9   \n",
              "3  2020      4                            -26   \n",
              "4  2020      5                            -23   \n",
              "\n",
              "   Forecasts economic situation in Belgium (next 12 months)  \\\n",
              "0                                                -15          \n",
              "1                                                -17          \n",
              "2                                                -28          \n",
              "3                                                -47          \n",
              "4                                                -28          \n",
              "\n",
              "   Forecasts unemployment in Belgium (next 12 months)  \\\n",
              "0                                                  8    \n",
              "1                                                  6    \n",
              "2                                                 16    \n",
              "3                                                 60    \n",
              "4                                                 70    \n",
              "\n",
              "   Forecasts financial situation of households (next 12 months)  \\\n",
              "0                                                 -2              \n",
              "1                                                  3              \n",
              "2                                                  1              \n",
              "3                                                 -6              \n",
              "4                                                 -2              \n",
              "\n",
              "   Forecasts of savings of households (next 12 months)  \n",
              "0                                                  2    \n",
              "1                                                  6    \n",
              "2                                                  8    \n",
              "3                                                  9    \n",
              "4                                                  7    "
            ],
            "text/html": "<div>\n<style scoped>\n    .dataframe tbody tr th:only-of-type {\n        vertical-align: middle;\n    }\n\n    .dataframe tbody tr th {\n        vertical-align: top;\n    }\n\n    .dataframe thead th {\n        text-align: right;\n    }\n</style>\n<table border=\"1\" class=\"dataframe\">\n  <thead>\n    <tr style=\"text-align: right;\">\n      <th></th>\n      <th>Year</th>\n      <th>Month</th>\n      <th>Consumer confidence indicator</th>\n      <th>Forecasts economic situation in Belgium (next 12 months)</th>\n      <th>Forecasts unemployment in Belgium (next 12 months)</th>\n      <th>Forecasts financial situation of households (next 12 months)</th>\n      <th>Forecasts of savings of households (next 12 months)</th>\n    </tr>\n  </thead>\n  <tbody>\n    <tr>\n      <th>0</th>\n      <td>2020</td>\n      <td>1</td>\n      <td>-6</td>\n      <td>-15</td>\n      <td>8</td>\n      <td>-2</td>\n      <td>2</td>\n    </tr>\n    <tr>\n      <th>1</th>\n      <td>2020</td>\n      <td>2</td>\n      <td>-4</td>\n      <td>-17</td>\n      <td>6</td>\n      <td>3</td>\n      <td>6</td>\n    </tr>\n    <tr>\n      <th>2</th>\n      <td>2020</td>\n      <td>3</td>\n      <td>-9</td>\n      <td>-28</td>\n      <td>16</td>\n      <td>1</td>\n      <td>8</td>\n    </tr>\n    <tr>\n      <th>3</th>\n      <td>2020</td>\n      <td>4</td>\n      <td>-26</td>\n      <td>-47</td>\n      <td>60</td>\n      <td>-6</td>\n      <td>9</td>\n    </tr>\n    <tr>\n      <th>4</th>\n      <td>2020</td>\n      <td>5</td>\n      <td>-23</td>\n      <td>-28</td>\n      <td>70</td>\n      <td>-2</td>\n      <td>7</td>\n    </tr>\n  </tbody>\n</table>\n</div>"
          },
          "metadata": {},
          "execution_count": 101
        }
      ]
    },
    {
      "cell_type": "code",
      "metadata": {
        "id": "zzQFjcVpPcIC",
        "outputId": "37628949-e273-400d-b029-ff9de6cf24a0",
        "colab": {
          "base_uri": "https://localhost:8080/",
          "height": 200
        }
      },
      "source": [
        "# Calculate the total number of deaths per Year and Month in Belgium\n",
        "covid_belgium_deaths = covid_belgium.groupby(['year','month'])['deaths'].sum().reset_index()\n",
        "covid_belgium_deaths"
      ],
      "execution_count": 106,
      "outputs": [
        {
          "output_type": "execute_result",
          "data": {
            "text/plain": [
              "   year  month  deaths\n",
              "0  2020      1       0\n",
              "1  2020      2       0\n",
              "2  2020      3    1168\n",
              "3  2020      4    6605\n",
              "4  2020      5    1576\n",
              "5  2020      6     278\n",
              "6  2020      7      79\n",
              "7  2020      8     185\n",
              "8  2020      9     124\n",
              "9  2020     10     793"
            ],
            "text/html": "<div>\n<style scoped>\n    .dataframe tbody tr th:only-of-type {\n        vertical-align: middle;\n    }\n\n    .dataframe tbody tr th {\n        vertical-align: top;\n    }\n\n    .dataframe thead th {\n        text-align: right;\n    }\n</style>\n<table border=\"1\" class=\"dataframe\">\n  <thead>\n    <tr style=\"text-align: right;\">\n      <th></th>\n      <th>year</th>\n      <th>month</th>\n      <th>deaths</th>\n    </tr>\n  </thead>\n  <tbody>\n    <tr>\n      <th>0</th>\n      <td>2020</td>\n      <td>1</td>\n      <td>0</td>\n    </tr>\n    <tr>\n      <th>1</th>\n      <td>2020</td>\n      <td>2</td>\n      <td>0</td>\n    </tr>\n    <tr>\n      <th>2</th>\n      <td>2020</td>\n      <td>3</td>\n      <td>1168</td>\n    </tr>\n    <tr>\n      <th>3</th>\n      <td>2020</td>\n      <td>4</td>\n      <td>6605</td>\n    </tr>\n    <tr>\n      <th>4</th>\n      <td>2020</td>\n      <td>5</td>\n      <td>1576</td>\n    </tr>\n    <tr>\n      <th>5</th>\n      <td>2020</td>\n      <td>6</td>\n      <td>278</td>\n    </tr>\n    <tr>\n      <th>6</th>\n      <td>2020</td>\n      <td>7</td>\n      <td>79</td>\n    </tr>\n    <tr>\n      <th>7</th>\n      <td>2020</td>\n      <td>8</td>\n      <td>185</td>\n    </tr>\n    <tr>\n      <th>8</th>\n      <td>2020</td>\n      <td>9</td>\n      <td>124</td>\n    </tr>\n    <tr>\n      <th>9</th>\n      <td>2020</td>\n      <td>10</td>\n      <td>793</td>\n    </tr>\n  </tbody>\n</table>\n</div>"
          },
          "metadata": {},
          "execution_count": 106
        }
      ]
    },
    {
      "cell_type": "code",
      "metadata": {
        "id": "TWlGqdBnRboE",
        "outputId": "2bc2c2b7-d260-4e46-b43e-d2d5d25ef8a9",
        "colab": {
          "base_uri": "https://localhost:8080/",
          "height": 369
        }
      },
      "source": [
        "# Merge the previous dataframe with the consumer_confidence_data\n",
        "covid_belgium_deaths_consumer_confidence =  pd.merge(covid_belgium_deaths, consumer_confidence_data,  how='inner', left_on=['year','month'], right_on = ['Year','Month'])\n",
        "covid_belgium_deaths_consumer_confidence.head(10)"
      ],
      "execution_count": 107,
      "outputs": [
        {
          "output_type": "execute_result",
          "data": {
            "text/plain": [
              "   year  month  deaths  Year  Month  Consumer confidence indicator  \\\n",
              "0  2020      1       0  2020      1                             -6   \n",
              "1  2020      2       0  2020      2                             -4   \n",
              "2  2020      3    1168  2020      3                             -9   \n",
              "3  2020      4    6605  2020      4                            -26   \n",
              "4  2020      5    1576  2020      5                            -23   \n",
              "5  2020      6     278  2020      6                            -19   \n",
              "6  2020      7      79  2020      7                            -20   \n",
              "7  2020      8     185  2020      8                            -26   \n",
              "8  2020      9     124  2020      9                            -16   \n",
              "9  2020     10     793  2020     10                            -17   \n",
              "\n",
              "   Forecasts economic situation in Belgium (next 12 months)  \\\n",
              "0                                                -15          \n",
              "1                                                -17          \n",
              "2                                                -28          \n",
              "3                                                -47          \n",
              "4                                                -28          \n",
              "5                                                -18          \n",
              "6                                                -22          \n",
              "7                                                -38          \n",
              "8                                                -20          \n",
              "9                                                -20          \n",
              "\n",
              "   Forecasts unemployment in Belgium (next 12 months)  \\\n",
              "0                                                  8    \n",
              "1                                                  6    \n",
              "2                                                 16    \n",
              "3                                                 60    \n",
              "4                                                 70    \n",
              "5                                                 70    \n",
              "6                                                 70    \n",
              "7                                                 77    \n",
              "8                                                 62    \n",
              "9                                                 59    \n",
              "\n",
              "   Forecasts financial situation of households (next 12 months)  \\\n",
              "0                                                 -2              \n",
              "1                                                  3              \n",
              "2                                                  1              \n",
              "3                                                 -6              \n",
              "4                                                 -2              \n",
              "5                                                  1              \n",
              "6                                                  1              \n",
              "7                                                 -1              \n",
              "8                                                  2              \n",
              "9                                                  1              \n",
              "\n",
              "   Forecasts of savings of households (next 12 months)  \n",
              "0                                                  2    \n",
              "1                                                  6    \n",
              "2                                                  8    \n",
              "3                                                  9    \n",
              "4                                                  7    \n",
              "5                                                 13    \n",
              "6                                                 12    \n",
              "7                                                 12    \n",
              "8                                                 17    \n",
              "9                                                  1    "
            ],
            "text/html": "<div>\n<style scoped>\n    .dataframe tbody tr th:only-of-type {\n        vertical-align: middle;\n    }\n\n    .dataframe tbody tr th {\n        vertical-align: top;\n    }\n\n    .dataframe thead th {\n        text-align: right;\n    }\n</style>\n<table border=\"1\" class=\"dataframe\">\n  <thead>\n    <tr style=\"text-align: right;\">\n      <th></th>\n      <th>year</th>\n      <th>month</th>\n      <th>deaths</th>\n      <th>Year</th>\n      <th>Month</th>\n      <th>Consumer confidence indicator</th>\n      <th>Forecasts economic situation in Belgium (next 12 months)</th>\n      <th>Forecasts unemployment in Belgium (next 12 months)</th>\n      <th>Forecasts financial situation of households (next 12 months)</th>\n      <th>Forecasts of savings of households (next 12 months)</th>\n    </tr>\n  </thead>\n  <tbody>\n    <tr>\n      <th>0</th>\n      <td>2020</td>\n      <td>1</td>\n      <td>0</td>\n      <td>2020</td>\n      <td>1</td>\n      <td>-6</td>\n      <td>-15</td>\n      <td>8</td>\n      <td>-2</td>\n      <td>2</td>\n    </tr>\n    <tr>\n      <th>1</th>\n      <td>2020</td>\n      <td>2</td>\n      <td>0</td>\n      <td>2020</td>\n      <td>2</td>\n      <td>-4</td>\n      <td>-17</td>\n      <td>6</td>\n      <td>3</td>\n      <td>6</td>\n    </tr>\n    <tr>\n      <th>2</th>\n      <td>2020</td>\n      <td>3</td>\n      <td>1168</td>\n      <td>2020</td>\n      <td>3</td>\n      <td>-9</td>\n      <td>-28</td>\n      <td>16</td>\n      <td>1</td>\n      <td>8</td>\n    </tr>\n    <tr>\n      <th>3</th>\n      <td>2020</td>\n      <td>4</td>\n      <td>6605</td>\n      <td>2020</td>\n      <td>4</td>\n      <td>-26</td>\n      <td>-47</td>\n      <td>60</td>\n      <td>-6</td>\n      <td>9</td>\n    </tr>\n    <tr>\n      <th>4</th>\n      <td>2020</td>\n      <td>5</td>\n      <td>1576</td>\n      <td>2020</td>\n      <td>5</td>\n      <td>-23</td>\n      <td>-28</td>\n      <td>70</td>\n      <td>-2</td>\n      <td>7</td>\n    </tr>\n    <tr>\n      <th>5</th>\n      <td>2020</td>\n      <td>6</td>\n      <td>278</td>\n      <td>2020</td>\n      <td>6</td>\n      <td>-19</td>\n      <td>-18</td>\n      <td>70</td>\n      <td>1</td>\n      <td>13</td>\n    </tr>\n    <tr>\n      <th>6</th>\n      <td>2020</td>\n      <td>7</td>\n      <td>79</td>\n      <td>2020</td>\n      <td>7</td>\n      <td>-20</td>\n      <td>-22</td>\n      <td>70</td>\n      <td>1</td>\n      <td>12</td>\n    </tr>\n    <tr>\n      <th>7</th>\n      <td>2020</td>\n      <td>8</td>\n      <td>185</td>\n      <td>2020</td>\n      <td>8</td>\n      <td>-26</td>\n      <td>-38</td>\n      <td>77</td>\n      <td>-1</td>\n      <td>12</td>\n    </tr>\n    <tr>\n      <th>8</th>\n      <td>2020</td>\n      <td>9</td>\n      <td>124</td>\n      <td>2020</td>\n      <td>9</td>\n      <td>-16</td>\n      <td>-20</td>\n      <td>62</td>\n      <td>2</td>\n      <td>17</td>\n    </tr>\n    <tr>\n      <th>9</th>\n      <td>2020</td>\n      <td>10</td>\n      <td>793</td>\n      <td>2020</td>\n      <td>10</td>\n      <td>-17</td>\n      <td>-20</td>\n      <td>59</td>\n      <td>1</td>\n      <td>1</td>\n    </tr>\n  </tbody>\n</table>\n</div>"
          },
          "metadata": {},
          "execution_count": 107
        }
      ]
    },
    {
      "cell_type": "code",
      "metadata": {
        "id": "3A3N3--xSckx",
        "outputId": "15458ee7-ce2f-4214-f558-49e508f2fa0b",
        "colab": {
          "base_uri": "https://localhost:8080/",
          "height": 352
        }
      },
      "source": [
        "# Exercise: To keep a good overview: use .loc to get some of the data: 'year','month','deaths','Consumer confidence indicator'\n"
      ],
      "execution_count": 90,
      "outputs": [
        {
          "output_type": "execute_result",
          "data": {
            "text/html": [
              "<div>\n",
              "<style scoped>\n",
              "    .dataframe tbody tr th:only-of-type {\n",
              "        vertical-align: middle;\n",
              "    }\n",
              "\n",
              "    .dataframe tbody tr th {\n",
              "        vertical-align: top;\n",
              "    }\n",
              "\n",
              "    .dataframe thead th {\n",
              "        text-align: right;\n",
              "    }\n",
              "</style>\n",
              "<table border=\"1\" class=\"dataframe\">\n",
              "  <thead>\n",
              "    <tr style=\"text-align: right;\">\n",
              "      <th></th>\n",
              "      <th>year</th>\n",
              "      <th>month</th>\n",
              "      <th>deaths</th>\n",
              "      <th>Consumer confidence indicator</th>\n",
              "    </tr>\n",
              "  </thead>\n",
              "  <tbody>\n",
              "    <tr>\n",
              "      <th>0</th>\n",
              "      <td>2020</td>\n",
              "      <td>1</td>\n",
              "      <td>0</td>\n",
              "      <td>-6</td>\n",
              "    </tr>\n",
              "    <tr>\n",
              "      <th>1</th>\n",
              "      <td>2020</td>\n",
              "      <td>2</td>\n",
              "      <td>0</td>\n",
              "      <td>-4</td>\n",
              "    </tr>\n",
              "    <tr>\n",
              "      <th>2</th>\n",
              "      <td>2020</td>\n",
              "      <td>3</td>\n",
              "      <td>1168</td>\n",
              "      <td>-9</td>\n",
              "    </tr>\n",
              "    <tr>\n",
              "      <th>3</th>\n",
              "      <td>2020</td>\n",
              "      <td>4</td>\n",
              "      <td>6605</td>\n",
              "      <td>-26</td>\n",
              "    </tr>\n",
              "    <tr>\n",
              "      <th>4</th>\n",
              "      <td>2020</td>\n",
              "      <td>5</td>\n",
              "      <td>1576</td>\n",
              "      <td>-23</td>\n",
              "    </tr>\n",
              "    <tr>\n",
              "      <th>5</th>\n",
              "      <td>2020</td>\n",
              "      <td>6</td>\n",
              "      <td>278</td>\n",
              "      <td>-19</td>\n",
              "    </tr>\n",
              "    <tr>\n",
              "      <th>6</th>\n",
              "      <td>2020</td>\n",
              "      <td>7</td>\n",
              "      <td>79</td>\n",
              "      <td>-20</td>\n",
              "    </tr>\n",
              "    <tr>\n",
              "      <th>7</th>\n",
              "      <td>2020</td>\n",
              "      <td>8</td>\n",
              "      <td>185</td>\n",
              "      <td>-26</td>\n",
              "    </tr>\n",
              "    <tr>\n",
              "      <th>8</th>\n",
              "      <td>2020</td>\n",
              "      <td>9</td>\n",
              "      <td>124</td>\n",
              "      <td>-16</td>\n",
              "    </tr>\n",
              "    <tr>\n",
              "      <th>9</th>\n",
              "      <td>2020</td>\n",
              "      <td>10</td>\n",
              "      <td>723</td>\n",
              "      <td>-17</td>\n",
              "    </tr>\n",
              "  </tbody>\n",
              "</table>\n",
              "</div>"
            ],
            "text/plain": [
              "   year  month  deaths  Consumer confidence indicator\n",
              "0  2020      1       0                             -6\n",
              "1  2020      2       0                             -4\n",
              "2  2020      3    1168                             -9\n",
              "3  2020      4    6605                            -26\n",
              "4  2020      5    1576                            -23\n",
              "5  2020      6     278                            -19\n",
              "6  2020      7      79                            -20\n",
              "7  2020      8     185                            -26\n",
              "8  2020      9     124                            -16\n",
              "9  2020     10     723                            -17"
            ]
          },
          "metadata": {
            "tags": []
          },
          "execution_count": 90
        }
      ]
    }
  ]
}