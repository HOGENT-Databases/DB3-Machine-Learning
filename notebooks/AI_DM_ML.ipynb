{
 "cells": [
  {
   "cell_type": "markdown",
   "metadata": {},
   "source": [
    "### Artificial Intelligence, Data Mining and Machine Learning\n",
    "Artificial intelligence, machine learning and data mining are three related techniques, that can be defined as follows:  \n",
    "- *Artificial intelligence*: the automation of activities that we associate with human thinking, activities such as decision-making, problem solving and learning.\n",
    "- *Machine learning*: the study, design and development of algorithms that give computers the capability to learn without being explicitly programmed. \n",
    "- *Data mining*: the process of extracting valid, previously unknown, comprehensible, and actionable information from large databases and using it to make crucial business decisions. Often, machine learning techniques are used in data mining.  \n",
    "  \n",
    "**Machine learning** can again be subdivided into three categories, as shown in the figure below. The smallest bullets show some application fields for each subcategory. \n"
   ]
  },
  {
   "cell_type": "markdown",
   "metadata": {},
   "source": [
    "![ml.png](images/ml.png)"
   ]
  },
  {
   "cell_type": "markdown",
   "metadata": {},
   "source": [
    "#### Supervised and unsupervised learning  \n",
    "- start from a data set of examples, called instances\n",
    "- each of which comprises the values of a number of variables,  called attributes or features. \n",
    "Two types of data, which are treated in radically different ways.  \n",
    "\n",
    "#### 1. Supervised Learning\n",
    "- specifically designated attribute, called label\n",
    "- the aim is to use the data given to predict the value of the label for instances that have not yet been seen. \n",
    "- data of this kind is called labelled. \n",
    "- **Classfication** \n",
    "    - the label is _categorical_\n",
    "    - it must take one of a number of distinct values such as ‘very good’, ‘good’ or ‘poor’\n",
    "- **Regression**\n",
    "    - the label is _numerical_\n",
    "    - e.g. the expected sale price of a house or the opening price of a share on tomorrow’s stock market, the task is called regression.  \n",
    "    \n",
    "#### 2. Unsupervised Learning\n",
    "- data that does not have any specifically designated attribute --> unlabeled. "
   ]
  }
 ],
 "metadata": {
  "kernelspec": {
   "display_name": "Python 3",
   "language": "python",
   "name": "python3"
  },
  "language_info": {
   "codemirror_mode": {
    "name": "ipython",
    "version": 3
   },
   "file_extension": ".py",
   "mimetype": "text/x-python",
   "name": "python",
   "nbconvert_exporter": "python",
   "pygments_lexer": "ipython3",
   "version": "3.7.6"
  }
 },
 "nbformat": 4,
 "nbformat_minor": 4
}
