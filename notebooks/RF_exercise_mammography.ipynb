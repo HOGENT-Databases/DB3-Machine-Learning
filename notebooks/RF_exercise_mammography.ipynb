{
 "cells": [
  {
   "source": [
    "### Exercise mammography\n",
    "Mammography is the most effective method for breast cancer screening available today. However, the low positive predictive value of breast biopsy resulting from mammogram interpretation leads to approximately    70% unnecessary biopsies with benign outcomes. To reduce the high  number of unnecessary breast biopsies, several computer-aided diagnosis (CAD) systems have been proposed in the last years. These systems help physicians in their decision to perform a breast biopsy on a suspicious lesion seen in a mammogram or to perform a short term follow-up examination instead.  \n",
    " \n",
    "This data set can be used to predict the severity (benign or malignant) of a mammographic mass lesion from BI-RADS attributes and the patient's age. It contains a BI-RADS assessment, the patient's age and three BI-RADS attributes together with the ground truth (the severity field) for 516 benign and 445 malignant masses that have been identified on full field digital mammograms  collected at the Institute of Radiology of the University Erlangen-Nuremberg between 2003 and 2006.  \n",
    " \n",
    "Each instance has an associated BI-RADS assessment ranging from 1 (definitely benign) to 5 (highly suggestive of malignancy) assigned in a double-review process by physicians. Assuming that all cases with BI-RADS assessments greater or equal a given value (varying from 1 to 5), are malignant and the other cases benign,  sensitivities and associated specificities can be calculated. These can be an  indication of how well a CAD system performs compared to the radiologists. \n",
    "  \n",
    "Number of Instances: 961\n",
    "Number of Attributes: 6 (1 goal field, 1 non-predictive, 4 predictive attributes)\n",
    "Attribute Information:  \n",
    " \n",
    "   1. BI-RADS assessment: 1 to 5 (ordinal)  = assessment by radiologist:   \n",
    "    \n",
    "   - 0- incomplete  \n",
    "   - 1-negative   \n",
    "   - 2-benign findings  \n",
    "   - 3-probably benign  \n",
    "   - 4-suspicious abnormality  \n",
    "   - 5-highly suspicious of malignancy  \n",
    "   2. Age: patient's age in years (integer)   \n",
    "\n",
    "   3. Shape: mass shape: round=1 oval=2 lobular=3 irregular=4 (nominal)   \n",
    "   \n",
    "   4. Margin: mass margin:   \n",
    "    \n",
    "   - circumscribed=1  \n",
    "   - microlobulated=2  \n",
    "   - obscured=3  \n",
    "   - ill-defined=4  \n",
    "   - spiculated=5 (nominal) \n",
    "   5. Density: mass density high=1 iso=2 low=3 fat-containing=4 (ordinal)  \n",
    "     \n",
    "   6. Severity: benign=0 or malignant=1 (binominal) \n",
    "\n",
    "Missing Attribute Values: Yes\n",
    "\n",
    "    - BI-RADS assessment:   \t2\n",
    "    - Age:                   \t5\n",
    "    - Shape:                \t31\n",
    "    - Margin:               \t48\n",
    "    - Density:              \t76\n",
    "    - Severity:             \t0\n",
    "Class Distribution: benign: 516; malignant: 445\n",
    " \n",
    "See https://archive.ics.uci.edu/ml/datasets/Mammographic+Mass  for the source of the data set. \n"
   ],
   "cell_type": "markdown",
   "metadata": {}
  },
  {
   "source": [
    "# import the library \n",
    "import pandas as pd\n",
    "url = 'https://raw.githubusercontent.com/HOGENT-Databases/DB3-Workshops/master/data/mammography.csv'\n",
    "mammo = pd.read_csv(url)"
   ],
   "cell_type": "code",
   "metadata": {},
   "execution_count": 346,
   "outputs": []
  },
  {
   "cell_type": "code",
   "execution_count": 3,
   "metadata": {},
   "outputs": [],
   "source": [
    "# Calculate how often breast cancer occurs on average in this data set. (0,46…)\n"
   ]
  },
  {
   "cell_type": "code",
   "execution_count": 2,
   "metadata": {},
   "outputs": [],
   "source": [
    "# Calculate how many of the samples are benign and how many are malignant (benign: 516, malign: 445)\n"
   ]
  },
  {
   "cell_type": "code",
   "execution_count": 350,
   "metadata": {},
   "outputs": [],
   "source": [
    "# Missing attributes are indicated as “?”. Remove all lines that contain some “?”. \n"
   ]
  },
  {
   "cell_type": "code",
   "execution_count": 352,
   "metadata": {},
   "outputs": [],
   "source": [
    "# Calculate the percentage of the BI-RADS assessments that were correct, assuming a BI-RADS assessment of 4 or higher is malign. (51 %)\n"
   ]
  },
  {
   "cell_type": "code",
   "execution_count": 357,
   "metadata": {},
   "outputs": [],
   "source": [
    "# Use random forest classification to determine a model for predicting the severity (benign/malign) \n",
    "# of new mammography results. Determine the accuracy of the classifier (+/- 79%)\n",
    "# Determine the optimal number of trees \n"
   ]
  },
  {
   "cell_type": "code",
   "execution_count": 1,
   "metadata": {},
   "outputs": [],
   "source": [
    "# Which two factors are the most determining for malign breast tumors. (Age and margin)\n"
   ]
  },
  {
   "cell_type": "code",
   "execution_count": 365,
   "metadata": {},
   "outputs": [],
   "source": [
    "# Determine the false negative rate and the false positive rate. \n",
    "# Which proportion of the real cancer cases are we missing with this test? (+/- 25%)\n"
   ]
  }
 ],
 "metadata": {
  "kernelspec": {
   "display_name": "Python 3",
   "language": "python",
   "name": "python3"
  },
  "language_info": {
   "codemirror_mode": {
    "name": "ipython",
    "version": 3
   },
   "file_extension": ".py",
   "mimetype": "text/x-python",
   "name": "python",
   "nbconvert_exporter": "python",
   "pygments_lexer": "ipython3",
   "version": "3.8.3-final"
  }
 },
 "nbformat": 4,
 "nbformat_minor": 2
}