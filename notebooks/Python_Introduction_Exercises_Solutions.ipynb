{
 "cells": [
  {
   "cell_type": "markdown",
   "metadata": {
    "collapsed": true
   },
   "source": [
    "# Exercises on Python - Solutions"
   ]
  },
  {
   "cell_type": "code",
   "execution_count": 1,
   "metadata": {},
   "outputs": [],
   "source": [
    "fruits = ['orange', 'apple', 'pear', 'banana', 'kiwi', 'apple', 'banana']\n",
    "\n",
    "# Give the number of apples in fruits\n",
    "\n",
    "# Give the index of banana\n",
    "\n",
    "# Reverse the array fruits + print the reversed array\n",
    "\n",
    "\n",
    "# Append grape to the array fruits + print the new array\n",
    "\n",
    "\n",
    "# Sort the array fruits + print the sorted array\n",
    "\n",
    "\n",
    "# Remove the last element from the array fruits + print the new array\n",
    "\n"
   ]
  },
  {
   "cell_type": "code",
   "execution_count": 2,
   "metadata": {},
   "outputs": [],
   "source": [
    "vec = [-4, -2, 0, 2, 4]\n",
    "# Create a new list vec2 with the values doubled\n",
    "vec2 = [x*2 for x in vec]\n",
    "print(vec2)\n",
    "# Create a new list vecNoNegative to exclude negative numbers\n",
    "vecNoNegative = [x for x in vec if x >= 0]\n",
    "print(vecNoNegative)\n",
    "# Create a new list vecAbs with the absolute value of all the elements\n",
    "vecAbs = [abs(x) for x in vec]\n",
    "print(vecAbs)\n",
    "# Create a new array fruitStrip where each fruit was stripped from the spaces\n",
    "fruit = ['  banana', '  loganberry ', 'passion fruit  ']\n",
    "fruitStrip = [f.strip() for f in fruit]\n",
    "print(fruitStrip)\n"
   ]
  },
  {
   "cell_type": "code",
   "execution_count": 3,
   "metadata": {},
   "outputs": [],
   "source": [
    "tel = {'jack': 4098, 'sape': 4139}\n",
    "# Add the number of guido: 4127\n",
    "tel['guido'] = 4127\n",
    "# Print the dictionary\n",
    "print(tel)\n",
    "# Print the number of jack\n",
    "print(tel['jack'])\n",
    "# Remove the number of sape\n",
    "del tel['sape']\n",
    "# Print the dictionary\n",
    "print(tel)\n",
    "# Add the number of irv: 4128\n",
    "tel['irv'] = 4127\n",
    "# Print the dictionary\n",
    "print(tel)\n",
    "# Check if guido is in the dictionary\n",
    "print('guido' in tel)\n",
    "# Use a for loop to get the following output\n",
    "# jack --> 4098\n",
    "# guido --> 4127\n",
    "# irv --> 4127\n",
    "\n",
    "for key in tel:\n",
    "    print(key + \" --> \" + str(tel[key])) \n"
   ]
  },
  {
   "cell_type": "code",
   "execution_count": 4,
   "metadata": {},
   "outputs": [],
   "source": [
    "words = ['cat', 'window', 'defenestrate']\n",
    "# Use a for loop to print out the words and the length of each word\n",
    "for w in words:\n",
    "    print(w, len(w))\n",
    "\n",
    "# cat 3\n",
    "# window 6\n",
    "# defenestrate 12"
   ]
  },
  {
   "cell_type": "code",
   "execution_count": 5,
   "metadata": {},
   "outputs": [],
   "source": [
    "my_list = ['p','r','o','b','l','e', 'm']\n",
    "\n",
    "# Output: e. Use negative indexes\n",
    "print(my_list[-2])\n",
    "\n",
    "# Output: p. Use negative indexes\n",
    "print(my_list[-7])\n",
    "\n",
    "# Output 3rd to 5th. Use slicing\n",
    "print(my_list[2:5])\n",
    "\n",
    "# Output beginning to 4th.\n",
    "print(my_list[:4])\n",
    "\n",
    "# Output 5th to end.\n",
    "print(my_list[5:])\n",
    "\n",
    "# Output from beginning to end\n",
    "print(my_list[:])\n",
    "\n",
    "# Delete the second character\n",
    "del my_list[1]\n",
    "\n",
    "print(my_list)\n",
    "\n",
    "# Delete the third to fifth character\n",
    "del my_list[2:5]\n",
    "print(my_list)\n"
   ]
  },
  {
   "cell_type": "code",
   "execution_count": 6,
   "metadata": {},
   "outputs": [],
   "source": [
    "# Mistake values\n",
    "odd = [2, 4, 6, 8]\n",
    "\n",
    "# Change the 1st item to 1  \n",
    "odd[0] = 1            \n",
    "print(odd)\n",
    "\n",
    "# Change 2nd to 4th items to 3, 5, 7\n",
    "odd[1:4] = [3, 5, 7]  \n",
    "print(odd)      \n",
    "\n",
    "# Append 9\n",
    "odd.append(9)\n",
    "print(odd)"
   ]
  },
  {
   "cell_type": "code",
   "execution_count": 7,
   "metadata": {},
   "outputs": [],
   "source": [
    "# Create a list pow2: 64, 128, 256, 512, 1024\n",
    "pow2 = [2 ** x for x in range(6, 11)]\n",
    "print(pow2)\n"
   ]
  },
  {
   "cell_type": "code",
   "execution_count": 3,
   "metadata": {},
   "outputs": [
    {
     "output_type": "stream",
     "name": "stdout",
     "text": [
      "The score is: 14\n"
     ]
    }
   ],
   "source": [
    "# Scrabble score\n",
    "# Choose a word\n",
    "word = \"python\"\n",
    "# Convert the word to uppercase and initialize the score variable to 0\n",
    "word = word.upper();\n",
    "score = 0;\n",
    "\n",
    "# A dictionary of letters along with their corresponding point values\n",
    "points = {\"A\": 1, \"B\": 3, \"C\": 3, \"D\": 2, \"E\": 1, \"F\": 4, \"G\": 2, \"H\": 4, \"I\": 1, \"J\": 2, \"K\": 5, \"L\": 1, \"M\": 3, \"N\": 1, \"O\": 1, \"P\": 3, \"Q\": 10, \"R\": 1, \"S\": 1, \"T\": 1, \"U\": 1, \"V\": 4, \"W\": 4, \"X\": 8, \"Y\": 4, \"Z\": 10}\n",
    "\n",
    "# Iterate over each character of the entered word, get the number of points it is worth and add to the score variable\n",
    "for letter in word:\n",
    "    score += points[letter]\n",
    "  \n",
    "# Print the accumulated score\n",
    "print('The score is:',score)"
   ]
  },
  {
   "cell_type": "code",
   "execution_count": 6,
   "metadata": {},
   "outputs": [
    {
     "output_type": "stream",
     "name": "stdout",
     "text": [
      "86445\nAverage population =  148024.66666666666\n"
     ]
    }
   ],
   "source": [
    "city_population = {\"Antwerpen\":525935, \"Gent\":262219, \"Brugge\":118325, \"Mechelen\":86616, \"Aalst\":86445, \"Kortrijk\":76735, \"Oostende\":71494, \"Genk\":66227}\n",
    "# Print the city population of Aalst\n",
    "print(city_population[\"Aalst\"])\n",
    "\n",
    "# Add the city population of Waregem = 38226\n",
    "city_population[\"Waregem\"] = 38226\n",
    "\n",
    "# Calculate the average population + print the average population\n",
    "sum = 0\n",
    "count = 0\n",
    "for city in city_population:\n",
    "    sum += city_population[city]\n",
    "print(\"Average population = \",sum/len(city_population))"
   ]
  },
  {
   "cell_type": "code",
   "execution_count": 10,
   "metadata": {},
   "outputs": [],
   "source": [
    "en_de = {\"red\" : \"rot\", \"green\" : \"grün\", \"blue\" : \"blau\", \"yellow\":\"gelb\"}\n",
    "de_fr = {\"rot\" : \"rouge\", \"grün\" : \"vert\", \"blau\" : \"bleu\", \"gelb\":\"jaune\"}\n",
    "\n",
    "# Create the dictionary en_fr + print the dictionary\n",
    "\n",
    "\n",
    "# Translate the word green to french\n"
   ]
  },
  {
   "cell_type": "code",
   "execution_count": 11,
   "metadata": {},
   "outputs": [],
   "source": [
    "morse = {\n",
    "\"A\" : \".-\", \n",
    "\"B\" : \"-...\", \n",
    "\"C\" : \"-.-.\", \n",
    "\"D\" : \"-..\", \n",
    "\"E\" : \".\", \n",
    "\"F\" : \"..-.\", \n",
    "\"G\" : \"--.\", \n",
    "\"H\" : \"....\", \n",
    "\"I\" : \"..\", \n",
    "\"J\" : \".---\", \n",
    "\"K\" : \"-.-\", \n",
    "\"L\" : \".-..\", \n",
    "\"M\" : \"--\", \n",
    "\"N\" : \"-.\", \n",
    "\"O\" : \"---\", \n",
    "\"P\" : \".--.\", \n",
    "\"Q\" : \"--.-\", \n",
    "\"R\" : \".-.\", \n",
    "\"S\" : \"...\", \n",
    "\"T\" : \"-\", \n",
    "\"U\" : \"..-\", \n",
    "\"V\" : \"...-\", \n",
    "\"W\" : \".--\", \n",
    "\"X\" : \"-..-\", \n",
    "\"Y\" : \"-.--\", \n",
    "\"Z\" : \"--..\", \n",
    "\"0\" : \"-----\", \n",
    "\"1\" : \".----\", \n",
    "\"2\" : \"..---\", \n",
    "\"3\" : \"...--\", \n",
    "\"4\" : \"....-\", \n",
    "\"5\" : \".....\", \n",
    "\"6\" : \"-....\", \n",
    "\"7\" : \"--...\", \n",
    "\"8\" : \"---..\", \n",
    "\"9\" : \"----.\", \n",
    "\".\" : \".-.-.-\", \n",
    "\",\" : \"--..--\"\n",
    "}\n",
    "\n",
    "# Convert the input text to morse code\n",
    "# Characters that are not in the dictionary remain the same"
   ]
  },
  {
   "cell_type": "code",
   "execution_count": 12,
   "metadata": {},
   "outputs": [],
   "source": [
    "# Write a class Person. A person has a name and an age.\n",
    "# A person can sayHi (\"Hello, my name is ...\")\n",
    "# Create a person John who is 36 years old\n",
    "\n",
    "class Person:\n",
    "  def __init__(self, name, age):\n",
    "    self.name = name\n",
    "    self.age = age\n",
    "\n",
    "  def sayHi(self):\n",
    "    print(\"Hello, my name is \" + self.name)\n",
    "\n",
    "p1 = Person(\"John\", 36)\n",
    "p1.sayHi()\n",
    "\n"
   ]
  }
 ],
 "metadata": {
  "kernelspec": {
   "display_name": "Python 3",
   "language": "python",
   "name": "python3"
  },
  "language_info": {
   "codemirror_mode": {
    "name": "ipython",
    "version": 3
   },
   "file_extension": ".py",
   "mimetype": "text/x-python",
   "name": "python",
   "nbconvert_exporter": "python",
   "pygments_lexer": "ipython3",
   "version": "3.8.3-final"
  }
 },
 "nbformat": 4,
 "nbformat_minor": 2
}