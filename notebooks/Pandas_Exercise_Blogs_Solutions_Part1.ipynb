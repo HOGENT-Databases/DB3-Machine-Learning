{
 "cells": [
  {
   "cell_type": "markdown",
   "metadata": {},
   "source": [
    "## PART  1\n",
    "Het bestand `blog-gender-dataset.csv` bevat ongeveer 3000 blog posts, samen met het geslacht van de blogger. <br>\n",
    "Het is de bedoeling om na te gaan of het geslacht kan afgeleid worden uit de tekst."
   ]
  },
  {
   "cell_type": "markdown",
   "metadata": {},
   "source": [
    "a. Importeer de data uit de file blog-gender-dataset.csv in een Pandas DataFrame"
   ]
  },
  {
   "cell_type": "code",
   "execution_count": 1,
   "metadata": {},
   "outputs": [],
   "source": [
    "import pandas as pd\n",
    "url = 'https://raw.githubusercontent.com/HOGENT-Databases/DB3-Workshops/master/data/blog-gender-dataset.csv'\n",
    "blog = pd.read_csv(url)"
   ]
  },
  {
   "cell_type": "markdown",
   "metadata": {},
   "source": [
    "b. Toon de laatste 10 rijen om een idee te krijgen van de inhoud"
   ]
  },
  {
   "cell_type": "code",
   "execution_count": 2,
   "metadata": {},
   "outputs": [
    {
     "output_type": "execute_result",
     "data": {
      "text/plain": [
       "                                                   text gender\n",
       "3222  \"weird\"\\n\\nlet's discuss what this word means ...      F\n",
       "3223  There are two types of fall guys; one who will...      M\n",
       "3224  I like...flipping my blankets over to the cold...      F\n",
       "3225  Alone for so long walking down the path of dar...      M\n",
       "3226  It's been more than a month since I posted any...      F\n",
       "3227  It was a scavenger style race with checkpoints...      M\n",
       "3228  Finally! I got a full day's work done. Almost ...      F\n",
       "3229  At the height of laughter, the universe is flu...      M\n",
       "3230  I like birds, especially woodpeckers and MOST ...      M\n",
       "3231  Oh friends, it's finally here! I thought the m...      F"
      ],
      "text/html": "<div>\n<style scoped>\n    .dataframe tbody tr th:only-of-type {\n        vertical-align: middle;\n    }\n\n    .dataframe tbody tr th {\n        vertical-align: top;\n    }\n\n    .dataframe thead th {\n        text-align: right;\n    }\n</style>\n<table border=\"1\" class=\"dataframe\">\n  <thead>\n    <tr style=\"text-align: right;\">\n      <th></th>\n      <th>text</th>\n      <th>gender</th>\n    </tr>\n  </thead>\n  <tbody>\n    <tr>\n      <th>3222</th>\n      <td>\"weird\"\\n\\nlet's discuss what this word means ...</td>\n      <td>F</td>\n    </tr>\n    <tr>\n      <th>3223</th>\n      <td>There are two types of fall guys; one who will...</td>\n      <td>M</td>\n    </tr>\n    <tr>\n      <th>3224</th>\n      <td>I like...flipping my blankets over to the cold...</td>\n      <td>F</td>\n    </tr>\n    <tr>\n      <th>3225</th>\n      <td>Alone for so long walking down the path of dar...</td>\n      <td>M</td>\n    </tr>\n    <tr>\n      <th>3226</th>\n      <td>It's been more than a month since I posted any...</td>\n      <td>F</td>\n    </tr>\n    <tr>\n      <th>3227</th>\n      <td>It was a scavenger style race with checkpoints...</td>\n      <td>M</td>\n    </tr>\n    <tr>\n      <th>3228</th>\n      <td>Finally! I got a full day's work done. Almost ...</td>\n      <td>F</td>\n    </tr>\n    <tr>\n      <th>3229</th>\n      <td>At the height of laughter, the universe is flu...</td>\n      <td>M</td>\n    </tr>\n    <tr>\n      <th>3230</th>\n      <td>I like birds, especially woodpeckers and MOST ...</td>\n      <td>M</td>\n    </tr>\n    <tr>\n      <th>3231</th>\n      <td>Oh friends, it's finally here! I thought the m...</td>\n      <td>F</td>\n    </tr>\n  </tbody>\n</table>\n</div>"
     },
     "metadata": {},
     "execution_count": 2
    }
   ],
   "source": [
    "blog.tail(10)"
   ]
  },
  {
   "cell_type": "markdown",
   "metadata": {},
   "source": [
    "c. Bepaal het totaal aantal blogteksten"
   ]
  },
  {
   "cell_type": "code",
   "execution_count": 3,
   "metadata": {},
   "outputs": [
    {
     "output_type": "execute_result",
     "data": {
      "text/plain": [
       "text      3226\n",
       "gender    3227\n",
       "dtype: int64"
      ]
     },
     "metadata": {},
     "execution_count": 3
    }
   ],
   "source": [
    "blog.count()"
   ]
  },
  {
   "cell_type": "markdown",
   "metadata": {},
   "source": [
    "d. Bepaal het aantal blogteksten per unieke waarde van gender (= geslacht)"
   ]
  },
  {
   "cell_type": "code",
   "execution_count": 4,
   "metadata": {},
   "outputs": [
    {
     "output_type": "execute_result",
     "data": {
      "text/plain": [
       "        text\n",
       "gender      \n",
       " F       153\n",
       " M       126\n",
       " M         1\n",
       "F       1390\n",
       "F          1\n",
       "M       1546\n",
       "f          4\n",
       "m          5"
      ],
      "text/html": "<div>\n<style scoped>\n    .dataframe tbody tr th:only-of-type {\n        vertical-align: middle;\n    }\n\n    .dataframe tbody tr th {\n        vertical-align: top;\n    }\n\n    .dataframe thead th {\n        text-align: right;\n    }\n</style>\n<table border=\"1\" class=\"dataframe\">\n  <thead>\n    <tr style=\"text-align: right;\">\n      <th></th>\n      <th>text</th>\n    </tr>\n    <tr>\n      <th>gender</th>\n      <th></th>\n    </tr>\n  </thead>\n  <tbody>\n    <tr>\n      <th>F</th>\n      <td>153</td>\n    </tr>\n    <tr>\n      <th>M</th>\n      <td>126</td>\n    </tr>\n    <tr>\n      <th>M</th>\n      <td>1</td>\n    </tr>\n    <tr>\n      <th>F</th>\n      <td>1390</td>\n    </tr>\n    <tr>\n      <th>F</th>\n      <td>1</td>\n    </tr>\n    <tr>\n      <th>M</th>\n      <td>1546</td>\n    </tr>\n    <tr>\n      <th>f</th>\n      <td>4</td>\n    </tr>\n    <tr>\n      <th>m</th>\n      <td>5</td>\n    </tr>\n  </tbody>\n</table>\n</div>"
     },
     "metadata": {},
     "execution_count": 4
    }
   ],
   "source": [
    "blog.groupby(\"gender\").count()"
   ]
  },
  {
   "cell_type": "markdown",
   "metadata": {},
   "source": [
    "e. Je merkt dat M and F elk meerdere keren voorkomen. Hoe verklaar je dit?"
   ]
  },
  {
   "cell_type": "code",
   "execution_count": 5,
   "metadata": {},
   "outputs": [],
   "source": [
    "## Verschillende schrijfwijzen (M/m) en spaties vooraan/achteraan."
   ]
  },
  {
   "cell_type": "markdown",
   "metadata": {},
   "source": [
    "f. Los dit probleem op, zodat je nog slechts twee lijnen overhoudt: M en F. Toon je resultaat."
   ]
  },
  {
   "cell_type": "code",
   "execution_count": 6,
   "metadata": {},
   "outputs": [
    {
     "output_type": "execute_result",
     "data": {
      "text/plain": [
       "        text\n",
       "gender      \n",
       "F       1548\n",
       "M       1678"
      ],
      "text/html": "<div>\n<style scoped>\n    .dataframe tbody tr th:only-of-type {\n        vertical-align: middle;\n    }\n\n    .dataframe tbody tr th {\n        vertical-align: top;\n    }\n\n    .dataframe thead th {\n        text-align: right;\n    }\n</style>\n<table border=\"1\" class=\"dataframe\">\n  <thead>\n    <tr style=\"text-align: right;\">\n      <th></th>\n      <th>text</th>\n    </tr>\n    <tr>\n      <th>gender</th>\n      <th></th>\n    </tr>\n  </thead>\n  <tbody>\n    <tr>\n      <th>F</th>\n      <td>1548</td>\n    </tr>\n    <tr>\n      <th>M</th>\n      <td>1678</td>\n    </tr>\n  </tbody>\n</table>\n</div>"
     },
     "metadata": {},
     "execution_count": 6
    }
   ],
   "source": [
    "blog[\"gender\"] = blog[\"gender\"].str.strip()\n",
    "blog[\"gender\"] = blog[\"gender\"].str.upper()\n",
    "\n",
    "blog.groupby(\"gender\").count()"
   ]
  },
  {
   "cell_type": "markdown",
   "metadata": {},
   "source": [
    "g. Verwijder alle lijnen die lege waarden in een van de kolommen bevatten."
   ]
  },
  {
   "cell_type": "code",
   "execution_count": 7,
   "metadata": {},
   "outputs": [],
   "source": [
    "blog = blog.dropna()"
   ]
  },
  {
   "cell_type": "markdown",
   "metadata": {},
   "source": [
    "h. Hoeveel lijnen zijn er nu nog? [1 pt]"
   ]
  },
  {
   "cell_type": "code",
   "execution_count": 8,
   "metadata": {},
   "outputs": [
    {
     "output_type": "execute_result",
     "data": {
      "text/plain": [
       "text      3226\n",
       "gender    3226\n",
       "dtype: int64"
      ]
     },
     "metadata": {},
     "execution_count": 8
    }
   ],
   "source": [
    "blog.count()"
   ]
  },
  {
   "cell_type": "markdown",
   "metadata": {},
   "source": [
    "i. In de psychologie wordt vaak beweerd dat vrouwen meer woorden gebruiken dan mannen. <br>\n",
    "We gaan controleren of dit ook klopt voor deze blogposts. <br>\n",
    "Voeg een extra kolom 'aantalWoorden' toe waarbij het aantal woorden per blogpost komt te staan. <br>\n",
    "Voor de eenvoud spreken we over 2 woorden wanneer ze worden gescheiden van elkaar door een spatie. <br> \n",
    "Je moet geen rekening houden met speciale karakters en dergelijke, bijvoorbeeld it's wordt geteld als één woord <br>\n",
    "Toon de laatste 10 rijen om te controleren of de berekening klopt [4 pt]"
   ]
  },
  {
   "cell_type": "code",
   "execution_count": 9,
   "metadata": {},
   "outputs": [
    {
     "output_type": "execute_result",
     "data": {
      "text/plain": [
       "                                                   text gender  aantalWoorden\n",
       "3222  \"weird\"\\n\\nlet's discuss what this word means ...      F            150\n",
       "3223  There are two types of fall guys; one who will...      M            243\n",
       "3224  I like...flipping my blankets over to the cold...      F             83\n",
       "3225  Alone for so long walking down the path of dar...      M            303\n",
       "3226  It's been more than a month since I posted any...      F            407\n",
       "3227  It was a scavenger style race with checkpoints...      M            168\n",
       "3228  Finally! I got a full day's work done. Almost ...      F            317\n",
       "3229  At the height of laughter, the universe is flu...      M            192\n",
       "3230  I like birds, especially woodpeckers and MOST ...      M            106\n",
       "3231  Oh friends, it's finally here! I thought the m...      F            310"
      ],
      "text/html": "<div>\n<style scoped>\n    .dataframe tbody tr th:only-of-type {\n        vertical-align: middle;\n    }\n\n    .dataframe tbody tr th {\n        vertical-align: top;\n    }\n\n    .dataframe thead th {\n        text-align: right;\n    }\n</style>\n<table border=\"1\" class=\"dataframe\">\n  <thead>\n    <tr style=\"text-align: right;\">\n      <th></th>\n      <th>text</th>\n      <th>gender</th>\n      <th>aantalWoorden</th>\n    </tr>\n  </thead>\n  <tbody>\n    <tr>\n      <th>3222</th>\n      <td>\"weird\"\\n\\nlet's discuss what this word means ...</td>\n      <td>F</td>\n      <td>150</td>\n    </tr>\n    <tr>\n      <th>3223</th>\n      <td>There are two types of fall guys; one who will...</td>\n      <td>M</td>\n      <td>243</td>\n    </tr>\n    <tr>\n      <th>3224</th>\n      <td>I like...flipping my blankets over to the cold...</td>\n      <td>F</td>\n      <td>83</td>\n    </tr>\n    <tr>\n      <th>3225</th>\n      <td>Alone for so long walking down the path of dar...</td>\n      <td>M</td>\n      <td>303</td>\n    </tr>\n    <tr>\n      <th>3226</th>\n      <td>It's been more than a month since I posted any...</td>\n      <td>F</td>\n      <td>407</td>\n    </tr>\n    <tr>\n      <th>3227</th>\n      <td>It was a scavenger style race with checkpoints...</td>\n      <td>M</td>\n      <td>168</td>\n    </tr>\n    <tr>\n      <th>3228</th>\n      <td>Finally! I got a full day's work done. Almost ...</td>\n      <td>F</td>\n      <td>317</td>\n    </tr>\n    <tr>\n      <th>3229</th>\n      <td>At the height of laughter, the universe is flu...</td>\n      <td>M</td>\n      <td>192</td>\n    </tr>\n    <tr>\n      <th>3230</th>\n      <td>I like birds, especially woodpeckers and MOST ...</td>\n      <td>M</td>\n      <td>106</td>\n    </tr>\n    <tr>\n      <th>3231</th>\n      <td>Oh friends, it's finally here! I thought the m...</td>\n      <td>F</td>\n      <td>310</td>\n    </tr>\n  </tbody>\n</table>\n</div>"
     },
     "metadata": {},
     "execution_count": 9
    }
   ],
   "source": [
    "blog['aantalWoorden'] = blog.text.str.split().apply(len)\n",
    "blog.tail(10)"
   ]
  },
  {
   "cell_type": "markdown",
   "metadata": {},
   "source": [
    "j. Bereken het gemiddeld aantal woorden per geslacht [2 pt]"
   ]
  },
  {
   "cell_type": "code",
   "execution_count": 10,
   "metadata": {},
   "outputs": [
    {
     "output_type": "execute_result",
     "data": {
      "text/plain": [
       "        aantalWoorden\n",
       "gender               \n",
       "F          412.638243\n",
       "M          426.864124"
      ],
      "text/html": "<div>\n<style scoped>\n    .dataframe tbody tr th:only-of-type {\n        vertical-align: middle;\n    }\n\n    .dataframe tbody tr th {\n        vertical-align: top;\n    }\n\n    .dataframe thead th {\n        text-align: right;\n    }\n</style>\n<table border=\"1\" class=\"dataframe\">\n  <thead>\n    <tr style=\"text-align: right;\">\n      <th></th>\n      <th>aantalWoorden</th>\n    </tr>\n    <tr>\n      <th>gender</th>\n      <th></th>\n    </tr>\n  </thead>\n  <tbody>\n    <tr>\n      <th>F</th>\n      <td>412.638243</td>\n    </tr>\n    <tr>\n      <th>M</th>\n      <td>426.864124</td>\n    </tr>\n  </tbody>\n</table>\n</div>"
     },
     "metadata": {},
     "execution_count": 10
    }
   ],
   "source": [
    "blog.groupby(\"gender\").mean()"
   ]
  },
  {
   "cell_type": "markdown",
   "metadata": {},
   "source": [
    "k. Geef de 20 blogposts met het grootste aantal woorden [3 pt]"
   ]
  },
  {
   "cell_type": "code",
   "execution_count": 11,
   "metadata": {},
   "outputs": [
    {
     "output_type": "execute_result",
     "data": {
      "text/plain": [
       "                                                   text gender  aantalWoorden\n",
       "2805   \"Morning Near Black Mesa\", Oil on Panel, 8x10...      M           6148\n",
       "2808  Hey kids.. sorry, but you probably won't be se...      F           6142\n",
       "1264  If you're familiar with my last AER9, you'll r...      M           6040\n",
       "2806   It's been roughly nine months since I got a s...      F           6040\n",
       "1298   Question of the week/fill in the blanks: on a...      M           5963\n",
       "2848   1887 “Mind you stay together, you lot! Make s...      F           5961\n",
       "1372   I can't hear you cuz I'm stupid This is going...      F           5958\n",
       "2852   Fifteen years ago, I was on my way to the Aus...      F           5935\n",
       "1431   Cavum by Wolfgang Kramer and Michael Kiesling...      M           5930\n",
       "2787   Serge in Canada said... Thank you so much for...      M           5904\n",
       "2888   I plan to stop being a public, personal, stor...      F           5895\n",
       "1392   Dear Readers: I am busily working on my first...      F           5830\n",
       "1468   Sam Juliano, For Being My Guest As We Counted...      F           5812\n",
       "1326   The post was written for http://mrbrownthumb....      M           5790\n",
       "1449  I've been extremely busy with DealBase work, s...      M           5788\n",
       "2768  That was a great vacation from blogging.... O....      M           5782\n",
       "1293   Wake Up Call is a free short story posted by ...      M           5665\n",
       "2811   Just as the SNL offshoot , Waynes's World , b...      F           5662\n",
       "1257   Subtitle: Small Worlds and the Groundbreaking...      M           5644\n",
       "2863   Civil Court's Jurisdiction - Companies Bill, ...      M           5594"
      ],
      "text/html": "<div>\n<style scoped>\n    .dataframe tbody tr th:only-of-type {\n        vertical-align: middle;\n    }\n\n    .dataframe tbody tr th {\n        vertical-align: top;\n    }\n\n    .dataframe thead th {\n        text-align: right;\n    }\n</style>\n<table border=\"1\" class=\"dataframe\">\n  <thead>\n    <tr style=\"text-align: right;\">\n      <th></th>\n      <th>text</th>\n      <th>gender</th>\n      <th>aantalWoorden</th>\n    </tr>\n  </thead>\n  <tbody>\n    <tr>\n      <th>2805</th>\n      <td>\"Morning Near Black Mesa\", Oil on Panel, 8x10...</td>\n      <td>M</td>\n      <td>6148</td>\n    </tr>\n    <tr>\n      <th>2808</th>\n      <td>Hey kids.. sorry, but you probably won't be se...</td>\n      <td>F</td>\n      <td>6142</td>\n    </tr>\n    <tr>\n      <th>1264</th>\n      <td>If you're familiar with my last AER9, you'll r...</td>\n      <td>M</td>\n      <td>6040</td>\n    </tr>\n    <tr>\n      <th>2806</th>\n      <td>It's been roughly nine months since I got a s...</td>\n      <td>F</td>\n      <td>6040</td>\n    </tr>\n    <tr>\n      <th>1298</th>\n      <td>Question of the week/fill in the blanks: on a...</td>\n      <td>M</td>\n      <td>5963</td>\n    </tr>\n    <tr>\n      <th>2848</th>\n      <td>1887 “Mind you stay together, you lot! Make s...</td>\n      <td>F</td>\n      <td>5961</td>\n    </tr>\n    <tr>\n      <th>1372</th>\n      <td>I can't hear you cuz I'm stupid This is going...</td>\n      <td>F</td>\n      <td>5958</td>\n    </tr>\n    <tr>\n      <th>2852</th>\n      <td>Fifteen years ago, I was on my way to the Aus...</td>\n      <td>F</td>\n      <td>5935</td>\n    </tr>\n    <tr>\n      <th>1431</th>\n      <td>Cavum by Wolfgang Kramer and Michael Kiesling...</td>\n      <td>M</td>\n      <td>5930</td>\n    </tr>\n    <tr>\n      <th>2787</th>\n      <td>Serge in Canada said... Thank you so much for...</td>\n      <td>M</td>\n      <td>5904</td>\n    </tr>\n    <tr>\n      <th>2888</th>\n      <td>I plan to stop being a public, personal, stor...</td>\n      <td>F</td>\n      <td>5895</td>\n    </tr>\n    <tr>\n      <th>1392</th>\n      <td>Dear Readers: I am busily working on my first...</td>\n      <td>F</td>\n      <td>5830</td>\n    </tr>\n    <tr>\n      <th>1468</th>\n      <td>Sam Juliano, For Being My Guest As We Counted...</td>\n      <td>F</td>\n      <td>5812</td>\n    </tr>\n    <tr>\n      <th>1326</th>\n      <td>The post was written for http://mrbrownthumb....</td>\n      <td>M</td>\n      <td>5790</td>\n    </tr>\n    <tr>\n      <th>1449</th>\n      <td>I've been extremely busy with DealBase work, s...</td>\n      <td>M</td>\n      <td>5788</td>\n    </tr>\n    <tr>\n      <th>2768</th>\n      <td>That was a great vacation from blogging.... O....</td>\n      <td>M</td>\n      <td>5782</td>\n    </tr>\n    <tr>\n      <th>1293</th>\n      <td>Wake Up Call is a free short story posted by ...</td>\n      <td>M</td>\n      <td>5665</td>\n    </tr>\n    <tr>\n      <th>2811</th>\n      <td>Just as the SNL offshoot , Waynes's World , b...</td>\n      <td>F</td>\n      <td>5662</td>\n    </tr>\n    <tr>\n      <th>1257</th>\n      <td>Subtitle: Small Worlds and the Groundbreaking...</td>\n      <td>M</td>\n      <td>5644</td>\n    </tr>\n    <tr>\n      <th>2863</th>\n      <td>Civil Court's Jurisdiction - Companies Bill, ...</td>\n      <td>M</td>\n      <td>5594</td>\n    </tr>\n  </tbody>\n</table>\n</div>"
     },
     "metadata": {},
     "execution_count": 11
    }
   ],
   "source": [
    "blog.sort_values(by='aantalWoorden',ascending=False).head(20)"
   ]
  }
 ],
 "metadata": {
  "kernelspec": {
   "display_name": "Python 3",
   "language": "python",
   "name": "python3"
  },
  "language_info": {
   "codemirror_mode": {
    "name": "ipython",
    "version": 3
   },
   "file_extension": ".py",
   "mimetype": "text/x-python",
   "name": "python",
   "nbconvert_exporter": "python",
   "pygments_lexer": "ipython3",
   "version": "3.8.3-final"
  }
 },
 "nbformat": 4,
 "nbformat_minor": 2
}