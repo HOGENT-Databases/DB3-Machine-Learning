{
 "cells": [
  {
   "cell_type": "code",
   "execution_count": 2,
   "metadata": {
    "collapsed": true
   },
   "outputs": [],
   "source": [
    "import numpy as np"
   ]
  },
  {
   "cell_type": "code",
   "execution_count": 10,
   "metadata": {},
   "outputs": [
    {
     "name": "stdout",
     "output_type": "stream",
     "text": [
      "[0 1 2 3]\n",
      "1\n",
      "(4,)\n"
     ]
    }
   ],
   "source": [
    "# Manually create the following array a: [0, 1, 2, 3]\n",
    "a = np.array([0, 1, 2, 3])\n",
    "# Print the array\n",
    "print(a)\n",
    "\n",
    "# What is the number of array dimensions of the array\n",
    "print(a.ndim)\n",
    "\n",
    "# What is the current shape of the array\n",
    "print(a.shape)\n"
   ]
  },
  {
   "cell_type": "code",
   "execution_count": 11,
   "metadata": {},
   "outputs": [
    {
     "name": "stdout",
     "output_type": "stream",
     "text": [
      "[[0 1 2]\n",
      " [3 4 5]]\n",
      "2\n",
      "(2, 3)\n"
     ]
    }
   ],
   "source": [
    "# Manually create the following array b: ([0, 1, 2], [3, 4, 5])\n",
    "b = np.array([[0, 1, 2], [3, 4, 5]])\n",
    "# Print the array\n",
    "print(b)\n",
    "\n",
    "# What is the number of array dimensions of the array\n",
    "print(b.ndim)\n",
    "\n",
    "# What is the current shape of the array\n",
    "print(b.shape)\n"
   ]
  },
  {
   "cell_type": "code",
   "execution_count": 14,
   "metadata": {},
   "outputs": [
    {
     "name": "stdout",
     "output_type": "stream",
     "text": [
      "[0 1 2 3 4 5 6 7 8 9]\n",
      "[1 3 5 7]\n"
     ]
    }
   ],
   "source": [
    "# In practice, we rarely enter items one by one\n",
    "# Create the following array a: ([0, 1, 2, 3, 4, 5, 6, 7, 8, 9])\n",
    "a = np.arange(10)\n",
    "# Print the array\n",
    "print(a)\n",
    "# Create the following array b: ([1, 3, 5, 7])\n",
    "b = np.arange(1, 9, 2)\n",
    "# Print the array\n",
    "print(b)"
   ]
  },
  {
   "cell_type": "code",
   "execution_count": 17,
   "metadata": {},
   "outputs": [
    {
     "name": "stdout",
     "output_type": "stream",
     "text": [
      "[[ 1.  1.  1.]\n",
      " [ 1.  1.  1.]\n",
      " [ 1.  1.  1.]]\n",
      "[[ 0.  0.]\n",
      " [ 0.  0.]]\n",
      "[[ 1.  0.  0.]\n",
      " [ 0.  1.  0.]\n",
      " [ 0.  0.  1.]]\n",
      "[ 0.60733288  0.03138041  0.41180997  0.44638799]\n"
     ]
    }
   ],
   "source": [
    "# Common arrays\n",
    "# Create the following array a \n",
    "# [[ 1.  1.  1.]\n",
    "# [ 1.  1.  1.]\n",
    "# [ 1.  1.  1.]]\n",
    "a = np.ones((3,3))\n",
    "# Print the array\n",
    "print(a)\n",
    "# Create the following array b\n",
    "# [[ 0.  0.]\n",
    "# [ 0.  0.]]\n",
    "b = np.zeros((2, 2))\n",
    "# Print the array\n",
    "print(b)\n",
    "# Create the following array c\n",
    "# [[ 1.  0.  0.]\n",
    "# [ 0.  1.  0.]\n",
    "# [ 0.  0.  1.]]\n",
    "c = np.eye(3)\n",
    "# Print the array\n",
    "print(c)\n",
    "# Create the following array d (random numbers)\n",
    "# [ 0.60733288  0.03138041  0.41180997  0.44638799]\n",
    "d = np.random.rand(4)\n",
    "# Print the array\n",
    "print(d)"
   ]
  },
  {
   "cell_type": "code",
   "execution_count": 19,
   "metadata": {},
   "outputs": [
    {
     "name": "stdout",
     "output_type": "stream",
     "text": [
      "int32\n",
      "float64\n"
     ]
    }
   ],
   "source": [
    "# In some instances, array elements are displayed with a trailing dot (e.g. 2. vs 2)\n",
    "# This is due to a difference in the data-type used\n",
    "# Create the array a: ([1, 2, 3])\n",
    "a = np.array([1, 2, 3])\n",
    "# Print the datatype\n",
    "print(a.dtype)\n",
    "# Create the array b: ([1., 2., 3.])\n",
    "b = np.array([1., 2., 3.])\n",
    "# Print the datatype\n",
    "print(b.dtype)"
   ]
  },
  {
   "cell_type": "code",
   "execution_count": 21,
   "metadata": {},
   "outputs": [
    {
     "name": "stdout",
     "output_type": "stream",
     "text": [
      "[ 1.  2.  3.]\n",
      "float64\n"
     ]
    }
   ],
   "source": [
    "# Create the array a: ([1, 2, 3]). Specify the data-type as float\n",
    "a = np.array([1, 2, 3], dtype=float)\n",
    "# Print the array\n",
    "print(a)\n",
    "# Print the datatype\n",
    "print(a.dtype)"
   ]
  },
  {
   "cell_type": "code",
   "execution_count": 23,
   "metadata": {},
   "outputs": [
    {
     "name": "stdout",
     "output_type": "stream",
     "text": [
      "[[ 1.  0.  0.]\n",
      " [ 0.  1.  0.]\n",
      " [ 0.  0.  1.]]\n",
      "float64\n"
     ]
    }
   ],
   "source": [
    "# Create the array 3 x 3 unity matrix a. What is the default data-type\n",
    "a = np.eye(3)\n",
    "# Print the array\n",
    "print(a)\n",
    "# Print the datatype\n",
    "print(a.dtype)"
   ]
  },
  {
   "cell_type": "code",
   "execution_count": 24,
   "metadata": {},
   "outputs": [
    {
     "name": "stdout",
     "output_type": "stream",
     "text": [
      "[ True False False  True]\n",
      "bool\n"
     ]
    }
   ],
   "source": [
    "# Create the array a: ([True, False, False, True]).\n",
    "a = np.array([True, False, False, True])\n",
    "# Print the array\n",
    "print(a)\n",
    "# Print the datatype\n",
    "print(a.dtype)"
   ]
  },
  {
   "cell_type": "code",
   "execution_count": 25,
   "metadata": {},
   "outputs": [
    {
     "name": "stdout",
     "output_type": "stream",
     "text": [
      "['Bonjour' 'Hello' 'Hallo']\n",
      "<U7\n"
     ]
    }
   ],
   "source": [
    "# Create the array a: (['Bonjour', 'Hello', 'Hallo']).\n",
    "a = np.array(['Bonjour', 'Hello', 'Hallo'])\n",
    "# Print the array\n",
    "print(a)\n",
    "# Print the datatype\n",
    "print(a.dtype)"
   ]
  },
  {
   "cell_type": "code",
   "execution_count": 33,
   "metadata": {},
   "outputs": [
    {
     "name": "stdout",
     "output_type": "stream",
     "text": [
      "[0 1 2 3 4 5 6 7 8 9]\n",
      "0 2 9\n",
      "[9 8 7 6 5 4 3 2 1 0]\n"
     ]
    }
   ],
   "source": [
    "# Indexing and slicing\n",
    "# Create the array a: ([0 1 2 3 4 5 6 7 8 9])\n",
    "a = np.arange(10)\n",
    "# Print the array\n",
    "print(a)\n",
    "# Print the element with index 0, 2, -1\n",
    "print(a[0], a[2], a[-1])\n",
    "# Print the reverse of array a\n",
    "print(a[::-1])"
   ]
  },
  {
   "cell_type": "code",
   "execution_count": 34,
   "metadata": {},
   "outputs": [
    {
     "name": "stdout",
     "output_type": "stream",
     "text": [
      "[[0 0 0]\n",
      " [0 1 0]\n",
      " [0 0 2]]\n",
      "1\n",
      "[[ 0  0  0]\n",
      " [ 0  1  0]\n",
      " [ 0 10  2]]\n",
      "[0 1 0]\n"
     ]
    }
   ],
   "source": [
    "# For multidimensional arrays, indexes are tuples of integers:\n",
    "# Create the array a\n",
    "a = np.diag(np.arange(3))\n",
    "# Print the array\n",
    "print(a)\n",
    "# Print the value of the second line, second column\n",
    "print(a[1, 1])\n",
    "# Change the value of the third line, second column to 10\n",
    "a[2, 1] = 10\n",
    "# Print the array\n",
    "print(a)\n",
    "# Print the second row of the array\n",
    "print(a[1])"
   ]
  },
  {
   "cell_type": "code",
   "execution_count": 37,
   "metadata": {},
   "outputs": [
    {
     "name": "stdout",
     "output_type": "stream",
     "text": [
      "[0 1 2 3 4 5 6 7 8 9]\n",
      "[0 1 2 3]\n",
      "[2 5 8]\n",
      "[1 2]\n",
      "[0 2 4 6 8]\n",
      "[3 4 5 6 7 8 9]\n"
     ]
    }
   ],
   "source": [
    "# Create the array a: ([0 1 2 3 4 5 6 7 8 9])\n",
    "a = np.arange(10)\n",
    "# Print the array\n",
    "print(a)\n",
    "# Print the first 4 elements. Use slicing\n",
    "print(a[:4])\n",
    "# Print [2, 5, 8]. Use slicing [start:end:step]\n",
    "print(a[2:9:3])\n",
    "# All three slice components are not required: by default, start is 0, end is the last and step is 1\n",
    "# Print ([1, 2]). Use slicing\n",
    "print(a[1:3])\n",
    "# Print ([0, 2, 4, 6, 8]). Use slicing\n",
    "print(a[::2])\n",
    "# Print ([3, 4, 5, 6, 7, 8, 9]). Use slicing\n",
    "print(a[3:])"
   ]
  },
  {
   "cell_type": "code",
   "execution_count": 38,
   "metadata": {},
   "outputs": [
    {
     "name": "stdout",
     "output_type": "stream",
     "text": [
      "[0 1 2 3 4 5 6 7 8 9]\n",
      "[ 0  1  2  3  4 10 10 10 10 10]\n"
     ]
    }
   ],
   "source": [
    "# You can also combine assignment and slicing\n",
    "# Create the array a: ([0 1 2 3 4 5 6 7 8 9])\n",
    "a = np.arange(10)\n",
    "# Print the array\n",
    "print(a)\n",
    "# Change the array a to ([0 1 2 3 4 10 10 10 10 10]). Use slicing\n",
    "a[5:] = 10\n",
    "# Print the array\n",
    "print(a)"
   ]
  },
  {
   "cell_type": "code",
   "execution_count": 43,
   "metadata": {},
   "outputs": [
    {
     "name": "stdout",
     "output_type": "stream",
     "text": [
      "[[ 0  1  2  3  4  5]\n",
      " [10 11 12 13 14 15]\n",
      " [20 21 22 23 24 25]\n",
      " [30 31 32 33 34 35]\n",
      " [40 41 42 43 44 45]\n",
      " [50 51 52 53 54 55]]\n"
     ]
    }
   ],
   "source": [
    "# Create the array a\n",
    "a = np.arange(6) + np.arange(0, 51, 10)[:,np.newaxis]\n",
    "# Print the array\n",
    "print(a)"
   ]
  },
  {
   "cell_type": "code",
   "execution_count": 47,
   "metadata": {},
   "outputs": [
    {
     "name": "stdout",
     "output_type": "stream",
     "text": [
      "[[1 1 1 1]\n",
      " [1 1 1 1]\n",
      " [1 1 1 2]\n",
      " [1 6 1 1]]\n"
     ]
    }
   ],
   "source": [
    "# Create the following array (with correct data type)\n",
    "# [[1 1 1 1]\n",
    "# [1 1 1 1]\n",
    "# [1 1 1 2]\n",
    "# [1 6 1 1]]\n",
    "a = np.ones((4, 4), dtype=int)\n",
    "a[2, 3] = 2\n",
    "a[3, 1] = 6\n",
    "# Print the array\n",
    "print(a)"
   ]
  },
  {
   "cell_type": "code",
   "execution_count": 68,
   "metadata": {},
   "outputs": [
    {
     "name": "stdout",
     "output_type": "stream",
     "text": [
      "[[2 0 0 0 0]\n",
      " [0 3 0 0 0]\n",
      " [0 0 4 0 0]\n",
      " [0 0 0 5 0]\n",
      " [0 0 0 0 6]]\n"
     ]
    }
   ],
   "source": [
    "# Create the following array\n",
    "# [[2 0 0 0 0]\n",
    "# [0 3 0 0 0]\n",
    "# [0 0 4 0 0]\n",
    "# [0 0 0 5 0]\n",
    "# [0 0 0 0 6]]\n",
    "a = np.diag(np.arange(7))\n",
    "b = a[2:, 2:]\n",
    "# Print the array\n",
    "\n",
    "\n",
    "print(b)"
   ]
  },
  {
   "cell_type": "code",
   "execution_count": 76,
   "metadata": {},
   "outputs": [
    {
     "name": "stdout",
     "output_type": "stream",
     "text": [
      "[0 1 2 3 4 5 6 7 8 9]\n",
      "[0 2 4 6 8]\n",
      "[12  2  4  6  8]\n",
      "[12  1  2  3  4  5  6  7  8  9]\n",
      "[0 1 2 3 4 5 6 7 8 9]\n",
      "[12  2  4  6  8]\n",
      "[0 1 2 3 4 5 6 7 8 9]\n"
     ]
    }
   ],
   "source": [
    "# Copies and views\n",
    "# Create the array a: ([0 1 2 3 4 5 6 7 8 9])\n",
    "a = np.arange(10)\n",
    "# Print the array a\n",
    "print(a)\n",
    "# Copy the even numbers into an array b\n",
    "b = a[::2]\n",
    "# Print the array b\n",
    "print(b)\n",
    "# replace value 0 in array b by 12\n",
    "b[0] = 12\n",
    "# Print the array b en a\n",
    "print(b)\n",
    "print(a)\n",
    "\n",
    "# Create the array a: ([0 1 2 3 4 5 6 7 8 9])\n",
    "a = np.arange(10)\n",
    "# Print the array a\n",
    "print(a)\n",
    "# force a copy of the even numbers into an array c\n",
    "c = a[::2].copy()\n",
    "# replace value 0 in array c by 12\n",
    "c[0] = 12\n",
    "# Print the array c en a\n",
    "print(c)\n",
    "print(a)"
   ]
  },
  {
   "cell_type": "code",
   "execution_count": 81,
   "metadata": {},
   "outputs": [
    {
     "name": "stdout",
     "output_type": "stream",
     "text": [
      "[ 0 10 20 30 40 50 60 70 80 90]\n",
      "[20 30 20 40 20]\n",
      "[   0   10   20   30   40   50   60 -100   80 -100]\n"
     ]
    }
   ],
   "source": [
    "# Create the array a: ([0 10 20 30 40 50 60 70 80 90])\n",
    "a = np.arange(0, 100, 10)\n",
    "# Print the array a\n",
    "print(a)\n",
    "\n",
    "# Use an array of integers for indexing, to get the array [20, 30, 20, 40, 20]\n",
    "print(a[[2, 3, 2, 4, 2]])\n",
    "\n",
    "# Use an array of integers for indexing, to replace 70 and 90 by -100\n",
    "a[[9, 7]] = -100\n",
    "\n",
    "# Print the array a\n",
    "print(a)"
   ]
  },
  {
   "cell_type": "code",
   "execution_count": 96,
   "metadata": {},
   "outputs": [
    {
     "name": "stdout",
     "output_type": "stream",
     "text": [
      "[1 2 3 4]\n",
      "[2 3 4 5]\n",
      "[ 2  4  8 16]\n",
      "[ 1.  1.  1.  1.]\n",
      "[ 2.  2.  2.  2.]\n",
      "[-1.  0.  1.  2.]\n",
      "[ 2.  4.  6.  8.]\n",
      "[[ 1.  1.  1.]\n",
      " [ 1.  1.  1.]\n",
      " [ 1.  1.  1.]]\n",
      "[[ 1.  1.  1.]\n",
      " [ 1.  1.  1.]\n",
      " [ 1.  1.  1.]]\n",
      "[[ 3.  3.  3.]\n",
      " [ 3.  3.  3.]\n",
      " [ 3.  3.  3.]]\n"
     ]
    }
   ],
   "source": [
    "# Create the array a: ([1 2 3 4])\n",
    "a = np.arange(1, 5)\n",
    "# Print the array a\n",
    "print(a)\n",
    "\n",
    "# Print the array [2 3 4 5] based on the array a\n",
    "print (a + 1)\n",
    "\n",
    "# Print the array [ 2  4  8 16] based on the array a\n",
    "print (2 ** a)\n",
    "\n",
    "# Create the array b [1 1 1 1]\n",
    "b = np.ones(4)\n",
    "# Print the array b\n",
    "print(b)\n",
    "\n",
    "# Add 1 to each element of the array b\n",
    "b = b + 1\n",
    "# Print the array b\n",
    "print(b)\n",
    "\n",
    "# Subtract b from a. Print the result\n",
    "print(a - b)\n",
    "# Multiply a and b. Print the result\n",
    "print(a*b)\n",
    "\n",
    "# Create the array c \n",
    "# [[1 1 1],\n",
    "# [1 1 1],\n",
    "# [1 1 1]]\n",
    "c = np.ones((3, 3))\n",
    "# Print the array c\n",
    "print(c)\n",
    "\n",
    "# Print the result of c * c\n",
    "print(c * c)\n",
    "# Print the result of c @ c\n",
    "print(c @ c)"
   ]
  },
  {
   "cell_type": "code",
   "execution_count": 108,
   "metadata": {},
   "outputs": [
    {
     "name": "stdout",
     "output_type": "stream",
     "text": [
      "[1 2 3 4 5 6 7 8 9]\n",
      "45\n",
      "1\n",
      "9\n",
      "[[1 2 3]\n",
      " [4 5 6]\n",
      " [7 8 9]]\n",
      "[12 15 18]\n",
      "[ 6 15 24]\n",
      "[3 6 9]\n",
      "[[1 4 7]\n",
      " [2 5 8]\n",
      " [3 6 9]]\n",
      "[1 2 3 4 5 6 7 8 9]\n"
     ]
    }
   ],
   "source": [
    "# Create the array a: ([1 2 3 4 5 6 7 8 9])\n",
    "a = np.arange(1, 10)\n",
    "# Print the array a\n",
    "print(a)\n",
    "# Print the sum of all elements of a\n",
    "print(np.sum(a))\n",
    "# Print the min and max of all elements of a\n",
    "print(np.min(a))\n",
    "print(np.max(a))\n",
    "# Transform the array to a 3 x 3 matrix\n",
    "a.resize((3,3))\n",
    "# Print the array a\n",
    "print(a)\n",
    "# Print the sum along axis = 0\n",
    "print(a.sum(axis=0))\n",
    "# Print the sum along axis = 1\n",
    "print(a.sum(axis=1))\n",
    "# Print the max along axis = 1\n",
    "print(a.max(axis=1))\n",
    "# Transpose the matrix a\n",
    "print(a.T)\n",
    "# Flatten the matrix a\n",
    "print(a.ravel())"
   ]
  },
  {
   "cell_type": "code",
   "execution_count": 4,
   "metadata": {},
   "outputs": [
    {
     "name": "stdout",
     "output_type": "stream",
     "text": [
      "[0 1 2 3 4 5 6 7 8 9]\n",
      "[ 0  1  2  3  4 50 60 70 80 90]\n"
     ]
    }
   ],
   "source": [
    "# Create the array a: ([0 1 2 3 4 5 6 7 8 9])\n",
    "a = np.arange(0, 10)\n",
    "# Print the array a\n",
    "print(a)\n",
    "# Change the array a: ([0 1 2 3 4 50 60 70 80 90]) to using where\n",
    "a = np.where(a < 5, a, 10*a)\n",
    "# Print the array a\n",
    "print(a)"
   ]
  }
 ],
 "metadata": {
  "kernelspec": {
   "display_name": "Python 3",
   "language": "python",
   "name": "python3"
  },
  "language_info": {
   "codemirror_mode": {
    "name": "ipython",
    "version": 3
   },
   "file_extension": ".py",
   "mimetype": "text/x-python",
   "name": "python",
   "nbconvert_exporter": "python",
   "pygments_lexer": "ipython3",
   "version": "3.6.4"
  }
 },
 "nbformat": 4,
 "nbformat_minor": 2
}
