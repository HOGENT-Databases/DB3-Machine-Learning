{
 "cells": [
  {
   "cell_type": "markdown",
   "metadata": {},
   "source": [
    "### Sources referenced throughout the course  \n",
    "  \n",
    "Attuchirayil, S. (2016, 2 10). Learn Pandas by comparing with SQL. Retrieved from https://medium.com/@sajuas/learn-pandas-by-comparing-with-sql-29ad113aed75\n",
    " \n",
    "Bramer, M. (2016). Principles of Data Mining. Springer. See https://link.springer.com/book/10.1007%2F978-1-4471-7307-6\n",
    " \n",
    "Brownlee, J. (2019, January 28). Loss and Loss Functions for Training Deep Learning Neural Networks. Retrieved November 10, 2019, from Machine Learning Mastery: https://machinelearningmastery.com/loss-and-loss-functions-for-training-deep-learning-neural-networks/\n",
    " \n",
    "Deitel, P., & Deitel, H. (2019). Intro to Python for Computer Science and Data Science (1st ed.). Pearson Education.\n",
    " \n",
    "Jabeen, Hafsa; Datacamp. (2018, October 23). Stemming and Lemmatization in Python. Retrieved November 4, 2019, from https://www.datacamp.com/community/tutorials/stemming-lemmatization-python\n",
    " \n",
    "Keras: The Python Deep Learning library. (2019, November 6). Retrieved from keras.io\n",
    " \n",
    "Koehler, G. (2019, October 17). MNIST Handwritten Digit Recognition in Keras. Retrieved November 7, 2019, from https://nextjournal.com/gkoehler/digit-recognition-with-keras\n",
    "  \n",
    "Kotzias, D., Denil, M., De Freitas, N., & Smyth, P. (2015). From Group to Individual Labels using Deep Features. KDD. Retrieved from http://www.datalab.uci.edu/papers/kdd2015_dimitris.pdf\n",
    " \n",
    "KULeuven, Departement Computerwetenschappen. (n.d.). The multinomial distribution. Retrieved oktober 31, 2019, from https://people.cs.kuleuven.be/~raf.vandebril/homepage/publications/phd/node38.html  \n",
    "  \n",
    "Lemahieu, W., Vanden Broucke, S., & Baesens, B. (2018). Principles of Database Management. Cambridge: Cambridge University Press.\n",
    " \n",
    "NLTK 3.4.5 documentation. (n.d.). Retrieved November 5, 2019, from https://www.nltk.org/\n",
    "\n",
    "pandas documentation. (n.d.). Retrieved April 29, 2020, from https://pandas.pydata.org/docs/\n",
    " \n",
    "scikit-learn Machine Learning in Python. (n.d.). Retrieved from http://scikit-learn.org/stable/\n",
    " \n",
    "Sentiment analysis. (2019, November 23). Retrieved from Wikipedia: https://en.wikipedia.org/wiki/Sentiment_analysis\n",
    " \n",
    "Text Mining in Python: Steps and Examples. (2019, August 22). Retrieved November 22, 2019, from Medium: https://medium.com/towards-artificial-intelligence/text-mining-in-python-steps-and-examples-78b3f8fd913b\n",
    " \n",
    "VanderPlas, J. (2016). Python Data Science Handbook. Sebastopol: O'Reilly Media. See https://jakevdp.github.io/PythonDataScienceHandbook/\n",
    "  \n",
    "Wikipedia MNIST database. (2019, November 7). Retrieved from Wikipedia: https://en.wikipedia.org/wiki/MNIST_database\n",
    "\n",
    "**********\n",
    "### Interesting ai & machine learning sources\n",
    "\n",
    "####  Collections of articles and books\n",
    "- In 2020 (during the COVID-19 crisis) Springer has released 65 Machine Learning and Data books for free. See https://towardsdatascience.com/springer-has-released-65-machine-learning-and-data-books-for-free-961f8181f189 \n",
    "- https://www.kdnuggets.com/\n",
    "- https://towardsdatascience.com/\n",
    "- https://www.analyticsvidhya.com/\n",
    "- https://machinelearningmastery.com/\n",
    "\n",
    "#### Python tutorials by UHasselt\n",
    "https://www.youtube.com/channel/UC4UDvc4QDbFrPexszpggPsg (dutch)\n",
    " \n",
    "#### Data sets:\n",
    "- https://www.kaggle.com\n",
    "- https://archive.ics.uci.edu/ml/index.php\n",
    "  \n",
    "\n"
   ]
  },
  {
   "cell_type": "code",
   "execution_count": null,
   "metadata": {},
   "outputs": [],
   "source": []
  }
 ],
 "metadata": {
  "kernelspec": {
   "display_name": "Python 3",
   "language": "python",
   "name": "python3"
  },
  "language_info": {
   "codemirror_mode": {
    "name": "ipython",
    "version": 3
   },
   "file_extension": ".py",
   "mimetype": "text/x-python",
   "name": "python",
   "nbconvert_exporter": "python",
   "pygments_lexer": "ipython3",
   "version": "3.7.6"
  }
 },
 "nbformat": 4,
 "nbformat_minor": 4
}
