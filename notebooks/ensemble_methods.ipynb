{
 "cells": [
  {
   "cell_type": "markdown",
   "metadata": {
    "slideshow": {
     "slide_type": "slide"
    }
   },
   "source": [
    "## Ensemble methods\n",
    "Random Forest is an example of an **ensemble method** in which several estimators of the same type (i.e. decision tree) are combined and a voting mechanism is used to determine the estimated class.  \n",
    "  \n",
    "The same principle can be used when **combining estimators of different types** (for instance Naïve Bayes, Random Forest and Logistic Regression) and **predict the label based on a voting mechanism**. It can be proven that, in general, the predictive accuracy (see next paragraph) of an ensemble classifier is better than that of the individual classifiers. "
   ]
  }
 ],
 "metadata": {
  "celltoolbar": "Slideshow",
  "kernelspec": {
   "display_name": "Python 3",
   "language": "python",
   "name": "python3"
  },
  "language_info": {
   "codemirror_mode": {
    "name": "ipython",
    "version": 3
   },
   "file_extension": ".py",
   "mimetype": "text/x-python",
   "name": "python",
   "nbconvert_exporter": "python",
   "pygments_lexer": "ipython3",
   "version": "3.7.6"
  }
 },
 "nbformat": 4,
 "nbformat_minor": 4
}
