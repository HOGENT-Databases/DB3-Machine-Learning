{
 "cells": [
  {
   "cell_type": "markdown",
   "metadata": {},
   "source": [
    "The data provided contains information about individual study results for mathematics, together with demographic information about the student.\n",
    "Solve each subquest in one cell. Show, if applicable, at the end of each cell first 5 lines of your last result (s)."
   ]
  },
  {
   "cell_type": "code",
   "execution_count": 1,
   "metadata": {},
   "outputs": [],
   "source": [
    "import pandas as pd"
   ]
  },
  {
   "cell_type": "markdown",
   "metadata": {},
   "source": [
    "Read the file demographic.csv and show the first 5 lines"
   ]
  },
  {
   "cell_type": "code",
   "execution_count": 2,
   "metadata": {},
   "outputs": [
    {
     "output_type": "execute_result",
     "data": {
      "text/plain": [
       "   StudentID  gender race/ethnicity parental level of education\n",
       "0          0  female        group B           bachelor's degree\n",
       "1          1  female        group C                some college\n",
       "2          2  female        group B             master's degree\n",
       "3          3    male        group A          associate's degree\n",
       "4          4    male        group C                some college"
      ],
      "text/html": "<div>\n<style scoped>\n    .dataframe tbody tr th:only-of-type {\n        vertical-align: middle;\n    }\n\n    .dataframe tbody tr th {\n        vertical-align: top;\n    }\n\n    .dataframe thead th {\n        text-align: right;\n    }\n</style>\n<table border=\"1\" class=\"dataframe\">\n  <thead>\n    <tr style=\"text-align: right;\">\n      <th></th>\n      <th>StudentID</th>\n      <th>gender</th>\n      <th>race/ethnicity</th>\n      <th>parental level of education</th>\n    </tr>\n  </thead>\n  <tbody>\n    <tr>\n      <th>0</th>\n      <td>0</td>\n      <td>female</td>\n      <td>group B</td>\n      <td>bachelor's degree</td>\n    </tr>\n    <tr>\n      <th>1</th>\n      <td>1</td>\n      <td>female</td>\n      <td>group C</td>\n      <td>some college</td>\n    </tr>\n    <tr>\n      <th>2</th>\n      <td>2</td>\n      <td>female</td>\n      <td>group B</td>\n      <td>master's degree</td>\n    </tr>\n    <tr>\n      <th>3</th>\n      <td>3</td>\n      <td>male</td>\n      <td>group A</td>\n      <td>associate's degree</td>\n    </tr>\n    <tr>\n      <th>4</th>\n      <td>4</td>\n      <td>male</td>\n      <td>group C</td>\n      <td>some college</td>\n    </tr>\n  </tbody>\n</table>\n</div>"
     },
     "metadata": {},
     "execution_count": 2
    }
   ],
   "source": [
    "demographic = pd.read_csv('https://raw.githubusercontent.com/HOGENT-Databases/DB3-Workshops/master/data/demographic.csv')\n",
    "demographic.head()"
   ]
  },
  {
   "cell_type": "markdown",
   "metadata": {},
   "source": [
    "Show the number of rows and columns in demographic.csv"
   ]
  },
  {
   "cell_type": "code",
   "execution_count": 3,
   "metadata": {},
   "outputs": [
    {
     "output_type": "stream",
     "name": "stdout",
     "text": [
      "(1000, 4)\n"
     ]
    }
   ],
   "source": [
    "print(demographic.shape)"
   ]
  },
  {
   "cell_type": "markdown",
   "metadata": {},
   "source": [
    "Read the file studentscore.csv and show the first 5 lines"
   ]
  },
  {
   "cell_type": "code",
   "execution_count": 4,
   "metadata": {},
   "outputs": [
    {
     "output_type": "execute_result",
     "data": {
      "text/plain": [
       "   StudentID         lunch test preparation course  math score\n",
       "0          0      standard                    none          72\n",
       "1          1      standard               completed          69\n",
       "2          2      standard                    none          90\n",
       "3          3  free/reduced                    none          47\n",
       "4          4      standard                    none          76"
      ],
      "text/html": "<div>\n<style scoped>\n    .dataframe tbody tr th:only-of-type {\n        vertical-align: middle;\n    }\n\n    .dataframe tbody tr th {\n        vertical-align: top;\n    }\n\n    .dataframe thead th {\n        text-align: right;\n    }\n</style>\n<table border=\"1\" class=\"dataframe\">\n  <thead>\n    <tr style=\"text-align: right;\">\n      <th></th>\n      <th>StudentID</th>\n      <th>lunch</th>\n      <th>test preparation course</th>\n      <th>math score</th>\n    </tr>\n  </thead>\n  <tbody>\n    <tr>\n      <th>0</th>\n      <td>0</td>\n      <td>standard</td>\n      <td>none</td>\n      <td>72</td>\n    </tr>\n    <tr>\n      <th>1</th>\n      <td>1</td>\n      <td>standard</td>\n      <td>completed</td>\n      <td>69</td>\n    </tr>\n    <tr>\n      <th>2</th>\n      <td>2</td>\n      <td>standard</td>\n      <td>none</td>\n      <td>90</td>\n    </tr>\n    <tr>\n      <th>3</th>\n      <td>3</td>\n      <td>free/reduced</td>\n      <td>none</td>\n      <td>47</td>\n    </tr>\n    <tr>\n      <th>4</th>\n      <td>4</td>\n      <td>standard</td>\n      <td>none</td>\n      <td>76</td>\n    </tr>\n  </tbody>\n</table>\n</div>"
     },
     "metadata": {},
     "execution_count": 4
    }
   ],
   "source": [
    "student = pd.read_csv('https://raw.githubusercontent.com/HOGENT-Databases/DB3-Workshops/master/data/studentscore.csv')\n",
    "student.head()"
   ]
  },
  {
   "cell_type": "markdown",
   "metadata": {},
   "source": [
    "Show the number of rows and columns in studentscore.csv"
   ]
  },
  {
   "cell_type": "code",
   "execution_count": 5,
   "metadata": {},
   "outputs": [
    {
     "output_type": "stream",
     "name": "stdout",
     "text": [
      "(1000, 4)\n"
     ]
    }
   ],
   "source": [
    "print(student.shape)"
   ]
  },
  {
   "cell_type": "markdown",
   "metadata": {},
   "source": [
    "Merge both data frames so that you have one line left per student."
   ]
  },
  {
   "cell_type": "code",
   "execution_count": 6,
   "metadata": {},
   "outputs": [
    {
     "output_type": "execute_result",
     "data": {
      "text/plain": [
       "   StudentID         lunch test preparation course  math score  gender  \\\n",
       "0          0      standard                    none          72  female   \n",
       "1          1      standard               completed          69  female   \n",
       "2          2      standard                    none          90  female   \n",
       "3          3  free/reduced                    none          47    male   \n",
       "4          4      standard                    none          76    male   \n",
       "\n",
       "  race/ethnicity parental level of education  \n",
       "0        group B           bachelor's degree  \n",
       "1        group C                some college  \n",
       "2        group B             master's degree  \n",
       "3        group A          associate's degree  \n",
       "4        group C                some college  "
      ],
      "text/html": "<div>\n<style scoped>\n    .dataframe tbody tr th:only-of-type {\n        vertical-align: middle;\n    }\n\n    .dataframe tbody tr th {\n        vertical-align: top;\n    }\n\n    .dataframe thead th {\n        text-align: right;\n    }\n</style>\n<table border=\"1\" class=\"dataframe\">\n  <thead>\n    <tr style=\"text-align: right;\">\n      <th></th>\n      <th>StudentID</th>\n      <th>lunch</th>\n      <th>test preparation course</th>\n      <th>math score</th>\n      <th>gender</th>\n      <th>race/ethnicity</th>\n      <th>parental level of education</th>\n    </tr>\n  </thead>\n  <tbody>\n    <tr>\n      <th>0</th>\n      <td>0</td>\n      <td>standard</td>\n      <td>none</td>\n      <td>72</td>\n      <td>female</td>\n      <td>group B</td>\n      <td>bachelor's degree</td>\n    </tr>\n    <tr>\n      <th>1</th>\n      <td>1</td>\n      <td>standard</td>\n      <td>completed</td>\n      <td>69</td>\n      <td>female</td>\n      <td>group C</td>\n      <td>some college</td>\n    </tr>\n    <tr>\n      <th>2</th>\n      <td>2</td>\n      <td>standard</td>\n      <td>none</td>\n      <td>90</td>\n      <td>female</td>\n      <td>group B</td>\n      <td>master's degree</td>\n    </tr>\n    <tr>\n      <th>3</th>\n      <td>3</td>\n      <td>free/reduced</td>\n      <td>none</td>\n      <td>47</td>\n      <td>male</td>\n      <td>group A</td>\n      <td>associate's degree</td>\n    </tr>\n    <tr>\n      <th>4</th>\n      <td>4</td>\n      <td>standard</td>\n      <td>none</td>\n      <td>76</td>\n      <td>male</td>\n      <td>group C</td>\n      <td>some college</td>\n    </tr>\n  </tbody>\n</table>\n</div>"
     },
     "metadata": {},
     "execution_count": 6
    }
   ],
   "source": [
    "student = pd.merge(student,demographic, on='StudentID', how='inner')\n",
    "student.head()"
   ]
  },
  {
   "cell_type": "markdown",
   "metadata": {},
   "source": [
    "Show the number of male and female students"
   ]
  },
  {
   "cell_type": "code",
   "execution_count": 7,
   "metadata": {},
   "outputs": [
    {
     "output_type": "execute_result",
     "data": {
      "text/plain": [
       "gender\n",
       "female    518\n",
       "male      482\n",
       "Name: StudentID, dtype: int64"
      ]
     },
     "metadata": {},
     "execution_count": 7
    }
   ],
   "source": [
    "student.groupby('gender')['StudentID'].count()"
   ]
  },
  {
   "cell_type": "markdown",
   "metadata": {},
   "source": [
    "Show per 'gender' and per 'parental level of education' the average 'math score' in a pivot table. \n",
    "Put 'gender' in the columns and 'parental level of education' in the rows."
   ]
  },
  {
   "cell_type": "code",
   "execution_count": 8,
   "metadata": {},
   "outputs": [
    {
     "output_type": "execute_result",
     "data": {
      "text/plain": [
       "gender                          female       male\n",
       "parental level of education                      \n",
       "associate's degree           65.250000  70.764151\n",
       "bachelor's degree            68.349206  70.581818\n",
       "high school                  59.351064  64.705882\n",
       "master's degree              66.500000  74.826087\n",
       "some college                 65.406780  69.009259\n",
       "some high school             59.296703  67.840909"
      ],
      "text/html": "<div>\n<style scoped>\n    .dataframe tbody tr th:only-of-type {\n        vertical-align: middle;\n    }\n\n    .dataframe tbody tr th {\n        vertical-align: top;\n    }\n\n    .dataframe thead th {\n        text-align: right;\n    }\n</style>\n<table border=\"1\" class=\"dataframe\">\n  <thead>\n    <tr style=\"text-align: right;\">\n      <th>gender</th>\n      <th>female</th>\n      <th>male</th>\n    </tr>\n    <tr>\n      <th>parental level of education</th>\n      <th></th>\n      <th></th>\n    </tr>\n  </thead>\n  <tbody>\n    <tr>\n      <th>associate's degree</th>\n      <td>65.250000</td>\n      <td>70.764151</td>\n    </tr>\n    <tr>\n      <th>bachelor's degree</th>\n      <td>68.349206</td>\n      <td>70.581818</td>\n    </tr>\n    <tr>\n      <th>high school</th>\n      <td>59.351064</td>\n      <td>64.705882</td>\n    </tr>\n    <tr>\n      <th>master's degree</th>\n      <td>66.500000</td>\n      <td>74.826087</td>\n    </tr>\n    <tr>\n      <th>some college</th>\n      <td>65.406780</td>\n      <td>69.009259</td>\n    </tr>\n    <tr>\n      <th>some high school</th>\n      <td>59.296703</td>\n      <td>67.840909</td>\n    </tr>\n  </tbody>\n</table>\n</div>"
     },
     "metadata": {},
     "execution_count": 8
    }
   ],
   "source": [
    "student.groupby(['parental level of education', 'gender'])['math score'].mean().unstack().fillna(0)"
   ]
  },
  {
   "cell_type": "markdown",
   "metadata": {},
   "source": [
    "Later on we will make a prediction model for the 'math score'. \n",
    "Remove the column or columns that are not relevant for this purpose."
   ]
  },
  {
   "cell_type": "code",
   "execution_count": 9,
   "metadata": {},
   "outputs": [
    {
     "output_type": "execute_result",
     "data": {
      "text/plain": [
       "          lunch test preparation course  math score  gender race/ethnicity  \\\n",
       "0      standard                    none          72  female        group B   \n",
       "1      standard               completed          69  female        group C   \n",
       "2      standard                    none          90  female        group B   \n",
       "3  free/reduced                    none          47    male        group A   \n",
       "4      standard                    none          76    male        group C   \n",
       "\n",
       "  parental level of education  \n",
       "0           bachelor's degree  \n",
       "1                some college  \n",
       "2             master's degree  \n",
       "3          associate's degree  \n",
       "4                some college  "
      ],
      "text/html": "<div>\n<style scoped>\n    .dataframe tbody tr th:only-of-type {\n        vertical-align: middle;\n    }\n\n    .dataframe tbody tr th {\n        vertical-align: top;\n    }\n\n    .dataframe thead th {\n        text-align: right;\n    }\n</style>\n<table border=\"1\" class=\"dataframe\">\n  <thead>\n    <tr style=\"text-align: right;\">\n      <th></th>\n      <th>lunch</th>\n      <th>test preparation course</th>\n      <th>math score</th>\n      <th>gender</th>\n      <th>race/ethnicity</th>\n      <th>parental level of education</th>\n    </tr>\n  </thead>\n  <tbody>\n    <tr>\n      <th>0</th>\n      <td>standard</td>\n      <td>none</td>\n      <td>72</td>\n      <td>female</td>\n      <td>group B</td>\n      <td>bachelor's degree</td>\n    </tr>\n    <tr>\n      <th>1</th>\n      <td>standard</td>\n      <td>completed</td>\n      <td>69</td>\n      <td>female</td>\n      <td>group C</td>\n      <td>some college</td>\n    </tr>\n    <tr>\n      <th>2</th>\n      <td>standard</td>\n      <td>none</td>\n      <td>90</td>\n      <td>female</td>\n      <td>group B</td>\n      <td>master's degree</td>\n    </tr>\n    <tr>\n      <th>3</th>\n      <td>free/reduced</td>\n      <td>none</td>\n      <td>47</td>\n      <td>male</td>\n      <td>group A</td>\n      <td>associate's degree</td>\n    </tr>\n    <tr>\n      <th>4</th>\n      <td>standard</td>\n      <td>none</td>\n      <td>76</td>\n      <td>male</td>\n      <td>group C</td>\n      <td>some college</td>\n    </tr>\n  </tbody>\n</table>\n</div>"
     },
     "metadata": {},
     "execution_count": 9
    }
   ],
   "source": [
    "student = student.drop(['StudentID'], axis=1)\n",
    "student.head(5)"
   ]
  },
  {
   "cell_type": "markdown",
   "metadata": {},
   "source": [
    "Remove all lines that contain empty fields in some columns."
   ]
  },
  {
   "cell_type": "code",
   "execution_count": 10,
   "metadata": {},
   "outputs": [
    {
     "output_type": "execute_result",
     "data": {
      "text/plain": [
       "          lunch test preparation course  math score  gender race/ethnicity  \\\n",
       "0      standard                    none          72  female        group B   \n",
       "1      standard               completed          69  female        group C   \n",
       "2      standard                    none          90  female        group B   \n",
       "3  free/reduced                    none          47    male        group A   \n",
       "4      standard                    none          76    male        group C   \n",
       "\n",
       "  parental level of education  \n",
       "0           bachelor's degree  \n",
       "1                some college  \n",
       "2             master's degree  \n",
       "3          associate's degree  \n",
       "4                some college  "
      ],
      "text/html": "<div>\n<style scoped>\n    .dataframe tbody tr th:only-of-type {\n        vertical-align: middle;\n    }\n\n    .dataframe tbody tr th {\n        vertical-align: top;\n    }\n\n    .dataframe thead th {\n        text-align: right;\n    }\n</style>\n<table border=\"1\" class=\"dataframe\">\n  <thead>\n    <tr style=\"text-align: right;\">\n      <th></th>\n      <th>lunch</th>\n      <th>test preparation course</th>\n      <th>math score</th>\n      <th>gender</th>\n      <th>race/ethnicity</th>\n      <th>parental level of education</th>\n    </tr>\n  </thead>\n  <tbody>\n    <tr>\n      <th>0</th>\n      <td>standard</td>\n      <td>none</td>\n      <td>72</td>\n      <td>female</td>\n      <td>group B</td>\n      <td>bachelor's degree</td>\n    </tr>\n    <tr>\n      <th>1</th>\n      <td>standard</td>\n      <td>completed</td>\n      <td>69</td>\n      <td>female</td>\n      <td>group C</td>\n      <td>some college</td>\n    </tr>\n    <tr>\n      <th>2</th>\n      <td>standard</td>\n      <td>none</td>\n      <td>90</td>\n      <td>female</td>\n      <td>group B</td>\n      <td>master's degree</td>\n    </tr>\n    <tr>\n      <th>3</th>\n      <td>free/reduced</td>\n      <td>none</td>\n      <td>47</td>\n      <td>male</td>\n      <td>group A</td>\n      <td>associate's degree</td>\n    </tr>\n    <tr>\n      <th>4</th>\n      <td>standard</td>\n      <td>none</td>\n      <td>76</td>\n      <td>male</td>\n      <td>group C</td>\n      <td>some college</td>\n    </tr>\n  </tbody>\n</table>\n</div>"
     },
     "metadata": {},
     "execution_count": 10
    }
   ],
   "source": [
    "student = student.dropna()\n",
    "student.head(5)"
   ]
  },
  {
   "cell_type": "markdown",
   "metadata": {},
   "source": [
    "Replace the textual values of 'lunch', 'test preparation course' and 'gender' by numeric values 0 and 1."
   ]
  },
  {
   "cell_type": "code",
   "execution_count": 11,
   "metadata": {},
   "outputs": [
    {
     "output_type": "execute_result",
     "data": {
      "text/plain": [
       "   lunch  test preparation course  math score  gender race/ethnicity  \\\n",
       "0      0                        0          72       1        group B   \n",
       "1      0                        1          69       1        group C   \n",
       "2      0                        0          90       1        group B   \n",
       "3      1                        0          47       0        group A   \n",
       "4      0                        0          76       0        group C   \n",
       "\n",
       "  parental level of education  \n",
       "0           bachelor's degree  \n",
       "1                some college  \n",
       "2             master's degree  \n",
       "3          associate's degree  \n",
       "4                some college  "
      ],
      "text/html": "<div>\n<style scoped>\n    .dataframe tbody tr th:only-of-type {\n        vertical-align: middle;\n    }\n\n    .dataframe tbody tr th {\n        vertical-align: top;\n    }\n\n    .dataframe thead th {\n        text-align: right;\n    }\n</style>\n<table border=\"1\" class=\"dataframe\">\n  <thead>\n    <tr style=\"text-align: right;\">\n      <th></th>\n      <th>lunch</th>\n      <th>test preparation course</th>\n      <th>math score</th>\n      <th>gender</th>\n      <th>race/ethnicity</th>\n      <th>parental level of education</th>\n    </tr>\n  </thead>\n  <tbody>\n    <tr>\n      <th>0</th>\n      <td>0</td>\n      <td>0</td>\n      <td>72</td>\n      <td>1</td>\n      <td>group B</td>\n      <td>bachelor's degree</td>\n    </tr>\n    <tr>\n      <th>1</th>\n      <td>0</td>\n      <td>1</td>\n      <td>69</td>\n      <td>1</td>\n      <td>group C</td>\n      <td>some college</td>\n    </tr>\n    <tr>\n      <th>2</th>\n      <td>0</td>\n      <td>0</td>\n      <td>90</td>\n      <td>1</td>\n      <td>group B</td>\n      <td>master's degree</td>\n    </tr>\n    <tr>\n      <th>3</th>\n      <td>1</td>\n      <td>0</td>\n      <td>47</td>\n      <td>0</td>\n      <td>group A</td>\n      <td>associate's degree</td>\n    </tr>\n    <tr>\n      <th>4</th>\n      <td>0</td>\n      <td>0</td>\n      <td>76</td>\n      <td>0</td>\n      <td>group C</td>\n      <td>some college</td>\n    </tr>\n  </tbody>\n</table>\n</div>"
     },
     "metadata": {},
     "execution_count": 11
    }
   ],
   "source": [
    "import numpy as np\n",
    "\n",
    "def f(status):\n",
    "    mapping = {'standard': 0, 'free/reduced': 1}\n",
    "    return mapping[status.strip()]\n",
    "\n",
    "student['lunch'] = student['lunch'].map(f)\n",
    "\n",
    "student['test preparation course'] = np.where(student['test preparation course'] == 'none', 0, 1)\n",
    "\n",
    "student['gender'] = np.where(student['gender'] == 'male', 0, 1)\n",
    "\n",
    "student.head()"
   ]
  },
  {
   "cell_type": "markdown",
   "metadata": {},
   "source": [
    "Use one-hot-encoding for the columns 'race/ethnicity'\n",
    "and 'parental level of education'"
   ]
  },
  {
   "cell_type": "code",
   "execution_count": 12,
   "metadata": {},
   "outputs": [
    {
     "output_type": "execute_result",
     "data": {
      "text/plain": [
       "   lunch  test preparation course  math score  gender  re_group A  re_group B  \\\n",
       "0      0                        0          72       1           0           1   \n",
       "1      0                        1          69       1           0           0   \n",
       "2      0                        0          90       1           0           1   \n",
       "3      1                        0          47       0           1           0   \n",
       "4      0                        0          76       0           0           0   \n",
       "\n",
       "   re_group C  re_group D  re_group E  edu_associate's degree  \\\n",
       "0           0           0           0                       0   \n",
       "1           1           0           0                       0   \n",
       "2           0           0           0                       0   \n",
       "3           0           0           0                       1   \n",
       "4           1           0           0                       0   \n",
       "\n",
       "   edu_bachelor's degree  edu_high school  edu_master's degree  \\\n",
       "0                      1                0                    0   \n",
       "1                      0                0                    0   \n",
       "2                      0                0                    1   \n",
       "3                      0                0                    0   \n",
       "4                      0                0                    0   \n",
       "\n",
       "   edu_some college  edu_some high school  \n",
       "0                 0                     0  \n",
       "1                 1                     0  \n",
       "2                 0                     0  \n",
       "3                 0                     0  \n",
       "4                 1                     0  "
      ],
      "text/html": "<div>\n<style scoped>\n    .dataframe tbody tr th:only-of-type {\n        vertical-align: middle;\n    }\n\n    .dataframe tbody tr th {\n        vertical-align: top;\n    }\n\n    .dataframe thead th {\n        text-align: right;\n    }\n</style>\n<table border=\"1\" class=\"dataframe\">\n  <thead>\n    <tr style=\"text-align: right;\">\n      <th></th>\n      <th>lunch</th>\n      <th>test preparation course</th>\n      <th>math score</th>\n      <th>gender</th>\n      <th>re_group A</th>\n      <th>re_group B</th>\n      <th>re_group C</th>\n      <th>re_group D</th>\n      <th>re_group E</th>\n      <th>edu_associate's degree</th>\n      <th>edu_bachelor's degree</th>\n      <th>edu_high school</th>\n      <th>edu_master's degree</th>\n      <th>edu_some college</th>\n      <th>edu_some high school</th>\n    </tr>\n  </thead>\n  <tbody>\n    <tr>\n      <th>0</th>\n      <td>0</td>\n      <td>0</td>\n      <td>72</td>\n      <td>1</td>\n      <td>0</td>\n      <td>1</td>\n      <td>0</td>\n      <td>0</td>\n      <td>0</td>\n      <td>0</td>\n      <td>1</td>\n      <td>0</td>\n      <td>0</td>\n      <td>0</td>\n      <td>0</td>\n    </tr>\n    <tr>\n      <th>1</th>\n      <td>0</td>\n      <td>1</td>\n      <td>69</td>\n      <td>1</td>\n      <td>0</td>\n      <td>0</td>\n      <td>1</td>\n      <td>0</td>\n      <td>0</td>\n      <td>0</td>\n      <td>0</td>\n      <td>0</td>\n      <td>0</td>\n      <td>1</td>\n      <td>0</td>\n    </tr>\n    <tr>\n      <th>2</th>\n      <td>0</td>\n      <td>0</td>\n      <td>90</td>\n      <td>1</td>\n      <td>0</td>\n      <td>1</td>\n      <td>0</td>\n      <td>0</td>\n      <td>0</td>\n      <td>0</td>\n      <td>0</td>\n      <td>0</td>\n      <td>1</td>\n      <td>0</td>\n      <td>0</td>\n    </tr>\n    <tr>\n      <th>3</th>\n      <td>1</td>\n      <td>0</td>\n      <td>47</td>\n      <td>0</td>\n      <td>1</td>\n      <td>0</td>\n      <td>0</td>\n      <td>0</td>\n      <td>0</td>\n      <td>1</td>\n      <td>0</td>\n      <td>0</td>\n      <td>0</td>\n      <td>0</td>\n      <td>0</td>\n    </tr>\n    <tr>\n      <th>4</th>\n      <td>0</td>\n      <td>0</td>\n      <td>76</td>\n      <td>0</td>\n      <td>0</td>\n      <td>0</td>\n      <td>1</td>\n      <td>0</td>\n      <td>0</td>\n      <td>0</td>\n      <td>0</td>\n      <td>0</td>\n      <td>0</td>\n      <td>1</td>\n      <td>0</td>\n    </tr>\n  </tbody>\n</table>\n</div>"
     },
     "metadata": {},
     "execution_count": 12
    }
   ],
   "source": [
    "student = pd.get_dummies(student,columns=['race/ethnicity'], prefix=['re'])\n",
    "student = pd.get_dummies(student,columns=['parental level of education'], prefix=['edu'])\n",
    "student.head()"
   ]
  },
  {
   "cell_type": "markdown",
   "metadata": {},
   "source": [
    "Why is one-hot-encoding preferable over numeric values in this case?"
   ]
  },
  {
   "cell_type": "code",
   "execution_count": 13,
   "metadata": {},
   "outputs": [],
   "source": [
    "# for instance: there is no \"ranking\" in race/ethnicity"
   ]
  },
  {
   "cell_type": "markdown",
   "metadata": {},
   "source": [
    "Create a model to predict the 'math score' based on the other relevant features. Use the RandomForestRegressor method. Automatically search for the optimal number of trees between 50 and 400 in increments of 50. Use RMSE (root mean squared error or the square root of mean squared error) to determine the accuracy of each model. Show the number of trees of the optimal model and the corresponding RMSE."
   ]
  },
  {
   "cell_type": "code",
   "execution_count": 14,
   "metadata": {},
   "outputs": [
    {
     "output_type": "stream",
     "name": "stdout",
     "text": [
      "Optimal number of trees = 150\nMAE on validation set =  11.72\nMAE on test set =  11.87\nR square: -0.010130626148740829\n"
     ]
    }
   ],
   "source": [
    "from sklearn.model_selection import train_test_split\n",
    "X = student.drop('math score',axis=1)\n",
    "y = student['math score']\n",
    "\n",
    "from sklearn.metrics import mean_absolute_error\n",
    "from sklearn.metrics import r2_score\n",
    "from sklearn.ensemble import RandomForestRegressor\n",
    "\n",
    "X_remainder, X_test, y_remainder, y_test = train_test_split(X,y,test_size=0.30)\n",
    "\n",
    "best_MAE = 1000\n",
    "best_trees = 0\n",
    "\n",
    "for trees in range(50,500,50):\n",
    "    X_train, X_validation, y_train, y_validation = train_test_split(X_remainder,y_remainder,test_size=0.30)\n",
    "    model = RandomForestRegressor(n_estimators=trees)\n",
    "\n",
    "    model.fit(X_train, y_train)    \n",
    "    y_validation2 = model.predict(X_validation)\n",
    "    MAE = mean_absolute_error(y_validation, y_validation2)\n",
    "    if MAE < best_MAE:\n",
    "        best_MAE = MAE\n",
    "        best_trees = trees\n",
    "        best_validation = model.predict(X_test)\n",
    "        \n",
    "print('Optimal number of trees = % s' %(best_trees))\n",
    "print('MAE on validation set = % 3.2f' % (best_MAE)) \n",
    "MAEOnTestSet = mean_absolute_error(y_test, best_validation)\n",
    "print('MAE on test set = % 3.2f' % (MAEOnTestSet))\n",
    "r2 = r2_score(y_test,best_validation)\n",
    "print('R square: ' + str(r2))   "
   ]
  },
  {
   "cell_type": "markdown",
   "metadata": {},
   "source": [
    "If you run the program several times, do you always get the same optimal number of trees as best? Explain!"
   ]
  },
  {
   "cell_type": "code",
   "execution_count": 15,
   "metadata": {},
   "outputs": [],
   "source": [
    "# two kinds of randomization:\n",
    "# - train_test_split\n",
    "# - RANDOM forest"
   ]
  },
  {
   "cell_type": "markdown",
   "metadata": {},
   "source": [
    "Show the relative importance of each of the features arranged according to decreasing importance. However, you have to merge the one-hot-encoded features, adding up their relative importance. Hint: df.reset_index() turns the index into a column. "
   ]
  },
  {
   "cell_type": "code",
   "execution_count": 16,
   "metadata": {},
   "outputs": [],
   "source": [
    "imp = pd.DataFrame(model.feature_importances_,columns=['Importance'],index=X_train.columns).sort_values(by='Importance',ascending=False)"
   ]
  },
  {
   "cell_type": "code",
   "execution_count": 17,
   "metadata": {},
   "outputs": [
    {
     "output_type": "execute_result",
     "data": {
      "text/plain": [
       "Index(['lunch', 'test preparation course', 'gender', 're_group E',\n",
       "       're_group B', 'edu_bachelor's degree', 'edu_some high school',\n",
       "       'edu_some college', 'edu_associate's degree', 'edu_high school',\n",
       "       're_group C', 're_group D', 're_group A', 'edu_master's degree'],\n",
       "      dtype='object')"
      ]
     },
     "metadata": {},
     "execution_count": 17
    }
   ],
   "source": [
    "imp.index"
   ]
  },
  {
   "cell_type": "code",
   "execution_count": 18,
   "metadata": {},
   "outputs": [
    {
     "output_type": "stream",
     "name": "stdout",
     "text": [
      "                      index  Importance\n0                     lunch    0.217415\n1   test preparation course    0.102342\n2                    gender    0.100200\n3                re_group E    0.080429\n4                re_group B    0.068496\n5     edu_bachelor's degree    0.060727\n6      edu_some high school    0.057397\n7          edu_some college    0.057146\n8    edu_associate's degree    0.056057\n9           edu_high school    0.054432\n10               re_group C    0.047256\n11               re_group D    0.045172\n12               re_group A    0.028084\n13      edu_master's degree    0.024846\n"
     ]
    }
   ],
   "source": [
    "imp = imp.reset_index()\n",
    "print(imp)"
   ]
  },
  {
   "cell_type": "code",
   "execution_count": 19,
   "metadata": {},
   "outputs": [
    {
     "output_type": "stream",
     "name": "stdout",
     "text": [
      "                          index  Importance\n0                         lunch    0.217415\n1       test preparation course    0.102342\n2                        gender    0.100200\n3                race/ethnicity    0.080429\n4                race/ethnicity    0.068496\n5   parental level of education    0.060727\n6   parental level of education    0.057397\n7   parental level of education    0.057146\n8   parental level of education    0.056057\n9   parental level of education    0.054432\n10               race/ethnicity    0.047256\n11               race/ethnicity    0.045172\n12               race/ethnicity    0.028084\n13  parental level of education    0.024846\n"
     ]
    }
   ],
   "source": [
    "imp['index'] = np.where(imp['index'].str.startswith('re_'),'race/ethnicity',imp['index'])\n",
    "imp['index'] = np.where(imp['index'].str.startswith('edu_'),'parental level of education',imp['index'])\n",
    "print(imp)"
   ]
  },
  {
   "cell_type": "code",
   "execution_count": 20,
   "metadata": {},
   "outputs": [
    {
     "output_type": "execute_result",
     "data": {
      "text/plain": [
       "index\n",
       "parental level of education    0.310606\n",
       "race/ethnicity                 0.269438\n",
       "lunch                          0.217415\n",
       "test preparation course        0.102342\n",
       "gender                         0.100200\n",
       "Name: Importance, dtype: float64"
      ]
     },
     "metadata": {},
     "execution_count": 20
    }
   ],
   "source": [
    "# the result of groupby and sum is of datatype Seris, so sort_values doesn't need a by='col' parameter\n",
    "imp.groupby('index')['Importance'].sum().sort_values(ascending=False)"
   ]
  }
 ],
 "metadata": {
  "kernelspec": {
   "display_name": "Python 3",
   "language": "python",
   "name": "python3"
  },
  "language_info": {
   "codemirror_mode": {
    "name": "ipython",
    "version": 3
   },
   "file_extension": ".py",
   "mimetype": "text/x-python",
   "name": "python",
   "nbconvert_exporter": "python",
   "pygments_lexer": "ipython3",
   "version": "3.7.9-final"
  }
 },
 "nbformat": 4,
 "nbformat_minor": 2
}