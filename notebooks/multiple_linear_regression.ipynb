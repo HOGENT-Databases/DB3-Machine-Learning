{
 "cells": [
  {
   "cell_type": "markdown",
   "metadata": {},
   "source": [
    "## Multiple Linear Regression\n",
    "This concept of linear can be extended to cases where there are more than two variables. This is called **multiple linear regression**. For instance, consider a scenario where you have to predict the price of the house based upon its area, number of bedrooms, the average income of the people in the area, the age of the house, and so on. In this case, the dependent variable (target variable) is dependent upon several independent variables. A regression model involving multiple variables can be represented as:  \n",
    "  \n",
    "\\begin{equation}\n",
    "y=\\ b_0+m_1x_1\\ +m_2x_2+m_3x_3+\\ldots+m_nx_n  \n",
    "\\end{equation}  \n",
    "  \n",
    "This is the equation of a hyperplane. A linear regression model in two dimensions is a straight line; in three dimensions it is a plane, and in more than three dimensions, a hyperplane.\n",
    "![](images/multiple_linear_regression.png)\n",
    "You can use the multiple linear regression to find out which factor has the highest impact on the predicted output and how different variables relate to each other.\n",
    "### Case advertising\n",
    "What are the features?\n",
    "- TV: advertising dollars spent on TV for a single product in a given market (in thousands of dollars)\n",
    "- Radio: advertising dollars spent on Radio\n",
    "- Newspaper: advertising dollars spent on Newspaper\n",
    "What is the response?\n",
    "- Sales: sales of a single product in a given market (in thousands of items)\n",
    "What else do we know?\n",
    "- Because the response variable is continuous, this is a regression problem.\n",
    "- There are 200 observations (represented by the rows), and each observation is a single market.\n"
   ]
  },
  {
   "cell_type": "code",
   "execution_count": 13,
   "metadata": {},
   "outputs": [],
   "source": [
    "import pandas as pd\n",
    "import numpy as np\n",
    "import matplotlib.pyplot as plt"
   ]
  },
  {
   "cell_type": "code",
   "execution_count": 14,
   "metadata": {},
   "outputs": [
    {
     "data": {
      "text/html": [
       "<div>\n",
       "<style scoped>\n",
       "    .dataframe tbody tr th:only-of-type {\n",
       "        vertical-align: middle;\n",
       "    }\n",
       "\n",
       "    .dataframe tbody tr th {\n",
       "        vertical-align: top;\n",
       "    }\n",
       "\n",
       "    .dataframe thead th {\n",
       "        text-align: right;\n",
       "    }\n",
       "</style>\n",
       "<table border=\"1\" class=\"dataframe\">\n",
       "  <thead>\n",
       "    <tr style=\"text-align: right;\">\n",
       "      <th></th>\n",
       "      <th>Unnamed: 0</th>\n",
       "      <th>TV</th>\n",
       "      <th>Radio</th>\n",
       "      <th>Newspaper</th>\n",
       "      <th>Sales</th>\n",
       "    </tr>\n",
       "  </thead>\n",
       "  <tbody>\n",
       "    <tr>\n",
       "      <th>0</th>\n",
       "      <td>1</td>\n",
       "      <td>230.1</td>\n",
       "      <td>37.8</td>\n",
       "      <td>69.2</td>\n",
       "      <td>22.1</td>\n",
       "    </tr>\n",
       "    <tr>\n",
       "      <th>1</th>\n",
       "      <td>2</td>\n",
       "      <td>44.5</td>\n",
       "      <td>39.3</td>\n",
       "      <td>45.1</td>\n",
       "      <td>10.4</td>\n",
       "    </tr>\n",
       "    <tr>\n",
       "      <th>2</th>\n",
       "      <td>3</td>\n",
       "      <td>17.2</td>\n",
       "      <td>45.9</td>\n",
       "      <td>69.3</td>\n",
       "      <td>9.3</td>\n",
       "    </tr>\n",
       "    <tr>\n",
       "      <th>3</th>\n",
       "      <td>4</td>\n",
       "      <td>151.5</td>\n",
       "      <td>41.3</td>\n",
       "      <td>58.5</td>\n",
       "      <td>18.5</td>\n",
       "    </tr>\n",
       "    <tr>\n",
       "      <th>4</th>\n",
       "      <td>5</td>\n",
       "      <td>180.8</td>\n",
       "      <td>10.8</td>\n",
       "      <td>58.4</td>\n",
       "      <td>12.9</td>\n",
       "    </tr>\n",
       "  </tbody>\n",
       "</table>\n",
       "</div>"
      ],
      "text/plain": [
       "   Unnamed: 0     TV  Radio  Newspaper  Sales\n",
       "0           1  230.1   37.8       69.2   22.1\n",
       "1           2   44.5   39.3       45.1   10.4\n",
       "2           3   17.2   45.9       69.3    9.3\n",
       "3           4  151.5   41.3       58.5   18.5\n",
       "4           5  180.8   10.8       58.4   12.9"
      ]
     },
     "execution_count": 14,
     "metadata": {},
     "output_type": "execute_result"
    }
   ],
   "source": [
    "# Read the file Advertising.csv\n",
    "data = pd.read_csv('data/advertising.csv')\n",
    "data.head()"
   ]
  },
  {
   "cell_type": "code",
   "execution_count": 15,
   "metadata": {},
   "outputs": [
    {
     "data": {
      "text/plain": [
       "(200, 5)"
      ]
     },
     "execution_count": 15,
     "metadata": {},
     "output_type": "execute_result"
    }
   ],
   "source": [
    "# Give the dimensions of the dataset\n",
    "data.shape"
   ]
  },
  {
   "cell_type": "code",
   "execution_count": 16,
   "metadata": {},
   "outputs": [
    {
     "data": {
      "text/html": [
       "<div>\n",
       "<style scoped>\n",
       "    .dataframe tbody tr th:only-of-type {\n",
       "        vertical-align: middle;\n",
       "    }\n",
       "\n",
       "    .dataframe tbody tr th {\n",
       "        vertical-align: top;\n",
       "    }\n",
       "\n",
       "    .dataframe thead th {\n",
       "        text-align: right;\n",
       "    }\n",
       "</style>\n",
       "<table border=\"1\" class=\"dataframe\">\n",
       "  <thead>\n",
       "    <tr style=\"text-align: right;\">\n",
       "      <th></th>\n",
       "      <th>TV</th>\n",
       "      <th>Radio</th>\n",
       "      <th>Newspaper</th>\n",
       "      <th>Sales</th>\n",
       "    </tr>\n",
       "  </thead>\n",
       "  <tbody>\n",
       "    <tr>\n",
       "      <th>0</th>\n",
       "      <td>230.1</td>\n",
       "      <td>37.8</td>\n",
       "      <td>69.2</td>\n",
       "      <td>22.1</td>\n",
       "    </tr>\n",
       "    <tr>\n",
       "      <th>1</th>\n",
       "      <td>44.5</td>\n",
       "      <td>39.3</td>\n",
       "      <td>45.1</td>\n",
       "      <td>10.4</td>\n",
       "    </tr>\n",
       "    <tr>\n",
       "      <th>2</th>\n",
       "      <td>17.2</td>\n",
       "      <td>45.9</td>\n",
       "      <td>69.3</td>\n",
       "      <td>9.3</td>\n",
       "    </tr>\n",
       "    <tr>\n",
       "      <th>3</th>\n",
       "      <td>151.5</td>\n",
       "      <td>41.3</td>\n",
       "      <td>58.5</td>\n",
       "      <td>18.5</td>\n",
       "    </tr>\n",
       "    <tr>\n",
       "      <th>4</th>\n",
       "      <td>180.8</td>\n",
       "      <td>10.8</td>\n",
       "      <td>58.4</td>\n",
       "      <td>12.9</td>\n",
       "    </tr>\n",
       "  </tbody>\n",
       "</table>\n",
       "</div>"
      ],
      "text/plain": [
       "      TV  Radio  Newspaper  Sales\n",
       "0  230.1   37.8       69.2   22.1\n",
       "1   44.5   39.3       45.1   10.4\n",
       "2   17.2   45.9       69.3    9.3\n",
       "3  151.5   41.3       58.5   18.5\n",
       "4  180.8   10.8       58.4   12.9"
      ]
     },
     "execution_count": 16,
     "metadata": {},
     "output_type": "execute_result"
    }
   ],
   "source": [
    "# Drop the column Unnamed: 0\n",
    "data = data.drop('Unnamed: 0', axis = 1)\n",
    "data.head()"
   ]
  },
  {
   "cell_type": "code",
   "execution_count": 17,
   "metadata": {},
   "outputs": [],
   "source": [
    "import math\n",
    "\n",
    "def roundup(x):\n",
    "    return int(math.ceil(x / 10.0)) * 10\n",
    "\n",
    "def rounddown(x):\n",
    "    return int(math.floor(x / 10.0)) * 10"
   ]
  },
  {
   "cell_type": "code",
   "execution_count": 18,
   "metadata": {},
   "outputs": [
    {
     "data": {
      "text/plain": [
       "Text(0, 0.5, 'Sales')"
      ]
     },
     "execution_count": 18,
     "metadata": {},
     "output_type": "execute_result"
    },
    {
     "data": {
      "image/png": "[encoded data removed]",
      "text/plain": [
       "<Figure size 432x288 with 1 Axes>"
      ]
     },
     "metadata": {
      "needs_background": "light"
     },
     "output_type": "display_data"
    }
   ],
   "source": [
    "# Plot the dataset Sales vs TV\n",
    "# First calculate the minimum and the maximumvalue for TV\n",
    "\n",
    "xminTV = rounddown(data['TV'].min()) - 50\n",
    "xmaxTV = roundup(data['TV'].max()) + 50\n",
    "\n",
    "plt.scatter(data['TV'], data['Sales'])\n",
    "plt.xlim([xminTV, xmaxTV])\n",
    "plt.xlabel('TV')\n",
    "plt.ylabel('Sales')"
   ]
  },
  {
   "cell_type": "code",
   "execution_count": 19,
   "metadata": {},
   "outputs": [
    {
     "data": {
      "text/plain": [
       "Text(0, 0.5, 'Sales')"
      ]
     },
     "execution_count": 19,
     "metadata": {},
     "output_type": "execute_result"
    },
    {
     "data": {
      "image/png": "[encoded data removed]",
      "text/plain": [
       "<Figure size 432x288 with 1 Axes>"
      ]
     },
     "metadata": {
      "needs_background": "light"
     },
     "output_type": "display_data"
    }
   ],
   "source": [
    "# Plot the dataset Sales vs Radio\n",
    "# First calculate the minimum and the maximumvalue for Radio\n",
    "\n",
    "xminRadio = rounddown(data['Radio'].min()) - 20\n",
    "xmaxRadio = roundup(data['Radio'].max()) + 20\n",
    "\n",
    "plt.scatter(data['Radio'], data['Sales'], color='purple')\n",
    "plt.xlim([xminRadio, xmaxRadio])\n",
    "plt.xlabel('Radio')\n",
    "plt.ylabel('Sales')"
   ]
  },
  {
   "cell_type": "code",
   "execution_count": 20,
   "metadata": {},
   "outputs": [
    {
     "data": {
      "text/plain": [
       "Text(0, 0.5, 'Sales')"
      ]
     },
     "execution_count": 20,
     "metadata": {},
     "output_type": "execute_result"
    },
    {
     "data": {
      "image/png": "[encoded data removed]",
      "text/plain": [
       "<Figure size 432x288 with 1 Axes>"
      ]
     },
     "metadata": {
      "needs_background": "light"
     },
     "output_type": "display_data"
    }
   ],
   "source": [
    "# Plot the dataset Sales vs Newspaper\n",
    "# First calculate the minimum and the maximumvalue for Newspaper\n",
    "\n",
    "xminNewspaper = rounddown(data['Newspaper'].min()) - 20\n",
    "xmaxNewspaper = roundup(data['Newspaper'].max()) + 20\n",
    "\n",
    "plt.scatter(data['Newspaper'], data['Sales'], color='yellow')\n",
    "plt.xlim([xminNewspaper, xmaxNewspaper])\n",
    "plt.xlabel('Newspaper')\n",
    "plt.ylabel('Sales')"
   ]
  },
  {
   "cell_type": "markdown",
   "metadata": {},
   "source": [
    "Form of linear regression  \n",
    "  \n",
    "\\begin{equation}\n",
    "y=\\ b_0+m_1x_1\\ +m_2x_2+m_3x_3+\\ldots+m_nx_n\n",
    "\\end{equation}\n",
    "  \n",
    "- $y$ = the response\n",
    "- $b_0$ = intercept\n",
    "- $m_1$ = coefficient for $x_1$ (the first feature)\n",
    "- $m_2$ = coefficient for $x_2$ (the second feature)\n",
    "- …\n",
    "- $m_n$ = coefficient for $x_n$ (the $n^{th}$ feature)  \n",
    "    \n",
    "In this case:  \n",
    "  \n",
    "\\begin{equation}\n",
    "y=\\ b_0+m_1\\ast\\ TV\\ +m_2\\ast\\ Radio+m_3\\ast\\ Newspaper\n",
    "\\end{equation}  \n",
    "  \n",
    "$m_1$, $m_2$ en $m_3$ are the model coefficients. These values are \"learned\" during the model fitting step using the _least squares_ criterion. Then, the fitted model can be used to make predictions. \n"
   ]
  },
  {
   "cell_type": "code",
   "execution_count": 21,
   "metadata": {},
   "outputs": [],
   "source": [
    "# Use LinearRegression to predict the Sales\n",
    "from sklearn.model_selection import train_test_split\n",
    "X = data.drop('Sales',axis=1)\n",
    "y = data['Sales']\n",
    "X_train, X_test, y_train, y_test = train_test_split(X,y,test_size=0.30)"
   ]
  },
  {
   "cell_type": "code",
   "execution_count": 22,
   "metadata": {},
   "outputs": [],
   "source": [
    "from sklearn import metrics\n",
    "from sklearn.linear_model import LinearRegression"
   ]
  },
  {
   "cell_type": "code",
   "execution_count": 24,
   "metadata": {},
   "outputs": [
    {
     "name": "stdout",
     "output_type": "stream",
     "text": [
      "Intercept\n",
      "3.0303203591416192\n",
      "\n",
      "Coefficients\n",
      "[0.04758891 0.17324881 0.00411952]\n"
     ]
    }
   ],
   "source": [
    "# First we are using LinearRegression\n",
    "model = LinearRegression()\n",
    "model.fit(X_train,y_train)\n",
    "\n",
    "#To retrieve the intercept:\n",
    "print(\"Intercept\")\n",
    "print(model.intercept_)\n",
    "print()\n",
    "#For retrieving the coefficients:\n",
    "print(\"Coefficients\")\n",
    "print(model.coef_)"
   ]
  },
  {
   "cell_type": "markdown",
   "metadata": {},
   "source": [
    "Depending on the random split in training and test set we get something like\n",
    "  \n",
    "\\begin{equation}\n",
    "y=\\ 2.99+0.0448\\ast\\ TV\\ +0.191\\ast\\ Radio-0.003\\ast\\ Newspaper\n",
    "\\end{equation}  \n",
    "  \n",
    "How do we interpret the TV coefficient (0.0448)?  \n",
    "  \n",
    "For a given amount of Radio and Newspaper ad spending, a \"unit\" increase in TV ad spending is associated with a 0.0468 \"unit\" increase in Sales. Or more clearly: For a given amount of Radio and Newspaper ad spending, an additional $1000 spent on TV ads is associated with an increase in sales of 44.8 items.  \n",
    "  \n",
    "Important notes:\n",
    "- This is a statement of correlation, not causation\n",
    "- An increase in Newspaper ad spending is associated with a decrease in sales because the Newspaper coefficient is negative.  \n",
    "  \n",
    "Finally, let's calculate the common evaluation metrics for regression problems. "
   ]
  },
  {
   "cell_type": "code",
   "execution_count": 25,
   "metadata": {},
   "outputs": [
    {
     "name": "stdout",
     "output_type": "stream",
     "text": [
      "Mean Absolute Error: 1.3046420399153504\n",
      "\n",
      "Mean Squared Error: 3.0339274271223067\n",
      "\n",
      "Root Mean Squared Error: 1.7418172771913554\n",
      "\n",
      "R square: 0.8786156588740994\n",
      "\n"
     ]
    }
   ],
   "source": [
    "y_predict = model.predict(X_test)\n",
    "\n",
    "MAE = metrics.mean_absolute_error(y_test,y_predict)\n",
    "print('Mean Absolute Error: '+ str(MAE))\n",
    "print()\n",
    "\n",
    "MSE = metrics.mean_squared_error(y_test,y_predict)\n",
    "print('Mean Squared Error: '+ str(MSE))\n",
    "print()\n",
    "\n",
    "RMSE = np.sqrt(metrics.mean_squared_error(y_test,y_predict))\n",
    "print('Root Mean Squared Error: '+ str(RMSE))\n",
    "print()\n",
    "\n",
    "r2 = metrics.r2_score(y_test,y_predict)\n",
    "print('R square: ' + str(r2))  \n",
    "print()"
   ]
  }
 ],
 "metadata": {
  "kernelspec": {
   "display_name": "Python 3",
   "language": "python",
   "name": "python3"
  },
  "language_info": {
   "codemirror_mode": {
    "name": "ipython",
    "version": 3
   },
   "file_extension": ".py",
   "mimetype": "text/x-python",
   "name": "python",
   "nbconvert_exporter": "python",
   "pygments_lexer": "ipython3",
   "version": "3.7.6"
  }
 },
 "nbformat": 4,
 "nbformat_minor": 2
}
