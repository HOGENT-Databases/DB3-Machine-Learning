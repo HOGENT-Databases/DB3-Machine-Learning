{
  "nbformat": 4,
  "nbformat_minor": 0,
  "metadata": {
    "kernelspec": {
      "display_name": "Python 3",
      "language": "python",
      "name": "python3"
    },
    "language_info": {
      "codemirror_mode": {
        "name": "ipython",
        "version": 3
      },
      "file_extension": ".py",
      "mimetype": "text/x-python",
      "name": "python",
      "nbconvert_exporter": "python",
      "pygments_lexer": "ipython3",
      "version": "3.7.9-final"
    },
    "colab": {
      "name": "Spotify Solution.ipynb",
      "provenance": [],
      "collapsed_sections": []
    }
  },
  "cells": [
    {
      "cell_type": "markdown",
      "metadata": {
        "id": "Is5JKLZ91zEa"
      },
      "source": [
        "Data can be found on https://www.kaggle.com/cihanoklap/top-songs-on-spotify-what-makes-them-popular/data\r\n",
        "\r\n",
        "In this exercise, we’ll take a look at the audio features of the tracks in Spotify’s Top Songs of 2017 playlist and try to highlight the common patterns behind the audio features of these songs.\r\n"
      ]
    },
    {
      "cell_type": "code",
      "metadata": {
        "id": "ByRqBRur16Yz",
        "colab": {
          "base_uri": "https://localhost:8080/"
        },
        "outputId": "cb37d3f8-e9db-4f6b-ba09-7976ef41def9"
      },
      "source": [
        "from google.colab import drive\r\n",
        "drive.mount('/content/gdrive')"
      ],
      "execution_count": null,
      "outputs": []
    },
    {
      "cell_type": "code",
      "metadata": {
        "id": "7K76NsMs4VZP"
      },
      "source": [
        "import numpy as np\r\n",
        "import pandas as pd"
      ],
      "execution_count": null,
      "outputs": []
    },
    {
      "cell_type": "code",
      "metadata": {
        "id": "eKJHSpb8zane",
        "colab": {
          "base_uri": "https://localhost:8080/",
          "height": 195
        },
        "outputId": "11020293-3644-4153-b8ab-3618aca4203b"
      },
      "source": [
        "# Read the file data.csv\n",
        "# Show the first few records\n",
        "path = 'https://raw.githubusercontent.com/HOGENT-Databases/DB3-Workshops/master/data/'\n",
        "data = pd.read_csv(path+\"spotify.csv\", encoding=\"ISO-8859-1\")\n",
        "data.head()\n",
        "\n"
      ],
      "execution_count": null,
      "outputs": []
    },
    {
      "cell_type": "code",
      "metadata": {
        "id": "x0LVM8g3zanf",
        "colab": {
          "base_uri": "https://localhost:8080/",
          "height": 284
        },
        "outputId": "22896fec-101b-4f26-f4a5-21fab7eed9db"
      },
      "source": [
        "# Show the general information about the data\n",
        "data.describe()"
      ],
      "execution_count": null,
      "outputs": []
    },
    {
      "cell_type": "code",
      "metadata": {
        "id": "zVQutBSrzanf",
        "colab": {
          "base_uri": "https://localhost:8080/",
          "height": 195
        },
        "outputId": "0e4c7dad-72b7-46ca-a790-a86ff932972a"
      },
      "source": [
        "# Drop the column URL because it is of no need\n",
        "# Show the first few records\n",
        "data = data.drop('URL', axis = 1)\n",
        "data.head()\n"
      ],
      "execution_count": null,
      "outputs": []
    },
    {
      "cell_type": "code",
      "metadata": {
        "id": "uL33ZQKqzang",
        "colab": {
          "base_uri": "https://localhost:8080/"
        },
        "outputId": "aaaaa785-9e0d-4c00-8caa-b5dbbf8fe7f3"
      },
      "source": [
        "# Give the dimensions of the data\n",
        "data.shape"
      ],
      "execution_count": null,
      "outputs": []
    },
    {
      "cell_type": "code",
      "metadata": {
        "id": "XF7AUmtBzang",
        "colab": {
          "base_uri": "https://localhost:8080/"
        },
        "outputId": "797cc164-887c-45e2-9c9c-e3de17e4948e"
      },
      "source": [
        "# Give for each column the number of values available\n",
        "data.count()"
      ],
      "execution_count": null,
      "outputs": []
    },
    {
      "cell_type": "code",
      "metadata": {
        "collapsed": true,
        "id": "0qd-2xa_zang"
      },
      "source": [
        "# You can see that there are some columns with no data available for the Track Name and Artist\n",
        "# Drop the records which empty values for some columns\n",
        "data = data.dropna()"
      ],
      "execution_count": null,
      "outputs": []
    },
    {
      "cell_type": "code",
      "metadata": {
        "id": "XRACF0HOzanh",
        "colab": {
          "base_uri": "https://localhost:8080/"
        },
        "outputId": "cac7fd59-a447-42a8-9546-085b509b5de4"
      },
      "source": [
        "# Give for each column the number of values available\n",
        "data.count()"
      ],
      "execution_count": null,
      "outputs": []
    },
    {
      "cell_type": "code",
      "metadata": {
        "id": "2tmG3Wgtzanh",
        "colab": {
          "base_uri": "https://localhost:8080/"
        },
        "outputId": "b5255aac-9364-4ede-812b-a930149260c4"
      },
      "source": [
        "# Give the datatype of each column\n",
        "data.dtypes"
      ],
      "execution_count": null,
      "outputs": []
    },
    {
      "cell_type": "code",
      "metadata": {
        "id": "ElsYBFxDzanh",
        "colab": {
          "base_uri": "https://localhost:8080/"
        },
        "outputId": "608a9868-fa04-4b85-ea56-11e447e2f471"
      },
      "source": [
        "# Which different regions are available. Is Belgium (be) one of these regions?\n",
        "data['Region'].unique()"
      ],
      "execution_count": null,
      "outputs": []
    },
    {
      "cell_type": "code",
      "metadata": {
        "id": "0vVkVE_-zani",
        "colab": {
          "base_uri": "https://localhost:8080/",
          "height": 35
        },
        "outputId": "9fad8499-7334-4d62-f666-93df4d97e543"
      },
      "source": [
        "# What is the minimum date?\n",
        "data['Date'].min()"
      ],
      "execution_count": null,
      "outputs": []
    },
    {
      "cell_type": "code",
      "metadata": {
        "id": "33dIGYFizani",
        "colab": {
          "base_uri": "https://localhost:8080/",
          "height": 35
        },
        "outputId": "154fa13c-c126-4251-bff6-6416fca46719"
      },
      "source": [
        "# What is the maximum date?\n",
        "data['Date'].max()"
      ],
      "execution_count": null,
      "outputs": []
    },
    {
      "cell_type": "code",
      "metadata": {
        "id": "JEg0z1M4zani",
        "colab": {
          "base_uri": "https://localhost:8080/",
          "height": 195
        },
        "outputId": "be3b64ff-67cf-4e2f-e763-909fa1efbcf2"
      },
      "source": [
        "# Transform the Track Name's into lower case\n",
        "data['Track Name'] = data['Track Name'].str.lower()\n",
        "data.head()\n"
      ],
      "execution_count": null,
      "outputs": []
    },
    {
      "cell_type": "code",
      "metadata": {
        "id": "VNTdzRGCzani",
        "colab": {
          "base_uri": "https://localhost:8080/",
          "height": 195
        },
        "outputId": "6cd70b5f-86f9-434e-cdcc-793ddc1f8238"
      },
      "source": [
        "# Transform the Artist into lower case\n",
        "data['Artist'] = data['Artist'].str.lower()\n",
        "data.head()"
      ],
      "execution_count": null,
      "outputs": []
    },
    {
      "cell_type": "code",
      "metadata": {
        "id": "mk0bb_whzanj",
        "colab": {
          "base_uri": "https://localhost:8080/"
        },
        "outputId": "a6660c31-b8b8-476b-eafb-839906646a5f"
      },
      "source": [
        "# How many unique artists are there in the dataset?\n",
        "len(data['Artist'].unique())"
      ],
      "execution_count": null,
      "outputs": []
    },
    {
      "cell_type": "code",
      "metadata": {
        "id": "AowYd_8yzanj",
        "colab": {
          "base_uri": "https://localhost:8080/",
          "height": 195
        },
        "outputId": "a8a6c619-8a75-46ba-aa59-fb828bef75ee"
      },
      "source": [
        "# Are there any songs with the same name but with a different artist?\n",
        "result = data.groupby('Track Name')['Artist'].unique().reset_index()\n",
        "result['Artist'] = result['Artist'].map(len)\n",
        "result = result[result['Artist'] > 1]\n",
        "result.head()\n"
      ],
      "execution_count": null,
      "outputs": []
    },
    {
      "cell_type": "code",
      "metadata": {
        "id": "xT6dFyszzanj",
        "colab": {
          "base_uri": "https://localhost:8080/",
          "height": 195
        },
        "outputId": "6fc09bc1-46ad-4c5f-82f0-1bc6ece04c55"
      },
      "source": [
        "# What was the most often streamed song in the entire world?\n",
        "data.groupby(['Track Name', 'Artist'])['Streams'].sum().reset_index().sort_values(by='Streams',ascending=False).head()"
      ],
      "execution_count": null,
      "outputs": []
    },
    {
      "cell_type": "code",
      "metadata": {
        "id": "7XII4xjhzanj",
        "colab": {
          "base_uri": "https://localhost:8080/",
          "height": 402
        },
        "outputId": "d25cea0a-b4a3-48ff-8a42-9928d39b9da4"
      },
      "source": [
        "# Now it looks like Despacito of Luis Fonsi was less popular than Shape of You of Ed Sheeran\n",
        "# Give all the different versions in the dataset of the song Despacito\n",
        "data[(data['Track Name'].str.startswith('despacito'))]"
      ],
      "execution_count": null,
      "outputs": []
    },
    {
      "cell_type": "code",
      "metadata": {
        "id": "c3uPeh8Dzank",
        "colab": {
          "base_uri": "https://localhost:8080/"
        },
        "outputId": "da275724-5011-408c-cd18-041c6397b213"
      },
      "source": [
        "# How many times was Despacito streamed over the entire world if you make no difference between the different versions?\n",
        "data[(data['Track Name'].str.startswith('despacito'))]['Streams'].sum()"
      ],
      "execution_count": null,
      "outputs": []
    },
    {
      "cell_type": "code",
      "metadata": {
        "id": "vYkF5J0kzank",
        "colab": {
          "base_uri": "https://localhost:8080/",
          "height": 166
        },
        "outputId": "7e146ff1-5906-4b3d-a53b-28062b96c8cf"
      },
      "source": [
        "# What was the most popular of the 4 different versions of despacito?\n",
        "result = data[(data['Track Name'].str.startswith('despacito'))]\n",
        "result = result.groupby('Track Name')['Streams'].sum().reset_index().sort_values(by='Streams',ascending=False)\n",
        "result.head()\n"
      ],
      "execution_count": null,
      "outputs": []
    },
    {
      "cell_type": "code",
      "metadata": {
        "id": "NSTRKQtizank",
        "colab": {
          "base_uri": "https://localhost:8080/",
          "height": 47
        },
        "outputId": "c6dda2ba-0c90-4762-9987-7c3c001a172e"
      },
      "source": [
        "# Is the version of despacito with Justin Bieber also available in the dataset?\n",
        "data[(data['Track Name'].str.startswith('despacito')) & (data['Artist'] == 'justin bieber')]"
      ],
      "execution_count": null,
      "outputs": []
    },
    {
      "cell_type": "code",
      "metadata": {
        "id": "X7iS5WH6zank",
        "colab": {
          "base_uri": "https://localhost:8080/",
          "height": 195
        },
        "outputId": "82326c1a-b52f-4c7c-9ca1-8c23bea86841"
      },
      "source": [
        "# Give a list of songs that were only streamed in Belgium\n",
        "result = data.groupby('Track Name')['Region'].unique().reset_index()\n",
        "result['Region'] = result['Region'].map(', '.join)\n",
        "result[result['Region'] == 'be'].head()\n"
      ],
      "execution_count": null,
      "outputs": []
    },
    {
      "cell_type": "code",
      "metadata": {
        "id": "8W-0U0rezank",
        "colab": {
          "base_uri": "https://localhost:8080/",
          "height": 431
        },
        "outputId": "b4f94cb1-82cc-4c7e-bfbf-8d6a18636a12"
      },
      "source": [
        "# Show the christmas songs that are in the dataset (i.e. the Track Name contains the word christmas)\n",
        "data[(data['Track Name'].str.contains('christmas'))].groupby(['Track Name', 'Artist']).count()"
      ],
      "execution_count": null,
      "outputs": []
    },
    {
      "cell_type": "code",
      "metadata": {
        "id": "SsM3Ymluzanl",
        "colab": {
          "base_uri": "https://localhost:8080/",
          "height": 47
        },
        "outputId": "48138740-ddcd-444e-bcc9-2f969dffe0d4"
      },
      "source": [
        "# Was 'all i want for christmas is you' streamed at all during july and august?\n",
        "data[((data['Date'].str[5:7] == '07') | (data['Date'].str[5:7] == '08')) & (data['Track Name'] == 'all i want for christmas is you')]"
      ],
      "execution_count": null,
      "outputs": []
    },
    {
      "cell_type": "code",
      "metadata": {
        "id": "Pt77VL3Lzanl",
        "colab": {
          "base_uri": "https://localhost:8080/",
          "height": 35
        },
        "outputId": "8e145261-3540-4fcb-add2-9cfcaf8e7546"
      },
      "source": [
        "# On which day was 'all i want for christmas is you' streamed for the first time after the summer (i.e. august)?\n",
        "data[(data['Date'].str[5:7] > '08') & (data['Track Name'] == 'all i want for christmas is you')]['Date'].min()"
      ],
      "execution_count": null,
      "outputs": []
    },
    {
      "cell_type": "code",
      "metadata": {
        "id": "XXHrxrYSzanl",
        "colab": {
          "base_uri": "https://localhost:8080/",
          "height": 1000
        },
        "outputId": "b766f9d3-2c7b-4703-80e7-733c82fe205a"
      },
      "source": [
        "# How did the songs of Ed Sheeran perform in 2017 in Belgium on each day: give for each track the number of days it was streamed in belgium.\n",
        "data[(data['Region'] == 'be') & (data['Artist'] == 'ed sheeran')].groupby('Track Name')['Date'].count().reset_index().sort_values(by = 'Date', ascending=False)"
      ],
      "execution_count": null,
      "outputs": []
    },
    {
      "cell_type": "code",
      "metadata": {
        "id": "XeRF9ud8zanm",
        "colab": {
          "base_uri": "https://localhost:8080/"
        },
        "outputId": "eb90cea1-7ed7-417b-aef0-a4aa66d657a5"
      },
      "source": [
        "# Give the artists that have more than one song on the Top 100 Songs List in Belgium\n",
        "result = data[(data['Region'] == 'be') & (data['Position'] <= 100)].groupby('Artist')['Track Name'].describe()\n",
        "result[result['unique'] >= 2]['unique'].head()\n"
      ],
      "execution_count": null,
      "outputs": []
    },
    {
      "cell_type": "code",
      "metadata": {
        "id": "UU6hcQhhzanm",
        "colab": {
          "base_uri": "https://localhost:8080/",
          "height": 693
        },
        "outputId": "8fa35f2a-dee9-4a8b-bd90-aa15901f398a"
      },
      "source": [
        "# Create a new dataframe plotData that contains the Date and Streams of despacito in belgium\n",
        "# Transform the column Date to_datetime\n",
        "# Add a new column Week to plotData that contains the week (use .dt.week)\n",
        "# Drop the column Date because it's of no use anymore\n",
        "# Calculate the average number of Streams per week. Divide the result by 1000 (to get smaller numbers) \n",
        "# and transform the result to an integer\n",
        "\n",
        "plotData = data[(data['Track Name'].str.startswith('despacito')) & (data['Region'] == 'be')][['Date', 'Streams']]\n",
        "plotData['Date'] = pd.to_datetime(plotData['Date'])\n",
        "plotData['Week'] = plotData['Date'].dt.week\n",
        "plotData = plotData.drop('Date', axis = 1)\n",
        "plotData = plotData.groupby('Week')['Streams'].mean().reset_index()\n",
        "plotData['Streams'] /= 1000\n",
        "plotData['Streams'] = plotData['Streams'].astype(int)\n",
        "plotData.head(20)\n"
      ],
      "execution_count": null,
      "outputs": []
    },
    {
      "cell_type": "code",
      "metadata": {
        "id": "yNmErmQizanm",
        "colab": {
          "base_uri": "https://localhost:8080/",
          "height": 279
        },
        "outputId": "0ae1a3bf-c916-4e3d-ca57-f8faa1f151b5"
      },
      "source": [
        "# Plot the resulting data\n",
        "\n",
        "# imports for plotting\n",
        "\n",
        "import matplotlib\n",
        "matplotlib.use('agg')\n",
        "import matplotlib.pyplot as plt\n",
        "\n",
        "%matplotlib inline\n",
        "\n",
        "plt.scatter(plotData['Week'], plotData['Streams'])\n",
        "plt.xlabel('Week')\n",
        "plt.ylabel('Streams (x 1000)')\n",
        "plt.show()\n"
      ],
      "execution_count": null,
      "outputs": []
    },
    {
      "cell_type": "code",
      "metadata": {
        "id": "zk-gw7-Tzanm",
        "colab": {
          "base_uri": "https://localhost:8080/",
          "height": 195
        },
        "outputId": "a8aa1c6d-151a-47f3-c88d-1aa42d59e763"
      },
      "source": [
        "# Create a new dataframe extra that contains the most often streamed Track Name's for each month \n",
        "# for each of the following regions: au, be, de, fr, gb, it, nl\n",
        "# Transform the column Date to_datetime\n",
        "# Add a new column Week to plotData that contains the week (use .dt.week)\n",
        "# Drop the column Date because it's of no use anymore\n",
        "\n",
        "extra = data[data['Region'].isin(['au', 'be', 'de', 'fr', 'gb', 'it', 'nl'])][['Region','Date', 'Streams','Track Name']]\n",
        "extra['Date'] = pd.to_datetime(extra['Date'])\n",
        "extra['Month'] = extra['Date'].dt.month \n",
        "extra.drop('Date', axis = 1)\n",
        "extra = extra.groupby(['Region','Month','Track Name'])['Streams'].sum().reset_index().sort_values(by='Streams',ascending=False)\n",
        "extra.head()"
      ],
      "execution_count": null,
      "outputs": []
    },
    {
      "cell_type": "code",
      "metadata": {
        "id": "syvMQn00zanm",
        "colab": {
          "base_uri": "https://localhost:8080/",
          "height": 432
        },
        "outputId": "647e37fd-ce2f-49f5-fd64-0865a71b211b"
      },
      "source": [
        "# Create a new dataframe extra2 based on the dataframe extra that contains all information about the 4 versions of despacito\n",
        "# Create a pivot_table that shows the total number of streams of the 4 versions of despacito \n",
        "# for each region (au, be, de, fr, gb, it, nl) for each month\n",
        "\n",
        "extra2 = extra[extra['Track Name'].str.startswith('despacito')]\n",
        "pd.pivot_table(extra2, values='Streams', index=['Month'],columns=['Region'], aggfunc='sum').fillna(0)\n"
      ],
      "execution_count": null,
      "outputs": []
    },
    {
      "cell_type": "code",
      "metadata": {
        "id": "zsjhcIEZzann",
        "colab": {
          "base_uri": "https://localhost:8080/",
          "height": 195
        },
        "outputId": "dbcc8088-978e-457a-a647-c85c74c0b27a"
      },
      "source": [
        "# Create a new dataframe extra3 based on the dataframe extra that contains the most popular Track Name\n",
        "# for each region (au, be, de, fr, gb, it, nl) for each month\n",
        "\n",
        "extra3 = extra.drop('Streams', axis = 1)\n",
        "extra3 = extra3.drop_duplicates(['Region','Month'], keep='first')\n",
        "extra3 = extra.sort_values(by=['Region','Month'], ascending=True)\n",
        "extra3.head()\n"
      ],
      "execution_count": null,
      "outputs": []
    },
    {
      "cell_type": "code",
      "metadata": {
        "id": "CcBVoS6vzann",
        "colab": {
          "base_uri": "https://localhost:8080/",
          "height": 195
        },
        "outputId": "f01a9827-8ffd-4d55-c077-3a655d31978b"
      },
      "source": [
        "# Create a new dataframe extra4 based on the dataframe data that only contains the Track Name's\n",
        "# Make sure there are no duplicates for the Track Name's\n",
        "\n",
        "extra4 = data[['Track Name']]\n",
        "extra4 = extra4.drop_duplicates(keep='first')\n",
        "extra4.head()\n"
      ],
      "execution_count": null,
      "outputs": []
    },
    {
      "cell_type": "code",
      "metadata": {
        "colab": {
          "base_uri": "https://localhost:8080/"
        },
        "id": "Ckh5Pj35-6bo",
        "outputId": "3989dcd9-5703-4821-d333-447f22e952e3"
      },
      "source": [
        "pip install langdetect"
      ],
      "execution_count": null,
      "outputs": []
    },
    {
      "cell_type": "code",
      "metadata": {
        "collapsed": true,
        "id": "s87X4nJ2zann"
      },
      "source": [
        "# Detect the language for each Track Name in the dataframe extra4\n",
        "# You have to use try - except otherwise you can get the LangDetectException: No features in text.\n",
        "# for weird titles like #1111, because he can't decide on the language\n",
        "\n",
        "import nltk\n",
        "from langdetect import detect\n",
        "\n",
        "def detect_language(text):\n",
        "    try:\n",
        "        return detect(text)\n",
        "    except:\n",
        "        return 'NoLang'\n",
        "\n",
        "extra4['lang'] = extra4['Track Name'].map(detect_language)"
      ],
      "execution_count": null,
      "outputs": []
    },
    {
      "cell_type": "code",
      "metadata": {
        "id": "Rm5sLj7Ezann",
        "colab": {
          "base_uri": "https://localhost:8080/",
          "height": 195
        },
        "outputId": "aec320ef-bdcb-4a94-dfcb-c30ff0abc882"
      },
      "source": [
        "# We will use only the english Track Name's\n",
        "\n",
        "extra4 = extra4[extra4['lang'] == 'en']\n",
        "extra4.head()\n"
      ],
      "execution_count": null,
      "outputs": []
    },
    {
      "cell_type": "code",
      "metadata": {
        "id": "RS2VAr3Fzano",
        "colab": {
          "base_uri": "https://localhost:8080/",
          "height": 195
        },
        "outputId": "03f0e495-52db-46e0-af0c-91dc0ae83586"
      },
      "source": [
        "# Create a new dataframe extra5 based on the dataframe data that contains the total number of streams per Track Name\n",
        "# and per artist\n",
        "extra5 = data.groupby(['Track Name', 'Artist'])['Streams'].sum().reset_index()\n",
        "extra5.head()\n"
      ],
      "execution_count": null,
      "outputs": []
    },
    {
      "cell_type": "code",
      "metadata": {
        "id": "zgn6SHsKzano",
        "colab": {
          "base_uri": "https://localhost:8080/",
          "height": 350
        },
        "outputId": "41dfd175-6b30-4385-b534-c2a00148927d"
      },
      "source": [
        "# Read the file featuresdf.csv into the dataframe features\n",
        "# Show the few first records\n",
        "features = pd.read_csv('/content/gdrive/My Drive/featuresdf.csv')\n",
        "features.head()\n"
      ],
      "execution_count": null,
      "outputs": []
    },
    {
      "cell_type": "code",
      "metadata": {
        "id": "e0jpd-Y8zano",
        "colab": {
          "base_uri": "https://localhost:8080/",
          "height": 229
        },
        "outputId": "737a3e2c-0f7d-4f04-e07f-45f5e3313fbd"
      },
      "source": [
        "# Drop the column id\n",
        "features = features.drop('id', axis = 1)\n",
        "features.head()\n"
      ],
      "execution_count": null,
      "outputs": []
    },
    {
      "cell_type": "code",
      "metadata": {
        "id": "F2aupk_-zano",
        "colab": {
          "base_uri": "https://localhost:8080/",
          "height": 229
        },
        "outputId": "947fe0ba-e2b4-4afc-9a65-e5de4bc1dbfc"
      },
      "source": [
        "# Transform the columns name and artists to lower case\n",
        "features['name'] = features['name'].str.lower()\n",
        "features['artists'] = features['artists'].str.lower()\n",
        "features.head()\n"
      ],
      "execution_count": null,
      "outputs": []
    },
    {
      "cell_type": "code",
      "metadata": {
        "id": "WQzZBYGezano",
        "colab": {
          "base_uri": "https://localhost:8080/",
          "height": 366
        },
        "outputId": "4805a241-531f-4a0d-86ae-1814a18911a1"
      },
      "source": [
        "# Merge the dataframe features and extra5 into the dataframe new_df\n",
        "# Show the few first records\n",
        "new_df = pd.merge(features, extra5,  how='left', left_on=['name','artists'], right_on = ['Track Name','Artist'])\n",
        "new_df.head()\n"
      ],
      "execution_count": null,
      "outputs": []
    },
    {
      "cell_type": "code",
      "metadata": {
        "collapsed": true,
        "id": "x1CpmdDpzanp",
        "colab": {
          "base_uri": "https://localhost:8080/",
          "height": 366
        },
        "outputId": "71ab59d5-1020-4601-c46c-e315235b9f4d"
      },
      "source": [
        "# Divide the number of streams by 1000000 to get smaller numbers\n",
        "new_df['Streams'] /= 1000000\n",
        "new_df.head()"
      ],
      "execution_count": null,
      "outputs": []
    },
    {
      "cell_type": "code",
      "metadata": {
        "collapsed": true,
        "id": "E4mezvSbzanp"
      },
      "source": [
        "# We want to create a linear regression model to try to predict the streams \n",
        "# Drop the columns that aren't necessary any more\n",
        "new_df = new_df.drop(['Track Name', 'Artist', 'name', 'artists'], axis = 1)"
      ],
      "execution_count": null,
      "outputs": []
    },
    {
      "cell_type": "code",
      "metadata": {
        "id": "umm8y1mGC1qE"
      },
      "source": [
        "# remove records with empty values\r\n",
        "new_df = new_df.dropna()"
      ],
      "execution_count": null,
      "outputs": []
    },
    {
      "cell_type": "code",
      "metadata": {
        "collapsed": true,
        "id": "hnRTtZuXzanp"
      },
      "source": [
        "# Create the training and test data\n",
        "from sklearn.model_selection import train_test_split\n",
        "X = new_df.drop('Streams',axis=1)\n",
        "y = new_df['Streams']\n",
        "X_train, X_test, y_train, y_test = train_test_split(X,y,test_size=0.30)\n"
      ],
      "execution_count": null,
      "outputs": []
    },
    {
      "cell_type": "code",
      "metadata": {
        "collapsed": true,
        "id": "JryMPR7_zanp"
      },
      "source": [
        "from sklearn import metrics\r\n",
        "from sklearn.preprocessing import PolynomialFeatures\r\n",
        "from sklearn.linear_model import LinearRegression\r\n",
        "from sklearn.pipeline import make_pipeline\r\n"
      ],
      "execution_count": null,
      "outputs": []
    },
    {
      "cell_type": "code",
      "metadata": {
        "id": "EyiLxSOizanp",
        "colab": {
          "base_uri": "https://localhost:8080/"
        },
        "outputId": "8d010813-8ead-4031-a667-4e9f530e1d51"
      },
      "source": [
        "poly = PolynomialFeatures(degree=3)\r\n",
        "X_train_transform = poly.fit_transform(X_train)\r\n",
        "X_test_transform = poly.fit_transform(X_test)\r\n",
        "\r\n",
        "model = LinearRegression()\r\n",
        "model.fit(X_train_transform,y_train)\r\n"
      ],
      "execution_count": null,
      "outputs": []
    },
    {
      "cell_type": "code",
      "metadata": {
        "id": "bqYxcH8hzanp",
        "colab": {
          "base_uri": "https://localhost:8080/"
        },
        "outputId": "c998f0f1-d925-4785-a637-462032d72163"
      },
      "source": [
        "y_predict = model.predict(X_test_transform)\r\n",
        "\r\n",
        "MAE = metrics.mean_absolute_error(y_test,y_predict)\r\n",
        "print('Mean Absolute Error: '+ str(MAE))\r\n",
        "print()\r\n",
        "\r\n",
        "MSE = metrics.mean_squared_error(y_test,y_predict)\r\n",
        "print('Mean Squared Error: '+ str(MSE))\r\n",
        "print()\r\n",
        "\r\n",
        "RMSE = np.sqrt(metrics.mean_squared_error(y_test,y_predict))\r\n",
        "print('Root Mean Squared Error: '+ str(RMSE))\r\n",
        "print()\r\n",
        "\r\n",
        "r2 = metrics.r2_score(y_test,y_predict)\r\n",
        "print('R square: ' + str(r2))  \r\n",
        "print()\r\n"
      ],
      "execution_count": null,
      "outputs": []
    },
    {
      "cell_type": "code",
      "metadata": {
        "id": "N9z8_Qtkzanq"
      },
      "source": [
        "# Create a RandomForestRegressor to predict the number of Streams\n",
        "# What are the most important features to predict if a song will become a hit?\n",
        "\n",
        "from sklearn.metrics import mean_absolute_error\n",
        "from sklearn.metrics import r2_score\n",
        "from sklearn.ensemble import RandomForestRegressor\n"
      ],
      "execution_count": null,
      "outputs": []
    },
    {
      "cell_type": "code",
      "metadata": {
        "id": "Yr616A3czanq",
        "colab": {
          "base_uri": "https://localhost:8080/"
        },
        "outputId": "7ba1b56f-9d11-48b4-9176-61dc9bba72ea"
      },
      "source": [
        "model = RandomForestRegressor(n_estimators=300)\r\n",
        "model.fit(X_train,y_train)\r\n",
        "y_predict = model.predict(X_test)\r\n",
        "\r\n",
        "mae = mean_absolute_error(y_test,y_predict)\r\n",
        "\r\n",
        "print('Mean Absolute Error: '+ str(MAE))\r\n",
        "r2 = r2_score(y_test,y_predict)\r\n",
        "print('R square: ' + str(r2))  \r\n"
      ],
      "execution_count": null,
      "outputs": []
    },
    {
      "cell_type": "code",
      "metadata": {
        "id": "ZtKQ0nk8zanq",
        "colab": {
          "base_uri": "https://localhost:8080/"
        },
        "outputId": "bdc44271-71ab-4f22-b928-95f72d25beae"
      },
      "source": [
        "print(X_train.columns)\r\n",
        "print(model.feature_importances_)\r\n"
      ],
      "execution_count": null,
      "outputs": []
    },
    {
      "cell_type": "code",
      "metadata": {
        "collapsed": true,
        "id": "956_iE7qzanq"
      },
      "source": [],
      "execution_count": null,
      "outputs": []
    }
  ]
}