{
 "cells": [
  {
   "cell_type": "markdown",
   "metadata": {},
   "source": [
    "## Naïve Bayes classification with Scikit-Learn\n",
    "In this example, we start by analyzing what kind of people were likely to survive the Titanic. In particular, we will apply the tools of machine learning to predict which passengers survived the tragedy.  \n",
    "  \n",
    "We can import the csv file that represents the data and turn it into a dataframe. \n",
    "### Data exploration"
   ]
  },
  {
   "cell_type": "code",
   "execution_count": 3,
   "metadata": {},
   "outputs": [
    {
     "data": {
      "text/html": [
       "<div>\n",
       "<style scoped>\n",
       "    .dataframe tbody tr th:only-of-type {\n",
       "        vertical-align: middle;\n",
       "    }\n",
       "\n",
       "    .dataframe tbody tr th {\n",
       "        vertical-align: top;\n",
       "    }\n",
       "\n",
       "    .dataframe thead th {\n",
       "        text-align: right;\n",
       "    }\n",
       "</style>\n",
       "<table border=\"1\" class=\"dataframe\">\n",
       "  <thead>\n",
       "    <tr style=\"text-align: right;\">\n",
       "      <th></th>\n",
       "      <th>PassengerId</th>\n",
       "      <th>Survived</th>\n",
       "      <th>Pclass</th>\n",
       "      <th>Name</th>\n",
       "      <th>Sex</th>\n",
       "      <th>Age</th>\n",
       "      <th>SibSp</th>\n",
       "      <th>Parch</th>\n",
       "      <th>Ticket</th>\n",
       "      <th>Fare</th>\n",
       "      <th>Cabin</th>\n",
       "      <th>Embarked</th>\n",
       "    </tr>\n",
       "  </thead>\n",
       "  <tbody>\n",
       "    <tr>\n",
       "      <th>0</th>\n",
       "      <td>1</td>\n",
       "      <td>0</td>\n",
       "      <td>3</td>\n",
       "      <td>Braund, Mr. Owen Harris</td>\n",
       "      <td>male</td>\n",
       "      <td>22.0</td>\n",
       "      <td>1</td>\n",
       "      <td>0</td>\n",
       "      <td>A/5 21171</td>\n",
       "      <td>7.2500</td>\n",
       "      <td>NaN</td>\n",
       "      <td>S</td>\n",
       "    </tr>\n",
       "    <tr>\n",
       "      <th>1</th>\n",
       "      <td>2</td>\n",
       "      <td>1</td>\n",
       "      <td>1</td>\n",
       "      <td>Cumings, Mrs. John Bradley (Florence Briggs Th...</td>\n",
       "      <td>female</td>\n",
       "      <td>38.0</td>\n",
       "      <td>1</td>\n",
       "      <td>0</td>\n",
       "      <td>PC 17599</td>\n",
       "      <td>71.2833</td>\n",
       "      <td>C85</td>\n",
       "      <td>C</td>\n",
       "    </tr>\n",
       "    <tr>\n",
       "      <th>2</th>\n",
       "      <td>3</td>\n",
       "      <td>1</td>\n",
       "      <td>3</td>\n",
       "      <td>Heikkinen, Miss. Laina</td>\n",
       "      <td>female</td>\n",
       "      <td>26.0</td>\n",
       "      <td>0</td>\n",
       "      <td>0</td>\n",
       "      <td>STON/O2. 3101282</td>\n",
       "      <td>7.9250</td>\n",
       "      <td>NaN</td>\n",
       "      <td>S</td>\n",
       "    </tr>\n",
       "    <tr>\n",
       "      <th>3</th>\n",
       "      <td>4</td>\n",
       "      <td>1</td>\n",
       "      <td>1</td>\n",
       "      <td>Futrelle, Mrs. Jacques Heath (Lily May Peel)</td>\n",
       "      <td>female</td>\n",
       "      <td>35.0</td>\n",
       "      <td>1</td>\n",
       "      <td>0</td>\n",
       "      <td>113803</td>\n",
       "      <td>53.1000</td>\n",
       "      <td>C123</td>\n",
       "      <td>S</td>\n",
       "    </tr>\n",
       "    <tr>\n",
       "      <th>4</th>\n",
       "      <td>5</td>\n",
       "      <td>0</td>\n",
       "      <td>3</td>\n",
       "      <td>Allen, Mr. William Henry</td>\n",
       "      <td>male</td>\n",
       "      <td>35.0</td>\n",
       "      <td>0</td>\n",
       "      <td>0</td>\n",
       "      <td>373450</td>\n",
       "      <td>8.0500</td>\n",
       "      <td>NaN</td>\n",
       "      <td>S</td>\n",
       "    </tr>\n",
       "  </tbody>\n",
       "</table>\n",
       "</div>"
      ],
      "text/plain": [
       "   PassengerId  Survived  Pclass  \\\n",
       "0            1         0       3   \n",
       "1            2         1       1   \n",
       "2            3         1       3   \n",
       "3            4         1       1   \n",
       "4            5         0       3   \n",
       "\n",
       "                                                Name     Sex   Age  SibSp  \\\n",
       "0                            Braund, Mr. Owen Harris    male  22.0      1   \n",
       "1  Cumings, Mrs. John Bradley (Florence Briggs Th...  female  38.0      1   \n",
       "2                             Heikkinen, Miss. Laina  female  26.0      0   \n",
       "3       Futrelle, Mrs. Jacques Heath (Lily May Peel)  female  35.0      1   \n",
       "4                           Allen, Mr. William Henry    male  35.0      0   \n",
       "\n",
       "   Parch            Ticket     Fare Cabin Embarked  \n",
       "0      0         A/5 21171   7.2500   NaN        S  \n",
       "1      0          PC 17599  71.2833   C85        C  \n",
       "2      0  STON/O2. 3101282   7.9250   NaN        S  \n",
       "3      0            113803  53.1000  C123        S  \n",
       "4      0            373450   8.0500   NaN        S  "
      ]
     },
<<<<<<< HEAD
     "execution_count": 38,
=======
     "execution_count": 3,
>>>>>>> 438f71fa4789a2939535d4936d044d3b8ee29f1b
     "metadata": {},
     "output_type": "execute_result"
    }
   ],
   "source": [
    "# import the library \n",
    "import pandas as pd\n",
    "# read the data into a dataframe\n",
    "titanic = pd.read_csv('data/titanic.csv',sep=',')\n",
    "# show the first 5 lines\n",
    "titanic.head()"
   ]
  },
  {
   "cell_type": "markdown",
   "metadata": {},
   "source": [
    "Data from all kinds of sources can be turned into a Pandas DataFrame, even from a connection to a SQL database.  \n",
    "  \n",
    "The column _Survived_ is considered as the label or the class. Supervised learning classification techniques create a mathematical model, also called a **classifier**,  from a large set of labelled data and try to predict the label for unclassified data. In the case of the Titanic we could try to guess, based on what happened to a large number of passengers, whether female passenger X, who travelled in third class, was 32 years old, had no parents, two children and no siblings on board and who embarked in Southampton survived the disaster (supposing this information is unknown).  \n",
    "  \n",
    "Let’s check how many passengers in our dataset survived and how many didn’t. "
   ]
  },
  {
   "cell_type": "code",
<<<<<<< HEAD
   "execution_count": 39,
=======
   "execution_count": 4,
>>>>>>> 438f71fa4789a2939535d4936d044d3b8ee29f1b
   "metadata": {},
   "outputs": [
    {
     "data": {
      "text/html": [
       "<div>\n",
       "<style scoped>\n",
       "    .dataframe tbody tr th:only-of-type {\n",
       "        vertical-align: middle;\n",
       "    }\n",
       "\n",
       "    .dataframe tbody tr th {\n",
       "        vertical-align: top;\n",
       "    }\n",
       "\n",
       "    .dataframe thead th {\n",
       "        text-align: right;\n",
       "    }\n",
       "</style>\n",
       "<table border=\"1\" class=\"dataframe\">\n",
       "  <thead>\n",
       "    <tr style=\"text-align: right;\">\n",
       "      <th></th>\n",
       "      <th>PassengerId</th>\n",
       "      <th>Pclass</th>\n",
       "      <th>Name</th>\n",
       "      <th>Sex</th>\n",
       "      <th>Age</th>\n",
       "      <th>SibSp</th>\n",
       "      <th>Parch</th>\n",
       "      <th>Ticket</th>\n",
       "      <th>Fare</th>\n",
       "      <th>Cabin</th>\n",
       "      <th>Embarked</th>\n",
       "    </tr>\n",
       "    <tr>\n",
       "      <th>Survived</th>\n",
       "      <th></th>\n",
       "      <th></th>\n",
       "      <th></th>\n",
       "      <th></th>\n",
       "      <th></th>\n",
       "      <th></th>\n",
       "      <th></th>\n",
       "      <th></th>\n",
       "      <th></th>\n",
       "      <th></th>\n",
       "      <th></th>\n",
       "    </tr>\n",
       "  </thead>\n",
       "  <tbody>\n",
       "    <tr>\n",
       "      <th>0</th>\n",
       "      <td>549</td>\n",
       "      <td>549</td>\n",
       "      <td>549</td>\n",
       "      <td>549</td>\n",
       "      <td>424</td>\n",
       "      <td>549</td>\n",
       "      <td>549</td>\n",
       "      <td>549</td>\n",
       "      <td>549</td>\n",
       "      <td>68</td>\n",
       "      <td>549</td>\n",
       "    </tr>\n",
       "    <tr>\n",
       "      <th>1</th>\n",
       "      <td>342</td>\n",
       "      <td>342</td>\n",
       "      <td>342</td>\n",
       "      <td>342</td>\n",
       "      <td>290</td>\n",
       "      <td>342</td>\n",
       "      <td>342</td>\n",
       "      <td>342</td>\n",
       "      <td>342</td>\n",
       "      <td>136</td>\n",
       "      <td>340</td>\n",
       "    </tr>\n",
       "  </tbody>\n",
       "</table>\n",
       "</div>"
      ],
      "text/plain": [
       "          PassengerId  Pclass  Name  Sex  Age  SibSp  Parch  Ticket  Fare  \\\n",
       "Survived                                                                    \n",
       "0                 549     549   549  549  424    549    549     549   549   \n",
       "1                 342     342   342  342  290    342    342     342   342   \n",
       "\n",
       "          Cabin  Embarked  \n",
       "Survived                   \n",
       "0            68       549  \n",
       "1           136       340  "
      ]
     },
<<<<<<< HEAD
     "execution_count": 39,
=======
     "execution_count": 4,
>>>>>>> 438f71fa4789a2939535d4936d044d3b8ee29f1b
     "metadata": {},
     "output_type": "execute_result"
    }
   ],
   "source": [
    "# explore the data to estimate if we have enough (statistically relevant) data for both classes\n",
    "titanic.groupby('Survived').count()"
   ]
  },
  {
   "cell_type": "markdown",
   "metadata": {},
   "source": [
    "### Data preparation\n",
    "In each data mining case the raw data that comes in is not ready to process, but has to be prepared before it can be fed to the algorithm.\n",
    "#### Reducing the number of attributes\n",
    "Some attributes are clearly irrelevant for prediction of the label. In our case the name, the tickets and cabin numbers and the port of embarkation seem irrelevant. The ticket fare is directly related to the ticket class. We decide to ignore all these attributes. This process is called feature selection. It is often by far not so obvious as in this case.  Also pay attention for bias! Don’t let you own opinion play. "
   ]
  },
  {
   "cell_type": "code",
<<<<<<< HEAD
   "execution_count": 40,
=======
   "execution_count": 5,
>>>>>>> 438f71fa4789a2939535d4936d044d3b8ee29f1b
   "metadata": {
    "scrolled": true
   },
   "outputs": [
    {
     "data": {
      "text/html": [
       "<div>\n",
       "<style scoped>\n",
       "    .dataframe tbody tr th:only-of-type {\n",
       "        vertical-align: middle;\n",
       "    }\n",
       "\n",
       "    .dataframe tbody tr th {\n",
       "        vertical-align: top;\n",
       "    }\n",
       "\n",
       "    .dataframe thead th {\n",
       "        text-align: right;\n",
       "    }\n",
       "</style>\n",
       "<table border=\"1\" class=\"dataframe\">\n",
       "  <thead>\n",
       "    <tr style=\"text-align: right;\">\n",
       "      <th></th>\n",
       "      <th>Survived</th>\n",
       "      <th>Pclass</th>\n",
       "      <th>Sex</th>\n",
       "      <th>Age</th>\n",
       "      <th>SibSp</th>\n",
       "      <th>Parch</th>\n",
       "    </tr>\n",
       "  </thead>\n",
       "  <tbody>\n",
       "    <tr>\n",
       "      <th>0</th>\n",
       "      <td>0</td>\n",
       "      <td>3</td>\n",
       "      <td>male</td>\n",
       "      <td>22.0</td>\n",
       "      <td>1</td>\n",
       "      <td>0</td>\n",
       "    </tr>\n",
       "    <tr>\n",
       "      <th>1</th>\n",
       "      <td>1</td>\n",
       "      <td>1</td>\n",
       "      <td>female</td>\n",
       "      <td>38.0</td>\n",
       "      <td>1</td>\n",
       "      <td>0</td>\n",
       "    </tr>\n",
       "    <tr>\n",
       "      <th>2</th>\n",
       "      <td>1</td>\n",
       "      <td>3</td>\n",
       "      <td>female</td>\n",
       "      <td>26.0</td>\n",
       "      <td>0</td>\n",
       "      <td>0</td>\n",
       "    </tr>\n",
       "    <tr>\n",
       "      <th>3</th>\n",
       "      <td>1</td>\n",
       "      <td>1</td>\n",
       "      <td>female</td>\n",
       "      <td>35.0</td>\n",
       "      <td>1</td>\n",
       "      <td>0</td>\n",
       "    </tr>\n",
       "    <tr>\n",
       "      <th>4</th>\n",
       "      <td>0</td>\n",
       "      <td>3</td>\n",
       "      <td>male</td>\n",
       "      <td>35.0</td>\n",
       "      <td>0</td>\n",
       "      <td>0</td>\n",
       "    </tr>\n",
       "  </tbody>\n",
       "</table>\n",
       "</div>"
      ],
      "text/plain": [
       "   Survived  Pclass     Sex   Age  SibSp  Parch\n",
       "0         0       3    male  22.0      1      0\n",
       "1         1       1  female  38.0      1      0\n",
       "2         1       3  female  26.0      0      0\n",
       "3         1       1  female  35.0      1      0\n",
       "4         0       3    male  35.0      0      0"
      ]
     },
<<<<<<< HEAD
     "execution_count": 40,
=======
     "execution_count": 5,
>>>>>>> 438f71fa4789a2939535d4936d044d3b8ee29f1b
     "metadata": {},
     "output_type": "execute_result"
    }
   ],
   "source": [
    "# We drop clearly irrelevant attributes. Pay attention for bias! Don't let your own opinion play. \n",
    "titanic = titanic.drop(['PassengerId','Name','Ticket','Fare','Cabin','Embarked'],axis=1)\n",
    "titanic.head()"
   ]
  },
  {
   "cell_type": "markdown",
   "metadata": {},
   "source": [
    "#### Data cleaning\n",
    "In the dataset some necessary data might be missing or can be inconsistent with other data. In our example, as we see in the result of the groupby and count above, for some passengers the age is missing. Since we consider this feature as possibly important for survival we choose to delete these passengers from the dataset we use for training the model. \n",
    "Using Pandas dataframes we can easily drop those lines from the dataframe (dropna = drop if not available):"
   ]
  },
  {
   "cell_type": "code",
<<<<<<< HEAD
   "execution_count": 41,
=======
   "execution_count": 6,
>>>>>>> 438f71fa4789a2939535d4936d044d3b8ee29f1b
   "metadata": {
    "scrolled": true
   },
   "outputs": [
    {
     "name": "stdout",
     "output_type": "stream",
     "text": [
      "Before\n",
      "Survived    891\n",
      "Pclass      891\n",
      "Sex         891\n",
      "Age         714\n",
      "SibSp       891\n",
      "Parch       891\n",
      "dtype: int64\n",
      "\n",
      "After\n",
      "Survived    714\n",
      "Pclass      714\n",
      "Sex         714\n",
      "Age         714\n",
      "SibSp       714\n",
      "Parch       714\n",
      "dtype: int64\n"
     ]
    }
   ],
   "source": [
    "print('Before')\n",
    "print(titanic.count())\n",
    "print()\n",
    "\n",
    "# drop all lines that contain empty (null or NaN) values\n",
    "titanic = titanic.dropna()\n",
    "\n",
    "print('After')\n",
    "print(titanic.count())"
   ]
  },
  {
   "cell_type": "code",
<<<<<<< HEAD
   "execution_count": 42,
=======
   "execution_count": 7,
>>>>>>> 438f71fa4789a2939535d4936d044d3b8ee29f1b
   "metadata": {},
   "outputs": [
    {
     "data": {
      "text/html": [
       "<div>\n",
       "<style scoped>\n",
       "    .dataframe tbody tr th:only-of-type {\n",
       "        vertical-align: middle;\n",
       "    }\n",
       "\n",
       "    .dataframe tbody tr th {\n",
       "        vertical-align: top;\n",
       "    }\n",
       "\n",
       "    .dataframe thead th {\n",
       "        text-align: right;\n",
       "    }\n",
       "</style>\n",
       "<table border=\"1\" class=\"dataframe\">\n",
       "  <thead>\n",
       "    <tr style=\"text-align: right;\">\n",
       "      <th></th>\n",
       "      <th>Pclass</th>\n",
       "      <th>Sex</th>\n",
       "      <th>Age</th>\n",
       "      <th>SibSp</th>\n",
       "      <th>Parch</th>\n",
       "    </tr>\n",
       "    <tr>\n",
       "      <th>Survived</th>\n",
       "      <th></th>\n",
       "      <th></th>\n",
       "      <th></th>\n",
       "      <th></th>\n",
       "      <th></th>\n",
       "    </tr>\n",
       "  </thead>\n",
       "  <tbody>\n",
       "    <tr>\n",
       "      <th>0</th>\n",
       "      <td>424</td>\n",
       "      <td>424</td>\n",
       "      <td>424</td>\n",
       "      <td>424</td>\n",
       "      <td>424</td>\n",
       "    </tr>\n",
       "    <tr>\n",
       "      <th>1</th>\n",
       "      <td>290</td>\n",
       "      <td>290</td>\n",
       "      <td>290</td>\n",
       "      <td>290</td>\n",
       "      <td>290</td>\n",
       "    </tr>\n",
       "  </tbody>\n",
       "</table>\n",
       "</div>"
      ],
      "text/plain": [
       "          Pclass  Sex  Age  SibSp  Parch\n",
       "Survived                                \n",
       "0            424  424  424    424    424\n",
       "1            290  290  290    290    290"
      ]
     },
<<<<<<< HEAD
     "execution_count": 42,
=======
     "execution_count": 7,
>>>>>>> 438f71fa4789a2939535d4936d044d3b8ee29f1b
     "metadata": {},
     "output_type": "execute_result"
    }
   ],
   "source": [
    "# see what remains\n",
    "titanic.groupby('Survived').count()"
   ]
  },
  {
   "cell_type": "markdown",
   "metadata": {},
   "source": [
    "#### Data type conversion\n",
    "Some algorithms only work with numeric data. This means we have to convert data like male/female to 1/2. We will later see that this is not the optimal way since this approach can confuse the algorithm because apparently \"female equals twice male\", which doesn't make sense."
   ]
  },
  {
   "cell_type": "code",
<<<<<<< HEAD
   "execution_count": 43,
=======
   "execution_count": 8,
>>>>>>> 438f71fa4789a2939535d4936d044d3b8ee29f1b
   "metadata": {
    "scrolled": true
   },
   "outputs": [
    {
     "data": {
      "text/html": [
       "<div>\n",
       "<style scoped>\n",
       "    .dataframe tbody tr th:only-of-type {\n",
       "        vertical-align: middle;\n",
       "    }\n",
       "\n",
       "    .dataframe tbody tr th {\n",
       "        vertical-align: top;\n",
       "    }\n",
       "\n",
       "    .dataframe thead th {\n",
       "        text-align: right;\n",
       "    }\n",
       "</style>\n",
       "<table border=\"1\" class=\"dataframe\">\n",
       "  <thead>\n",
       "    <tr style=\"text-align: right;\">\n",
       "      <th></th>\n",
       "      <th>Survived</th>\n",
       "      <th>Pclass</th>\n",
       "      <th>Sex</th>\n",
       "      <th>Age</th>\n",
       "      <th>SibSp</th>\n",
       "      <th>Parch</th>\n",
       "    </tr>\n",
       "  </thead>\n",
       "  <tbody>\n",
       "    <tr>\n",
       "      <th>0</th>\n",
       "      <td>0</td>\n",
       "      <td>3</td>\n",
       "      <td>1</td>\n",
       "      <td>22.0</td>\n",
       "      <td>1</td>\n",
       "      <td>0</td>\n",
       "    </tr>\n",
       "    <tr>\n",
       "      <th>1</th>\n",
       "      <td>1</td>\n",
       "      <td>1</td>\n",
       "      <td>2</td>\n",
       "      <td>38.0</td>\n",
       "      <td>1</td>\n",
       "      <td>0</td>\n",
       "    </tr>\n",
       "    <tr>\n",
       "      <th>2</th>\n",
       "      <td>1</td>\n",
       "      <td>3</td>\n",
       "      <td>2</td>\n",
       "      <td>26.0</td>\n",
       "      <td>0</td>\n",
       "      <td>0</td>\n",
       "    </tr>\n",
       "    <tr>\n",
       "      <th>3</th>\n",
       "      <td>1</td>\n",
       "      <td>1</td>\n",
       "      <td>2</td>\n",
       "      <td>35.0</td>\n",
       "      <td>1</td>\n",
       "      <td>0</td>\n",
       "    </tr>\n",
       "    <tr>\n",
       "      <th>4</th>\n",
       "      <td>0</td>\n",
       "      <td>3</td>\n",
       "      <td>1</td>\n",
       "      <td>35.0</td>\n",
       "      <td>0</td>\n",
       "      <td>0</td>\n",
       "    </tr>\n",
       "  </tbody>\n",
       "</table>\n",
       "</div>"
      ],
      "text/plain": [
       "   Survived  Pclass  Sex   Age  SibSp  Parch\n",
       "0         0       3    1  22.0      1      0\n",
       "1         1       1    2  38.0      1      0\n",
       "2         1       3    2  26.0      0      0\n",
       "3         1       1    2  35.0      1      0\n",
       "4         0       3    1  35.0      0      0"
      ]
     },
<<<<<<< HEAD
     "execution_count": 43,
=======
     "execution_count": 8,
>>>>>>> 438f71fa4789a2939535d4936d044d3b8ee29f1b
     "metadata": {},
     "output_type": "execute_result"
    }
   ],
   "source": [
    "# convert string to numeric for input of machine learning algorithms\n",
    "# numpy is a Python library that offers lots of data manipulation functions\n",
    "import numpy as np\n",
    "titanic['Sex'] = np.where(titanic['Sex']=='male', 1, 2)\n",
    "titanic.head()"
   ]
  },
  {
   "cell_type": "markdown",
   "metadata": {},
   "source": [
    "#### Define feature matrix, label column and split the data set in a training set and a test set"
   ]
  },
  {
   "cell_type": "code",
<<<<<<< HEAD
   "execution_count": 44,
=======
   "execution_count": 9,
>>>>>>> 438f71fa4789a2939535d4936d044d3b8ee29f1b
   "metadata": {},
   "outputs": [],
   "source": [
    "# define feature matrix and label column\n",
    "import sklearn\n",
    "from sklearn.model_selection import train_test_split\n",
    "X = titanic.drop('Survived',axis=1)\n",
    "y = titanic['Survived']\n",
    "\n",
    "# split the data set in a training set and a test set\n",
    "X_train, X_test, y_train, y_test = train_test_split(X,y,test_size=0.30)"
   ]
  },
  {
   "cell_type": "code",
<<<<<<< HEAD
   "execution_count": 45,
=======
   "execution_count": 10,
>>>>>>> 438f71fa4789a2939535d4936d044d3b8ee29f1b
   "metadata": {},
   "outputs": [
    {
     "data": {
      "text/plain": [
       "Pclass    499\n",
       "Sex       499\n",
       "Age       499\n",
       "SibSp     499\n",
       "Parch     499\n",
       "dtype: int64"
      ]
     },
<<<<<<< HEAD
     "execution_count": 45,
=======
     "execution_count": 10,
>>>>>>> 438f71fa4789a2939535d4936d044d3b8ee29f1b
     "metadata": {},
     "output_type": "execute_result"
    }
   ],
   "source": [
    "X_train.count()"
   ]
  },
  {
   "cell_type": "code",
<<<<<<< HEAD
   "execution_count": 46,
=======
   "execution_count": 11,
>>>>>>> 438f71fa4789a2939535d4936d044d3b8ee29f1b
   "metadata": {
    "scrolled": true
   },
   "outputs": [
    {
     "data": {
      "text/plain": [
       "Pclass    215\n",
       "Sex       215\n",
       "Age       215\n",
       "SibSp     215\n",
       "Parch     215\n",
       "dtype: int64"
      ]
     },
<<<<<<< HEAD
     "execution_count": 46,
=======
     "execution_count": 11,
>>>>>>> 438f71fa4789a2939535d4936d044d3b8ee29f1b
     "metadata": {},
     "output_type": "execute_result"
    }
   ],
   "source": [
    "X_test.count()"
   ]
  },
  {
   "cell_type": "markdown",
   "metadata": {},
   "source": [
    "#### Choose the model and fit the data to the model"
   ]
  },
  {
   "cell_type": "code",
<<<<<<< HEAD
   "execution_count": 47,
=======
   "execution_count": 12,
>>>>>>> 438f71fa4789a2939535d4936d044d3b8ee29f1b
   "metadata": {},
   "outputs": [
    {
     "data": {
      "text/plain": [
       "GaussianNB(priors=None, var_smoothing=1e-09)"
      ]
     },
<<<<<<< HEAD
     "execution_count": 47,
=======
     "execution_count": 12,
>>>>>>> 438f71fa4789a2939535d4936d044d3b8ee29f1b
     "metadata": {},
     "output_type": "execute_result"
    }
   ],
   "source": [
    "# assume values are Gaussian distributed, so choose Gaussian Naive Bayes\n",
    "from sklearn.naive_bayes import GaussianNB\n",
    "model = GaussianNB()\n",
    "\n",
    "# here the training happens: the model is constructed based ons the training data\n",
    "model.fit(X_train,y_train)"
   ]
  },
  {
   "cell_type": "markdown",
   "metadata": {},
   "source": [
    "#### Estimate the predictive accuracy of the classifier\n",
    "No the model is calculated and we are ready to use it to predict the labels (Survived/Not survived) of the test set and thus calculate the predictive accuracy.  \n",
    "  \n",
    "To estimate the accuracy of the model we simply apply the model to the test data we have kept apart and compare the labels we have kept apart with the predicted labels using the function accuracy_score from the sklearn.cross_validation library. "
   ]
  },
  {
   "cell_type": "code",
<<<<<<< HEAD
   "execution_count": 48,
=======
   "execution_count": 13,
>>>>>>> 438f71fa4789a2939535d4936d044d3b8ee29f1b
   "metadata": {},
   "outputs": [],
   "source": [
    "# use the model to predict the label for the test data\n",
    "y_test2 = model.predict(X_test)"
   ]
  },
  {
   "cell_type": "code",
<<<<<<< HEAD
   "execution_count": 49,
=======
   "execution_count": 14,
>>>>>>> 438f71fa4789a2939535d4936d044d3b8ee29f1b
   "metadata": {},
   "outputs": [
    {
     "data": {
      "text/plain": [
<<<<<<< HEAD
       "0.7534883720930232"
      ]
     },
     "execution_count": 49,
=======
       "0.8"
      ]
     },
     "execution_count": 14,
>>>>>>> 438f71fa4789a2939535d4936d044d3b8ee29f1b
     "metadata": {},
     "output_type": "execute_result"
    }
   ],
   "source": [
    "# compare the predicted labels with the real values to obtain the estimated accuracy score\n",
    "from sklearn.metrics import accuracy_score\n",
    "accuracy_score(y_test, y_test2)"
   ]
  },
  {
   "cell_type": "markdown",
   "metadata": {},
   "source": [
    "We see that the accuracy is about 75%. Is this better than simply predicting “Not survived” for everyone? Yes, because “only” 549/(549+342) = 61% of the passengers didn’t survive.  \n",
    "  \n",
    "**Remark the predictive accuracy may slightly vary with subsequent runs of the notebook. Why?**"
   ]
  },
  {
   "cell_type": "code",
<<<<<<< HEAD
   "execution_count": 50,
=======
   "execution_count": 15,
>>>>>>> 438f71fa4789a2939535d4936d044d3b8ee29f1b
   "metadata": {},
   "outputs": [
    {
     "name": "stdout",
     "output_type": "stream",
     "text": [
      "     true  estimated\n",
<<<<<<< HEAD
      "380     1          1\n",
      "339     0          0\n",
      "68      1          0\n",
      "679     1          0\n",
      "705     0          0\n"
=======
      "220     1          0\n",
      "91      0          0\n",
      "118     0          1\n",
      "403     0          0\n",
      "132     0          1\n"
>>>>>>> 438f71fa4789a2939535d4936d044d3b8ee29f1b
     ]
    }
   ],
   "source": [
    "# Determine the false negative rate: what's the proportion of the passengers \n",
    "# who survived that we declared death. (assuming survived = positive)\n",
    "results = pd.DataFrame({'true':y_test,'estimated':y_test2})\n",
    "print(results.head())"
   ]
  },
  {
   "cell_type": "code",
<<<<<<< HEAD
   "execution_count": 51,
=======
   "execution_count": 16,
>>>>>>> 438f71fa4789a2939535d4936d044d3b8ee29f1b
   "metadata": {},
   "outputs": [],
   "source": [
    "results['TP'] = np.where((results['true'] == 1) & (results['estimated'] == 1),1,0)\n",
    "results['TN'] = np.where((results['true'] == 0) & (results['estimated'] == 0),1,0)\n",
    "results['FP'] = np.where((results['true'] == 0) & (results['estimated'] == 1),1,0)\n",
    "results['FN'] = np.where((results['true'] == 1) & (results['estimated'] == 0),1,0)"
   ]
  },
  {
   "cell_type": "code",
<<<<<<< HEAD
   "execution_count": 53,
=======
   "execution_count": 17,
>>>>>>> 438f71fa4789a2939535d4936d044d3b8ee29f1b
   "metadata": {},
   "outputs": [
    {
     "data": {
      "text/html": [
       "<div>\n",
       "<style scoped>\n",
       "    .dataframe tbody tr th:only-of-type {\n",
       "        vertical-align: middle;\n",
       "    }\n",
       "\n",
       "    .dataframe tbody tr th {\n",
       "        vertical-align: top;\n",
       "    }\n",
       "\n",
       "    .dataframe thead th {\n",
       "        text-align: right;\n",
       "    }\n",
       "</style>\n",
       "<table border=\"1\" class=\"dataframe\">\n",
       "  <thead>\n",
       "    <tr style=\"text-align: right;\">\n",
       "      <th></th>\n",
       "      <th>true</th>\n",
       "      <th>estimated</th>\n",
       "      <th>TP</th>\n",
       "      <th>TN</th>\n",
       "      <th>FP</th>\n",
       "      <th>FN</th>\n",
       "    </tr>\n",
       "  </thead>\n",
       "  <tbody>\n",
       "    <tr>\n",
<<<<<<< HEAD
       "      <th>380</th>\n",
       "      <td>1</td>\n",
       "      <td>1</td>\n",
       "      <td>1</td>\n",
       "      <td>0</td>\n",
       "      <td>0</td>\n",
       "      <td>0</td>\n",
       "    </tr>\n",
       "    <tr>\n",
       "      <th>339</th>\n",
       "      <td>0</td>\n",
       "      <td>0</td>\n",
       "      <td>0</td>\n",
       "      <td>1</td>\n",
       "      <td>0</td>\n",
       "      <td>0</td>\n",
       "    </tr>\n",
       "    <tr>\n",
       "      <th>68</th>\n",
       "      <td>1</td>\n",
       "      <td>0</td>\n",
       "      <td>0</td>\n",
       "      <td>0</td>\n",
       "      <td>0</td>\n",
       "      <td>1</td>\n",
       "    </tr>\n",
       "    <tr>\n",
       "      <th>679</th>\n",
       "      <td>1</td>\n",
       "      <td>0</td>\n",
       "      <td>0</td>\n",
       "      <td>0</td>\n",
       "      <td>0</td>\n",
       "      <td>1</td>\n",
       "    </tr>\n",
       "    <tr>\n",
       "      <th>705</th>\n",
       "      <td>0</td>\n",
       "      <td>0</td>\n",
       "      <td>0</td>\n",
       "      <td>1</td>\n",
       "      <td>0</td>\n",
       "      <td>0</td>\n",
       "    </tr>\n",
       "    <tr>\n",
       "      <th>704</th>\n",
       "      <td>0</td>\n",
       "      <td>0</td>\n",
       "      <td>0</td>\n",
       "      <td>1</td>\n",
       "      <td>0</td>\n",
       "      <td>0</td>\n",
       "    </tr>\n",
       "    <tr>\n",
       "      <th>276</th>\n",
       "      <td>0</td>\n",
       "      <td>1</td>\n",
       "      <td>0</td>\n",
       "      <td>0</td>\n",
       "      <td>1</td>\n",
       "      <td>0</td>\n",
       "    </tr>\n",
       "    <tr>\n",
       "      <th>405</th>\n",
       "      <td>0</td>\n",
       "      <td>0</td>\n",
       "      <td>0</td>\n",
       "      <td>1</td>\n",
       "      <td>0</td>\n",
       "      <td>0</td>\n",
       "    </tr>\n",
       "    <tr>\n",
       "      <th>280</th>\n",
       "      <td>0</td>\n",
       "      <td>0</td>\n",
       "      <td>0</td>\n",
       "      <td>1</td>\n",
       "      <td>0</td>\n",
       "      <td>0</td>\n",
       "    </tr>\n",
       "    <tr>\n",
       "      <th>582</th>\n",
       "      <td>0</td>\n",
       "      <td>0</td>\n",
       "      <td>0</td>\n",
       "      <td>1</td>\n",
       "      <td>0</td>\n",
       "      <td>0</td>\n",
       "    </tr>\n",
       "    <tr>\n",
       "      <th>30</th>\n",
       "      <td>0</td>\n",
       "      <td>0</td>\n",
       "      <td>0</td>\n",
       "      <td>1</td>\n",
       "      <td>0</td>\n",
       "      <td>0</td>\n",
       "    </tr>\n",
       "    <tr>\n",
       "      <th>503</th>\n",
       "      <td>0</td>\n",
       "      <td>1</td>\n",
=======
       "      <th>220</th>\n",
       "      <td>1</td>\n",
       "      <td>0</td>\n",
       "      <td>0</td>\n",
       "      <td>0</td>\n",
       "      <td>0</td>\n",
       "      <td>1</td>\n",
       "    </tr>\n",
       "    <tr>\n",
       "      <th>91</th>\n",
       "      <td>0</td>\n",
>>>>>>> 438f71fa4789a2939535d4936d044d3b8ee29f1b
       "      <td>0</td>\n",
       "      <td>0</td>\n",
       "      <td>1</td>\n",
       "      <td>0</td>\n",
<<<<<<< HEAD
       "    </tr>\n",
       "    <tr>\n",
       "      <th>218</th>\n",
       "      <td>1</td>\n",
       "      <td>1</td>\n",
       "      <td>1</td>\n",
       "      <td>0</td>\n",
       "      <td>0</td>\n",
       "      <td>0</td>\n",
       "    </tr>\n",
       "    <tr>\n",
       "      <th>395</th>\n",
       "      <td>0</td>\n",
       "      <td>0</td>\n",
=======
       "      <td>0</td>\n",
       "    </tr>\n",
       "    <tr>\n",
       "      <th>118</th>\n",
>>>>>>> 438f71fa4789a2939535d4936d044d3b8ee29f1b
       "      <td>0</td>\n",
       "      <td>1</td>\n",
       "      <td>0</td>\n",
       "      <td>0</td>\n",
<<<<<<< HEAD
       "    </tr>\n",
       "    <tr>\n",
       "      <th>642</th>\n",
       "      <td>0</td>\n",
       "      <td>0</td>\n",
       "      <td>0</td>\n",
       "      <td>1</td>\n",
       "      <td>0</td>\n",
       "      <td>0</td>\n",
       "    </tr>\n",
       "    <tr>\n",
       "      <th>541</th>\n",
=======
       "      <td>1</td>\n",
       "      <td>0</td>\n",
       "    </tr>\n",
       "    <tr>\n",
       "      <th>403</th>\n",
>>>>>>> 438f71fa4789a2939535d4936d044d3b8ee29f1b
       "      <td>0</td>\n",
       "      <td>0</td>\n",
       "      <td>0</td>\n",
       "      <td>1</td>\n",
       "      <td>0</td>\n",
       "      <td>0</td>\n",
       "    </tr>\n",
       "    <tr>\n",
<<<<<<< HEAD
       "      <th>473</th>\n",
       "      <td>1</td>\n",
       "      <td>1</td>\n",
       "      <td>1</td>\n",
       "      <td>0</td>\n",
       "      <td>0</td>\n",
       "      <td>0</td>\n",
       "    </tr>\n",
       "    <tr>\n",
=======
>>>>>>> 438f71fa4789a2939535d4936d044d3b8ee29f1b
       "      <th>132</th>\n",
       "      <td>0</td>\n",
       "      <td>1</td>\n",
       "      <td>0</td>\n",
       "      <td>0</td>\n",
       "      <td>1</td>\n",
       "      <td>0</td>\n",
       "    </tr>\n",
<<<<<<< HEAD
       "    <tr>\n",
       "      <th>813</th>\n",
       "      <td>0</td>\n",
       "      <td>0</td>\n",
       "      <td>0</td>\n",
       "      <td>1</td>\n",
       "      <td>0</td>\n",
       "      <td>0</td>\n",
       "    </tr>\n",
       "    <tr>\n",
       "      <th>520</th>\n",
       "      <td>1</td>\n",
       "      <td>1</td>\n",
       "      <td>1</td>\n",
       "      <td>0</td>\n",
       "      <td>0</td>\n",
       "      <td>0</td>\n",
       "    </tr>\n",
=======
>>>>>>> 438f71fa4789a2939535d4936d044d3b8ee29f1b
       "  </tbody>\n",
       "</table>\n",
       "</div>"
      ],
      "text/plain": [
       "     true  estimated  TP  TN  FP  FN\n",
<<<<<<< HEAD
       "380     1          1   1   0   0   0\n",
       "339     0          0   0   1   0   0\n",
       "68      1          0   0   0   0   1\n",
       "679     1          0   0   0   0   1\n",
       "705     0          0   0   1   0   0\n",
       "704     0          0   0   1   0   0\n",
       "276     0          1   0   0   1   0\n",
       "405     0          0   0   1   0   0\n",
       "280     0          0   0   1   0   0\n",
       "582     0          0   0   1   0   0\n",
       "30      0          0   0   1   0   0\n",
       "503     0          1   0   0   1   0\n",
       "218     1          1   1   0   0   0\n",
       "395     0          0   0   1   0   0\n",
       "642     0          0   0   1   0   0\n",
       "541     0          0   0   1   0   0\n",
       "473     1          1   1   0   0   0\n",
       "132     0          1   0   0   1   0\n",
       "813     0          0   0   1   0   0\n",
       "520     1          1   1   0   0   0"
      ]
     },
     "execution_count": 53,
=======
       "220     1          0   0   0   0   1\n",
       "91      0          0   0   1   0   0\n",
       "118     0          1   0   0   1   0\n",
       "403     0          0   0   1   0   0\n",
       "132     0          1   0   0   1   0"
      ]
     },
     "execution_count": 17,
>>>>>>> 438f71fa4789a2939535d4936d044d3b8ee29f1b
     "metadata": {},
     "output_type": "execute_result"
    }
   ],
   "source": [
    "results.head(20)"
   ]
  },
  {
   "cell_type": "code",
<<<<<<< HEAD
   "execution_count": 54,
=======
   "execution_count": 18,
>>>>>>> 438f71fa4789a2939535d4936d044d3b8ee29f1b
   "metadata": {},
   "outputs": [
    {
     "name": "stdout",
     "output_type": "stream",
     "text": [
<<<<<<< HEAD
      "0.3541666666666667\n"
=======
      "0.30120481927710846\n"
>>>>>>> 438f71fa4789a2939535d4936d044d3b8ee29f1b
     ]
    }
   ],
   "source": [
    "FNrate = results['FN'].sum()/(results['FN'].sum() + results['TP'].sum())\n",
    "print(FNrate)"
   ]
  },
  {
   "cell_type": "markdown",
   "metadata": {},
   "source": [
    "This means for about 32 % of all passengers who did survive we predicted they didn’t. "
   ]
  },
  {
   "cell_type": "code",
<<<<<<< HEAD
   "execution_count": 55,
=======
   "execution_count": 19,
>>>>>>> 438f71fa4789a2939535d4936d044d3b8ee29f1b
   "metadata": {},
   "outputs": [],
   "source": [
    "# show confusion matrix\n",
    "from sklearn.metrics import confusion_matrix\n",
    "\n",
    "#Matplotlib is a Python visualization library\n",
    "import matplotlib.pyplot as plt\n",
    "\n",
    "#Set matplotlib visualization style\n",
    "plt.style.use('classic')\n",
    "\n",
    "# specifiy matplotlib graphs are shown \"inline\" in the ouput\n",
    "%matplotlib inline\n",
    "\n",
    "# Seabonr is  a Python data visualization library based on matplotlib\n",
    "import seaborn as sns;sns.set()"
   ]
  },
  {
   "cell_type": "markdown",
   "metadata": {},
   "source": [
    "confusion_matrix is a sklearn function that returns a matrix $C$ such that $C_{ij}$ is equal to the number of observations known to be in group $i$ and predicted to be in group $j$ (source: https://scikit-learn.org/stable/modules/generated/sklearn.metrics.confusion_matrix.html).  \n",
    "  \n",
    "This means the true classes are presented as rows and the predicted classes as columns. Rows and columns are ordered alphanumerically. We will tranpose this matrix to visualize. "
   ]
  },
  {
   "cell_type": "code",
<<<<<<< HEAD
   "execution_count": 56,
=======
   "execution_count": 25,
>>>>>>> 438f71fa4789a2939535d4936d044d3b8ee29f1b
   "metadata": {},
   "outputs": [
    {
     "name": "stdout",
     "output_type": "stream",
     "text": [
<<<<<<< HEAD
      "[[100  19]\n",
      " [ 34  62]]\n"
=======
      "[[114  18]\n",
      " [ 25  58]]\n"
>>>>>>> 438f71fa4789a2939535d4936d044d3b8ee29f1b
     ]
    },
    {
     "data": {
      "text/plain": [
       "Text(73.64000000000007, 0.5, 'predicted category')"
      ]
     },
<<<<<<< HEAD
     "execution_count": 56,
=======
     "execution_count": 25,
>>>>>>> 438f71fa4789a2939535d4936d044d3b8ee29f1b
     "metadata": {},
     "output_type": "execute_result"
    },
    {
     "data": {
<<<<<<< HEAD
      "image/png": "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\n",
=======
      "image/png": "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\n",
>>>>>>> 438f71fa4789a2939535d4936d044d3b8ee29f1b
      "text/plain": [
       "<Figure size 432x288 with 2 Axes>"
      ]
     },
     "metadata": {},
     "output_type": "display_data"
    }
   ],
   "source": [
    "# calculate the confusion matrix. \n",
    "\n",
    "mat = confusion_matrix(y_test,y_test2)\n",
    "print(mat)\n",
    "\n",
    "#rename data labels: 0 = not survived, 1 = survived\n",
    "labels = ['not survived','survived']  # keep the alphanumeric order of the original class labels!\n",
    "\n",
    "# mat.T = transpose the matrix\n",
    "# data labels (0,1) are sorted from left to right (for the horizontal axis)\n",
    "# square=True: each cell will be square-shaped\n",
    "# and from top to bottom (for the vertical axis)\n",
    "# annot=True: data value in each cell\n",
    "# fmt='d': format labels as 'double' (not scientific notation)\n",
    "# cbar=True: color side bar\n",
    "sns.heatmap(mat.T,square=True, annot=True, fmt='d', cbar=True, xticklabels=labels, yticklabels=labels)\n",
    "plt.xlabel('true category')\n",
    "plt.ylabel('predicted category')"
   ]
  }
 ],
 "metadata": {
  "kernelspec": {
   "display_name": "Python 3",
   "language": "python",
   "name": "python3"
  },
  "language_info": {
   "codemirror_mode": {
    "name": "ipython",
    "version": 3
   },
   "file_extension": ".py",
   "mimetype": "text/x-python",
   "name": "python",
   "nbconvert_exporter": "python",
   "pygments_lexer": "ipython3",
   "version": "3.7.6"
  }
 },
 "nbformat": 4,
 "nbformat_minor": 2
}
