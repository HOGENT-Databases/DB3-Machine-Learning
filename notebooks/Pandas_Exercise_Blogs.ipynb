{
  "nbformat": 4,
  "nbformat_minor": 0,
  "metadata": {
    "kernelspec": {
      "display_name": "Python 3",
      "language": "python",
      "name": "python3"
    },
    "language_info": {
      "codemirror_mode": {
        "name": "ipython",
        "version": 3
      },
      "file_extension": ".py",
      "mimetype": "text/x-python",
      "name": "python",
      "nbconvert_exporter": "python",
      "pygments_lexer": "ipython3",
      "version": "3.7.6"
    },
    "colab": {
      "name": "Pandas Analytics: Exercise Blogs Starter.ipynb",
      "provenance": []
    }
  },
  "cells": [
    {
      "cell_type": "markdown",
      "metadata": {
        "id": "GBRK6okldiiE"
      },
      "source": [
        "## Pandas Analytics: exercise Blog Gender\n",
        "### PART 1 (DATA EXPLORATION)\n",
        "The file 'blog-gender-dataset.csv' contains around 3000 blog posts, along with the gender of the blogger.\n",
        "The intention is to determine whether the gender can be deduced from the text. Solve each subquestion in one cell."
      ]
    },
    {
      "cell_type": "markdown",
      "metadata": {
        "id": "_w1Lgp5BdiiF"
      },
      "source": [
        "a. Import the data from the file blog-gender-dataset.csv into a Pandas DataFrame"
      ]
    },
    {
      "cell_type": "code",
      "metadata": {
        "id": "Ozi5WgHZdiiG"
      },
      "source": [
        "import pandas as pd\n",
        "url = 'https://raw.githubusercontent.com/HOGENT-Databases/DB3-Workshops/master/data/blog-gender-dataset.csv.csv'\n",
        "blog = pd.read_csv(url)"
      ],
      "execution_count": null,
      "outputs": []
    },
    {
      "cell_type": "markdown",
      "metadata": {
        "id": "YUu3pjLsdiiO"
      },
      "source": [
        "b. Display the last 10 rows to get an idea of the content"
      ]
    },
    {
      "cell_type": "code",
      "metadata": {
        "id": "WyxXlRMDdiiP"
      },
      "source": [
        ""
      ],
      "execution_count": null,
      "outputs": []
    },
    {
      "cell_type": "markdown",
      "metadata": {
        "id": "26f9E9vDdiiT"
      },
      "source": [
        "c. Determine the total number of blog texts"
      ]
    },
    {
      "cell_type": "code",
      "metadata": {
        "id": "ijnCc3L4diiU"
      },
      "source": [
        ""
      ],
      "execution_count": null,
      "outputs": []
    },
    {
      "cell_type": "markdown",
      "metadata": {
        "id": "FMmdGR3Ndiia"
      },
      "source": [
        "d. Determine the number of blog texts per unique value of gender"
      ]
    },
    {
      "cell_type": "code",
      "metadata": {
        "id": "u0OqzMgXdiib"
      },
      "source": [
        ""
      ],
      "execution_count": null,
      "outputs": []
    },
    {
      "cell_type": "markdown",
      "metadata": {
        "id": "te0s5zh_diie"
      },
      "source": [
        "e. You notice that M and F occur several times. How do you explain this?"
      ]
    },
    {
      "cell_type": "code",
      "metadata": {
        "id": "ZDvEXYQTdiie"
      },
      "source": [
        ""
      ],
      "execution_count": null,
      "outputs": []
    },
    {
      "cell_type": "markdown",
      "metadata": {
        "id": "eA7sorjUdiii"
      },
      "source": [
        "f. Solve this problem so that you only have two lines left: M and F. Show your result."
      ]
    },
    {
      "cell_type": "code",
      "metadata": {
        "id": "_8dVUh1_diij"
      },
      "source": [
        ""
      ],
      "execution_count": null,
      "outputs": []
    },
    {
      "cell_type": "markdown",
      "metadata": {
        "id": "wXeIRAuodiin"
      },
      "source": [
        "g. Remove all lines that contain empty values in one of the columns."
      ]
    },
    {
      "cell_type": "code",
      "metadata": {
        "id": "vbB2Iz-6diio"
      },
      "source": [
        ""
      ],
      "execution_count": null,
      "outputs": []
    },
    {
      "cell_type": "markdown",
      "metadata": {
        "id": "npqQE8Xudiiv"
      },
      "source": [
        "h. How many lines are there still left?"
      ]
    },
    {
      "cell_type": "code",
      "metadata": {
        "id": "_2xZQeQ3diiv"
      },
      "source": [
        ""
      ],
      "execution_count": null,
      "outputs": []
    },
    {
      "cell_type": "markdown",
      "metadata": {
        "id": "cxU9QRH_diiy"
      },
      "source": [
        "i. In psychology it is often claimed that women use more words than men. We are going to check whether this is correct for these blog posts. Add an extra column 'number of words' with the number of words per blog post. For simplicity, we speak of 2 words when they are separated from each other by a space. You don't have to take special characters and such into account, for example it's counted as one word Display the last 10 rows to check if the calculation is correct"
      ]
    },
    {
      "cell_type": "code",
      "metadata": {
        "id": "6FgElzALdiiz"
      },
      "source": [
        "blog['aantalWoorden'] = blog.text.str.split().map(len)\n",
        "blog.tail(10)"
      ],
      "execution_count": null,
      "outputs": []
    },
    {
      "cell_type": "markdown",
      "metadata": {
        "id": "J4qz_BZHdii2"
      },
      "source": [
        "j. Calculate the average number of words per gender"
      ]
    },
    {
      "cell_type": "code",
      "metadata": {
        "id": "QmCl7Tuodii6"
      },
      "source": [
        ""
      ],
      "execution_count": null,
      "outputs": []
    },
    {
      "cell_type": "markdown",
      "metadata": {
        "id": "Tj-3aqp5dii-"
      },
      "source": [
        "k. Give the 20 blogposts with the most words"
      ]
    },
    {
      "cell_type": "code",
      "metadata": {
        "id": "Pb8ErWIadii-"
      },
      "source": [
        ""
      ],
      "execution_count": null,
      "outputs": []
    },
    {
      "cell_type": "markdown",
      "metadata": {
        "id": "QjH173OsdijC"
      },
      "source": [
        "### PART 2 (MACHINE LEARNING)\n",
        "l. Set up a model to estimate the gender of the blogger based on a blog text. Use Multinomial Naive Bayes"
      ]
    },
    {
      "cell_type": "code",
      "metadata": {
        "id": "DJbdST9odijE"
      },
      "source": [
        ""
      ],
      "execution_count": null,
      "outputs": []
    },
    {
      "cell_type": "markdown",
      "metadata": {
        "id": "6cFavf6XdijI"
      },
      "source": [
        "m. Determine how good a blog text is to determine the gender, i.e. how many percent of the predictions is correct?"
      ]
    },
    {
      "cell_type": "code",
      "metadata": {
        "id": "2ZnentA6dijI"
      },
      "source": [
        ""
      ],
      "execution_count": null,
      "outputs": []
    },
    {
      "cell_type": "markdown",
      "metadata": {
        "id": "Uz_aHsdfdijO"
      },
      "source": [
        "n. Write a function that can be used to determine the gender of the author of a text. <br>\n",
        "Use that function for the lyrics \"My new dress is awesome.\" and \"Last night I was playing the FIFA soccer game\".\n"
      ]
    },
    {
      "cell_type": "code",
      "metadata": {
        "id": "oqq7c0o0dijP"
      },
      "source": [
        ""
      ],
      "execution_count": null,
      "outputs": []
    }
  ]
}