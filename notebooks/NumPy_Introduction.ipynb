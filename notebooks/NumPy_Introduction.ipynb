{
 "cells": [
  {
   "source": [
    "## Numpy (short for Numerical Python)\n",
    "Numpy is the core library for scientific computing in Python. \n",
    "It provides a high-performance multidimensional array object, and tools for working with these arrays.\n",
    "Efficient storage and manipulation of numerical arrays is absolutely fundamental to the process of doing data science.\n",
    "\n",
    "### Understanding Data Types in Python\n",
    "Effective data-driven science and computation requires understanding how data is stored and manipulated. This section outlines and contrasts how arrays of data are handled in the Python language itself, and how NumPy improves on this. Users of Python are often drawn in by its ease of use, one piece of which is dynamic\n",
    "typing. While a statically typed language like C or Java requires each variable to be explicitly declared, a dynamically typed language like Python skips this specification. For example, in C you might specify a particular operation as follows:\n",
    " \n",
    "<code>\n",
    "/* C code */\n",
    "int result = 0;\n",
    "for(int i=0; i<100; i++)\n",
    "{\n",
    "   result += i;\n",
    "}\n",
    "</code>\n",
    " \n",
    "While in Python the equivalent operation could be written this way:\n",
    "# Python code\n",
    "result = 0\n",
    "for i in range(100):\n",
    "result += i\n",
    "\n",
    "Notice the main difference: in C, the data types of each variable are explicitly\n",
    "declared, while in Python the types are dynamically inferred. This means, for example,\n",
    "that we can assign any kind of data to any variable:\n",
    "# Python code\n",
    "x = 4\n",
    "x = \"four\"\n",
    "\n",
    "Here we’ve switched the contents of x from an integer to a string. The same thing in C\n",
    "would lead (depending on compiler settings) to a compilation error or other unintended\n",
    "consequences:\n",
    "/* C code */\n",
    "int x = 4;\n",
    "x = \"four\"; // FAILS\n",
    "\n",
    "This sort of flexibility is one piece that makes Python and other dynamically typed\n",
    "languages convenient and easy to use. Understanding how this works is an important\n",
    "piece of learning to analyze data efficiently and effectively with Python. But what this\n",
    "type flexibility also points to is the fact that Python variables are more than just their\n",
    "value; they also contain extra information about the type of the value. \n",
    "\n",
    "\n",
    "## A Python Integer Is More Than Just an Integer\n",
    "The standard Python implementation is written in C. This means that every Python\n",
    "object is simply a cleverly disguised C structure, which contains not only its value, but\n",
    "other information as well. For example, when we define an integer in Python, such as\n",
    "x = 10000, x is not just a “raw” integer. It’s actually a pointer to a compound C structure,\n",
    "which contains several values. Looking through the Python 3.4 source code, we\n",
    "find that the integer (long) type definition effectively looks like this:\n",
    "struct _longobject {\n",
    "   long ob_refcnt;\n",
    "   PyTypeObject *ob_type;\n",
    "   size_t ob_size;\n",
    "   long ob_digit[1];\n",
    "};\n",
    "\n",
    "A single integer in Python 3.4 actually contains four pieces:\n",
    "• ob_refcnt, a reference count that helps Python silently handle memory allocation and deallocation\n",
    "• ob_type, which encodes the type of the variable\n",
    "• ob_size, which specifies the size of the following data members\n",
    "• ob_digit, which contains the actual integer value that we expect the Python variable to represent\n",
    "\n",
    "This means that there is some overhead in storing an integer in Python as compared\n",
    "to an integer in a compiled language like C\n",
    "\n",
    "Notice the difference here: a C integer is essentially a label for a position in memory\n",
    "whose bytes encode an integer value. A Python integer is a pointer to a position in\n",
    "memory containing all the Python object information, including the bytes that contain\n",
    "the integer value. This extra information in the Python integer structure is what\n",
    "allows Python to be coded so freely and dynamically. All this additional information\n",
    "in Python types comes at a cost, however, which becomes especially apparent in\n",
    "structures that combine many of these objects.\n",
    "\"\"\"\n",
    "\n",
    "\"\"\"\n",
    "A Python List Is More Than Just a List\n",
    "Let’s consider now what happens when we use a Python data structure that holds\n",
    "many Python objects. The standard mutable multielement container in Python is the\n",
    "list. We can create a list of integers as follows:\n",
    "L = list(range(10))\n",
    "print(L)  # [0, 1, 2, 3, 4, 5, 6, 7, 8, 9]\n",
    "\n",
    "type(L[0]) # int\n",
    "\n",
    "Or, similarly, a list of strings:\n",
    "\n",
    "L2 = [str(c) for c in L]\n",
    "print(L2) # ['0', '1', '2', '3', '4', '5', '6', '7', '8', '9']\n",
    "type(L2[0]) # str\n",
    "\n",
    "Because of Python’s dynamic typing, we can even create heterogeneous lists:\n",
    "\n",
    "L3 = [True, \"2\", 3.0, 4]\n",
    "[type(item) for item in L3] # [bool, str, float, int]\n",
    "\n",
    "But this flexibility comes at a cost: to allow these flexible types, each item in the list\n",
    "must contain its own type info, reference count, and other information—that is, each\n",
    "item is a complete Python object. In the special case that all variables are of the same\n",
    "type, much of this information is redundant: it can be much more efficient to store\n",
    "data in a fixed-type array. \n",
    "At the implementation level, the array essentially contains a single pointer to one contiguous\n",
    "block of data. The Python list, on the other hand, contains a pointer to a\n",
    "block of pointers, each of which in turn points to a full Python object like the Python\n",
    "integer we saw earlier. Again, the advantage of the list is flexibility: because each list\n",
    "element is a full structure containing both data and type information, the list can be\n",
    "filled with data of any desired type. Fixed-type NumPy-style arrays lack this flexibility,\n",
    "but are much more efficient for storing and manipulating data.\n",
    "\"\"\"\n",
    "\n",
    "\"\"\"\n",
    "Fixed-Type Arrays in Python\n",
    "Python offers several different options for storing data in efficient, fixed-type data\n",
    "buffers. The built-in array module (available since Python 3.3) can be used to create\n",
    "dense arrays of a uniform type:\n",
    "import array\n",
    "L = list(range(10))\n",
    "A = array.array('i', L)\n",
    "\n",
    "print(A) # array('i', [0, 1, 2, 3, 4, 5, 6, 7, 8, 9])\n",
    "\n",
    "Here 'i' is a type code indicating the contents are integers.\n",
    "Much more useful, however, is the ndarray object of the NumPy package. While\n",
    "Python’s array object provides efficient storage of array-based data, NumPy adds to\n",
    "this efficient operations on that data.\n",
    "\"\"\""
   ],
   "cell_type": "markdown",
   "metadata": {}
  },
  {
   "cell_type": "code",
   "execution_count": 241,
   "metadata": {},
   "outputs": [],
   "source": [
    "# Arrays\n",
    "# A numpy array is a grid of values, all of the same type, and is indexed by a tuple of nonnegative integers. \n",
    "# The number of dimensions is the rank of the array; \n",
    "# The shape of an array is a tuple of integers giving the size of the array along each dimension.\n",
    "\n",
    "# We can initialize numpy arrays from nested Python lists, and access elements using square brackets:"
   ]
  },
  {
   "cell_type": "code",
   "execution_count": 242,
   "metadata": {},
   "outputs": [
    {
     "output_type": "stream",
     "name": "stdout",
     "text": [
      "<class 'numpy.ndarray'>\n(3,)\n1 2 3\n[5 2 3]\n(2, 3)\n1 2 4\n"
     ]
    }
   ],
   "source": [
    "import numpy as np\n",
    "\n",
    "a = np.array([1, 2, 3])   # Create a rank 1 array\n",
    "print(type(a))            # Prints \"<class 'numpy.ndarray'>\"\n",
    "print(a.shape)            # Prints \"(3,)\"\n",
    "print(a[0], a[1], a[2])   # Prints \"1 2 3\"\n",
    "a[0] = 5                  # Change an element of the array\n",
    "print(a)                  # Prints \"[5, 2, 3]\"\n",
    "\n",
    "b = np.array([[1,2,3],[4,5,6]])    # Create a rank 2 array\n",
    "print(b.shape)                     # Prints \"(2, 3)\"\n",
    "print(b[0, 0], b[0, 1], b[1, 0])   # Prints \"1 2 4\""
   ]
  },
  {
   "cell_type": "code",
   "execution_count": 243,
   "metadata": {},
   "outputs": [
    {
     "output_type": "stream",
     "name": "stdout",
     "text": [
      "[[0. 0.]\n [0. 0.]]\n[[1. 1.]]\n[[7 7]\n [7 7]]\n[[1. 0.]\n [0. 1.]]\n[[0.80124337 0.4965144 ]\n [0.70989059 0.25274244]]\n"
     ]
    }
   ],
   "source": [
    "# Numpy also provides many functions to create arrays:\n",
    "\n",
    "import numpy as np\n",
    "\n",
    "a = np.zeros((2,2))   # Create an array of all zeros\n",
    "print(a)              # Prints \"[[ 0.  0.]\n",
    "                      #          [ 0.  0.]]\"\n",
    "\n",
    "b = np.ones((1,2))    # Create an array of all ones\n",
    "print(b)              # Prints \"[[ 1.  1.]]\"\n",
    "\n",
    "c = np.full((2,2), 7)  # Create a constant array\n",
    "print(c)               # Prints \"[[ 7.  7.]\n",
    "                       #          [ 7.  7.]]\"\n",
    "\n",
    "d = np.eye(2)         # Create a 2x2 identity matrix\n",
    "print(d)              # Prints \"[[ 1.  0.]\n",
    "                      #          [ 0.  1.]]\"\n",
    "\n",
    "e = np.random.random((2,2))  # Create an array filled with random values\n",
    "print(e)                     # Might print \"[[ 0.91940167  0.08143941]\n",
    "                             #               [ 0.68744134  0.87236687]]\""
   ]
  },
  {
   "cell_type": "code",
   "execution_count": 244,
   "metadata": {},
   "outputs": [],
   "source": [
    "# Array indexing\n",
    "# Numpy offers several ways to index into arrays.\n",
    "\n",
    "# Slicing: Similar to Python lists, numpy arrays can be sliced. \n",
    "# Since arrays may be multidimensional, you must specify a slice for each dimension of the array:"
   ]
  },
  {
   "cell_type": "code",
   "execution_count": 245,
   "metadata": {},
   "outputs": [
    {
     "output_type": "stream",
     "name": "stdout",
     "text": [
      "2\n77\n"
     ]
    }
   ],
   "source": [
    "import numpy as np\n",
    "\n",
    "# Create the following rank 2 array with shape (3, 4)\n",
    "# [[ 1  2  3  4]\n",
    "#  [ 5  6  7  8]\n",
    "#  [ 9 10 11 12]]\n",
    "a = np.array([[1,2,3,4], [5,6,7,8], [9,10,11,12]])\n",
    "\n",
    "# Use slicing to pull out the subarray consisting of the first 2 rows\n",
    "# and columns 1 and 2; b is the following array of shape (2, 2):\n",
    "# [[2 3]\n",
    "#  [6 7]]\n",
    "b = a[:2, 1:3]\n",
    "\n",
    "# A slice of an array is a view into the same data, so modifying it\n",
    "# will modify the original array.\n",
    "print(a[0, 1])   # Prints \"2\"\n",
    "b[0, 0] = 77     # b[0, 0] is the same piece of data as a[0, 1]\n",
    "print(a[0, 1])   # Prints \"77\""
   ]
  },
  {
   "cell_type": "code",
   "execution_count": 246,
   "metadata": {},
   "outputs": [
    {
     "output_type": "stream",
     "name": "stdout",
     "text": [
      "[2 3 4]\nint32\nfloat64\n[[1.5 2.  3. ]\n [4.  5.  6. ]]\n[[1.+0.j 2.+0.j]\n [3.+0.j 4.+0.j]]\n[10 15 20 25]\n[0.  0.3 0.6 0.9 1.2 1.5 1.8]\n[[ 0  1  2  3  4]\n [ 5  6  7  8  9]\n [10 11 12 13 14]]\n(3, 5)\n2\nint32\n15\n<class 'numpy.ndarray'>\n[6 7 8]\n<class 'numpy.ndarray'>\n"
     ]
    }
   ],
   "source": [
    "# Array Creation\n",
    "# There are several ways to create arrays.\n",
    "# For example, you can create an array from a regular Python list or tuple using the array function. \n",
    "# The type of the resulting array is deduced from the type of the elements in the sequences.\n",
    "\n",
    "import numpy as np\n",
    "\n",
    "a = np.array([2,3,4])\n",
    "print(a) # [2, 3, 4]\n",
    "print(a.dtype) # dtype('int64')\n",
    "\n",
    "b = np.array([1.2, 3.5, 5.1])\n",
    "print(b.dtype) # dtype('float64')\n",
    "\n",
    "# Array transforms sequences of sequences into two-dimensional arrays, \n",
    "# sequences of sequences of sequences into three-dimensional arrays, and so on.\n",
    "c = np.array([(1.5,2,3), (4,5,6)])\n",
    "print(c)\n",
    "# [[ 1.5,  2. ,  3. ],\n",
    "#  [ 4. ,  5. ,  6. ]]\n",
    "\n",
    "# The type of the array can also be explicitly specified at creation time:\n",
    "d = np.array( [ [1,2], [3,4] ], dtype=complex )\n",
    "print(d)\n",
    "# [[ 1.+0.j,  2.+0.j],\n",
    "#  [ 3.+0.j,  4.+0.j]]\n",
    "\n",
    "e = np.arange(10, 30, 5) \n",
    "print(e) # [10, 15, 20, 25]\n",
    "\n",
    "f = np.arange(0, 2, 0.3) # it accepts float arguments\n",
    "print(f) # [ 0. ,  0.3,  0.6,  0.9,  1.2,  1.5,  1.8]\n",
    "\n",
    "\n",
    "g = np.arange(15).reshape(3, 5)\n",
    "print(g)\n",
    "# [[ 0,  1,  2,  3,  4],\n",
    "#  [ 5,  6,  7,  8,  9],\n",
    "#  [10, 11, 12, 13, 14]]\n",
    "print(g.shape) # (3, 5)\n",
    "print(g.ndim) # 2\n",
    "print(g.dtype.name) # 'int64'\n",
    "print(g.size) # 15\n",
    "print(type(g)) # <type 'numpy.ndarray'>\n",
    "\n",
    "h = np.array([6, 7, 8])\n",
    "print(h) # [6, 7, 8]\n",
    "print(type(h)) # <type 'numpy.ndarray'>\n"
   ]
  },
  {
   "cell_type": "code",
   "execution_count": 247,
   "metadata": {},
   "outputs": [
    {
     "output_type": "stream",
     "name": "stdout",
     "text": [
      "[0 1 2 3 4 5]\n[[ 0  1  2]\n [ 3  4  5]\n [ 6  7  8]\n [ 9 10 11]]\n[[[ 0  1  2  3]\n  [ 4  5  6  7]\n  [ 8  9 10 11]]\n\n [[12 13 14 15]\n  [16 17 18 19]\n  [20 21 22 23]]]\n"
     ]
    }
   ],
   "source": [
    "# Printing arrays\n",
    "# When you print an array, NumPy displays it in a similar way to nested lists, but with the following layout:\n",
    "# - the last axis is printed from left to right,\n",
    "# - the second-to-last is printed from top to bottom,\n",
    "# - the rest are also printed from top to bottom, with each slice separated from the next by an empty line.\n",
    "# One-dimensional arrays are then printed as rows, bidimensionals as matrices and tridimensionals as lists of matrices.\n",
    "\n",
    "import numpy as np\n",
    "a = np.arange(6)                         # 1d array\n",
    "print(a) # [0 1 2 3 4 5]\n",
    "\n",
    "b = np.arange(12).reshape(4,3)           # 2d array\n",
    "print(b)\n",
    "# [[ 0  1  2]\n",
    "# [ 3  4  5]\n",
    "# [ 6  7  8]\n",
    "# [ 9 10 11]]\n",
    "\n",
    "c = np.arange(24).reshape(2,3,4)         # 3d array\n",
    "print(c)\n",
    "# [[[ 0  1  2  3]\n",
    "#  [ 4  5  6  7]\n",
    "#  [ 8  9 10 11]]\n",
    "# [[12 13 14 15]\n",
    "#  [16 17 18 19]\n",
    "#  [20 21 22 23]]]"
   ]
  },
  {
   "cell_type": "code",
   "execution_count": 248,
   "metadata": {},
   "outputs": [
    {
     "output_type": "stream",
     "name": "stdout",
     "text": [
      "[0 1 2 3]\n[20 29 38 47]\n[0 1 4 9]\n[ 9.12945251 -9.88031624  7.4511316  -2.62374854]\n[ True  True False False]\n"
     ]
    }
   ],
   "source": [
    "# Basic operations\n",
    "# Arithmetic operators on arrays apply elementwise. A new array is created and filled with the result.\n",
    "\n",
    "a = np.array( [20,30,40,50] )\n",
    "b = np.arange( 4 )\n",
    "print(b) # [0, 1, 2, 3]\n",
    "c = a-b\n",
    "print(c) # [20, 29, 38, 47]\n",
    "d = b**2 \n",
    "print(d) # [0, 1, 4, 9]\n",
    "e = 10*np.sin(a)\n",
    "print(e) # [ 9.12945251, -9.88031624,  7.4511316 , -2.62374854]\n",
    "f = a<35\n",
    "print(f) # [ True, True, False, False]"
   ]
  },
  {
   "cell_type": "code",
   "execution_count": 249,
   "metadata": {},
   "outputs": [
    {
     "output_type": "stream",
     "name": "stdout",
     "text": [
      "[[2 0]\n [0 4]]\n[[5 4]\n [3 4]]\n[[5 4]\n [3 4]]\n"
     ]
    }
   ],
   "source": [
    "# Unlike in many matrix languages, the product operator * operates elementwise in NumPy arrays. \n",
    "# The matrix product can be performed using the @ operator (in python >=3.5) or the dot function or method:\n",
    "\n",
    "A = np.array( [[1,1], [0,1]] )\n",
    "B = np.array( [[2,0], [3,4]] )\n",
    "print (A * B)                       # elementwise product\n",
    "#[[2, 0],\n",
    "# [0, 4]]\n",
    "print (A @ B)                       # matrix product\n",
    "#[[5, 4],\n",
    "# [3, 4]]\n",
    "print(A.dot(B))                 # another matrix product\n",
    "#[[5, 4],\n",
    "# [3, 4]]"
   ]
  },
  {
   "cell_type": "code",
   "execution_count": 250,
   "metadata": {},
   "outputs": [
    {
     "output_type": "stream",
     "name": "stdout",
     "text": [
      "[[3 3 3]\n [3 3 3]]\n[[3.80854545 3.40319173 3.92021787]\n [3.18642646 3.16630799 3.18194828]]\n"
     ]
    }
   ],
   "source": [
    "# Some operations, such as += and *=, act in place to modify an existing array rather than create a new one.\n",
    "a = np.ones((2,3), dtype=int)\n",
    "b = np.random.random((2,3))\n",
    "a *= 3\n",
    "print(a)\n",
    "# [[3, 3, 3],\n",
    "#   [3, 3, 3]]\n",
    "b += a\n",
    "print(b)\n",
    "# [[ 3.417022  ,  3.72032449,  3.00011437],\n",
    "#  [ 3.30233257,  3.14675589,  3.09233859]]"
   ]
  },
  {
   "cell_type": "code",
   "execution_count": 251,
   "metadata": {},
   "outputs": [
    {
     "output_type": "stream",
     "name": "stdout",
     "text": [
      "[[0.20057296 0.89948365 0.38395195]\n [0.49998465 0.24489591 0.61973575]]\n2.8486248809780315\n0.20057296047582773\n0.899483654345258\n"
     ]
    }
   ],
   "source": [
    "a = np.random.random((2,3))\n",
    "print(a)\n",
    "#[[ 0.18626021,  0.34556073,  0.39676747],\n",
    "#  [ 0.53881673,  0.41919451,  0.6852195 ]]\n",
    "print(a.sum()) # 2.5718191614547998\n",
    "print(a.min()) # 0.1862602113776709\n",
    "print(a.max()) # 0.6852195003967595"
   ]
  },
  {
   "cell_type": "code",
   "execution_count": 252,
   "metadata": {},
   "outputs": [
    {
     "output_type": "stream",
     "name": "stdout",
     "text": [
      "[[ 0  1  2  3]\n [ 4  5  6  7]\n [ 8  9 10 11]]\n[12 15 18 21]\n[0 4 8]\n[[ 0  1  3  6]\n [ 4  9 15 22]\n [ 8 17 27 38]]\n"
     ]
    }
   ],
   "source": [
    "# By default, these operations apply to the array as though it were a list of numbers, regardless of its shape. \n",
    "# However, by specifying the axis parameter you can apply an operation along the specified axis of an array:\n",
    "\n",
    "b = np.arange(12).reshape(3,4)\n",
    "print(b)\n",
    "# [[ 0,  1,  2,  3],\n",
    "#  [ 4,  5,  6,  7],\n",
    "#  [ 8,  9, 10, 11]]\n",
    "print(b.sum(axis=0))                            # sum of each column\n",
    "# [12, 15, 18, 21]\n",
    "print(b.min(axis=1))                            # min of each row\n",
    "# [0, 4, 8]\n",
    "print(b.cumsum(axis=1))                        # cumulative sum along each row\n",
    "#[[ 0,  1,  3,  6],\n",
    "# [ 4,  9, 15, 22],\n",
    "# [ 8, 17, 27, 38]]"
   ]
  },
  {
   "cell_type": "code",
   "execution_count": 253,
   "metadata": {},
   "outputs": [
    {
     "output_type": "stream",
     "name": "stdout",
     "text": [
      "[0 1 2]\n[1.         2.71828183 7.3890561 ]\n[0.         1.         1.41421356]\n[2. 0. 6.]\n"
     ]
    }
   ],
   "source": [
    "# Universal Functions\n",
    "# NumPy provides familiar mathematical functions such as sin, cos, and exp. \n",
    "# In NumPy, these are called “universal functions”(ufunc). Within NumPy, these functions operate elementwise on an array, producing an array as output.\n",
    "\n",
    "B = np.arange(3)\n",
    "print(B) # [0, 1, 2]\n",
    "print(np.exp(B)) # [ 1.        ,  2.71828183,  7.3890561 ]\n",
    "print(np.sqrt(B)) # [ 0.        ,  1.        ,  1.41421356]\n",
    "C = np.array([2., -1., 4.])\n",
    "print(np.add(B, C)) #[ 2.,  0.,  6.]"
   ]
  },
  {
   "cell_type": "code",
   "execution_count": 254,
   "metadata": {},
   "outputs": [
    {
     "output_type": "stream",
     "name": "stdout",
     "text": [
      "[  0   1   8  27  64 125 216 343 512 729]\n8\n[ 8 27 64]\n[-1000     1 -1000    27 -1000   125   216   343   512   729]\n[  729   512   343   216   125 -1000    27 -1000     1 -1000]\n"
     ]
    }
   ],
   "source": [
    "# Indexing, Slicing and Iterating\n",
    "# One-dimensional arrays can be indexed, sliced and iterated over, much like lists and other Python sequences.\n",
    "\n",
    "a = np.arange(10)**3\n",
    "print(a) # [  0,   1,   8,  27,  64, 125, 216, 343, 512, 729]\n",
    "print(a[2]) # 8\n",
    "print(a[2:5]) # [ 8, 27, 64]\n",
    "a[:6:2] = -1000    # equivalent to a[0:6:2] = -1000; from start to position 6, exclusive, set every 2nd element to -1000\n",
    "print(a) # [-1000,     1, -1000,    27, -1000,   125,   216,   343,   512,   729]\n",
    "print(a[ : :-1])  # reversed a [  729,   512,   343,   216,   125, -1000,    27, -1000,     1, -1000]"
   ]
  },
  {
   "cell_type": "code",
   "execution_count": 255,
   "metadata": {},
   "outputs": [
    {
     "output_type": "stream",
     "name": "stdout",
     "text": [
      "[[ 0  1  2  3]\n [10 11 12 13]\n [20 21 22 23]\n [30 31 32 33]\n [40 41 42 43]]\n23\n[ 1 11 21 31 41]\n[ 1 11 21 31 41]\n[[10 11 12 13]\n [20 21 22 23]]\n[40 41 42 43]\n"
     ]
    }
   ],
   "source": [
    "# Multidimensional arrays can have one index per axis. These indices are given in a tuple separated by commas:\n",
    "def f(x,y):\n",
    "    return 10*x+y\n",
    "\n",
    "b = np.fromfunction(f,(5,4),dtype=int)\n",
    "print(b)\n",
    "# [[ 0,  1,  2,  3],\n",
    "# [10, 11, 12, 13],\n",
    "# [20, 21, 22, 23],\n",
    "# [30, 31, 32, 33],\n",
    "# [40, 41, 42, 43]]\n",
    "print(b[2,3]) # 23\n",
    "print(b[0:5, 1]) # each row in the second column of b [ 1, 11, 21, 31, 41]\n",
    "print(b[ : ,1]) # equivalent to the previous example [ 1, 11, 21, 31, 41]\n",
    "print(b[1:3, : ]) # each column in the second and third row of b\n",
    "# [[10, 11, 12, 13],\n",
    "#  [20, 21, 22, 23]]\n",
    "\n",
    "# When fewer indices are provided than the number of axes, the missing indices are considered complete slices:\n",
    "\n",
    "print(b[-1]) # the last row. Equivalent to b[-1,:] [40, 41, 42, 43]"
   ]
  },
  {
   "cell_type": "code",
   "execution_count": 256,
   "metadata": {},
   "outputs": [
    {
     "output_type": "stream",
     "name": "stdout",
     "text": [
      "(2, 2, 3)\n[[100 101 102]\n [110 112 113]]\n[[  2  13]\n [102 113]]\n"
     ]
    }
   ],
   "source": [
    "# The expression within brackets in b[i] is treated as an i followed by as many instances of : \n",
    "# as needed to represent the remaining axes. NumPy also allows you to write this using dots as b[i,...].\n",
    "# The dots (...) represent as many colons as needed to produce a complete indexing tuple. \n",
    "# For example, if x is an array with 5 axes, then\n",
    "\n",
    "# x[1,2,...] is equivalent to x[1,2,:,:,:],\n",
    "# x[...,3] to x[:,:,:,:,3] and\n",
    "# x[4,...,5,:] to x[4,:,:,5,:]\n",
    "\n",
    "c = np.array( [[[  0,  1,  2],               # a 3D array (two stacked 2D arrays)\n",
    "                [ 10, 12, 13]],\n",
    "               [[100,101,102],\n",
    "                [110,112,113]]])\n",
    "print(c.shape) # (2, 2, 3)\n",
    "print(c[1,...]) # same as c[1,:,:] or c[1]\n",
    "# [[100, 101, 102],\n",
    "# [110, 112, 113]]\n",
    "print(c[...,2]) # same as c[:,:,2]\n",
    "# [[  2,  13],\n",
    "#  [102, 113]])"
   ]
  },
  {
   "cell_type": "code",
   "execution_count": 257,
   "metadata": {},
   "outputs": [
    {
     "output_type": "stream",
     "name": "stdout",
     "text": [
      "[0 1 2 3]\n[10 11 12 13]\n[20 21 22 23]\n[30 31 32 33]\n[40 41 42 43]\n"
     ]
    }
   ],
   "source": [
    "# Iterating over multidimensional arrays is done with respect to the first axis:\n",
    "\n",
    "for row in b:\n",
    "    print(row)\n",
    "\n",
    "# [0 1 2 3]\n",
    "# [10 11 12 13]\n",
    "# [20 21 22 23]\n",
    "# [30 31 32 33]\n",
    "# [40 41 42 43]"
   ]
  },
  {
   "cell_type": "code",
   "execution_count": 258,
   "metadata": {},
   "outputs": [
    {
     "output_type": "stream",
     "name": "stdout",
     "text": [
      "[[8. 0. 1. 2.]\n [0. 9. 7. 1.]\n [0. 1. 2. 0.]]\n(3, 4)\n"
     ]
    }
   ],
   "source": [
    "# Shape Manipulation\n",
    "# Changing the shape of an array\n",
    "# An array has a shape given by the number of elements along each axis:\n",
    "\n",
    "a = np.floor(10*np.random.random((3,4)))\n",
    "print(a)\n",
    "# [[ 2.,  8.,  0.,  6.],\n",
    "#  [ 4.,  5.,  1.,  1.],\n",
    "#  [ 8.,  9.,  3.,  6.]]\n",
    "print(a.shape) # (3, 4)"
   ]
  },
  {
   "cell_type": "code",
   "execution_count": 259,
   "metadata": {},
   "outputs": [
    {
     "output_type": "stream",
     "name": "stdout",
     "text": [
      "[8. 0. 1. 2. 0. 9. 7. 1. 0. 1. 2. 0.]\n[[8. 0.]\n [1. 2.]\n [0. 9.]\n [7. 1.]\n [0. 1.]\n [2. 0.]]\n[[8. 0. 0.]\n [0. 9. 1.]\n [1. 7. 2.]\n [2. 1. 0.]]\n(4, 3)\n(3, 4)\n"
     ]
    }
   ],
   "source": [
    "# The shape of an array can be changed with various commands. \n",
    "# Note that the following three commands all return a modified array, but do not change the original array:\n",
    "\n",
    "print(a.ravel())  # returns the array, flattened\n",
    "# [ 2.,  8.,  0.,  6.,  4.,  5.,  1.,  1.,  8.,  9.,  3.,  6.]\n",
    "print(a.reshape(6,2))  # returns the array with a modified shape\n",
    "# [[ 2.,  8.],\n",
    "# [ 0.,  6.],\n",
    "# [ 4.,  5.],\n",
    "# [ 1.,  1.],\n",
    "# [ 8.,  9.],\n",
    "# [ 3.,  6.]]\n",
    "print(a.T)  # returns the array, transposed\n",
    "# [[ 2.,  4.,  8.],\n",
    "# [ 8.,  5.,  9.],\n",
    "# [ 0.,  1.,  3.],\n",
    "# [ 6.,  1.,  6.]]\n",
    "print(a.T.shape) # (4, 3)\n",
    "print(a.shape) # (3, 4)"
   ]
  },
  {
   "cell_type": "code",
   "execution_count": 260,
   "metadata": {},
   "outputs": [
    {
     "output_type": "stream",
     "name": "stdout",
     "text": [
      "[[8. 0. 1. 2.]\n [0. 9. 7. 1.]\n [0. 1. 2. 0.]]\n[[8. 0. 1. 2. 0. 9.]\n [7. 1. 0. 1. 2. 0.]]\n"
     ]
    }
   ],
   "source": [
    "# The reshape function returns its argument with a modified shape, \n",
    "# whereas the ndarray.resize method modifies the array itself:\n",
    "\n",
    "print(a)\n",
    "# [[ 2.,  8.,  0.,  6.],\n",
    "# [ 4.,  5.,  1.,  1.],\n",
    "# [ 8.,  9.,  3.,  6.]]\n",
    "a.resize((2,6))\n",
    "print(a)\n",
    "# [[ 2.,  8.,  0.,  6.,  4.,  5.],\n",
    "#  [ 1.,  1.,  8.,  9.,  3.,  6.]]"
   ]
  },
  {
   "cell_type": "code",
   "execution_count": 261,
   "metadata": {},
   "outputs": [
    {
     "output_type": "stream",
     "name": "stdout",
     "text": [
      "[[8. 0. 1. 2.]\n [0. 9. 7. 1.]\n [0. 1. 2. 0.]]\n"
     ]
    }
   ],
   "source": [
    "# If a dimension is given as -1 in a reshaping operation, the other dimensions are automatically calculated:\n",
    "\n",
    "print(a.reshape(3,-1))\n",
    "# [[ 2.,  8.,  0.,  6.],\n",
    "#  [ 4.,  5.,  1.,  1.],\n",
    "#  [ 8.,  9.,  3.,  6.]]"
   ]
  },
  {
   "cell_type": "code",
   "execution_count": 262,
   "metadata": {},
   "outputs": [],
   "source": [
    "# Copies and Views\n",
    "# When operating and manipulating arrays, their data is sometimes copied into a new array and sometimes not. \n",
    "# This is often a source of confusion for beginners. There are three cases:"
   ]
  },
  {
   "cell_type": "code",
   "execution_count": 263,
   "metadata": {},
   "outputs": [
    {
     "output_type": "stream",
     "name": "stdout",
     "text": [
      "True\n(3, 4)\n2257458154112\n2257458154112\nNone\n"
     ]
    }
   ],
   "source": [
    "# No Copy at All\n",
    "# Simple assignments make no copy of array objects or of their data.\n",
    "\n",
    "a = np.arange(12)\n",
    "b = a            # no new object is created\n",
    "print(b is a)           # True --> a and b are two names for the same ndarray object\n",
    "b.shape = 3,4    # changes the shape of a\n",
    "print(a.shape) # (3, 4)\n",
    "\n",
    "#Python passes mutable objects as references, so function calls make no copy.\n",
    "def f(x):\n",
    "    print(id(x))\n",
    "    \n",
    "print(id(a)) # id is a unique identifier of an object 148293216\n",
    "print(f(a)) # 148293216"
   ]
  },
  {
   "cell_type": "code",
   "execution_count": 264,
   "metadata": {},
   "outputs": [
    {
     "output_type": "stream",
     "name": "stdout",
     "text": [
      "False\nTrue\nFalse\n(3, 4)\n[[   0    1    2    3]\n [1234    5    6    7]\n [   8    9   10   11]]\n[[   0   10   10    3]\n [1234   10   10    7]\n [   8   10   10   11]]\n"
     ]
    }
   ],
   "source": [
    "# View or Shallow Copy\n",
    "# Different array objects can share the same data. \n",
    "# The view method creates a new array object that looks at the same data.\n",
    "\n",
    "c = a.view()\n",
    "print(c is a) # False\n",
    "print(c.base is a)  # True: c is a view of the data owned by a\n",
    "print(c.flags.owndata) # False\n",
    "\n",
    "c.shape = 2,6 # a's shape doesn't change\n",
    "print(a.shape) # (3, 4)\n",
    "c[0,4] = 1234 # a's data changes\n",
    "print(a)\n",
    "# [[   0,    1,    2,    3],\n",
    "#  [1234,    5,    6,    7],\n",
    "#  [   8,    9,   10,   11]]\n",
    "\n",
    "# Slicing an array returns a view of it:\n",
    "\n",
    "s = a[ : , 1:3]     # spaces added for clarity; could also be written \"s = a[:,1:3]\"\n",
    "s[:] = 10           # s[:] is a view of s. Note the difference between s=10 and s[:]=10\n",
    "print(a)\n",
    "# [[   0,   10,   10,    3],\n",
    "#  [1234,   10,   10,    7],\n",
    "#  [   8,   10,   10,   11]]"
   ]
  },
  {
   "cell_type": "code",
   "execution_count": 265,
   "metadata": {},
   "outputs": [
    {
     "output_type": "stream",
     "name": "stdout",
     "text": [
      "False\nFalse\n[[   0   10   10    3]\n [1234   10   10    7]\n [   8   10   10   11]]\n"
     ]
    }
   ],
   "source": [
    "# Deep Copy\n",
    "# The copy method makes a complete copy of the array and its data.\n",
    "\n",
    "d = a.copy() # a new array object with new data is created\n",
    "print(d is a) # False\n",
    "print(d.base is a) # False d doesn't share anything with a\n",
    "d[0,0] = 9999\n",
    "print(a)\n",
    "# [[   0,   10,   10,    3],\n",
    "#  [1234,   10,   10,    7],\n",
    "#  [   8,   10,   10,   11]]"
   ]
  },
  {
   "cell_type": "code",
   "execution_count": 266,
   "metadata": {
    "collapsed": true
   },
   "outputs": [],
   "source": [
    "# Fancy indexing and index tricks\n",
    "# NumPy offers more indexing facilities than regular Python sequences. \n",
    "# In addition to indexing by integers and slices, as we saw before, \n",
    "# arrays can be indexed by arrays of integers and arrays of booleans."
   ]
  },
  {
   "cell_type": "code",
   "execution_count": 267,
   "metadata": {},
   "outputs": [
    {
     "output_type": "stream",
     "name": "stdout",
     "text": [
      "[  0   1   4   9  16  25  36  49  64  81 100 121]\n[ 1  1  9 64 25]\n[[ 9 16]\n [81 49]]\n"
     ]
    }
   ],
   "source": [
    "# Indexing with Arrays of Indices\n",
    "a = np.arange(12)**2  # the first 12 square numbers \n",
    "print(a) # [  0   1   4   9  16  25  36  49  64  81 100 121]\n",
    "i = np.array( [ 1,1,3,8,5 ] ) # an array of indices\n",
    "print(a[i]) # [ 1,  1,  9, 64, 25] the elements of a at the positions i\n",
    "j = np.array( [ [ 3, 4], [ 9, 7 ] ] ) # a bidimensional array of indices\n",
    "print(a[j]) # the same shape as j\n",
    "# [[ 9, 16],\n",
    "# [81, 49]]"
   ]
  },
  {
   "cell_type": "code",
   "execution_count": 268,
   "metadata": {},
   "outputs": [
    {
     "output_type": "stream",
     "name": "stdout",
     "text": [
      "[[ 0  1  2  3]\n [ 4  5  6  7]\n [ 8  9 10 11]]\n[[ 4  5  6  7]\n [ 8  9 10 11]]\n[[ 4  5  6  7]\n [ 8  9 10 11]]\n[[ 0  2]\n [ 4  6]\n [ 8 10]]\n"
     ]
    }
   ],
   "source": [
    "# Booleans can be used for indexing; \n",
    "# for each dimension of the array we give a 1D boolean array selecting the slices we want:\n",
    "\n",
    "a = np.arange(12).reshape(3,4)\n",
    "print(a)\n",
    "b1 = np.array([False,True,True])             # first dim selection\n",
    "b2 = np.array([True,False,True,False])       # second dim selection\n",
    "\n",
    "print(a[b1,:])  # selecting rows\n",
    "# [[ 4,  5,  6,  7],\n",
    "# [ 8,  9, 10, 11]]\n",
    "\n",
    "print(a[b1]) # same thing\n",
    "# [[ 4,  5,  6,  7],\n",
    "#  [ 8,  9, 10, 11]]\n",
    "\n",
    "print(a[:,b2])  # selecting columns\n",
    "# [[ 0,  2],\n",
    "# [ 4,  6],\n",
    "# [ 8, 10]]"
   ]
  },
  {
   "cell_type": "code",
   "execution_count": 269,
   "metadata": {},
   "outputs": [
    {
     "output_type": "stream",
     "name": "stdout",
     "text": [
      "[[0 1 2]\n [3 4 5]\n [6 7 8]]\n[[ 0  1  2]\n [ 3  4 -1]\n [-1 -1 -1]]\n"
     ]
    }
   ],
   "source": [
    "# Using numpy.where(condition[, x, y])\n",
    "# Return elements, either from x or y, depending on condition.\n",
    "a = np.arange(9).reshape(3, 3)\n",
    "print(a)\n",
    "\n",
    "# Loop over all the elements. if the element < 5 => return the element, otherwise return -1\n",
    "a = np.where(a < 5, a, -1) \n",
    "print(a)"
   ]
  },
  {
   "cell_type": "code",
   "execution_count": 270,
   "metadata": {},
   "outputs": [
    {
     "output_type": "stream",
     "name": "stdout",
     "text": [
      "[8 8 3 7 7 0 4 2 5 2]\nPositions where value > 5:  (array([0, 1, 3, 4], dtype=int64),)\n[8 8 7 7]\n"
     ]
    }
   ],
   "source": [
    "# How to get index locations that satisfy a given condition using np.where?\n",
    "a = np.array([8, 8, 3, 7, 7, 0, 4, 2, 5, 2])\n",
    "print(a)\n",
    "\n",
    "# Positions where value > 5\n",
    "index_gt5 = np.where(a > 5)\n",
    "print(\"Positions where value > 5: \", index_gt5)\n",
    "\n",
    "# Retrieve the corresponding values\n",
    "print(a[index_gt5])"
   ]
  }
 ],
 "metadata": {
  "kernelspec": {
   "display_name": "Python 3",
   "language": "python",
   "name": "python3"
  },
  "language_info": {
   "codemirror_mode": {
    "name": "ipython",
    "version": 3
   },
   "file_extension": ".py",
   "mimetype": "text/x-python",
   "name": "python",
   "nbconvert_exporter": "python",
   "pygments_lexer": "ipython3",
   "version": "3.8.3-final"
  }
 },
 "nbformat": 4,
 "nbformat_minor": 2
}