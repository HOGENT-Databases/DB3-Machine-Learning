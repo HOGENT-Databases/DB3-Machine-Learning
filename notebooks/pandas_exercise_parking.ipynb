{
 "cells": [
  {
   "cell_type": "markdown",
   "metadata": {},
   "source": [
    "## Pandas analytics: case Parking"
   ]
  },
  {
   "cell_type": "code",
   "execution_count": 1,
   "metadata": {},
   "outputs": [
    {
     "output_type": "execute_result",
     "data": {
      "text/plain": [
       "             LastModified                   Name  Available  Capacity  Open\n",
       "0     2018-10-24 23:38:00       P01 Vrijdagmarkt        430       647  True\n",
       "1     2018-10-24 23:38:00              P08 Ramen        147       266  True\n",
       "2     2018-10-24 23:38:00               P02 Reep        383       470  True\n",
       "3     2018-10-24 23:34:00  P10 Sint-Pietersplein        575       708  True\n",
       "4     2018-10-24 23:43:00       P01 Vrijdagmarkt        433       647  True\n",
       "...                   ...                    ...        ...       ...   ...\n",
       "2375  2018-10-29 14:59:00  P10 Sint-Pietersplein        261       708  True\n",
       "2376  2018-10-29 14:59:00       P01 Vrijdagmarkt        106       647  True\n",
       "2377  2018-10-29 14:57:00       P04 Savaanstraat        236       540  True\n",
       "2378  2018-10-29 14:56:00              P08 Ramen         83       266  True\n",
       "2379  2018-10-29 14:56:00               P02 Reep        269       470  True\n",
       "\n",
       "[2380 rows x 5 columns]"
      ],
      "text/html": "<div>\n<style scoped>\n    .dataframe tbody tr th:only-of-type {\n        vertical-align: middle;\n    }\n\n    .dataframe tbody tr th {\n        vertical-align: top;\n    }\n\n    .dataframe thead th {\n        text-align: right;\n    }\n</style>\n<table border=\"1\" class=\"dataframe\">\n  <thead>\n    <tr style=\"text-align: right;\">\n      <th></th>\n      <th>LastModified</th>\n      <th>Name</th>\n      <th>Available</th>\n      <th>Capacity</th>\n      <th>Open</th>\n    </tr>\n  </thead>\n  <tbody>\n    <tr>\n      <th>0</th>\n      <td>2018-10-24 23:38:00</td>\n      <td>P01 Vrijdagmarkt</td>\n      <td>430</td>\n      <td>647</td>\n      <td>True</td>\n    </tr>\n    <tr>\n      <th>1</th>\n      <td>2018-10-24 23:38:00</td>\n      <td>P08 Ramen</td>\n      <td>147</td>\n      <td>266</td>\n      <td>True</td>\n    </tr>\n    <tr>\n      <th>2</th>\n      <td>2018-10-24 23:38:00</td>\n      <td>P02 Reep</td>\n      <td>383</td>\n      <td>470</td>\n      <td>True</td>\n    </tr>\n    <tr>\n      <th>3</th>\n      <td>2018-10-24 23:34:00</td>\n      <td>P10 Sint-Pietersplein</td>\n      <td>575</td>\n      <td>708</td>\n      <td>True</td>\n    </tr>\n    <tr>\n      <th>4</th>\n      <td>2018-10-24 23:43:00</td>\n      <td>P01 Vrijdagmarkt</td>\n      <td>433</td>\n      <td>647</td>\n      <td>True</td>\n    </tr>\n    <tr>\n      <th>...</th>\n      <td>...</td>\n      <td>...</td>\n      <td>...</td>\n      <td>...</td>\n      <td>...</td>\n    </tr>\n    <tr>\n      <th>2375</th>\n      <td>2018-10-29 14:59:00</td>\n      <td>P10 Sint-Pietersplein</td>\n      <td>261</td>\n      <td>708</td>\n      <td>True</td>\n    </tr>\n    <tr>\n      <th>2376</th>\n      <td>2018-10-29 14:59:00</td>\n      <td>P01 Vrijdagmarkt</td>\n      <td>106</td>\n      <td>647</td>\n      <td>True</td>\n    </tr>\n    <tr>\n      <th>2377</th>\n      <td>2018-10-29 14:57:00</td>\n      <td>P04 Savaanstraat</td>\n      <td>236</td>\n      <td>540</td>\n      <td>True</td>\n    </tr>\n    <tr>\n      <th>2378</th>\n      <td>2018-10-29 14:56:00</td>\n      <td>P08 Ramen</td>\n      <td>83</td>\n      <td>266</td>\n      <td>True</td>\n    </tr>\n    <tr>\n      <th>2379</th>\n      <td>2018-10-29 14:56:00</td>\n      <td>P02 Reep</td>\n      <td>269</td>\n      <td>470</td>\n      <td>True</td>\n    </tr>\n  </tbody>\n</table>\n<p>2380 rows × 5 columns</p>\n</div>"
     },
     "metadata": {},
     "execution_count": 1
    }
   ],
   "source": [
    "# read the file parking.csv into a dataframe\n",
    "# it contains historical information about the available parking spots in 6 city parking garages in Gent\n",
    "import pandas as pd\n",
    "url = 'https://raw.githubusercontent.com/HOGENT-Databases/DB3-Workshops/master/data/parking.csv'\n",
    "parking = pd.read_csv(url)\n",
    "parking"
   ]
  },
  {
   "cell_type": "code",
   "execution_count": 2,
   "metadata": {},
   "outputs": [],
   "source": [
    "# drop lines with duplicate \"LastModified\" field and keep the last line \n",
    "parking = parking.drop_duplicates(subset=['LastModified','Name'],keep='last')"
   ]
  },
  {
   "cell_type": "code",
   "execution_count": 3,
   "metadata": {},
   "outputs": [
    {
     "output_type": "execute_result",
     "data": {
      "text/plain": [
       "           date\n",
       "0    2017-12-23\n",
       "1    2017-12-24\n",
       "2    2017-12-25\n",
       "3    2017-12-26\n",
       "4    2017-12-27\n",
       "..          ...\n",
       "137  2019-01-02\n",
       "138  2019-01-03\n",
       "139  2019-01-04\n",
       "140  2019-01-05\n",
       "141  2019-01-06\n",
       "\n",
       "[142 rows x 1 columns]"
      ],
      "text/html": "<div>\n<style scoped>\n    .dataframe tbody tr th:only-of-type {\n        vertical-align: middle;\n    }\n\n    .dataframe tbody tr th {\n        vertical-align: top;\n    }\n\n    .dataframe thead th {\n        text-align: right;\n    }\n</style>\n<table border=\"1\" class=\"dataframe\">\n  <thead>\n    <tr style=\"text-align: right;\">\n      <th></th>\n      <th>date</th>\n    </tr>\n  </thead>\n  <tbody>\n    <tr>\n      <th>0</th>\n      <td>2017-12-23</td>\n    </tr>\n    <tr>\n      <th>1</th>\n      <td>2017-12-24</td>\n    </tr>\n    <tr>\n      <th>2</th>\n      <td>2017-12-25</td>\n    </tr>\n    <tr>\n      <th>3</th>\n      <td>2017-12-26</td>\n    </tr>\n    <tr>\n      <th>4</th>\n      <td>2017-12-27</td>\n    </tr>\n    <tr>\n      <th>...</th>\n      <td>...</td>\n    </tr>\n    <tr>\n      <th>137</th>\n      <td>2019-01-02</td>\n    </tr>\n    <tr>\n      <th>138</th>\n      <td>2019-01-03</td>\n    </tr>\n    <tr>\n      <th>139</th>\n      <td>2019-01-04</td>\n    </tr>\n    <tr>\n      <th>140</th>\n      <td>2019-01-05</td>\n    </tr>\n    <tr>\n      <th>141</th>\n      <td>2019-01-06</td>\n    </tr>\n  </tbody>\n</table>\n<p>142 rows × 1 columns</p>\n</div>"
     },
     "metadata": {},
     "execution_count": 3
    }
   ],
   "source": [
    "# read the file holidays.csv into a dataframe\n",
    "# it contains the official school holidays\n",
    "holidays = pd.read_csv('https://raw.githubusercontent.com/HOGENT-Databases/DB3-Workshops/master/data/holidays.csv')\n",
    "holidays"
   ]
  },
  {
   "cell_type": "code",
   "execution_count": 5,
   "metadata": {},
   "outputs": [],
   "source": [
    "# add a column \"holiday\" to the parking dataframe that contains \"1\" if the corresponding date is a holiday an \"0\" if it's not\n"
   ]
  },
  {
   "cell_type": "code",
   "execution_count": 7,
   "metadata": {},
   "outputs": [],
   "source": [
    "# Save the resulting dataframe to a csv file again to your google drive \n",
    "from google.colab import drive\n",
    "drive.mount('/content/gdrive')\n",
    "parking.to_csv('parking2.csv')"
   ]
  },
  {
   "cell_type": "code",
   "execution_count": null,
   "metadata": {},
   "outputs": [],
   "source": []
  }
 ],
 "metadata": {
  "kernelspec": {
   "display_name": "Python 3",
   "language": "python",
   "name": "python3"
  },
  "language_info": {
   "codemirror_mode": {
    "name": "ipython",
    "version": 3
   },
   "file_extension": ".py",
   "mimetype": "text/x-python",
   "name": "python",
   "nbconvert_exporter": "python",
   "pygments_lexer": "ipython3",
   "version": "3.8.3-final"
  }
 },
 "nbformat": 4,
 "nbformat_minor": 2
}