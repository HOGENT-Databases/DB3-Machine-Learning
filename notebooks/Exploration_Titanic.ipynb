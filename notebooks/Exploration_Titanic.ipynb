{
 "cells": [
  {
   "cell_type": "markdown",
   "metadata": {},
   "source": [
    "### Data exploration\n",
    "Classification is one of the most common applications for data mining. It corresponds to a task that occurs frequently in everyday life.    \n",
    "  \n",
    "For example the table below is a (very small) subset of the passenger list of the Titanic, with some attributes per passenger and whether they survived or not. The sinking of the RMS Titanic is one of the most infamous shipwrecks in history. On April 15, 1912, during her maiden voyage, the Titanic sank after colliding with an iceberg. A disaster in which 1502 out of 2224 (= 68%) passengers and crew died. This sensational tragedy shocked the international community and led to better safety regulations for ships.  \n",
    "  \n",
    "One of the reasons that the shipwreck led to such loss of life was that there were not enough lifeboats for the passengers and crew. Although there was some element of luck involved in surviving the sinking, some groups of people were more likely to survive than others, such as women, children, and the upper-class.  \n",
    "  \n",
    "The meaning of the attributes or features is as follows:\n"
   ]
  },
  {
   "cell_type": "markdown",
   "metadata": {},
   "source": [
    "<table>\n",
    "<tr><th>Variable</th><th>Definition</th><th>Values</th></tr>\n",
    "<tr><td>survival</td><td>Survival</td><td>0 = No, 1 = Yes</tr>\n",
    "    <tr><td>pclass</td><td>Ticket class\t1 = 1st, 2 = 2nd, 3 = 3rd</td><td></td></tr>\n",
    "<tr><td>sex</td><td>Gender</td><td></td></tr>\n",
    "<tr><td>Age</td><td>Age in years</td><td></td></tr>\n",
    "<tr><td>sibsp</td><td># of siblings / spouses aboard the Titanic<td></td></td></tr>\n",
    "<tr><td>parch</td><td># of parents / children aboard the Titanic<td></td></td></tr>\n",
    "<tr><td>ticket</td><td>Ticket number<td></td></td></tr>\n",
    "<tr><td>fare</td><td>Passenger fare<td></td></td></tr>\n",
    "<tr><td>cabin</td><td>Cabin number<td></td></td></tr>\n",
    "<tr><td>embarked</td><td>Port of Embarkation</td><td>C = Cherbourg, Q = Queenstown, S = Southampton</td></tr>\n",
    "\n",
    "</table>"
   ]
  },
  {
   "cell_type": "markdown",
   "metadata": {},
   "source": [
    "**pclass**: A proxy for socio-economic status (SES)  \n",
    "- 1st = Upper\n",
    "- 2nd = Middle\n",
    "- 3rd = Lower \n",
    "  \n",
    "**age**: Age is fractional if less than 1. If the age is estimated, is it in the form of xx.5\n",
    "    \n",
    "**sibsp**: The dataset defines family relations in this way...\n",
    "- Sibling = brother, sister, stepbrother, stepsister\n",
    "- Spouse = husband, wife (mistresses and fiancés were ignored)\n",
    "  \n",
    "**parch**: The dataset defines family relations in this way...\n",
    "- Parent = mother, father\n",
    "- Child = daughter, son, stepdaughter, stepson\n",
    "- Some children travelled only with a nanny, therefore parch=0 for them.\n"
   ]
  },
  {
   "cell_type": "markdown",
   "metadata": {},
   "source": [
    "![titanicl.png](images/titanic.png)"
   ]
  },
  {
   "cell_type": "markdown",
   "metadata": {},
   "source": [
    "##### Categorical and continuous attributes\n",
    "Many practical data mining systems divide attributes into just two types:\n",
    "- **Categorical**: corresponding to values that fall into a distinct number of classes, like male/female or ticket class. \n",
    "- **Continuous**: corresponding to integer or double values, like age.  \n",
    "  \n",
    "Important remark: although some attributes are represented by an integer (like ticket class) they are categorical by nature. This is an important observation when building a model. \n"
   ]
  }
 ],
 "metadata": {
  "kernelspec": {
   "display_name": "Python 3",
   "language": "python",
   "name": "python3"
  },
  "language_info": {
   "codemirror_mode": {
    "name": "ipython",
    "version": 3
   },
   "file_extension": ".py",
   "mimetype": "text/x-python",
   "name": "python",
   "nbconvert_exporter": "python",
   "pygments_lexer": "ipython3",
   "version": "3.7.6"
  }
 },
 "nbformat": 4,
 "nbformat_minor": 4
}
