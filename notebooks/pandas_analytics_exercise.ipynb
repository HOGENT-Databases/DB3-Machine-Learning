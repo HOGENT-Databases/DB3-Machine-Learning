{
 "cells": [
  {
   "cell_type": "markdown",
   "metadata": {},
   "source": [
    "## PART 1 (DATA EXPLORATION)\n",
    "Het bestand `blog-gender-dataset.csv` bevat ongeveer 3000 blog posts, samen met het geslacht van de blogger. <br>\n",
    "Het is de bedoeling om na te gaan of het geslacht kan afgeleid worden uit de tekst."
   ]
  },
  {
   "cell_type": "markdown",
   "metadata": {},
   "source": [
    "a. Importeer de data uit de file blog-text-dataset.csv in een Pandas DataFrame"
   ]
  },
  {
   "cell_type": "code",
   "execution_count": 1,
   "metadata": {},
   "outputs": [],
   "source": [
    "import pandas as pd\n",
    "url = 'https://raw.githubusercontent.com/HOGENT-Databases/DB3-Workshops/master/data/blog-gender-dataset.csv.csv'\n",
    "blog = pd.read_csv(url)"
   ]
  },
  {
   "cell_type": "markdown",
   "metadata": {},
   "source": [
    "b. Toon de laatste 10 rijen om een idee te krijgen van de inhoud"
   ]
  },
  {
   "cell_type": "code",
   "execution_count": null,
   "metadata": {},
   "outputs": [],
   "source": []
  },
  {
   "cell_type": "markdown",
   "metadata": {},
   "source": [
    "c. Bepaal het totaal aantal blogteksten"
   ]
  },
  {
   "cell_type": "code",
   "execution_count": null,
   "metadata": {},
   "outputs": [],
   "source": []
  },
  {
   "cell_type": "markdown",
   "metadata": {},
   "source": [
    "d. Bepaal het aantal blogteksten per unieke waarde van gender (= geslacht)"
   ]
  },
  {
   "cell_type": "code",
   "execution_count": null,
   "metadata": {},
   "outputs": [],
   "source": []
  },
  {
   "cell_type": "markdown",
   "metadata": {},
   "source": [
    "e. Je merkt dat M and F elk meerdere keren voorkomen. Hoe verklaar je dit?"
   ]
  },
  {
   "cell_type": "code",
   "execution_count": null,
   "metadata": {},
   "outputs": [],
   "source": []
  },
  {
   "cell_type": "markdown",
   "metadata": {},
   "source": [
    "f. Los dit probleem op, zodat je nog slechts twee lijnen overhoudt: M en F. Toon je resultaat."
   ]
  },
  {
   "cell_type": "code",
   "execution_count": null,
   "metadata": {},
   "outputs": [],
   "source": []
  },
  {
   "cell_type": "markdown",
   "metadata": {},
   "source": [
    "g. Verwijder alle lijnen die lege waarden in een van de kolommen bevatten."
   ]
  },
  {
   "cell_type": "code",
   "execution_count": null,
   "metadata": {},
   "outputs": [],
   "source": []
  },
  {
   "cell_type": "markdown",
   "metadata": {},
   "source": [
    "h. Hoeveel lijnen zijn er nu nog?"
   ]
  },
  {
   "cell_type": "code",
   "execution_count": null,
   "metadata": {},
   "outputs": [],
   "source": []
  },
  {
   "cell_type": "markdown",
   "metadata": {},
   "source": [
    "i. In de psychologie wordt vaak beweerd dat vrouwen meer woorden gebruiken dan mannen. <br>\n",
    "We gaan controleren of dit ook klopt voor deze blogposts. <br>\n",
    "Voeg een extra kolom 'aantalWoorden' toe waarbij het aantal woorden per blogpost komt te staan. <br>\n",
    "Voor de eenvoud spreken we over 2 woorden wanneer ze worden gescheiden van elkaar door een spatie. <br> \n",
    "Je moet geen rekening houden met speciale karakters en dergelijke, bijvoorbeeld it's wordt geteld als één woord <br>\n",
    "Toon de laatste 10 rijen om te controleren of de berekening klopt"
   ]
  },
  {
   "cell_type": "code",
   "execution_count": null,
   "metadata": {},
   "outputs": [],
   "source": [
    "blog['aantalWoorden'] = blog.text.str.split().map(len)\n",
    "blog.tail(10)"
   ]
  },
  {
   "cell_type": "markdown",
   "metadata": {},
   "source": [
    "j. Bereken het gemiddeld aantal woorden per geslacht"
   ]
  },
  {
   "cell_type": "code",
   "execution_count": null,
   "metadata": {},
   "outputs": [],
   "source": []
  },
  {
   "cell_type": "markdown",
   "metadata": {},
   "source": [
    "k. Geef de 20 blogposts met het grootste aantal woorden"
   ]
  },
  {
   "cell_type": "code",
   "execution_count": null,
   "metadata": {},
   "outputs": [],
   "source": []
  },
  {
   "cell_type": "markdown",
   "metadata": {},
   "source": [
    "## PART 2 (MACHINE LEARNING)\n",
    "l. Stel een model op om op basis van een blogtekst het geslacht van de blogger in te schatten. <br>\n",
    "Maak gebruik van Multinomial Naive Bayes"
   ]
  },
  {
   "cell_type": "code",
   "execution_count": null,
   "metadata": {},
   "outputs": [],
   "source": []
  },
  {
   "cell_type": "markdown",
   "metadata": {},
   "source": [
    "m. Bepaal hoe goed een blogtekst is om het geslacht te bepalen, m.a.w. hoeveel procent van de voorspellingen is juist?"
   ]
  },
  {
   "cell_type": "code",
   "execution_count": null,
   "metadata": {},
   "outputs": [],
   "source": []
  },
  {
   "cell_type": "markdown",
   "metadata": {},
   "source": [
    "n. Schrijf een functie die kan gebruikt worden om het geslacht van de auteur van een tekst te bepalen. <br>\n",
    "Gebruik die functie voor de teksten \"My new dress is awesome.\" en \"Last night I was playing the FIFA soccer game\"."
   ]
  },
  {
   "cell_type": "code",
   "execution_count": null,
   "metadata": {},
   "outputs": [],
   "source": []
  }
 ],
 "metadata": {
  "kernelspec": {
   "display_name": "Python 3",
   "language": "python",
   "name": "python3"
  },
  "language_info": {
   "codemirror_mode": {
    "name": "ipython",
    "version": 3
   },
   "file_extension": ".py",
   "mimetype": "text/x-python",
   "name": "python",
   "nbconvert_exporter": "python",
   "pygments_lexer": "ipython3",
   "version": "3.7.6"
  }
 },
 "nbformat": 4,
 "nbformat_minor": 2
}