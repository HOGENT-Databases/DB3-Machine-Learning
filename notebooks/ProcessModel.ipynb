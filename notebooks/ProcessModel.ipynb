{
 "cells": [
  {
   "cell_type": "markdown",
   "metadata": {
    "slideshow": {
     "slide_type": "slide"
    }
   },
   "source": [
    "## The analytics process model\n",
    "Each data analytics project consists of several steps (Lemahieu, Vanden Broucke, & Baesens, 2018):\n",
    "![processmodel.png](images/processmodel.png)"
   ]
  },
  {
   "cell_type": "markdown",
   "metadata": {
    "slideshow": {
     "slide_type": "-"
    }
   },
   "source": [
    "- It is assumed that ca. 80-90 % of the overall project time is spent on preprocessing \n",
    "- because understanding the business and the data and cleaning the data can consume a lot of time. \n",
    "- after all, most data analytics algorithms are available off-the-shelf in software libraries or even complete applications. "
   ]
  }
 ],
 "metadata": {
  "celltoolbar": "Slideshow",
  "kernelspec": {
   "display_name": "Python 3",
   "language": "python",
   "name": "python3"
  },
  "language_info": {
   "codemirror_mode": {
    "name": "ipython",
    "version": 3
   },
   "file_extension": ".py",
   "mimetype": "text/x-python",
   "name": "python",
   "nbconvert_exporter": "python",
   "pygments_lexer": "ipython3",
   "version": "3.7.6"
  }
 },
 "nbformat": 4,
 "nbformat_minor": 4
}
