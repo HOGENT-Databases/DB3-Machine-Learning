{
  "nbformat": 4,
  "nbformat_minor": 0,
  "metadata": {
    "kernelspec": {
      "display_name": "Python 3",
      "language": "python",
      "name": "python3"
    },
    "language_info": {
      "codemirror_mode": {
        "name": "ipython",
        "version": 3
      },
      "file_extension": ".py",
      "mimetype": "text/x-python",
      "name": "python",
      "nbconvert_exporter": "python",
      "pygments_lexer": "ipython3",
      "version": "3.7.9-final"
    },
    "colab": {
      "name": "CNN Example.ipynb",
      "provenance": [],
      "collapsed_sections": []
    }
  },
  "cells": [
    {
      "cell_type": "markdown",
      "metadata": {
        "id": "G9jecw0-YNze"
      },
      "source": [
        "## Image classification with Convolutional Neural Networks using Keras"
      ]
    },
    {
      "cell_type": "code",
      "metadata": {
        "id": "QVU5paHMYA1X",
        "colab": {
          "base_uri": "https://localhost:8080/"
        },
        "outputId": "d009b6a2-e5b8-4bd7-b037-57ecc81bb0e8"
      },
      "source": [
        "# Check if gpu is used (optional)\n",
        "from tensorflow.python.client import device_lib\n",
        "print(device_lib.list_local_devices())"
      ],
      "execution_count": 1,
      "outputs": [
        {
          "output_type": "stream",
          "name": "stdout",
          "text": [
            "[name: \"/device:CPU:0\"\ndevice_type: \"CPU\"\nmemory_limit: 268435456\nlocality {\n}\nincarnation: 16486440065140094492\n, name: \"/device:XLA_CPU:0\"\ndevice_type: \"XLA_CPU\"\nmemory_limit: 17179869184\nlocality {\n}\nincarnation: 17349414577268647750\nphysical_device_desc: \"device: XLA_CPU device\"\n, name: \"/device:XLA_GPU:0\"\ndevice_type: \"XLA_GPU\"\nmemory_limit: 17179869184\nlocality {\n}\nincarnation: 4499022217534744512\nphysical_device_desc: \"device: XLA_GPU device\"\n]\n"
          ]
        }
      ]
    },
    {
      "cell_type": "code",
      "metadata": {
        "id": "E8ZDx4K73Rfb",
        "colab": {
          "base_uri": "https://localhost:8080/"
        },
        "outputId": "49736823-1141-4f4e-f734-1295ded578a6"
      },
      "source": [
        "try:\n",
        "  # %tensorflow_version only exists in Colab.\n",
        "  %tensorflow_version 2.x\n",
        "except Exception:\n",
        "  pass\n",
        "\n",
        "# TensorFlow and tf.keras\n",
        "import tensorflow as tf\n",
        "from tensorflow import keras\n",
        "\n",
        "print(tf.__version__)\n",
        "\n",
        "# Helper libraries\n",
        "import numpy as np\n",
        "import matplotlib.pyplot as plt\n",
        "import sklearn as sk\n",
        "import pandas as pd\n",
        "\n",
        "# fix random seed for reproducibility\n",
        "seed = 2020\n",
        "np.random.seed(seed)  \n",
        "\n",
        "import sklearn as sk\n",
        "from sklearn.model_selection import train_test_split\n",
        "\n",
        "from tensorflow.keras.datasets import mnist\n",
        "from tensorflow.keras.models import Sequential\n",
        "from tensorflow.keras.layers import Dense, Dropout\n",
        "from tensorflow.keras.optimizers import Adam\n",
        "from tensorflow.keras.constraints import max_norm\n",
        "from tensorflow.keras.callbacks import EarlyStopping, ModelCheckpoint\n",
        "from tensorflow.keras.models import load_model\n",
        "from tensorflow.keras.layers import Conv2D, Dense, Flatten, MaxPooling2D "
      ],
      "execution_count": 2,
      "outputs": [
        {
          "output_type": "stream",
          "name": "stdout",
          "text": [
            "2.3.1\n"
          ]
        }
      ]
    },
    {
      "cell_type": "code",
      "metadata": {
        "id": "rL5nGo4s-PyD"
      },
      "source": [
        "# helper functions for visualisation\n",
        "# plotting the loss functions used in this notebook\n",
        "# we plot the loss we want to optimise on the left (in this case: accuracy)\n",
        "def plot_history(history):\n",
        "  plt.figure(figsize = (12,4))\n",
        "  plt.subplot(1,2,1)\n",
        "\n",
        "  plt.xlabel('Epoch')\n",
        "  plt.ylabel('Accuracy')\n",
        "  plt.plot(history.epoch, np.array(history.history['accuracy']),'g-',\n",
        "           label='Train accuracy')\n",
        "  plt.plot(history.epoch, np.array(history.history['val_accuracy']),'r-',\n",
        "           label = 'Validation accuracy')\n",
        "  plt.legend()\n",
        "\n",
        "  plt.subplot(1,2,2)\n",
        "  plt.xlabel('Epoch')\n",
        "  plt.ylabel('Loss minimised by model')\n",
        "  plt.plot(history.epoch, np.array(history.history['loss']),'g-',\n",
        "           label='Train loss')\n",
        "  plt.plot(history.epoch, np.array(history.history['val_loss']),'r-',\n",
        "           label = 'Validation loss')\n",
        "  plt.legend()"
      ],
      "execution_count": 3,
      "outputs": []
    },
    {
      "cell_type": "markdown",
      "metadata": {
        "id": "5BX66EkHVF5n"
      },
      "source": [
        "## Loading the data\n",
        "\n",
        "In the code below, the MNIST data is loaded and the features are rescaled. In this case we don't need a trainable scaler since the features are pixel values, i.e., integers between 0 and 155. We rescale them to be in [0,1] since this seems to work better with many neural network architectures.\n",
        "\n",
        "There already is a predefined test set, but we split off a validation set (from the training data) of 10000 samples."
      ]
    },
    {
      "cell_type": "code",
      "metadata": {
        "id": "0XOdlOdGY7tW"
      },
      "source": [
        "# load train and test data\n",
        "(X_train_all, y_train_all), (X_test, y_test) = mnist.load_data()\n"
      ],
      "execution_count": 4,
      "outputs": []
    },
    {
      "cell_type": "code",
      "metadata": {
        "id": "2m1yIPOFYzxv",
        "colab": {
          "base_uri": "https://localhost:8080/"
        },
        "outputId": "69a79075-1995-4cab-8422-b78edbcd0337"
      },
      "source": [
        "# let's print the shape before we reshape and normalize\n",
        "print(\"X_train_all shape\", X_train_all.shape)\n",
        "print(\"y_train_all shape\", y_train_all.shape)\n",
        "print(\"X_test shape\", X_test.shape)\n",
        "print(\"y_test shape\", y_test.shape)\n"
      ],
      "execution_count": 5,
      "outputs": [
        {
          "output_type": "stream",
          "name": "stdout",
          "text": [
            "X_train_all shape (60000, 28, 28)\ny_train_all shape (60000,)\nX_test shape (10000, 28, 28)\ny_test shape (10000,)\n"
          ]
        }
      ]
    },
    {
      "cell_type": "markdown",
      "metadata": {
        "id": "o88SZjZmaETI"
      },
      "source": [
        "### Data Preparation\n",
        "* MNIST dataset **requires some preparation** for use in a convnet\n",
        "\n",
        "#### Reshaping the Image Data \n",
        "* **Convnets** require **NumPy array inputs** \n",
        "* Each **sample** must have the **shape**\n",
        "> (**width**, **height**, **channels**)\n",
        "* Each pixel has **one channel** (grayscale shade 0-255), so sample shapes will be \n",
        "> **`(28, 28, 1)`**\n",
        "* As the **neural network learns** from the images, it **creates many more channels**\n",
        "    * These channels will **represent more complex features**, like **edges**, **curves** and **lines**\n",
        "    * Enable network to **recognize digits** based on these features and how they’re **combined**  \n",
        "  \n",
        "* NumPy array method `reshape` receives a tuple representing the new shape"
      ]
    },
    {
      "cell_type": "code",
      "metadata": {
        "colab": {
          "base_uri": "https://localhost:8080/"
        },
        "id": "0sM_YdUtZX4G",
        "outputId": "ff2a951b-ba14-4f54-c59d-fb85cd2f6598"
      },
      "source": [
        "X_train_all = X_train_all.reshape((60000, 28, 28, 1))\n",
        "print(X_train_all.shape)\n",
        "\n",
        "X_test = X_test.reshape((10000, 28, 28, 1))\n",
        "print(X_test.shape)\n",
        "\n",
        "# some preprocessing ... convert integers to floating point and rescale them to [0,1] range\n",
        "# normalized data leads to better models\n",
        "X_train_all = X_train_all.astype('float32')\n",
        "X_test = X_test.astype('float32')\n",
        "X_train_all /= 255\n",
        "X_test /= 255\n",
        "\n",
        "# print the final input shape \n",
        "print(\"Train_all matrix shape\", X_train_all.shape)\n",
        "print(\"Test matrix shape\", X_test.shape)"
      ],
      "execution_count": 6,
      "outputs": [
        {
          "output_type": "stream",
          "name": "stdout",
          "text": [
            "(60000, 28, 28, 1)\n(10000, 28, 28, 1)\nTrain_all matrix shape (60000, 28, 28, 1)\nTest matrix shape (10000, 28, 28, 1)\n"
          ]
        }
      ]
    },
    {
      "cell_type": "code",
      "metadata": {
        "id": "UxP4HNF-3Rfh"
      },
      "source": [
        "# This data set contains a training set and a test set\n",
        "# we still need to split off a validation set\n",
        "\n",
        "# Number of test samples\n",
        "N_test = X_test.shape[0]\n",
        "\n",
        "# split off 10000 samples for validation\n",
        "N_val = 10000\n",
        "N_train = X_train_all.shape[0] - N_val\n",
        "\n",
        "# now extract the samples into train, validate and test sets\n",
        "# set random state = 0 to make sure you get the same split each time\n",
        "X_train, X_val, y_train, y_val = train_test_split(X_train_all, y_train_all, test_size = N_val, random_state=0)\n"
      ],
      "execution_count": 7,
      "outputs": []
    },
    {
      "cell_type": "markdown",
      "metadata": {
        "id": "qWpHB-_7WzrL"
      },
      "source": [
        "From the documentation of `train_test_split`:\n",
        "\n",
        ">*test_size: float or int, default=None* \n",
        "\n",
        ">If float, should be between 0.0 and 1.0 and represent the proportion of the dataset to include in the test split. If int, represents the absolute number of test samples. If None, the value is set to the complement of the train size (which is also a parameter). If train_size is also None, it will be set to 0.25."
      ]
    },
    {
      "cell_type": "markdown",
      "metadata": {
        "id": "Px0ZNPE23Rft"
      },
      "source": [
        "## Multi-class classification\n",
        "\n",
        "For multi-class classification problems with k classes, we train one model output per class. Each of the k outputs represents the probability that the sample comes from that class. This means the target labels are vectors of k values, all of which are zero except for that which corresponds to the correct class.\n",
        "\n",
        "There are multiple ways to achieve this. Here, we will convert class vectors to binary class matrices instead of 1 integer label, you now have 10 binary labels (1 for each class) these labels represent the desired class probabilities: all labels are zero, except the one for the right class, which is one.\n",
        "\n",
        "This will result in a model that outputs vectors of 10 probabilities when calling its 'predict()' function. In the analysis notebook, we will obtain class labels by finding the largest probability."
      ]
    },
    {
      "cell_type": "code",
      "metadata": {
        "id": "x5xdDCBW3Rfu",
        "colab": {
          "base_uri": "https://localhost:8080/"
        },
        "outputId": "2802c96c-be98-4620-c599-58e4c6097c41"
      },
      "source": [
        "y_train_all = keras.utils.to_categorical(y_train_all)\n",
        "y_train = keras.utils.to_categorical(y_train)\n",
        "y_val = keras.utils.to_categorical(y_val)\n",
        "y_test = keras.utils.to_categorical(y_test)\n",
        "\n",
        "# look at the new labels for the first sample\n",
        "print(y_train[0])"
      ],
      "execution_count": 8,
      "outputs": [
        {
          "output_type": "stream",
          "name": "stdout",
          "text": [
            "[0. 0. 0. 0. 0. 0. 0. 1. 0. 0.]\n"
          ]
        }
      ]
    },
    {
      "cell_type": "markdown",
      "metadata": {
        "id": "RHh6Ju04YH2v"
      },
      "source": [
        "For classification, the output layer ends in a sigmoid activation. However, for multiple classes, it needs to be ensured that the outputs sum up to 1 (since they represent class probabilities). This is achieved with the 'softmax' activation function.\n",
        "\n",
        "Since we are addressing a multi-class classification problem, with vectors of zeros and ones as labels, the loss function is 'categorical cross entropy'. \n"
      ]
    },
    {
      "cell_type": "code",
      "metadata": {
        "id": "d2oefgBo3Rfz"
      },
      "source": [
        "num_classes = 10\n",
        "\n",
        "# A typical convnet consists of\n",
        "# input layer that receives training samples\n",
        "# hidden layers that learn from training samples\n",
        "# output layer that produces predictions\n",
        "\n",
        "def initial_model():\n",
        "    # we create a variable called model, and we set it equal to an instance of a Sequential object.\n",
        "    model = Sequential()\n",
        "\n",
        "    # We'll start with a convolution layer\n",
        "    # A convolutional layer uses the relationships between pixels in close proximity to learn useful features (or patterns) in small areas of each sample\n",
        "    # These features become inputs to subsequent layers\n",
        "    # Kernels typically are 3-by-3 (or 5-by-5 or 7-by-7) \n",
        "    # Kernel-size is a hyperparameter\n",
        "    # By looking at features near one another, the network begins to recognize features, like edges, straight lines and curves\n",
        "    # Next, convolution layer moves kernel one pixel to the right (the stride)\n",
        "    # Complete pass left-to-right and top-to-bottom is called a filter\n",
        "    # For a 3-by-3 kernel, the filter dimensions will be two less than the input dimensions\n",
        "    # For each 28-by-28 MNIST image, the filter will be 26-by-26\n",
        "    # Number of filters in the convolutional layer is commonly 32 or 64 for small images\n",
        "\n",
        "    model.add(Conv2D(filters=64, kernel_size=(3, 3), activation='relu', input_shape=(28, 28, 1)))\n",
        "\n",
        "    # Input samples are 28-by-28-by-1—that is, 784 features each\n",
        "    # Specified 64 filters and a 3-by-3 kernel for the layer, so the feature map size is 26-by-26-by-64 for a total of 26x26x64=43.264 features\n",
        "\n",
        "    # Adding a pooling layer\n",
        "    # Outputs maximum feature from each pool\n",
        "    # Stride for a 2-by-2 pool is 2\n",
        "    # Every group of four features is reduced to one, so 2-by-2 pooling compresses number of features by 75%\n",
        "    # Reduces previous layer’s output from 26-by-26-by-64 to 13-by-13-by-64  \n",
        "    model.add(MaxPooling2D(pool_size=(2, 2))) \n",
        "\n",
        "    # Convnets often have many convolution and pooling layers.\n",
        "    # Input to the second convolution layer is the 13-by-13-by-64 output of the first pooling layer\n",
        "    # Output of this Conv2D layer will be 11-by-11-by-128\n",
        "    # For odd dimensions like 11-by-11, Keras pooling layers round down by default (in this case to 10-by-10), so this pooling layer’s output will be 5-by-5-by-128\n",
        "\n",
        "    model.add(Conv2D(filters=128, kernel_size=(3, 3), activation='relu'))\n",
        "\n",
        "    model.add(MaxPooling2D(pool_size=(2, 2)))\n",
        "\n",
        "\n",
        "    # Flattening the results\n",
        "    # Model's final output will be a one-dimensional array of 10 probabilities that classify the digits\n",
        "    # To prepare for one-dimensional final predictions, need to flatten the previous layer’s output to one dimension\n",
        "    # Flatten layer's output will be 1-by-3200 (5 × 5 × 128)\n",
        "\n",
        "    model.add(Flatten())\n",
        "\n",
        "    # Adding a Dense Layer to Reduce the Number of Features\n",
        "    # Layers before the Flatten layer learned digit features\n",
        "    # Now must learn the relationships among those features to classify which digit each image represents\n",
        "    # Accomplished with fully connected Dense layers\n",
        "    # The following Dense layer creates 128 neurons (units) that learn from the 3200 outputs of the previous layer\n",
        "\n",
        "    model.add(Dense(units=128, activation='relu'))\n",
        "\n",
        "    # Adding Another Dense Layer to Produce the Final Output\n",
        "    # Final Dense layer classifies inputs into neurons representing the classes 0-9\n",
        "    # The softmax activation function converts values of these 10 neurons into classification probabilities\n",
        "    # Neuron with highest probability represents the prediction for a given digit image\n",
        "\n",
        "    model.add(Dense(units=10, activation='softmax'))\n",
        "\n",
        "    # Before we can train our model, we must compile it\n",
        "    # To the compile() function, we are passing the optimizer, the loss function, and the metrics that we would like to see. \n",
        "    # Notice that the optimizer we have specified is called Adam. Adam is just a variant of SGD. \n",
        "    model.compile(loss='categorical_crossentropy',\n",
        "                  optimizer= tf.keras.optimizers.Adam(learning_rate = 0.001),\n",
        "                  metrics=['accuracy']) \n",
        "    return model\n",
        "\n"
      ],
      "execution_count": 9,
      "outputs": []
    },
    {
      "cell_type": "markdown",
      "metadata": {
        "id": "YYVqgcdecK7j"
      },
      "source": [
        "## Training \n",
        "\n",
        "The code below will introduce minibatches by specifying a batch size\n"
      ]
    },
    {
      "cell_type": "code",
      "metadata": {
        "id": "DZJEehAQ3Rf6",
        "colab": {
          "base_uri": "https://localhost:8080/"
        },
        "outputId": "9883827f-9fb7-491a-faf4-870d952ad68b"
      },
      "source": [
        "# Create your model\n",
        "model_1 = initial_model()\n",
        "model_1.summary()\n",
        "\n",
        "\n",
        "# We now add batch size to the mix of training parameters\n",
        "# If you don't specify batch size below, all training data will be used for each learning step\n",
        "batch_size = 128\n",
        "epochs = 20\n",
        "\n",
        "# We fit our model to the data. Fitting the model to the data means to train the model on the data.\n",
        "# batch_size specifies how many training samples should be sent to the model at once.\n",
        "# epochs = how many times the complete training set (all of the samples) will be passed to the model.\n",
        "# verbose = 1 indicates how much logging we will see as the model trains. (other values are a.o. 0, 2)\n",
        "history_1 = model_1.fit(X_train, y_train,\n",
        "                    batch_size=batch_size,\n",
        "                    epochs=epochs,\n",
        "                    verbose=1,\n",
        "                    validation_data=(X_val, y_val)\n",
        "                    )\n",
        "\n",
        "# The output gives us the following values for each epoch:\n",
        "# Epoch number\n",
        "# Duration in seconds\n",
        "# Loss\n",
        "# Accuracy\n"
      ],
      "execution_count": null,
      "outputs": [
        {
          "output_type": "stream",
          "text": [
            "Model: \"sequential_1\"\n",
            "_________________________________________________________________\n",
            "Layer (type)                 Output Shape              Param #   \n",
            "=================================================================\n",
            "conv2d (Conv2D)              (None, 26, 26, 64)        640       \n",
            "_________________________________________________________________\n",
            "max_pooling2d (MaxPooling2D) (None, 13, 13, 64)        0         \n",
            "_________________________________________________________________\n",
            "conv2d_1 (Conv2D)            (None, 11, 11, 128)       73856     \n",
            "_________________________________________________________________\n",
            "max_pooling2d_1 (MaxPooling2 (None, 5, 5, 128)         0         \n",
            "_________________________________________________________________\n",
            "flatten (Flatten)            (None, 3200)              0         \n",
            "_________________________________________________________________\n",
            "dense (Dense)                (None, 128)               409728    \n",
            "_________________________________________________________________\n",
            "dense_1 (Dense)              (None, 10)                1290      \n",
            "=================================================================\n",
            "Total params: 485,514\n",
            "Trainable params: 485,514\n",
            "Non-trainable params: 0\n",
            "_________________________________________________________________\n",
            "Epoch 1/20\n",
            "391/391 [==============================] - 86s 220ms/step - loss: 0.1977 - accuracy: 0.9397 - val_loss: 0.0662 - val_accuracy: 0.9790\n",
            "Epoch 2/20\n",
            "391/391 [==============================] - 86s 219ms/step - loss: 0.0561 - accuracy: 0.9832 - val_loss: 0.0474 - val_accuracy: 0.9835\n",
            "Epoch 3/20\n",
            "391/391 [==============================] - 85s 219ms/step - loss: 0.0375 - accuracy: 0.9883 - val_loss: 0.0425 - val_accuracy: 0.9852\n",
            "Epoch 4/20\n",
            "391/391 [==============================] - 89s 228ms/step - loss: 0.0279 - accuracy: 0.9915 - val_loss: 0.0337 - val_accuracy: 0.9887\n",
            "Epoch 5/20\n",
            "391/391 [==============================] - 85s 219ms/step - loss: 0.0209 - accuracy: 0.9937 - val_loss: 0.0434 - val_accuracy: 0.9872\n",
            "Epoch 6/20\n",
            "391/391 [==============================] - 85s 218ms/step - loss: 0.0169 - accuracy: 0.9945 - val_loss: 0.0359 - val_accuracy: 0.9893\n",
            "Epoch 7/20\n",
            "391/391 [==============================] - 85s 217ms/step - loss: 0.0126 - accuracy: 0.9959 - val_loss: 0.0389 - val_accuracy: 0.9894\n",
            "Epoch 8/20\n",
            "391/391 [==============================] - 85s 217ms/step - loss: 0.0090 - accuracy: 0.9972 - val_loss: 0.0379 - val_accuracy: 0.9890\n",
            "Epoch 9/20\n",
            "391/391 [==============================] - 85s 217ms/step - loss: 0.0085 - accuracy: 0.9972 - val_loss: 0.0373 - val_accuracy: 0.9897\n",
            "Epoch 10/20\n",
            "391/391 [==============================] - 85s 218ms/step - loss: 0.0072 - accuracy: 0.9975 - val_loss: 0.0416 - val_accuracy: 0.9894\n",
            "Epoch 11/20\n",
            "391/391 [==============================] - 89s 227ms/step - loss: 0.0076 - accuracy: 0.9972 - val_loss: 0.0375 - val_accuracy: 0.9910\n",
            "Epoch 12/20\n",
            "391/391 [==============================] - 86s 219ms/step - loss: 0.0053 - accuracy: 0.9982 - val_loss: 0.0412 - val_accuracy: 0.9900\n",
            "Epoch 13/20\n",
            "391/391 [==============================] - 86s 219ms/step - loss: 0.0056 - accuracy: 0.9981 - val_loss: 0.0453 - val_accuracy: 0.9893\n",
            "Epoch 14/20\n",
            "391/391 [==============================] - 85s 218ms/step - loss: 0.0040 - accuracy: 0.9988 - val_loss: 0.0370 - val_accuracy: 0.9917\n",
            "Epoch 15/20\n",
            "391/391 [==============================] - 85s 219ms/step - loss: 0.0048 - accuracy: 0.9983 - val_loss: 0.0345 - val_accuracy: 0.9908\n",
            "Epoch 16/20\n",
            "391/391 [==============================] - 85s 218ms/step - loss: 0.0046 - accuracy: 0.9986 - val_loss: 0.0409 - val_accuracy: 0.9899\n",
            "Epoch 17/20\n",
            "391/391 [==============================] - 86s 219ms/step - loss: 0.0033 - accuracy: 0.9987 - val_loss: 0.0465 - val_accuracy: 0.9892\n",
            "Epoch 18/20\n",
            "391/391 [==============================] - 85s 218ms/step - loss: 0.0039 - accuracy: 0.9989 - val_loss: 0.0422 - val_accuracy: 0.9908\n",
            "Epoch 19/20\n",
            "391/391 [==============================] - 85s 218ms/step - loss: 0.0034 - accuracy: 0.9988 - val_loss: 0.0385 - val_accuracy: 0.9909\n",
            "Epoch 20/20\n",
            "391/391 [==============================] - 85s 218ms/step - loss: 0.0016 - accuracy: 0.9995 - val_loss: 0.0408 - val_accuracy: 0.9914\n"
          ],
          "name": "stdout"
        }
      ]
    },
    {
      "cell_type": "code",
      "metadata": {
        "id": "NigJYW4X3Rf9",
        "colab": {
          "base_uri": "https://localhost:8080/",
          "height": 383
        },
        "outputId": "fbdb54a7-3ab4-4640-fce0-fd1564d9e576"
      },
      "source": [
        "# model_1 now contains the model at the end of the training run\n",
        "# We analyse the result:\n",
        "\n",
        "[train_loss, train_accuracy] = model_1.evaluate(X_train, y_train, verbose=0)\n",
        "print(\"Training set Accuracy:{:7.2f}\".format(train_accuracy))\n",
        "print(\"Training set Loss:{:7.4f}\\n\".format(train_loss))\n",
        "\n",
        "[val_loss, val_accuracy] = model_1.evaluate(X_val, y_val, verbose=0)\n",
        "print(\"Validation set Accuracy:{:7.2f}\".format(val_accuracy))\n",
        "print(\"Validation set Loss:{:7.4f}\\n\".format(val_loss))\n",
        "\n",
        "#Now we visualise what happened during training\n",
        "plot_history(history_1)"
      ],
      "execution_count": null,
      "outputs": [
        {
          "output_type": "stream",
          "text": [
            "Training set Accuracy:   1.00\n",
            "Training set Loss: 0.0009\n",
            "\n",
            "Validation set Accuracy:   0.99\n",
            "Validation set Loss: 0.0408\n",
            "\n"
          ],
          "name": "stdout"
        },
        {
          "output_type": "display_data",
          "data": {
            "image/png": "[encoded data removed]",
            "text/plain": [
              "<Figure size 864x288 with 2 Axes>"
            ]
          },
          "metadata": {
            "tags": [],
            "needs_background": "light"
          }
        }
      ]
    },
    {
      "cell_type": "markdown",
      "metadata": {
        "id": "WgLBptRm7m4D"
      },
      "source": [
        "## Final model and analysis\n",
        "\n",
        "Once you are happy with how your model performs on the validation set, it is time to re-train it on the original training set (i.e., including the validation set). This means that you no longer have a validation set to use during training. So you only have to execute the following steps once you are satisfied with the model you created!\n",
        "\n",
        "Once this re-training has been done, you can analyse how your network performs on the test set.\n",
        "\n"
      ]
    },
    {
      "cell_type": "code",
      "metadata": {
        "id": "UQYg4oqj8eaC",
        "colab": {
          "base_uri": "https://localhost:8080/"
        },
        "outputId": "c57f085e-b4b1-4703-93fb-e86d467f9439"
      },
      "source": [
        "model_for_test = initial_model()\n",
        "model_for_test.summary()\n",
        "\n",
        "# We now add batch size to the mix of training parameters\n",
        "# If you don't specify batch size below, all training data will be used for each learning step\n",
        "batch_size = 128\n",
        "epochs = 50\n",
        "\n",
        "history_for_test = model_for_test.fit(X_train_all, y_train_all,\n",
        "                    batch_size=batch_size,\n",
        "                    epochs=epochs,\n",
        "                    verbose=1\n",
        "                    )\n",
        "\n"
      ],
      "execution_count": null,
      "outputs": [
        {
          "output_type": "stream",
          "text": [
            "Model: \"sequential_4\"\n",
            "_________________________________________________________________\n",
            "Layer (type)                 Output Shape              Param #   \n",
            "=================================================================\n",
            "dense_12 (Dense)             (None, 64)                50240     \n",
            "_________________________________________________________________\n",
            "dense_13 (Dense)             (None, 32)                2080      \n",
            "_________________________________________________________________\n",
            "dense_14 (Dense)             (None, 10)                330       \n",
            "=================================================================\n",
            "Total params: 52,650\n",
            "Trainable params: 52,650\n",
            "Non-trainable params: 0\n",
            "_________________________________________________________________\n",
            "Epoch 1/50\n",
            "469/469 [==============================] - 1s 2ms/step - loss: 0.4159 - accuracy: 0.8813\n",
            "Epoch 2/50\n",
            "469/469 [==============================] - 1s 2ms/step - loss: 0.1680 - accuracy: 0.9509\n",
            "Epoch 3/50\n",
            "469/469 [==============================] - 1s 2ms/step - loss: 0.1236 - accuracy: 0.9634\n",
            "Epoch 4/50\n",
            "469/469 [==============================] - 1s 2ms/step - loss: 0.0971 - accuracy: 0.9715\n",
            "Epoch 5/50\n",
            "469/469 [==============================] - 1s 2ms/step - loss: 0.0801 - accuracy: 0.9761\n",
            "Epoch 6/50\n",
            "469/469 [==============================] - 1s 2ms/step - loss: 0.0663 - accuracy: 0.9799\n",
            "Epoch 7/50\n",
            "469/469 [==============================] - 1s 2ms/step - loss: 0.0587 - accuracy: 0.9826\n",
            "Epoch 8/50\n",
            "469/469 [==============================] - 1s 2ms/step - loss: 0.0498 - accuracy: 0.9850\n",
            "Epoch 9/50\n",
            "469/469 [==============================] - 1s 2ms/step - loss: 0.0440 - accuracy: 0.9864\n",
            "Epoch 10/50\n",
            "469/469 [==============================] - 1s 2ms/step - loss: 0.0397 - accuracy: 0.9881\n",
            "Epoch 11/50\n",
            "469/469 [==============================] - 1s 2ms/step - loss: 0.0343 - accuracy: 0.9894\n",
            "Epoch 12/50\n",
            "469/469 [==============================] - 1s 2ms/step - loss: 0.0299 - accuracy: 0.9908\n",
            "Epoch 13/50\n",
            "469/469 [==============================] - 1s 2ms/step - loss: 0.0281 - accuracy: 0.9913\n",
            "Epoch 14/50\n",
            "469/469 [==============================] - 1s 2ms/step - loss: 0.0248 - accuracy: 0.9926\n",
            "Epoch 15/50\n",
            "469/469 [==============================] - 1s 2ms/step - loss: 0.0218 - accuracy: 0.9933\n",
            "Epoch 16/50\n",
            "469/469 [==============================] - 1s 2ms/step - loss: 0.0188 - accuracy: 0.9946\n",
            "Epoch 17/50\n",
            "469/469 [==============================] - 1s 2ms/step - loss: 0.0188 - accuracy: 0.9941\n",
            "Epoch 18/50\n",
            "469/469 [==============================] - 1s 2ms/step - loss: 0.0176 - accuracy: 0.9947\n",
            "Epoch 19/50\n",
            "469/469 [==============================] - 1s 2ms/step - loss: 0.0146 - accuracy: 0.9956\n",
            "Epoch 20/50\n",
            "469/469 [==============================] - 1s 2ms/step - loss: 0.0120 - accuracy: 0.9967\n",
            "Epoch 21/50\n",
            "469/469 [==============================] - 1s 2ms/step - loss: 0.0126 - accuracy: 0.9962\n",
            "Epoch 22/50\n",
            "469/469 [==============================] - 1s 2ms/step - loss: 0.0113 - accuracy: 0.9963\n",
            "Epoch 23/50\n",
            "469/469 [==============================] - 1s 2ms/step - loss: 0.0110 - accuracy: 0.9966\n",
            "Epoch 24/50\n",
            "469/469 [==============================] - 1s 2ms/step - loss: 0.0105 - accuracy: 0.9966\n",
            "Epoch 25/50\n",
            "469/469 [==============================] - 1s 3ms/step - loss: 0.0082 - accuracy: 0.9977\n",
            "Epoch 26/50\n",
            "469/469 [==============================] - 1s 2ms/step - loss: 0.0098 - accuracy: 0.9971\n",
            "Epoch 27/50\n",
            "469/469 [==============================] - 1s 2ms/step - loss: 0.0060 - accuracy: 0.9983\n",
            "Epoch 28/50\n",
            "469/469 [==============================] - 1s 2ms/step - loss: 0.0081 - accuracy: 0.9974\n",
            "Epoch 29/50\n",
            "469/469 [==============================] - 1s 2ms/step - loss: 0.0088 - accuracy: 0.9972\n",
            "Epoch 30/50\n",
            "469/469 [==============================] - 1s 2ms/step - loss: 0.0060 - accuracy: 0.9983\n",
            "Epoch 31/50\n",
            "469/469 [==============================] - 1s 2ms/step - loss: 0.0094 - accuracy: 0.9966\n",
            "Epoch 32/50\n",
            "469/469 [==============================] - 1s 2ms/step - loss: 0.0051 - accuracy: 0.9985\n",
            "Epoch 33/50\n",
            "469/469 [==============================] - 1s 2ms/step - loss: 0.0046 - accuracy: 0.9987\n",
            "Epoch 34/50\n",
            "469/469 [==============================] - 1s 2ms/step - loss: 0.0052 - accuracy: 0.9984\n",
            "Epoch 35/50\n",
            "469/469 [==============================] - 1s 2ms/step - loss: 0.0053 - accuracy: 0.9983\n",
            "Epoch 36/50\n",
            "469/469 [==============================] - 1s 2ms/step - loss: 0.0086 - accuracy: 0.9971\n",
            "Epoch 37/50\n",
            "469/469 [==============================] - 1s 2ms/step - loss: 0.0060 - accuracy: 0.9982\n",
            "Epoch 38/50\n",
            "469/469 [==============================] - 1s 2ms/step - loss: 0.0083 - accuracy: 0.9974\n",
            "Epoch 39/50\n",
            "469/469 [==============================] - 1s 2ms/step - loss: 0.0047 - accuracy: 0.9985\n",
            "Epoch 40/50\n",
            "469/469 [==============================] - 1s 2ms/step - loss: 0.0021 - accuracy: 0.9995\n",
            "Epoch 41/50\n",
            "469/469 [==============================] - 1s 2ms/step - loss: 0.0050 - accuracy: 0.9984\n",
            "Epoch 42/50\n",
            "469/469 [==============================] - 1s 3ms/step - loss: 0.0080 - accuracy: 0.9974\n",
            "Epoch 43/50\n",
            "469/469 [==============================] - 1s 2ms/step - loss: 0.0036 - accuracy: 0.9989\n",
            "Epoch 44/50\n",
            "469/469 [==============================] - 1s 3ms/step - loss: 0.0011 - accuracy: 0.9998\n",
            "Epoch 45/50\n",
            "469/469 [==============================] - 1s 3ms/step - loss: 3.6833e-04 - accuracy: 1.0000\n",
            "Epoch 46/50\n",
            "469/469 [==============================] - 2s 4ms/step - loss: 2.9678e-04 - accuracy: 1.0000\n",
            "Epoch 47/50\n",
            "469/469 [==============================] - 1s 2ms/step - loss: 3.3878e-04 - accuracy: 1.0000\n",
            "Epoch 48/50\n",
            "469/469 [==============================] - 1s 2ms/step - loss: 0.0270 - accuracy: 0.9922\n",
            "Epoch 49/50\n",
            "469/469 [==============================] - 1s 2ms/step - loss: 0.0028 - accuracy: 0.9992\n",
            "Epoch 50/50\n",
            "469/469 [==============================] - 1s 2ms/step - loss: 8.2386e-04 - accuracy: 0.9999\n"
          ],
          "name": "stdout"
        }
      ]
    },
    {
      "cell_type": "code",
      "metadata": {
        "id": "ZW73OV2u-TxZ",
        "colab": {
          "base_uri": "https://localhost:8080/",
          "height": 296
        },
        "outputId": "66406353-0a0b-4033-fb62-6b5323d73699"
      },
      "source": [
        "plt.figure(figsize = (12,4))\n",
        "plt.subplot(1,2,1)\n",
        "\n",
        "plt.xlabel('Epoch')\n",
        "plt.ylabel('Accuracy')\n",
        "plt.plot(history_for_test.epoch, np.array(history_for_test.history['accuracy']),'g-',\n",
        "        label='Train accuracy')\n",
        "plt.legend()\n",
        "\n",
        "plt.subplot(1,2,2)\n",
        "plt.xlabel('Epoch')\n",
        "plt.ylabel('Loss minimised by model')\n",
        "plt.plot(history_for_test.epoch, np.array(history_for_test.history['loss']),'g-',\n",
        "        label='Train loss')\n",
        "plt.legend()"
      ],
      "execution_count": null,
      "outputs": [
        {
          "output_type": "execute_result",
          "data": {
            "text/plain": [
              "<matplotlib.legend.Legend at 0x1de690c3308>"
            ]
          },
          "metadata": {
            "tags": []
          },
          "execution_count": 22
        },
        {
          "output_type": "display_data",
          "data": {
            "text/plain": [
              "<Figure size 864x288 with 2 Axes>"
            ],
            "image/svg+xml": "<?xml version=\"1.0\" encoding=\"utf-8\" standalone=\"no\"?>\r\n<!DOCTYPE svg PUBLIC \"-//W3C//DTD SVG 1.1//EN\"\r\n  \"http://www.w3.org/Graphics/SVG/1.1/DTD/svg11.dtd\">\r\n<!-- Created with matplotlib (https://matplotlib.org/) -->\r\n<svg height=\"262.19625pt\" version=\"1.1\" viewBox=\"0 0 726.94375 262.19625\" width=\"726.94375pt\" xmlns=\"http://www.w3.org/2000/svg\" xmlns:xlink=\"http://www.w3.org/1999/xlink\">\r\n <metadata>\r\n  <rdf:RDF xmlns:cc=\"http://creativecommons.org/ns#\" xmlns:dc=\"http://purl.org/dc/elements/1.1/\" xmlns:rdf=\"http://www.w3.org/1999/02/22-rdf-syntax-ns#\">\r\n   <cc:Work>\r\n    <dc:type rdf:resource=\"http://purl.org/dc/dcmitype/StillImage\"/>\r\n    <dc:date>2020-11-26T22:47:14.444618</dc:date>\r\n    <dc:format>image/svg+xml</dc:format>\r\n    <dc:creator>\r\n     <cc:Agent>\r\n      <dc:title>Matplotlib v3.3.3, https://matplotlib.org/</dc:title>\r\n     </cc:Agent>\r\n    </dc:creator>\r\n   </cc:Work>\r\n  </rdf:RDF>\r\n </metadata>\r\n <defs>\r\n  <style type=\"text/css\">*{stroke-linecap:butt;stroke-linejoin:round;}</style>\r\n </defs>\r\n <g id=\"figure_1\">\r\n  <g id=\"patch_1\">\r\n   <path d=\"M 0 262.19625 \r\nL 726.94375 262.19625 \r\nL 726.94375 0 \r\nL 0 0 \r\nz\r\n\" style=\"fill:none;\"/>\r\n  </g>\r\n  <g id=\"axes_1\">\r\n   <g id=\"patch_2\">\r\n    <path d=\"M 50.14375 224.64 \r\nL 354.507386 224.64 \r\nL 354.507386 7.2 \r\nL 50.14375 7.2 \r\nz\r\n\" style=\"fill:#ffffff;\"/>\r\n   </g>\r\n   <g id=\"matplotlib.axis_1\">\r\n    <g id=\"xtick_1\">\r\n     <g id=\"line2d_1\">\r\n      <defs>\r\n       <path d=\"M 0 0 \r\nL 0 3.5 \r\n\" id=\"m1964a5d7a3\" style=\"stroke:#000000;stroke-width:0.8;\"/>\r\n      </defs>\r\n      <g>\r\n       <use style=\"stroke:#000000;stroke-width:0.8;\" x=\"63.978461\" xlink:href=\"#m1964a5d7a3\" y=\"224.64\"/>\r\n      </g>\r\n     </g>\r\n     <g id=\"text_1\">\r\n      <!-- 0 -->\r\n      <g transform=\"translate(60.797211 239.238438)scale(0.1 -0.1)\">\r\n       <defs>\r\n        <path d=\"M 31.78125 66.40625 \r\nQ 24.171875 66.40625 20.328125 58.90625 \r\nQ 16.5 51.421875 16.5 36.375 \r\nQ 16.5 21.390625 20.328125 13.890625 \r\nQ 24.171875 6.390625 31.78125 6.390625 \r\nQ 39.453125 6.390625 43.28125 13.890625 \r\nQ 47.125 21.390625 47.125 36.375 \r\nQ 47.125 51.421875 43.28125 58.90625 \r\nQ 39.453125 66.40625 31.78125 66.40625 \r\nz\r\nM 31.78125 74.21875 \r\nQ 44.046875 74.21875 50.515625 64.515625 \r\nQ 56.984375 54.828125 56.984375 36.375 \r\nQ 56.984375 17.96875 50.515625 8.265625 \r\nQ 44.046875 -1.421875 31.78125 -1.421875 \r\nQ 19.53125 -1.421875 13.0625 8.265625 \r\nQ 6.59375 17.96875 6.59375 36.375 \r\nQ 6.59375 54.828125 13.0625 64.515625 \r\nQ 19.53125 74.21875 31.78125 74.21875 \r\nz\r\n\" id=\"DejaVuSans-48\"/>\r\n       </defs>\r\n       <use xlink:href=\"#DejaVuSans-48\"/>\r\n      </g>\r\n     </g>\r\n    </g>\r\n    <g id=\"xtick_2\">\r\n     <g id=\"line2d_2\">\r\n      <g>\r\n       <use style=\"stroke:#000000;stroke-width:0.8;\" x=\"120.446668\" xlink:href=\"#m1964a5d7a3\" y=\"224.64\"/>\r\n      </g>\r\n     </g>\r\n     <g id=\"text_2\">\r\n      <!-- 10 -->\r\n      <g transform=\"translate(114.084168 239.238438)scale(0.1 -0.1)\">\r\n       <defs>\r\n        <path d=\"M 12.40625 8.296875 \r\nL 28.515625 8.296875 \r\nL 28.515625 63.921875 \r\nL 10.984375 60.40625 \r\nL 10.984375 69.390625 \r\nL 28.421875 72.90625 \r\nL 38.28125 72.90625 \r\nL 38.28125 8.296875 \r\nL 54.390625 8.296875 \r\nL 54.390625 0 \r\nL 12.40625 0 \r\nz\r\n\" id=\"DejaVuSans-49\"/>\r\n       </defs>\r\n       <use xlink:href=\"#DejaVuSans-49\"/>\r\n       <use x=\"63.623047\" xlink:href=\"#DejaVuSans-48\"/>\r\n      </g>\r\n     </g>\r\n    </g>\r\n    <g id=\"xtick_3\">\r\n     <g id=\"line2d_3\">\r\n      <g>\r\n       <use style=\"stroke:#000000;stroke-width:0.8;\" x=\"176.914875\" xlink:href=\"#m1964a5d7a3\" y=\"224.64\"/>\r\n      </g>\r\n     </g>\r\n     <g id=\"text_3\">\r\n      <!-- 20 -->\r\n      <g transform=\"translate(170.552375 239.238438)scale(0.1 -0.1)\">\r\n       <defs>\r\n        <path d=\"M 19.1875 8.296875 \r\nL 53.609375 8.296875 \r\nL 53.609375 0 \r\nL 7.328125 0 \r\nL 7.328125 8.296875 \r\nQ 12.9375 14.109375 22.625 23.890625 \r\nQ 32.328125 33.6875 34.8125 36.53125 \r\nQ 39.546875 41.84375 41.421875 45.53125 \r\nQ 43.3125 49.21875 43.3125 52.78125 \r\nQ 43.3125 58.59375 39.234375 62.25 \r\nQ 35.15625 65.921875 28.609375 65.921875 \r\nQ 23.96875 65.921875 18.8125 64.3125 \r\nQ 13.671875 62.703125 7.8125 59.421875 \r\nL 7.8125 69.390625 \r\nQ 13.765625 71.78125 18.9375 73 \r\nQ 24.125 74.21875 28.421875 74.21875 \r\nQ 39.75 74.21875 46.484375 68.546875 \r\nQ 53.21875 62.890625 53.21875 53.421875 \r\nQ 53.21875 48.921875 51.53125 44.890625 \r\nQ 49.859375 40.875 45.40625 35.40625 \r\nQ 44.1875 33.984375 37.640625 27.21875 \r\nQ 31.109375 20.453125 19.1875 8.296875 \r\nz\r\n\" id=\"DejaVuSans-50\"/>\r\n       </defs>\r\n       <use xlink:href=\"#DejaVuSans-50\"/>\r\n       <use x=\"63.623047\" xlink:href=\"#DejaVuSans-48\"/>\r\n      </g>\r\n     </g>\r\n    </g>\r\n    <g id=\"xtick_4\">\r\n     <g id=\"line2d_4\">\r\n      <g>\r\n       <use style=\"stroke:#000000;stroke-width:0.8;\" x=\"233.383082\" xlink:href=\"#m1964a5d7a3\" y=\"224.64\"/>\r\n      </g>\r\n     </g>\r\n     <g id=\"text_4\">\r\n      <!-- 30 -->\r\n      <g transform=\"translate(227.020582 239.238438)scale(0.1 -0.1)\">\r\n       <defs>\r\n        <path d=\"M 40.578125 39.3125 \r\nQ 47.65625 37.796875 51.625 33 \r\nQ 55.609375 28.21875 55.609375 21.1875 \r\nQ 55.609375 10.40625 48.1875 4.484375 \r\nQ 40.765625 -1.421875 27.09375 -1.421875 \r\nQ 22.515625 -1.421875 17.65625 -0.515625 \r\nQ 12.796875 0.390625 7.625 2.203125 \r\nL 7.625 11.71875 \r\nQ 11.71875 9.328125 16.59375 8.109375 \r\nQ 21.484375 6.890625 26.8125 6.890625 \r\nQ 36.078125 6.890625 40.9375 10.546875 \r\nQ 45.796875 14.203125 45.796875 21.1875 \r\nQ 45.796875 27.640625 41.28125 31.265625 \r\nQ 36.765625 34.90625 28.71875 34.90625 \r\nL 20.21875 34.90625 \r\nL 20.21875 43.015625 \r\nL 29.109375 43.015625 \r\nQ 36.375 43.015625 40.234375 45.921875 \r\nQ 44.09375 48.828125 44.09375 54.296875 \r\nQ 44.09375 59.90625 40.109375 62.90625 \r\nQ 36.140625 65.921875 28.71875 65.921875 \r\nQ 24.65625 65.921875 20.015625 65.03125 \r\nQ 15.375 64.15625 9.8125 62.3125 \r\nL 9.8125 71.09375 \r\nQ 15.4375 72.65625 20.34375 73.4375 \r\nQ 25.25 74.21875 29.59375 74.21875 \r\nQ 40.828125 74.21875 47.359375 69.109375 \r\nQ 53.90625 64.015625 53.90625 55.328125 \r\nQ 53.90625 49.265625 50.4375 45.09375 \r\nQ 46.96875 40.921875 40.578125 39.3125 \r\nz\r\n\" id=\"DejaVuSans-51\"/>\r\n       </defs>\r\n       <use xlink:href=\"#DejaVuSans-51\"/>\r\n       <use x=\"63.623047\" xlink:href=\"#DejaVuSans-48\"/>\r\n      </g>\r\n     </g>\r\n    </g>\r\n    <g id=\"xtick_5\">\r\n     <g id=\"line2d_5\">\r\n      <g>\r\n       <use style=\"stroke:#000000;stroke-width:0.8;\" x=\"289.851289\" xlink:href=\"#m1964a5d7a3\" y=\"224.64\"/>\r\n      </g>\r\n     </g>\r\n     <g id=\"text_5\">\r\n      <!-- 40 -->\r\n      <g transform=\"translate(283.488789 239.238438)scale(0.1 -0.1)\">\r\n       <defs>\r\n        <path d=\"M 37.796875 64.3125 \r\nL 12.890625 25.390625 \r\nL 37.796875 25.390625 \r\nz\r\nM 35.203125 72.90625 \r\nL 47.609375 72.90625 \r\nL 47.609375 25.390625 \r\nL 58.015625 25.390625 \r\nL 58.015625 17.1875 \r\nL 47.609375 17.1875 \r\nL 47.609375 0 \r\nL 37.796875 0 \r\nL 37.796875 17.1875 \r\nL 4.890625 17.1875 \r\nL 4.890625 26.703125 \r\nz\r\n\" id=\"DejaVuSans-52\"/>\r\n       </defs>\r\n       <use xlink:href=\"#DejaVuSans-52\"/>\r\n       <use x=\"63.623047\" xlink:href=\"#DejaVuSans-48\"/>\r\n      </g>\r\n     </g>\r\n    </g>\r\n    <g id=\"xtick_6\">\r\n     <g id=\"line2d_6\">\r\n      <g>\r\n       <use style=\"stroke:#000000;stroke-width:0.8;\" x=\"346.319496\" xlink:href=\"#m1964a5d7a3\" y=\"224.64\"/>\r\n      </g>\r\n     </g>\r\n     <g id=\"text_6\">\r\n      <!-- 50 -->\r\n      <g transform=\"translate(339.956996 239.238438)scale(0.1 -0.1)\">\r\n       <defs>\r\n        <path d=\"M 10.796875 72.90625 \r\nL 49.515625 72.90625 \r\nL 49.515625 64.59375 \r\nL 19.828125 64.59375 \r\nL 19.828125 46.734375 \r\nQ 21.96875 47.46875 24.109375 47.828125 \r\nQ 26.265625 48.1875 28.421875 48.1875 \r\nQ 40.625 48.1875 47.75 41.5 \r\nQ 54.890625 34.8125 54.890625 23.390625 \r\nQ 54.890625 11.625 47.5625 5.09375 \r\nQ 40.234375 -1.421875 26.90625 -1.421875 \r\nQ 22.3125 -1.421875 17.546875 -0.640625 \r\nQ 12.796875 0.140625 7.71875 1.703125 \r\nL 7.71875 11.625 \r\nQ 12.109375 9.234375 16.796875 8.0625 \r\nQ 21.484375 6.890625 26.703125 6.890625 \r\nQ 35.15625 6.890625 40.078125 11.328125 \r\nQ 45.015625 15.765625 45.015625 23.390625 \r\nQ 45.015625 31 40.078125 35.4375 \r\nQ 35.15625 39.890625 26.703125 39.890625 \r\nQ 22.75 39.890625 18.8125 39.015625 \r\nQ 14.890625 38.140625 10.796875 36.28125 \r\nz\r\n\" id=\"DejaVuSans-53\"/>\r\n       </defs>\r\n       <use xlink:href=\"#DejaVuSans-53\"/>\r\n       <use x=\"63.623047\" xlink:href=\"#DejaVuSans-48\"/>\r\n      </g>\r\n     </g>\r\n    </g>\r\n    <g id=\"text_7\">\r\n     <!-- Epoch -->\r\n     <g transform=\"translate(187.014631 252.916563)scale(0.1 -0.1)\">\r\n      <defs>\r\n       <path d=\"M 9.8125 72.90625 \r\nL 55.90625 72.90625 \r\nL 55.90625 64.59375 \r\nL 19.671875 64.59375 \r\nL 19.671875 43.015625 \r\nL 54.390625 43.015625 \r\nL 54.390625 34.71875 \r\nL 19.671875 34.71875 \r\nL 19.671875 8.296875 \r\nL 56.78125 8.296875 \r\nL 56.78125 0 \r\nL 9.8125 0 \r\nz\r\n\" id=\"DejaVuSans-69\"/>\r\n       <path d=\"M 18.109375 8.203125 \r\nL 18.109375 -20.796875 \r\nL 9.078125 -20.796875 \r\nL 9.078125 54.6875 \r\nL 18.109375 54.6875 \r\nL 18.109375 46.390625 \r\nQ 20.953125 51.265625 25.265625 53.625 \r\nQ 29.59375 56 35.59375 56 \r\nQ 45.5625 56 51.78125 48.09375 \r\nQ 58.015625 40.1875 58.015625 27.296875 \r\nQ 58.015625 14.40625 51.78125 6.484375 \r\nQ 45.5625 -1.421875 35.59375 -1.421875 \r\nQ 29.59375 -1.421875 25.265625 0.953125 \r\nQ 20.953125 3.328125 18.109375 8.203125 \r\nz\r\nM 48.6875 27.296875 \r\nQ 48.6875 37.203125 44.609375 42.84375 \r\nQ 40.53125 48.484375 33.40625 48.484375 \r\nQ 26.265625 48.484375 22.1875 42.84375 \r\nQ 18.109375 37.203125 18.109375 27.296875 \r\nQ 18.109375 17.390625 22.1875 11.75 \r\nQ 26.265625 6.109375 33.40625 6.109375 \r\nQ 40.53125 6.109375 44.609375 11.75 \r\nQ 48.6875 17.390625 48.6875 27.296875 \r\nz\r\n\" id=\"DejaVuSans-112\"/>\r\n       <path d=\"M 30.609375 48.390625 \r\nQ 23.390625 48.390625 19.1875 42.75 \r\nQ 14.984375 37.109375 14.984375 27.296875 \r\nQ 14.984375 17.484375 19.15625 11.84375 \r\nQ 23.34375 6.203125 30.609375 6.203125 \r\nQ 37.796875 6.203125 41.984375 11.859375 \r\nQ 46.1875 17.53125 46.1875 27.296875 \r\nQ 46.1875 37.015625 41.984375 42.703125 \r\nQ 37.796875 48.390625 30.609375 48.390625 \r\nz\r\nM 30.609375 56 \r\nQ 42.328125 56 49.015625 48.375 \r\nQ 55.71875 40.765625 55.71875 27.296875 \r\nQ 55.71875 13.875 49.015625 6.21875 \r\nQ 42.328125 -1.421875 30.609375 -1.421875 \r\nQ 18.84375 -1.421875 12.171875 6.21875 \r\nQ 5.515625 13.875 5.515625 27.296875 \r\nQ 5.515625 40.765625 12.171875 48.375 \r\nQ 18.84375 56 30.609375 56 \r\nz\r\n\" id=\"DejaVuSans-111\"/>\r\n       <path d=\"M 48.78125 52.59375 \r\nL 48.78125 44.1875 \r\nQ 44.96875 46.296875 41.140625 47.34375 \r\nQ 37.3125 48.390625 33.40625 48.390625 \r\nQ 24.65625 48.390625 19.8125 42.84375 \r\nQ 14.984375 37.3125 14.984375 27.296875 \r\nQ 14.984375 17.28125 19.8125 11.734375 \r\nQ 24.65625 6.203125 33.40625 6.203125 \r\nQ 37.3125 6.203125 41.140625 7.25 \r\nQ 44.96875 8.296875 48.78125 10.40625 \r\nL 48.78125 2.09375 \r\nQ 45.015625 0.34375 40.984375 -0.53125 \r\nQ 36.96875 -1.421875 32.421875 -1.421875 \r\nQ 20.0625 -1.421875 12.78125 6.34375 \r\nQ 5.515625 14.109375 5.515625 27.296875 \r\nQ 5.515625 40.671875 12.859375 48.328125 \r\nQ 20.21875 56 33.015625 56 \r\nQ 37.15625 56 41.109375 55.140625 \r\nQ 45.0625 54.296875 48.78125 52.59375 \r\nz\r\n\" id=\"DejaVuSans-99\"/>\r\n       <path d=\"M 54.890625 33.015625 \r\nL 54.890625 0 \r\nL 45.90625 0 \r\nL 45.90625 32.71875 \r\nQ 45.90625 40.484375 42.875 44.328125 \r\nQ 39.84375 48.1875 33.796875 48.1875 \r\nQ 26.515625 48.1875 22.3125 43.546875 \r\nQ 18.109375 38.921875 18.109375 30.90625 \r\nL 18.109375 0 \r\nL 9.078125 0 \r\nL 9.078125 75.984375 \r\nL 18.109375 75.984375 \r\nL 18.109375 46.1875 \r\nQ 21.34375 51.125 25.703125 53.5625 \r\nQ 30.078125 56 35.796875 56 \r\nQ 45.21875 56 50.046875 50.171875 \r\nQ 54.890625 44.34375 54.890625 33.015625 \r\nz\r\n\" id=\"DejaVuSans-104\"/>\r\n      </defs>\r\n      <use xlink:href=\"#DejaVuSans-69\"/>\r\n      <use x=\"63.183594\" xlink:href=\"#DejaVuSans-112\"/>\r\n      <use x=\"126.660156\" xlink:href=\"#DejaVuSans-111\"/>\r\n      <use x=\"187.841797\" xlink:href=\"#DejaVuSans-99\"/>\r\n      <use x=\"242.822266\" xlink:href=\"#DejaVuSans-104\"/>\r\n     </g>\r\n    </g>\r\n   </g>\r\n   <g id=\"matplotlib.axis_2\">\r\n    <g id=\"ytick_1\">\r\n     <g id=\"line2d_7\">\r\n      <defs>\r\n       <path d=\"M 0 0 \r\nL -3.5 0 \r\n\" id=\"m0d2e265879\" style=\"stroke:#000000;stroke-width:0.8;\"/>\r\n      </defs>\r\n      <g>\r\n       <use style=\"stroke:#000000;stroke-width:0.8;\" x=\"50.14375\" xlink:href=\"#m0d2e265879\" y=\"217.005452\"/>\r\n      </g>\r\n     </g>\r\n     <g id=\"text_8\">\r\n      <!-- 0.88 -->\r\n      <g transform=\"translate(20.878125 220.804671)scale(0.1 -0.1)\">\r\n       <defs>\r\n        <path d=\"M 10.6875 12.40625 \r\nL 21 12.40625 \r\nL 21 0 \r\nL 10.6875 0 \r\nz\r\n\" id=\"DejaVuSans-46\"/>\r\n        <path d=\"M 31.78125 34.625 \r\nQ 24.75 34.625 20.71875 30.859375 \r\nQ 16.703125 27.09375 16.703125 20.515625 \r\nQ 16.703125 13.921875 20.71875 10.15625 \r\nQ 24.75 6.390625 31.78125 6.390625 \r\nQ 38.8125 6.390625 42.859375 10.171875 \r\nQ 46.921875 13.96875 46.921875 20.515625 \r\nQ 46.921875 27.09375 42.890625 30.859375 \r\nQ 38.875 34.625 31.78125 34.625 \r\nz\r\nM 21.921875 38.8125 \r\nQ 15.578125 40.375 12.03125 44.71875 \r\nQ 8.5 49.078125 8.5 55.328125 \r\nQ 8.5 64.0625 14.71875 69.140625 \r\nQ 20.953125 74.21875 31.78125 74.21875 \r\nQ 42.671875 74.21875 48.875 69.140625 \r\nQ 55.078125 64.0625 55.078125 55.328125 \r\nQ 55.078125 49.078125 51.53125 44.71875 \r\nQ 48 40.375 41.703125 38.8125 \r\nQ 48.828125 37.15625 52.796875 32.3125 \r\nQ 56.78125 27.484375 56.78125 20.515625 \r\nQ 56.78125 9.90625 50.3125 4.234375 \r\nQ 43.84375 -1.421875 31.78125 -1.421875 \r\nQ 19.734375 -1.421875 13.25 4.234375 \r\nQ 6.78125 9.90625 6.78125 20.515625 \r\nQ 6.78125 27.484375 10.78125 32.3125 \r\nQ 14.796875 37.15625 21.921875 38.8125 \r\nz\r\nM 18.3125 54.390625 \r\nQ 18.3125 48.734375 21.84375 45.5625 \r\nQ 25.390625 42.390625 31.78125 42.390625 \r\nQ 38.140625 42.390625 41.71875 45.5625 \r\nQ 45.3125 48.734375 45.3125 54.390625 \r\nQ 45.3125 60.0625 41.71875 63.234375 \r\nQ 38.140625 66.40625 31.78125 66.40625 \r\nQ 25.390625 66.40625 21.84375 63.234375 \r\nQ 18.3125 60.0625 18.3125 54.390625 \r\nz\r\n\" id=\"DejaVuSans-56\"/>\r\n       </defs>\r\n       <use xlink:href=\"#DejaVuSans-48\"/>\r\n       <use x=\"63.623047\" xlink:href=\"#DejaVuSans-46\"/>\r\n       <use x=\"95.410156\" xlink:href=\"#DejaVuSans-56\"/>\r\n       <use x=\"159.033203\" xlink:href=\"#DejaVuSans-56\"/>\r\n      </g>\r\n     </g>\r\n    </g>\r\n    <g id=\"ytick_2\">\r\n     <g id=\"line2d_8\">\r\n      <g>\r\n       <use style=\"stroke:#000000;stroke-width:0.8;\" x=\"50.14375\" xlink:href=\"#m0d2e265879\" y=\"183.68515\"/>\r\n      </g>\r\n     </g>\r\n     <g id=\"text_9\">\r\n      <!-- 0.90 -->\r\n      <g transform=\"translate(20.878125 187.484368)scale(0.1 -0.1)\">\r\n       <defs>\r\n        <path d=\"M 10.984375 1.515625 \r\nL 10.984375 10.5 \r\nQ 14.703125 8.734375 18.5 7.8125 \r\nQ 22.3125 6.890625 25.984375 6.890625 \r\nQ 35.75 6.890625 40.890625 13.453125 \r\nQ 46.046875 20.015625 46.78125 33.40625 \r\nQ 43.953125 29.203125 39.59375 26.953125 \r\nQ 35.25 24.703125 29.984375 24.703125 \r\nQ 19.046875 24.703125 12.671875 31.3125 \r\nQ 6.296875 37.9375 6.296875 49.421875 \r\nQ 6.296875 60.640625 12.9375 67.421875 \r\nQ 19.578125 74.21875 30.609375 74.21875 \r\nQ 43.265625 74.21875 49.921875 64.515625 \r\nQ 56.59375 54.828125 56.59375 36.375 \r\nQ 56.59375 19.140625 48.40625 8.859375 \r\nQ 40.234375 -1.421875 26.421875 -1.421875 \r\nQ 22.703125 -1.421875 18.890625 -0.6875 \r\nQ 15.09375 0.046875 10.984375 1.515625 \r\nz\r\nM 30.609375 32.421875 \r\nQ 37.25 32.421875 41.125 36.953125 \r\nQ 45.015625 41.5 45.015625 49.421875 \r\nQ 45.015625 57.28125 41.125 61.84375 \r\nQ 37.25 66.40625 30.609375 66.40625 \r\nQ 23.96875 66.40625 20.09375 61.84375 \r\nQ 16.21875 57.28125 16.21875 49.421875 \r\nQ 16.21875 41.5 20.09375 36.953125 \r\nQ 23.96875 32.421875 30.609375 32.421875 \r\nz\r\n\" id=\"DejaVuSans-57\"/>\r\n       </defs>\r\n       <use xlink:href=\"#DejaVuSans-48\"/>\r\n       <use x=\"63.623047\" xlink:href=\"#DejaVuSans-46\"/>\r\n       <use x=\"95.410156\" xlink:href=\"#DejaVuSans-57\"/>\r\n       <use x=\"159.033203\" xlink:href=\"#DejaVuSans-48\"/>\r\n      </g>\r\n     </g>\r\n    </g>\r\n    <g id=\"ytick_3\">\r\n     <g id=\"line2d_9\">\r\n      <g>\r\n       <use style=\"stroke:#000000;stroke-width:0.8;\" x=\"50.14375\" xlink:href=\"#m0d2e265879\" y=\"150.364847\"/>\r\n      </g>\r\n     </g>\r\n     <g id=\"text_10\">\r\n      <!-- 0.92 -->\r\n      <g transform=\"translate(20.878125 154.164066)scale(0.1 -0.1)\">\r\n       <use xlink:href=\"#DejaVuSans-48\"/>\r\n       <use x=\"63.623047\" xlink:href=\"#DejaVuSans-46\"/>\r\n       <use x=\"95.410156\" xlink:href=\"#DejaVuSans-57\"/>\r\n       <use x=\"159.033203\" xlink:href=\"#DejaVuSans-50\"/>\r\n      </g>\r\n     </g>\r\n    </g>\r\n    <g id=\"ytick_4\">\r\n     <g id=\"line2d_10\">\r\n      <g>\r\n       <use style=\"stroke:#000000;stroke-width:0.8;\" x=\"50.14375\" xlink:href=\"#m0d2e265879\" y=\"117.044544\"/>\r\n      </g>\r\n     </g>\r\n     <g id=\"text_11\">\r\n      <!-- 0.94 -->\r\n      <g transform=\"translate(20.878125 120.843763)scale(0.1 -0.1)\">\r\n       <use xlink:href=\"#DejaVuSans-48\"/>\r\n       <use x=\"63.623047\" xlink:href=\"#DejaVuSans-46\"/>\r\n       <use x=\"95.410156\" xlink:href=\"#DejaVuSans-57\"/>\r\n       <use x=\"159.033203\" xlink:href=\"#DejaVuSans-52\"/>\r\n      </g>\r\n     </g>\r\n    </g>\r\n    <g id=\"ytick_5\">\r\n     <g id=\"line2d_11\">\r\n      <g>\r\n       <use style=\"stroke:#000000;stroke-width:0.8;\" x=\"50.14375\" xlink:href=\"#m0d2e265879\" y=\"83.724242\"/>\r\n      </g>\r\n     </g>\r\n     <g id=\"text_12\">\r\n      <!-- 0.96 -->\r\n      <g transform=\"translate(20.878125 87.52346)scale(0.1 -0.1)\">\r\n       <defs>\r\n        <path d=\"M 33.015625 40.375 \r\nQ 26.375 40.375 22.484375 35.828125 \r\nQ 18.609375 31.296875 18.609375 23.390625 \r\nQ 18.609375 15.53125 22.484375 10.953125 \r\nQ 26.375 6.390625 33.015625 6.390625 \r\nQ 39.65625 6.390625 43.53125 10.953125 \r\nQ 47.40625 15.53125 47.40625 23.390625 \r\nQ 47.40625 31.296875 43.53125 35.828125 \r\nQ 39.65625 40.375 33.015625 40.375 \r\nz\r\nM 52.59375 71.296875 \r\nL 52.59375 62.3125 \r\nQ 48.875 64.0625 45.09375 64.984375 \r\nQ 41.3125 65.921875 37.59375 65.921875 \r\nQ 27.828125 65.921875 22.671875 59.328125 \r\nQ 17.53125 52.734375 16.796875 39.40625 \r\nQ 19.671875 43.65625 24.015625 45.921875 \r\nQ 28.375 48.1875 33.59375 48.1875 \r\nQ 44.578125 48.1875 50.953125 41.515625 \r\nQ 57.328125 34.859375 57.328125 23.390625 \r\nQ 57.328125 12.15625 50.6875 5.359375 \r\nQ 44.046875 -1.421875 33.015625 -1.421875 \r\nQ 20.359375 -1.421875 13.671875 8.265625 \r\nQ 6.984375 17.96875 6.984375 36.375 \r\nQ 6.984375 53.65625 15.1875 63.9375 \r\nQ 23.390625 74.21875 37.203125 74.21875 \r\nQ 40.921875 74.21875 44.703125 73.484375 \r\nQ 48.484375 72.75 52.59375 71.296875 \r\nz\r\n\" id=\"DejaVuSans-54\"/>\r\n       </defs>\r\n       <use xlink:href=\"#DejaVuSans-48\"/>\r\n       <use x=\"63.623047\" xlink:href=\"#DejaVuSans-46\"/>\r\n       <use x=\"95.410156\" xlink:href=\"#DejaVuSans-57\"/>\r\n       <use x=\"159.033203\" xlink:href=\"#DejaVuSans-54\"/>\r\n      </g>\r\n     </g>\r\n    </g>\r\n    <g id=\"ytick_6\">\r\n     <g id=\"line2d_12\">\r\n      <g>\r\n       <use style=\"stroke:#000000;stroke-width:0.8;\" x=\"50.14375\" xlink:href=\"#m0d2e265879\" y=\"50.403939\"/>\r\n      </g>\r\n     </g>\r\n     <g id=\"text_13\">\r\n      <!-- 0.98 -->\r\n      <g transform=\"translate(20.878125 54.203158)scale(0.1 -0.1)\">\r\n       <use xlink:href=\"#DejaVuSans-48\"/>\r\n       <use x=\"63.623047\" xlink:href=\"#DejaVuSans-46\"/>\r\n       <use x=\"95.410156\" xlink:href=\"#DejaVuSans-57\"/>\r\n       <use x=\"159.033203\" xlink:href=\"#DejaVuSans-56\"/>\r\n      </g>\r\n     </g>\r\n    </g>\r\n    <g id=\"ytick_7\">\r\n     <g id=\"line2d_13\">\r\n      <g>\r\n       <use style=\"stroke:#000000;stroke-width:0.8;\" x=\"50.14375\" xlink:href=\"#m0d2e265879\" y=\"17.083636\"/>\r\n      </g>\r\n     </g>\r\n     <g id=\"text_14\">\r\n      <!-- 1.00 -->\r\n      <g transform=\"translate(20.878125 20.882855)scale(0.1 -0.1)\">\r\n       <use xlink:href=\"#DejaVuSans-49\"/>\r\n       <use x=\"63.623047\" xlink:href=\"#DejaVuSans-46\"/>\r\n       <use x=\"95.410156\" xlink:href=\"#DejaVuSans-48\"/>\r\n       <use x=\"159.033203\" xlink:href=\"#DejaVuSans-48\"/>\r\n      </g>\r\n     </g>\r\n    </g>\r\n    <g id=\"text_15\">\r\n     <!-- Accuracy -->\r\n     <g transform=\"translate(14.798438 138.748125)rotate(-90)scale(0.1 -0.1)\">\r\n      <defs>\r\n       <path d=\"M 34.1875 63.1875 \r\nL 20.796875 26.90625 \r\nL 47.609375 26.90625 \r\nz\r\nM 28.609375 72.90625 \r\nL 39.796875 72.90625 \r\nL 67.578125 0 \r\nL 57.328125 0 \r\nL 50.6875 18.703125 \r\nL 17.828125 18.703125 \r\nL 11.1875 0 \r\nL 0.78125 0 \r\nz\r\n\" id=\"DejaVuSans-65\"/>\r\n       <path d=\"M 8.5 21.578125 \r\nL 8.5 54.6875 \r\nL 17.484375 54.6875 \r\nL 17.484375 21.921875 \r\nQ 17.484375 14.15625 20.5 10.265625 \r\nQ 23.53125 6.390625 29.59375 6.390625 \r\nQ 36.859375 6.390625 41.078125 11.03125 \r\nQ 45.3125 15.671875 45.3125 23.6875 \r\nL 45.3125 54.6875 \r\nL 54.296875 54.6875 \r\nL 54.296875 0 \r\nL 45.3125 0 \r\nL 45.3125 8.40625 \r\nQ 42.046875 3.421875 37.71875 1 \r\nQ 33.40625 -1.421875 27.6875 -1.421875 \r\nQ 18.265625 -1.421875 13.375 4.4375 \r\nQ 8.5 10.296875 8.5 21.578125 \r\nz\r\nM 31.109375 56 \r\nz\r\n\" id=\"DejaVuSans-117\"/>\r\n       <path d=\"M 41.109375 46.296875 \r\nQ 39.59375 47.171875 37.8125 47.578125 \r\nQ 36.03125 48 33.890625 48 \r\nQ 26.265625 48 22.1875 43.046875 \r\nQ 18.109375 38.09375 18.109375 28.8125 \r\nL 18.109375 0 \r\nL 9.078125 0 \r\nL 9.078125 54.6875 \r\nL 18.109375 54.6875 \r\nL 18.109375 46.1875 \r\nQ 20.953125 51.171875 25.484375 53.578125 \r\nQ 30.03125 56 36.53125 56 \r\nQ 37.453125 56 38.578125 55.875 \r\nQ 39.703125 55.765625 41.0625 55.515625 \r\nz\r\n\" id=\"DejaVuSans-114\"/>\r\n       <path d=\"M 34.28125 27.484375 \r\nQ 23.390625 27.484375 19.1875 25 \r\nQ 14.984375 22.515625 14.984375 16.5 \r\nQ 14.984375 11.71875 18.140625 8.90625 \r\nQ 21.296875 6.109375 26.703125 6.109375 \r\nQ 34.1875 6.109375 38.703125 11.40625 \r\nQ 43.21875 16.703125 43.21875 25.484375 \r\nL 43.21875 27.484375 \r\nz\r\nM 52.203125 31.203125 \r\nL 52.203125 0 \r\nL 43.21875 0 \r\nL 43.21875 8.296875 \r\nQ 40.140625 3.328125 35.546875 0.953125 \r\nQ 30.953125 -1.421875 24.3125 -1.421875 \r\nQ 15.921875 -1.421875 10.953125 3.296875 \r\nQ 6 8.015625 6 15.921875 \r\nQ 6 25.140625 12.171875 29.828125 \r\nQ 18.359375 34.515625 30.609375 34.515625 \r\nL 43.21875 34.515625 \r\nL 43.21875 35.40625 \r\nQ 43.21875 41.609375 39.140625 45 \r\nQ 35.0625 48.390625 27.6875 48.390625 \r\nQ 23 48.390625 18.546875 47.265625 \r\nQ 14.109375 46.140625 10.015625 43.890625 \r\nL 10.015625 52.203125 \r\nQ 14.9375 54.109375 19.578125 55.046875 \r\nQ 24.21875 56 28.609375 56 \r\nQ 40.484375 56 46.34375 49.84375 \r\nQ 52.203125 43.703125 52.203125 31.203125 \r\nz\r\n\" id=\"DejaVuSans-97\"/>\r\n       <path d=\"M 32.171875 -5.078125 \r\nQ 28.375 -14.84375 24.75 -17.8125 \r\nQ 21.140625 -20.796875 15.09375 -20.796875 \r\nL 7.90625 -20.796875 \r\nL 7.90625 -13.28125 \r\nL 13.1875 -13.28125 \r\nQ 16.890625 -13.28125 18.9375 -11.515625 \r\nQ 21 -9.765625 23.484375 -3.21875 \r\nL 25.09375 0.875 \r\nL 2.984375 54.6875 \r\nL 12.5 54.6875 \r\nL 29.59375 11.921875 \r\nL 46.6875 54.6875 \r\nL 56.203125 54.6875 \r\nz\r\n\" id=\"DejaVuSans-121\"/>\r\n      </defs>\r\n      <use xlink:href=\"#DejaVuSans-65\"/>\r\n      <use x=\"66.658203\" xlink:href=\"#DejaVuSans-99\"/>\r\n      <use x=\"121.638672\" xlink:href=\"#DejaVuSans-99\"/>\r\n      <use x=\"176.619141\" xlink:href=\"#DejaVuSans-117\"/>\r\n      <use x=\"239.998047\" xlink:href=\"#DejaVuSans-114\"/>\r\n      <use x=\"281.111328\" xlink:href=\"#DejaVuSans-97\"/>\r\n      <use x=\"342.390625\" xlink:href=\"#DejaVuSans-99\"/>\r\n      <use x=\"397.371094\" xlink:href=\"#DejaVuSans-121\"/>\r\n     </g>\r\n    </g>\r\n   </g>\r\n   <g id=\"line2d_14\">\r\n    <path clip-path=\"url(#p055857e526)\" d=\"M 63.978461 214.756364 \r\nL 69.625281 98.912754 \r\nL 75.272102 78.00427 \r\nL 80.918923 64.592807 \r\nL 86.565744 56.845842 \r\nL 92.212564 50.515026 \r\nL 97.859385 46.016734 \r\nL 103.506206 42.157154 \r\nL 109.153026 39.769233 \r\nL 114.799847 36.936935 \r\nL 120.446668 34.687838 \r\nL 126.093489 32.355427 \r\nL 131.740309 31.605695 \r\nL 137.38713 29.412109 \r\nL 143.033951 28.218198 \r\nL 148.680771 26.135631 \r\nL 154.327592 26.968678 \r\nL 159.974413 25.857982 \r\nL 165.621234 24.330813 \r\nL 171.268054 22.637015 \r\nL 176.914875 23.497767 \r\nL 182.561696 23.192313 \r\nL 188.208516 22.748134 \r\nL 193.855337 22.748134 \r\nL 199.502158 20.887707 \r\nL 205.148979 21.887283 \r\nL 210.795799 19.915836 \r\nL 216.44262 21.359789 \r\nL 222.089441 21.831773 \r\nL 227.736261 19.99915 \r\nL 233.383082 22.720329 \r\nL 239.029903 19.638186 \r\nL 244.676724 19.305027 \r\nL 250.323544 19.777011 \r\nL 255.970365 19.860326 \r\nL 261.617186 21.887283 \r\nL 267.264006 20.026955 \r\nL 272.910827 21.415299 \r\nL 278.557648 19.638186 \r\nL 284.204469 17.861074 \r\nL 289.851289 19.749306 \r\nL 295.49811 21.359789 \r\nL 301.144931 18.916259 \r\nL 306.791751 17.361285 \r\nL 312.438572 17.083636 \r\nL 318.085393 17.083636 \r\nL 323.732213 17.139146 \r\nL 329.379034 30.106331 \r\nL 335.025855 18.471981 \r\nL 340.672676 17.250266 \r\n\" style=\"fill:none;stroke:#008000;stroke-linecap:square;stroke-width:1.5;\"/>\r\n   </g>\r\n   <g id=\"patch_3\">\r\n    <path d=\"M 50.14375 224.64 \r\nL 50.14375 7.2 \r\n\" style=\"fill:none;stroke:#000000;stroke-linecap:square;stroke-linejoin:miter;stroke-width:0.8;\"/>\r\n   </g>\r\n   <g id=\"patch_4\">\r\n    <path d=\"M 354.507386 224.64 \r\nL 354.507386 7.2 \r\n\" style=\"fill:none;stroke:#000000;stroke-linecap:square;stroke-linejoin:miter;stroke-width:0.8;\"/>\r\n   </g>\r\n   <g id=\"patch_5\">\r\n    <path d=\"M 50.14375 224.64 \r\nL 354.507386 224.64 \r\n\" style=\"fill:none;stroke:#000000;stroke-linecap:square;stroke-linejoin:miter;stroke-width:0.8;\"/>\r\n   </g>\r\n   <g id=\"patch_6\">\r\n    <path d=\"M 50.14375 7.2 \r\nL 354.507386 7.2 \r\n\" style=\"fill:none;stroke:#000000;stroke-linecap:square;stroke-linejoin:miter;stroke-width:0.8;\"/>\r\n   </g>\r\n   <g id=\"legend_1\">\r\n    <g id=\"patch_7\">\r\n     <path d=\"M 243.223011 219.64 \r\nL 347.507386 219.64 \r\nQ 349.507386 219.64 349.507386 217.64 \r\nL 349.507386 203.961875 \r\nQ 349.507386 201.961875 347.507386 201.961875 \r\nL 243.223011 201.961875 \r\nQ 241.223011 201.961875 241.223011 203.961875 \r\nL 241.223011 217.64 \r\nQ 241.223011 219.64 243.223011 219.64 \r\nz\r\n\" style=\"fill:#ffffff;opacity:0.8;stroke:#cccccc;stroke-linejoin:miter;\"/>\r\n    </g>\r\n    <g id=\"line2d_15\">\r\n     <path d=\"M 245.223011 210.060313 \r\nL 265.223011 210.060313 \r\n\" style=\"fill:none;stroke:#008000;stroke-linecap:square;stroke-width:1.5;\"/>\r\n    </g>\r\n    <g id=\"line2d_16\"/>\r\n    <g id=\"text_16\">\r\n     <!-- Train accuracy -->\r\n     <g transform=\"translate(273.223011 213.560313)scale(0.1 -0.1)\">\r\n      <defs>\r\n       <path d=\"M -0.296875 72.90625 \r\nL 61.375 72.90625 \r\nL 61.375 64.59375 \r\nL 35.5 64.59375 \r\nL 35.5 0 \r\nL 25.59375 0 \r\nL 25.59375 64.59375 \r\nL -0.296875 64.59375 \r\nz\r\n\" id=\"DejaVuSans-84\"/>\r\n       <path d=\"M 9.421875 54.6875 \r\nL 18.40625 54.6875 \r\nL 18.40625 0 \r\nL 9.421875 0 \r\nz\r\nM 9.421875 75.984375 \r\nL 18.40625 75.984375 \r\nL 18.40625 64.59375 \r\nL 9.421875 64.59375 \r\nz\r\n\" id=\"DejaVuSans-105\"/>\r\n       <path d=\"M 54.890625 33.015625 \r\nL 54.890625 0 \r\nL 45.90625 0 \r\nL 45.90625 32.71875 \r\nQ 45.90625 40.484375 42.875 44.328125 \r\nQ 39.84375 48.1875 33.796875 48.1875 \r\nQ 26.515625 48.1875 22.3125 43.546875 \r\nQ 18.109375 38.921875 18.109375 30.90625 \r\nL 18.109375 0 \r\nL 9.078125 0 \r\nL 9.078125 54.6875 \r\nL 18.109375 54.6875 \r\nL 18.109375 46.1875 \r\nQ 21.34375 51.125 25.703125 53.5625 \r\nQ 30.078125 56 35.796875 56 \r\nQ 45.21875 56 50.046875 50.171875 \r\nQ 54.890625 44.34375 54.890625 33.015625 \r\nz\r\n\" id=\"DejaVuSans-110\"/>\r\n       <path id=\"DejaVuSans-32\"/>\r\n      </defs>\r\n      <use xlink:href=\"#DejaVuSans-84\"/>\r\n      <use x=\"46.333984\" xlink:href=\"#DejaVuSans-114\"/>\r\n      <use x=\"87.447266\" xlink:href=\"#DejaVuSans-97\"/>\r\n      <use x=\"148.726562\" xlink:href=\"#DejaVuSans-105\"/>\r\n      <use x=\"176.509766\" xlink:href=\"#DejaVuSans-110\"/>\r\n      <use x=\"239.888672\" xlink:href=\"#DejaVuSans-32\"/>\r\n      <use x=\"271.675781\" xlink:href=\"#DejaVuSans-97\"/>\r\n      <use x=\"332.955078\" xlink:href=\"#DejaVuSans-99\"/>\r\n      <use x=\"387.935547\" xlink:href=\"#DejaVuSans-99\"/>\r\n      <use x=\"442.916016\" xlink:href=\"#DejaVuSans-117\"/>\r\n      <use x=\"506.294922\" xlink:href=\"#DejaVuSans-114\"/>\r\n      <use x=\"547.408203\" xlink:href=\"#DejaVuSans-97\"/>\r\n      <use x=\"608.6875\" xlink:href=\"#DejaVuSans-99\"/>\r\n      <use x=\"663.667969\" xlink:href=\"#DejaVuSans-121\"/>\r\n     </g>\r\n    </g>\r\n   </g>\r\n  </g>\r\n  <g id=\"axes_2\">\r\n   <g id=\"patch_8\">\r\n    <path d=\"M 415.380114 224.64 \r\nL 719.74375 224.64 \r\nL 719.74375 7.2 \r\nL 415.380114 7.2 \r\nz\r\n\" style=\"fill:#ffffff;\"/>\r\n   </g>\r\n   <g id=\"matplotlib.axis_3\">\r\n    <g id=\"xtick_7\">\r\n     <g id=\"line2d_17\">\r\n      <g>\r\n       <use style=\"stroke:#000000;stroke-width:0.8;\" x=\"429.214824\" xlink:href=\"#m1964a5d7a3\" y=\"224.64\"/>\r\n      </g>\r\n     </g>\r\n     <g id=\"text_17\">\r\n      <!-- 0 -->\r\n      <g transform=\"translate(426.033574 239.238438)scale(0.1 -0.1)\">\r\n       <use xlink:href=\"#DejaVuSans-48\"/>\r\n      </g>\r\n     </g>\r\n    </g>\r\n    <g id=\"xtick_8\">\r\n     <g id=\"line2d_18\">\r\n      <g>\r\n       <use style=\"stroke:#000000;stroke-width:0.8;\" x=\"485.683031\" xlink:href=\"#m1964a5d7a3\" y=\"224.64\"/>\r\n      </g>\r\n     </g>\r\n     <g id=\"text_18\">\r\n      <!-- 10 -->\r\n      <g transform=\"translate(479.320531 239.238438)scale(0.1 -0.1)\">\r\n       <use xlink:href=\"#DejaVuSans-49\"/>\r\n       <use x=\"63.623047\" xlink:href=\"#DejaVuSans-48\"/>\r\n      </g>\r\n     </g>\r\n    </g>\r\n    <g id=\"xtick_9\">\r\n     <g id=\"line2d_19\">\r\n      <g>\r\n       <use style=\"stroke:#000000;stroke-width:0.8;\" x=\"542.151239\" xlink:href=\"#m1964a5d7a3\" y=\"224.64\"/>\r\n      </g>\r\n     </g>\r\n     <g id=\"text_19\">\r\n      <!-- 20 -->\r\n      <g transform=\"translate(535.788739 239.238438)scale(0.1 -0.1)\">\r\n       <use xlink:href=\"#DejaVuSans-50\"/>\r\n       <use x=\"63.623047\" xlink:href=\"#DejaVuSans-48\"/>\r\n      </g>\r\n     </g>\r\n    </g>\r\n    <g id=\"xtick_10\">\r\n     <g id=\"line2d_20\">\r\n      <g>\r\n       <use style=\"stroke:#000000;stroke-width:0.8;\" x=\"598.619446\" xlink:href=\"#m1964a5d7a3\" y=\"224.64\"/>\r\n      </g>\r\n     </g>\r\n     <g id=\"text_20\">\r\n      <!-- 30 -->\r\n      <g transform=\"translate(592.256946 239.238438)scale(0.1 -0.1)\">\r\n       <use xlink:href=\"#DejaVuSans-51\"/>\r\n       <use x=\"63.623047\" xlink:href=\"#DejaVuSans-48\"/>\r\n      </g>\r\n     </g>\r\n    </g>\r\n    <g id=\"xtick_11\">\r\n     <g id=\"line2d_21\">\r\n      <g>\r\n       <use style=\"stroke:#000000;stroke-width:0.8;\" x=\"655.087653\" xlink:href=\"#m1964a5d7a3\" y=\"224.64\"/>\r\n      </g>\r\n     </g>\r\n     <g id=\"text_21\">\r\n      <!-- 40 -->\r\n      <g transform=\"translate(648.725153 239.238438)scale(0.1 -0.1)\">\r\n       <use xlink:href=\"#DejaVuSans-52\"/>\r\n       <use x=\"63.623047\" xlink:href=\"#DejaVuSans-48\"/>\r\n      </g>\r\n     </g>\r\n    </g>\r\n    <g id=\"xtick_12\">\r\n     <g id=\"line2d_22\">\r\n      <g>\r\n       <use style=\"stroke:#000000;stroke-width:0.8;\" x=\"711.55586\" xlink:href=\"#m1964a5d7a3\" y=\"224.64\"/>\r\n      </g>\r\n     </g>\r\n     <g id=\"text_22\">\r\n      <!-- 50 -->\r\n      <g transform=\"translate(705.19336 239.238438)scale(0.1 -0.1)\">\r\n       <use xlink:href=\"#DejaVuSans-53\"/>\r\n       <use x=\"63.623047\" xlink:href=\"#DejaVuSans-48\"/>\r\n      </g>\r\n     </g>\r\n    </g>\r\n    <g id=\"text_23\">\r\n     <!-- Epoch -->\r\n     <g transform=\"translate(552.250994 252.916563)scale(0.1 -0.1)\">\r\n      <use xlink:href=\"#DejaVuSans-69\"/>\r\n      <use x=\"63.183594\" xlink:href=\"#DejaVuSans-112\"/>\r\n      <use x=\"126.660156\" xlink:href=\"#DejaVuSans-111\"/>\r\n      <use x=\"187.841797\" xlink:href=\"#DejaVuSans-99\"/>\r\n      <use x=\"242.822266\" xlink:href=\"#DejaVuSans-104\"/>\r\n     </g>\r\n    </g>\r\n   </g>\r\n   <g id=\"matplotlib.axis_4\">\r\n    <g id=\"ytick_8\">\r\n     <g id=\"line2d_23\">\r\n      <g>\r\n       <use style=\"stroke:#000000;stroke-width:0.8;\" x=\"415.380114\" xlink:href=\"#m0d2e265879\" y=\"214.897524\"/>\r\n      </g>\r\n     </g>\r\n     <g id=\"text_24\">\r\n      <!-- 0.0 -->\r\n      <g transform=\"translate(392.476989 218.696742)scale(0.1 -0.1)\">\r\n       <use xlink:href=\"#DejaVuSans-48\"/>\r\n       <use x=\"63.623047\" xlink:href=\"#DejaVuSans-46\"/>\r\n       <use x=\"95.410156\" xlink:href=\"#DejaVuSans-48\"/>\r\n      </g>\r\n     </g>\r\n    </g>\r\n    <g id=\"ytick_9\">\r\n     <g id=\"line2d_24\">\r\n      <g>\r\n       <use style=\"stroke:#000000;stroke-width:0.8;\" x=\"415.380114\" xlink:href=\"#m0d2e265879\" y=\"167.333001\"/>\r\n      </g>\r\n     </g>\r\n     <g id=\"text_25\">\r\n      <!-- 0.1 -->\r\n      <g transform=\"translate(392.476989 171.132219)scale(0.1 -0.1)\">\r\n       <use xlink:href=\"#DejaVuSans-48\"/>\r\n       <use x=\"63.623047\" xlink:href=\"#DejaVuSans-46\"/>\r\n       <use x=\"95.410156\" xlink:href=\"#DejaVuSans-49\"/>\r\n      </g>\r\n     </g>\r\n    </g>\r\n    <g id=\"ytick_10\">\r\n     <g id=\"line2d_25\">\r\n      <g>\r\n       <use style=\"stroke:#000000;stroke-width:0.8;\" x=\"415.380114\" xlink:href=\"#m0d2e265879\" y=\"119.768478\"/>\r\n      </g>\r\n     </g>\r\n     <g id=\"text_26\">\r\n      <!-- 0.2 -->\r\n      <g transform=\"translate(392.476989 123.567696)scale(0.1 -0.1)\">\r\n       <use xlink:href=\"#DejaVuSans-48\"/>\r\n       <use x=\"63.623047\" xlink:href=\"#DejaVuSans-46\"/>\r\n       <use x=\"95.410156\" xlink:href=\"#DejaVuSans-50\"/>\r\n      </g>\r\n     </g>\r\n    </g>\r\n    <g id=\"ytick_11\">\r\n     <g id=\"line2d_26\">\r\n      <g>\r\n       <use style=\"stroke:#000000;stroke-width:0.8;\" x=\"415.380114\" xlink:href=\"#m0d2e265879\" y=\"72.203955\"/>\r\n      </g>\r\n     </g>\r\n     <g id=\"text_27\">\r\n      <!-- 0.3 -->\r\n      <g transform=\"translate(392.476989 76.003173)scale(0.1 -0.1)\">\r\n       <use xlink:href=\"#DejaVuSans-48\"/>\r\n       <use x=\"63.623047\" xlink:href=\"#DejaVuSans-46\"/>\r\n       <use x=\"95.410156\" xlink:href=\"#DejaVuSans-51\"/>\r\n      </g>\r\n     </g>\r\n    </g>\r\n    <g id=\"ytick_12\">\r\n     <g id=\"line2d_27\">\r\n      <g>\r\n       <use style=\"stroke:#000000;stroke-width:0.8;\" x=\"415.380114\" xlink:href=\"#m0d2e265879\" y=\"24.639432\"/>\r\n      </g>\r\n     </g>\r\n     <g id=\"text_28\">\r\n      <!-- 0.4 -->\r\n      <g transform=\"translate(392.476989 28.43865)scale(0.1 -0.1)\">\r\n       <use xlink:href=\"#DejaVuSans-48\"/>\r\n       <use x=\"63.623047\" xlink:href=\"#DejaVuSans-46\"/>\r\n       <use x=\"95.410156\" xlink:href=\"#DejaVuSans-52\"/>\r\n      </g>\r\n     </g>\r\n    </g>\r\n    <g id=\"text_29\">\r\n     <!-- Loss minimised by model -->\r\n     <g transform=\"translate(386.397301 179.289531)rotate(-90)scale(0.1 -0.1)\">\r\n      <defs>\r\n       <path d=\"M 9.8125 72.90625 \r\nL 19.671875 72.90625 \r\nL 19.671875 8.296875 \r\nL 55.171875 8.296875 \r\nL 55.171875 0 \r\nL 9.8125 0 \r\nz\r\n\" id=\"DejaVuSans-76\"/>\r\n       <path d=\"M 44.28125 53.078125 \r\nL 44.28125 44.578125 \r\nQ 40.484375 46.53125 36.375 47.5 \r\nQ 32.28125 48.484375 27.875 48.484375 \r\nQ 21.1875 48.484375 17.84375 46.4375 \r\nQ 14.5 44.390625 14.5 40.28125 \r\nQ 14.5 37.15625 16.890625 35.375 \r\nQ 19.28125 33.59375 26.515625 31.984375 \r\nL 29.59375 31.296875 \r\nQ 39.15625 29.25 43.1875 25.515625 \r\nQ 47.21875 21.78125 47.21875 15.09375 \r\nQ 47.21875 7.46875 41.1875 3.015625 \r\nQ 35.15625 -1.421875 24.609375 -1.421875 \r\nQ 20.21875 -1.421875 15.453125 -0.5625 \r\nQ 10.6875 0.296875 5.421875 2 \r\nL 5.421875 11.28125 \r\nQ 10.40625 8.6875 15.234375 7.390625 \r\nQ 20.0625 6.109375 24.8125 6.109375 \r\nQ 31.15625 6.109375 34.5625 8.28125 \r\nQ 37.984375 10.453125 37.984375 14.40625 \r\nQ 37.984375 18.0625 35.515625 20.015625 \r\nQ 33.0625 21.96875 24.703125 23.78125 \r\nL 21.578125 24.515625 \r\nQ 13.234375 26.265625 9.515625 29.90625 \r\nQ 5.8125 33.546875 5.8125 39.890625 \r\nQ 5.8125 47.609375 11.28125 51.796875 \r\nQ 16.75 56 26.8125 56 \r\nQ 31.78125 56 36.171875 55.265625 \r\nQ 40.578125 54.546875 44.28125 53.078125 \r\nz\r\n\" id=\"DejaVuSans-115\"/>\r\n       <path d=\"M 52 44.1875 \r\nQ 55.375 50.25 60.0625 53.125 \r\nQ 64.75 56 71.09375 56 \r\nQ 79.640625 56 84.28125 50.015625 \r\nQ 88.921875 44.046875 88.921875 33.015625 \r\nL 88.921875 0 \r\nL 79.890625 0 \r\nL 79.890625 32.71875 \r\nQ 79.890625 40.578125 77.09375 44.375 \r\nQ 74.3125 48.1875 68.609375 48.1875 \r\nQ 61.625 48.1875 57.5625 43.546875 \r\nQ 53.515625 38.921875 53.515625 30.90625 \r\nL 53.515625 0 \r\nL 44.484375 0 \r\nL 44.484375 32.71875 \r\nQ 44.484375 40.625 41.703125 44.40625 \r\nQ 38.921875 48.1875 33.109375 48.1875 \r\nQ 26.21875 48.1875 22.15625 43.53125 \r\nQ 18.109375 38.875 18.109375 30.90625 \r\nL 18.109375 0 \r\nL 9.078125 0 \r\nL 9.078125 54.6875 \r\nL 18.109375 54.6875 \r\nL 18.109375 46.1875 \r\nQ 21.1875 51.21875 25.484375 53.609375 \r\nQ 29.78125 56 35.6875 56 \r\nQ 41.65625 56 45.828125 52.96875 \r\nQ 50 49.953125 52 44.1875 \r\nz\r\n\" id=\"DejaVuSans-109\"/>\r\n       <path d=\"M 56.203125 29.59375 \r\nL 56.203125 25.203125 \r\nL 14.890625 25.203125 \r\nQ 15.484375 15.921875 20.484375 11.0625 \r\nQ 25.484375 6.203125 34.421875 6.203125 \r\nQ 39.59375 6.203125 44.453125 7.46875 \r\nQ 49.3125 8.734375 54.109375 11.28125 \r\nL 54.109375 2.78125 \r\nQ 49.265625 0.734375 44.1875 -0.34375 \r\nQ 39.109375 -1.421875 33.890625 -1.421875 \r\nQ 20.796875 -1.421875 13.15625 6.1875 \r\nQ 5.515625 13.8125 5.515625 26.8125 \r\nQ 5.515625 40.234375 12.765625 48.109375 \r\nQ 20.015625 56 32.328125 56 \r\nQ 43.359375 56 49.78125 48.890625 \r\nQ 56.203125 41.796875 56.203125 29.59375 \r\nz\r\nM 47.21875 32.234375 \r\nQ 47.125 39.59375 43.09375 43.984375 \r\nQ 39.0625 48.390625 32.421875 48.390625 \r\nQ 24.90625 48.390625 20.390625 44.140625 \r\nQ 15.875 39.890625 15.1875 32.171875 \r\nz\r\n\" id=\"DejaVuSans-101\"/>\r\n       <path d=\"M 45.40625 46.390625 \r\nL 45.40625 75.984375 \r\nL 54.390625 75.984375 \r\nL 54.390625 0 \r\nL 45.40625 0 \r\nL 45.40625 8.203125 \r\nQ 42.578125 3.328125 38.25 0.953125 \r\nQ 33.9375 -1.421875 27.875 -1.421875 \r\nQ 17.96875 -1.421875 11.734375 6.484375 \r\nQ 5.515625 14.40625 5.515625 27.296875 \r\nQ 5.515625 40.1875 11.734375 48.09375 \r\nQ 17.96875 56 27.875 56 \r\nQ 33.9375 56 38.25 53.625 \r\nQ 42.578125 51.265625 45.40625 46.390625 \r\nz\r\nM 14.796875 27.296875 \r\nQ 14.796875 17.390625 18.875 11.75 \r\nQ 22.953125 6.109375 30.078125 6.109375 \r\nQ 37.203125 6.109375 41.296875 11.75 \r\nQ 45.40625 17.390625 45.40625 27.296875 \r\nQ 45.40625 37.203125 41.296875 42.84375 \r\nQ 37.203125 48.484375 30.078125 48.484375 \r\nQ 22.953125 48.484375 18.875 42.84375 \r\nQ 14.796875 37.203125 14.796875 27.296875 \r\nz\r\n\" id=\"DejaVuSans-100\"/>\r\n       <path d=\"M 48.6875 27.296875 \r\nQ 48.6875 37.203125 44.609375 42.84375 \r\nQ 40.53125 48.484375 33.40625 48.484375 \r\nQ 26.265625 48.484375 22.1875 42.84375 \r\nQ 18.109375 37.203125 18.109375 27.296875 \r\nQ 18.109375 17.390625 22.1875 11.75 \r\nQ 26.265625 6.109375 33.40625 6.109375 \r\nQ 40.53125 6.109375 44.609375 11.75 \r\nQ 48.6875 17.390625 48.6875 27.296875 \r\nz\r\nM 18.109375 46.390625 \r\nQ 20.953125 51.265625 25.265625 53.625 \r\nQ 29.59375 56 35.59375 56 \r\nQ 45.5625 56 51.78125 48.09375 \r\nQ 58.015625 40.1875 58.015625 27.296875 \r\nQ 58.015625 14.40625 51.78125 6.484375 \r\nQ 45.5625 -1.421875 35.59375 -1.421875 \r\nQ 29.59375 -1.421875 25.265625 0.953125 \r\nQ 20.953125 3.328125 18.109375 8.203125 \r\nL 18.109375 0 \r\nL 9.078125 0 \r\nL 9.078125 75.984375 \r\nL 18.109375 75.984375 \r\nz\r\n\" id=\"DejaVuSans-98\"/>\r\n       <path d=\"M 9.421875 75.984375 \r\nL 18.40625 75.984375 \r\nL 18.40625 0 \r\nL 9.421875 0 \r\nz\r\n\" id=\"DejaVuSans-108\"/>\r\n      </defs>\r\n      <use xlink:href=\"#DejaVuSans-76\"/>\r\n      <use x=\"53.962891\" xlink:href=\"#DejaVuSans-111\"/>\r\n      <use x=\"115.144531\" xlink:href=\"#DejaVuSans-115\"/>\r\n      <use x=\"167.244141\" xlink:href=\"#DejaVuSans-115\"/>\r\n      <use x=\"219.34375\" xlink:href=\"#DejaVuSans-32\"/>\r\n      <use x=\"251.130859\" xlink:href=\"#DejaVuSans-109\"/>\r\n      <use x=\"348.542969\" xlink:href=\"#DejaVuSans-105\"/>\r\n      <use x=\"376.326172\" xlink:href=\"#DejaVuSans-110\"/>\r\n      <use x=\"439.705078\" xlink:href=\"#DejaVuSans-105\"/>\r\n      <use x=\"467.488281\" xlink:href=\"#DejaVuSans-109\"/>\r\n      <use x=\"564.900391\" xlink:href=\"#DejaVuSans-105\"/>\r\n      <use x=\"592.683594\" xlink:href=\"#DejaVuSans-115\"/>\r\n      <use x=\"644.783203\" xlink:href=\"#DejaVuSans-101\"/>\r\n      <use x=\"706.306641\" xlink:href=\"#DejaVuSans-100\"/>\r\n      <use x=\"769.783203\" xlink:href=\"#DejaVuSans-32\"/>\r\n      <use x=\"801.570312\" xlink:href=\"#DejaVuSans-98\"/>\r\n      <use x=\"865.046875\" xlink:href=\"#DejaVuSans-121\"/>\r\n      <use x=\"924.226562\" xlink:href=\"#DejaVuSans-32\"/>\r\n      <use x=\"956.013672\" xlink:href=\"#DejaVuSans-109\"/>\r\n      <use x=\"1053.425781\" xlink:href=\"#DejaVuSans-111\"/>\r\n      <use x=\"1114.607422\" xlink:href=\"#DejaVuSans-100\"/>\r\n      <use x=\"1178.083984\" xlink:href=\"#DejaVuSans-101\"/>\r\n      <use x=\"1239.607422\" xlink:href=\"#DejaVuSans-108\"/>\r\n     </g>\r\n    </g>\r\n   </g>\r\n   <g id=\"line2d_28\">\r\n    <path clip-path=\"url(#p1170383608)\" d=\"M 429.214824 17.083636 \r\nL 434.861645 134.991146 \r\nL 440.508466 156.107724 \r\nL 446.155287 168.725468 \r\nL 451.802107 176.812775 \r\nL 457.448928 183.360099 \r\nL 463.095749 186.978159 \r\nL 468.742569 191.200654 \r\nL 474.38939 193.948973 \r\nL 480.036211 196.031788 \r\nL 485.683031 198.591309 \r\nL 491.329852 200.660323 \r\nL 496.976673 201.525999 \r\nL 502.623494 203.088572 \r\nL 508.270314 204.520852 \r\nL 513.917135 205.951246 \r\nL 519.563956 205.954057 \r\nL 525.210776 206.516194 \r\nL 530.857597 207.969966 \r\nL 536.504418 209.182275 \r\nL 542.151239 208.927972 \r\nL 547.798059 209.509371 \r\nL 553.44488 209.661005 \r\nL 559.091701 209.907287 \r\nL 564.738521 211.020158 \r\nL 570.385342 210.243749 \r\nL 576.032163 212.024229 \r\nL 581.678984 211.036632 \r\nL 587.325804 210.73069 \r\nL 592.972625 212.064112 \r\nL 598.619446 210.411072 \r\nL 604.266266 212.451411 \r\nL 609.913087 212.698303 \r\nL 615.559908 212.414912 \r\nL 621.206729 212.355771 \r\nL 626.853549 210.798746 \r\nL 632.50037 212.047928 \r\nL 638.147191 210.957361 \r\nL 643.794011 212.67248 \r\nL 649.440832 213.910967 \r\nL 655.087653 212.512613 \r\nL 660.734474 211.109574 \r\nL 666.381294 213.186533 \r\nL 672.028115 214.396299 \r\nL 677.674936 214.722329 \r\nL 683.321756 214.756364 \r\nL 688.968577 214.736386 \r\nL 694.615398 202.07301 \r\nL 700.262219 213.543229 \r\nL 705.909039 214.505657 \r\n\" style=\"fill:none;stroke:#008000;stroke-linecap:square;stroke-width:1.5;\"/>\r\n   </g>\r\n   <g id=\"patch_9\">\r\n    <path d=\"M 415.380114 224.64 \r\nL 415.380114 7.2 \r\n\" style=\"fill:none;stroke:#000000;stroke-linecap:square;stroke-linejoin:miter;stroke-width:0.8;\"/>\r\n   </g>\r\n   <g id=\"patch_10\">\r\n    <path d=\"M 719.74375 224.64 \r\nL 719.74375 7.2 \r\n\" style=\"fill:none;stroke:#000000;stroke-linecap:square;stroke-linejoin:miter;stroke-width:0.8;\"/>\r\n   </g>\r\n   <g id=\"patch_11\">\r\n    <path d=\"M 415.380114 224.64 \r\nL 719.74375 224.64 \r\n\" style=\"fill:none;stroke:#000000;stroke-linecap:square;stroke-linejoin:miter;stroke-width:0.8;\"/>\r\n   </g>\r\n   <g id=\"patch_12\">\r\n    <path d=\"M 415.380114 7.2 \r\nL 719.74375 7.2 \r\n\" style=\"fill:none;stroke:#000000;stroke-linecap:square;stroke-linejoin:miter;stroke-width:0.8;\"/>\r\n   </g>\r\n   <g id=\"legend_2\">\r\n    <g id=\"patch_13\">\r\n     <path d=\"M 634.2625 29.878125 \r\nL 712.74375 29.878125 \r\nQ 714.74375 29.878125 714.74375 27.878125 \r\nL 714.74375 14.2 \r\nQ 714.74375 12.2 712.74375 12.2 \r\nL 634.2625 12.2 \r\nQ 632.2625 12.2 632.2625 14.2 \r\nL 632.2625 27.878125 \r\nQ 632.2625 29.878125 634.2625 29.878125 \r\nz\r\n\" style=\"fill:#ffffff;opacity:0.8;stroke:#cccccc;stroke-linejoin:miter;\"/>\r\n    </g>\r\n    <g id=\"line2d_29\">\r\n     <path d=\"M 636.2625 20.298438 \r\nL 656.2625 20.298438 \r\n\" style=\"fill:none;stroke:#008000;stroke-linecap:square;stroke-width:1.5;\"/>\r\n    </g>\r\n    <g id=\"line2d_30\"/>\r\n    <g id=\"text_30\">\r\n     <!-- Train loss -->\r\n     <g transform=\"translate(664.2625 23.798438)scale(0.1 -0.1)\">\r\n      <use xlink:href=\"#DejaVuSans-84\"/>\r\n      <use x=\"46.333984\" xlink:href=\"#DejaVuSans-114\"/>\r\n      <use x=\"87.447266\" xlink:href=\"#DejaVuSans-97\"/>\r\n      <use x=\"148.726562\" xlink:href=\"#DejaVuSans-105\"/>\r\n      <use x=\"176.509766\" xlink:href=\"#DejaVuSans-110\"/>\r\n      <use x=\"239.888672\" xlink:href=\"#DejaVuSans-32\"/>\r\n      <use x=\"271.675781\" xlink:href=\"#DejaVuSans-108\"/>\r\n      <use x=\"299.458984\" xlink:href=\"#DejaVuSans-111\"/>\r\n      <use x=\"360.640625\" xlink:href=\"#DejaVuSans-115\"/>\r\n      <use x=\"412.740234\" xlink:href=\"#DejaVuSans-115\"/>\r\n     </g>\r\n    </g>\r\n   </g>\r\n  </g>\r\n </g>\r\n <defs>\r\n  <clipPath id=\"p055857e526\">\r\n   <rect height=\"217.44\" width=\"304.363636\" x=\"50.14375\" y=\"7.2\"/>\r\n  </clipPath>\r\n  <clipPath id=\"p1170383608\">\r\n   <rect height=\"217.44\" width=\"304.363636\" x=\"415.380114\" y=\"7.2\"/>\r\n  </clipPath>\r\n </defs>\r\n</svg>\r\n",
            "image/png": "[encoded data removed]"
          },
          "metadata": {
            "tags": [],
            "needs_background": "light"
          }
        }
      ]
    },
    {
      "cell_type": "markdown",
      "metadata": {
        "id": "PFwYnho5Dja9"
      },
      "source": [
        "Finally we calculate the predictive accuracy of the model. "
      ]
    },
    {
      "cell_type": "code",
      "metadata": {
        "id": "dbX0o6CjDy0A",
        "colab": {
          "base_uri": "https://localhost:8080/"
        },
        "outputId": "4c1f1071-f58e-4ba1-cf73-23a09983be59"
      },
      "source": [
        "[train_loss, train_accuracy] = model_for_test.evaluate(X_train_all, y_train_all, verbose=0)\n",
        "print(\"Training set Accuracy:{:7.2f}\".format(train_accuracy))\n",
        "print(\"Training set Loss:{:7.4f}\\n\".format(train_loss))\n",
        "\n",
        "[test_loss, test_accuracy] = model_for_test.evaluate(X_test, y_test, verbose=0)\n",
        "print(\"Test set Accuracy:{:7.2f}\".format(test_accuracy))\n",
        "print(\"Test set Loss:{:7.4f}\\n\".format(test_loss))\n",
        "\n"
      ],
      "execution_count": null,
      "outputs": [
        {
          "output_type": "stream",
          "text": [
            "Training set Accuracy:   1.00\n",
            "Training set Loss: 0.0007\n",
            "\n",
            "Test set Accuracy:   0.98\n",
            "Test set Loss: 0.1366\n",
            "\n"
          ],
          "name": "stdout"
        }
      ]
    },
    {
      "cell_type": "markdown",
      "metadata": {
        "id": "mt4jiv10cros"
      },
      "source": [
        "## Evaluation"
      ]
    },
    {
      "cell_type": "markdown",
      "metadata": {
        "id": "e7Ujrupqf8i0"
      },
      "source": [
        "Finally, we visualize some incorrectly predicted digits."
      ]
    },
    {
      "cell_type": "code",
      "metadata": {
        "id": "-ViyLWpRgFpa",
        "colab": {
          "base_uri": "https://localhost:8080/"
        },
        "outputId": "4d5c3c17-1425-4744-fb25-a064a875634e"
      },
      "source": [
        "predictions = model_for_test.predict(X_test)\n",
        "# The first digit should be a 7 (shown as 1. at index 7)\n",
        "print(y_test[0])\n",
        "\n",
        "# Check the probabilities returned by predict for first test sample\n",
        "# The function enumerate() receives and iterable and creates an iterator that, for each element, \n",
        "# returns a tuple containing the element's index and value\n",
        "for index, probability in enumerate(predictions[0]):\n",
        "    print(f'{index}: {probability:.10%}')\n",
        "    \n",
        "# Our model believes this digit is a 7 with nearly 100% certainty\n",
        "# Not all predictions have this level of certainty"
      ],
      "execution_count": null,
      "outputs": [
        {
          "output_type": "stream",
          "text": [
            "[0. 0. 0. 0. 0. 0. 0. 1. 0. 0.]\n",
            "0: 0.0000000000%\n",
            "1: 0.0000000000%\n",
            "2: 0.0000000000%\n",
            "3: 0.0000000000%\n",
            "4: 0.0000000000%\n",
            "5: 0.0000000000%\n",
            "6: 0.0000000000%\n",
            "7: 100.0000000000%\n",
            "8: 0.0000000000%\n",
            "9: 0.0000000000%\n"
          ],
          "name": "stdout"
        }
      ]
    },
    {
      "cell_type": "markdown",
      "metadata": {
        "id": "G1DWlhJXgK5K"
      },
      "source": [
        "In the following snippet, p is the predicted value array, and e is the expected value array\n",
        "NumPy’s argmax() function determines then index of an array’s highest valued element\n",
        "Python's built-in zip function enables you to iterate over multiple iterables of data at the same time. The function receives as arguments any number of iterables and returns an iterator that produces tuples containing the elements at the same index in each."
      ]
    },
    {
      "cell_type": "code",
      "metadata": {
        "id": "hTgUlIlegKLv"
      },
      "source": [
        "# Locating the Incorrect Predictions\n",
        "images = X_test.reshape((10000, 28, 28))\n",
        "\n",
        "incorrect_predicted_images = []\n",
        "predicted_digits = []\n",
        "expected_digits = []\n",
        "\n",
        "for i, (p, e) in enumerate(zip(predictions, y_test)):\n",
        "    predicted, expected = np.argmax(p), np.argmax(e)\n",
        "\n",
        "    if predicted != expected:  # prediction was incorrect\n",
        "        incorrect_predicted_images.append(images[i])\n",
        "        predicted_digits.append(predicted)\n",
        "        expected_digits.append(expected)"
      ],
      "execution_count": null,
      "outputs": []
    },
    {
      "cell_type": "code",
      "metadata": {
        "id": "l4Ko3LH1gP35",
        "colab": {
          "base_uri": "https://localhost:8080/",
          "height": 705
        },
        "outputId": "2aced00a-8e36-44ff-b2f2-f64fc3d1048f"
      },
      "source": [
        "import matplotlib.pyplot as plt\n",
        "\n",
        "%matplotlib inline\n",
        "plt.figure()\n",
        "nrows,ncols=4,6\n",
        "plt.subplots(nrows,ncols, figsize=(16, 12))\n",
        "\n",
        "for i in range(nrows*ncols):  # show first 24 digits\n",
        "  plt.subplot(nrows,ncols,i+1)  # i+1 is position of subplot in nrows x ncols table\n",
        "  # show bitmap, interpret 0 as white and 255 as black (grayvalues)\n",
        "  plt.imshow(incorrect_predicted_images[i].reshape(28,28), cmap=plt.cm.gray_r)\n",
        "  plt.title(f'p: {predicted_digits[i]}; e: {expected_digits[i]}')\n",
        "  plt.xticks([])   # no ticks on x axis\n",
        "  plt.yticks([])   # not ticks on y axis"
      ],
      "execution_count": null,
      "outputs": [
        {
          "output_type": "display_data",
          "data": {
            "text/plain": [
              "<Figure size 432x288 with 0 Axes>"
            ]
          },
          "metadata": {
            "tags": []
          }
        },
        {
          "output_type": "display_data",
          "data": {
            "image/png": "[encoded data removed]",
            "text/plain": [
              "<Figure size 1152x864 with 24 Axes>"
            ]
          },
          "metadata": {
            "tags": []
          }
        }
      ]
    }
  ]
}