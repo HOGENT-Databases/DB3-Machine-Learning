{
 "cells": [
  {
   "cell_type": "markdown",
   "metadata": {},
   "source": [
    "## Simple Linear regression\n",
    "### Case Global Warming\n",
    "* **Simple linear regression** is the **simplest** regression algorithm\n",
    "* Given a collection of numeric values representing an **independent variable** and a **dependent variable**, simple linear regression **describes the relationship between these variables with a straight line**, known as the **regression line**\n",
    "* Using a **time series** of average Brussels winter temperature data for 1834 through 2019, we'll:\n",
    "    * Perform **simple linear regression**\n",
    "    * Display a **scatter plot** with a **regression line** \n",
    "    * Use the **coefficient** and **intercept values** calculated by the estimator to **make predictions**\n",
    "* Temperature data stored in **`wintertempbrussels.xlsx`**\n",
    "* Data source: https://opendata.vlaanderen.be/dataset/e09e922e-f67e-4e58-8a0d-f5ce17185d39"
   ]
  },
  {
   "cell_type": "markdown",
   "metadata": {},
   "source": [
    "<hr style=\"height:2px; border:none; color:black; background-color:black;\">"
   ]
  },
  {
   "cell_type": "markdown",
   "metadata": {},
   "source": [
    "### Loading the Average High Temperatures into a `DataFrame` \n",
    "* Load the data from `wintertempbrussels.csv`and display a few data samples:"
   ]
  },
  {
   "cell_type": "code",
   "execution_count": 1,
   "metadata": {},
   "outputs": [
    {
     "name": "stdout",
     "output_type": "stream",
     "text": [
      "   Year  Temperature\n",
      "0  1834          5.4\n",
      "1  1835          4.2\n",
      "2  1836          2.0\n",
      "     Year  Temperature\n",
      "183  2017          3.9\n",
      "184  2018          3.8\n",
      "185  2019          5.2\n"
     ]
    }
   ],
   "source": [
    "import pandas as pd\n",
    "\n",
    "brussels = pd.read_excel('data/wintertempbrussels.xlsx')\n",
    "\n",
    "print(brussels.head(3))\n",
    "print(brussels.tail(3))"
   ]
  },
  {
   "cell_type": "markdown",
   "metadata": {},
   "source": [
    "<hr style=\"height:2px; border:none; color:black; background-color:black;\">"
   ]
  },
  {
   "cell_type": "markdown",
   "metadata": {},
   "source": [
    "### Visualizing the Dataset\n",
    "* Create a **scatter plot**\n",
    "* **Note:** All code that modifies a graph must be in the same notebook cell"
   ]
  },
  {
   "cell_type": "code",
   "execution_count": 2,
   "metadata": {},
   "outputs": [
    {
     "data": {
      "image/png": "[encoded data removed]",
      "text/plain": [
       "<Figure size 432x288 with 1 Axes>"
      ]
     },
     "metadata": {
      "needs_background": "light"
     },
     "output_type": "display_data"
    }
   ],
   "source": [
    "# Plot the dataset\n",
    "import matplotlib.pyplot as plt\n",
    "# enable Matplotlib in this notebook.\n",
    "%matplotlib inline\n",
    "\n",
    "xmin = brussels.Year.min() - 5 \n",
    "xmax = brussels.Year.max() + 5 \n",
    "ymin = brussels.Temperature.min() - 2\n",
    "ymax = brussels.Temperature.max() + 2\n",
    "\n",
    "plt.xlim([xmin, xmax])\n",
    "plt.ylim([ymin,ymax])\n",
    "plt.scatter(brussels.Year, brussels.Temperature)\n",
    "\n",
    "plt.xlabel('Year')\n",
    "plt.ylabel('Temperature')\n",
    "\n",
    "plt.show()"
   ]
  },
  {
   "cell_type": "markdown",
   "metadata": {},
   "source": [
    "<hr style=\"height:2px; border:none; color:black; background-color:black;\">"
   ]
  },
  {
   "cell_type": "markdown",
   "metadata": {},
   "source": [
    "### Splitting the Data for Training and Testing\n",
    "* We’ll use the **`LinearRegression`** estimator from **`sklearn.linear_model`** \n",
    "* By default, this estimator uses **all** the **numeric features** in a dataset to perform **multiple linear regression**  \n",
    "* For **simple linear regression** select **one** feature (the `Date` here) as the **independent variable**\n",
    "* Select `Temperature` as the dependent variable"
   ]
  },
  {
   "cell_type": "code",
   "execution_count": 4,
   "metadata": {},
   "outputs": [
    {
     "name": "stdout",
     "output_type": "stream",
     "text": [
      "(148, 1)\n",
      "(38, 1)\n"
     ]
    }
   ],
   "source": [
    "from sklearn.model_selection import train_test_split\n",
    "X = brussels.drop('Temperature',axis=1)\n",
    "y = brussels['Temperature']\n",
    "\n",
    "X_train, X_test, y_train, y_test = train_test_split(X,y,test_size=0.20)\n",
    "\n",
    "print(X_train.shape)\n",
    "\n",
    "print(X_test.shape)"
   ]
  },
  {
   "cell_type": "markdown",
   "metadata": {},
   "source": [
    "<hr style=\"height:2px; border:none; color:black; background-color:black;\">"
   ]
  },
  {
   "cell_type": "markdown",
   "metadata": {},
   "source": [
    "### Training the Model (1 of 2)\n",
    "* [**LinearRegression default settings**](http://scikit-learn.org/stable/modules/generated/sklearn.linear_model.LinearRegression.html)"
   ]
  },
  {
   "cell_type": "code",
   "execution_count": 5,
   "metadata": {},
   "outputs": [
    {
     "data": {
      "text/plain": [
       "LinearRegression(copy_X=True, fit_intercept=True, n_jobs=None, normalize=False)"
      ]
     },
     "execution_count": 5,
     "metadata": {},
     "output_type": "execute_result"
    }
   ],
   "source": [
    "from sklearn.linear_model import LinearRegression\n",
    "\n",
    "linear_regression = LinearRegression()\n",
    "\n",
    "linear_regression.fit(X=X_train, y=y_train)"
   ]
  },
  {
   "cell_type": "markdown",
   "metadata": {},
   "source": [
    "* To find the **best fitting regression line** for the data, the `LinearRegression` estimator **iteratively adjusts** the **slope** and **intercept** to **minimize** the **sum of the squares** of the data points’ **distances** from the line \n"
   ]
  },
  {
   "cell_type": "markdown",
   "metadata": {},
   "source": [
    "<hr style=\"height:2px; border:none; color:black; background-color:black;\">"
   ]
  },
  {
   "cell_type": "markdown",
   "metadata": {},
   "source": [
    "### Training the Model (2 of 2)\n",
    "* We'll soon use **slope** and **intercept** to make **predictions** with \n",
    "\n",
    "\\begin{equation}\n",
    "y = m x + b\n",
    "\\end{equation}\n",
    "\n",
    "* Slope is the estimator’s **`coeff_`** attribute (**m** in the equation) \n",
    "* Intercept is the estimator’s **`intercept_`** attribute (**b** in the equation)"
   ]
  },
  {
   "cell_type": "code",
   "execution_count": 6,
   "metadata": {},
   "outputs": [
    {
     "data": {
      "text/plain": [
       "array([0.01144087])"
      ]
     },
     "execution_count": 6,
     "metadata": {},
     "output_type": "execute_result"
    }
   ],
   "source": [
    "linear_regression.coef_"
   ]
  },
  {
   "cell_type": "markdown",
   "metadata": {},
   "source": [
    "This value (the slope) can be interpreteded as follows: every year the temperature in January increases with this amount of °C. Remark that due to the random selection of the training set the slope differs with each run. "
   ]
  },
  {
   "cell_type": "code",
   "execution_count": 7,
   "metadata": {},
   "outputs": [
    {
     "data": {
      "text/plain": [
       "-19.386281204162014"
      ]
     },
     "execution_count": 7,
     "metadata": {},
     "output_type": "execute_result"
    }
   ],
   "source": [
    "linear_regression.intercept_"
   ]
  },
  {
   "cell_type": "markdown",
   "metadata": {},
   "source": [
    "<hr style=\"height:2px; border:none; color:black; background-color:black;\">"
   ]
  },
  {
   "cell_type": "markdown",
   "metadata": {},
   "source": [
    "### Testing the Model\n",
    "* Test the model using the data in **`X_test`** and check some of the **predictions**"
   ]
  },
  {
   "cell_type": "code",
   "execution_count": 8,
   "metadata": {},
   "outputs": [],
   "source": [
    "predicted = linear_regression.predict(X_test)\n",
    "\n",
    "expected = y_test"
   ]
  },
  {
   "cell_type": "markdown",
   "metadata": {},
   "source": [
    "Python built-in function **zip** enables you to iterate over _multiple_ iterables of data at the _same_ time. The function receives as arguments any number of iterables and returns an iterator that produces tuples containing the elements at the same index in each. An iterable is an object that can be iterated (like list, dictionary, tuple, ...).  \n",
    "  \n",
    "The code `predicted[::5]` uses a step of 5 to create a slice with every 5th element"
   ]
  },
  {
   "cell_type": "code",
   "execution_count": 9,
   "metadata": {},
   "outputs": [
    {
     "name": "stdout",
     "output_type": "stream",
     "text": [
      "predicted: 3.66, expected: 6.30\n",
      "predicted: 1.91, expected: 0.80\n",
      "predicted: 1.93, expected: 4.10\n",
      "predicted: 2.64, expected: 4.40\n",
      "predicted: 1.81, expected: 3.80\n",
      "predicted: 3.19, expected: 3.60\n",
      "predicted: 3.00, expected: 4.90\n",
      "predicted: 2.34, expected: 4.70\n"
     ]
    }
   ],
   "source": [
    "for p, e in zip(predicted[::5], expected[::5]):  # check every 5th element\n",
    "    print(f'predicted: {p:.2f}, expected: {e:.2f}')"
   ]
  },
  {
   "cell_type": "markdown",
   "metadata": {},
   "source": [
    "<hr style=\"height:2px; border:none; color:black; background-color:black;\">"
   ]
  },
  {
   "cell_type": "markdown",
   "metadata": {},
   "source": [
    "## Determine the accuracy of a regression model\n",
    "\n",
    "Evaluation metrics for classification problems, such as `accuracy` or `precision`, are not useful for regression problems. Instead, we need evaluation metrics designed for comparing continuous values. \n",
    "  \n",
    "Several options exist:\n",
    "1. The **Mean Absolute Error (MAE)**. This is the mean of the absolute value of the errors. It's the average error. It is calculated as:\n",
    "\\begin{equation}\n",
    "MAE=\\ \\frac{\\sum_{i=1}^{n}\\left|y_i-\\ {\\hat{y}}_i\\right|}{n}\n",
    "\\end{equation}    \n",
    "  \n",
    "2. The **Mean Squared Error (MSE)** is the mean of the squared errors. The mean squared error tells you how close a regression line is to a set of points. It does this by taking the distances from the points to the regression line (these distances are the “errors”) and squaring them. The squaring is necessary to remove any negative signs. It also gives more weight to larger differences. It’s called the mean squared error as you’re finding the average of a set of errors. MSE is preferred over MAE if you wish to \"punish\" larger errors. \n",
    "\\begin{equation}  \n",
    "MSE=\\ \\frac{\\sum_{i=1}^{n}\\left(y_i-\\ {\\hat{y}}_i\\right)^2}{n}\n",
    "\\end{equation}    \n",
    "  \n",
    "3. The **Root Mean Square Error (RMSE)**. This is the square root of the mean of the squared errors.   RMSE is even more popular than MSE, because RMSE is interpretable in the \"y\" units.\n",
    "It is easier to put in context as it's the same units as the response variable. \n",
    "RMSE is calculated as:\n",
    "\\begin{equation}\n",
    "RMSE=\\ \\sqrt{\\frac{\\sum_{i=1}^{n}\\left(y_i-\\ {\\hat{y}}_i\\right)^2}{n}}\n",
    "\\end{equation}    \n",
    "   \n",
    "4.\t$R^2$ or R squared. This is a statistic that gives some information about the goodness of fit of a model. In regression, the $R^2$ coefficient of determination is a statistical measure of how well the regression predictions approximate the real data points. An $R^2$ of 1 indicates that the regression predictions perfectly fit the data. Values of $R^2$ outside the range 0 to 1 can occur when the model fits the data worse than a horizontal hyperplane. This means: the closer $R^2$ is to 1 (but lower than 1) the better our model. "
   ]
  },
  {
   "cell_type": "code",
   "execution_count": 10,
   "metadata": {},
   "outputs": [
    {
     "name": "stdout",
     "output_type": "stream",
     "text": [
      "Mean Absolute Error: 1.2654166622043495\n",
      "\n",
      "Mean Squared Error: 2.3199851192630008\n",
      "\n",
      "Root Mean Squared Error: 1.5231497363237145\n",
      "\n",
      "R square: 0.10904831740310117\n",
      "\n"
     ]
    }
   ],
   "source": [
    "from sklearn import metrics\n",
    "\n",
    "MAE = metrics.mean_absolute_error(expected,predicted)\n",
    "print('Mean Absolute Error: '+ str(MAE))\n",
    "print()\n",
    "\n",
    "MSE = metrics.mean_squared_error(expected,predicted)\n",
    "print('Mean Squared Error: '+ str(MSE))\n",
    "print()\n",
    "\n",
    "import numpy as np\n",
    "RMSE = np.sqrt(metrics.mean_squared_error(expected,predicted))\n",
    "print('Root Mean Squared Error: '+ str(RMSE))\n",
    "print()\n",
    "\n",
    "r2 = metrics.r2_score(expected,predicted)\n",
    "print('R square: ' + str(r2))  \n",
    "print()"
   ]
  },
  {
   "cell_type": "markdown",
   "metadata": {},
   "source": [
    "<hr style=\"height:2px; border:none; color:black; background-color:black;\">"
   ]
  },
  {
   "cell_type": "markdown",
   "metadata": {},
   "source": [
    "### Predicting Future Temperatures and Estimating Past Temperatures \n",
    "* Use the **coefficient** and **intercept** values to make **predictions** \n",
    "* Python supports the concept of lambda functions: functions that can be defined inline and assigned to a variable"
   ]
  },
  {
   "cell_type": "code",
   "execution_count": 11,
   "metadata": {},
   "outputs": [
    {
     "name": "stdout",
     "output_type": "stream",
     "text": [
      "[2.23696046]\n",
      "[3.72427338]\n",
      "[4.63954287]\n"
     ]
    }
   ],
   "source": [
    "\n",
    "# lambda implements y = mx + b\n",
    "predict = (lambda x: linear_regression.coef_ * x + \n",
    "                     linear_regression.intercept_)\n",
    "\n",
    "print(predict(1890))\n",
    "print(predict(2020))\n",
    "print(predict(2100))"
   ]
  },
  {
   "cell_type": "markdown",
   "metadata": {},
   "source": [
    "<hr style=\"height:2px; border:none; color:black; background-color:black;\">"
   ]
  },
  {
   "cell_type": "markdown",
   "metadata": {},
   "source": [
    "### Add the Regression Line to the visualization"
   ]
  },
  {
   "cell_type": "code",
   "execution_count": 12,
   "metadata": {},
   "outputs": [
    {
     "data": {
      "image/png": "[encoded data removed]",
      "text/plain": [
       "<Figure size 432x288 with 1 Axes>"
      ]
     },
     "metadata": {
      "needs_background": "light"
     },
     "output_type": "display_data"
    }
   ],
   "source": [
    "plt.scatter(X_train,y_train)\n",
    "plt.plot(X_train, linear_regression.intercept_ + X_train * linear_regression.coef_, color='red')\n",
    "\n",
    "plt.show()"
   ]
  },
  {
   "cell_type": "markdown",
   "metadata": {},
   "source": [
    "<hr style=\"height:2px; border:none; color:black; background-color:black;\">"
   ]
  },
  {
   "cell_type": "markdown",
   "metadata": {},
   "source": [
    "### What if we restrict data to >= 1950? \n",
    "Is global warming getting worse since 1950? "
   ]
  },
  {
   "cell_type": "code",
   "execution_count": 13,
   "metadata": {},
   "outputs": [],
   "source": [
    "brussels = brussels[brussels['Year'] >= 1950]"
   ]
  },
  {
   "cell_type": "code",
   "execution_count": 14,
   "metadata": {},
   "outputs": [
    {
     "data": {
      "image/png": "[encoded data removed]",
      "text/plain": [
       "<Figure size 432x288 with 1 Axes>"
      ]
     },
     "metadata": {
      "needs_background": "light"
     },
     "output_type": "display_data"
    }
   ],
   "source": [
    "xmin = brussels.Year.min() - 5 \n",
    "xmax = brussels.Year.max() + 5 \n",
    "ymin = brussels.Temperature.min() - 2\n",
    "ymax = brussels.Temperature.max() + 2\n",
    "\n",
    "plt.xlim([xmin, xmax])\n",
    "plt.ylim([ymin,ymax])\n",
    "plt.scatter(brussels.Year, brussels.Temperature)\n",
    "\n",
    "plt.xlabel('Year')\n",
    "plt.ylabel('Temperature')\n",
    "\n",
    "plt.show()"
   ]
  },
  {
   "cell_type": "code",
   "execution_count": 16,
   "metadata": {},
   "outputs": [
    {
     "data": {
      "text/plain": [
       "array([0.02506642])"
      ]
     },
     "execution_count": 16,
     "metadata": {},
     "output_type": "execute_result"
    }
   ],
   "source": [
    "X = brussels.drop('Temperature',axis=1)\n",
    "y = brussels['Temperature']\n",
    "\n",
    "X_train, X_test, y_train, y_test = train_test_split(X,y,test_size=0.20)\n",
    "linear_regression.fit(X=X_train, y=y_train)\n",
    "linear_regression.coef_"
   ]
  },
  {
   "cell_type": "markdown",
   "metadata": {},
   "source": [
    "The regression coefficient is clearly larger. What will, according to this model, be the temperature in 2100? "
   ]
  },
  {
   "cell_type": "code",
   "execution_count": 17,
   "metadata": {},
   "outputs": [
    {
     "name": "stdout",
     "output_type": "stream",
     "text": [
      "[6.50595666]\n"
     ]
    }
   ],
   "source": [
    "print(predict(2100))"
   ]
  },
  {
   "cell_type": "code",
   "execution_count": 18,
   "metadata": {},
   "outputs": [
    {
     "name": "stdout",
     "output_type": "stream",
     "text": [
      "Mean Absolute Error: 1.7401848090412024\n",
      "\n"
     ]
    }
   ],
   "source": [
    "predicted = linear_regression.predict(X_test)\n",
    "\n",
    "expected = y_test\n",
    "\n",
    "MAE = metrics.mean_absolute_error(expected,predicted)\n",
    "print('Mean Absolute Error: '+ str(MAE))\n",
    "print()"
   ]
  }
 ],
 "metadata": {
  "kernelspec": {
   "display_name": "Python 3",
   "language": "python",
   "name": "python3"
  },
  "language_info": {
   "codemirror_mode": {
    "name": "ipython",
    "version": 3
   },
   "file_extension": ".py",
   "mimetype": "text/x-python",
   "name": "python",
   "nbconvert_exporter": "python",
   "pygments_lexer": "ipython3",
   "version": "3.7.6"
  }
 },
 "nbformat": 4,
 "nbformat_minor": 2
}
