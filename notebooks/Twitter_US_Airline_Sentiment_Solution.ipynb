{
  "nbformat": 4,
  "nbformat_minor": 0,
  "metadata": {
    "kernelspec": {
      "display_name": "Python 3",
      "language": "python",
      "name": "python3"
    },
    "language_info": {
      "codemirror_mode": {
        "name": "ipython",
        "version": 3
      },
      "file_extension": ".py",
      "mimetype": "text/x-python",
      "name": "python",
      "nbconvert_exporter": "python",
      "pygments_lexer": "ipython3",
      "version": "3.7.9-final"
    },
    "colab": {
      "name": "Twitter US Airline Sentiment Solution.ipynb",
      "provenance": [],
      "collapsed_sections": []
    }
  },
  "cells": [
    {
      "cell_type": "code",
      "metadata": {
        "collapsed": true,
        "id": "hZSMlyXpxN00"
      },
      "source": [
        "# A sentiment analysis job about the problems of each major U.S. airline. \n",
        "# Twitter data was scraped from February of 2015 and contributors were asked to first classify \n",
        "# positive, negative, and neutral tweets, followed by categorizing negative reasons (such as \"late flight\" or \"rude service\")."
      ],
      "execution_count": 1,
      "outputs": []
    },
    {
      "cell_type": "code",
      "metadata": {
        "colab": {
          "base_uri": "https://localhost:8080/"
        },
        "id": "u_ERulbNWXmf",
        "outputId": "500db411-5a22-4f06-9ba6-9cc57143215f"
      },
      "source": [
        "from google.colab import drive\r\n",
        "drive.mount('/content/gdrive')"
      ],
      "execution_count": 2,
      "outputs": [
        {
          "output_type": "error",
          "ename": "ModuleNotFoundError",
          "evalue": "No module named 'google.colab'",
          "traceback": [
            "\u001b[1;31m---------------------------------------------------------------------------\u001b[0m",
            "\u001b[1;31mModuleNotFoundError\u001b[0m                       Traceback (most recent call last)",
            "\u001b[1;32m<ipython-input-2-4996ee3d8d09>\u001b[0m in \u001b[0;36m<module>\u001b[1;34m\u001b[0m\n\u001b[1;32m----> 1\u001b[1;33m \u001b[1;32mfrom\u001b[0m \u001b[0mgoogle\u001b[0m\u001b[1;33m.\u001b[0m\u001b[0mcolab\u001b[0m \u001b[1;32mimport\u001b[0m \u001b[0mdrive\u001b[0m\u001b[1;33m\u001b[0m\u001b[1;33m\u001b[0m\u001b[0m\n\u001b[0m\u001b[0;32m      2\u001b[0m \u001b[0mdrive\u001b[0m\u001b[1;33m.\u001b[0m\u001b[0mmount\u001b[0m\u001b[1;33m(\u001b[0m\u001b[1;34m'/content/gdrive'\u001b[0m\u001b[1;33m)\u001b[0m\u001b[1;33m\u001b[0m\u001b[1;33m\u001b[0m\u001b[0m\n",
            "\u001b[1;31mModuleNotFoundError\u001b[0m: No module named 'google.colab'"
          ]
        }
      ]
    },
    {
      "cell_type": "code",
      "metadata": {
        "collapsed": true,
        "id": "OJkrQS6uxN06"
      },
      "source": [
        "import numpy as np\n",
        "import pandas as pd"
      ],
      "execution_count": null,
      "outputs": []
    },
    {
      "cell_type": "code",
      "metadata": {
        "id": "nUs8-IZoxN07",
        "colab": {
          "base_uri": "https://localhost:8080/",
          "height": 447
        },
        "outputId": "6e9dc7b3-c8cf-4bf5-d62b-a2beb7e80ced"
      },
      "source": [
        "# Read the file data.csv. The enconding is important for the @ in the column text\n",
        "# Show the first few records\n",
        "path = 'https://raw.githubusercontent.com/HOGENT-Databases/DB3-Workshops/master/data/'\n",
        "data = pd.read_csv(path + \"Tweets.csv\", encoding=\"ISO-8859-1\")\n",
        "data.head()"
      ],
      "execution_count": null,
      "outputs": [
        {
          "output_type": "execute_result",
          "data": {
            "text/html": [
              "<div>\n",
              "<style scoped>\n",
              "    .dataframe tbody tr th:only-of-type {\n",
              "        vertical-align: middle;\n",
              "    }\n",
              "\n",
              "    .dataframe tbody tr th {\n",
              "        vertical-align: top;\n",
              "    }\n",
              "\n",
              "    .dataframe thead th {\n",
              "        text-align: right;\n",
              "    }\n",
              "</style>\n",
              "<table border=\"1\" class=\"dataframe\">\n",
              "  <thead>\n",
              "    <tr style=\"text-align: right;\">\n",
              "      <th></th>\n",
              "      <th>tweet_id</th>\n",
              "      <th>airline_sentiment</th>\n",
              "      <th>airline_sentiment_confidence</th>\n",
              "      <th>negativereason</th>\n",
              "      <th>negativereason_confidence</th>\n",
              "      <th>airline</th>\n",
              "      <th>airline_sentiment_gold</th>\n",
              "      <th>name</th>\n",
              "      <th>negativereason_gold</th>\n",
              "      <th>retweet_count</th>\n",
              "      <th>text</th>\n",
              "      <th>tweet_coord</th>\n",
              "      <th>tweet_created</th>\n",
              "      <th>tweet_location</th>\n",
              "      <th>user_timezone</th>\n",
              "    </tr>\n",
              "  </thead>\n",
              "  <tbody>\n",
              "    <tr>\n",
              "      <th>0</th>\n",
              "      <td>570306133677760513</td>\n",
              "      <td>neutral</td>\n",
              "      <td>1.0000</td>\n",
              "      <td>NaN</td>\n",
              "      <td>NaN</td>\n",
              "      <td>Virgin America</td>\n",
              "      <td>NaN</td>\n",
              "      <td>cairdin</td>\n",
              "      <td>NaN</td>\n",
              "      <td>0</td>\n",
              "      <td>@VirginAmerica What @dhepburn said.</td>\n",
              "      <td>NaN</td>\n",
              "      <td>2015-02-24 11:35:52 -0800</td>\n",
              "      <td>NaN</td>\n",
              "      <td>Eastern Time (US &amp; Canada)</td>\n",
              "    </tr>\n",
              "    <tr>\n",
              "      <th>1</th>\n",
              "      <td>570301130888122368</td>\n",
              "      <td>positive</td>\n",
              "      <td>0.3486</td>\n",
              "      <td>NaN</td>\n",
              "      <td>0.0000</td>\n",
              "      <td>Virgin America</td>\n",
              "      <td>NaN</td>\n",
              "      <td>jnardino</td>\n",
              "      <td>NaN</td>\n",
              "      <td>0</td>\n",
              "      <td>@VirginAmerica plus you've added commercials t...</td>\n",
              "      <td>NaN</td>\n",
              "      <td>2015-02-24 11:15:59 -0800</td>\n",
              "      <td>NaN</td>\n",
              "      <td>Pacific Time (US &amp; Canada)</td>\n",
              "    </tr>\n",
              "    <tr>\n",
              "      <th>2</th>\n",
              "      <td>570301083672813571</td>\n",
              "      <td>neutral</td>\n",
              "      <td>0.6837</td>\n",
              "      <td>NaN</td>\n",
              "      <td>NaN</td>\n",
              "      <td>Virgin America</td>\n",
              "      <td>NaN</td>\n",
              "      <td>yvonnalynn</td>\n",
              "      <td>NaN</td>\n",
              "      <td>0</td>\n",
              "      <td>@VirginAmerica I didn't today... Must mean I n...</td>\n",
              "      <td>NaN</td>\n",
              "      <td>2015-02-24 11:15:48 -0800</td>\n",
              "      <td>Lets Play</td>\n",
              "      <td>Central Time (US &amp; Canada)</td>\n",
              "    </tr>\n",
              "    <tr>\n",
              "      <th>3</th>\n",
              "      <td>570301031407624196</td>\n",
              "      <td>negative</td>\n",
              "      <td>1.0000</td>\n",
              "      <td>Bad Flight</td>\n",
              "      <td>0.7033</td>\n",
              "      <td>Virgin America</td>\n",
              "      <td>NaN</td>\n",
              "      <td>jnardino</td>\n",
              "      <td>NaN</td>\n",
              "      <td>0</td>\n",
              "      <td>@VirginAmerica it's really aggressive to blast...</td>\n",
              "      <td>NaN</td>\n",
              "      <td>2015-02-24 11:15:36 -0800</td>\n",
              "      <td>NaN</td>\n",
              "      <td>Pacific Time (US &amp; Canada)</td>\n",
              "    </tr>\n",
              "    <tr>\n",
              "      <th>4</th>\n",
              "      <td>570300817074462722</td>\n",
              "      <td>negative</td>\n",
              "      <td>1.0000</td>\n",
              "      <td>Can't Tell</td>\n",
              "      <td>1.0000</td>\n",
              "      <td>Virgin America</td>\n",
              "      <td>NaN</td>\n",
              "      <td>jnardino</td>\n",
              "      <td>NaN</td>\n",
              "      <td>0</td>\n",
              "      <td>@VirginAmerica and it's a really big bad thing...</td>\n",
              "      <td>NaN</td>\n",
              "      <td>2015-02-24 11:14:45 -0800</td>\n",
              "      <td>NaN</td>\n",
              "      <td>Pacific Time (US &amp; Canada)</td>\n",
              "    </tr>\n",
              "  </tbody>\n",
              "</table>\n",
              "</div>"
            ],
            "text/plain": [
              "             tweet_id  ...               user_timezone\n",
              "0  570306133677760513  ...  Eastern Time (US & Canada)\n",
              "1  570301130888122368  ...  Pacific Time (US & Canada)\n",
              "2  570301083672813571  ...  Central Time (US & Canada)\n",
              "3  570301031407624196  ...  Pacific Time (US & Canada)\n",
              "4  570300817074462722  ...  Pacific Time (US & Canada)\n",
              "\n",
              "[5 rows x 15 columns]"
            ]
          },
          "metadata": {
            "tags": []
          },
          "execution_count": 25
        }
      ]
    },
    {
      "cell_type": "code",
      "metadata": {
        "id": "eHqtlsSIxN08",
        "colab": {
          "base_uri": "https://localhost:8080/",
          "height": 294
        },
        "outputId": "a052ae00-f9a1-4eeb-9431-0f3750c2884e"
      },
      "source": [
        "# Show the general information about the data\n",
        "data.describe()"
      ],
      "execution_count": null,
      "outputs": [
        {
          "output_type": "execute_result",
          "data": {
            "text/html": [
              "<div>\n",
              "<style scoped>\n",
              "    .dataframe tbody tr th:only-of-type {\n",
              "        vertical-align: middle;\n",
              "    }\n",
              "\n",
              "    .dataframe tbody tr th {\n",
              "        vertical-align: top;\n",
              "    }\n",
              "\n",
              "    .dataframe thead th {\n",
              "        text-align: right;\n",
              "    }\n",
              "</style>\n",
              "<table border=\"1\" class=\"dataframe\">\n",
              "  <thead>\n",
              "    <tr style=\"text-align: right;\">\n",
              "      <th></th>\n",
              "      <th>tweet_id</th>\n",
              "      <th>airline_sentiment_confidence</th>\n",
              "      <th>negativereason_confidence</th>\n",
              "      <th>retweet_count</th>\n",
              "    </tr>\n",
              "  </thead>\n",
              "  <tbody>\n",
              "    <tr>\n",
              "      <th>count</th>\n",
              "      <td>1.464000e+04</td>\n",
              "      <td>14640.000000</td>\n",
              "      <td>10522.000000</td>\n",
              "      <td>14640.000000</td>\n",
              "    </tr>\n",
              "    <tr>\n",
              "      <th>mean</th>\n",
              "      <td>5.692184e+17</td>\n",
              "      <td>0.900169</td>\n",
              "      <td>0.638298</td>\n",
              "      <td>0.082650</td>\n",
              "    </tr>\n",
              "    <tr>\n",
              "      <th>std</th>\n",
              "      <td>7.791112e+14</td>\n",
              "      <td>0.162830</td>\n",
              "      <td>0.330440</td>\n",
              "      <td>0.745778</td>\n",
              "    </tr>\n",
              "    <tr>\n",
              "      <th>min</th>\n",
              "      <td>5.675883e+17</td>\n",
              "      <td>0.335000</td>\n",
              "      <td>0.000000</td>\n",
              "      <td>0.000000</td>\n",
              "    </tr>\n",
              "    <tr>\n",
              "      <th>25%</th>\n",
              "      <td>5.685592e+17</td>\n",
              "      <td>0.692300</td>\n",
              "      <td>0.360600</td>\n",
              "      <td>0.000000</td>\n",
              "    </tr>\n",
              "    <tr>\n",
              "      <th>50%</th>\n",
              "      <td>5.694779e+17</td>\n",
              "      <td>1.000000</td>\n",
              "      <td>0.670600</td>\n",
              "      <td>0.000000</td>\n",
              "    </tr>\n",
              "    <tr>\n",
              "      <th>75%</th>\n",
              "      <td>5.698905e+17</td>\n",
              "      <td>1.000000</td>\n",
              "      <td>1.000000</td>\n",
              "      <td>0.000000</td>\n",
              "    </tr>\n",
              "    <tr>\n",
              "      <th>max</th>\n",
              "      <td>5.703106e+17</td>\n",
              "      <td>1.000000</td>\n",
              "      <td>1.000000</td>\n",
              "      <td>44.000000</td>\n",
              "    </tr>\n",
              "  </tbody>\n",
              "</table>\n",
              "</div>"
            ],
            "text/plain": [
              "           tweet_id  ...  retweet_count\n",
              "count  1.464000e+04  ...   14640.000000\n",
              "mean   5.692184e+17  ...       0.082650\n",
              "std    7.791112e+14  ...       0.745778\n",
              "min    5.675883e+17  ...       0.000000\n",
              "25%    5.685592e+17  ...       0.000000\n",
              "50%    5.694779e+17  ...       0.000000\n",
              "75%    5.698905e+17  ...       0.000000\n",
              "max    5.703106e+17  ...      44.000000\n",
              "\n",
              "[8 rows x 4 columns]"
            ]
          },
          "metadata": {
            "tags": []
          },
          "execution_count": 26
        }
      ]
    },
    {
      "cell_type": "code",
      "metadata": {
        "id": "tvhPInNFxN09",
        "colab": {
          "base_uri": "https://localhost:8080/"
        },
        "outputId": "53c92a23-0bc8-4af3-e3b6-dac8db3c3a73"
      },
      "source": [
        "# Give the dimensions of the data\n",
        "data.shape"
      ],
      "execution_count": null,
      "outputs": [
        {
          "output_type": "execute_result",
          "data": {
            "text/plain": [
              "(14640, 15)"
            ]
          },
          "metadata": {
            "tags": []
          },
          "execution_count": 27
        }
      ]
    },
    {
      "cell_type": "code",
      "metadata": {
        "id": "V32TQwkWxN09",
        "colab": {
          "base_uri": "https://localhost:8080/"
        },
        "outputId": "e002d9e2-1516-45e9-ef46-ea86ddf4b98f"
      },
      "source": [
        "# Give for each column the number of values available\n",
        "data.count()"
      ],
      "execution_count": null,
      "outputs": [
        {
          "output_type": "execute_result",
          "data": {
            "text/plain": [
              "tweet_id                        14640\n",
              "airline_sentiment               14640\n",
              "airline_sentiment_confidence    14640\n",
              "negativereason                   9178\n",
              "negativereason_confidence       10522\n",
              "airline                         14640\n",
              "airline_sentiment_gold             40\n",
              "name                            14640\n",
              "negativereason_gold                32\n",
              "retweet_count                   14640\n",
              "text                            14640\n",
              "tweet_coord                      1019\n",
              "tweet_created                   14640\n",
              "tweet_location                   9907\n",
              "user_timezone                    9820\n",
              "dtype: int64"
            ]
          },
          "metadata": {
            "tags": []
          },
          "execution_count": 28
        }
      ]
    },
    {
      "cell_type": "code",
      "metadata": {
        "collapsed": true,
        "id": "Ol8v8VeyxN09"
      },
      "source": [
        "# Drop the columns airline_sentiment_gold, negativereason_gold, tweet_coord, tweet_location, user_timezone\n",
        "data = data.drop([\"airline_sentiment_gold\", \"negativereason_gold\", \"tweet_coord\", \"tweet_location\", \"user_timezone\"], axis = 1)"
      ],
      "execution_count": null,
      "outputs": []
    },
    {
      "cell_type": "code",
      "metadata": {
        "id": "HjyWpmVExN0-",
        "colab": {
          "base_uri": "https://localhost:8080/"
        },
        "outputId": "c9d281da-a1c0-4fad-f3a9-c20d3eff039b"
      },
      "source": [
        "# Give for each column the number of values available\n",
        "data.count()"
      ],
      "execution_count": null,
      "outputs": [
        {
          "output_type": "execute_result",
          "data": {
            "text/plain": [
              "tweet_id                        14640\n",
              "airline_sentiment               14640\n",
              "airline_sentiment_confidence    14640\n",
              "negativereason                   9178\n",
              "negativereason_confidence       10522\n",
              "airline                         14640\n",
              "name                            14640\n",
              "retweet_count                   14640\n",
              "text                            14640\n",
              "tweet_created                   14640\n",
              "dtype: int64"
            ]
          },
          "metadata": {
            "tags": []
          },
          "execution_count": 30
        }
      ]
    },
    {
      "cell_type": "code",
      "metadata": {
        "id": "mBIzREcWxN0-",
        "colab": {
          "base_uri": "https://localhost:8080/"
        },
        "outputId": "a404129a-0a55-4140-f73f-2d121c318143"
      },
      "source": [
        "# Give the datatype of each column\n",
        "data.dtypes"
      ],
      "execution_count": null,
      "outputs": [
        {
          "output_type": "execute_result",
          "data": {
            "text/plain": [
              "tweet_id                          int64\n",
              "airline_sentiment                object\n",
              "airline_sentiment_confidence    float64\n",
              "negativereason                   object\n",
              "negativereason_confidence       float64\n",
              "airline                          object\n",
              "name                             object\n",
              "retweet_count                     int64\n",
              "text                             object\n",
              "tweet_created                    object\n",
              "dtype: object"
            ]
          },
          "metadata": {
            "tags": []
          },
          "execution_count": 33
        }
      ]
    },
    {
      "cell_type": "code",
      "metadata": {
        "id": "-uWQnKxGxN0-",
        "colab": {
          "base_uri": "https://localhost:8080/"
        },
        "outputId": "173eb262-3123-48be-81bb-15e0ffbf6f4d"
      },
      "source": [
        "# Which are the different airlines in the dataset? \n",
        "data[\"airline\"].unique()"
      ],
      "execution_count": null,
      "outputs": [
        {
          "output_type": "execute_result",
          "data": {
            "text/plain": [
              "array(['Virgin America', 'United', 'Southwest', 'Delta', 'US Airways',\n",
              "       'American'], dtype=object)"
            ]
          },
          "metadata": {
            "tags": []
          },
          "execution_count": 34
        }
      ]
    },
    {
      "cell_type": "code",
      "metadata": {
        "id": "4ChYWIkRxN0_",
        "colab": {
          "base_uri": "https://localhost:8080/"
        },
        "outputId": "30c4e4a4-5e19-4ee4-b5b6-7a97c888c60b"
      },
      "source": [
        "# Give the number of tweets per airline, sort descending\n",
        "data.groupby('airline')['tweet_id'].count().sort_values(ascending=False)"
      ],
      "execution_count": null,
      "outputs": [
        {
          "output_type": "execute_result",
          "data": {
            "text/plain": [
              "airline\n",
              "United            3822\n",
              "US Airways        2913\n",
              "American          2759\n",
              "Southwest         2420\n",
              "Delta             2222\n",
              "Virgin America     504\n",
              "Name: tweet_id, dtype: int64"
            ]
          },
          "metadata": {
            "tags": []
          },
          "execution_count": 35
        }
      ]
    },
    {
      "cell_type": "code",
      "metadata": {
        "id": "uUZ7ICFixN0_",
        "colab": {
          "base_uri": "https://localhost:8080/",
          "height": 263
        },
        "outputId": "2139a917-6bb7-4dc2-f5b6-a1611003e649"
      },
      "source": [
        "# Give a pivot table with the number of positive, neutral and negative tweets per airline (airlines in alphabetical order) \n",
        "# Method 1\n",
        "data.groupby(['airline', 'airline_sentiment'])['tweet_id'].count().unstack().sort_values(by=['airline']).fillna(0)"
      ],
      "execution_count": null,
      "outputs": [
        {
          "output_type": "execute_result",
          "data": {
            "text/html": [
              "<div>\n",
              "<style scoped>\n",
              "    .dataframe tbody tr th:only-of-type {\n",
              "        vertical-align: middle;\n",
              "    }\n",
              "\n",
              "    .dataframe tbody tr th {\n",
              "        vertical-align: top;\n",
              "    }\n",
              "\n",
              "    .dataframe thead th {\n",
              "        text-align: right;\n",
              "    }\n",
              "</style>\n",
              "<table border=\"1\" class=\"dataframe\">\n",
              "  <thead>\n",
              "    <tr style=\"text-align: right;\">\n",
              "      <th>airline_sentiment</th>\n",
              "      <th>negative</th>\n",
              "      <th>neutral</th>\n",
              "      <th>positive</th>\n",
              "    </tr>\n",
              "    <tr>\n",
              "      <th>airline</th>\n",
              "      <th></th>\n",
              "      <th></th>\n",
              "      <th></th>\n",
              "    </tr>\n",
              "  </thead>\n",
              "  <tbody>\n",
              "    <tr>\n",
              "      <th>American</th>\n",
              "      <td>1960</td>\n",
              "      <td>463</td>\n",
              "      <td>336</td>\n",
              "    </tr>\n",
              "    <tr>\n",
              "      <th>Delta</th>\n",
              "      <td>955</td>\n",
              "      <td>723</td>\n",
              "      <td>544</td>\n",
              "    </tr>\n",
              "    <tr>\n",
              "      <th>Southwest</th>\n",
              "      <td>1186</td>\n",
              "      <td>664</td>\n",
              "      <td>570</td>\n",
              "    </tr>\n",
              "    <tr>\n",
              "      <th>US Airways</th>\n",
              "      <td>2263</td>\n",
              "      <td>381</td>\n",
              "      <td>269</td>\n",
              "    </tr>\n",
              "    <tr>\n",
              "      <th>United</th>\n",
              "      <td>2633</td>\n",
              "      <td>697</td>\n",
              "      <td>492</td>\n",
              "    </tr>\n",
              "    <tr>\n",
              "      <th>Virgin America</th>\n",
              "      <td>181</td>\n",
              "      <td>171</td>\n",
              "      <td>152</td>\n",
              "    </tr>\n",
              "  </tbody>\n",
              "</table>\n",
              "</div>"
            ],
            "text/plain": [
              "airline_sentiment  negative  neutral  positive\n",
              "airline                                       \n",
              "American               1960      463       336\n",
              "Delta                   955      723       544\n",
              "Southwest              1186      664       570\n",
              "US Airways             2263      381       269\n",
              "United                 2633      697       492\n",
              "Virgin America          181      171       152"
            ]
          },
          "metadata": {
            "tags": []
          },
          "execution_count": 36
        }
      ]
    },
    {
      "cell_type": "code",
      "metadata": {
        "id": "L6LvmolexN1A",
        "colab": {
          "base_uri": "https://localhost:8080/",
          "height": 263
        },
        "outputId": "9eceb426-dd2d-4c4b-ddd5-6fb84e6f87a8"
      },
      "source": [
        "# Give a pivot table with the number of positive, neutral and negative tweets per airline (airlines in alphabetical order) \n",
        "# Method 2\n",
        "pd.pivot_table(data, values='tweet_id', index='airline',columns='airline_sentiment',aggfunc=np.count_nonzero).fillna(0)"
      ],
      "execution_count": null,
      "outputs": [
        {
          "output_type": "execute_result",
          "data": {
            "text/html": [
              "<div>\n",
              "<style scoped>\n",
              "    .dataframe tbody tr th:only-of-type {\n",
              "        vertical-align: middle;\n",
              "    }\n",
              "\n",
              "    .dataframe tbody tr th {\n",
              "        vertical-align: top;\n",
              "    }\n",
              "\n",
              "    .dataframe thead th {\n",
              "        text-align: right;\n",
              "    }\n",
              "</style>\n",
              "<table border=\"1\" class=\"dataframe\">\n",
              "  <thead>\n",
              "    <tr style=\"text-align: right;\">\n",
              "      <th>airline_sentiment</th>\n",
              "      <th>negative</th>\n",
              "      <th>neutral</th>\n",
              "      <th>positive</th>\n",
              "    </tr>\n",
              "    <tr>\n",
              "      <th>airline</th>\n",
              "      <th></th>\n",
              "      <th></th>\n",
              "      <th></th>\n",
              "    </tr>\n",
              "  </thead>\n",
              "  <tbody>\n",
              "    <tr>\n",
              "      <th>American</th>\n",
              "      <td>1960</td>\n",
              "      <td>463</td>\n",
              "      <td>336</td>\n",
              "    </tr>\n",
              "    <tr>\n",
              "      <th>Delta</th>\n",
              "      <td>955</td>\n",
              "      <td>723</td>\n",
              "      <td>544</td>\n",
              "    </tr>\n",
              "    <tr>\n",
              "      <th>Southwest</th>\n",
              "      <td>1186</td>\n",
              "      <td>664</td>\n",
              "      <td>570</td>\n",
              "    </tr>\n",
              "    <tr>\n",
              "      <th>US Airways</th>\n",
              "      <td>2263</td>\n",
              "      <td>381</td>\n",
              "      <td>269</td>\n",
              "    </tr>\n",
              "    <tr>\n",
              "      <th>United</th>\n",
              "      <td>2633</td>\n",
              "      <td>697</td>\n",
              "      <td>492</td>\n",
              "    </tr>\n",
              "    <tr>\n",
              "      <th>Virgin America</th>\n",
              "      <td>181</td>\n",
              "      <td>171</td>\n",
              "      <td>152</td>\n",
              "    </tr>\n",
              "  </tbody>\n",
              "</table>\n",
              "</div>"
            ],
            "text/plain": [
              "airline_sentiment  negative  neutral  positive\n",
              "airline                                       \n",
              "American               1960      463       336\n",
              "Delta                   955      723       544\n",
              "Southwest              1186      664       570\n",
              "US Airways             2263      381       269\n",
              "United                 2633      697       492\n",
              "Virgin America          181      171       152"
            ]
          },
          "metadata": {
            "tags": []
          },
          "execution_count": 37
        }
      ]
    },
    {
      "cell_type": "code",
      "metadata": {
        "id": "NL2HspCrxN1A",
        "colab": {
          "base_uri": "https://localhost:8080/"
        },
        "outputId": "a39e1c91-ff6a-416a-f23a-cced264f311e"
      },
      "source": [
        "# Give the name of the 10 biggest complainers\n",
        "data[data['airline_sentiment'] == 'negative'].groupby('name')['tweet_id'].count().sort_values(ascending = False).head(10)"
      ],
      "execution_count": null,
      "outputs": [
        {
          "output_type": "execute_result",
          "data": {
            "text/plain": [
              "name\n",
              "otisday            28\n",
              "_mhertz            27\n",
              "throthra           24\n",
              "rossj987           23\n",
              "weezerandburnie    23\n",
              "ElmiraBudMan       18\n",
              "scoobydoo9749      18\n",
              "ThatJasonEaton     18\n",
              "GREATNESSEOA       18\n",
              "chagaga2013        18\n",
              "Name: tweet_id, dtype: int64"
            ]
          },
          "metadata": {
            "tags": []
          },
          "execution_count": 15
        }
      ]
    },
    {
      "cell_type": "code",
      "metadata": {
        "id": "6mU9fkyFxN1A",
        "colab": {
          "base_uri": "https://localhost:8080/"
        },
        "outputId": "62eb8a27-ca93-46cf-daa4-94c265850e82"
      },
      "source": [
        "# Transform the date of tweet_created to_datetime\n",
        "data['tweet_created'] = pd.to_datetime(data['tweet_created'])\n",
        "data.dtypes"
      ],
      "execution_count": null,
      "outputs": [
        {
          "output_type": "execute_result",
          "data": {
            "text/plain": [
              "tweet_id                                                         int64\n",
              "airline_sentiment                                               object\n",
              "airline_sentiment_confidence                                   float64\n",
              "negativereason                                                  object\n",
              "negativereason_confidence                                      float64\n",
              "airline                                                         object\n",
              "name                                                            object\n",
              "retweet_count                                                    int64\n",
              "text                                                            object\n",
              "tweet_created                   datetime64[ns, pytz.FixedOffset(-480)]\n",
              "dtype: object"
            ]
          },
          "metadata": {
            "tags": []
          },
          "execution_count": 16
        }
      ]
    },
    {
      "cell_type": "code",
      "metadata": {
        "id": "dumiuYl7xN1A",
        "colab": {
          "base_uri": "https://localhost:8080/",
          "height": 35
        },
        "outputId": "6ef904e9-8f3b-4676-c13b-165b7b16cc4e"
      },
      "source": [
        "# What is the minimum date?\n",
        "data['tweet_created'].min()"
      ],
      "execution_count": null,
      "outputs": [
        {
          "output_type": "execute_result",
          "data": {
            "application/vnd.google.colaboratory.intrinsic+json": {
              "type": "string"
            },
            "text/plain": [
              "'2015-02-16 23:36:05 -0800'"
            ]
          },
          "metadata": {
            "tags": []
          },
          "execution_count": 38
        }
      ]
    },
    {
      "cell_type": "code",
      "metadata": {
        "id": "tjbfP4X3xN1B",
        "colab": {
          "base_uri": "https://localhost:8080/",
          "height": 35
        },
        "outputId": "af976f35-5a8f-448b-8690-b66fa5c84cba"
      },
      "source": [
        "# What is the maximum date?\n",
        "data['tweet_created'].max()"
      ],
      "execution_count": null,
      "outputs": [
        {
          "output_type": "execute_result",
          "data": {
            "application/vnd.google.colaboratory.intrinsic+json": {
              "type": "string"
            },
            "text/plain": [
              "'2015-02-24 11:53:37 -0800'"
            ]
          },
          "metadata": {
            "tags": []
          },
          "execution_count": 39
        }
      ]
    },
    {
      "cell_type": "code",
      "metadata": {
        "id": "4AGd_fNBxN1B",
        "colab": {
          "base_uri": "https://localhost:8080/"
        },
        "outputId": "f274b58f-1b48-4699-9c14-e42671418114"
      },
      "source": [
        "# Remove the (english) stopwords from the text + Remove the words that start with @ from the text\n",
        "\n",
        "import nltk\n",
        "\n",
        "nltk.download('stopwords')\n",
        "from nltk.corpus import stopwords \n",
        "from nltk.tokenize import word_tokenize \n",
        "import string\n",
        "nltk.download('punkt')\n",
        "    \n",
        "def remove_stopwords_en(text):\n",
        "    stop_words_en = set(stopwords.words('english')) \n",
        "    # turn the string into a list of words based on separators (blank, comma, etc.)\n",
        "    word_tokens = word_tokenize(text.lower())\n",
        "    # create a list of all words that are neither stopwords nor punctuations\n",
        "    result = [x for x in word_tokens if x not in stop_words_en and not x.startswith('@')]\n",
        "    \n",
        "    # create a new string of all remaining words\n",
        "    seperator = ' '\n",
        "    return seperator.join(result)\n",
        "\n",
        "data['text'] = data['text'].map(remove_stopwords_en)\n"
      ],
      "execution_count": null,
      "outputs": [
        {
          "output_type": "stream",
          "text": [
            "[nltk_data] Downloading package stopwords to /root/nltk_data...\n",
            "[nltk_data]   Package stopwords is already up-to-date!\n",
            "[nltk_data] Downloading package punkt to /root/nltk_data...\n",
            "[nltk_data]   Package punkt is already up-to-date!\n"
          ],
          "name": "stdout"
        }
      ]
    },
    {
      "cell_type": "code",
      "metadata": {
        "colab": {
          "base_uri": "https://localhost:8080/"
        },
        "id": "kKvv2_yCe9hj",
        "outputId": "378059f8-4c11-4726-a979-3064933cd3db"
      },
      "source": [
        "data['text'].head()"
      ],
      "execution_count": null,
      "outputs": [
        {
          "output_type": "execute_result",
          "data": {
            "text/plain": [
              "0                        virginamerica dhepburn said .\n",
              "1    virginamerica plus 've added commercials exper...\n",
              "2    virginamerica n't today ... must mean need tak...\n",
              "3    virginamerica 's really aggressive blast obnox...\n",
              "4                virginamerica 's really big bad thing\n",
              "Name: text, dtype: object"
            ]
          },
          "metadata": {
            "tags": []
          },
          "execution_count": 41
        }
      ]
    },
    {
      "cell_type": "code",
      "metadata": {
        "id": "9-eY4032xN1B",
        "colab": {
          "base_uri": "https://localhost:8080/",
          "height": 202
        },
        "outputId": "a3a6a99b-8220-4732-e1ea-dfafb830bfb6"
      },
      "source": [
        "# We are going to try to predict the airline_sentiment\n",
        "# Create a new dataframe dataRF that contains the necessary columns to do this\n",
        "# We are only going to use those tweets with airline_sentiment_confidence >= 0.5\n",
        "dataRF = data[data['airline_sentiment_confidence'] >= 0.5][['airline_sentiment', 'text']]\n",
        "dataRF.head()"
      ],
      "execution_count": null,
      "outputs": [
        {
          "output_type": "execute_result",
          "data": {
            "text/html": [
              "<div>\n",
              "<style scoped>\n",
              "    .dataframe tbody tr th:only-of-type {\n",
              "        vertical-align: middle;\n",
              "    }\n",
              "\n",
              "    .dataframe tbody tr th {\n",
              "        vertical-align: top;\n",
              "    }\n",
              "\n",
              "    .dataframe thead th {\n",
              "        text-align: right;\n",
              "    }\n",
              "</style>\n",
              "<table border=\"1\" class=\"dataframe\">\n",
              "  <thead>\n",
              "    <tr style=\"text-align: right;\">\n",
              "      <th></th>\n",
              "      <th>airline_sentiment</th>\n",
              "      <th>text</th>\n",
              "    </tr>\n",
              "  </thead>\n",
              "  <tbody>\n",
              "    <tr>\n",
              "      <th>0</th>\n",
              "      <td>neutral</td>\n",
              "      <td>virginamerica dhepburn said .</td>\n",
              "    </tr>\n",
              "    <tr>\n",
              "      <th>2</th>\n",
              "      <td>neutral</td>\n",
              "      <td>virginamerica n't today ... must mean need tak...</td>\n",
              "    </tr>\n",
              "    <tr>\n",
              "      <th>3</th>\n",
              "      <td>negative</td>\n",
              "      <td>virginamerica 's really aggressive blast obnox...</td>\n",
              "    </tr>\n",
              "    <tr>\n",
              "      <th>4</th>\n",
              "      <td>negative</td>\n",
              "      <td>virginamerica 's really big bad thing</td>\n",
              "    </tr>\n",
              "    <tr>\n",
              "      <th>5</th>\n",
              "      <td>negative</td>\n",
              "      <td>virginamerica seriously would pay $ 30 flight ...</td>\n",
              "    </tr>\n",
              "  </tbody>\n",
              "</table>\n",
              "</div>"
            ],
            "text/plain": [
              "  airline_sentiment                                               text\n",
              "0           neutral                      virginamerica dhepburn said .\n",
              "2           neutral  virginamerica n't today ... must mean need tak...\n",
              "3          negative  virginamerica 's really aggressive blast obnox...\n",
              "4          negative              virginamerica 's really big bad thing\n",
              "5          negative  virginamerica seriously would pay $ 30 flight ..."
            ]
          },
          "metadata": {
            "tags": []
          },
          "execution_count": 42
        }
      ]
    },
    {
      "cell_type": "code",
      "metadata": {
        "id": "4LCcF8f6xN1B",
        "colab": {
          "base_uri": "https://localhost:8080/"
        },
        "outputId": "2c5e5481-fd4c-4503-b2d8-06118e446642"
      },
      "source": [
        "# How many records are left?\n",
        "dataRF.shape"
      ],
      "execution_count": null,
      "outputs": [
        {
          "output_type": "execute_result",
          "data": {
            "text/plain": [
              "(14404, 2)"
            ]
          },
          "metadata": {
            "tags": []
          },
          "execution_count": 43
        }
      ]
    },
    {
      "cell_type": "code",
      "metadata": {
        "colab": {
          "base_uri": "https://localhost:8080/"
        },
        "id": "DZmGdEziqKSE",
        "outputId": "d198c274-e777-483d-cc45-ed80069ee027"
      },
      "source": [
        "# What are the unique values for airline_sentiment?\r\n",
        "data[\"airline_sentiment\"].unique()"
      ],
      "execution_count": null,
      "outputs": [
        {
          "output_type": "execute_result",
          "data": {
            "text/plain": [
              "array(['neutral', 'positive', 'negative'], dtype=object)"
            ]
          },
          "metadata": {
            "tags": []
          },
          "execution_count": 44
        }
      ]
    },
    {
      "cell_type": "code",
      "metadata": {
        "id": "fT2gX_BYx0BL",
        "colab": {
          "base_uri": "https://localhost:8080/",
          "height": 202
        },
        "outputId": "6f5523bb-12b0-4053-bba2-cd6e5e698a46"
      },
      "source": [
        "# Replace the airline_sentiment negative by 0, neutral by 1 and positive by 2\r\n",
        "def transform(s):\r\n",
        "  sentiments = {'negative': 0, 'neutral': 1, 'positive': 2}\r\n",
        "  return sentiments[s]\r\n",
        "\r\n",
        "dataRF['airline_sentiment'] = dataRF['airline_sentiment'].map(transform)\r\n",
        "dataRF.head()"
      ],
      "execution_count": null,
      "outputs": [
        {
          "output_type": "execute_result",
          "data": {
            "text/html": [
              "<div>\n",
              "<style scoped>\n",
              "    .dataframe tbody tr th:only-of-type {\n",
              "        vertical-align: middle;\n",
              "    }\n",
              "\n",
              "    .dataframe tbody tr th {\n",
              "        vertical-align: top;\n",
              "    }\n",
              "\n",
              "    .dataframe thead th {\n",
              "        text-align: right;\n",
              "    }\n",
              "</style>\n",
              "<table border=\"1\" class=\"dataframe\">\n",
              "  <thead>\n",
              "    <tr style=\"text-align: right;\">\n",
              "      <th></th>\n",
              "      <th>airline_sentiment</th>\n",
              "      <th>text</th>\n",
              "    </tr>\n",
              "  </thead>\n",
              "  <tbody>\n",
              "    <tr>\n",
              "      <th>0</th>\n",
              "      <td>1</td>\n",
              "      <td>virginamerica dhepburn said .</td>\n",
              "    </tr>\n",
              "    <tr>\n",
              "      <th>2</th>\n",
              "      <td>1</td>\n",
              "      <td>virginamerica n't today ... must mean need tak...</td>\n",
              "    </tr>\n",
              "    <tr>\n",
              "      <th>3</th>\n",
              "      <td>0</td>\n",
              "      <td>virginamerica 's really aggressive blast obnox...</td>\n",
              "    </tr>\n",
              "    <tr>\n",
              "      <th>4</th>\n",
              "      <td>0</td>\n",
              "      <td>virginamerica 's really big bad thing</td>\n",
              "    </tr>\n",
              "    <tr>\n",
              "      <th>5</th>\n",
              "      <td>0</td>\n",
              "      <td>virginamerica seriously would pay $ 30 flight ...</td>\n",
              "    </tr>\n",
              "  </tbody>\n",
              "</table>\n",
              "</div>"
            ],
            "text/plain": [
              "   airline_sentiment                                               text\n",
              "0                  1                      virginamerica dhepburn said .\n",
              "2                  1  virginamerica n't today ... must mean need tak...\n",
              "3                  0  virginamerica 's really aggressive blast obnox...\n",
              "4                  0              virginamerica 's really big bad thing\n",
              "5                  0  virginamerica seriously would pay $ 30 flight ..."
            ]
          },
          "metadata": {
            "tags": []
          },
          "execution_count": 45
        }
      ]
    },
    {
      "cell_type": "code",
      "metadata": {
        "id": "d_GI0jnVx6aS"
      },
      "source": [
        "# Create X and y"
      ],
      "execution_count": null,
      "outputs": []
    },
    {
      "cell_type": "code",
      "metadata": {
        "collapsed": true,
        "id": "QTLcAGpXxN1D",
        "colab": {
          "base_uri": "https://localhost:8080/"
        },
        "outputId": "b0fbce79-4211-43d7-89b2-0c1c8a2b59d6"
      },
      "source": [
        "try:\n",
        "  # %tensorflow_version only exists in Colab.\n",
        "  %tensorflow_version 2.x\n",
        "except Exception:\n",
        "  pass\n",
        "\n",
        "# TensorFlow and tf.keras\n",
        "import tensorflow as tf\n",
        "from tensorflow import keras\n",
        "\n",
        "print(tf.__version__)\n",
        "\n",
        "# Helper libraries\n",
        "import numpy as np\n",
        "import matplotlib.pyplot as plt\n",
        "import sklearn as sk\n",
        "import pandas as pd\n",
        "\n",
        "# fix random seed for reproducibility\n",
        "seed = 2020\n",
        "np.random.seed(seed)  \n",
        "\n",
        "import sklearn as sk\n",
        "from sklearn.model_selection import train_test_split\n",
        "\n",
        "from tensorflow.keras.datasets import mnist\n",
        "from tensorflow.keras.models import Sequential\n",
        "from tensorflow.keras.layers import Dense, Dropout, Flatten, Embedding, Conv1D,  MaxPooling1D, GlobalMaxPooling1D\n",
        "from tensorflow.keras.optimizers import Adam\n",
        "from tensorflow.keras.constraints import max_norm\n",
        "from tensorflow.keras.models import load_model\n",
        "\n",
        "\n",
        "import nltk\n"
      ],
      "execution_count": null,
      "outputs": [
        {
          "output_type": "stream",
          "text": [
            "2.3.0\n"
          ],
          "name": "stdout"
        }
      ]
    },
    {
      "cell_type": "code",
      "metadata": {
        "collapsed": true,
        "id": "rUcy3HSmxN1G"
      },
      "source": [
        "# helper functions for visualisation\r\n",
        "# plotting the loss functions used in this notebook\r\n",
        "# we plot the loss we want to optimise on the left (in this case: accuracy)\r\n",
        "def plot_history(history):\r\n",
        "  plt.figure(figsize = (12,4))\r\n",
        "  plt.subplot(1,2,1)\r\n",
        "\r\n",
        "  plt.xlabel('Epoch')\r\n",
        "  plt.ylabel('Accuracy')\r\n",
        "  plt.plot(history.epoch, np.array(history.history['accuracy']),'g-',\r\n",
        "           label='Train accuracy')\r\n",
        "  plt.plot(history.epoch, np.array(history.history['val_accuracy']),'r-',\r\n",
        "           label = 'Validation accuracy')\r\n",
        "  plt.legend()\r\n",
        "\r\n",
        "  plt.subplot(1,2,2)\r\n",
        "  plt.xlabel('Epoch')\r\n",
        "  plt.ylabel('Loss minimised by model')\r\n",
        "  plt.plot(history.epoch, np.array(history.history['loss']),'g-',\r\n",
        "           label='Train loss')\r\n",
        "  plt.plot(history.epoch, np.array(history.history['val_loss']),'r-',\r\n",
        "           label = 'Validation loss')\r\n",
        "  plt.legend()"
      ],
      "execution_count": null,
      "outputs": []
    },
    {
      "cell_type": "code",
      "metadata": {
        "colab": {
          "base_uri": "https://localhost:8080/",
          "height": 202
        },
        "id": "k26dNc4dg1Qp",
        "outputId": "6de0b280-3e33-499b-ba69-0ce316910d00"
      },
      "source": [
        "# Average length of the messages\r\n",
        "dataRF['numberOfWords'] = dataRF.text.str.split().apply(len)\r\n",
        "dataRF.head()"
      ],
      "execution_count": null,
      "outputs": [
        {
          "output_type": "execute_result",
          "data": {
            "text/html": [
              "<div>\n",
              "<style scoped>\n",
              "    .dataframe tbody tr th:only-of-type {\n",
              "        vertical-align: middle;\n",
              "    }\n",
              "\n",
              "    .dataframe tbody tr th {\n",
              "        vertical-align: top;\n",
              "    }\n",
              "\n",
              "    .dataframe thead th {\n",
              "        text-align: right;\n",
              "    }\n",
              "</style>\n",
              "<table border=\"1\" class=\"dataframe\">\n",
              "  <thead>\n",
              "    <tr style=\"text-align: right;\">\n",
              "      <th></th>\n",
              "      <th>airline_sentiment</th>\n",
              "      <th>text</th>\n",
              "      <th>numberOfWords</th>\n",
              "    </tr>\n",
              "  </thead>\n",
              "  <tbody>\n",
              "    <tr>\n",
              "      <th>0</th>\n",
              "      <td>1</td>\n",
              "      <td>virginamerica dhepburn said .</td>\n",
              "      <td>4</td>\n",
              "    </tr>\n",
              "    <tr>\n",
              "      <th>2</th>\n",
              "      <td>1</td>\n",
              "      <td>virginamerica n't today ... must mean need tak...</td>\n",
              "      <td>11</td>\n",
              "    </tr>\n",
              "    <tr>\n",
              "      <th>3</th>\n",
              "      <td>0</td>\n",
              "      <td>virginamerica 's really aggressive blast obnox...</td>\n",
              "      <td>17</td>\n",
              "    </tr>\n",
              "    <tr>\n",
              "      <th>4</th>\n",
              "      <td>0</td>\n",
              "      <td>virginamerica 's really big bad thing</td>\n",
              "      <td>6</td>\n",
              "    </tr>\n",
              "    <tr>\n",
              "      <th>5</th>\n",
              "      <td>0</td>\n",
              "      <td>virginamerica seriously would pay $ 30 flight ...</td>\n",
              "      <td>17</td>\n",
              "    </tr>\n",
              "  </tbody>\n",
              "</table>\n",
              "</div>"
            ],
            "text/plain": [
              "   airline_sentiment  ... numberOfWords\n",
              "0                  1  ...             4\n",
              "2                  1  ...            11\n",
              "3                  0  ...            17\n",
              "4                  0  ...             6\n",
              "5                  0  ...            17\n",
              "\n",
              "[5 rows x 3 columns]"
            ]
          },
          "metadata": {
            "tags": []
          },
          "execution_count": 48
        }
      ]
    },
    {
      "cell_type": "code",
      "metadata": {
        "colab": {
          "base_uri": "https://localhost:8080/"
        },
        "id": "hzLSKv2jg1VA",
        "outputId": "ea461712-4e88-4118-9fca-02835c058d8f"
      },
      "source": [
        "dataRF['numberOfWords'].describe()"
      ],
      "execution_count": null,
      "outputs": [
        {
          "output_type": "execute_result",
          "data": {
            "text/plain": [
              "count    14404.000000\n",
              "mean        13.514996\n",
              "std          5.241907\n",
              "min          1.000000\n",
              "25%         10.000000\n",
              "50%         14.000000\n",
              "75%         17.000000\n",
              "max         39.000000\n",
              "Name: numberOfWords, dtype: float64"
            ]
          },
          "metadata": {
            "tags": []
          },
          "execution_count": 49
        }
      ]
    },
    {
      "cell_type": "code",
      "metadata": {
        "colab": {
          "base_uri": "https://localhost:8080/"
        },
        "id": "qeADpDYKg1YJ",
        "outputId": "539e0d3d-2679-4bb0-d72d-01c9154c3ccd"
      },
      "source": [
        "# Extract a training & validation split\r\n",
        "from sklearn.model_selection import train_test_split\r\n",
        "X = dataRF.drop(['airline_sentiment','numberOfWords'],axis=1)\r\n",
        "y = dataRF['airline_sentiment']\r\n",
        "X_train, X_test, y_train, y_test = train_test_split(X,y,test_size=0.30)\r\n",
        "\r\n",
        "print('X_train shape:', X_train.shape)\r\n",
        "print('X_test shape:', X_test.shape)\r\n",
        "print(X_train.shape[0], 'train samples')\r\n",
        "print(X_test.shape[0], 'test samples')\r\n",
        "print(type(X_train))"
      ],
      "execution_count": null,
      "outputs": [
        {
          "output_type": "stream",
          "text": [
            "X_train shape: (10082, 1)\n",
            "X_test shape: (4322, 1)\n",
            "10082 train samples\n",
            "4322 test samples\n",
            "<class 'pandas.core.frame.DataFrame'>\n"
          ],
          "name": "stdout"
        }
      ]
    },
    {
      "cell_type": "code",
      "metadata": {
        "colab": {
          "base_uri": "https://localhost:8080/"
        },
        "id": "tO5QbTiGg1bP",
        "outputId": "9dcc63ca-b7f7-4f0a-f46c-6898265c66aa"
      },
      "source": [
        "X_train = np.asarray(X_train)\r\n",
        "X_test = np.asarray(X_test)\r\n",
        "\r\n",
        "print('X_train shape:', X_train.shape)\r\n",
        "print(type(X_train))"
      ],
      "execution_count": null,
      "outputs": [
        {
          "output_type": "stream",
          "text": [
            "X_train shape: (10082, 1)\n",
            "<class 'numpy.ndarray'>\n"
          ],
          "name": "stdout"
        }
      ]
    },
    {
      "cell_type": "code",
      "metadata": {
        "colab": {
          "base_uri": "https://localhost:8080/"
        },
        "id": "W8thGZB-g1d4",
        "outputId": "630a341f-11c8-41c5-fcce-d0fc4f1a1fed"
      },
      "source": [
        "# the labels from the downloaded data are integer numbers\r\n",
        "# for a multi-class classification task, we again convert each integer\r\n",
        "# to a vector with 19 zeros and a single '1', corresponding to the right class\r\n",
        "num_classes = 3\r\n",
        "y_train = keras.utils.to_categorical(y_train, num_classes)\r\n",
        "y_test = keras.utils.to_categorical(y_test, num_classes)\r\n",
        "\r\n",
        "\r\n",
        "# look at the new labels for the first sample\r\n",
        "print(y_train[0])\r\n",
        "print('y_train shape:', y_train.shape)\r\n",
        "print('y_test shape:', y_test.shape)"
      ],
      "execution_count": null,
      "outputs": [
        {
          "output_type": "stream",
          "text": [
            "[1. 0. 0.]\n",
            "y_train shape: (10082, 3)\n",
            "y_test shape: (4322, 3)\n"
          ],
          "name": "stdout"
        }
      ]
    },
    {
      "cell_type": "code",
      "metadata": {
        "id": "ohctWAj0g1gh"
      },
      "source": [
        "from tensorflow.keras.layers.experimental.preprocessing import TextVectorization\r\n",
        "\r\n",
        "vectorizer = TextVectorization(max_tokens=20000, output_sequence_length=20)\r\n",
        "text_ds = tf.data.Dataset.from_tensor_slices(X_train).batch(128)\r\n",
        "vectorizer.adapt(text_ds)"
      ],
      "execution_count": null,
      "outputs": []
    },
    {
      "cell_type": "code",
      "metadata": {
        "id": "2j4UUsPpg1ir"
      },
      "source": [
        "voc = vectorizer.get_vocabulary()\r\n",
        "word_index = dict(zip(voc, range(len(voc))))"
      ],
      "execution_count": null,
      "outputs": []
    },
    {
      "cell_type": "code",
      "metadata": {
        "id": "UXJXoRI_XKbX"
      },
      "source": [
        "test = [\"i\",\"saw\",\"the\", \"cat\", \"sat\", \"on\", \"the\", \"mat\"]\n",
        "# [word_index[w] for w in test]\n",
        "for w in test:\n",
        "    try: \n",
        "        print(w + ': ' + str(word_index[w]))\n",
        "    except KeyError:\n",
        "        print (w+ \" not available in word_index\")\n"
      ],
      "execution_count": null,
      "outputs": []
    },
    {
      "cell_type": "code",
      "metadata": {
        "colab": {
          "base_uri": "https://localhost:8080/"
        },
        "id": "4vKjbNB-g1lT",
        "outputId": "411a35e1-3645-46dd-9751-e2228c3e47d0"
      },
      "source": [
        "path_to_glove_file = '/content/gdrive/My Drive/glove.6B.100d.txt'\r\n",
        "\r\n",
        "embeddings_index = {}\r\n",
        "with open(path_to_glove_file) as f:\r\n",
        "    for line in f:\r\n",
        "      values = line.split()\r\n",
        "      word = values[0]\r\n",
        "      coefs = np.asarray(values[1:], dtype='float32')\r\n",
        "      embeddings_index[word] = coefs\r\n",
        "\r\n",
        "print(\"Found %s word vectors.\" % len(embeddings_index))"
      ],
      "execution_count": null,
      "outputs": [
        {
          "output_type": "stream",
          "text": [
            "Found 400000 word vectors.\n"
          ],
          "name": "stdout"
        }
      ]
    },
    {
      "cell_type": "code",
      "metadata": {
        "colab": {
          "base_uri": "https://localhost:8080/"
        },
        "id": "flZT4bi0g1m3",
        "outputId": "a8024cc8-c9b6-45f4-fc58-aa6aadde0a2b"
      },
      "source": [
        "num_tokens = len(voc) + 2\r\n",
        "# each word is represented by a vector of 100 floats (glove.6B.100d.txt)\r\n",
        "embedding_dim = 100\r\n",
        "hits = 0\r\n",
        "misses = 0\r\n",
        "missed_words = []\r\n",
        "\r\n",
        "# Prepare embedding matrix\r\n",
        "embedding_matrix = np.zeros((num_tokens, embedding_dim))\r\n",
        "# word_index is a dictionary that maps each word to an index\r\n",
        "# we loop through all the words of word_index.items()\r\n",
        "for word, i in word_index.items():\r\n",
        "# we try to retrieve the vector of 100 floats for this word out of embeddings_index  \r\n",
        "    embedding_vector = embeddings_index.get(word)\r\n",
        "# if we found the corresponding vector of 100 floats    \r\n",
        "    if embedding_vector is not None:\r\n",
        "      # we put the vector on position i of embedding_matrix\r\n",
        "        embedding_matrix[i] = embedding_vector\r\n",
        "        hits += 1    \r\n",
        "    else:\r\n",
        "      # Words not found in embedding index will be all-zeros.    \r\n",
        "        misses += 1\r\n",
        "        missed_words.append(word)\r\n",
        "        \r\n",
        "print(\"Converted %d words (%d misses)\" % (hits, misses))\r\n"
      ],
      "execution_count": null,
      "outputs": [
        {
          "output_type": "stream",
          "text": [
            "Converted 8473 words (4643 misses)\n"
          ],
          "name": "stdout"
        }
      ]
    },
    {
      "cell_type": "code",
      "metadata": {
        "id": "1zpEReVFg1rg"
      },
      "source": [
        "num_classes = 3\r\n",
        "\r\n",
        "def initial_model():\r\n",
        "    # we create a variable called model, and we set it equal to an instance of a Sequential object.\r\n",
        "    model = Sequential()\r\n",
        "\r\n",
        "    model.add(Embedding(num_tokens, embedding_dim, embeddings_initializer=keras.initializers.Constant(embedding_matrix),trainable=False))\r\n",
        "    model.add(Conv1D(16,activation='relu',kernel_size=3))\r\n",
        "    model.add(MaxPooling1D(3))\r\n",
        "    model.add(Dropout(0.2)) \r\n",
        "\r\n",
        "    model.add(Conv1D(16,activation='relu',kernel_size=3))  \r\n",
        "    model.add(Dropout(0.2)) \r\n",
        "\r\n",
        "    model.add(Conv1D(16,activation='relu',kernel_size=3))\r\n",
        "    model.add(GlobalMaxPooling1D())\r\n",
        "    model.add(Dense(16, activation='relu', kernel_initializer='he_uniform'))    \r\n",
        "    model.add(Dropout(0.2))      \r\n",
        "    model.add(Dense(num_classes, activation='softmax'))\r\n",
        "\r\n",
        "\r\n",
        "    # Before we can train our model, we must compile it\r\n",
        "    # To the compile() function, we are passing the optimizer, the loss function, and the metrics that we would like to see. \r\n",
        "    # Notice that the optimizer we have specified is called Adam. Adam is just a variant of SGD. \r\n",
        "    model.compile(loss='categorical_crossentropy',\r\n",
        "                  optimizer= tf.keras.optimizers.Adam(learning_rate = 0.0001),\r\n",
        "                  metrics=['accuracy']) \r\n",
        "    return model"
      ],
      "execution_count": null,
      "outputs": []
    },
    {
      "cell_type": "code",
      "metadata": {
        "colab": {
          "base_uri": "https://localhost:8080/"
        },
        "id": "rbRhPxCtg1uU",
        "outputId": "f09fff9c-19e0-4be5-dc68-cac839f6ffe0"
      },
      "source": [
        "X_train_final = vectorizer(np.array([s for s in X_train])).numpy()\r\n",
        "X_test_final = vectorizer(np.array([s for s in X_test])).numpy()\r\n",
        "\r\n",
        "y_train_final = np.array(y_train)\r\n",
        "y_test_final = np.array(y_test)\r\n",
        "\r\n",
        "print(X_train.shape)\r\n",
        "print(X_test.shape)\r\n",
        "print(X_train_final.shape)\r\n",
        "print(X_test_final.shape)\r\n",
        "print(y_train_final.shape)\r\n",
        "print(y_test_final.shape)"
      ],
      "execution_count": null,
      "outputs": [
        {
          "output_type": "stream",
          "text": [
            "(10082, 1)\n",
            "(4322, 1)\n",
            "(10082, 20)\n",
            "(4322, 20)\n",
            "(10082, 3)\n",
            "(4322, 3)\n"
          ],
          "name": "stdout"
        }
      ]
    },
    {
      "cell_type": "code",
      "metadata": {
        "colab": {
          "base_uri": "https://localhost:8080/"
        },
        "id": "q8K9ecpSg1xK",
        "outputId": "1ee7ce1f-ba91-4b14-856c-954c38b77386"
      },
      "source": [
        "model_1 = initial_model()\r\n",
        "model_1.summary()\r\n",
        "\r\n",
        "\r\n",
        "# We now add batch size to the mix of training parameters\r\n",
        "# If you don't specify batch size below, all training data will be used for each learning step\r\n",
        "batch_size = 128\r\n",
        "epochs = 80\r\n",
        "\r\n",
        "history_1 = model_1.fit(X_train_final, y_train_final,\r\n",
        "                    batch_size=batch_size,\r\n",
        "                    epochs=epochs,\r\n",
        "                    verbose=1,\r\n",
        "                    validation_data=(X_test_final, y_test_final)\r\n",
        "                    )\r\n",
        "\r\n"
      ],
      "execution_count": null,
      "outputs": [
        {
          "output_type": "stream",
          "text": [
            "Model: \"sequential_13\"\n",
            "_________________________________________________________________\n",
            "Layer (type)                 Output Shape              Param #   \n",
            "=================================================================\n",
            "embedding_13 (Embedding)     (None, None, 100)         1311800   \n",
            "_________________________________________________________________\n",
            "conv1d_36 (Conv1D)           (None, None, 16)          4816      \n",
            "_________________________________________________________________\n",
            "max_pooling1d_14 (MaxPooling (None, None, 16)          0         \n",
            "_________________________________________________________________\n",
            "dropout_33 (Dropout)         (None, None, 16)          0         \n",
            "_________________________________________________________________\n",
            "conv1d_37 (Conv1D)           (None, None, 16)          784       \n",
            "_________________________________________________________________\n",
            "dropout_34 (Dropout)         (None, None, 16)          0         \n",
            "_________________________________________________________________\n",
            "conv1d_38 (Conv1D)           (None, None, 16)          784       \n",
            "_________________________________________________________________\n",
            "global_max_pooling1d_13 (Glo (None, 16)                0         \n",
            "_________________________________________________________________\n",
            "dense_26 (Dense)             (None, 16)                272       \n",
            "_________________________________________________________________\n",
            "dropout_35 (Dropout)         (None, 16)                0         \n",
            "_________________________________________________________________\n",
            "dense_27 (Dense)             (None, 3)                 51        \n",
            "=================================================================\n",
            "Total params: 1,318,507\n",
            "Trainable params: 6,707\n",
            "Non-trainable params: 1,311,800\n",
            "_________________________________________________________________\n",
            "Epoch 1/80\n",
            "79/79 [==============================] - 1s 12ms/step - loss: 0.9162 - accuracy: 0.6155 - val_loss: 0.8732 - val_accuracy: 0.6310\n",
            "Epoch 2/80\n",
            "79/79 [==============================] - 1s 10ms/step - loss: 0.8840 - accuracy: 0.6286 - val_loss: 0.8599 - val_accuracy: 0.6310\n",
            "Epoch 3/80\n",
            "79/79 [==============================] - 1s 11ms/step - loss: 0.8738 - accuracy: 0.6314 - val_loss: 0.8525 - val_accuracy: 0.6310\n",
            "Epoch 4/80\n",
            "79/79 [==============================] - 1s 10ms/step - loss: 0.8634 - accuracy: 0.6316 - val_loss: 0.8457 - val_accuracy: 0.6310\n",
            "Epoch 5/80\n",
            "79/79 [==============================] - 1s 10ms/step - loss: 0.8561 - accuracy: 0.6325 - val_loss: 0.8381 - val_accuracy: 0.6310\n",
            "Epoch 6/80\n",
            "79/79 [==============================] - 1s 10ms/step - loss: 0.8525 - accuracy: 0.6329 - val_loss: 0.8310 - val_accuracy: 0.6328\n",
            "Epoch 7/80\n",
            "79/79 [==============================] - 1s 10ms/step - loss: 0.8404 - accuracy: 0.6343 - val_loss: 0.8213 - val_accuracy: 0.6328\n",
            "Epoch 8/80\n",
            "79/79 [==============================] - 1s 10ms/step - loss: 0.8310 - accuracy: 0.6337 - val_loss: 0.8140 - val_accuracy: 0.6328\n",
            "Epoch 9/80\n",
            "79/79 [==============================] - 1s 11ms/step - loss: 0.8261 - accuracy: 0.6348 - val_loss: 0.8061 - val_accuracy: 0.6342\n",
            "Epoch 10/80\n",
            "79/79 [==============================] - 1s 10ms/step - loss: 0.8176 - accuracy: 0.6364 - val_loss: 0.7960 - val_accuracy: 0.6349\n",
            "Epoch 11/80\n",
            "79/79 [==============================] - 1s 10ms/step - loss: 0.8113 - accuracy: 0.6388 - val_loss: 0.7889 - val_accuracy: 0.6356\n",
            "Epoch 12/80\n",
            "79/79 [==============================] - 1s 10ms/step - loss: 0.8055 - accuracy: 0.6418 - val_loss: 0.7806 - val_accuracy: 0.6395\n",
            "Epoch 13/80\n",
            "79/79 [==============================] - 1s 10ms/step - loss: 0.7915 - accuracy: 0.6465 - val_loss: 0.7708 - val_accuracy: 0.6455\n",
            "Epoch 14/80\n",
            "79/79 [==============================] - 1s 10ms/step - loss: 0.7866 - accuracy: 0.6542 - val_loss: 0.7646 - val_accuracy: 0.6543\n",
            "Epoch 15/80\n",
            "79/79 [==============================] - 1s 10ms/step - loss: 0.7798 - accuracy: 0.6562 - val_loss: 0.7572 - val_accuracy: 0.6687\n",
            "Epoch 16/80\n",
            "79/79 [==============================] - 1s 10ms/step - loss: 0.7764 - accuracy: 0.6604 - val_loss: 0.7508 - val_accuracy: 0.6814\n",
            "Epoch 17/80\n",
            "79/79 [==============================] - 1s 10ms/step - loss: 0.7646 - accuracy: 0.6673 - val_loss: 0.7434 - val_accuracy: 0.6863\n",
            "Epoch 18/80\n",
            "79/79 [==============================] - 1s 10ms/step - loss: 0.7639 - accuracy: 0.6723 - val_loss: 0.7391 - val_accuracy: 0.6904\n",
            "Epoch 19/80\n",
            "79/79 [==============================] - 1s 10ms/step - loss: 0.7615 - accuracy: 0.6761 - val_loss: 0.7320 - val_accuracy: 0.6950\n",
            "Epoch 20/80\n",
            "79/79 [==============================] - 1s 10ms/step - loss: 0.7542 - accuracy: 0.6789 - val_loss: 0.7288 - val_accuracy: 0.7025\n",
            "Epoch 21/80\n",
            "79/79 [==============================] - 1s 10ms/step - loss: 0.7472 - accuracy: 0.6773 - val_loss: 0.7231 - val_accuracy: 0.7052\n",
            "Epoch 22/80\n",
            "79/79 [==============================] - 1s 10ms/step - loss: 0.7434 - accuracy: 0.6862 - val_loss: 0.7174 - val_accuracy: 0.7064\n",
            "Epoch 23/80\n",
            "79/79 [==============================] - 1s 10ms/step - loss: 0.7428 - accuracy: 0.6847 - val_loss: 0.7150 - val_accuracy: 0.7101\n",
            "Epoch 24/80\n",
            "79/79 [==============================] - 1s 10ms/step - loss: 0.7301 - accuracy: 0.6937 - val_loss: 0.7082 - val_accuracy: 0.7115\n",
            "Epoch 25/80\n",
            "79/79 [==============================] - 1s 10ms/step - loss: 0.7268 - accuracy: 0.6982 - val_loss: 0.7063 - val_accuracy: 0.7154\n",
            "Epoch 26/80\n",
            "79/79 [==============================] - 1s 10ms/step - loss: 0.7264 - accuracy: 0.6957 - val_loss: 0.6984 - val_accuracy: 0.7149\n",
            "Epoch 27/80\n",
            "79/79 [==============================] - 1s 10ms/step - loss: 0.7188 - accuracy: 0.6999 - val_loss: 0.6946 - val_accuracy: 0.7145\n",
            "Epoch 28/80\n",
            "79/79 [==============================] - 1s 10ms/step - loss: 0.7144 - accuracy: 0.6999 - val_loss: 0.6895 - val_accuracy: 0.7168\n",
            "Epoch 29/80\n",
            "79/79 [==============================] - 1s 10ms/step - loss: 0.7083 - accuracy: 0.7067 - val_loss: 0.6856 - val_accuracy: 0.7217\n",
            "Epoch 30/80\n",
            "79/79 [==============================] - 1s 10ms/step - loss: 0.6982 - accuracy: 0.7068 - val_loss: 0.6792 - val_accuracy: 0.7242\n",
            "Epoch 31/80\n",
            "79/79 [==============================] - 1s 10ms/step - loss: 0.7013 - accuracy: 0.7071 - val_loss: 0.6776 - val_accuracy: 0.7254\n",
            "Epoch 32/80\n",
            "79/79 [==============================] - 1s 10ms/step - loss: 0.6958 - accuracy: 0.7123 - val_loss: 0.6719 - val_accuracy: 0.7281\n",
            "Epoch 33/80\n",
            "79/79 [==============================] - 1s 10ms/step - loss: 0.6859 - accuracy: 0.7156 - val_loss: 0.6668 - val_accuracy: 0.7295\n",
            "Epoch 34/80\n",
            "79/79 [==============================] - 1s 10ms/step - loss: 0.6833 - accuracy: 0.7170 - val_loss: 0.6622 - val_accuracy: 0.7314\n",
            "Epoch 35/80\n",
            "79/79 [==============================] - 1s 10ms/step - loss: 0.6788 - accuracy: 0.7196 - val_loss: 0.6595 - val_accuracy: 0.7337\n",
            "Epoch 36/80\n",
            "79/79 [==============================] - 1s 10ms/step - loss: 0.6725 - accuracy: 0.7174 - val_loss: 0.6534 - val_accuracy: 0.7344\n",
            "Epoch 37/80\n",
            "79/79 [==============================] - 1s 10ms/step - loss: 0.6700 - accuracy: 0.7239 - val_loss: 0.6482 - val_accuracy: 0.7355\n",
            "Epoch 38/80\n",
            "79/79 [==============================] - 1s 10ms/step - loss: 0.6624 - accuracy: 0.7259 - val_loss: 0.6432 - val_accuracy: 0.7355\n",
            "Epoch 39/80\n",
            "79/79 [==============================] - 1s 10ms/step - loss: 0.6607 - accuracy: 0.7282 - val_loss: 0.6407 - val_accuracy: 0.7409\n",
            "Epoch 40/80\n",
            "79/79 [==============================] - 1s 10ms/step - loss: 0.6567 - accuracy: 0.7341 - val_loss: 0.6366 - val_accuracy: 0.7418\n",
            "Epoch 41/80\n",
            "79/79 [==============================] - 1s 10ms/step - loss: 0.6457 - accuracy: 0.7344 - val_loss: 0.6336 - val_accuracy: 0.7439\n",
            "Epoch 42/80\n",
            "79/79 [==============================] - 1s 10ms/step - loss: 0.6516 - accuracy: 0.7340 - val_loss: 0.6289 - val_accuracy: 0.7455\n",
            "Epoch 43/80\n",
            "79/79 [==============================] - 1s 10ms/step - loss: 0.6475 - accuracy: 0.7330 - val_loss: 0.6255 - val_accuracy: 0.7469\n",
            "Epoch 44/80\n",
            "79/79 [==============================] - 1s 10ms/step - loss: 0.6423 - accuracy: 0.7353 - val_loss: 0.6251 - val_accuracy: 0.7529\n",
            "Epoch 45/80\n",
            "79/79 [==============================] - 1s 10ms/step - loss: 0.6343 - accuracy: 0.7386 - val_loss: 0.6202 - val_accuracy: 0.7543\n",
            "Epoch 46/80\n",
            "79/79 [==============================] - 1s 11ms/step - loss: 0.6339 - accuracy: 0.7404 - val_loss: 0.6192 - val_accuracy: 0.7575\n",
            "Epoch 47/80\n",
            "79/79 [==============================] - 1s 10ms/step - loss: 0.6284 - accuracy: 0.7427 - val_loss: 0.6155 - val_accuracy: 0.7571\n",
            "Epoch 48/80\n",
            "79/79 [==============================] - 1s 10ms/step - loss: 0.6326 - accuracy: 0.7392 - val_loss: 0.6131 - val_accuracy: 0.7603\n",
            "Epoch 49/80\n",
            "79/79 [==============================] - 1s 10ms/step - loss: 0.6263 - accuracy: 0.7468 - val_loss: 0.6110 - val_accuracy: 0.7603\n",
            "Epoch 50/80\n",
            "79/79 [==============================] - 1s 10ms/step - loss: 0.6201 - accuracy: 0.7473 - val_loss: 0.6068 - val_accuracy: 0.7615\n",
            "Epoch 51/80\n",
            "79/79 [==============================] - 1s 10ms/step - loss: 0.6200 - accuracy: 0.7448 - val_loss: 0.6053 - val_accuracy: 0.7610\n",
            "Epoch 52/80\n",
            "79/79 [==============================] - 1s 10ms/step - loss: 0.6143 - accuracy: 0.7467 - val_loss: 0.6041 - val_accuracy: 0.7624\n",
            "Epoch 53/80\n",
            "79/79 [==============================] - 1s 10ms/step - loss: 0.6125 - accuracy: 0.7516 - val_loss: 0.6021 - val_accuracy: 0.7619\n",
            "Epoch 54/80\n",
            "79/79 [==============================] - 1s 11ms/step - loss: 0.6114 - accuracy: 0.7568 - val_loss: 0.6005 - val_accuracy: 0.7608\n",
            "Epoch 55/80\n",
            "79/79 [==============================] - 1s 10ms/step - loss: 0.6079 - accuracy: 0.7511 - val_loss: 0.5996 - val_accuracy: 0.7619\n",
            "Epoch 56/80\n",
            "79/79 [==============================] - 1s 10ms/step - loss: 0.6064 - accuracy: 0.7593 - val_loss: 0.5969 - val_accuracy: 0.7615\n",
            "Epoch 57/80\n",
            "79/79 [==============================] - 1s 10ms/step - loss: 0.6089 - accuracy: 0.7527 - val_loss: 0.5972 - val_accuracy: 0.7619\n",
            "Epoch 58/80\n",
            "79/79 [==============================] - 1s 11ms/step - loss: 0.6014 - accuracy: 0.7577 - val_loss: 0.5950 - val_accuracy: 0.7615\n",
            "Epoch 59/80\n",
            "79/79 [==============================] - 1s 11ms/step - loss: 0.5978 - accuracy: 0.7569 - val_loss: 0.5917 - val_accuracy: 0.7647\n",
            "Epoch 60/80\n",
            "79/79 [==============================] - 1s 11ms/step - loss: 0.5946 - accuracy: 0.7568 - val_loss: 0.5903 - val_accuracy: 0.7658\n",
            "Epoch 61/80\n",
            "79/79 [==============================] - 1s 11ms/step - loss: 0.5926 - accuracy: 0.7590 - val_loss: 0.5882 - val_accuracy: 0.7677\n",
            "Epoch 62/80\n",
            "79/79 [==============================] - 1s 11ms/step - loss: 0.5906 - accuracy: 0.7582 - val_loss: 0.5902 - val_accuracy: 0.7640\n",
            "Epoch 63/80\n",
            "79/79 [==============================] - 1s 11ms/step - loss: 0.5916 - accuracy: 0.7622 - val_loss: 0.5875 - val_accuracy: 0.7672\n",
            "Epoch 64/80\n",
            "79/79 [==============================] - 1s 12ms/step - loss: 0.5884 - accuracy: 0.7632 - val_loss: 0.5841 - val_accuracy: 0.7684\n",
            "Epoch 65/80\n",
            "79/79 [==============================] - 1s 11ms/step - loss: 0.5835 - accuracy: 0.7647 - val_loss: 0.5840 - val_accuracy: 0.7693\n",
            "Epoch 66/80\n",
            "79/79 [==============================] - 1s 11ms/step - loss: 0.5818 - accuracy: 0.7640 - val_loss: 0.5831 - val_accuracy: 0.7658\n",
            "Epoch 67/80\n",
            "79/79 [==============================] - 1s 11ms/step - loss: 0.5799 - accuracy: 0.7655 - val_loss: 0.5812 - val_accuracy: 0.7700\n",
            "Epoch 68/80\n",
            "79/79 [==============================] - 1s 11ms/step - loss: 0.5767 - accuracy: 0.7667 - val_loss: 0.5812 - val_accuracy: 0.7700\n",
            "Epoch 69/80\n",
            "79/79 [==============================] - 1s 11ms/step - loss: 0.5736 - accuracy: 0.7707 - val_loss: 0.5811 - val_accuracy: 0.7677\n",
            "Epoch 70/80\n",
            "79/79 [==============================] - 1s 12ms/step - loss: 0.5790 - accuracy: 0.7677 - val_loss: 0.5791 - val_accuracy: 0.7677\n",
            "Epoch 71/80\n",
            "79/79 [==============================] - 1s 10ms/step - loss: 0.5696 - accuracy: 0.7666 - val_loss: 0.5772 - val_accuracy: 0.7705\n",
            "Epoch 72/80\n",
            "79/79 [==============================] - 1s 11ms/step - loss: 0.5690 - accuracy: 0.7676 - val_loss: 0.5762 - val_accuracy: 0.7707\n",
            "Epoch 73/80\n",
            "79/79 [==============================] - 1s 11ms/step - loss: 0.5700 - accuracy: 0.7685 - val_loss: 0.5758 - val_accuracy: 0.7696\n",
            "Epoch 74/80\n",
            "79/79 [==============================] - 1s 11ms/step - loss: 0.5682 - accuracy: 0.7689 - val_loss: 0.5748 - val_accuracy: 0.7721\n",
            "Epoch 75/80\n",
            "79/79 [==============================] - 1s 11ms/step - loss: 0.5659 - accuracy: 0.7721 - val_loss: 0.5744 - val_accuracy: 0.7716\n",
            "Epoch 76/80\n",
            "79/79 [==============================] - 1s 11ms/step - loss: 0.5681 - accuracy: 0.7690 - val_loss: 0.5739 - val_accuracy: 0.7714\n",
            "Epoch 77/80\n",
            "79/79 [==============================] - 1s 11ms/step - loss: 0.5584 - accuracy: 0.7770 - val_loss: 0.5732 - val_accuracy: 0.7716\n",
            "Epoch 78/80\n",
            "79/79 [==============================] - 1s 11ms/step - loss: 0.5606 - accuracy: 0.7789 - val_loss: 0.5735 - val_accuracy: 0.7735\n",
            "Epoch 79/80\n",
            "79/79 [==============================] - 1s 11ms/step - loss: 0.5518 - accuracy: 0.7782 - val_loss: 0.5725 - val_accuracy: 0.7737\n",
            "Epoch 80/80\n",
            "79/79 [==============================] - 1s 12ms/step - loss: 0.5627 - accuracy: 0.7755 - val_loss: 0.5713 - val_accuracy: 0.7765\n"
          ],
          "name": "stdout"
        }
      ]
    },
    {
      "cell_type": "code",
      "metadata": {
        "id": "F3O7C5b0g10P",
        "colab": {
          "base_uri": "https://localhost:8080/",
          "height": 383
        },
        "outputId": "490cd83d-c081-4159-8a37-c2c66782d7aa"
      },
      "source": [
        "# model_1 now contains the model at the end of the training run\r\n",
        "# We analyse the result:\r\n",
        "\r\n",
        "[train_loss, train_accuracy] = model_1.evaluate(X_train_final, y_train_final, verbose=0)\r\n",
        "print(\"Training set Accuracy:{:7.2f}\".format(train_accuracy))\r\n",
        "print(\"Training set Loss:{:7.4f}\\n\".format(train_loss))\r\n",
        "\r\n",
        "[val_loss, val_accuracy] = model_1.evaluate(X_test_final, y_test_final, verbose=0)\r\n",
        "print(\"Validation set Accuracy:{:7.2f}\".format(val_accuracy))\r\n",
        "print(\"Validation set Loss:{:7.4f}\\n\".format(val_loss))\r\n",
        "\r\n",
        "#Now we visualise what happened during training\r\n",
        "plot_history(history_1)"
      ],
      "execution_count": null,
      "outputs": [
        {
          "output_type": "stream",
          "text": [
            "Training set Accuracy:   0.81\n",
            "Training set Loss: 0.4879\n",
            "\n",
            "Validation set Accuracy:   0.78\n",
            "Validation set Loss: 0.5713\n",
            "\n"
          ],
          "name": "stdout"
        },
        {
          "output_type": "display_data",
          "data": {
            "image/png": "[encoded data removed]",
            "text/plain": [
              "<Figure size 864x288 with 2 Axes>"
            ]
          },
          "metadata": {
            "tags": [],
            "needs_background": "light"
          }
        }
      ]
    }
  ]
}