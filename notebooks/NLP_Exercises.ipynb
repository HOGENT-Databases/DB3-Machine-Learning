{
 "cells": [
  {
   "cell_type": "markdown",
   "metadata": {},
   "source": [
    "### 1. You can now solve part 2 of the \"Blog Gender\" exercise (see Pandas Exercises)"
   ]
  },
  {
   "cell_type": "markdown",
   "metadata": {},
   "source": [
    "### 2. Sentiment analysis for imdb reviews\n",
    "  \n",
    "Opinion mining (sometimes known as sentiment analysis or emotion AI) refers to the use of natural language processing, text analysis, computational linguistics, and biometrics to systematically identify, extract, quantify, and study affective states and subjective information. Source: (Sentiment analysis, 2019).  \n",
    "  \n",
    "The dataset imdb.txt was created for the Paper (Kotzias, Denil, De Freitas, & Smyth, 2015).  It contains sentences labelled with a positive or negative sentiment extracted from the famous movie and tv show rating website imdb.com.  \n",
    "  \n",
    "Format: sentence`<tab>`score  \n",
    "    \n",
    "Details: score is either 1 (for positive) or 0 (for negative). \n",
    "We attempted to select sentences that have a clearly positive or negative connotation, the goal was for no neutral sentences to be selected.\n",
    "1. Create a model to determine the sentiment of a review.\n",
    "  \n",
    "1. What’s the accuracy of your model? Check the accuracy for both with and without stopword removal and stemming. \n",
    "  \n",
    "2. Create the confusion matrix.\n",
    "  \n",
    "3. Use the model to classify new (unseen) real review sentences for the Netflix tv series “The Bodyguard (2018)”\n",
    "  1. \"Fantastic opening episode.\"  \n",
    "    \n",
    "  2. \"I watched every episode of this expecting that at some point it would grip me in the way it has so many others. But I don't get it. I don't understand the high ratings. I loved Line of Duty, every episode of every season and I would happily watch it again, all of it, but I cannot accept a character, a Bodyguard, who hasn't the wit to put his mobile phone onto vibrate or turn the sound right down when it is ringing and ringing and irritating his boss, the Home Secretary, in the car. What did he say? Something like 'Sorry ma'am I have to keep it on for work.' I have a suggestion: one mobile phone for work and one for personal use. I didn't find the acting particularly wooden but the dialogue was rather unbelievable at times, the casting could have been better, and the plot? The plot was all over the place and we had every 'villain' thrown into the mix to throw us off the track of 'who dunnit' except for Russian gangsters. Or were there Russian gangsters and I just missed it among all the confusion.\"   \n",
    "    \n",
    "  3. “Just finished watching second episode & wishing for a time machine to jump to next episode, Flipping Marvelous from start to finish on both episodes. It demonstrates the best of British drama that is abundant at the moment.. Lets keep supporting this amazing trend in fantastic British productions.”   \n",
    "    \n",
    "  4. “The first episode of this series was very promising, but gradually the plot holes and ropey acting took their toll. The finale was so bad it was like a comedy, missing only the Benny Hill music to complete it. Thoroughly disappointing (again) from the BBC.”\n"
   ]
  },
  {
   "cell_type": "code",
   "execution_count": null,
   "metadata": {},
   "outputs": [],
   "source": []
  }
 ],
 "metadata": {
  "kernelspec": {
   "display_name": "Python 3",
   "language": "python",
   "name": "python3"
  },
  "language_info": {
   "codemirror_mode": {
    "name": "ipython",
    "version": 3
   },
   "file_extension": ".py",
   "mimetype": "text/x-python",
   "name": "python",
   "nbconvert_exporter": "python",
   "pygments_lexer": "ipython3",
   "version": "3.6.8"
  }
 },
 "nbformat": 4,
 "nbformat_minor": 4
}
