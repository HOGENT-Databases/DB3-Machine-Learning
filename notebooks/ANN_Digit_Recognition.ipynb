{
 "cells": [
  {
   "cell_type": "markdown",
   "metadata": {},
   "source": [
    "## Image classification with Artificial Neural Networks\n",
    "### Introduction\n",
    "Artificial neural networks are modelled after the human brain. The schema below shows a single neuron in the human brain.  \n",
    "  \n",
    "![](images/neuron.png)  \n",
    "  \n",
    "**Dendrites** convey electrical signals from **neurons** to the cell body; resultant electrical signals are sent along the axon to other neurons. The human brain has approximately $10^{11}$ neurons. If the electrical signal between two neurons is strong enough the receiving neuron is **activated**.  \n",
    "  \n",
    "Frameworks modelling **artificial neural networks** (also called **deep learning frameworks**) generally manipulate data in the form of tensors. A **tensor** is basically a multidimensional array. Frameworks like **TensorFlow** (originated from Google) pack all your data into one or more tensors, which they use to perform the mathematical calculations that enable neural networks to learn. These tensors can become quite large as the number of dimensions increases and as the richness of the data increases (for example, images, audios and videos are richer than text). In (Deitel & Deitel, 2019) several types of tensors are listed, amongst others:  \n",
    "- **1D tensor**: This is similar to a one-dimensional array and is known as a vector. A 1D tensor might represent a _sequence_, such as hourly temperature readings from a sensor or the words of one movie review. \n",
    "- **2D tensor**: This is similar to a two-dimensional array and is known as a matrix.  A 2D tensor could represent a _grayscale image_ in which the tensor’s two dimensions are the image’s width and height in pixels, and the value in each element is the intensity of that pixel. \n",
    "- **3D tensor**: This is similar to a three-dimensional array and could be used to represent a _color image_. The first two dimensions would represent the width and height of the image in pixels and the depth at each location might represent the red, green and blue (RGB) components of a given pixel’s color. \n",
    "- **4D tensor** could be used to represent one _video_. Each frame in a video is essentially a color image. \n",
    "  \n",
    "### Feed-forward neural networks\n",
    "Artificial neural networks have a very good reputation for text, image and video classification. Several types of neural networks exist: **feed forward**, **recurrent** and **convolutional**. We will now use the most simple one: a feed forward neural network with some hidden layers and an **activation function** to find out if it offers a better accuracy than random forest in our digit classification example.  \n",
    "  \n",
    "A fully connected feed forward neural network with three inputs and one hidden layer looks like in the figure below. In this example we have one output class, which can have a value of 0 or 1.  \n",
    "  \n",
    "![](images/ffnn.png)\n",
    "  \n",
    "The tuple $(x1, x2, x3)$ represents the set of inputs. In our digit case we have 784 input values (the number of pixels in a digit image). The class to which the digit belongs is calculated by _propagating_ the input through the hidden layers towards the output classes. In our case we will have 10 output classes (0 – 9). For each digit image in the input exactly one output class will be activated (i.e. get a value of 1), the others will get a value of 0.  \n",
    "  \n",
    "The +1’s indicate a **bias input** that always has the value “1”. A bias term is used to adjust the final output matrix as the y-intercept in a line does. For instance, in the classic equation, $y\\ =\\ mx\\ +\\ c$, if $c=0$, the line will always pass through 0. Adding the bias term provides more flexibility and better generalization to the Neural Network model.  \n",
    "  \n",
    "In the above figure the values of the neurons in the hidden layer can be calculated as follows.  \n",
    "  \n",
    "![](images/equation.png)  \n",
    "  \n",
    "The bias input is indicated as $x_0$ to keep all formulas uniform.  \n",
    "  \n",
    "Finally, the output can be calculated as: \n",
    "  \n",
    "![](images/output.png)  \n",
    "  \n",
    "The bias unit of the hidden layers is indicated as $a_0^{\\left(2\\right)}$. As we see **two consecutive layers come with a matrix of weights that need to be determined**. Each matrix corresponds to a particular mapping between the two layers involved.  \n",
    "  \n",
    "The activations in each hidden layer are calculated by the first three formulas above (in case of three neurons in the hidden layer). An activation function f is applied. The output class is calculated by the fourth formula (in case of a single output class). Again, an activation function f is used.  \n",
    "  \n",
    "This process is the **forward propagation** of the input tuple $x_1,x_2,x_3$.  \n",
    "  \n",
    "Some of the **common activation functions** are shown below.  \n",
    "\n",
    "![](images/activation.png) \n",
    "\n",
    "As illustrated above the calculation of the output class (in our case the digit between 0 and 9) based on the input images is quite simple. **It all comes to calculating the weights $\\theta_{ij}$**, which is in fact the purpose of the training phase.  Conceptually we define a **cost or loss function** for our neural network and **minimize the cost function using an optimization algorithm like stochastic gradient descent**. The _gradient_ in gradient descent refers to an error gradient (error = loss). The model with a given set of weights is used to make predictions and the error for those predictions is calculated. The gradient descent algorithm seeks to stepwise change the weights so that the next evaluation reduces the error, meaning the optimization algorithm is navigating down the gradient (or slope) of error. Neural networks require that you choose a loss function when designing and configuring your model (Brownlee, 2019).  \n",
    "  \n",
    "When modeling a classification problem where we are interested in mapping input variables to a class label, we can **model the problem as predicting the probability of an example belonging to each class**. In a binary classification problem, there would be two classes, so we may predict the probability of the example belonging to the first class. In the case of multiple-class classification, we can predict a probability for the example belonging to each of the classes.  \n",
    "  \n",
    "In the training dataset, the probability of an example belonging to a given class would be 1 or 0, as each sample in the training dataset is a known example from the domain: we know the answer. Therefore, we would **seek a set of model weights that minimize the difference between the model’s predicted probability distribution given the dataset and the distribution of probabilities in the training dataset**. This is called the **cross-entropy**. In the case of regression problems, where a quantity is predicted, it is common to use the mean squared error (MSE) loss function instead.  \n",
    "  \n",
    "### Overfitting in feed-forward neural networks\n",
    "  \n",
    "A fully connected feed forward neural network requires a lot of weights $\\theta_{ij}$ to be calculated. In the case of 3 inputs and a bias unit, 1 hidden layer with 3 neurons and a bias unit and an output layer with one class (see figure above) $4 x 3 + 4 x 1 = 16$ weights have to be calculated.   \n",
    "  \n",
    "Due to the large number of $\\theta_{ij}$ a neural network may suffer from __overfitting__, as, just like in case of a high degree polynomial regression, a lot of parameters have to be determined. One way to mitigate overfitting is by applying **dropout**, which means **neurons are randomly disabled during training, preventing the learning of features that are too complicated**.  \n",
    "  \n",
    "![](images/dropout.png) \n",
    "  \n",
    "### Digit classification \n",
    "  \n",
    "Let’ s now apply the above theory to our digits classification problem (Koehler, 2019).  \n",
    "  \n",
    "**Keras** (Keras: The Python Deep Learning library, 2019), currently the most popular Python library for neural networks, will be used. Keras is built on top of Google’s **Tensorflow** and offers a high-level API.  \n",
    "  \n",
    "A Keras neural network consist of the following components:  \n",
    "   \n",
    "- A **network** (also called a model). This is a **sequence of layers** containing the neurons used to learn the samples. Each layer’s neurons receive inputs, process them (via an activation function) and produce outputs. The data is fed into the network via an input layer that specifies the dimensions of the sample data. This is followed by hidden layers of neurons that implement the learning and an output layer that produces the predictions. The more layers you stack, the deeper the network, hence the term **deep learning**.  \n",
    "- A **loss function**. The produces a measure of how well the network predicts the target values. Lower loss values indicate better predictions.  \n",
    "- An **optimizer**. This attempts to minimize the values produced by the loss function to tune the network to make better predictions.  \n",
    "  \n",
    "We start by applying the same data preparation as we used for the Random Forest Classifier.   "
   ]
  },
  {
   "cell_type": "code",
   "execution_count": 2,
   "metadata": {},
   "outputs": [
    {
     "name": "stderr",
     "output_type": "stream",
     "text": [
      "Using TensorFlow backend.\n"
     ]
    },
    {
     "ename": "AttributeError",
     "evalue": "module 'tensorflow' has no attribute 'name_scope'",
     "output_type": "error",
     "traceback": [
      "\u001b[1;31m---------------------------------------------------------------------------\u001b[0m",
      "\u001b[1;31mAttributeError\u001b[0m                            Traceback (most recent call last)",
      "\u001b[1;32m<ipython-input-2-6aef90478317>\u001b[0m in \u001b[0;36m<module>\u001b[1;34m\u001b[0m\n\u001b[0;32m      2\u001b[0m \u001b[1;33m\u001b[0m\u001b[0m\n\u001b[0;32m      3\u001b[0m \u001b[1;31m# keras import for the dataset\u001b[0m\u001b[1;33m\u001b[0m\u001b[1;33m\u001b[0m\u001b[1;33m\u001b[0m\u001b[0m\n\u001b[1;32m----> 4\u001b[1;33m \u001b[1;32mfrom\u001b[0m \u001b[0mkeras\u001b[0m\u001b[1;33m.\u001b[0m\u001b[0mdatasets\u001b[0m \u001b[1;32mimport\u001b[0m \u001b[0mmnist\u001b[0m\u001b[1;33m\u001b[0m\u001b[1;33m\u001b[0m\u001b[0m\n\u001b[0m\u001b[0;32m      5\u001b[0m \u001b[1;33m\u001b[0m\u001b[0m\n\u001b[0;32m      6\u001b[0m \u001b[1;33m(\u001b[0m\u001b[0mX_train\u001b[0m\u001b[1;33m,\u001b[0m \u001b[0my_train\u001b[0m\u001b[1;33m)\u001b[0m\u001b[1;33m,\u001b[0m \u001b[1;33m(\u001b[0m\u001b[0mX_test\u001b[0m\u001b[1;33m,\u001b[0m \u001b[0my_test\u001b[0m\u001b[1;33m)\u001b[0m \u001b[1;33m=\u001b[0m \u001b[0mmnist\u001b[0m\u001b[1;33m.\u001b[0m\u001b[0mload_data\u001b[0m\u001b[1;33m(\u001b[0m\u001b[1;33m)\u001b[0m\u001b[1;33m\u001b[0m\u001b[1;33m\u001b[0m\u001b[0m\n",
      "\u001b[1;32m~\\Anaconda3\\lib\\site-packages\\keras\\__init__.py\u001b[0m in \u001b[0;36m<module>\u001b[1;34m\u001b[0m\n\u001b[0;32m      1\u001b[0m \u001b[1;32mfrom\u001b[0m \u001b[0m__future__\u001b[0m \u001b[1;32mimport\u001b[0m \u001b[0mabsolute_import\u001b[0m\u001b[1;33m\u001b[0m\u001b[1;33m\u001b[0m\u001b[0m\n\u001b[0;32m      2\u001b[0m \u001b[1;33m\u001b[0m\u001b[0m\n\u001b[1;32m----> 3\u001b[1;33m \u001b[1;32mfrom\u001b[0m \u001b[1;33m.\u001b[0m \u001b[1;32mimport\u001b[0m \u001b[0mutils\u001b[0m\u001b[1;33m\u001b[0m\u001b[1;33m\u001b[0m\u001b[0m\n\u001b[0m\u001b[0;32m      4\u001b[0m \u001b[1;32mfrom\u001b[0m \u001b[1;33m.\u001b[0m \u001b[1;32mimport\u001b[0m \u001b[0mactivations\u001b[0m\u001b[1;33m\u001b[0m\u001b[1;33m\u001b[0m\u001b[0m\n\u001b[0;32m      5\u001b[0m \u001b[1;32mfrom\u001b[0m \u001b[1;33m.\u001b[0m \u001b[1;32mimport\u001b[0m \u001b[0mapplications\u001b[0m\u001b[1;33m\u001b[0m\u001b[1;33m\u001b[0m\u001b[0m\n",
      "\u001b[1;32m~\\Anaconda3\\lib\\site-packages\\keras\\utils\\__init__.py\u001b[0m in \u001b[0;36m<module>\u001b[1;34m\u001b[0m\n\u001b[0;32m      4\u001b[0m \u001b[1;32mfrom\u001b[0m \u001b[1;33m.\u001b[0m \u001b[1;32mimport\u001b[0m \u001b[0mdata_utils\u001b[0m\u001b[1;33m\u001b[0m\u001b[1;33m\u001b[0m\u001b[0m\n\u001b[0;32m      5\u001b[0m \u001b[1;32mfrom\u001b[0m \u001b[1;33m.\u001b[0m \u001b[1;32mimport\u001b[0m \u001b[0mio_utils\u001b[0m\u001b[1;33m\u001b[0m\u001b[1;33m\u001b[0m\u001b[0m\n\u001b[1;32m----> 6\u001b[1;33m \u001b[1;32mfrom\u001b[0m \u001b[1;33m.\u001b[0m \u001b[1;32mimport\u001b[0m \u001b[0mconv_utils\u001b[0m\u001b[1;33m\u001b[0m\u001b[1;33m\u001b[0m\u001b[0m\n\u001b[0m\u001b[0;32m      7\u001b[0m \u001b[1;32mfrom\u001b[0m \u001b[1;33m.\u001b[0m \u001b[1;32mimport\u001b[0m \u001b[0mlosses_utils\u001b[0m\u001b[1;33m\u001b[0m\u001b[1;33m\u001b[0m\u001b[0m\n\u001b[0;32m      8\u001b[0m \u001b[1;32mfrom\u001b[0m \u001b[1;33m.\u001b[0m \u001b[1;32mimport\u001b[0m \u001b[0mmetrics_utils\u001b[0m\u001b[1;33m\u001b[0m\u001b[1;33m\u001b[0m\u001b[0m\n",
      "\u001b[1;32m~\\Anaconda3\\lib\\site-packages\\keras\\utils\\conv_utils.py\u001b[0m in \u001b[0;36m<module>\u001b[1;34m\u001b[0m\n\u001b[0;32m      7\u001b[0m \u001b[1;32mfrom\u001b[0m \u001b[0msix\u001b[0m\u001b[1;33m.\u001b[0m\u001b[0mmoves\u001b[0m \u001b[1;32mimport\u001b[0m \u001b[0mrange\u001b[0m\u001b[1;33m\u001b[0m\u001b[1;33m\u001b[0m\u001b[0m\n\u001b[0;32m      8\u001b[0m \u001b[1;32mimport\u001b[0m \u001b[0mnumpy\u001b[0m \u001b[1;32mas\u001b[0m \u001b[0mnp\u001b[0m\u001b[1;33m\u001b[0m\u001b[1;33m\u001b[0m\u001b[0m\n\u001b[1;32m----> 9\u001b[1;33m \u001b[1;32mfrom\u001b[0m \u001b[1;33m.\u001b[0m\u001b[1;33m.\u001b[0m \u001b[1;32mimport\u001b[0m \u001b[0mbackend\u001b[0m \u001b[1;32mas\u001b[0m \u001b[0mK\u001b[0m\u001b[1;33m\u001b[0m\u001b[1;33m\u001b[0m\u001b[0m\n\u001b[0m\u001b[0;32m     10\u001b[0m \u001b[1;33m\u001b[0m\u001b[0m\n\u001b[0;32m     11\u001b[0m \u001b[1;33m\u001b[0m\u001b[0m\n",
      "\u001b[1;32m~\\Anaconda3\\lib\\site-packages\\keras\\backend\\__init__.py\u001b[0m in \u001b[0;36m<module>\u001b[1;34m\u001b[0m\n\u001b[1;32m----> 1\u001b[1;33m \u001b[1;32mfrom\u001b[0m \u001b[1;33m.\u001b[0m\u001b[0mload_backend\u001b[0m \u001b[1;32mimport\u001b[0m \u001b[0mepsilon\u001b[0m\u001b[1;33m\u001b[0m\u001b[1;33m\u001b[0m\u001b[0m\n\u001b[0m\u001b[0;32m      2\u001b[0m \u001b[1;32mfrom\u001b[0m \u001b[1;33m.\u001b[0m\u001b[0mload_backend\u001b[0m \u001b[1;32mimport\u001b[0m \u001b[0mset_epsilon\u001b[0m\u001b[1;33m\u001b[0m\u001b[1;33m\u001b[0m\u001b[0m\n\u001b[0;32m      3\u001b[0m \u001b[1;32mfrom\u001b[0m \u001b[1;33m.\u001b[0m\u001b[0mload_backend\u001b[0m \u001b[1;32mimport\u001b[0m \u001b[0mfloatx\u001b[0m\u001b[1;33m\u001b[0m\u001b[1;33m\u001b[0m\u001b[0m\n\u001b[0;32m      4\u001b[0m \u001b[1;32mfrom\u001b[0m \u001b[1;33m.\u001b[0m\u001b[0mload_backend\u001b[0m \u001b[1;32mimport\u001b[0m \u001b[0mset_floatx\u001b[0m\u001b[1;33m\u001b[0m\u001b[1;33m\u001b[0m\u001b[0m\n\u001b[0;32m      5\u001b[0m \u001b[1;32mfrom\u001b[0m \u001b[1;33m.\u001b[0m\u001b[0mload_backend\u001b[0m \u001b[1;32mimport\u001b[0m \u001b[0mcast_to_floatx\u001b[0m\u001b[1;33m\u001b[0m\u001b[1;33m\u001b[0m\u001b[0m\n",
      "\u001b[1;32m~\\Anaconda3\\lib\\site-packages\\keras\\backend\\load_backend.py\u001b[0m in \u001b[0;36m<module>\u001b[1;34m\u001b[0m\n\u001b[0;32m     88\u001b[0m \u001b[1;32melif\u001b[0m \u001b[0m_BACKEND\u001b[0m \u001b[1;33m==\u001b[0m \u001b[1;34m'tensorflow'\u001b[0m\u001b[1;33m:\u001b[0m\u001b[1;33m\u001b[0m\u001b[1;33m\u001b[0m\u001b[0m\n\u001b[0;32m     89\u001b[0m     \u001b[0msys\u001b[0m\u001b[1;33m.\u001b[0m\u001b[0mstderr\u001b[0m\u001b[1;33m.\u001b[0m\u001b[0mwrite\u001b[0m\u001b[1;33m(\u001b[0m\u001b[1;34m'Using TensorFlow backend.\\n'\u001b[0m\u001b[1;33m)\u001b[0m\u001b[1;33m\u001b[0m\u001b[1;33m\u001b[0m\u001b[0m\n\u001b[1;32m---> 90\u001b[1;33m     \u001b[1;32mfrom\u001b[0m \u001b[1;33m.\u001b[0m\u001b[0mtensorflow_backend\u001b[0m \u001b[1;32mimport\u001b[0m \u001b[1;33m*\u001b[0m\u001b[1;33m\u001b[0m\u001b[1;33m\u001b[0m\u001b[0m\n\u001b[0m\u001b[0;32m     91\u001b[0m \u001b[1;32melse\u001b[0m\u001b[1;33m:\u001b[0m\u001b[1;33m\u001b[0m\u001b[1;33m\u001b[0m\u001b[0m\n\u001b[0;32m     92\u001b[0m     \u001b[1;31m# Try and load external backend.\u001b[0m\u001b[1;33m\u001b[0m\u001b[1;33m\u001b[0m\u001b[1;33m\u001b[0m\u001b[0m\n",
      "\u001b[1;32m~\\Anaconda3\\lib\\site-packages\\keras\\backend\\tensorflow_backend.py\u001b[0m in \u001b[0;36m<module>\u001b[1;34m\u001b[0m\n\u001b[0;32m     54\u001b[0m \u001b[0mget_graph\u001b[0m \u001b[1;33m=\u001b[0m \u001b[0mtf_keras_backend\u001b[0m\u001b[1;33m.\u001b[0m\u001b[0mget_graph\u001b[0m\u001b[1;33m\u001b[0m\u001b[1;33m\u001b[0m\u001b[0m\n\u001b[0;32m     55\u001b[0m \u001b[1;31m# learning_phase_scope = tf_keras_backend.learning_phase_scope  # TODO\u001b[0m\u001b[1;33m\u001b[0m\u001b[1;33m\u001b[0m\u001b[1;33m\u001b[0m\u001b[0m\n\u001b[1;32m---> 56\u001b[1;33m \u001b[0mname_scope\u001b[0m \u001b[1;33m=\u001b[0m \u001b[0mtf\u001b[0m\u001b[1;33m.\u001b[0m\u001b[0mname_scope\u001b[0m\u001b[1;33m\u001b[0m\u001b[1;33m\u001b[0m\u001b[0m\n\u001b[0m\u001b[0;32m     57\u001b[0m \u001b[1;33m\u001b[0m\u001b[0m\n\u001b[0;32m     58\u001b[0m \u001b[1;33m\u001b[0m\u001b[0m\n",
      "\u001b[1;31mAttributeError\u001b[0m: module 'tensorflow' has no attribute 'name_scope'"
     ]
    }
   ],
   "source": [
    "import numpy as np\n",
    "\n",
    "# keras import for the dataset\n",
    "from keras.datasets import mnist\n",
    "\n",
    "(X_train, y_train), (X_test, y_test) = mnist.load_data()"
   ]
  },
  {
   "cell_type": "markdown",
   "metadata": {},
   "source": [
    "We again have to linearize and normalize the inputs."
   ]
  },
  {
   "cell_type": "code",
   "execution_count": 2,
   "metadata": {
    "scrolled": true
   },
   "outputs": [
    {
     "name": "stdout",
     "output_type": "stream",
     "text": [
      "X_train shape (60000, 28, 28)\n",
      "y_train shape (60000,)\n",
      "X_test shape (10000, 28, 28)\n",
      "y_test shape (10000,)\n",
      "Train matrix shape (60000, 784)\n",
      "Test matrix shape (10000, 784)\n"
     ]
    }
   ],
   "source": [
    "# let's print the shape before we reshape and normalize\n",
    "print(\"X_train shape\", X_train.shape)\n",
    "print(\"y_train shape\", y_train.shape)\n",
    "print(\"X_test shape\", X_test.shape)\n",
    "print(\"y_test shape\", y_test.shape)\n",
    "\n",
    "# building the input vector from the 28x28 pixels = linearize the image to get a 784 (= 28x28) vector\n",
    "X_train = X_train.reshape(60000, 784)\n",
    "X_test = X_test.reshape(10000, 784)\n",
    "\n",
    "# normalizing the data to help with the training\n",
    "# normalized data leads to better models\n",
    "X_train = X_train.astype('float32')\n",
    "X_test = X_test.astype('float32')\n",
    "X_train /= 255\n",
    "X_test /= 255\n",
    "\n",
    "# print the final input shape ready for training\n",
    "print(\"Train matrix shape\", X_train.shape)\n",
    "print(\"Test matrix shape\", X_test.shape)"
   ]
  },
  {
   "cell_type": "markdown",
   "metadata": {},
   "source": [
    "Since the neural networks algorithms require that each output class has either value 0 or 1 we start by converting our single output class with 10 values (0-9) into 10 output classes, one for each digit, that can be either 0 or 1. Thus a '5' will be represented by $[0,0,0,0,0,1,0,0,0,0]$. As we have seen before this technique is called one-hot-encoding. "
   ]
  },
  {
   "cell_type": "code",
   "execution_count": 3,
   "metadata": {},
   "outputs": [
    {
     "name": "stdout",
     "output_type": "stream",
     "text": [
      "(60000, 10)\n",
      "[0. 0. 0. 0. 0. 1. 0. 0. 0. 0.]\n",
      "(10000, 10)\n"
     ]
    }
   ],
   "source": [
    "# one-hot encoding using keras' numpy-related utilities\n",
    "from tensorflow.keras.utils import to_categorical\n",
    "\n",
    "y_train = to_categorical(y_train)\n",
    "print(y_train.shape)\n",
    "print(y_train[0])  # one sample’s categorical data\n",
    "y_test = to_categorical(y_test)\n",
    "print(y_test.shape)"
   ]
  },
  {
   "cell_type": "markdown",
   "metadata": {},
   "source": [
    "We can’t use ```get_dummies()``` here for one-hot-encoding because this only works on a Pandas dataframe and `y_train` is a numpy Series.   \n",
    "    \n",
    "We are now ready to build the layers of the neural network in Keras. The core data structure of Keras is a model, a way to organize layers. The simplest type of model is the Sequential model, a linear stack of layers. Stacking layers is as easy as .add(). The function `Dense()` adds a regular densely (of fully)-connected neural network layer. The first parameter (512 in our example below) is the dimensionality of the output space. Here we choose two hidden layers with each 512 neurons. The output layer has 10 classes because we have 10 digits. For the first hidden layer you also have to specify the input shape to the add() function (784 pixels in our case). By `Activation()` you specify an activation function. You can choose between `elu`, `softmax`, `selu` (Scaled Exponentional Unit), `softplus`, `softsign`, `relu`, `tanh` and `sigmoid`. We choose `sigmoid` for the hidden layers and `softmax` for the output layer. Finally we choose to randomly dropout 20 % of the neurons in the two hidden layers to avoid overfitting. "
   ]
  },
  {
   "cell_type": "code",
   "execution_count": 4,
   "metadata": {},
   "outputs": [
    {
     "name": "stdout",
     "output_type": "stream",
     "text": [
      "WARNING:tensorflow:From C:\\Users\\jcor864\\Anaconda3\\lib\\site-packages\\tensorflow\\python\\ops\\resource_variable_ops.py:435: colocate_with (from tensorflow.python.framework.ops) is deprecated and will be removed in a future version.\n",
      "Instructions for updating:\n",
      "Colocations handled automatically by placer.\n"
     ]
    }
   ],
   "source": [
    "# keras imports for building our neural network\n",
    "from keras.models import Sequential, load_model\n",
    "from keras.layers.core import Dense, Dropout, Activation\n",
    "\n",
    "# building a linear stack of layers with the sequential model\n",
    "model = Sequential()\n",
    "model.add(Dense(512, input_shape=(784,)))\n",
    "model.add(Activation('sigmoid'))                            \n",
    "model.add(Dropout(0.2))\n",
    "\n",
    "model.add(Dense(512))\n",
    "model.add(Activation('sigmoid'))\n",
    "model.add(Dropout(0.2))\n",
    "\n",
    "model.add(Dense(10))\n",
    "model.add(Activation('softmax'))"
   ]
  },
  {
   "cell_type": "markdown",
   "metadata": {},
   "source": [
    "With the compile() method we configure the model for training:"
   ]
  },
  {
   "cell_type": "code",
   "execution_count": 5,
   "metadata": {},
   "outputs": [],
   "source": [
    "# compiling the sequential model\n",
    "model.compile(loss='categorical_crossentropy', metrics=['accuracy'], optimizer='adam')"
   ]
  },
  {
   "cell_type": "markdown",
   "metadata": {},
   "source": [
    "As explained above we use the `cross-entropy` as loss function. With metrics=`['accuracy']` we specify we want to evaluate the accuracy of the model during training and testing. The `adam` optimizer we use is an alternative for stochastic gradient descent (`sgd`). It turns out `adam` gives better results with its default parameters. Probably we could tune `sgd` to produce comparable (or even better) results, but this is outside the scope of this course.  \n",
    "  \n",
    "Just like in Scikit-learn we train the model by using the `fit` function. Besides the training set we can also specify a number of **epochs**. The Keras documentation defines an Epoch as **an arbitrary cutoff, generally defined as _one pass over the entire dataset_ , used to separate training into distinct phases, which is useful for logging and periodic evaluation**.  It can be seen as a single iteration towards the minimum of the loss function. \n"
   ]
  },
  {
   "cell_type": "code",
   "execution_count": 6,
   "metadata": {},
   "outputs": [
    {
     "name": "stdout",
     "output_type": "stream",
     "text": [
      "WARNING:tensorflow:From C:\\Users\\jcor864\\Anaconda3\\lib\\site-packages\\tensorflow\\python\\ops\\math_ops.py:3066: to_int32 (from tensorflow.python.ops.math_ops) is deprecated and will be removed in a future version.\n",
      "Instructions for updating:\n",
      "Use tf.cast instead.\n",
      "Epoch 1/20\n",
      " - 28s - loss: 0.3720 - accuracy: 0.8860\n",
      "Epoch 2/20\n",
      " - 28s - loss: 0.1582 - accuracy: 0.9522\n",
      "Epoch 3/20\n",
      " - 29s - loss: 0.1054 - accuracy: 0.9664\n",
      "Epoch 4/20\n",
      " - 26s - loss: 0.0792 - accuracy: 0.9749\n",
      "Epoch 5/20\n",
      " - 24s - loss: 0.0627 - accuracy: 0.9796\n",
      "Epoch 6/20\n",
      " - 24s - loss: 0.0512 - accuracy: 0.9835\n",
      "Epoch 7/20\n",
      " - 24s - loss: 0.0432 - accuracy: 0.9858\n",
      "Epoch 8/20\n",
      " - 24s - loss: 0.0360 - accuracy: 0.9881\n",
      "Epoch 9/20\n",
      " - 24s - loss: 0.0321 - accuracy: 0.9897\n",
      "Epoch 10/20\n",
      " - 24s - loss: 0.0251 - accuracy: 0.9916\n",
      "Epoch 11/20\n",
      " - 25s - loss: 0.0226 - accuracy: 0.9924\n",
      "Epoch 12/20\n",
      " - 24s - loss: 0.0206 - accuracy: 0.9930\n",
      "Epoch 13/20\n",
      " - 24s - loss: 0.0187 - accuracy: 0.9938\n",
      "Epoch 14/20\n",
      " - 24s - loss: 0.0161 - accuracy: 0.9945\n",
      "Epoch 15/20\n",
      " - 24s - loss: 0.0157 - accuracy: 0.9947\n",
      "Epoch 16/20\n",
      " - 24s - loss: 0.0135 - accuracy: 0.9954\n",
      "Epoch 17/20\n",
      " - 25s - loss: 0.0128 - accuracy: 0.9957\n",
      "Epoch 18/20\n",
      " - 24s - loss: 0.0115 - accuracy: 0.9960\n",
      "Epoch 19/20\n",
      " - 26s - loss: 0.0120 - accuracy: 0.9962\n",
      "Epoch 20/20\n",
      " - 26s - loss: 0.0124 - accuracy: 0.9956\n"
     ]
    },
    {
     "data": {
      "text/plain": [
       "<keras.callbacks.callbacks.History at 0x1288f96df88>"
      ]
     },
     "execution_count": 6,
     "metadata": {},
     "output_type": "execute_result"
    }
   ],
   "source": [
    "# training the model and saving metrics in history\n",
    "model.fit(X_train, y_train,epochs=20,verbose=2)  "
   ]
  },
  {
   "cell_type": "markdown",
   "metadata": {},
   "source": [
    "De `verbose=2` parameter makes we can see the loss value and the accuracy (on the training set) after each epoch.  \n",
    "  \n",
    "We will now save the model as a file for further use. Saving is necessary is you want to deploy the model. Deploying means you are going to use the trained model in a real-life context (like processing of handwritten texts), of course without having to train it again. Models created by Scikit-learn can also be saved as files. For model evaluation saving and loading the model can be left out. \n"
   ]
  },
  {
   "cell_type": "code",
   "execution_count": 7,
   "metadata": {},
   "outputs": [],
   "source": [
    "# saving the model\n",
    "import os\n",
    "save_dir = \"./\"\n",
    "model_name = 'keras_mnist.h5'\n",
    "model_path = os.path.join(save_dir, model_name)\n",
    "model.save(model_path)"
   ]
  },
  {
   "cell_type": "markdown",
   "metadata": {},
   "source": [
    "Finally we use the saved model for calculating it’s predictive accuracy. "
   ]
  },
  {
   "cell_type": "code",
   "execution_count": 8,
   "metadata": {},
   "outputs": [
    {
     "name": "stdout",
     "output_type": "stream",
     "text": [
      "10000/10000 [==============================] - 1s 118us/step\n",
      "Test Loss 0.0687792842072251\n",
      "Test Accuracy 0.9837999939918518\n"
     ]
    }
   ],
   "source": [
    "mnist_model = load_model('keras_mnist.h5')\n",
    "loss, accuracy = mnist_model.evaluate(X_test, y_test)\n",
    "\n",
    "print(\"Test Loss\", loss)\n",
    "print(\"Test Accuracy\", accuracy)"
   ]
  },
  {
   "cell_type": "markdown",
   "metadata": {},
   "source": [
    "It turns out we get an accuracy of over 98 % (as compared to 97% for random forest). In (Wikipedia MNIST database, 2019, https://en.wikipedia.org/wiki/MNIST_database) you find the error rates (which is 100 % minus the accuracy) of some machine learning methods used on the MNIST database.  \n",
    "  \n",
    "Our error rate of 1.7 % corresponds to the line “Deep neural network with two layers and without distortion” (1.6 %). Some convolutional neural networks get an impressive error rate of 0.21 %. However, one has to be careful with such results as they can be the result of overfitting the model to the test set. Indeed, in this example the test set is not randomly chosen, but it is fixed (always the same set of 10.000 digits). This means at each trial with a combination of methods and hyperparameters you always use the same training and test set, which in turn makes you automatically fit your parameters to that fixed test set.   \n",
    "  \n",
    "Finally, we visualize some incorrectly predicted digits. "
   ]
  },
  {
   "cell_type": "code",
   "execution_count": 9,
   "metadata": {},
   "outputs": [
    {
     "name": "stdout",
     "output_type": "stream",
     "text": [
      "[0. 0. 0. 0. 0. 0. 0. 1. 0. 0.]\n",
      "0: 0.0000000021%\n",
      "1: 0.0000005339%\n",
      "2: 0.0000000918%\n",
      "3: 0.0000238985%\n",
      "4: 0.0000000000%\n",
      "5: 0.0000000008%\n",
      "6: 0.0000000000%\n",
      "7: 99.9999761581%\n",
      "8: 0.0000000219%\n",
      "9: 0.0000041078%\n"
     ]
    }
   ],
   "source": [
    "# load the model and create predictions on the test set\n",
    "model = load_model('keras_mnist.h5')\n",
    "\n",
    "predictions = model.predict(X_test)\n",
    "# The first digit should be a 7 (shown as 1. at index 7)\n",
    "print(y_test[0])\n",
    "\n",
    "# Check the probabilities returned by predict for first test sample\n",
    "# The function enumerate() receives and iterable and creates an iterator that, for each element, \n",
    "# returns a tuple containing the element's index and value\n",
    "for index, probability in enumerate(predictions[0]):\n",
    "    print(f'{index}: {probability:.10%}')\n",
    "    \n",
    "# Our model believes this digit is a 7 with nearly 100% certainty\n",
    "# Not all predictions have this level of certainty"
   ]
  },
  {
   "cell_type": "markdown",
   "metadata": {},
   "source": [
    "- In the following snippet, p is the predicted value array, and e is the expected value array\n",
    "- NumPy’s argmax() function determines then index of an array’s highest valued element\n",
    "- Python's built-in `zip` function enables you to iterate over _multiple_ iterables of data at the _same_ time. The function receives as arguments any number of iterables and returns an iterator that produces tuples containing the elements at the same index in each. "
   ]
  },
  {
   "cell_type": "code",
   "execution_count": 10,
   "metadata": {},
   "outputs": [],
   "source": [
    "# Locating the Incorrect Predictions\n",
    "images = X_test.reshape((10000, 28, 28))\n",
    "\n",
    "incorrect_predicted_images = []\n",
    "predicted_digits = []\n",
    "expected_digits = []\n",
    "\n",
    "for i, (p, e) in enumerate(zip(predictions, y_test)):\n",
    "    predicted, expected = np.argmax(p), np.argmax(e)\n",
    "\n",
    "    if predicted != expected:  # prediction was incorrect\n",
    "        incorrect_predicted_images.append(images[i])\n",
    "        predicted_digits.append(predicted)\n",
    "        expected_digits.append(expected)"
   ]
  },
  {
   "cell_type": "code",
   "execution_count": 11,
   "metadata": {},
   "outputs": [
    {
     "data": {
      "text/plain": [
       "<Figure size 432x288 with 0 Axes>"
      ]
     },
     "metadata": {},
     "output_type": "display_data"
    },
    {
     "data": {
      "image/png": "[encoded data removed]",
      "text/plain": [
       "<Figure size 1152x864 with 24 Axes>"
      ]
     },
     "metadata": {},
     "output_type": "display_data"
    }
   ],
   "source": [
    "import matplotlib.pyplot as plt\n",
    "\n",
    "%matplotlib inline\n",
    "plt.figure()\n",
    "nrows,ncols=4,6\n",
    "plt.subplots(nrows,ncols, figsize=(16, 12))\n",
    "\n",
    "for i in range(nrows*ncols):  # show first 24 digits\n",
    "  plt.subplot(nrows,ncols,i+1)  # i+1 is position of subplot in nrows x ncols table\n",
    "  # show bitmap, interpret 0 as white and 255 as black (grayvalues)\n",
    "  plt.imshow(incorrect_predicted_images[i].reshape(28,28), cmap=plt.cm.gray_r)\n",
    "  plt.title(f'p: {predicted_digits[i]}; e: {expected_digits[i]}')\n",
    "  plt.xticks([])   # no ticks on x axis\n",
    "  plt.yticks([])   # not ticks on y axis"
   ]
  }
 ],
 "metadata": {
  "kernelspec": {
   "display_name": "Python 3",
   "language": "python",
   "name": "python3"
  },
  "language_info": {
   "codemirror_mode": {
    "name": "ipython",
    "version": 3
   },
   "file_extension": ".py",
   "mimetype": "text/x-python",
   "name": "python",
   "nbconvert_exporter": "python",
   "pygments_lexer": "ipython3",
   "version": "3.7.6"
  }
 },
 "nbformat": 4,
 "nbformat_minor": 2
}
