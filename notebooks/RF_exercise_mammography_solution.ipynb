{
 "cells": [
  {
   "source": [
    "### Exercise mammography\n",
    "Mammography is the most effective method for breast cancer screening available today. However, the low positive predictive value of breast biopsy resulting from mammogram interpretation leads to approximately    70% unnecessary biopsies with benign outcomes. To reduce the high  number of unnecessary breast biopsies, several computer-aided diagnosis (CAD) systems have been proposed in the last years. These systems help physicians in their decision to perform a breast biopsy on a suspicious lesion seen in a mammogram or to perform a short term follow-up examination instead.  \n",
    " \n",
    "This data set can be used to predict the severity (benign or malignant) of a mammographic mass lesion from BI-RADS attributes and the patient's age. It contains a BI-RADS assessment, the patient's age and three BI-RADS attributes together with the ground truth (the severity field) for 516 benign and 445 malignant masses that have been identified on full field digital mammograms  collected at the Institute of Radiology of the University Erlangen-Nuremberg between 2003 and 2006.  \n",
    " \n",
    "Each instance has an associated BI-RADS assessment ranging from 1 (definitely benign) to 5 (highly suggestive of malignancy) assigned in a double-review process by physicians. Assuming that all cases with BI-RADS assessments greater or equal a given value (varying from 1 to 5), are malignant and the other cases benign,  sensitivities and associated specificities can be calculated. These can be an  indication of how well a CAD system performs compared to the radiologists. \n",
    "  \n",
    "Number of Instances: 961\n",
    "Number of Attributes: 6 (1 goal field, 1 non-predictive, 4 predictive attributes)\n",
    "Attribute Information:  \n",
    " \n",
    "   1. BI-RADS assessment: 1 to 5 (ordinal)  = assessment by radiologist:   \n",
    "    \n",
    "   - 0- incomplete  \n",
    "   - 1-negative   \n",
    "   - 2-benign findings  \n",
    "   - 3-probably benign  \n",
    "   - 4-suspicious abnormality  \n",
    "   - 5-highly suspicious of malignancy  \n",
    "   2. Age: patient's age in years (integer)   \n",
    "\n",
    "   3. Shape: mass shape: round=1 oval=2 lobular=3 irregular=4 (nominal)   \n",
    "   \n",
    "   4. Margin: mass margin:   \n",
    "    \n",
    "   - circumscribed=1  \n",
    "   - microlobulated=2  \n",
    "   - obscured=3  \n",
    "   - ill-defined=4  \n",
    "   - spiculated=5 (nominal) \n",
    "   5. Density: mass density high=1 iso=2 low=3 fat-containing=4 (ordinal)  \n",
    "     \n",
    "   6. Severity: benign=0 or malignant=1 (binominal) \n",
    "\n",
    "Missing Attribute Values: Yes\n",
    "\n",
    "    - BI-RADS assessment:   \t2\n",
    "    - Age:                   \t5\n",
    "    - Shape:                \t31\n",
    "    - Margin:               \t48\n",
    "    - Density:              \t76\n",
    "    - Severity:             \t0\n",
    "Class Distribution: benign: 516; malignant: 445\n",
    " \n",
    "See https://archive.ics.uci.edu/ml/datasets/Mammographic+Mass  for the source of the data set. \n"
   ],
   "cell_type": "markdown",
   "metadata": {}
  },
  {
   "source": [
    "# import the library \n",
    "import pandas as pd\n",
    "url = 'https://raw.githubusercontent.com/HOGENT-Databases/DB3-Workshops/master/data/mammography.csv'\n",
    "mammo = pd.read_csv(url)"
   ],
   "cell_type": "code",
   "metadata": {},
   "execution_count": 346,
   "outputs": []
  },
  {
   "cell_type": "code",
   "execution_count": 347,
   "metadata": {},
   "outputs": [
    {
     "output_type": "execute_result",
     "data": {
      "text/plain": [
       "    BIRADS Age Shape Margin Density  Severity\n",
       "0        5  67     3      5       3         1\n",
       "1        4  43     1      1       ?         1\n",
       "2        5  58     4      5       3         1\n",
       "3        4  28     1      1       3         0\n",
       "4        5  74     1      5       ?         1\n",
       "..     ...  ..   ...    ...     ...       ...\n",
       "956      4  47     2      1       3         0\n",
       "957      4  56     4      5       3         1\n",
       "958      4  64     4      5       3         0\n",
       "959      5  66     4      5       3         1\n",
       "960      4  62     3      3       3         0\n",
       "\n",
       "[961 rows x 6 columns]"
      ],
      "text/html": "<div>\n<style scoped>\n    .dataframe tbody tr th:only-of-type {\n        vertical-align: middle;\n    }\n\n    .dataframe tbody tr th {\n        vertical-align: top;\n    }\n\n    .dataframe thead th {\n        text-align: right;\n    }\n</style>\n<table border=\"1\" class=\"dataframe\">\n  <thead>\n    <tr style=\"text-align: right;\">\n      <th></th>\n      <th>BIRADS</th>\n      <th>Age</th>\n      <th>Shape</th>\n      <th>Margin</th>\n      <th>Density</th>\n      <th>Severity</th>\n    </tr>\n  </thead>\n  <tbody>\n    <tr>\n      <th>0</th>\n      <td>5</td>\n      <td>67</td>\n      <td>3</td>\n      <td>5</td>\n      <td>3</td>\n      <td>1</td>\n    </tr>\n    <tr>\n      <th>1</th>\n      <td>4</td>\n      <td>43</td>\n      <td>1</td>\n      <td>1</td>\n      <td>?</td>\n      <td>1</td>\n    </tr>\n    <tr>\n      <th>2</th>\n      <td>5</td>\n      <td>58</td>\n      <td>4</td>\n      <td>5</td>\n      <td>3</td>\n      <td>1</td>\n    </tr>\n    <tr>\n      <th>3</th>\n      <td>4</td>\n      <td>28</td>\n      <td>1</td>\n      <td>1</td>\n      <td>3</td>\n      <td>0</td>\n    </tr>\n    <tr>\n      <th>4</th>\n      <td>5</td>\n      <td>74</td>\n      <td>1</td>\n      <td>5</td>\n      <td>?</td>\n      <td>1</td>\n    </tr>\n    <tr>\n      <th>...</th>\n      <td>...</td>\n      <td>...</td>\n      <td>...</td>\n      <td>...</td>\n      <td>...</td>\n      <td>...</td>\n    </tr>\n    <tr>\n      <th>956</th>\n      <td>4</td>\n      <td>47</td>\n      <td>2</td>\n      <td>1</td>\n      <td>3</td>\n      <td>0</td>\n    </tr>\n    <tr>\n      <th>957</th>\n      <td>4</td>\n      <td>56</td>\n      <td>4</td>\n      <td>5</td>\n      <td>3</td>\n      <td>1</td>\n    </tr>\n    <tr>\n      <th>958</th>\n      <td>4</td>\n      <td>64</td>\n      <td>4</td>\n      <td>5</td>\n      <td>3</td>\n      <td>0</td>\n    </tr>\n    <tr>\n      <th>959</th>\n      <td>5</td>\n      <td>66</td>\n      <td>4</td>\n      <td>5</td>\n      <td>3</td>\n      <td>1</td>\n    </tr>\n    <tr>\n      <th>960</th>\n      <td>4</td>\n      <td>62</td>\n      <td>3</td>\n      <td>3</td>\n      <td>3</td>\n      <td>0</td>\n    </tr>\n  </tbody>\n</table>\n<p>961 rows × 6 columns</p>\n</div>"
     },
     "metadata": {},
     "execution_count": 347
    }
   ],
   "source": [
    "mammo"
   ]
  },
  {
   "cell_type": "code",
   "execution_count": 348,
   "metadata": {},
   "outputs": [
    {
     "output_type": "execute_result",
     "data": {
      "text/plain": [
       "0.4630593132154006"
      ]
     },
     "metadata": {},
     "execution_count": 348
    }
   ],
   "source": [
    "# Calculate how often breast cancer occurs on average in this data set. (0,46…)\n",
    "mammo['Severity'].mean()"
   ]
  },
  {
   "cell_type": "code",
   "execution_count": 349,
   "metadata": {},
   "outputs": [
    {
     "output_type": "execute_result",
     "data": {
      "text/plain": [
       "Severity\n",
       "0    516\n",
       "1    445\n",
       "Name: BIRADS, dtype: int64"
      ]
     },
     "metadata": {},
     "execution_count": 349
    }
   ],
   "source": [
    "# Calculate how many of the samples are benign and how many are malignant (benign: 516, malign: 445)\n",
    "mammo.groupby('Severity')['BIRADS'].count()"
   ]
  },
  {
   "cell_type": "code",
   "execution_count": 350,
   "metadata": {},
   "outputs": [],
   "source": [
    "# Missing attributes are indicated as “?”. Remove all lines that contain some “?”. \n",
    "mammo = mammo[mammo['BIRADS'] != '?']\n",
    "mammo = mammo[mammo['Age'] != '?']\n",
    "mammo = mammo[mammo['Shape'] != '?']\n",
    "mammo = mammo[mammo['Margin'] != '?']\n",
    "mammo = mammo[mammo['Density'] != '?']"
   ]
  },
  {
   "cell_type": "code",
   "execution_count": 351,
   "metadata": {},
   "outputs": [
    {
     "output_type": "execute_result",
     "data": {
      "text/plain": [
       "BIRADS      830\n",
       "Age         830\n",
       "Shape       830\n",
       "Margin      830\n",
       "Density     830\n",
       "Severity    830\n",
       "dtype: int64"
      ]
     },
     "metadata": {},
     "execution_count": 351
    }
   ],
   "source": [
    "mammo.count()"
   ]
  },
  {
   "cell_type": "code",
   "execution_count": 352,
   "metadata": {},
   "outputs": [],
   "source": [
    "# Calculate the percentage of the BI-RADS assessments that were correct, assuming a BI-RADS assessment of 4 or higher is malign. (51 %)\n",
    "import numpy as np\n",
    "mammo['BIRADS1'] = np.where(mammo['BIRADS'] >= '4',1,0)"
   ]
  },
  {
   "cell_type": "code",
   "execution_count": 353,
   "metadata": {},
   "outputs": [
    {
     "output_type": "execute_result",
     "data": {
      "text/plain": [
       "    BIRADS Age Shape Margin Density  Severity  BIRADS1\n",
       "0        5  67     3      5       3         1        1\n",
       "2        5  58     4      5       3         1        1\n",
       "3        4  28     1      1       3         0        1\n",
       "8        5  57     1      5       3         1        1\n",
       "10       5  76     1      4       3         1        1\n",
       "..     ...  ..   ...    ...     ...       ...      ...\n",
       "956      4  47     2      1       3         0        1\n",
       "957      4  56     4      5       3         1        1\n",
       "958      4  64     4      5       3         0        1\n",
       "959      5  66     4      5       3         1        1\n",
       "960      4  62     3      3       3         0        1\n",
       "\n",
       "[830 rows x 7 columns]"
      ],
      "text/html": "<div>\n<style scoped>\n    .dataframe tbody tr th:only-of-type {\n        vertical-align: middle;\n    }\n\n    .dataframe tbody tr th {\n        vertical-align: top;\n    }\n\n    .dataframe thead th {\n        text-align: right;\n    }\n</style>\n<table border=\"1\" class=\"dataframe\">\n  <thead>\n    <tr style=\"text-align: right;\">\n      <th></th>\n      <th>BIRADS</th>\n      <th>Age</th>\n      <th>Shape</th>\n      <th>Margin</th>\n      <th>Density</th>\n      <th>Severity</th>\n      <th>BIRADS1</th>\n    </tr>\n  </thead>\n  <tbody>\n    <tr>\n      <th>0</th>\n      <td>5</td>\n      <td>67</td>\n      <td>3</td>\n      <td>5</td>\n      <td>3</td>\n      <td>1</td>\n      <td>1</td>\n    </tr>\n    <tr>\n      <th>2</th>\n      <td>5</td>\n      <td>58</td>\n      <td>4</td>\n      <td>5</td>\n      <td>3</td>\n      <td>1</td>\n      <td>1</td>\n    </tr>\n    <tr>\n      <th>3</th>\n      <td>4</td>\n      <td>28</td>\n      <td>1</td>\n      <td>1</td>\n      <td>3</td>\n      <td>0</td>\n      <td>1</td>\n    </tr>\n    <tr>\n      <th>8</th>\n      <td>5</td>\n      <td>57</td>\n      <td>1</td>\n      <td>5</td>\n      <td>3</td>\n      <td>1</td>\n      <td>1</td>\n    </tr>\n    <tr>\n      <th>10</th>\n      <td>5</td>\n      <td>76</td>\n      <td>1</td>\n      <td>4</td>\n      <td>3</td>\n      <td>1</td>\n      <td>1</td>\n    </tr>\n    <tr>\n      <th>...</th>\n      <td>...</td>\n      <td>...</td>\n      <td>...</td>\n      <td>...</td>\n      <td>...</td>\n      <td>...</td>\n      <td>...</td>\n    </tr>\n    <tr>\n      <th>956</th>\n      <td>4</td>\n      <td>47</td>\n      <td>2</td>\n      <td>1</td>\n      <td>3</td>\n      <td>0</td>\n      <td>1</td>\n    </tr>\n    <tr>\n      <th>957</th>\n      <td>4</td>\n      <td>56</td>\n      <td>4</td>\n      <td>5</td>\n      <td>3</td>\n      <td>1</td>\n      <td>1</td>\n    </tr>\n    <tr>\n      <th>958</th>\n      <td>4</td>\n      <td>64</td>\n      <td>4</td>\n      <td>5</td>\n      <td>3</td>\n      <td>0</td>\n      <td>1</td>\n    </tr>\n    <tr>\n      <th>959</th>\n      <td>5</td>\n      <td>66</td>\n      <td>4</td>\n      <td>5</td>\n      <td>3</td>\n      <td>1</td>\n      <td>1</td>\n    </tr>\n    <tr>\n      <th>960</th>\n      <td>4</td>\n      <td>62</td>\n      <td>3</td>\n      <td>3</td>\n      <td>3</td>\n      <td>0</td>\n      <td>1</td>\n    </tr>\n  </tbody>\n</table>\n<p>830 rows × 7 columns</p>\n</div>"
     },
     "metadata": {},
     "execution_count": 353
    }
   ],
   "source": [
    "mammo"
   ]
  },
  {
   "cell_type": "code",
   "execution_count": 354,
   "metadata": {},
   "outputs": [],
   "source": [
    "mammo['CORRECT'] = np.where(mammo['BIRADS1'] == mammo['Severity'],1,0)"
   ]
  },
  {
   "cell_type": "code",
   "execution_count": 355,
   "metadata": {},
   "outputs": [
    {
     "output_type": "execute_result",
     "data": {
      "text/plain": [
       "    BIRADS Age Shape Margin Density  Severity  BIRADS1  CORRECT\n",
       "0        5  67     3      5       3         1        1        1\n",
       "2        5  58     4      5       3         1        1        1\n",
       "3        4  28     1      1       3         0        1        0\n",
       "8        5  57     1      5       3         1        1        1\n",
       "10       5  76     1      4       3         1        1        1\n",
       "..     ...  ..   ...    ...     ...       ...      ...      ...\n",
       "956      4  47     2      1       3         0        1        0\n",
       "957      4  56     4      5       3         1        1        1\n",
       "958      4  64     4      5       3         0        1        0\n",
       "959      5  66     4      5       3         1        1        1\n",
       "960      4  62     3      3       3         0        1        0\n",
       "\n",
       "[830 rows x 8 columns]"
      ],
      "text/html": "<div>\n<style scoped>\n    .dataframe tbody tr th:only-of-type {\n        vertical-align: middle;\n    }\n\n    .dataframe tbody tr th {\n        vertical-align: top;\n    }\n\n    .dataframe thead th {\n        text-align: right;\n    }\n</style>\n<table border=\"1\" class=\"dataframe\">\n  <thead>\n    <tr style=\"text-align: right;\">\n      <th></th>\n      <th>BIRADS</th>\n      <th>Age</th>\n      <th>Shape</th>\n      <th>Margin</th>\n      <th>Density</th>\n      <th>Severity</th>\n      <th>BIRADS1</th>\n      <th>CORRECT</th>\n    </tr>\n  </thead>\n  <tbody>\n    <tr>\n      <th>0</th>\n      <td>5</td>\n      <td>67</td>\n      <td>3</td>\n      <td>5</td>\n      <td>3</td>\n      <td>1</td>\n      <td>1</td>\n      <td>1</td>\n    </tr>\n    <tr>\n      <th>2</th>\n      <td>5</td>\n      <td>58</td>\n      <td>4</td>\n      <td>5</td>\n      <td>3</td>\n      <td>1</td>\n      <td>1</td>\n      <td>1</td>\n    </tr>\n    <tr>\n      <th>3</th>\n      <td>4</td>\n      <td>28</td>\n      <td>1</td>\n      <td>1</td>\n      <td>3</td>\n      <td>0</td>\n      <td>1</td>\n      <td>0</td>\n    </tr>\n    <tr>\n      <th>8</th>\n      <td>5</td>\n      <td>57</td>\n      <td>1</td>\n      <td>5</td>\n      <td>3</td>\n      <td>1</td>\n      <td>1</td>\n      <td>1</td>\n    </tr>\n    <tr>\n      <th>10</th>\n      <td>5</td>\n      <td>76</td>\n      <td>1</td>\n      <td>4</td>\n      <td>3</td>\n      <td>1</td>\n      <td>1</td>\n      <td>1</td>\n    </tr>\n    <tr>\n      <th>...</th>\n      <td>...</td>\n      <td>...</td>\n      <td>...</td>\n      <td>...</td>\n      <td>...</td>\n      <td>...</td>\n      <td>...</td>\n      <td>...</td>\n    </tr>\n    <tr>\n      <th>956</th>\n      <td>4</td>\n      <td>47</td>\n      <td>2</td>\n      <td>1</td>\n      <td>3</td>\n      <td>0</td>\n      <td>1</td>\n      <td>0</td>\n    </tr>\n    <tr>\n      <th>957</th>\n      <td>4</td>\n      <td>56</td>\n      <td>4</td>\n      <td>5</td>\n      <td>3</td>\n      <td>1</td>\n      <td>1</td>\n      <td>1</td>\n    </tr>\n    <tr>\n      <th>958</th>\n      <td>4</td>\n      <td>64</td>\n      <td>4</td>\n      <td>5</td>\n      <td>3</td>\n      <td>0</td>\n      <td>1</td>\n      <td>0</td>\n    </tr>\n    <tr>\n      <th>959</th>\n      <td>5</td>\n      <td>66</td>\n      <td>4</td>\n      <td>5</td>\n      <td>3</td>\n      <td>1</td>\n      <td>1</td>\n      <td>1</td>\n    </tr>\n    <tr>\n      <th>960</th>\n      <td>4</td>\n      <td>62</td>\n      <td>3</td>\n      <td>3</td>\n      <td>3</td>\n      <td>0</td>\n      <td>1</td>\n      <td>0</td>\n    </tr>\n  </tbody>\n</table>\n<p>830 rows × 8 columns</p>\n</div>"
     },
     "metadata": {},
     "execution_count": 355
    }
   ],
   "source": [
    "mammo"
   ]
  },
  {
   "cell_type": "code",
   "execution_count": 356,
   "metadata": {},
   "outputs": [
    {
     "output_type": "execute_result",
     "data": {
      "text/plain": [
       "0.5120481927710844"
      ]
     },
     "metadata": {},
     "execution_count": 356
    }
   ],
   "source": [
    "mammo['CORRECT'].mean()"
   ]
  },
  {
   "cell_type": "code",
   "execution_count": 357,
   "metadata": {},
   "outputs": [],
   "source": [
    "# Use random forest classification to determine a model for predicting the severity (benign/malign) \n",
    "# of new mammography results. Determine the accuracy of the classifier (+/- 79%)\n",
    "# Determine the optimal number of trees \n",
    "from sklearn.model_selection import train_test_split\n",
    "X = mammo.drop('BIRADS',axis=1).drop('BIRADS1',axis=1).drop('CORRECT',axis=1).drop('Severity',axis=1)\n",
    "y = mammo['Severity']"
   ]
  },
  {
   "cell_type": "code",
   "execution_count": 358,
   "metadata": {},
   "outputs": [
    {
     "output_type": "stream",
     "name": "stdout",
     "text": [
      "Optimal number of trees = 100\nAccuracy on validation set =  0.78\nAccuracy on test set =  0.75\n"
     ]
    }
   ],
   "source": [
    "X_remainder, X_test, y_remainder, y_test = train_test_split(X,y,test_size=0.30)\n",
    "\n",
    "best_accuracy = 0\n",
    "best_trees = 0\n",
    "\n",
    "for trees in range(50,550,50):\n",
    "    X_train, X_validation, y_train, y_validation = train_test_split(X_remainder,y_remainder,test_size=0.30)\n",
    "    model = RandomForestClassifier(n_estimators=trees)\n",
    "    model.fit(X_train, y_train)    \n",
    "    y_validation2 = model.predict(X_validation)\n",
    "    accuracy = accuracy_score(y_validation, y_validation2)\n",
    "    if accuracy > best_accuracy:\n",
    "        best_accuracy = accuracy\n",
    "        best_trees = trees\n",
    "        best_validation = model.predict(X_test)\n",
    "        \n",
    "print('Optimal number of trees = % s' %(best_trees))\n",
    "print('Accuracy on validation set = % 3.2f' % (best_accuracy)) \n",
    "accuracyOnTestSet = accuracy_score(y_test, best_validation)\n",
    "print('Accuracy on test set = % 3.2f' % (accuracyOnTestSet))"
   ]
  },
  {
   "cell_type": "code",
   "execution_count": 359,
   "metadata": {},
   "outputs": [
    {
     "output_type": "execute_result",
     "data": {
      "text/plain": [
       "         Importance\n",
       "Age        0.448168\n",
       "Margin     0.292037\n",
       "Shape      0.236111\n",
       "Density    0.023684"
      ],
      "text/html": "<div>\n<style scoped>\n    .dataframe tbody tr th:only-of-type {\n        vertical-align: middle;\n    }\n\n    .dataframe tbody tr th {\n        vertical-align: top;\n    }\n\n    .dataframe thead th {\n        text-align: right;\n    }\n</style>\n<table border=\"1\" class=\"dataframe\">\n  <thead>\n    <tr style=\"text-align: right;\">\n      <th></th>\n      <th>Importance</th>\n    </tr>\n  </thead>\n  <tbody>\n    <tr>\n      <th>Age</th>\n      <td>0.448168</td>\n    </tr>\n    <tr>\n      <th>Margin</th>\n      <td>0.292037</td>\n    </tr>\n    <tr>\n      <th>Shape</th>\n      <td>0.236111</td>\n    </tr>\n    <tr>\n      <th>Density</th>\n      <td>0.023684</td>\n    </tr>\n  </tbody>\n</table>\n</div>"
     },
     "metadata": {},
     "execution_count": 359
    }
   ],
   "source": [
    "# Which two factors are the most determining for malign breast tumors. (Age and margin)\n",
    "pd.DataFrame(model.feature_importances_,columns=['Importance'],index=X_train.columns).sort_values(by='Importance',ascending=False)"
   ]
  },
  {
   "cell_type": "code",
   "execution_count": 365,
   "metadata": {},
   "outputs": [],
   "source": [
    "# Determine the false negative rate and the false positive rate. \n",
    "# Which proportion of the real cancer cases are we missing with this test? (+/- 25%)\n",
    "results = pd.DataFrame({'true':y_test,'estimated':best_validation})"
   ]
  },
  {
   "cell_type": "code",
   "execution_count": 366,
   "metadata": {},
   "outputs": [],
   "source": [
    "results['TP'] = np.where((results['true'] == 1) & (results['estimated'] == 1),1,0)\n",
    "results['TN'] = np.where((results['true'] == 0) & (results['estimated'] == 0),1,0)\n",
    "results['FP'] = np.where((results['true'] == 0) & (results['estimated'] == 1),1,0)\n",
    "results['FN'] = np.where((results['true'] == 1) & (results['estimated'] == 0),1,0)"
   ]
  },
  {
   "cell_type": "code",
   "execution_count": 367,
   "metadata": {},
   "outputs": [
    {
     "output_type": "execute_result",
     "data": {
      "text/plain": [
       "     true  estimated  TP  TN  FP  FN\n",
       "274     1          0   0   0   0   1\n",
       "864     1          1   1   0   0   0\n",
       "589     1          1   1   0   0   0\n",
       "893     0          0   0   1   0   0\n",
       "313     1          1   1   0   0   0"
      ],
      "text/html": "<div>\n<style scoped>\n    .dataframe tbody tr th:only-of-type {\n        vertical-align: middle;\n    }\n\n    .dataframe tbody tr th {\n        vertical-align: top;\n    }\n\n    .dataframe thead th {\n        text-align: right;\n    }\n</style>\n<table border=\"1\" class=\"dataframe\">\n  <thead>\n    <tr style=\"text-align: right;\">\n      <th></th>\n      <th>true</th>\n      <th>estimated</th>\n      <th>TP</th>\n      <th>TN</th>\n      <th>FP</th>\n      <th>FN</th>\n    </tr>\n  </thead>\n  <tbody>\n    <tr>\n      <th>274</th>\n      <td>1</td>\n      <td>0</td>\n      <td>0</td>\n      <td>0</td>\n      <td>0</td>\n      <td>1</td>\n    </tr>\n    <tr>\n      <th>864</th>\n      <td>1</td>\n      <td>1</td>\n      <td>1</td>\n      <td>0</td>\n      <td>0</td>\n      <td>0</td>\n    </tr>\n    <tr>\n      <th>589</th>\n      <td>1</td>\n      <td>1</td>\n      <td>1</td>\n      <td>0</td>\n      <td>0</td>\n      <td>0</td>\n    </tr>\n    <tr>\n      <th>893</th>\n      <td>0</td>\n      <td>0</td>\n      <td>0</td>\n      <td>1</td>\n      <td>0</td>\n      <td>0</td>\n    </tr>\n    <tr>\n      <th>313</th>\n      <td>1</td>\n      <td>1</td>\n      <td>1</td>\n      <td>0</td>\n      <td>0</td>\n      <td>0</td>\n    </tr>\n  </tbody>\n</table>\n</div>"
     },
     "metadata": {},
     "execution_count": 367
    }
   ],
   "source": [
    "results.head()"
   ]
  },
  {
   "cell_type": "code",
   "execution_count": 368,
   "metadata": {},
   "outputs": [
    {
     "output_type": "stream",
     "name": "stdout",
     "text": [
      "0.344\n"
     ]
    }
   ],
   "source": [
    "FPrate = results['FP'].sum()/(results['FP'].sum() + results['TN'].sum())\n",
    "print(FPrate)"
   ]
  },
  {
   "cell_type": "code",
   "execution_count": 369,
   "metadata": {},
   "outputs": [
    {
     "output_type": "stream",
     "name": "stdout",
     "text": [
      "0.16129032258064516\n"
     ]
    }
   ],
   "source": [
    "FNrate = results['FN'].sum()/(results['FN'].sum() + results['TP'].sum())\n",
    "print(FNrate)"
   ]
  },
  {
   "cell_type": "code",
   "execution_count": null,
   "metadata": {},
   "outputs": [],
   "source": []
  }
 ],
 "metadata": {
  "kernelspec": {
   "display_name": "Python 3",
   "language": "python",
   "name": "python3"
  },
  "language_info": {
   "codemirror_mode": {
    "name": "ipython",
    "version": 3
   },
   "file_extension": ".py",
   "mimetype": "text/x-python",
   "name": "python",
   "nbconvert_exporter": "python",
   "pygments_lexer": "ipython3",
   "version": "3.8.3-final"
  }
 },
 "nbformat": 4,
 "nbformat_minor": 2
}