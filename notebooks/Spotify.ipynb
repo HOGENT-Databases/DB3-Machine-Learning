{
  "nbformat": 4,
  "nbformat_minor": 0,
  "metadata": {
    "kernelspec": {
      "display_name": "Python 3",
      "language": "python",
      "name": "python3"
    },
    "language_info": {
      "codemirror_mode": {
        "name": "ipython",
        "version": 3
      },
      "file_extension": ".py",
      "mimetype": "text/x-python",
      "name": "python",
      "nbconvert_exporter": "python",
      "pygments_lexer": "ipython3",
      "version": "3.6.1"
    },
    "colab": {
      "name": "Spotify Starter.ipynb",
      "provenance": [],
      "collapsed_sections": []
    }
  },
  "cells": [
    {
      "cell_type": "markdown",
      "metadata": {
        "id": "Is5JKLZ91zEa"
      },
      "source": [
        "Data can be found on https://www.kaggle.com/cihanoklap/top-songs-on-spotify-what-makes-them-popular/data. This file ('data.csv') is too big for github, so download it from kaggle to the root of your Google Drive and rename it to spotify.csv\n",
        "\n",
        "In this exercise, we’ll take a look at the audio features of the tracks in Spotify’s Top Songs of 2017 playlist and try to highlight the common patterns behind the audio features of these songs.\n"
      ]
    },
    {
      "cell_type": "code",
      "metadata": {
        "colab": {
          "base_uri": "https://localhost:8080/"
        },
        "id": "ByRqBRur16Yz",
        "outputId": "3bf64f13-0879-4b89-8591-0a6454f78c29"
      },
      "source": [
        "from google.colab import drive\r\n",
        "drive.mount('/content/gdrive')"
      ],
      "execution_count": 1,
      "outputs": [
        {
          "output_type": "stream",
          "text": [
            "Mounted at /content/gdrive\n"
          ],
          "name": "stdout"
        }
      ]
    },
    {
      "cell_type": "code",
      "metadata": {
        "id": "7K76NsMs4VZP"
      },
      "source": [
        "import numpy as np\r\n",
        "import pandas as pd"
      ],
      "execution_count": 2,
      "outputs": []
    },
    {
      "cell_type": "code",
      "metadata": {
        "id": "eKJHSpb8zane",
        "colab": {
          "base_uri": "https://localhost:8080/",
          "height": 202
        },
        "outputId": "7cae0a2b-1121-4531-9a2d-fbf050fe7b93"
      },
      "source": [
        "# Read the file data.csv\n",
        "# Show the first few records\n",
        "data = pd.read_csv(\"/content/gdrive/My Drive/spotify.csv\", encoding=\"ISO-8859-1\")\n",
        "data.head()\n",
        "\n",
        "\n"
      ],
      "execution_count": 3,
      "outputs": [
        {
          "output_type": "execute_result",
          "data": {
            "text/html": [
              "<div>\n",
              "<style scoped>\n",
              "    .dataframe tbody tr th:only-of-type {\n",
              "        vertical-align: middle;\n",
              "    }\n",
              "\n",
              "    .dataframe tbody tr th {\n",
              "        vertical-align: top;\n",
              "    }\n",
              "\n",
              "    .dataframe thead th {\n",
              "        text-align: right;\n",
              "    }\n",
              "</style>\n",
              "<table border=\"1\" class=\"dataframe\">\n",
              "  <thead>\n",
              "    <tr style=\"text-align: right;\">\n",
              "      <th></th>\n",
              "      <th>Position</th>\n",
              "      <th>Track Name</th>\n",
              "      <th>Artist</th>\n",
              "      <th>Streams</th>\n",
              "      <th>URL</th>\n",
              "      <th>Date</th>\n",
              "      <th>Region</th>\n",
              "    </tr>\n",
              "  </thead>\n",
              "  <tbody>\n",
              "    <tr>\n",
              "      <th>0</th>\n",
              "      <td>1</td>\n",
              "      <td>ReggaetÃ³n Lento (Bailemos)</td>\n",
              "      <td>CNCO</td>\n",
              "      <td>19272</td>\n",
              "      <td>https://open.spotify.com/track/3AEZUABDXNtecAO...</td>\n",
              "      <td>2017-01-01</td>\n",
              "      <td>ec</td>\n",
              "    </tr>\n",
              "    <tr>\n",
              "      <th>1</th>\n",
              "      <td>2</td>\n",
              "      <td>Chantaje</td>\n",
              "      <td>Shakira</td>\n",
              "      <td>19270</td>\n",
              "      <td>https://open.spotify.com/track/6mICuAdrwEjh6Y6...</td>\n",
              "      <td>2017-01-01</td>\n",
              "      <td>ec</td>\n",
              "    </tr>\n",
              "    <tr>\n",
              "      <th>2</th>\n",
              "      <td>3</td>\n",
              "      <td>Otra Vez (feat. J Balvin)</td>\n",
              "      <td>Zion &amp; Lennox</td>\n",
              "      <td>15761</td>\n",
              "      <td>https://open.spotify.com/track/3QwBODjSEzelZyV...</td>\n",
              "      <td>2017-01-01</td>\n",
              "      <td>ec</td>\n",
              "    </tr>\n",
              "    <tr>\n",
              "      <th>3</th>\n",
              "      <td>4</td>\n",
              "      <td>Vente Pa' Ca</td>\n",
              "      <td>Ricky Martin</td>\n",
              "      <td>14954</td>\n",
              "      <td>https://open.spotify.com/track/7DM4BPaS7uofFul...</td>\n",
              "      <td>2017-01-01</td>\n",
              "      <td>ec</td>\n",
              "    </tr>\n",
              "    <tr>\n",
              "      <th>4</th>\n",
              "      <td>5</td>\n",
              "      <td>Safari</td>\n",
              "      <td>J Balvin</td>\n",
              "      <td>14269</td>\n",
              "      <td>https://open.spotify.com/track/6rQSrBHf7HlZjtc...</td>\n",
              "      <td>2017-01-01</td>\n",
              "      <td>ec</td>\n",
              "    </tr>\n",
              "  </tbody>\n",
              "</table>\n",
              "</div>"
            ],
            "text/plain": [
              "   Position                   Track Name  ...        Date  Region\n",
              "0         1  ReggaetÃ³n Lento (Bailemos)  ...  2017-01-01      ec\n",
              "1         2                     Chantaje  ...  2017-01-01      ec\n",
              "2         3    Otra Vez (feat. J Balvin)  ...  2017-01-01      ec\n",
              "3         4                 Vente Pa' Ca  ...  2017-01-01      ec\n",
              "4         5                       Safari  ...  2017-01-01      ec\n",
              "\n",
              "[5 rows x 7 columns]"
            ]
          },
          "metadata": {
            "tags": []
          },
          "execution_count": 3
        }
      ]
    },
    {
      "cell_type": "code",
      "metadata": {
        "id": "x0LVM8g3zanf"
      },
      "source": [
        "# Show the general information about the data\n"
      ],
      "execution_count": null,
      "outputs": []
    },
    {
      "cell_type": "code",
      "metadata": {
        "id": "zVQutBSrzanf"
      },
      "source": [
        "# Drop the column URL because it is of no need\n",
        "# Show the first few records\n"
      ],
      "execution_count": null,
      "outputs": []
    },
    {
      "cell_type": "code",
      "metadata": {
        "id": "uL33ZQKqzang"
      },
      "source": [
        "# Give the dimensions of the data\n"
      ],
      "execution_count": null,
      "outputs": []
    },
    {
      "cell_type": "code",
      "metadata": {
        "id": "XF7AUmtBzang"
      },
      "source": [
        "# Give for each column the number of values available\n"
      ],
      "execution_count": null,
      "outputs": []
    },
    {
      "cell_type": "code",
      "metadata": {
        "collapsed": true,
        "id": "0qd-2xa_zang"
      },
      "source": [
        "# You can see that there are some columns with no data available for the Track Name and Artist\n",
        "# Drop the records with empty values for some columns\n"
      ],
      "execution_count": null,
      "outputs": []
    },
    {
      "cell_type": "code",
      "metadata": {
        "id": "XRACF0HOzanh"
      },
      "source": [
        "# Give for each column the number of values available\n"
      ],
      "execution_count": null,
      "outputs": []
    },
    {
      "cell_type": "code",
      "metadata": {
        "id": "2tmG3Wgtzanh"
      },
      "source": [
        "# Give the datatype of each column\n"
      ],
      "execution_count": null,
      "outputs": []
    },
    {
      "cell_type": "code",
      "metadata": {
        "id": "ElsYBFxDzanh"
      },
      "source": [
        "# Which different regions are available. Is Belgium (be) one of these regions?\n"
      ],
      "execution_count": null,
      "outputs": []
    },
    {
      "cell_type": "code",
      "metadata": {
        "id": "0vVkVE_-zani"
      },
      "source": [
        "# What is the minimum date?\n"
      ],
      "execution_count": null,
      "outputs": []
    },
    {
      "cell_type": "code",
      "metadata": {
        "id": "33dIGYFizani"
      },
      "source": [
        "# What is the maximum date?\n"
      ],
      "execution_count": null,
      "outputs": []
    },
    {
      "cell_type": "code",
      "metadata": {
        "id": "JEg0z1M4zani"
      },
      "source": [
        "# Transform the Track Name's into lower case\n"
      ],
      "execution_count": null,
      "outputs": []
    },
    {
      "cell_type": "code",
      "metadata": {
        "id": "VNTdzRGCzani"
      },
      "source": [
        "# Transform the Artist into lower case\n"
      ],
      "execution_count": null,
      "outputs": []
    },
    {
      "cell_type": "code",
      "metadata": {
        "id": "mk0bb_whzanj"
      },
      "source": [
        "# How many unique artists are there in the dataset?\n"
      ],
      "execution_count": null,
      "outputs": []
    },
    {
      "cell_type": "code",
      "metadata": {
        "id": "AowYd_8yzanj"
      },
      "source": [
        "# Are there any songs with the same name but with a different artist?\n"
      ],
      "execution_count": null,
      "outputs": []
    },
    {
      "cell_type": "code",
      "metadata": {
        "id": "xT6dFyszzanj"
      },
      "source": [
        "# What was the most often streamed song in the entire world?\n"
      ],
      "execution_count": null,
      "outputs": []
    },
    {
      "cell_type": "code",
      "metadata": {
        "id": "7XII4xjhzanj"
      },
      "source": [
        "# Now it looks like Despacito of Luis Fonsi was less popular than Shape of You of Ed Sheeran\n",
        "# Give all the different versions in the dataset of the song Despacito\n"
      ],
      "execution_count": null,
      "outputs": []
    },
    {
      "cell_type": "code",
      "metadata": {
        "id": "c3uPeh8Dzank"
      },
      "source": [
        "# How many times was Despacito streamed over the entire world if you make no difference between the different versions?\n"
      ],
      "execution_count": null,
      "outputs": []
    },
    {
      "cell_type": "code",
      "metadata": {
        "id": "vYkF5J0kzank"
      },
      "source": [
        "# What was the most popular of the 4 different versions of despacito?\n"
      ],
      "execution_count": null,
      "outputs": []
    },
    {
      "cell_type": "code",
      "metadata": {
        "id": "NSTRKQtizank"
      },
      "source": [
        "# Is the version of despacito with Justin Bieber also available in the dataset?\n"
      ],
      "execution_count": null,
      "outputs": []
    },
    {
      "cell_type": "code",
      "metadata": {
        "id": "X7iS5WH6zank"
      },
      "source": [
        "# Give a list of songs that were only streamed in Belgium\n"
      ],
      "execution_count": null,
      "outputs": []
    },
    {
      "cell_type": "code",
      "metadata": {
        "id": "8W-0U0rezank"
      },
      "source": [
        "# Show the christmas songs that are in the dataset (i.e. the Track Name contains the word christmas)\n"
      ],
      "execution_count": null,
      "outputs": []
    },
    {
      "cell_type": "code",
      "metadata": {
        "id": "SsM3Ymluzanl"
      },
      "source": [
        "# Was 'all i want for christmas is you' streamed at all during july and august?\n"
      ],
      "execution_count": null,
      "outputs": []
    },
    {
      "cell_type": "code",
      "metadata": {
        "id": "Pt77VL3Lzanl"
      },
      "source": [
        "# On which day was 'all i want for christmas is you' streamed for the first time after the summer?\n"
      ],
      "execution_count": null,
      "outputs": []
    },
    {
      "cell_type": "code",
      "metadata": {
        "id": "XXHrxrYSzanl"
      },
      "source": [
        "# How did the songs of Ed Sheeran perform in 2017 in Belgium on each day: give for each track the number of days it was streamed in belgium.\n"
      ],
      "execution_count": null,
      "outputs": []
    },
    {
      "cell_type": "code",
      "metadata": {
        "id": "XeRF9ud8zanm"
      },
      "source": [
        "# Give the artists that have more than one song on the Top 100 Songs List in Belgium\n"
      ],
      "execution_count": null,
      "outputs": []
    },
    {
      "cell_type": "code",
      "metadata": {
        "id": "UU6hcQhhzanm"
      },
      "source": [
        "# Create a new dataframe plotData that contains the Date and Streams of despacito in belgium\n",
        "# Transform the column Date to_datetime\n",
        "# Add a new column Week to plotData that contains the week (use .dt.week)\n",
        "# Drop the column Date because it's of no use anymore\n",
        "# Calculate the average number of Streams per week. Divide the result by 1000 (to get smaller numbers) \n",
        "# and transform the result to an integer\n",
        "# Plot the resulting data\n",
        "\n"
      ],
      "execution_count": null,
      "outputs": []
    },
    {
      "cell_type": "code",
      "metadata": {
        "id": "yNmErmQizanm"
      },
      "source": [
        "# Plot the resulting data\n",
        "# imports for plotting\n"
      ],
      "execution_count": null,
      "outputs": []
    },
    {
      "cell_type": "code",
      "metadata": {
        "id": "zk-gw7-Tzanm"
      },
      "source": [
        "# Create a new dataframe extra that contains the most often streamed Track Name's for each month \n",
        "# for each of the following regions: au, be, de, fr, gb, it, nl\n",
        "# Transform the column Date to_datetime\n",
        "# Add a new column Week to plotData that contains the week (use .dt.week)\n",
        "# Drop the column Date because it's of no use anymore\n",
        "\n"
      ],
      "execution_count": null,
      "outputs": []
    },
    {
      "cell_type": "code",
      "metadata": {
        "id": "syvMQn00zanm"
      },
      "source": [
        "# Create a new dataframe extra2 based on the dataframe extra that contains all information about the 4 versions of despacito\n",
        "# Create a pivot_table that shows the total number of streams of the 4 versions of despacito \n",
        "# for each region (au, be, de, fr, gb, it, nl) for each month\n",
        "\n"
      ],
      "execution_count": null,
      "outputs": []
    },
    {
      "cell_type": "code",
      "metadata": {
        "id": "zsjhcIEZzann"
      },
      "source": [
        "# Create a new dataframe extra3 based on the dataframe extra that contains the most popular Track Name\n",
        "# for each region (au, be, de, fr, gb, it, nl) for each month\n",
        "\n"
      ],
      "execution_count": null,
      "outputs": []
    },
    {
      "cell_type": "code",
      "metadata": {
        "id": "CcBVoS6vzann"
      },
      "source": [
        "# Create a new dataframe extra4 based on the dataframe data that only contains the Track Name's\n",
        "# Make sure there are no duplicates for the Track Name's\n"
      ],
      "execution_count": null,
      "outputs": []
    },
    {
      "cell_type": "code",
      "metadata": {
        "id": "GkLoJkYauK7J"
      },
      "source": [
        "pip install langdetect"
      ],
      "execution_count": null,
      "outputs": []
    },
    {
      "cell_type": "code",
      "metadata": {
        "collapsed": true,
        "id": "s87X4nJ2zann"
      },
      "source": [
        "# Detect the language for each Track Name in the dataframe extra4\n",
        "# You have to use try - except otherwise you can get the LangDetectException: No features in text.\n",
        "# for weird titles like #1111, because he can't decide on the language\n",
        "\n",
        "import nltk\n",
        "from langdetect import detect\n",
        "\n",
        "def detect_language(text):\n",
        "    try:\n",
        "        return detect(text)\n",
        "    except:\n",
        "        return 'NoLang'\n",
        "\n"
      ],
      "execution_count": null,
      "outputs": []
    },
    {
      "cell_type": "code",
      "metadata": {
        "id": "Rm5sLj7Ezann"
      },
      "source": [
        "# We will use only the english Track Name's\n"
      ],
      "execution_count": null,
      "outputs": []
    },
    {
      "cell_type": "code",
      "metadata": {
        "id": "hbrvnihTzann"
      },
      "source": [
        "# How many different words are used in the Track Name's?\n",
        "# Apply TfidVectorizer\n"
      ],
      "execution_count": null,
      "outputs": []
    },
    {
      "cell_type": "code",
      "metadata": {
        "id": "Y1fYv5O6zano"
      },
      "source": [
        "# What are the most frequently used words in the Track Name's?\n"
      ],
      "execution_count": null,
      "outputs": []
    },
    {
      "cell_type": "code",
      "metadata": {
        "id": "RS2VAr3Fzano"
      },
      "source": [
        "# Create a new dataframe extra5 based on the dataframe data that contains the total number of streams per Track Name\n",
        "# and per artist\n"
      ],
      "execution_count": null,
      "outputs": []
    },
    {
      "cell_type": "code",
      "metadata": {
        "id": "zgn6SHsKzano"
      },
      "source": [
        "# Read the file featuresdf.csv into the dataframe features\n",
        "# Show the few first records\n"
      ],
      "execution_count": null,
      "outputs": []
    },
    {
      "cell_type": "code",
      "metadata": {
        "id": "e0jpd-Y8zano"
      },
      "source": [
        "# Drop the column id\n"
      ],
      "execution_count": null,
      "outputs": []
    },
    {
      "cell_type": "code",
      "metadata": {
        "id": "F2aupk_-zano"
      },
      "source": [
        "# Transform the columns name and artists to lower case\n"
      ],
      "execution_count": null,
      "outputs": []
    },
    {
      "cell_type": "code",
      "metadata": {
        "id": "WQzZBYGezano"
      },
      "source": [
        "# Merge the dataframe features and extra5 into the dataframe new_df\n",
        "# Show the few first records\n"
      ],
      "execution_count": null,
      "outputs": []
    },
    {
      "cell_type": "code",
      "metadata": {
        "collapsed": true,
        "id": "x1CpmdDpzanp"
      },
      "source": [
        "# Divide the number of streams by 1000000 to get smaller numbers\n"
      ],
      "execution_count": null,
      "outputs": []
    },
    {
      "cell_type": "code",
      "metadata": {
        "collapsed": true,
        "id": "E4mezvSbzanp"
      },
      "source": [
        "# We want to create a linear regression model to try to predict the streams \n",
        "# Drop the columns that aren't necessary any more\n"
      ],
      "execution_count": null,
      "outputs": []
    },
    {
      "cell_type": "code",
      "metadata": {
        "id": "7_d1ngnOuWcb"
      },
      "source": [
        "# remove records with empty values"
      ],
      "execution_count": null,
      "outputs": []
    },
    {
      "cell_type": "code",
      "metadata": {
        "collapsed": true,
        "id": "hnRTtZuXzanp"
      },
      "source": [
        "# Create the training and test data\n"
      ],
      "execution_count": null,
      "outputs": []
    },
    {
      "cell_type": "code",
      "metadata": {
        "collapsed": true,
        "id": "JryMPR7_zanp"
      },
      "source": [],
      "execution_count": null,
      "outputs": []
    },
    {
      "cell_type": "code",
      "metadata": {
        "id": "EyiLxSOizanp"
      },
      "source": [],
      "execution_count": null,
      "outputs": []
    },
    {
      "cell_type": "code",
      "metadata": {
        "id": "bqYxcH8hzanp"
      },
      "source": [],
      "execution_count": null,
      "outputs": []
    },
    {
      "cell_type": "code",
      "metadata": {
        "id": "N9z8_Qtkzanq"
      },
      "source": [
        "# Create a RandomForestRegressor to predict the number of Streams\n",
        "# What are the most important features to predict if a song will become a hit?\n",
        "\n"
      ],
      "execution_count": null,
      "outputs": []
    },
    {
      "cell_type": "code",
      "metadata": {
        "id": "Yr616A3czanq"
      },
      "source": [],
      "execution_count": null,
      "outputs": []
    },
    {
      "cell_type": "code",
      "metadata": {
        "id": "ZtKQ0nk8zanq"
      },
      "source": [],
      "execution_count": null,
      "outputs": []
    },
    {
      "cell_type": "code",
      "metadata": {
        "collapsed": true,
        "id": "956_iE7qzanq"
      },
      "source": [],
      "execution_count": null,
      "outputs": []
    }
  ]
}