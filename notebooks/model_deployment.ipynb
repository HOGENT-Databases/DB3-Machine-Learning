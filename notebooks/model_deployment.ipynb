{
 "cells": [
  {
   "cell_type": "markdown",
   "metadata": {},
   "source": [
    "## Model Deployment\n",
    "In the previous chapters we focussed on creating predicton models. Jupyter notebooks are great in data exploration, transformation and cleaning and in model tuning and evaluation. However, once you are fine with your model is time to use is in practice. Therefore we save the model to a file so we can use it over and over again.  We illustrate this using the customer churn case. "
   ]
  },
  {
   "cell_type": "code",
   "execution_count": 1,
   "metadata": {},
   "outputs": [
    {
     "data": {
      "text/plain": [
       "RandomForestClassifier(bootstrap=True, ccp_alpha=0.0, class_weight=None,\n",
       "                       criterion='gini', max_depth=None, max_features='auto',\n",
       "                       max_leaf_nodes=None, max_samples=None,\n",
       "                       min_impurity_decrease=0.0, min_impurity_split=None,\n",
       "                       min_samples_leaf=1, min_samples_split=2,\n",
       "                       min_weight_fraction_leaf=0.0, n_estimators=100,\n",
       "                       n_jobs=None, oob_score=False, random_state=None,\n",
       "                       verbose=0, warm_start=False)"
      ]
     },
     "execution_count": 1,
     "metadata": {},
     "output_type": "execute_result"
    }
   ],
   "source": [
    "# we first build the model\n",
    "import pandas as pd\n",
    "telecom = pd.read_csv('data/telecom_case.csv',sep=',')\n",
    "telecom = telecom.drop(['servcon','acq_costs'],axis=1)\n",
    "telecom = telecom.dropna()\n",
    "telecom = pd.get_dummies(telecom,columns=['gender'])\n",
    "from sklearn.model_selection import train_test_split\n",
    "X = telecom.drop('switch',axis=1)\n",
    "y = telecom['switch']\n",
    "X_train, X_test, y_train, y_test = train_test_split(X,y,test_size=0.30)\n",
    "from sklearn.ensemble import RandomForestClassifier\n",
    "model = RandomForestClassifier(n_estimators=100)\n",
    "model.fit(X_train, y_train)"
   ]
  },
  {
   "cell_type": "code",
   "execution_count": 2,
   "metadata": {},
   "outputs": [
    {
     "data": {
      "text/plain": [
       "['../models/churn_prediction_model.joblib']"
      ]
     },
     "execution_count": 2,
     "metadata": {},
     "output_type": "execute_result"
    }
   ],
   "source": [
    "# we now save the model to a file\n",
    "# see https://scikit-learn.org/stable/modules/model_persistence.html\n",
    "from joblib import dump\n",
    "dump(model, '../models/churn_prediction_model.joblib') "
   ]
  },
  {
   "cell_type": "code",
   "execution_count": 3,
   "metadata": {},
   "outputs": [
    {
     "name": "stdout",
     "output_type": "stream",
     "text": [
      "(1, 1.0)\n",
      "(0, 0.93)\n"
     ]
    }
   ],
   "source": [
    "# We will now use this model to predict wether or not some current customers might leave or not.\n",
    "# This will typically be part of a end-user application and run e.g. weekly on the customer database\n",
    "\n",
    "def PredictSwitch(model,no_months,age,income,no_months_ctr,no_months_ctr_end,phones,age_head_hh,edu_head_hh,\n",
    "                  income_head_hh,house_type,work_situation,no_calls,no_minutes,no_msgs,\n",
    "                  no_calls6,no_minutes6,no_msgs6,gender):\n",
    "    import pandas as pd\n",
    "    customer=pd.DataFrame(columns=['no_months','age','income','no_months_ctr','no_months_ctr_end','phones',\n",
    "                    'age_head_hh','edu_head_hh','income_head_hh','house_type','work_situation',\n",
    "                    'no_calls','no_minutes','no_msgs','no_calls6','no_minutes6','no_msgs6','gender'])\n",
    "\n",
    "    new_customer = {'no_months':no_months,\n",
    "                    'age':age,\n",
    "                    'income':income,\n",
    "                    'no_months_ctr':no_months_ctr,\n",
    "                    'no_months_ctr_end':no_months_ctr_end,\n",
    "                    'phones':phones,\n",
    "                    'age_head_hh':age_head_hh,\n",
    "                    'edu_head_hh':edu_head_hh,\n",
    "                    'income_head_hh':income_head_hh,\n",
    "                    'house_type':house_type,\n",
    "                    'work_situation':work_situation,\n",
    "                    'no_calls':no_calls,\n",
    "                    'no_minutes':no_minutes,\n",
    "                    'no_msgs':no_msgs,\n",
    "                    'no_calls6':no_calls6,\n",
    "                    'no_minutes6':no_minutes6,\n",
    "                    'no_msgs6':no_msgs6,\n",
    "                    'gender':gender}\n",
    "    \n",
    "    customer = customer.append(new_customer,ignore_index=True)\n",
    "\n",
    "    if gender == 'M':\n",
    "        customer['gender_M'] = 1\n",
    "        customer['gender_V'] = 0\n",
    "    else:\n",
    "        customer['gender_M'] = 0\n",
    "        customer['gender_V'] = 1        \n",
    "    customer.drop(columns=['gender'],axis=1,inplace=True)\n",
    "\n",
    "    # we can't use pd.get_dummies here because not all values (M,V) are available\n",
    "    \n",
    "    switch = model.predict(customer)\n",
    "    \n",
    "    # most sklearn algorithms also offer a predict_proba method that returns an array of probabilities per class:\n",
    "    switch_proba = model.predict_proba(customer)\n",
    "    return switch[0],switch_proba[0].max()\n",
    "\n",
    "\n",
    "from joblib import load\n",
    "model = load('../models/churn_prediction_model.joblib')\n",
    "\n",
    "switch = PredictSwitch(model,no_months=28,age=21,income=531.35,no_months_ctr=17,no_months_ctr_end=15,phones=1,\n",
    "                       age_head_hh=3,\n",
    "                       edu_head_hh=2,income_head_hh=1,house_type=5,work_situation=1,no_calls=0,no_minutes=0,\n",
    "                       no_msgs=0,no_calls6=106,no_minutes6=98.02,no_msgs6=15,gender='M')\n",
    "\n",
    "print(switch)\n",
    "\n",
    "switch = PredictSwitch(model,no_months=24,age=46,income=300,no_months_ctr=20,no_months_ctr_end=7,phones=2,age_head_hh=46,\n",
    "                       edu_head_hh=2,income_head_hh=4,house_type=5,work_situation=1,no_calls=50,no_minutes=400,\n",
    "                       no_msgs=5,no_calls6=70,no_minutes6=8,no_msgs6=10,gender='M')\n",
    "\n",
    "print(switch)\n",
    "\n"
   ]
  },
  {
   "cell_type": "code",
   "execution_count": null,
   "metadata": {},
   "outputs": [],
   "source": []
  }
 ],
 "metadata": {
  "kernelspec": {
   "display_name": "Python 3",
   "language": "python",
   "name": "python3"
  },
  "language_info": {
   "codemirror_mode": {
    "name": "ipython",
    "version": 3
   },
   "file_extension": ".py",
   "mimetype": "text/x-python",
   "name": "python",
   "nbconvert_exporter": "python",
   "pygments_lexer": "ipython3",
   "version": "3.7.6"
  }
 },
 "nbformat": 4,
 "nbformat_minor": 4
}
