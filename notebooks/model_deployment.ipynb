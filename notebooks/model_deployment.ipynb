{
 "cells": [
  {
   "cell_type": "markdown",
   "metadata": {},
   "source": [
    "## Model Deployment\n",
    "In the previous chapters we focussed on creating predicton models. Jupyter notebooks are great in data exploration, transformation and cleaning and in model tuning and evaluation. However, once you are fine with your model is time to use is in practice. Therefore we save the model to a file so we can use it over and over again.  We illustrate this using the titanic ensemble case. \n",
    "\n",
    "We first build the model. This typically has to be done only once or has to be repeated to improve the model as new data comes in or old data becomes outdated. We then save this model to a file. \n",
    "\n",
    "We then write a function that takes the features of a single passenger as parameters. That function then uses the model to guess wether or not that passenger has survived.  In a production environment that function is used together with the saved model. "
   ]
  },
  {
   "cell_type": "code",
   "execution_count": 1,
   "metadata": {},
   "outputs": [
    {
     "output_type": "execute_result",
     "data": {
      "text/plain": [
       "VotingClassifier(estimators=[('lr', LogisticRegression(solver='newton-cg')),\n",
       "                             ('rf100', RandomForestClassifier()),\n",
       "                             ('rf150',\n",
       "                              RandomForestClassifier(n_estimators=150)),\n",
       "                             ('rf200',\n",
       "                              RandomForestClassifier(n_estimators=200)),\n",
       "                             ('rf250',\n",
       "                              RandomForestClassifier(n_estimators=250)),\n",
       "                             ('gnb', GaussianNB())],\n",
       "                 voting='soft')"
      ]
     },
     "metadata": {},
     "execution_count": 1
    }
   ],
   "source": [
    "# we first build the model. \n",
    "import pandas as pd\n",
    "url = 'https://raw.githubusercontent.com/HOGENT-Databases/DB3-Workshops/master/data/titanic.csv'\n",
    "titanic = pd.read_csv(url)\n",
    "titanic = titanic.drop(['PassengerId','Name','Ticket','Fare','Cabin','Embarked'],axis=1)\n",
    "titanic = titanic.dropna()\n",
    "titanic = pd.get_dummies(titanic, columns=[\"Sex\"], prefix=[\"Sex\"])\n",
    "from sklearn.model_selection import train_test_split\n",
    "X = titanic.drop('Survived',axis=1)\n",
    "y = titanic['Survived']\n",
    "X_train, X_test, y_train, y_test = train_test_split(X,y,test_size=0.30)\n",
    "from sklearn.naive_bayes import GaussianNB\n",
    "from sklearn.linear_model import LogisticRegression\n",
    "from sklearn.ensemble import RandomForestClassifier, VotingClassifier\n",
    "\n",
    "lr = LogisticRegression(solver='newton-cg')\n",
    "rf100 = RandomForestClassifier(n_estimators=100) \n",
    "rf150 = RandomForestClassifier(n_estimators=150) \n",
    "rf200 = RandomForestClassifier(n_estimators=200) \n",
    "rf250 = RandomForestClassifier(n_estimators=250) \n",
    "gnb =  GaussianNB()\n",
    "\n",
    "model = VotingClassifier(estimators=[('lr', lr), ('rf100', rf100),('rf150', rf150), ('rf200', rf200), \n",
    "                                     ('rf250', rf250), ('gnb', gnb)], voting='soft')\n",
    "model.fit(X_train, y_train)"
   ]
  },
  {
   "cell_type": "code",
   "execution_count": 3,
   "metadata": {},
   "outputs": [],
   "source": [
    "# we now save the model to a file\n",
    "# see https://scikit-learn.org/stable/modules/model_persistence.html\n",
    "\n",
    "from google.colab import drive\n",
    "drive.mount('/content/gdrive')\n",
    "from joblib import dump\n",
    "dump(model, '/content/gdrive/My Drive/survival_prediction_model.joblib')"
   ]
  },
  {
   "cell_type": "code",
   "execution_count": 3,
   "metadata": {},
   "outputs": [
    {
     "name": "stdout",
     "output_type": "stream",
     "text": [
      "(1, 1.0)\n",
      "(0, 0.93)\n"
     ]
    }
   ],
   "source": [
    "# We will now use this model to guess wether or not an unseen passenger (one that has not been used to build the model)\n",
    "# has survived or not. \n",
    "\n",
    "def PredictSurvival(model,Pclass,Sex,Age,SibSp,Parch):\n",
    "    import pandas as pd\n",
    "    passenger=pd.DataFrame(columns=['Pclass','Sex','Age','SibSp','Parch'])\n",
    "\n",
    "    new_passenger = {'Pclass':Pclass,\n",
    "                     'Sex':Sex,\n",
    "                     'Age':Age,\n",
    "                     'SibSp':SibSp,\n",
    "                     'Parch':Parch}\n",
    "    \n",
    "    passenger = passenger.append(new_passenger,ignore_index=True)\n",
    "\n",
    "    if Sex == 'male':\n",
    "        passenger['Sex_male'] = 1\n",
    "        passenger['Sex_female'] = 0\n",
    "    else:\n",
    "        passenger['Sex_male'] = 0\n",
    "        passenger['Sex_female'] = 1        \n",
    "    passenger.drop(columns=['Sex'],axis=1,inplace=True)\n",
    "\n",
    "    # we can't use pd.get_dummies here because not all values (male,female) are available\n",
    "    # for a single customer\n",
    "    \n",
    "    survived = model.predict(passenger)\n",
    "    \n",
    "    # most sklearn algorithms also offer a predict_proba method that returns an array of \n",
    "    # probabilities per class:\n",
    "    survived_proba = model.predict_proba(passenger)\n",
    "    return survived[0],survived_proba[0].max()\n",
    "\n",
    "\n",
    "from joblib import load\n",
    "model = load('/content/gdrive/My Drive/survival_prediction_model.joblib')\n",
    "\n",
    "survived = PredictSurvival(model,Pclass=3,Sex='male',Age=40,SibSp=0,Parch=0)\n",
    "\n",
    "print(survived)\n",
    "\n",
    "survived = PredictSurvival(model,Pclass=1,Sex='female',Age=27,SibSp=0,Parch=0)\n",
    "\n",
    "print(survived)\n",
    "\n"
   ]
  },
  {
   "cell_type": "code",
   "execution_count": null,
   "metadata": {},
   "outputs": [],
   "source": []
  }
 ],
 "metadata": {
  "kernelspec": {
   "display_name": "Python 3",
   "language": "python",
   "name": "python3"
  },
  "language_info": {
   "codemirror_mode": {
    "name": "ipython",
    "version": 3
   },
   "file_extension": ".py",
   "mimetype": "text/x-python",
   "name": "python",
   "nbconvert_exporter": "python",
   "pygments_lexer": "ipython3",
   "version": "3.8.3-final"
  }
 },
 "nbformat": 4,
 "nbformat_minor": 4
}