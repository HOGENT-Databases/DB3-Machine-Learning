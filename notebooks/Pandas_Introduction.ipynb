{
 "cells": [
  {
   "cell_type": "markdown",
   "metadata": {},
   "source": [
    "# Pandas Introduction"
   ]
  },
  {
   "cell_type": "markdown",
   "metadata": {},
   "source": [
    "Pandas is one of the most widely used python libraries in data science. \n",
    "It provides high-performance, easy to use structures and data analysis tools. \n",
    "It also provides an in-memory 2d table object called Dataframe. \n",
    "This can be compared to a spreadsheet with column names and row labels.\n",
    "Hence, with 2d tables, pandas is capable of providing many additional functionalities \n",
    "like creating pivot tables, computing columns based on other columns and plotting graphs."
   ]
  },
  {
   "cell_type": "code",
   "execution_count": 10,
   "metadata": {},
   "outputs": [],
   "source": [
    "import pandas as pd"
   ]
  },
  {
   "cell_type": "markdown",
   "metadata": {},
   "source": [
    "### Pandas Series"
   ]
  },
  {
   "cell_type": "markdown",
   "metadata": {},
   "source": [
    "A Pandas Series is a one-dimensional array of indexed data. \n",
    "It can be created from a list or array and used as follows."
   ]
  },
  {
   "cell_type": "code",
   "execution_count": 11,
   "metadata": {},
   "outputs": [
    {
     "data": {
      "text/plain": [
       "0    0.25\n",
       "1    0.50\n",
       "2    0.75\n",
       "3    0.10\n",
       "dtype: float64"
      ]
     },
     "execution_count": 11,
     "metadata": {},
     "output_type": "execute_result"
    }
   ],
   "source": [
    "data = pd.Series([0.25,0.5,0.75,0.1])\n",
    "data"
   ]
  },
  {
   "cell_type": "code",
   "execution_count": 12,
   "metadata": {},
   "outputs": [
    {
     "data": {
      "text/plain": [
       "array([0.25, 0.5 , 0.75, 0.1 ])"
      ]
     },
     "execution_count": 12,
     "metadata": {},
     "output_type": "execute_result"
    }
   ],
   "source": [
    "data.values"
   ]
  },
  {
   "cell_type": "code",
   "execution_count": 13,
   "metadata": {},
   "outputs": [
    {
     "data": {
      "text/plain": [
       "RangeIndex(start=0, stop=4, step=1)"
      ]
     },
     "execution_count": 13,
     "metadata": {},
     "output_type": "execute_result"
    }
   ],
   "source": [
    "# The index is an array-like object of type pd.Index\n",
    "data.index"
   ]
  },
  {
   "cell_type": "markdown",
   "metadata": {},
   "source": [
    "Data can be accessed by the associated index via the Python square-bracket notation:"
   ]
  },
  {
   "cell_type": "code",
   "execution_count": 14,
   "metadata": {},
   "outputs": [
    {
     "name": "stdout",
     "output_type": "stream",
     "text": [
      "0.5\n",
      "1    0.50\n",
      "2    0.75\n",
      "dtype: float64\n"
     ]
    }
   ],
   "source": [
    "print(data[1])\n",
    "print(data[1:3])"
   ]
  },
  {
   "cell_type": "markdown",
   "metadata": {},
   "source": [
    "The Pandas Series has an explicitly defined index associated with\n",
    "the values.This explicit index definition gives the Series object additional capabilities. \n",
    "For example, the index need not to be an integer, but can be any value of any desired type.\n",
    "For example, if we wish, we can use strings as an index:"
   ]
  },
  {
   "cell_type": "code",
   "execution_count": 15,
   "metadata": {},
   "outputs": [
    {
     "name": "stdout",
     "output_type": "stream",
     "text": [
      "a    0.25\n",
      "b    0.50\n",
      "c    0.75\n",
      "d    1.00\n",
      "dtype: float64\n",
      "0.5\n"
     ]
    }
   ],
   "source": [
    "data = pd.Series([0.25, 0.5, 0.75, 1.0],index=['a', 'b', 'c', 'd'])\n",
    "print(data)\n",
    "print(data['b'])"
   ]
  },
  {
   "cell_type": "markdown",
   "metadata": {},
   "source": [
    "In this way, you can think of a Pandas Series as a Python dictionary\n",
    "A dictionary is a structure that maps arbitrary keys to a set of arbitrary\n",
    "values, and a Series is a structure that maps typed keys to a set of typed values. This\n",
    "typing is important: the type information of a Pandas Series makes \n",
    "it much more efficient than Python dictionaries for certain operations."
   ]
  },
  {
   "cell_type": "markdown",
   "metadata": {},
   "source": [
    "You can also construct a Series object from a Python dictionary: "
   ]
  },
  {
   "cell_type": "code",
   "execution_count": 16,
   "metadata": {},
   "outputs": [
    {
     "name": "stdout",
     "output_type": "stream",
     "text": [
      "Antwerpen    525935\n",
      "Gent         262219\n",
      "Brugge       118325\n",
      "Mechelen      86616\n",
      "Aalst         86445\n",
      "Kortrijk      76735\n",
      "Oostende      71494\n",
      "Genk          66227\n",
      "dtype: int64\n",
      "118325\n"
     ]
    }
   ],
   "source": [
    "city_population = {\"Antwerpen\":525935, \"Gent\":262219, \"Brugge\":118325, \"Mechelen\":86616, \"Aalst\":86445, \"Kortrijk\":76735, \"Oostende\":71494, \"Genk\":66227}\n",
    "population = pd.Series(city_population)\n",
    "print(population)\n",
    "print(population['Brugge'])"
   ]
  },
  {
   "cell_type": "markdown",
   "metadata": {},
   "source": [
    "Unlike a dictionary, though, the Series also supports array-style operations such as slicing:"
   ]
  },
  {
   "cell_type": "code",
   "execution_count": 17,
   "metadata": {},
   "outputs": [
    {
     "data": {
      "text/plain": [
       "Gent        262219\n",
       "Brugge      118325\n",
       "Mechelen     86616\n",
       "Aalst        86445\n",
       "Kortrijk     76735\n",
       "Oostende     71494\n",
       "dtype: int64"
      ]
     },
     "execution_count": 17,
     "metadata": {},
     "output_type": "execute_result"
    }
   ],
   "source": [
    "population['Gent':'Oostende']"
   ]
  },
  {
   "cell_type": "markdown",
   "metadata": {},
   "source": [
    "### Pandas Dataframe"
   ]
  },
  {
   "cell_type": "markdown",
   "metadata": {},
   "source": [
    "- a Series is the analog of a one-dimensional array with flexible indices\n",
    "- a DataFrame is the analog of a two-dimensional array with both flexible row indices and flexible column names.  \n",
    "  \n",
    "Let's first create a new Series"
   ]
  },
  {
   "cell_type": "code",
   "execution_count": 18,
   "metadata": {},
   "outputs": [
    {
     "name": "stdout",
     "output_type": "stream",
     "text": [
      "{'Antwerpen': 204.51, 'Gent': 156.18, 'Brugge': 138.4, 'Mechelen': 33.71, 'Aalst': 78.12, 'Kortrijk': 80.02, 'Oostende': 37.72, 'Genk': 87.85}\n",
      "Antwerpen    204.51\n",
      "Gent         156.18\n",
      "Brugge       138.40\n",
      "Mechelen      33.71\n",
      "Aalst         78.12\n",
      "Kortrijk      80.02\n",
      "Oostende      37.72\n",
      "Genk          87.85\n",
      "dtype: float64\n"
     ]
    }
   ],
   "source": [
    "city_area = {\"Antwerpen\":204.51, \"Gent\":156.18, \"Brugge\":138.40, \"Mechelen\":33.71, \"Aalst\":78.12, \"Kortrijk\":80.02, \"Oostende\":37.72, \"Genk\":87.85}\n",
    "print(city_area)\n",
    "area = pd.Series(city_area)\n",
    "print(area)"
   ]
  },
  {
   "cell_type": "markdown",
   "metadata": {},
   "source": [
    "Now along with the population Series from before, we can use a\n",
    "dictionary to construct a single two-dimensional object containing this information:"
   ]
  },
  {
   "cell_type": "code",
   "execution_count": 19,
   "metadata": {},
   "outputs": [
    {
     "name": "stdout",
     "output_type": "stream",
     "text": [
      "           population    area\n",
      "Antwerpen      525935  204.51\n",
      "Gent           262219  156.18\n",
      "Brugge         118325  138.40\n",
      "Mechelen        86616   33.71\n",
      "Aalst           86445   78.12\n",
      "Kortrijk        76735   80.02\n",
      "Oostende        71494   37.72\n",
      "Genk            66227   87.85\n"
     ]
    }
   ],
   "source": [
    "cities = pd.DataFrame({'population': population,'area': area})\n",
    "print(cities)"
   ]
  },
  {
   "cell_type": "markdown",
   "metadata": {},
   "source": [
    "Like the Series object, the DataFrame has an index attribute that gives access to the index labels:"
   ]
  },
  {
   "cell_type": "code",
   "execution_count": 20,
   "metadata": {},
   "outputs": [
    {
     "name": "stdout",
     "output_type": "stream",
     "text": [
      "Index(['Antwerpen', 'Gent', 'Brugge', 'Mechelen', 'Aalst', 'Kortrijk',\n",
      "       'Oostende', 'Genk'],\n",
      "      dtype='object')\n"
     ]
    }
   ],
   "source": [
    "print(cities.index)"
   ]
  },
  {
   "cell_type": "markdown",
   "metadata": {},
   "source": [
    "Additionally, the DataFrame has a columns attribute, which is an Index object holding the column labels:"
   ]
  },
  {
   "cell_type": "code",
   "execution_count": 21,
   "metadata": {},
   "outputs": [
    {
     "data": {
      "text/plain": [
       "Index(['population', 'area'], dtype='object')"
      ]
     },
     "execution_count": 21,
     "metadata": {},
     "output_type": "execute_result"
    }
   ],
   "source": [
    "cities.columns"
   ]
  },
  {
   "cell_type": "markdown",
   "metadata": {},
   "source": [
    "We can also think of a DataFrame as a specialization of a dictionary. Where\n",
    "a dictionary maps a key to a value, a DataFrame maps a column name to a Series of\n",
    "column data. For example, asking for the 'area' attribute returns the Series object\n",
    "containing the areas we saw earlier:"
   ]
  },
  {
   "cell_type": "code",
   "execution_count": 22,
   "metadata": {},
   "outputs": [
    {
     "name": "stdout",
     "output_type": "stream",
     "text": [
      "Antwerpen    204.51\n",
      "Gent         156.18\n",
      "Brugge       138.40\n",
      "Mechelen      33.71\n",
      "Aalst         78.12\n",
      "Kortrijk      80.02\n",
      "Oostende      37.72\n",
      "Genk          87.85\n",
      "Name: area, dtype: float64\n"
     ]
    }
   ],
   "source": [
    "print(cities['area'])"
   ]
  },
  {
   "cell_type": "code",
   "execution_count": null,
   "metadata": {},
   "outputs": [],
   "source": []
  }
 ],
 "metadata": {
  "kernelspec": {
   "display_name": "Python 3",
   "language": "python",
   "name": "python3"
  },
  "language_info": {
   "codemirror_mode": {
    "name": "ipython",
    "version": 3
   },
   "file_extension": ".py",
   "mimetype": "text/x-python",
   "name": "python",
   "nbconvert_exporter": "python",
   "pygments_lexer": "ipython3",
   "version": "3.7.6"
  }
 },
 "nbformat": 4,
 "nbformat_minor": 2
}
