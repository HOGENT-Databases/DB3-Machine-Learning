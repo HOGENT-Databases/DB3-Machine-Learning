{
 "cells": [
  {
   "cell_type": "markdown",
   "metadata": {},
   "source": [
    "## Pandas analytics: case Parking"
   ]
  },
  {
   "cell_type": "code",
   "execution_count": 1,
   "metadata": {},
   "outputs": [
    {
     "output_type": "execute_result",
     "data": {
      "text/plain": [
       "             LastModified                   Name  Available  Capacity  Open\n",
       "0     2018-10-24 23:38:00       P01 Vrijdagmarkt        430       647  True\n",
       "1     2018-10-24 23:38:00              P08 Ramen        147       266  True\n",
       "2     2018-10-24 23:38:00               P02 Reep        383       470  True\n",
       "3     2018-10-24 23:34:00  P10 Sint-Pietersplein        575       708  True\n",
       "4     2018-10-24 23:43:00       P01 Vrijdagmarkt        433       647  True\n",
       "...                   ...                    ...        ...       ...   ...\n",
       "2375  2018-10-29 14:59:00  P10 Sint-Pietersplein        261       708  True\n",
       "2376  2018-10-29 14:59:00       P01 Vrijdagmarkt        106       647  True\n",
       "2377  2018-10-29 14:57:00       P04 Savaanstraat        236       540  True\n",
       "2378  2018-10-29 14:56:00              P08 Ramen         83       266  True\n",
       "2379  2018-10-29 14:56:00               P02 Reep        269       470  True\n",
       "\n",
       "[2380 rows x 5 columns]"
      ],
      "text/html": "<div>\n<style scoped>\n    .dataframe tbody tr th:only-of-type {\n        vertical-align: middle;\n    }\n\n    .dataframe tbody tr th {\n        vertical-align: top;\n    }\n\n    .dataframe thead th {\n        text-align: right;\n    }\n</style>\n<table border=\"1\" class=\"dataframe\">\n  <thead>\n    <tr style=\"text-align: right;\">\n      <th></th>\n      <th>LastModified</th>\n      <th>Name</th>\n      <th>Available</th>\n      <th>Capacity</th>\n      <th>Open</th>\n    </tr>\n  </thead>\n  <tbody>\n    <tr>\n      <th>0</th>\n      <td>2018-10-24 23:38:00</td>\n      <td>P01 Vrijdagmarkt</td>\n      <td>430</td>\n      <td>647</td>\n      <td>True</td>\n    </tr>\n    <tr>\n      <th>1</th>\n      <td>2018-10-24 23:38:00</td>\n      <td>P08 Ramen</td>\n      <td>147</td>\n      <td>266</td>\n      <td>True</td>\n    </tr>\n    <tr>\n      <th>2</th>\n      <td>2018-10-24 23:38:00</td>\n      <td>P02 Reep</td>\n      <td>383</td>\n      <td>470</td>\n      <td>True</td>\n    </tr>\n    <tr>\n      <th>3</th>\n      <td>2018-10-24 23:34:00</td>\n      <td>P10 Sint-Pietersplein</td>\n      <td>575</td>\n      <td>708</td>\n      <td>True</td>\n    </tr>\n    <tr>\n      <th>4</th>\n      <td>2018-10-24 23:43:00</td>\n      <td>P01 Vrijdagmarkt</td>\n      <td>433</td>\n      <td>647</td>\n      <td>True</td>\n    </tr>\n    <tr>\n      <th>...</th>\n      <td>...</td>\n      <td>...</td>\n      <td>...</td>\n      <td>...</td>\n      <td>...</td>\n    </tr>\n    <tr>\n      <th>2375</th>\n      <td>2018-10-29 14:59:00</td>\n      <td>P10 Sint-Pietersplein</td>\n      <td>261</td>\n      <td>708</td>\n      <td>True</td>\n    </tr>\n    <tr>\n      <th>2376</th>\n      <td>2018-10-29 14:59:00</td>\n      <td>P01 Vrijdagmarkt</td>\n      <td>106</td>\n      <td>647</td>\n      <td>True</td>\n    </tr>\n    <tr>\n      <th>2377</th>\n      <td>2018-10-29 14:57:00</td>\n      <td>P04 Savaanstraat</td>\n      <td>236</td>\n      <td>540</td>\n      <td>True</td>\n    </tr>\n    <tr>\n      <th>2378</th>\n      <td>2018-10-29 14:56:00</td>\n      <td>P08 Ramen</td>\n      <td>83</td>\n      <td>266</td>\n      <td>True</td>\n    </tr>\n    <tr>\n      <th>2379</th>\n      <td>2018-10-29 14:56:00</td>\n      <td>P02 Reep</td>\n      <td>269</td>\n      <td>470</td>\n      <td>True</td>\n    </tr>\n  </tbody>\n</table>\n<p>2380 rows × 5 columns</p>\n</div>"
     },
     "metadata": {},
     "execution_count": 1
    }
   ],
   "source": [
    "# read the file parking.csv into a dataframe\n",
    "# it contains historical information about the available parking spots in 6 city parking garages in Gent\n",
    "import pandas as pd\n",
    "url = 'https://raw.githubusercontent.com/HOGENT-Databases/DB3-Workshops/master/data/parking.csv'\n",
    "parking = pd.read_csv(url)\n",
    "parking"
   ]
  },
  {
   "cell_type": "code",
   "execution_count": 2,
   "metadata": {},
   "outputs": [],
   "source": [
    "# drop lines with duplicate \"LastModified\" field and keep the last line \n",
    "parking = parking.drop_duplicates(subset=['LastModified','Name'],keep='last')"
   ]
  },
  {
   "cell_type": "code",
   "execution_count": 4,
   "metadata": {},
   "outputs": [
    {
     "output_type": "execute_result",
     "data": {
      "text/plain": [
       "           date\n",
       "0    2017-12-23\n",
       "1    2017-12-24\n",
       "2    2017-12-25\n",
       "3    2017-12-26\n",
       "4    2017-12-27\n",
       "..          ...\n",
       "137  2019-01-02\n",
       "138  2019-01-03\n",
       "139  2019-01-04\n",
       "140  2019-01-05\n",
       "141  2019-01-06\n",
       "\n",
       "[142 rows x 1 columns]"
      ],
      "text/html": "<div>\n<style scoped>\n    .dataframe tbody tr th:only-of-type {\n        vertical-align: middle;\n    }\n\n    .dataframe tbody tr th {\n        vertical-align: top;\n    }\n\n    .dataframe thead th {\n        text-align: right;\n    }\n</style>\n<table border=\"1\" class=\"dataframe\">\n  <thead>\n    <tr style=\"text-align: right;\">\n      <th></th>\n      <th>date</th>\n    </tr>\n  </thead>\n  <tbody>\n    <tr>\n      <th>0</th>\n      <td>2017-12-23</td>\n    </tr>\n    <tr>\n      <th>1</th>\n      <td>2017-12-24</td>\n    </tr>\n    <tr>\n      <th>2</th>\n      <td>2017-12-25</td>\n    </tr>\n    <tr>\n      <th>3</th>\n      <td>2017-12-26</td>\n    </tr>\n    <tr>\n      <th>4</th>\n      <td>2017-12-27</td>\n    </tr>\n    <tr>\n      <th>...</th>\n      <td>...</td>\n    </tr>\n    <tr>\n      <th>137</th>\n      <td>2019-01-02</td>\n    </tr>\n    <tr>\n      <th>138</th>\n      <td>2019-01-03</td>\n    </tr>\n    <tr>\n      <th>139</th>\n      <td>2019-01-04</td>\n    </tr>\n    <tr>\n      <th>140</th>\n      <td>2019-01-05</td>\n    </tr>\n    <tr>\n      <th>141</th>\n      <td>2019-01-06</td>\n    </tr>\n  </tbody>\n</table>\n<p>142 rows × 1 columns</p>\n</div>"
     },
     "metadata": {},
     "execution_count": 4
    }
   ],
   "source": [
    "# read the file holidays.csv into a dataframe\n",
    "# it contains the official school holidays\n",
    "holidays = pd.read_csv('https://raw.githubusercontent.com/HOGENT-Databases/DB3-Workshops/master/data/holidays.csv')\n",
    "holidays"
   ]
  },
  {
   "cell_type": "code",
   "execution_count": 5,
   "metadata": {},
   "outputs": [
    {
     "output_type": "execute_result",
     "data": {
      "text/plain": [
       "          LastModified                   Name  Available  Capacity  Open  \\\n",
       "0  2018-10-24 23:38:00       P01 Vrijdagmarkt        430       647  True   \n",
       "1  2018-10-24 23:38:00              P08 Ramen        147       266  True   \n",
       "2  2018-10-24 23:38:00               P02 Reep        383       470  True   \n",
       "3  2018-10-24 23:34:00  P10 Sint-Pietersplein        575       708  True   \n",
       "4  2018-10-24 23:43:00       P01 Vrijdagmarkt        433       647  True   \n",
       "\n",
       "         date  \n",
       "0  2018-10-24  \n",
       "1  2018-10-24  \n",
       "2  2018-10-24  \n",
       "3  2018-10-24  \n",
       "4  2018-10-24  "
      ],
      "text/html": "<div>\n<style scoped>\n    .dataframe tbody tr th:only-of-type {\n        vertical-align: middle;\n    }\n\n    .dataframe tbody tr th {\n        vertical-align: top;\n    }\n\n    .dataframe thead th {\n        text-align: right;\n    }\n</style>\n<table border=\"1\" class=\"dataframe\">\n  <thead>\n    <tr style=\"text-align: right;\">\n      <th></th>\n      <th>LastModified</th>\n      <th>Name</th>\n      <th>Available</th>\n      <th>Capacity</th>\n      <th>Open</th>\n      <th>date</th>\n    </tr>\n  </thead>\n  <tbody>\n    <tr>\n      <th>0</th>\n      <td>2018-10-24 23:38:00</td>\n      <td>P01 Vrijdagmarkt</td>\n      <td>430</td>\n      <td>647</td>\n      <td>True</td>\n      <td>2018-10-24</td>\n    </tr>\n    <tr>\n      <th>1</th>\n      <td>2018-10-24 23:38:00</td>\n      <td>P08 Ramen</td>\n      <td>147</td>\n      <td>266</td>\n      <td>True</td>\n      <td>2018-10-24</td>\n    </tr>\n    <tr>\n      <th>2</th>\n      <td>2018-10-24 23:38:00</td>\n      <td>P02 Reep</td>\n      <td>383</td>\n      <td>470</td>\n      <td>True</td>\n      <td>2018-10-24</td>\n    </tr>\n    <tr>\n      <th>3</th>\n      <td>2018-10-24 23:34:00</td>\n      <td>P10 Sint-Pietersplein</td>\n      <td>575</td>\n      <td>708</td>\n      <td>True</td>\n      <td>2018-10-24</td>\n    </tr>\n    <tr>\n      <th>4</th>\n      <td>2018-10-24 23:43:00</td>\n      <td>P01 Vrijdagmarkt</td>\n      <td>433</td>\n      <td>647</td>\n      <td>True</td>\n      <td>2018-10-24</td>\n    </tr>\n  </tbody>\n</table>\n</div>"
     },
     "metadata": {},
     "execution_count": 5
    }
   ],
   "source": [
    "# add a column \"holiday\" to the parking dataframe that contains \"1\" if the corresponding date is a holiday an \"0\" if it's not\n",
    "parking['date'] = parking['LastModified'].str[0:10]\n",
    "parking.head()"
   ]
  },
  {
   "cell_type": "code",
   "execution_count": 6,
   "metadata": {},
   "outputs": [
    {
     "output_type": "execute_result",
     "data": {
      "text/plain": [
       "         date  holiday\n",
       "0  2017-12-23        1\n",
       "1  2017-12-24        1\n",
       "2  2017-12-25        1\n",
       "3  2017-12-26        1\n",
       "4  2017-12-27        1"
      ],
      "text/html": "<div>\n<style scoped>\n    .dataframe tbody tr th:only-of-type {\n        vertical-align: middle;\n    }\n\n    .dataframe tbody tr th {\n        vertical-align: top;\n    }\n\n    .dataframe thead th {\n        text-align: right;\n    }\n</style>\n<table border=\"1\" class=\"dataframe\">\n  <thead>\n    <tr style=\"text-align: right;\">\n      <th></th>\n      <th>date</th>\n      <th>holiday</th>\n    </tr>\n  </thead>\n  <tbody>\n    <tr>\n      <th>0</th>\n      <td>2017-12-23</td>\n      <td>1</td>\n    </tr>\n    <tr>\n      <th>1</th>\n      <td>2017-12-24</td>\n      <td>1</td>\n    </tr>\n    <tr>\n      <th>2</th>\n      <td>2017-12-25</td>\n      <td>1</td>\n    </tr>\n    <tr>\n      <th>3</th>\n      <td>2017-12-26</td>\n      <td>1</td>\n    </tr>\n    <tr>\n      <th>4</th>\n      <td>2017-12-27</td>\n      <td>1</td>\n    </tr>\n  </tbody>\n</table>\n</div>"
     },
     "metadata": {},
     "execution_count": 6
    }
   ],
   "source": [
    "holidays['holiday'] = 1\n",
    "holidays.head()"
   ]
  },
  {
   "cell_type": "code",
   "execution_count": 7,
   "metadata": {},
   "outputs": [],
   "source": [
    "parking = pd.merge(parking,holidays,left_on='date',right_on='date',how='left').fillna(0).drop(['date','Open'],axis=1)"
   ]
  },
  {
   "cell_type": "code",
   "execution_count": 8,
   "metadata": {},
   "outputs": [
    {
     "output_type": "stream",
     "name": "stdout",
     "text": [
      "             LastModified                   Name  Available  Capacity  holiday\n2330  2018-10-29 13:28:00              P08 Ramen         80       266      1.0\n2331  2018-10-29 13:27:00               P02 Reep        295       470      1.0\n2332  2018-10-29 13:44:00      P07 Sint-Michiels        130       450      1.0\n2333  2018-10-29 13:44:00  P10 Sint-Pietersplein        372       708      1.0\n2334  2018-10-29 13:44:00       P01 Vrijdagmarkt         75       647      1.0\n2335  2018-10-29 13:40:00       P04 Savaanstraat        227       540      1.0\n2336  2018-10-29 13:41:00              P08 Ramen         80       266      1.0\n2337  2018-10-29 13:44:00               P02 Reep        290       470      1.0\n2338  2018-10-29 13:59:00      P07 Sint-Michiels        124       450      1.0\n2339  2018-10-29 13:59:00  P10 Sint-Pietersplein        328       708      1.0\n2340  2018-10-29 13:58:00       P01 Vrijdagmarkt         61       647      1.0\n2341  2018-10-29 13:59:00       P04 Savaanstraat        225       540      1.0\n2342  2018-10-29 13:57:00              P08 Ramen         82       266      1.0\n2343  2018-10-29 13:59:00               P02 Reep        284       470      1.0\n2344  2018-10-29 14:06:00      P07 Sint-Michiels        125       450      1.0\n2345  2018-10-29 14:06:00  P10 Sint-Pietersplein        307       708      1.0\n2346  2018-10-29 14:06:00       P01 Vrijdagmarkt         67       647      1.0\n2347  2018-10-29 14:06:00       P04 Savaanstraat        228       540      1.0\n2348  2018-10-29 14:04:00              P08 Ramen         82       266      1.0\n2349  2018-10-29 14:06:00               P02 Reep        285       470      1.0\n2350  2018-10-29 14:14:00      P07 Sint-Michiels        122       450      1.0\n2351  2018-10-29 14:14:00  P10 Sint-Pietersplein        287       708      1.0\n2352  2018-10-29 14:14:00       P01 Vrijdagmarkt         71       647      1.0\n2353  2018-10-29 14:13:00       P04 Savaanstraat        233       540      1.0\n2354  2018-10-29 14:13:00              P08 Ramen         82       266      1.0\n2355  2018-10-29 14:13:00               P02 Reep        286       470      1.0\n2356  2018-10-29 14:27:00      P07 Sint-Michiels        119       450      1.0\n2357  2018-10-29 14:29:00  P10 Sint-Pietersplein        275       708      1.0\n2358  2018-10-29 14:29:00       P01 Vrijdagmarkt         95       647      1.0\n2359  2018-10-29 14:29:00       P04 Savaanstraat        227       540      1.0\n2360  2018-10-29 14:29:00              P08 Ramen         82       266      1.0\n2361  2018-10-29 14:28:00               P02 Reep        275       470      1.0\n2362  2018-10-29 14:35:00      P07 Sint-Michiels        109       450      1.0\n2363  2018-10-29 14:36:00  P10 Sint-Pietersplein        262       708      1.0\n2364  2018-10-29 14:37:00       P01 Vrijdagmarkt        111       647      1.0\n2365  2018-10-29 14:36:00       P04 Savaanstraat        227       540      1.0\n2366  2018-10-29 14:37:00              P08 Ramen         81       266      1.0\n2367  2018-10-29 14:36:00               P02 Reep        273       470      1.0\n2368  2018-10-29 14:44:00      P07 Sint-Michiels        111       450      1.0\n2369  2018-10-29 14:44:00  P10 Sint-Pietersplein        262       708      1.0\n2370  2018-10-29 14:44:00       P01 Vrijdagmarkt        104       647      1.0\n2371  2018-10-29 14:44:00       P04 Savaanstraat        235       540      1.0\n2372  2018-10-29 14:44:00              P08 Ramen         84       266      1.0\n2373  2018-10-29 14:44:00               P02 Reep        269       470      1.0\n2374  2018-10-29 14:59:00      P07 Sint-Michiels        124       450      1.0\n2375  2018-10-29 14:59:00  P10 Sint-Pietersplein        261       708      1.0\n2376  2018-10-29 14:59:00       P01 Vrijdagmarkt        106       647      1.0\n2377  2018-10-29 14:57:00       P04 Savaanstraat        236       540      1.0\n2378  2018-10-29 14:56:00              P08 Ramen         83       266      1.0\n2379  2018-10-29 14:56:00               P02 Reep        269       470      1.0\n"
     ]
    }
   ],
   "source": [
    "print(parking.tail(50))"
   ]
  },
  {
   "cell_type": "code",
   "execution_count": 9,
   "metadata": {},
   "outputs": [
    {
     "output_type": "execute_result",
     "data": {
      "text/plain": [
       "             LastModified                   Name  Available  Capacity  holiday\n",
       "1029  2018-10-27 00:14:00      P07 Sint-Michiels        196       450      1.0\n",
       "1030  2018-10-27 00:14:00  P10 Sint-Pietersplein        555       708      1.0\n",
       "1031  2018-10-27 00:13:00       P01 Vrijdagmarkt        208       647      1.0\n",
       "1032  2018-10-27 00:14:00       P04 Savaanstraat        521       540      1.0\n",
       "1033  2018-10-27 00:13:00              P08 Ramen         52       266      1.0\n",
       "...                   ...                    ...        ...       ...      ...\n",
       "2375  2018-10-29 14:59:00  P10 Sint-Pietersplein        261       708      1.0\n",
       "2376  2018-10-29 14:59:00       P01 Vrijdagmarkt        106       647      1.0\n",
       "2377  2018-10-29 14:57:00       P04 Savaanstraat        236       540      1.0\n",
       "2378  2018-10-29 14:56:00              P08 Ramen         83       266      1.0\n",
       "2379  2018-10-29 14:56:00               P02 Reep        269       470      1.0\n",
       "\n",
       "[1351 rows x 5 columns]"
      ],
      "text/html": "<div>\n<style scoped>\n    .dataframe tbody tr th:only-of-type {\n        vertical-align: middle;\n    }\n\n    .dataframe tbody tr th {\n        vertical-align: top;\n    }\n\n    .dataframe thead th {\n        text-align: right;\n    }\n</style>\n<table border=\"1\" class=\"dataframe\">\n  <thead>\n    <tr style=\"text-align: right;\">\n      <th></th>\n      <th>LastModified</th>\n      <th>Name</th>\n      <th>Available</th>\n      <th>Capacity</th>\n      <th>holiday</th>\n    </tr>\n  </thead>\n  <tbody>\n    <tr>\n      <th>1029</th>\n      <td>2018-10-27 00:14:00</td>\n      <td>P07 Sint-Michiels</td>\n      <td>196</td>\n      <td>450</td>\n      <td>1.0</td>\n    </tr>\n    <tr>\n      <th>1030</th>\n      <td>2018-10-27 00:14:00</td>\n      <td>P10 Sint-Pietersplein</td>\n      <td>555</td>\n      <td>708</td>\n      <td>1.0</td>\n    </tr>\n    <tr>\n      <th>1031</th>\n      <td>2018-10-27 00:13:00</td>\n      <td>P01 Vrijdagmarkt</td>\n      <td>208</td>\n      <td>647</td>\n      <td>1.0</td>\n    </tr>\n    <tr>\n      <th>1032</th>\n      <td>2018-10-27 00:14:00</td>\n      <td>P04 Savaanstraat</td>\n      <td>521</td>\n      <td>540</td>\n      <td>1.0</td>\n    </tr>\n    <tr>\n      <th>1033</th>\n      <td>2018-10-27 00:13:00</td>\n      <td>P08 Ramen</td>\n      <td>52</td>\n      <td>266</td>\n      <td>1.0</td>\n    </tr>\n    <tr>\n      <th>...</th>\n      <td>...</td>\n      <td>...</td>\n      <td>...</td>\n      <td>...</td>\n      <td>...</td>\n    </tr>\n    <tr>\n      <th>2375</th>\n      <td>2018-10-29 14:59:00</td>\n      <td>P10 Sint-Pietersplein</td>\n      <td>261</td>\n      <td>708</td>\n      <td>1.0</td>\n    </tr>\n    <tr>\n      <th>2376</th>\n      <td>2018-10-29 14:59:00</td>\n      <td>P01 Vrijdagmarkt</td>\n      <td>106</td>\n      <td>647</td>\n      <td>1.0</td>\n    </tr>\n    <tr>\n      <th>2377</th>\n      <td>2018-10-29 14:57:00</td>\n      <td>P04 Savaanstraat</td>\n      <td>236</td>\n      <td>540</td>\n      <td>1.0</td>\n    </tr>\n    <tr>\n      <th>2378</th>\n      <td>2018-10-29 14:56:00</td>\n      <td>P08 Ramen</td>\n      <td>83</td>\n      <td>266</td>\n      <td>1.0</td>\n    </tr>\n    <tr>\n      <th>2379</th>\n      <td>2018-10-29 14:56:00</td>\n      <td>P02 Reep</td>\n      <td>269</td>\n      <td>470</td>\n      <td>1.0</td>\n    </tr>\n  </tbody>\n</table>\n<p>1351 rows × 5 columns</p>\n</div>"
     },
     "metadata": {},
     "execution_count": 9
    }
   ],
   "source": [
    "parking[parking['holiday']==1]"
   ]
  },
  {
   "cell_type": "code",
   "execution_count": 12,
   "metadata": {},
   "outputs": [
    {
     "output_type": "error",
     "ename": "ModuleNotFoundError",
     "evalue": "No module named 'google.colab'",
     "traceback": [
      "\u001b[1;31m---------------------------------------------------------------------------\u001b[0m",
      "\u001b[1;31mModuleNotFoundError\u001b[0m                       Traceback (most recent call last)",
      "\u001b[1;32m<ipython-input-12-80d30bd4a2ae>\u001b[0m in \u001b[0;36m<module>\u001b[1;34m\u001b[0m\n\u001b[1;32m----> 1\u001b[1;33m \u001b[1;32mfrom\u001b[0m \u001b[0mgoogle\u001b[0m\u001b[1;33m.\u001b[0m\u001b[0mcolab\u001b[0m \u001b[1;32mimport\u001b[0m \u001b[0mdrive\u001b[0m\u001b[1;33m\u001b[0m\u001b[1;33m\u001b[0m\u001b[0m\n\u001b[0m\u001b[0;32m      2\u001b[0m \u001b[0mdrive\u001b[0m\u001b[1;33m.\u001b[0m\u001b[0mmount\u001b[0m\u001b[1;33m(\u001b[0m\u001b[1;34m'/content/gdrive'\u001b[0m\u001b[1;33m)\u001b[0m\u001b[1;33m\u001b[0m\u001b[1;33m\u001b[0m\u001b[0m\n\u001b[0;32m      3\u001b[0m \u001b[0mparking\u001b[0m\u001b[1;33m.\u001b[0m\u001b[0mto_csv\u001b[0m\u001b[1;33m(\u001b[0m\u001b[1;34m'/content/gdrive/My Drive/parking2.csv'\u001b[0m\u001b[1;33m)\u001b[0m\u001b[1;33m\u001b[0m\u001b[1;33m\u001b[0m\u001b[0m\n",
      "\u001b[1;31mModuleNotFoundError\u001b[0m: No module named 'google.colab'"
     ]
    }
   ],
   "source": [
    "# Save the resulting dataframe to a csv file again to your google drive \n",
    "from google.colab import drive\n",
    "drive.mount('/content/gdrive')\n",
    "parking.to_csv('/content/gdrive/My Drive/parking2.csv')"
   ]
  },
  {
   "cell_type": "code",
   "execution_count": null,
   "metadata": {},
   "outputs": [],
   "source": []
  }
 ],
 "metadata": {
  "kernelspec": {
   "display_name": "Python 3",
   "language": "python",
   "name": "python3"
  },
  "language_info": {
   "codemirror_mode": {
    "name": "ipython",
    "version": 3
   },
   "file_extension": ".py",
   "mimetype": "text/x-python",
   "name": "python",
   "nbconvert_exporter": "python",
   "pygments_lexer": "ipython3",
   "version": "3.8.3-final"
  }
 },
 "nbformat": 4,
 "nbformat_minor": 2
}