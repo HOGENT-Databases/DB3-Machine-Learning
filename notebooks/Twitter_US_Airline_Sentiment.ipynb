{
  "nbformat": 4,
  "nbformat_minor": 0,
  "metadata": {
    "kernelspec": {
      "display_name": "Python 3",
      "language": "python",
      "name": "python3"
    },
    "language_info": {
      "codemirror_mode": {
        "name": "ipython",
        "version": 3
      },
      "file_extension": ".py",
      "mimetype": "text/x-python",
      "name": "python",
      "nbconvert_exporter": "python",
      "pygments_lexer": "ipython3",
      "version": "3.6.1"
    },
    "colab": {
      "name": "Twitter US Airline Sentiment Starter.ipynb",
      "provenance": [],
      "collapsed_sections": []
    }
  },
  "cells": [
    {
      "source": [],
      "cell_type": "markdown",
      "metadata": {}
    },
    {
      "source": [
        "### Twitter US Airline Sentiment Analysis \n",
        "  \n",
        "Opinion mining (sometimes known as sentiment analysis or emotion AI) refers to the use of natural language processing, text analysis, computational linguistics, and biometrics to systematically identify, extract, quantify, and study affective states and subjective information. \n",
        "Source: https://en.wikipedia.org/wiki/Sentiment_analysis\n"
      ],
      "cell_type": "markdown",
      "metadata": {}
    },
    {
      "cell_type": "code",
      "metadata": {
        "collapsed": true,
        "id": "hZSMlyXpxN00"
      },
      "source": [
        "# A sentiment analysis job about the problems of each major U.S. airline. \n",
        "# Twitter data was scraped from February of 2015 and contributors were asked to first classify \n",
        "# positive, negative, and neutral tweets, followed by categorizing negative reasons (such as \"late flight\" or \"rude service\")."
      ],
      "execution_count": null,
      "outputs": []
    },
    {
      "cell_type": "code",
      "metadata": {
        "collapsed": true,
        "id": "OJkrQS6uxN06"
      },
      "source": [
        "import numpy as np\n",
        "import pandas as pd"
      ],
      "execution_count": null,
      "outputs": []
    },
    {
      "cell_type": "code",
      "metadata": {
        "id": "nUs8-IZoxN07",
        "colab": {
          "base_uri": "https://localhost:8080/",
          "height": 447
        },
        "outputId": "6e9dc7b3-c8cf-4bf5-d62b-a2beb7e80ced"
      },
      "source": [
        "# Read the file data.csv. The enconding is important for the @ in the column text\n",
        "# Show the first few records\n",
        "path = 'https://raw.githubusercontent.com/HOGENT-Databases/DB3-Workshops/master/data/'\n",
        "data = pd.read_csv(path + \"Tweets.csv\", encoding=\"ISO-8859-1\")\n",
        "data.head()"
      ],
      "execution_count": null,
      "outputs": []
    },
    {
      "cell_type": "code",
      "metadata": {
        "id": "eHqtlsSIxN08",
        "colab": {
          "base_uri": "https://localhost:8080/",
          "height": 294
        },
        "outputId": "a052ae00-f9a1-4eeb-9431-0f3750c2884e"
      },
      "source": [
        "# Show the general information about the data\n"
      ],
      "execution_count": null,
      "outputs": []
    },
    {
      "cell_type": "code",
      "metadata": {
        "id": "tvhPInNFxN09",
        "colab": {
          "base_uri": "https://localhost:8080/"
        },
        "outputId": "53c92a23-0bc8-4af3-e3b6-dac8db3c3a73"
      },
      "source": [
        "# Give the dimensions of the data\n"
      ],
      "execution_count": null,
      "outputs": []
    },
    {
      "cell_type": "code",
      "metadata": {
        "id": "V32TQwkWxN09",
        "colab": {
          "base_uri": "https://localhost:8080/"
        },
        "outputId": "e002d9e2-1516-45e9-ef46-ea86ddf4b98f"
      },
      "source": [
        "# Give for each column the number of values available\n"
      ],
      "execution_count": null,
      "outputs": []
    },
    {
      "cell_type": "code",
      "metadata": {
        "collapsed": true,
        "id": "Ol8v8VeyxN09"
      },
      "source": [
        "# Drop the columns airline_sentiment_gold, negativereason_gold, tweet_coord, tweet_location, user_timezone\n"
      ],
      "execution_count": null,
      "outputs": []
    },
    {
      "cell_type": "code",
      "metadata": {
        "id": "HjyWpmVExN0-",
        "colab": {
          "base_uri": "https://localhost:8080/"
        },
        "outputId": "c9d281da-a1c0-4fad-f3a9-c20d3eff039b"
      },
      "source": [
        "# Give for each column the number of values available\n"
      ],
      "execution_count": null,
      "outputs": []
    },
    {
      "cell_type": "code",
      "metadata": {
        "id": "mBIzREcWxN0-",
        "colab": {
          "base_uri": "https://localhost:8080/"
        },
        "outputId": "a404129a-0a55-4140-f73f-2d121c318143"
      },
      "source": [
        "# Give the datatype of each column\n"
      ],
      "execution_count": null,
      "outputs": []
    },
    {
      "cell_type": "code",
      "metadata": {
        "id": "-uWQnKxGxN0-",
        "colab": {
          "base_uri": "https://localhost:8080/"
        },
        "outputId": "173eb262-3123-48be-81bb-15e0ffbf6f4d"
      },
      "source": [
        "# Which are the different airlines in the dataset? \n"
      ],
      "execution_count": null,
      "outputs": []
    },
    {
      "cell_type": "code",
      "metadata": {
        "id": "4ChYWIkRxN0_",
        "colab": {
          "base_uri": "https://localhost:8080/"
        },
        "outputId": "30c4e4a4-5e19-4ee4-b5b6-7a97c888c60b"
      },
      "source": [
        "# Give the number of tweets per airline, sort descending\n"
      ],
      "execution_count": null,
      "outputs": []
    },
    {
      "cell_type": "code",
      "metadata": {
        "id": "uUZ7ICFixN0_",
        "colab": {
          "base_uri": "https://localhost:8080/",
          "height": 263
        },
        "outputId": "2139a917-6bb7-4dc2-f5b6-a1611003e649"
      },
      "source": [
        "# Give a pivot table with the number of positive, neutral and negative tweets per airline (airlines in alphabetical order) \n",
        "# Method 1\n"
      ],
      "execution_count": null,
      "outputs": []
    },
    {
      "cell_type": "code",
      "metadata": {
        "id": "L6LvmolexN1A",
        "colab": {
          "base_uri": "https://localhost:8080/",
          "height": 263
        },
        "outputId": "9eceb426-dd2d-4c4b-ddd5-6fb84e6f87a8"
      },
      "source": [
        "# Give a pivot table with the number of positive, neutral and negative tweets per airline (airlines in alphabetical order) \n",
        "# Method 2\n"
      ],
      "execution_count": null,
      "outputs": []
    },
    {
      "cell_type": "code",
      "metadata": {
        "id": "NL2HspCrxN1A",
        "colab": {
          "base_uri": "https://localhost:8080/"
        },
        "outputId": "a39e1c91-ff6a-416a-f23a-cced264f311e"
      },
      "source": [
        "# Give the name of the 10 biggest complainers\n"
      ],
      "execution_count": null,
      "outputs": []
    },
    {
      "cell_type": "code",
      "metadata": {
        "id": "6mU9fkyFxN1A",
        "colab": {
          "base_uri": "https://localhost:8080/"
        },
        "outputId": "62eb8a27-ca93-46cf-daa4-94c265850e82"
      },
      "source": [
        "# Transform the date of tweet_created to_datetime + check if tweet_created is afterwards of datatype datatime\n"
      ],
      "execution_count": null,
      "outputs": []
    },
    {
      "cell_type": "code",
      "metadata": {
        "id": "dumiuYl7xN1A",
        "colab": {
          "base_uri": "https://localhost:8080/",
          "height": 35
        },
        "outputId": "6ef904e9-8f3b-4676-c13b-165b7b16cc4e"
      },
      "source": [
        "# What is the minimum date?\n"
      ],
      "execution_count": null,
      "outputs": []
    },
    {
      "cell_type": "code",
      "metadata": {
        "id": "tjbfP4X3xN1B",
        "colab": {
          "base_uri": "https://localhost:8080/",
          "height": 35
        },
        "outputId": "af976f35-5a8f-448b-8690-b66fa5c84cba"
      },
      "source": [
        "# What is the maximum date?\n"
      ],
      "execution_count": null,
      "outputs": []
    },
    {
      "cell_type": "code",
      "metadata": {
        "id": "4AGd_fNBxN1B",
        "colab": {
          "base_uri": "https://localhost:8080/"
        },
        "outputId": "f274b58f-1b48-4699-9c14-e42671418114"
      },
      "source": [
        "# Remove the (english) stopwords from the text + Remove the words that start with @ from the text\n",
        "\n"
      ],
      "execution_count": null,
      "outputs": []
    },
    {
      "cell_type": "code",
      "metadata": {
        "colab": {
          "base_uri": "https://localhost:8080/"
        },
        "id": "kKvv2_yCe9hj",
        "outputId": "378059f8-4c11-4726-a979-3064933cd3db"
      },
      "source": [
        "data['text'].head()"
      ],
      "execution_count": null,
      "outputs": []
    },
    {
      "cell_type": "code",
      "metadata": {
        "id": "9-eY4032xN1B",
        "colab": {
          "base_uri": "https://localhost:8080/",
          "height": 202
        },
        "outputId": "a3a6a99b-8220-4732-e1ea-dfafb830bfb6"
      },
      "source": [
        "# We are going to try to predict the airline_sentiment\n",
        "# Create a new dataframe dataRF that contains the necessary columns to do this\n",
        "# We are only going to use those tweets with airline_sentiment_confidence >= 0.5\n"
      ],
      "execution_count": null,
      "outputs": []
    },
    {
      "cell_type": "code",
      "metadata": {
        "id": "4LCcF8f6xN1B",
        "colab": {
          "base_uri": "https://localhost:8080/"
        },
        "outputId": "2c5e5481-fd4c-4503-b2d8-06118e446642"
      },
      "source": [
        "# How many records are left?\n"
      ],
      "execution_count": null,
      "outputs": []
    },
    {
      "cell_type": "code",
      "metadata": {
        "colab": {
          "base_uri": "https://localhost:8080/"
        },
        "id": "DZmGdEziqKSE",
        "outputId": "d198c274-e777-483d-cc45-ed80069ee027"
      },
      "source": [
        "# What are the unique values for airline_sentiment?\r\n"
      ],
      "execution_count": null,
      "outputs": []
    },
    {
      "cell_type": "code",
      "metadata": {
        "id": "fT2gX_BYx0BL",
        "colab": {
          "base_uri": "https://localhost:8080/",
          "height": 202
        },
        "outputId": "6f5523bb-12b0-4053-bba2-cd6e5e698a46"
      },
      "source": [
        "# Replace the airline_sentiment negative by 0, neutral by 1 and positive by 2\r\n"
      ],
      "execution_count": null,
      "outputs": []
    },
    {
      "cell_type": "code",
      "metadata": {
        "id": "d_GI0jnVx6aS"
      },
      "source": [
        "# Create X and y"
      ],
      "execution_count": null,
      "outputs": []
    },
    {
      "cell_type": "code",
      "metadata": {
        "collapsed": true,
        "id": "QTLcAGpXxN1D",
        "colab": {
          "base_uri": "https://localhost:8080/"
        },
        "outputId": "b0fbce79-4211-43d7-89b2-0c1c8a2b59d6"
      },
      "source": [
        "try:\n",
        "  # %tensorflow_version only exists in Colab.\n",
        "  %tensorflow_version 2.x\n",
        "except Exception:\n",
        "  pass\n",
        "\n",
        "# TensorFlow and tf.keras\n",
        "import tensorflow as tf\n",
        "from tensorflow import keras\n",
        "\n",
        "print(tf.__version__)\n",
        "\n",
        "# Helper libraries\n",
        "import numpy as np\n",
        "import matplotlib.pyplot as plt\n",
        "import sklearn as sk\n",
        "import pandas as pd\n",
        "\n",
        "# fix random seed for reproducibility\n",
        "seed = 2020\n",
        "np.random.seed(seed)  \n",
        "\n",
        "import sklearn as sk\n",
        "from sklearn.model_selection import train_test_split\n",
        "\n",
        "from tensorflow.keras.datasets import mnist\n",
        "from tensorflow.keras.models import Sequential\n",
        "from tensorflow.keras.layers import Dense, Dropout, Flatten, Embedding, Conv1D,  MaxPooling1D, GlobalMaxPooling1D\n",
        "from tensorflow.keras.optimizers import Adam\n",
        "from tensorflow.keras.constraints import max_norm\n",
        "from tensorflow.keras.models import load_model\n",
        "\n",
        "\n",
        "import nltk\n"
      ],
      "execution_count": null,
      "outputs": []
    },
    {
      "cell_type": "code",
      "metadata": {
        "collapsed": true,
        "id": "rUcy3HSmxN1G"
      },
      "source": [
        "# helper functions for visualisation\r\n",
        "# plotting the loss functions used in this notebook\r\n",
        "# we plot the loss we want to optimise on the left (in this case: accuracy)\r\n",
        "def plot_history(history):\r\n",
        "  plt.figure(figsize = (12,4))\r\n",
        "  plt.subplot(1,2,1)\r\n",
        "\r\n",
        "  plt.xlabel('Epoch')\r\n",
        "  plt.ylabel('Accuracy')\r\n",
        "  plt.plot(history.epoch, np.array(history.history['accuracy']),'g-',\r\n",
        "           label='Train accuracy')\r\n",
        "  plt.plot(history.epoch, np.array(history.history['val_accuracy']),'r-',\r\n",
        "           label = 'Validation accuracy')\r\n",
        "  plt.legend()\r\n",
        "\r\n",
        "  plt.subplot(1,2,2)\r\n",
        "  plt.xlabel('Epoch')\r\n",
        "  plt.ylabel('Loss minimised by model')\r\n",
        "  plt.plot(history.epoch, np.array(history.history['loss']),'g-',\r\n",
        "           label='Train loss')\r\n",
        "  plt.plot(history.epoch, np.array(history.history['val_loss']),'r-',\r\n",
        "           label = 'Validation loss')\r\n",
        "  plt.legend()"
      ],
      "execution_count": null,
      "outputs": []
    },
    {
      "cell_type": "code",
      "metadata": {
        "colab": {
          "base_uri": "https://localhost:8080/",
          "height": 202
        },
        "id": "k26dNc4dg1Qp",
        "outputId": "6de0b280-3e33-499b-ba69-0ce316910d00"
      },
      "source": [
        "# Average length of the messages\r\n"
      ],
      "execution_count": null,
      "outputs": []
    },
    {
      "cell_type": "code",
      "metadata": {
        "colab": {
          "base_uri": "https://localhost:8080/"
        },
        "id": "qeADpDYKg1YJ",
        "outputId": "539e0d3d-2679-4bb0-d72d-01c9154c3ccd"
      },
      "source": [
        "# Extract a training & validation split\n"
      ],
      "execution_count": null,
      "outputs": []
    },
    {
      "cell_type": "code",
      "metadata": {
        "colab": {
          "base_uri": "https://localhost:8080/"
        },
        "id": "W8thGZB-g1d4",
        "outputId": "630a341f-11c8-41c5-fcce-d0fc4f1a1fed"
      },
      "source": [
        "# the labels from the downloaded data are integer numbers\n",
        "# for a multi-class classification task, we again convert each integer\n",
        "# to a one-hot encoded vector, corresponding to the right class\n",
        "\n",
        "\n",
        "\n",
        "# look at the new labels for the first sample\n"
      ],
      "execution_count": null,
      "outputs": []
    },
    {
      "source": [
        "Build a model to classify unseen tweets"
      ],
      "cell_type": "markdown",
      "metadata": {
        "id": "hIs36BKyg2SL"
      }
    }
  ]
}