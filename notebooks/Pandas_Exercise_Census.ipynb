{
  "nbformat": 4,
  "nbformat_minor": 0,
  "metadata": {
    "kernelspec": {
      "display_name": "Python 3",
      "language": "python",
      "name": "python3"
    },
    "language_info": {
      "codemirror_mode": {
        "name": "ipython",
        "version": 3
      },
      "file_extension": ".py",
      "mimetype": "text/x-python",
      "name": "python",
      "nbconvert_exporter": "python",
      "pygments_lexer": "ipython3",
      "version": "3.8.3-final"
    },
    "colab": {
      "name": "Pandas Analytics: Exercise Census Starter.ipynb",
      "provenance": [],
      "collapsed_sections": []
    }
  },
  "cells": [
    {
      "cell_type": "markdown",
      "metadata": {
        "id": "aUh8_mV8dnAo"
      },
      "source": [
        "## Pandas Analytics: exercise Census"
      ]
    },
    {
      "cell_type": "markdown",
      "metadata": {
        "collapsed": true,
        "id": "6LyHqSUQdnAp"
      },
      "source": [
        "The Census Income Dataset is often used for testing and teaching data analytics and machine learning algorithms\n",
        "wikipedia: \"A census is the procedure of systematically acquiring and recording information \n",
        "about the members of a given population.\"\n",
        "The dataset is used to predict whether income exceeds $50K/yr based on census data. \n",
        "\n",
        "Listing of attributes: \n",
        " \n",
        ">50K, <=50K. \n",
        "\n",
        "age: continuous. \n",
        "workclass: Private, Self-emp-not-inc, Self-emp-inc, Federal-gov, Local-gov, State-gov, Without-pay, Never-worked. \n",
        "fnlwgt: continuous. (The \\# of people the census takers believe that observation represents.)<br>\n",
        "education: Bachelors, Some-college, 11th, HS-grad, Prof-school, Assoc-acdm, Assoc-voc, 9th, 7th-8th, 12th, Masters, 1st-4th, 10th, Doctorate, 5th-6th, Preschool. <br>\n",
        "education-num: continuous. (Highest level of education in numerical form)\n",
        "marital-status: Married-civ-spouse, Divorced, Never-married, Separated, Widowed, Married-spouse-absent, Married-AF-spouse. \n",
        "occupation: Tech-support, Craft-repair, Other-service, Sales, Exec-managerial, Prof-specialty, Handlers-cleaners, Machine-op-inspct, Adm-clerical, Farming-fishing, Transport-moving, Priv-house-serv, Protective-serv, Armed-Forces. <br>\n",
        "relationship: Wife, Own-child, Husband, Not-in-family, Other-relative, Unmarried. (Contains family relationship values \n",
        "like husband, father, and so on, but only contains one per observation.)<br>\n",
        "race: White, Asian-Pac-Islander, Amer-Indian-Eskimo, Other, Black. <br>\n",
        "gender: Female, Male. <br>\n",
        "capital-gain: continuous. <br>\n",
        "capital-loss: continuous. <br>\n",
        "hours-per-week: continuous. <br>\n",
        "native-country: United-States, Cambodia, England, Puerto-Rico, Canada, Germany, Outlying-US(Guam-USVI-etc), India, \n",
        "    Japan, Greece, South, China, Cuba, Iran, Honduras, Philippines, Italy, Poland, Jamaica, Vietnam, Mexico, Portugal, \n",
        "    Ireland, France, Dominican-Republic, Laos, Ecuador, Taiwan, Haiti, Columbia, Hungary, Guatemala, Nicaragua, Scotland, \n",
        "    Thailand, Yugoslavia, El-Salvador, Trinadad&Tobago, Peru, Hong, Holland-Netherlands."
      ]
    },
    {
      "cell_type": "code",
      "metadata": {
        "id": "ka370trpdnAp"
      },
      "source": [
        "import pandas as pd\n",
        "import numpy as np"
      ],
      "execution_count": 1,
      "outputs": []
    },
    {
      "cell_type": "markdown",
      "metadata": {
        "id": "leHSlcLjdnAs"
      },
      "source": [
        "Import the file adult.csv as a dataframe and show the first 10 lines"
      ]
    },
    {
      "cell_type": "code",
      "metadata": {
        "id": "eRoKHtPydnAt",
        "outputId": "83264b87-419c-4286-8a2d-90b26d130784",
        "colab": {
          "base_uri": "https://localhost:8080/",
          "height": 411
        }
      },
      "source": [
        "adults = pd.read_csv('https://raw.githubusercontent.com/HOGENT-Databases/DB3-Workshops/master/data/adult.csv')\n",
        "adults.head(10)"
      ],
      "execution_count": 3,
      "outputs": [
        {
          "output_type": "execute_result",
          "data": {
            "text/plain": [
              "   age          workclass  fnlwgt   education  education-num  \\\n",
              "0   39          State-gov   77516   Bachelors             13   \n",
              "1   50   Self-emp-not-inc   83311   Bachelors             13   \n",
              "2   38            Private  215646     HS-grad              9   \n",
              "3   53            Private  234721        11th              7   \n",
              "4   28            Private  338409   Bachelors             13   \n",
              "5   37            Private  284582     Masters             14   \n",
              "6   49            Private  160187         9th              5   \n",
              "7   52   Self-emp-not-inc  209642     HS-grad              9   \n",
              "8   31            Private   45781     Masters             14   \n",
              "9   42            Private  159449   Bachelors             13   \n",
              "\n",
              "           marital-status          occupation    relationship    race  \\\n",
              "0           Never-married        Adm-clerical   Not-in-family   White   \n",
              "1      Married-civ-spouse     Exec-managerial         Husband   White   \n",
              "2                Divorced   Handlers-cleaners   Not-in-family   White   \n",
              "3      Married-civ-spouse   Handlers-cleaners         Husband   Black   \n",
              "4      Married-civ-spouse      Prof-specialty            Wife   Black   \n",
              "5      Married-civ-spouse     Exec-managerial            Wife   White   \n",
              "6   Married-spouse-absent       Other-service   Not-in-family   Black   \n",
              "7      Married-civ-spouse     Exec-managerial         Husband   White   \n",
              "8           Never-married      Prof-specialty   Not-in-family   White   \n",
              "9      Married-civ-spouse     Exec-managerial         Husband   White   \n",
              "\n",
              "    gender  capital-gain  capital-loss  hours-per-week  native-country  income  \n",
              "0     Male          2174             0              40   United-States   <=50K  \n",
              "1     Male             0             0              13   United-States   <=50K  \n",
              "2     Male             0             0              40   United-States   <=50K  \n",
              "3     Male             0             0              40   United-States   <=50K  \n",
              "4   Female             0             0              40            Cuba   <=50K  \n",
              "5   Female             0             0              40   United-States   <=50K  \n",
              "6   Female             0             0              16         Jamaica   <=50K  \n",
              "7     Male             0             0              45   United-States    >50K  \n",
              "8   Female         14084             0              50   United-States    >50K  \n",
              "9     Male          5178             0              40   United-States    >50K  "
            ],
            "text/html": "<div>\n<style scoped>\n    .dataframe tbody tr th:only-of-type {\n        vertical-align: middle;\n    }\n\n    .dataframe tbody tr th {\n        vertical-align: top;\n    }\n\n    .dataframe thead th {\n        text-align: right;\n    }\n</style>\n<table border=\"1\" class=\"dataframe\">\n  <thead>\n    <tr style=\"text-align: right;\">\n      <th></th>\n      <th>age</th>\n      <th>workclass</th>\n      <th>fnlwgt</th>\n      <th>education</th>\n      <th>education-num</th>\n      <th>marital-status</th>\n      <th>occupation</th>\n      <th>relationship</th>\n      <th>race</th>\n      <th>gender</th>\n      <th>capital-gain</th>\n      <th>capital-loss</th>\n      <th>hours-per-week</th>\n      <th>native-country</th>\n      <th>income</th>\n    </tr>\n  </thead>\n  <tbody>\n    <tr>\n      <th>0</th>\n      <td>39</td>\n      <td>State-gov</td>\n      <td>77516</td>\n      <td>Bachelors</td>\n      <td>13</td>\n      <td>Never-married</td>\n      <td>Adm-clerical</td>\n      <td>Not-in-family</td>\n      <td>White</td>\n      <td>Male</td>\n      <td>2174</td>\n      <td>0</td>\n      <td>40</td>\n      <td>United-States</td>\n      <td>&lt;=50K</td>\n    </tr>\n    <tr>\n      <th>1</th>\n      <td>50</td>\n      <td>Self-emp-not-inc</td>\n      <td>83311</td>\n      <td>Bachelors</td>\n      <td>13</td>\n      <td>Married-civ-spouse</td>\n      <td>Exec-managerial</td>\n      <td>Husband</td>\n      <td>White</td>\n      <td>Male</td>\n      <td>0</td>\n      <td>0</td>\n      <td>13</td>\n      <td>United-States</td>\n      <td>&lt;=50K</td>\n    </tr>\n    <tr>\n      <th>2</th>\n      <td>38</td>\n      <td>Private</td>\n      <td>215646</td>\n      <td>HS-grad</td>\n      <td>9</td>\n      <td>Divorced</td>\n      <td>Handlers-cleaners</td>\n      <td>Not-in-family</td>\n      <td>White</td>\n      <td>Male</td>\n      <td>0</td>\n      <td>0</td>\n      <td>40</td>\n      <td>United-States</td>\n      <td>&lt;=50K</td>\n    </tr>\n    <tr>\n      <th>3</th>\n      <td>53</td>\n      <td>Private</td>\n      <td>234721</td>\n      <td>11th</td>\n      <td>7</td>\n      <td>Married-civ-spouse</td>\n      <td>Handlers-cleaners</td>\n      <td>Husband</td>\n      <td>Black</td>\n      <td>Male</td>\n      <td>0</td>\n      <td>0</td>\n      <td>40</td>\n      <td>United-States</td>\n      <td>&lt;=50K</td>\n    </tr>\n    <tr>\n      <th>4</th>\n      <td>28</td>\n      <td>Private</td>\n      <td>338409</td>\n      <td>Bachelors</td>\n      <td>13</td>\n      <td>Married-civ-spouse</td>\n      <td>Prof-specialty</td>\n      <td>Wife</td>\n      <td>Black</td>\n      <td>Female</td>\n      <td>0</td>\n      <td>0</td>\n      <td>40</td>\n      <td>Cuba</td>\n      <td>&lt;=50K</td>\n    </tr>\n    <tr>\n      <th>5</th>\n      <td>37</td>\n      <td>Private</td>\n      <td>284582</td>\n      <td>Masters</td>\n      <td>14</td>\n      <td>Married-civ-spouse</td>\n      <td>Exec-managerial</td>\n      <td>Wife</td>\n      <td>White</td>\n      <td>Female</td>\n      <td>0</td>\n      <td>0</td>\n      <td>40</td>\n      <td>United-States</td>\n      <td>&lt;=50K</td>\n    </tr>\n    <tr>\n      <th>6</th>\n      <td>49</td>\n      <td>Private</td>\n      <td>160187</td>\n      <td>9th</td>\n      <td>5</td>\n      <td>Married-spouse-absent</td>\n      <td>Other-service</td>\n      <td>Not-in-family</td>\n      <td>Black</td>\n      <td>Female</td>\n      <td>0</td>\n      <td>0</td>\n      <td>16</td>\n      <td>Jamaica</td>\n      <td>&lt;=50K</td>\n    </tr>\n    <tr>\n      <th>7</th>\n      <td>52</td>\n      <td>Self-emp-not-inc</td>\n      <td>209642</td>\n      <td>HS-grad</td>\n      <td>9</td>\n      <td>Married-civ-spouse</td>\n      <td>Exec-managerial</td>\n      <td>Husband</td>\n      <td>White</td>\n      <td>Male</td>\n      <td>0</td>\n      <td>0</td>\n      <td>45</td>\n      <td>United-States</td>\n      <td>&gt;50K</td>\n    </tr>\n    <tr>\n      <th>8</th>\n      <td>31</td>\n      <td>Private</td>\n      <td>45781</td>\n      <td>Masters</td>\n      <td>14</td>\n      <td>Never-married</td>\n      <td>Prof-specialty</td>\n      <td>Not-in-family</td>\n      <td>White</td>\n      <td>Female</td>\n      <td>14084</td>\n      <td>0</td>\n      <td>50</td>\n      <td>United-States</td>\n      <td>&gt;50K</td>\n    </tr>\n    <tr>\n      <th>9</th>\n      <td>42</td>\n      <td>Private</td>\n      <td>159449</td>\n      <td>Bachelors</td>\n      <td>13</td>\n      <td>Married-civ-spouse</td>\n      <td>Exec-managerial</td>\n      <td>Husband</td>\n      <td>White</td>\n      <td>Male</td>\n      <td>5178</td>\n      <td>0</td>\n      <td>40</td>\n      <td>United-States</td>\n      <td>&gt;50K</td>\n    </tr>\n  </tbody>\n</table>\n</div>"
          },
          "metadata": {},
          "execution_count": 3
        }
      ]
    },
    {
      "cell_type": "markdown",
      "metadata": {
        "id": "I-aizAaxdnAz"
      },
      "source": [
        "Show the number of times each field is non empty"
      ]
    },
    {
      "cell_type": "code",
      "metadata": {
        "id": "uxh6oJ6tdnA0"
      },
      "source": [
        ""
      ],
      "execution_count": 6,
      "outputs": []
    },
    {
      "cell_type": "markdown",
      "metadata": {
        "id": "K-0ils0pdnA2"
      },
      "source": [
        "Show the lines in which native-country is empty"
      ]
    },
    {
      "cell_type": "code",
      "metadata": {
        "id": "-Z2_fQjjdnA3"
      },
      "source": [
        ""
      ],
      "execution_count": 6,
      "outputs": []
    },
    {
      "cell_type": "markdown",
      "metadata": {
        "id": "VdUkRhS_dnA6"
      },
      "source": [
        "Remove the columns fnlwgt, education and relationship. \n",
        "Show the first 5 lines"
      ]
    },
    {
      "cell_type": "code",
      "metadata": {
        "id": "WLhsaJYWdnA7"
      },
      "source": [
        ""
      ],
      "execution_count": 6,
      "outputs": []
    },
    {
      "cell_type": "markdown",
      "metadata": {
        "id": "Y-YZvPEcdnA9"
      },
      "source": [
        "Count the number of people per country in the dataset"
      ]
    },
    {
      "cell_type": "code",
      "metadata": {
        "id": "bVKbsdFbdnA9"
      },
      "source": [
        ""
      ],
      "execution_count": 6,
      "outputs": []
    },
    {
      "cell_type": "markdown",
      "metadata": {
        "id": "Q-clC1SbdnBG"
      },
      "source": [
        "Provide statistical information about the age per country"
      ]
    },
    {
      "cell_type": "code",
      "metadata": {
        "id": "QsC-jvojdnBG"
      },
      "source": [
        ""
      ],
      "execution_count": 6,
      "outputs": []
    },
    {
      "cell_type": "markdown",
      "metadata": {
        "id": "4wk7hYNudnBJ"
      },
      "source": [
        "Find all people from Vietnam that are older than 60"
      ]
    },
    {
      "cell_type": "code",
      "metadata": {
        "id": "OgsMgytKdnBK"
      },
      "source": [
        ""
      ],
      "execution_count": 6,
      "outputs": []
    },
    {
      "cell_type": "markdown",
      "metadata": {
        "id": "ejTagLx-dnBM"
      },
      "source": [
        "Convert all marital statuses to a number (0, 1, 2, ...) in alphabetical order"
      ]
    },
    {
      "cell_type": "code",
      "metadata": {
        "id": "172jkmJTdnBN"
      },
      "source": [
        ""
      ],
      "execution_count": 6,
      "outputs": []
    },
    {
      "cell_type": "markdown",
      "metadata": {
        "id": "pLxzf4YudnBP"
      },
      "source": [
        "Show per age and per gender the total number of hours-per-week"
      ]
    },
    {
      "cell_type": "code",
      "metadata": {
        "id": "mC-hj2I6dnBP"
      },
      "source": [
        ""
      ],
      "execution_count": 6,
      "outputs": []
    }
  ]
}