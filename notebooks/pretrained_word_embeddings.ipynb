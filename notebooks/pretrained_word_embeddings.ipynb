{
  "nbformat": 4,
  "nbformat_minor": 0,
  "metadata": {
    "kernelspec": {
      "display_name": "Python 3",
      "language": "python",
      "name": "python3"
    },
    "language_info": {
      "codemirror_mode": {
        "name": "ipython",
        "version": 3
      },
      "file_extension": ".py",
      "mimetype": "text/x-python",
      "name": "python",
      "nbconvert_exporter": "python",
      "pygments_lexer": "ipython3",
      "version": "3.7.9-final"
    },
    "colab": {
      "name": "Using pretrained word embeddings.ipynb",
      "provenance": [],
      "collapsed_sections": []
    }
  },
  "cells": [
    {
      "cell_type": "markdown",
      "metadata": {
        "id": "zAMKfJvV85iq"
      },
      "source": [
        "\n",
        "## Using pre-trained word embeddings\n",
        "### Introduction\n",
        "Perform spam classification.  \n",
        "\n",
        "The data can be downloaded from UCI machine learning repository: https://archive.ics.uci.edu/ml/machine-learning-databases/00228 \n",
        "Information about the dataset can be found at   https://archive.ics.uci.edu/ml/datasets/SMS+Spam+Collection\n",
        "\n",
        "*   A collection of 425 SMS spam messages was manually extracted from the Grumbletext Web site. This is a UK forum in which cell phone users make public claims about SMS spam messages, most of them without reporting the very spam message received. The identification of the text of spam messages in the claims is a very hard and time-consuming task, and it involved carefully scanning hundreds of web pages.\n",
        "*   A subset of 3,375 SMS’s randomly chosen ham messages of the NUS SMS Corpus (NSC), which is a dataset of about 10,000 legitimate messages collected for research at the Department of Computer Science at the National University of Singapore. The messages largely originate from Singaporeans and mostly from students attending the University. These messages were collected from volunteers who were made aware that their contributions were going to be made publicly available.\n",
        "*   A list of 450 SMS ham messages collected from Caroline Tag's PhD Thesis.\n",
        "*   Finally, we have incorporated the SMS Spam Corpus v.0.1 Big. It has 1,002 SMS ham messages and 322 spam messages and it is public available.\n",
        "\n",
        "**Attribute Information:**\n",
        "The collection is composed by just one text file, where each line has the correct class followed by the raw message. The messages are not chronologically sorted. \n",
        "\n",
        "Examples:\n",
        "\n",
        "spam I am not spam. subscribe to win money\n",
        "\n",
        "ham Mary had a little lamb\n",
        "\n",
        "Here are some examples bellow: \n",
        "\n",
        "ham What you doing?how are you? \n",
        "\n",
        "ham Ok lar... Joking wif u oni... \n",
        "\n",
        "ham dun say so early hor... U c already then say... \n",
        "\n",
        "ham MY NO. IN LUTON 0125698789 RING ME IF UR AROUND! H* \n",
        "\n",
        "ham Siva is in hostel aha:-. \n",
        "\n",
        "ham Cos i was out shopping wif darren jus now n i called him 2 ask wat present he wan lor. Then he started guessing who i was wif n he finally guessed darren lor.\n",
        "\n",
        "spam FreeMsg: Txt: CALL to No: 86888 & claim your reward of 3 hours talk time to use from your phone now! ubscribe6GBP/ mnth inc 3hrs 16 stop?txtStop \n",
        "spam Sunshine Quiz! Win a super Sony DVD recorder if you canname the capital of Australia? Text MQUIZ to 82277. B \n",
        "\n",
        "spam URGENT! Your Mobile No 07808726822 was awarded a L2,000 Bonus Caller Prize on 02/09/03! This is our 2nd attempt to contact YOU! Call 0871-872-9758 BOX95QU \n"
      ]
    },
    {
      "cell_type": "code",
      "metadata": {
        "id": "CpMifYkx85is",
        "colab": {
          "base_uri": "https://localhost:8080/"
        },
        "outputId": "4b1bdf04-9e1e-4977-d026-502eaf4a1805"
      },
      "source": [
        "try:\n",
        "  # %tensorflow_version only exists in Colab.\n",
        "  %tensorflow_version 2.x\n",
        "except Exception:\n",
        "  pass\n",
        "\n",
        "# TensorFlow and tf.keras\n",
        "import tensorflow as tf\n",
        "from tensorflow import keras\n",
        "\n",
        "print(tf.__version__)\n",
        "\n",
        "# Helper libraries\n",
        "import numpy as np\n",
        "import matplotlib.pyplot as plt\n",
        "import sklearn as sk\n",
        "import pandas as pd\n",
        "\n",
        "# fix random seed for reproducibility\n",
        "seed = 2020\n",
        "np.random.seed(seed)  \n",
        "\n",
        "import sklearn as sk\n",
        "from sklearn.model_selection import train_test_split\n",
        "\n",
        "from tensorflow.keras.datasets import mnist\n",
        "from tensorflow.keras.models import Sequential\n",
        "from tensorflow.keras.layers import Dense, Dropout, Flatten, Embedding, Conv1D,  MaxPooling1D, GlobalMaxPooling1D\n",
        "from tensorflow.keras.optimizers import Adam\n",
        "from tensorflow.keras.constraints import max_norm\n",
        "from tensorflow.keras.models import load_model\n",
        "\n",
        "\n",
        "import nltk\n"
      ],
      "execution_count": null,
      "outputs": []
    },
    {
      "cell_type": "code",
      "metadata": {
        "id": "Ms0fWnI2PyL2"
      },
      "source": [
        "# helper functions for visualisation\r\n",
        "# plotting the loss functions used in this notebook\r\n",
        "# we plot the loss we want to optimise on the left (in this case: accuracy)\r\n",
        "def plot_history(history):\r\n",
        "  plt.figure(figsize = (12,4))\r\n",
        "  plt.subplot(1,2,1)\r\n",
        "\r\n",
        "  plt.xlabel('Epoch')\r\n",
        "  plt.ylabel('Accuracy')\r\n",
        "  plt.plot(history.epoch, np.array(history.history['accuracy']),'g-',\r\n",
        "           label='Train accuracy')\r\n",
        "  plt.plot(history.epoch, np.array(history.history['val_accuracy']),'r-',\r\n",
        "           label = 'Validation accuracy')\r\n",
        "  plt.legend()\r\n",
        "\r\n",
        "  plt.subplot(1,2,2)\r\n",
        "  plt.xlabel('Epoch')\r\n",
        "  plt.ylabel('Loss minimised by model')\r\n",
        "  plt.plot(history.epoch, np.array(history.history['loss']),'g-',\r\n",
        "           label='Train loss')\r\n",
        "  plt.plot(history.epoch, np.array(history.history['val_loss']),'r-',\r\n",
        "           label = 'Validation loss')\r\n",
        "  plt.legend()"
      ],
      "execution_count": null,
      "outputs": []
    },
    {
      "cell_type": "code",
      "metadata": {
        "colab": {
          "base_uri": "https://localhost:8080/"
        },
        "id": "p-FrOQlg_Z-D",
        "outputId": "e30f8a1b-fdc7-415c-89fd-7ff8768ddd1b"
      },
      "source": [
        "path = 'https://raw.githubusercontent.com/HOGENT-Databases/DB3-Workshops/master/data/'\n",
        "\n",
        "df_dataset = pd.read_csv(path+\"SMSSpamCollection.csv\") \n",
        "df_dataset.columns\n",
        "df_dataset.dtypes"
      ],
      "execution_count": null,
      "outputs": []
    },
    {
      "cell_type": "code",
      "metadata": {
        "colab": {
          "base_uri": "https://localhost:8080/",
          "height": 202
        },
        "id": "ljOBisG4Eju7",
        "outputId": "854b4c21-2986-4911-8b14-2fe6927aae0d"
      },
      "source": [
        "# Take a look at the data\r\n",
        "df_dataset.head()"
      ],
      "execution_count": null,
      "outputs": []
    },
    {
      "cell_type": "code",
      "metadata": {
        "colab": {
          "base_uri": "https://localhost:8080/",
          "height": 202
        },
        "id": "J8Jl5bZZRIbF",
        "outputId": "6e27e586-abe7-4555-bbcf-1d6a3b7a3883"
      },
      "source": [
        "# Changing spam and ham into 0 and 1\r\n",
        "df_dataset['label'] = np.where(df_dataset['label'] == \"spam\", 0, 1)\r\n",
        "df_dataset.head()"
      ],
      "execution_count": null,
      "outputs": []
    },
    {
      "cell_type": "code",
      "metadata": {
        "colab": {
          "base_uri": "https://localhost:8080/",
          "height": 294
        },
        "id": "8jeo1-3RGIFC",
        "outputId": "1269be0c-f3e6-4c5a-a7ad-bf4f04969b64"
      },
      "source": [
        "# Show the general information about the data\r\n",
        "df_dataset.describe()"
      ],
      "execution_count": null,
      "outputs": []
    },
    {
      "cell_type": "code",
      "metadata": {
        "colab": {
          "base_uri": "https://localhost:8080/",
          "height": 202
        },
        "id": "jpTHHeWgG0ce",
        "outputId": "dab5db23-93d9-45a7-8e02-4c19de301d91"
      },
      "source": [
        "# What is the average length of the SMS messages. This will be important when we need to truncate the sequences to a maximum length\r\n",
        "df_dataset['numberOfWords'] = df_dataset.text.str.split().apply(len)\r\n",
        "df_dataset.head()"
      ],
      "execution_count": null,
      "outputs": []
    },
    {
      "cell_type": "code",
      "metadata": {
        "colab": {
          "base_uri": "https://localhost:8080/"
        },
        "id": "l-4cl8dqHUyU",
        "outputId": "c8552504-a40d-491f-c9c3-41d672b41c84"
      },
      "source": [
        "# Show the general information about the column numberOfWords\n",
        "# Notice that 75% of the messages consists of only 23 words or less.\n",
        "df_dataset['numberOfWords'].describe()"
      ],
      "execution_count": null,
      "outputs": []
    },
    {
      "cell_type": "code",
      "metadata": {
        "colab": {
          "base_uri": "https://localhost:8080/"
        },
        "id": "lK5zHfTOBQs7",
        "outputId": "94ad1b23-da2c-4ad0-b759-2c1bf1c81d50"
      },
      "source": [
        "# Extract a training & validation split\r\n",
        "from sklearn.model_selection import train_test_split\r\n",
        "X = df_dataset.drop(['label','numberOfWords'],axis=1)\r\n",
        "y = df_dataset['label']\r\n",
        "X_train, X_test, y_train, y_test = train_test_split(X,y,test_size=0.30)\r\n",
        "\r\n",
        "print('X_train shape:', X_train.shape)\r\n",
        "print('X_test shape:', X_test.shape)\r\n",
        "print(X_train.shape[0], 'train samples')\r\n",
        "print(X_test.shape[0], 'test samples')\r\n",
        "print(type(X_train))"
      ],
      "execution_count": null,
      "outputs": []
    },
    {
      "cell_type": "code",
      "metadata": {
        "colab": {
          "base_uri": "https://localhost:8080/"
        },
        "id": "WsAXPQD9cViO",
        "outputId": "340c8f4b-df2f-4357-b90e-de4121931a6b"
      },
      "source": [
        "X_train = np.asarray(X_train)\r\n",
        "X_test = np.asarray(X_test)\r\n",
        "\r\n",
        "print('X_train shape:', X_train.shape)\r\n",
        "print(type(X_train))"
      ],
      "execution_count": null,
      "outputs": []
    },
    {
      "cell_type": "code",
      "metadata": {
        "colab": {
          "base_uri": "https://localhost:8080/"
        },
        "id": "0YNIcfYeQ8QB",
        "outputId": "df989dc0-b54a-40a5-8283-87618c04996e"
      },
      "source": [
        "# the labels from the downloaded data are integer numbers\r\n",
        "# for a multi-class classification task, we again convert each integer\r\n",
        "# to a vector with a single '0' and a single '1', corresponding to the right class\r\n",
        "num_classes = 2\r\n",
        "y_train = keras.utils.to_categorical(y_train, num_classes)\r\n",
        "y_test = keras.utils.to_categorical(y_test, num_classes)\r\n",
        "\r\n",
        "\r\n",
        "# look at the new labels for the first sample\r\n",
        "print(y_train[0])\r\n",
        "print('y_train shape:', y_train.shape)\r\n",
        "print('y_test shape:', y_test.shape)"
      ],
      "execution_count": null,
      "outputs": []
    },
    {
      "cell_type": "code",
      "metadata": {
        "id": "tev_Mh2FF_mJ"
      },
      "source": [],
      "execution_count": null,
      "outputs": []
    },
    {
      "cell_type": "markdown",
      "metadata": {
        "id": "cSvPJXT0C0Q8"
      },
      "source": [
        "### Create a vocabulary index\n",
        "\n",
        "Let's use the TextVectorization to index the vocabulary found in the dataset. \n",
        "\n",
        "Deep Learning systems are often trained on very large datasets that will not fit in RAM. Ingesting a large dataset and preprocessing it efficiently can be tricky to implement with other Deep Learning libraries, but TensorFlow (on which Keras is based) makes it easy thanks to the Data API: you just create a **dataset** object, and tell it where to get the data and how to transform it. TensorFlow takes care of all the implementation details, such as multithreading, queuing, batching, and prefetching."
      ]
    },
    {
      "cell_type": "code",
      "metadata": {
        "id": "t9vR-3X7Cy7D"
      },
      "source": [
        "from tensorflow.keras.layers.experimental.preprocessing import TextVectorization\n",
        "\n",
        "# max_tokens = integer parameter that will control the maximum size of the vocabulary. \n",
        "# We will only consider the top 20 000 words\n",
        "# output_sequence_length = We will truncate or pad sequences to be actually 25 tokens long.\n",
        "# This is the reason why we calculated the number of words for each message in a previouse step\n",
        "vectorizer = TextVectorization(max_tokens=20000, output_sequence_length=25)\n",
        "\n",
        "# Make a Dataset from a numpy array\n",
        "# A tf.data.Dataset represents a potentially large set of elements.\n",
        "text_ds = tf.data.Dataset.from_tensor_slices(X_train)\n",
        "\n",
        "# Call the adapt method to build the vocabulary\n",
        "vectorizer.adapt(text_ds)\n"
      ],
      "execution_count": null,
      "outputs": []
    },
    {
      "cell_type": "code",
      "metadata": {
        "colab": {
          "base_uri": "https://localhost:8080/"
        },
        "id": "SQx8k5FECtSU",
        "outputId": "2bd85a95-60fb-4a7a-d6df-4d895eca1769"
      },
      "source": [
        "# You can retrieve the computed vocabulary used via vectorizer.get_vocabulary(). \r\n",
        "# Let's print the top 5 words:\r\n",
        "vectorizer.get_vocabulary()[:25]"
      ],
      "execution_count": null,
      "outputs": []
    },
    {
      "cell_type": "code",
      "metadata": {
        "colab": {
          "base_uri": "https://localhost:8080/"
        },
        "id": "VrXr5Ry8Dn_j",
        "outputId": "984199f0-1b29-4b49-ec71-e4737a689d0f"
      },
      "source": [
        "# Let's vectorize a test sentence, based on the vocabulary we created from the training dataset):\n",
        "output = vectorizer([[\"i saw the cat sat on the mat\"]])\n",
        "output.numpy()[0, :8]"
      ],
      "execution_count": null,
      "outputs": []
    },
    {
      "cell_type": "markdown",
      "metadata": {
        "id": "h_Iuzq59D-fb"
      },
      "source": [
        "As you can see, \"i\" gets represented as \"2\". Why not 0, given that \"i\" was the second word in the vocabulary? That's because index 0 is reserved for padding and index 1 is reserved for \"out of vocabulary\" tokens.\n",
        "\n",
        "Here's a dictionary mapping words to their indices:"
      ]
    },
    {
      "cell_type": "code",
      "metadata": {
        "id": "cYtTe3gQDwEA"
      },
      "source": [
        "voc = vectorizer.get_vocabulary()\r\n",
        "word_index = dict(zip(voc, range(len(voc))))"
      ],
      "execution_count": null,
      "outputs": []
    },
    {
      "cell_type": "markdown",
      "metadata": {
        "id": "71Eax6cpESR2"
      },
      "source": [
        "As you can see, we obtain the same encoding as above for our test sentence:"
      ]
    },
    {
      "cell_type": "code",
      "metadata": {
        "colab": {
          "base_uri": "https://localhost:8080/"
        },
        "id": "UHO0wHTTENcE",
        "outputId": "ea8d0bb9-c824-41a4-b20c-60f8f5e60b28"
      },
      "source": [
        "test = [\"i\",\"saw\",\"the\", \"cat\", \"sat\", \"on\", \"the\", \"mat\"]\r\n",
        "[word_index[w] for w in test]"
      ],
      "execution_count": null,
      "outputs": []
    },
    {
      "cell_type": "markdown",
      "metadata": {
        "id": "ymT35BgXEbM7"
      },
      "source": [
        "### Load pre-trained word embeddings\r\n",
        "Let's download pre-trained GloVe embeddings (a 822M zip file).\r\n",
        "Rather than training our own word vectors from scratch, we will leverage on GloVe. Its authors have released four text files with word vectors trained on different massive web datasets.\r\n",
        "\r\n",
        "The archive contains text-encoded vectors of various sizes: 50-dimensional, 100-dimensional, 200-dimensional, 300-dimensional. We'll use the 100D ones.\r\n",
        "\r\n",
        "glove.6B = Wikipedia 2014 + Gigaword 5. It was trained on a corpus of 6 billion tokens and contains a vocabulary of 400 000 tokens.\r\n",
        "\r\n",
        "You'll need to run the following commands:"
      ]
    },
    {
      "cell_type": "code",
      "metadata": {
        "colab": {
          "base_uri": "https://localhost:8080/"
        },
        "id": "AybfgXLHEimc",
        "outputId": "92e064ce-64c0-4bc8-be66-a5a8c36973bf"
      },
      "source": [
        "\r\n",
        "!wget http://nlp.stanford.edu/data/glove.6B.zip\r\n"
      ],
      "execution_count": null,
      "outputs": []
    },
    {
      "cell_type": "code",
      "execution_count": null,
      "metadata": {},
      "outputs": [],
      "source": [
        "from google.colab import drive\n",
        "drive.mount('/content/gdrive')"
      ]
    },
    {
      "cell_type": "code",
      "execution_count": null,
      "metadata": {},
      "outputs": [],
      "source": [
        "!ls '/content'"
      ]
    },
    {
      "cell_type": "code",
      "metadata": {
        "colab": {
          "base_uri": "https://localhost:8080/"
        },
        "id": "e_e8eOXTHoqR",
        "outputId": "8cd45111-04c1-42dd-d0de-0d9d7e8b37e9"
      },
      "source": [
        "!unzip -q glove.6B.zip"
      ],
      "execution_count": null,
      "outputs": []
    },
    {
      "cell_type": "code",
      "metadata": {
        "id": "HU8gQSsNu2wu",
        "colab": {
          "base_uri": "https://localhost:8080/"
        },
        "outputId": "0f4f426a-c3a2-4706-f5fe-75627ced5539"
      },
      "source": [
        "# After unzipping the downloaded file we find 4 txt files: glove.6B.50d.txt, glove.6B.100d.txt, glove.6B.200d.txt, glove.6B.300d.txt. \r\n",
        "# As their filenames suggests, they have vectors with different dimensions.\r\n",
        "!ls '/content'"
      ],
      "execution_count": null,
      "outputs": []
    },
    {
      "cell_type": "code",
      "metadata": {
        "id": "pkrZp0g3u3ki"
      },
      "source": [
        "# move glove.6B.100d.txt to My Drive so it will be available for use in the future\n",
        "!mv '/content/glove.6B.100d.txt' '/content/gdrive/My Drive/glove.6B.100d.txt'"
      ],
      "execution_count": null,
      "outputs": []
    },
    {
      "cell_type": "markdown",
      "metadata": {
        "id": "Is4_imN2E2Z3"
      },
      "source": [
        "If we used glove.6B.50d.txt and we printed  the content of the file on console, we could see that each line contain as first element a word followed by 50 real numbers. For instance these are the first two lines, corresponding to tokens \"the\" and \",\":\r\n",
        "\r\n",
        "the 0.418 0.24968 -0.41242 0.1217 0.34527 -0.044457 -0.49688 -0.17862 -0.00066023 -0.6566 0.27843 -0.14767 -0.55677 0.14658 -0.0095095 0.011658 0.10204 -0.12792 -0.8443 -0.12181 -0.016801 -0.33279 -0.1552 -0.23131 -0.19181 -1.8823 -0.76746 0.099051 -0.42125 -0.19526 4.0071 -0.18594 -0.52287 -0.31681 0.00059213 0.0074449 0.17778 -0.15897 0.012041 -0.054223 -0.29871 -0.15749 -0.34758 -0.045637 -0.44251 0.18785 0.0027849 -0.18411 -0.11514 -0.78581\r\n",
        "\r\n",
        ", 0.013441 0.23682 -0.16899 0.40951 0.63812 0.47709 -0.42852 -0.55641 -0.364 -0.23938 0.13001 -0.063734 -0.39575 -0.48162 0.23291 0.090201 -0.13324 0.078639 -0.41634 -0.15428 0.10068 0.48891 0.31226 -0.1252 -0.037512 -1.5179 0.12612 -0.02442 -0.042961 -0.28351 3.5416 -0.11956 -0.014533 -0.1499 0.21864 -0.33412 -0.13872 0.31806 0.70358 0.44858 -0.080262 0.63003 0.32111 -0.46765 0.22786 0.36034 -0.37818 -0.56657 0.044691 0.30392\r\n",
        "\r\n",
        "Let's make a dict mapping words (strings) to their NumPy vector representation:"
      ]
    },
    {
      "cell_type": "code",
      "metadata": {
        "colab": {
          "base_uri": "https://localhost:8080/"
        },
        "id": "Tcp1cFCvFASx",
        "outputId": "76be707a-0d3a-4be1-9a8b-910d196c4367"
      },
      "source": [
        "# we compute an index mapping words to known embeddings\r\n",
        "# by parsing the data dump of pre-trained embeddings:\r\n",
        "\r\n",
        "path_to_glove_file = '/content/gdrive/My Drive/glove.6B.100d.txt'\r\n",
        "\r\n",
        "embeddings_index = {}\r\n",
        "with open(path_to_glove_file) as f:\r\n",
        "    for line in f:\r\n",
        "      values = line.split()\r\n",
        "      word = values[0]\r\n",
        "      coefs = np.asarray(values[1:], dtype='float32')\r\n",
        "      embeddings_index[word] = coefs\r\n",
        "\r\n",
        "print(\"Found %s word vectors.\" % len(embeddings_index))"
      ],
      "execution_count": null,
      "outputs": []
    },
    {
      "cell_type": "markdown",
      "metadata": {
        "id": "2fo3bId0FUVh"
      },
      "source": [
        "Now, let's prepare a corresponding embedding matrix that we can use in a Keras Embedding layer. It's a simple NumPy matrix where entry at index i is the pre-trained vector for the word of index i in our vectorizer's vocabulary."
      ]
    },
    {
      "cell_type": "code",
      "metadata": {
        "colab": {
          "base_uri": "https://localhost:8080/"
        },
        "id": "NrIogMZQFXw9",
        "outputId": "8880b005-fed9-40d9-e531-4e60251773b2"
      },
      "source": [
        "num_tokens = len(voc) + 2\r\n",
        "# each word is represented by a vector of 100 floats (glove.6B.100d.txt)\r\n",
        "embedding_dim = 100\r\n",
        "hits = 0\r\n",
        "misses = 0\r\n",
        "missed_words = []\r\n",
        "\r\n",
        "# Prepare embedding matrix\r\n",
        "embedding_matrix = np.zeros((num_tokens, embedding_dim))\r\n",
        "# word_index is a dictionary that maps each word to an index\r\n",
        "# we loop through all the words of word_index.items()\r\n",
        "for word, i in word_index.items():\r\n",
        "# we try to retrieve the vector of 100 floats for this word out of embeddings_index  \r\n",
        "    embedding_vector = embeddings_index.get(word)\r\n",
        "# if we found the corresponding vector of 100 floats    \r\n",
        "    if embedding_vector is not None:\r\n",
        "      # we put the vector on position i of embedding_matrix\r\n",
        "        embedding_matrix[i] = embedding_vector\r\n",
        "        hits += 1    \r\n",
        "    else:\r\n",
        "      # Words not found in embedding index will be all-zeros.    \r\n",
        "        misses += 1\r\n",
        "        missed_words.append(word)\r\n",
        "        \r\n",
        "print(\"Converted %d words (%d misses)\" % (hits, misses))\r\n",
        "\r\n",
        "print(\"*** Missed words = words not in word_index ***\")\r\n",
        "print(missed_words[0:10])\r\n",
        "print()\r\n",
        "print(\"*** i has which index in word_index? ***\")\r\n",
        "index_i = word_index['i']\r\n",
        "print(index_i)\r\n",
        "print()\r\n",
        "print(\"*** the vector of 100 floats representing i ***\")\r\n",
        "print(embedding_matrix[index_i])\r\n",
        "print()\r\n",
        "print(\"*** cat has which index in word_index? ***\")\r\n",
        "index_cat = word_index['cat']\r\n",
        "print(index_cat)\r\n",
        "print()\r\n",
        "print(\"*** the vector of 100 floats representing cat ***\")\r\n",
        "print(embedding_matrix[index_cat])"
      ],
      "execution_count": null,
      "outputs": []
    },
    {
      "cell_type": "markdown",
      "metadata": {
        "id": "9P-VZMzkIdqT"
      },
      "source": [
        "### Build the model\r\n",
        "\r\n",
        "We load the pre-trained word embeddings matrix into an Embedding layer.\r\n",
        "All that the Embedding layer does is to map the integer inputs to the vectors found at the corresponding index in the embedding matrix, i.e. the sequence [1, 2] would be converted to [embedding_matrix[1], embedding_matrix[2]].\r\n",
        "Note that we set trainable=False so as to keep the embeddings fixed (we don't want to update them during training).\r\n",
        "\r\n",
        "A simple 1D convnet with global max pooling and a classifier at the end.\r\n",
        "![Conv1D.jpg](data:image/jpeg;base64,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)"
      ]
    },
    {
      "cell_type": "code",
      "metadata": {
        "id": "Ez33ioRO7_3k"
      },
      "source": [
        "num_classes = 2\r\n",
        "\r\n",
        "def initial_model():\r\n",
        "    # we create a variable called model, and we set it equal to an instance of a Sequential object.\r\n",
        "    model = Sequential()\r\n",
        "\r\n",
        "    model.add(Embedding(num_tokens, embedding_dim, embeddings_initializer=keras.initializers.Constant(embedding_matrix),trainable=False))\r\n",
        "    model.add(Conv1D(16,activation='relu',kernel_size=3))\r\n",
        "    model.add(MaxPooling1D(3))\r\n",
        "    model.add(Conv1D(16,activation='relu',kernel_size=3))\r\n",
        "    model.add(MaxPooling1D(3))    \r\n",
        "    model.add(Conv1D(16,activation='relu',kernel_size=3))\r\n",
        "    model.add(GlobalMaxPooling1D())\r\n",
        "    model.add(Dense(16, activation='relu', kernel_initializer='he_uniform'))    \r\n",
        "    model.add(Dropout(0.5))      \r\n",
        "    model.add(Dense(num_classes, activation='softmax'))\r\n",
        "\r\n",
        "\r\n",
        "    # Before we can train our model, we must compile it\r\n",
        "    # To the compile() function, we are passing the optimizer, the loss function, and the metrics that we would like to see. \r\n",
        "    # Notice that the optimizer we have specified is called Adam. Adam is just a variant of SGD. \r\n",
        "    model.compile(loss='categorical_crossentropy',\r\n",
        "                  optimizer= tf.keras.optimizers.Adam(learning_rate = 0.001),\r\n",
        "                  metrics=['accuracy']) \r\n",
        "    return model\r\n"
      ],
      "execution_count": null,
      "outputs": []
    },
    {
      "cell_type": "markdown",
      "metadata": {
        "id": "aElU90qXVV0I"
      },
      "source": [
        "### Train the model\r\n",
        "First, convert our list-of-strings data to NumPy arrays of integer indices. The arrays are right-padded."
      ]
    },
    {
      "cell_type": "code",
      "metadata": {
        "colab": {
          "base_uri": "https://localhost:8080/"
        },
        "id": "3x07Drl07zwE",
        "outputId": "8f2f457a-982c-4b51-9f41-bacbd4cb1cfa"
      },
      "source": [
        "X_train_final = vectorizer(np.array([s for s in X_train])).numpy()\r\n",
        "X_test_final = vectorizer(np.array([s for s in X_test])).numpy()\r\n",
        "\r\n",
        "y_train_final = np.array(y_train)\r\n",
        "y_test_final = np.array(y_test)\r\n",
        "\r\n",
        "print(X_train.shape)\r\n",
        "print(X_test.shape)\r\n",
        "print(X_train_final.shape)\r\n",
        "print(X_test_final.shape)\r\n",
        "print(y_train_final.shape)\r\n",
        "print(y_test_final.shape)"
      ],
      "execution_count": null,
      "outputs": []
    },
    {
      "cell_type": "code",
      "metadata": {
        "id": "SpGrdwWQ85iu",
        "colab": {
          "base_uri": "https://localhost:8080/"
        },
        "outputId": "0faa82c3-27a0-4655-f596-af2e6d051b1d"
      },
      "source": [
        "model_1 = initial_model()\r\n",
        "model_1.summary()\r\n",
        "\r\n",
        "\r\n",
        "# We now add batch size to the mix of training parameters\r\n",
        "# If you don't specify batch size below, all training data will be used for each learning step\r\n",
        "batch_size = 32\r\n",
        "epochs = 10\r\n",
        "\r\n",
        "history_1 = model_1.fit(X_train_final, y_train_final,\r\n",
        "                    batch_size=batch_size,\r\n",
        "                    epochs=epochs,\r\n",
        "                    verbose=1,\r\n",
        "                    validation_data=(X_test_final, y_test_final)\r\n",
        "                    )\r\n",
        "\r\n"
      ],
      "execution_count": null,
      "outputs": []
    },
    {
      "cell_type": "code",
      "metadata": {
        "colab": {
          "base_uri": "https://localhost:8080/",
          "height": 384
        },
        "id": "nCkT4JxmfP73",
        "outputId": "4cac0a61-731a-4937-8bed-6bff77442b49"
      },
      "source": [
        "# model_1 now contains the model at the end of the training run\r\n",
        "# We analyse the result:\r\n",
        "\r\n",
        "[train_loss, train_accuracy] = model_1.evaluate(X_train_final, y_train_final, verbose=0)\r\n",
        "print(\"Training set Accuracy:{:7.2f}\".format(train_accuracy))\r\n",
        "print(\"Training set Loss:{:7.4f}\\n\".format(train_loss))\r\n",
        "\r\n",
        "[val_loss, val_accuracy] = model_1.evaluate(X_test_final, y_test_final, verbose=0)\r\n",
        "print(\"Validation set Accuracy:{:7.2f}\".format(val_accuracy))\r\n",
        "print(\"Validation set Loss:{:7.4f}\\n\".format(val_loss))\r\n",
        "\r\n",
        "#Now we visualise what happened during training\r\n",
        "plot_history(history_1)"
      ],
      "execution_count": null,
      "outputs": []
    },
    {
      "cell_type": "code",
      "metadata": {
        "colab": {
          "base_uri": "https://localhost:8080/"
        },
        "id": "fACX0ULsgDjG",
        "outputId": "acf18f8e-9ba0-486c-8468-fbb20b15a2d0"
      },
      "source": [
        "X_example = vectorizer(np.array([s for s in [\"URGENT! Your Mobile No. was awarded a €2000 Bonus Caller Prize\"]])).numpy()\r\n",
        "pred = model_1.predict([X_example])\r\n",
        "print(pred)"
      ],
      "execution_count": null,
      "outputs": []
    },
    {
      "cell_type": "code",
      "metadata": {
        "colab": {
          "base_uri": "https://localhost:8080/"
        },
        "id": "vbMA5Svgg6od",
        "outputId": "b4aa14ee-28e5-49bc-f9e8-3630b106aca3"
      },
      "source": [
        "X_example = vectorizer(np.array([s for s in [\"Please call me\"]])).numpy()\r\n",
        "pred = model_1.predict([X_example])\r\n",
        "print(pred)"
      ],
      "execution_count": null,
      "outputs": []
    }
  ]
}