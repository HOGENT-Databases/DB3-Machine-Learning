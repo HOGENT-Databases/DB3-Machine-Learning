{
 "cells": [
  {
   "cell_type": "markdown",
   "metadata": {
    "slideshow": {
     "slide_type": "-"
    }
   },
   "source": [
    "# Workshop AI and Machine Learning with Python\n",
    "Johan Decorte  - Sabine De Vreese\n",
    "  \n",
    ">_Waag u nooit aan voorspellingen, want als U fout voorspelt zal niemand het vergeten_\n",
    ">_en als U juist voorspelt zal niemand het zich herinneren._\n",
    ">  \n",
    ">Mark Eyskens  \n",
    "  \n",
    "## Table of Contents\n",
    "1. Exploring, Cleaning and transforming data in Python  \n",
    "    1. [Introduction to Python](notebooks/Python_Introduction.ipynb)  \n",
    "    1. [Exercises: Introduction to Python](notebooks/Python_Introduction_Exercises.ipynb)  \n",
    "    1. [Introduction to Numpy](notebooks/NumPy_Introduction.ipynb)  \n",
    "    1. [Exercises: Introduction to Numpy](notebooks/NumPy_Introduction_Exercises.ipynb) \n",
    "    1. [Introduction to Pandas](notebooks/Pandas_Introduction.ipynb)  \n",
    "    1. [Pandas Analytics: case Census](notebooks/pandas_analytics_case_census.ipynb)\n",
    "    1. [Pandas Analytics: case Parking](notebooks/pandas_analytics_case_parking.ipynb)     \n",
    "    1. [Matplotlib: case Corona](notebooks/matplotlib_corona.ipynb)    \n",
    "    1. [Exercises: Pandas Analytics](notebooks/pandas_analytics_exercise.ipynb)\n",
    "1. [Artificial Intelligence, Data Mining and Machine Learning](notebooks/AI_DM_ML.ipynb)  \n",
    "1. [The analytics process model](notebooks/ProcessModel.ipynb)  \n",
    "1. [Data Exploration](notebooks/Exploration_Titanic.ipynb)\n",
    "1. Some Classification Algorithms  \n",
    "    1. [Naive Bayes Classification](notebooks/naive_bayes_classification.ipynb)  \n",
    "    1. [Tree Classification](notebooks/tree_classification.ipynb)  \n",
    "    1. [Logistic Regression](notebooks/logistic_regression.ipynb)  \n",
    "    1. [Ensemble methods](notebooks/ensemble_methods.ipynb)  \n",
    "    1. [Estimating the predictive accuracy of a classifier](notebooks/predictive_accuracy.ipynb)  \n",
    "1. [Machine Learning with Python Scikit-Learn](notebooks/scikit-learn.ipynb)\n",
    "    1. [Naive Bayes Classification: case Titanic](notebooks/NB_titanic.ipynb)\n",
    "    1. [Random Forest Classification: case Titanic](notebooks/RF_titanic.ipynb)\n",
    "    1. [Exercise: TODO EXERCISE RANDOM FOREST](notebooks/*.ipynb)    \n",
    "    1. [Logistic Regression: case Titanic](notebooks/LR_titanic.ipynb)\n",
    "    1. [Ensemble: case Titanic](notebooks/ENS_titanic.ipynb)   \n",
    "    1. [Ensemble: exercise Diabetes](notebooks/ENS_exercise_diabetes.ipynb)\n",
    "    1. [Model deployment](notebooks/model_deployment.ipynb)\n",
    "1. Regression\n",
    "    1. [Simple Linear Regression](notebooks/simple_linear_regression.ipynb)\n",
    "    1. [Multiple Linear Regression](notebooks/multiple_linear_regression.ipynb)\n",
    "    1. [Polynomial Regression](notebooks/polynomial_regression.ipynb)\n",
    "    1. [Random Forest Regression: case blue-bike](notebooks/RF_bluebike.ipynb)\n",
    "    1. [Exercise: Demographic Student Score](notebooks/exercise_demographicstudentscore.ipynb)\n",
    "    1. [Exercise: Building OAT](notebooks/exercise_building_oat.ipynb)\n",
    "1. Image Classification  \n",
    "    1. [Case: digit recognition - data exploration](notebooks/Explore_Digit_Recognition.ipynb)\n",
    "    1. [Image classificition with a Random Forest Classifier](notebooks/RF_Digit_Recognition.ipynb)\n",
    "    1. [Image Classification with Artifical Neural Networks in Keras](notebooks/ANN_Digit_Recognition.ipynb)  \n",
    "    1. [Exercise: Zalando images with ANN](notebooks/ANN_Zalando.ipynb)\n",
    "    1. [Convolutional Neural Networks](notebooks/CNN_Digit_Recognition.ipynb)\n",
    "    1. [Exercise: Zalando images with CNN](notebooks/CNN_Zalando.ipynb)\n",
    "1. [References](notebooks/references.ipynb)\n",
    "1. Solutions\n",
    "    1. [Exercises: Introduction to Python](notebooks/Python_Introduction_Exercises_Solutions.ipynb)  "
   ]
  }
 ],
 "metadata": {
  "celltoolbar": "Slideshow",
  "kernelspec": {
   "display_name": "Python 3",
   "language": "python",
   "name": "python3"
  },
  "language_info": {
   "codemirror_mode": {
    "name": "ipython",
    "version": 3
   },
   "file_extension": ".py",
   "mimetype": "text/x-python",
   "name": "python",
   "nbconvert_exporter": "python",
   "pygments_lexer": "ipython3",
   "version": "3.8.3"
  },
  "nbTranslate": {
   "displayLangs": [
    "*"
   ],
   "hotkey": "alt-t",
   "langInMainMenu": true,
   "sourceLang": "en",
   "targetLang": "fr",
   "useGoogleTranslate": true
  },
  "rise": {
   "scroll": true
  }
 },
 "nbformat": 4,
 "nbformat_minor": 2
}