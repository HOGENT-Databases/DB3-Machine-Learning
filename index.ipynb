{
 "cells": [
  {
   "cell_type": "markdown",
   "metadata": {
    "slideshow": {
     "slide_type": "-"
    }
   },
   "source": [
    "# Workshop AI and Machine Learning with Python\n",
    "Johan Decorte  - Sabine De Vreese\n",
    "  \n",
    ">_The development of full artificial intelligence could spell_\n",
    ">_the end of the human race….It would take off on its own,_ \n",
    ">_and re-design itself at an ever-increasing rate._ \n",
    ">_Humans, who are limited by slow biological evolution,_ \n",
    ">_couldn’t compete, and would be superseded.”_\n",
    ">\n",
    ">Stephen Hawking, BBC\n",
    "    \n",
    "## Table of Contents\n",
    "1. Exploring, Cleaning and transforming data in Python  \n",
    "    1. [Introduction to Python](notebooks/Python_Introduction.ipynb)  \n",
    "    1. [Exercises: Introduction to Python](notebooks/Python_Introduction_Exercises.ipynb)  \n",
    "    1. [Introduction to Numpy](notebooks/NumPy_Introduction.ipynb)  \n",
    "    1. [Pandas & Matplotlib: case Corona](notebooks/Pandas_Matplotlib_Case_Corona.ipynb)  \n",
    "    1. [Pandas: exercise Census](notebooks/Pandas_Exercise_Census.ipynb)\n",
    "    1. [Pandas: exercise Blogs](notebooks/Pandas_Exercise_Blogs.ipynb)     \n",
    "    1. [Pandas: exercise Parking](notebooks/pandas_exercise_parking.ipynb)     \n",
    "1. [Artificial Intelligence, Data Mining and Machine Learning](notebooks/AI_DM_ML.ipynb)  \n",
    "1. [The analytics process model](notebooks/ProcessModel.ipynb)  \n",
    "1. [Data Exploration](notebooks/Exploration_Titanic.ipynb)\n",
    "1. Some Classification Algorithms  \n",
    "    1. [Naive Bayes Classification](notebooks/naive_bayes_classification.ipynb)  \n",
    "    1. [Tree Classification](notebooks/tree_classification.ipynb)  \n",
    "    1. [Logistic Regression](notebooks/logistic_regression.ipynb)  \n",
    "    1. [Ensemble methods](notebooks/ensemble_methods.ipynb)  \n",
    "    1. [Estimating the predictive accuracy of a classifier](notebooks/predictive_accuracy.ipynb)  \n",
    "1. [Machine Learning with Python Scikit-Learn](notebooks/scikit-learn.ipynb)\n",
    "    1. [Naive Bayes Classification: case Titanic](notebooks/NB_titanic.ipynb)\n",
    "    1. [Random Forest Classification: case Titanic](notebooks/RF_titanic.ipynb)\n",
    "    1. [Random Forest Classification: exercise Mammography ](notebooks/RF_exercise_mammography.ipynb)    \n",
    "    1. [Logistic Regression: case Titanic](notebooks/LR_titanic.ipynb)\n",
    "    1. [Ensemble: case Titanic](notebooks/ENS_titanic.ipynb)   \n",
    "    1. [Ensemble: exercise Diabetes](notebooks/ENS_exercise_diabetes.ipynb)\n",
    "    1. [Model deployment](notebooks/model_deployment.ipynb)\n",
    "1. Regression\n",
    "    1. [Simple Linear Regression](notebooks/simple_linear_regression.ipynb)\n",
    "    1. [Multiple Linear Regression](notebooks/multiple_linear_regression.ipynb)\n",
    "    1. [Polynomial Regression](notebooks/polynomial_regression.ipynb)\n",
    "    1. [Random Forest Regression: case blue-bike](notebooks/RF_bluebike.ipynb)\n",
    "    1. [Exercise: Demographic Student Score](notebooks/exercise_demographicstudentscore.ipynb)\n",
    "    1. [Exercise: Building OAT](notebooks/exercise_building_oat.ipynb)\n",
    "1. Image Classification  \n",
    "    1. [Case: digit recognition - data exploration](notebooks/Explore_Digit_Recognition.ipynb)\n",
    "    1. [Image classificition with a Random Forest Classifier](notebooks/RF_Digit_Recognition.ipynb)\n",
    "    1. [Image Classification with Artifical Neural Networks in Keras](notebooks/ANN_Digit_Recognition.ipynb)  \n",
    "    1. [Exercise: Zalando images with ANN](notebooks/ANN_Zalando.ipynb)\n",
    "    1. [Convolutional Neural Networks](notebooks/CNN_Digit_Recognition.ipynb)\n",
    "    1. [Exercise: Zalando images with CNN](notebooks/CNN_Zalando.ipynb)\n",
    "1. [References](notebooks/references.ipynb)\n",
    "1. Solutions\n",
    "    1. [Introduction to Python](notebooks/Python_Introduction_Exercises_Solutions.ipynb)  \n",
    "    1. [Pandas: Census](notebooks/Pandas_Exercise_Census_Solutions.ipynb)  \n",
    "    1. [Pandas: Blogs](notebooks/Pandas_Exercise_Blogs_Solutions_Part1.ipynb)  \n",
    "    1. [Pandas: Parking](notebooks/Pandas_Exercise_Parking_Solutions.ipynb) "
   ]
  }
 ],
 "metadata": {
  "celltoolbar": "Slideshow",
  "kernelspec": {
   "display_name": "Python 3",
   "language": "python",
   "name": "python3"
  },
  "language_info": {
   "codemirror_mode": {
    "name": "ipython",
    "version": 3
   },
   "file_extension": ".py",
   "mimetype": "text/x-python",
   "name": "python",
   "nbconvert_exporter": "python",
   "pygments_lexer": "ipython3",
   "version": "3.8.3"
  },
  "nbTranslate": {
   "displayLangs": [
    "*"
   ],
   "hotkey": "alt-t",
   "langInMainMenu": true,
   "sourceLang": "en",
   "targetLang": "fr",
   "useGoogleTranslate": true
  },
  "rise": {
   "scroll": true
  }
 },
 "nbformat": 4,
 "nbformat_minor": 2
}